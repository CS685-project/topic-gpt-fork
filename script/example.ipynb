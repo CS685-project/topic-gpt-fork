{
 "cells": [
  {
   "cell_type": "markdown",
   "metadata": {},
   "source": [
    "!pip install -r requirements.txt"
   ]
  },
  {
   "cell_type": "code",
   "execution_count": 1,
   "metadata": {},
   "outputs": [],
   "source": [
    "data_file = \"../data/input/ipg240319_filtered.jsonl\"\n",
    "# The data_sample file seems to only be a placeholder\n",
    "data_sample = data_file\n",
    "\n",
    "# Generation I/O\n",
    "generation_prompt = \"../prompt/generation_1.txt\"\n",
    "seed_1 = \"../prompt/seed_1.md\"\n",
    "generation_out = \"../data/output/generation_1.jsonl\"\n",
    "generation_topic = \"../data/output/generation_1.md\"\n",
    "\n",
    "# Refinement I/O\n",
    "refinement_prompt = \"../prompt/refinement.txt\"\n",
    "refinement_out = \"../data/output/refinement.jsonl\"\n",
    "refinement_topic = \"../data/output/refinement.md\"\n",
    "refinement_mapping = \"../data/output/refinement_mapping.txt\"\n",
    "refinement_updated = \"../data/output/refinement_updated.jsonl\"\n",
    "\n",
    "# Generation 2 I/O\n",
    "generation_2_prompt = \"../prompt/generation_2.txt\"\n",
    "generation_2_out = \"../data/output/generation_2.jsonl\"\n",
    "generation_2_topic = \"../data/output/generation_2.md\"\n",
    "\n",
    "# Assignment I/O\n",
    "assignment_prompt = \"../prompt/assignment.txt\"\n",
    "assignment_out = \"../data/output/assignment.jsonl\"\n",
    "\n",
    "# Correction I/O\n",
    "correction_prompt = \"../prompt/correction.txt\"\n",
    "correction_out = \"../data/output/assignment_corrected.jsonl\""
   ]
  },
  {
   "cell_type": "code",
   "execution_count": 2,
   "metadata": {
    "vscode": {
     "languageId": "shellscript"
    }
   },
   "outputs": [
    {
     "name": "stderr",
     "output_type": "stream",
     "text": [
      "c:\\Users\\Mattis\\envs\\cs685-project-env\\lib\\site-packages\\tqdm\\auto.py:21: TqdmWarning: IProgress not found. Please update jupyter and ipywidgets. See https://ipywidgets.readthedocs.io/en/stable/user_install.html\n",
      "  from .autonotebook import tqdm as notebook_tqdm\n",
      "  1%|          | 1/130 [00:07<15:40,  7.29s/it]"
     ]
    },
    {
     "name": "stdout",
     "output_type": "stream",
     "text": [
      "Document: 1\n",
      "Topics: [1] Sensing Technology: Gas sensors with restricting portions for improved stability and contact.\n",
      "--------------------\n"
     ]
    },
    {
     "name": "stderr",
     "output_type": "stream",
     "text": [
      "  2%|▏         | 2/130 [00:13<14:07,  6.62s/it]"
     ]
    },
    {
     "name": "stdout",
     "output_type": "stream",
     "text": [
      "Document: 2\n",
      "Topics: [1] Irrigation Systems: Predictive soil moisture control for efficient water usage.\n",
      "\n",
      "This topic is generalizable and broad enough to accommodate future subtopics related to irrigation systems, predictive soil moisture control, and water usage efficiency.\n",
      "--------------------\n"
     ]
    },
    {
     "name": "stderr",
     "output_type": "stream",
     "text": [
      "  2%|▏         | 3/130 [00:19<13:08,  6.21s/it]"
     ]
    },
    {
     "name": "stdout",
     "output_type": "stream",
     "text": [
      "Document: 3\n",
      "Topics: [1] Energy Sector: Solar energy absorption using nanofluids for greenhouse cooling.\n",
      "--------------------\n"
     ]
    },
    {
     "name": "stderr",
     "output_type": "stream",
     "text": [
      "  3%|▎         | 4/130 [00:25<13:16,  6.32s/it]"
     ]
    },
    {
     "name": "stdout",
     "output_type": "stream",
     "text": [
      "Document: 4\n",
      "Topics: [1] Sensing Technology: Detection and application of plant growth enhancers, such as 1-octen-3-ol, using biotechnology.\n",
      "\n",
      "[Explanation] The document discusses the use of 1-octen-3-ol, a metabolite produced by Trichoderma strains, for enhancing plant growth and productivity. The document does not mention any specific technology or algorithm related to sensing or product design. However, the topic \"Sensing Technology: Detection and application of plant growth enhancers\" is generalizable enough to accommodate future subtopics related to the detection and application of various plant growth enhancers using different sensing technologies.\n",
      "--------------------\n"
     ]
    },
    {
     "name": "stderr",
     "output_type": "stream",
     "text": [
      "  4%|▍         | 5/130 [00:31<12:41,  6.10s/it]"
     ]
    },
    {
     "name": "stdout",
     "output_type": "stream",
     "text": [
      "Document: 5\n",
      "Topics: [1] Product Design: Waste collection system for autonomous cleaning robots using filtering bags and dissolvable paper sachets.\n",
      "--------------------\n"
     ]
    },
    {
     "name": "stderr",
     "output_type": "stream",
     "text": [
      "  5%|▍         | 6/130 [00:37<12:24,  6.01s/it]"
     ]
    },
    {
     "name": "stdout",
     "output_type": "stream",
     "text": [
      "Document: 6\n",
      "Topics: [1] Material Science: Development of a metal component with specific dimensions and alloy composition, not using traditional manufacturing methods.\n",
      "--------------------\n"
     ]
    },
    {
     "name": "stderr",
     "output_type": "stream",
     "text": [
      "  5%|▌         | 7/130 [00:43<12:40,  6.19s/it]"
     ]
    },
    {
     "name": "stdout",
     "output_type": "stream",
     "text": [
      "Document: 7\n",
      "Topics: [1] Material Science: Post-processing techniques for removing support structures and modifying surfaces of 3D printed metal parts.\n",
      "[1] Additive Manufacturing: Processes for removing unstable portions of metal parts fabricated through additive manufacturing.\n",
      "[1] Chemical Engineering: Chemical and electrochemical methods for removing material from 3D printed metal parts.\n",
      "[1] Metallurgy: Treatment of metal surfaces to make them mechanically and chemically unstable for selective material removal.\n",
      "[1] Engineering: Processes for smoothing surfaces and removing trapped powder from 3D printed metal parts.\n",
      "--------------------\n"
     ]
    },
    {
     "name": "stderr",
     "output_type": "stream",
     "text": [
      "  6%|▌         | 8/130 [00:49<12:25,  6.11s/it]"
     ]
    },
    {
     "name": "stdout",
     "output_type": "stream",
     "text": [
      "Document: 8\n",
      "Topics: [1] Laser Technology: Control systems for arrays of lasers, generating trigger signals based on laser array position, and selectively firing lasers based on desired energy patterns.\n",
      "--------------------\n"
     ]
    },
    {
     "name": "stderr",
     "output_type": "stream",
     "text": [
      "  7%|▋         | 9/130 [00:56<12:35,  6.24s/it]"
     ]
    },
    {
     "name": "stdout",
     "output_type": "stream",
     "text": [
      "Document: 9\n",
      "Topics: [1] Engineering: Mobile steel grit dryers with configurable functions and features for efficient steel structure maintenance.\n",
      "[1] Engineering: External frames for improved durability during transportation.\n",
      "[1] Engineering: Automation and safety features for simplified and safer operation.\n",
      "[1] Industrial Equipment: Mobile steel grit dryers for structure maintenance and resurfacing.\n",
      "[1] Vacuum Systems: Off-board vacuum systems for steel grit dryers.\n",
      "[1] Industrial Automation: Automation features for steel grit dryers.\n",
      "[1] Safety Systems: Safety features for steel grit dryer operation.\n",
      "--------------------\n"
     ]
    },
    {
     "name": "stderr",
     "output_type": "stream",
     "text": [
      "  8%|▊         | 10/130 [01:02<12:14,  6.12s/it]"
     ]
    },
    {
     "name": "stdout",
     "output_type": "stream",
     "text": [
      "Document: 10\n",
      "Topics: [1] Robotics: Simulation of robotic system behavior for improved control and performance.\n",
      "--------------------\n"
     ]
    },
    {
     "name": "stderr",
     "output_type": "stream",
     "text": [
      "  8%|▊         | 11/130 [01:07<11:57,  6.03s/it]"
     ]
    },
    {
     "name": "stdout",
     "output_type": "stream",
     "text": [
      "Document: 11\n",
      "Topics: [1] Industrial Automation: Predictive maintenance and load adjustment for optimizing robot operation and reducing downtime.\n",
      "--------------------\n"
     ]
    },
    {
     "name": "stderr",
     "output_type": "stream",
     "text": [
      "  9%|▉         | 12/130 [01:13<11:41,  5.94s/it]"
     ]
    },
    {
     "name": "stdout",
     "output_type": "stream",
     "text": [
      "Document: 12\n",
      "Topics: [1] Industrial Automation: Real-time monitoring and analysis of work equipment state data for identifying and determining abnormalities.\n",
      "--------------------\n"
     ]
    },
    {
     "name": "stderr",
     "output_type": "stream",
     "text": [
      " 10%|█         | 13/130 [01:19<11:35,  5.94s/it]"
     ]
    },
    {
     "name": "stdout",
     "output_type": "stream",
     "text": [
      "Document: 13\n",
      "Topics: [1] Additive Manufacturing: Real-time quality evaluation and control using a multi-sensor system for process anomalies, variations, and material properties.\n",
      "--------------------\n"
     ]
    },
    {
     "name": "stderr",
     "output_type": "stream",
     "text": [
      " 11%|█         | 14/130 [01:25<11:43,  6.06s/it]"
     ]
    },
    {
     "name": "stdout",
     "output_type": "stream",
     "text": [
      "Document: 14\n",
      "Topics: Based on the document, the following topic could be identified:\n",
      "\n",
      "[1] Power Electronics: Design of a cost-effective rectifier using MOSFETs and specific diodes (Schottky barrier diodes or MOSFETs with short-circuited drain and gate terminals).\n",
      "--------------------\n"
     ]
    },
    {
     "name": "stderr",
     "output_type": "stream",
     "text": [
      " 12%|█▏        | 15/130 [01:31<11:33,  6.03s/it]"
     ]
    },
    {
     "name": "stdout",
     "output_type": "stream",
     "text": [
      "Document: 15\n",
      "Topics: [1] Industrial Automation: Mobile robot with a pneumatic charging system utilizing external pneumatic supply for energy conversion.\n",
      "--------------------\n"
     ]
    },
    {
     "name": "stderr",
     "output_type": "stream",
     "text": [
      " 12%|█▏        | 16/130 [01:37<11:24,  6.00s/it]"
     ]
    },
    {
     "name": "stdout",
     "output_type": "stream",
     "text": [
      "Document: 16\n",
      "Topics: [1] Energy Sector: Power supply systems for vehicles, including battery, power supply device, and control device functionality.\n",
      "[1] Industrial Automation: Control systems for power supply and vehicle charging, including fuel level sensing and pricing strategies.\n",
      "--------------------\n"
     ]
    },
    {
     "name": "stderr",
     "output_type": "stream",
     "text": [
      " 13%|█▎        | 17/130 [01:43<11:09,  5.92s/it]"
     ]
    },
    {
     "name": "stdout",
     "output_type": "stream",
     "text": [
      "Document: 17\n",
      "Topics: [1] Energy Management: Predicting power and energy consumption/generation for battery and renewable energy systems, determining charge thresholds and engine activation.\n",
      "--------------------\n"
     ]
    },
    {
     "name": "stderr",
     "output_type": "stream",
     "text": [
      " 14%|█▍        | 18/130 [01:49<10:58,  5.88s/it]"
     ]
    },
    {
     "name": "stdout",
     "output_type": "stream",
     "text": [
      "Document: 18\n",
      "Topics: [1] Energy Sector: Battery Technology: Motor vehicle multi-voltage battery devices with switchable series circuits and battery management systems.\n",
      "--------------------\n"
     ]
    },
    {
     "name": "stderr",
     "output_type": "stream",
     "text": [
      " 15%|█▍        | 19/130 [01:55<10:53,  5.89s/it]"
     ]
    },
    {
     "name": "stdout",
     "output_type": "stream",
     "text": [
      "Document: 19\n",
      "Topics: [1] Energy Management: Power storage and generation control in vehicles to maintain sufficient power for on-board systems.\n",
      "--------------------\n"
     ]
    },
    {
     "name": "stderr",
     "output_type": "stream",
     "text": [
      " 15%|█▌        | 20/130 [02:01<10:49,  5.90s/it]"
     ]
    },
    {
     "name": "stdout",
     "output_type": "stream",
     "text": [
      "Document: 20\n",
      "Topics: [1] Energy Management: Controlling electrical energy transfer between vehicles based on energy levels and regenerative braking events.\n",
      "--------------------\n"
     ]
    },
    {
     "name": "stderr",
     "output_type": "stream",
     "text": [
      " 16%|█▌        | 21/130 [02:07<10:44,  5.91s/it]"
     ]
    },
    {
     "name": "stdout",
     "output_type": "stream",
     "text": [
      "Document: 21\n",
      "Topics: [1] Human-Powered Vehicles: Control systems for optimizing transmission ratios for improved comfort, independent of road gradient, manual operation, and propulsion assistance information.\n",
      "--------------------\n"
     ]
    },
    {
     "name": "stderr",
     "output_type": "stream",
     "text": [
      " 17%|█▋        | 22/130 [02:13<11:05,  6.17s/it]"
     ]
    },
    {
     "name": "stdout",
     "output_type": "stream",
     "text": [
      "Document: 22\n",
      "Topics: [1] Renewable Energy: Tuned mass damper systems for improving stability in floating offshore wind turbines.\n",
      "\n",
      "[Explanation] The document discusses a tuned mass damper (TMD) system used in a floating offshore wind turbine (FOWT) platform. The TMD system is designed to improve the stability of the platform by reducing the motion caused by wind and waves. The document mentions two TMDs, one operating at a first frequency and the other at a second frequency. This topic is relevant to renewable energy, specifically offshore wind energy, and the use of TMD systems to enhance the performance and stability of wind turbines.\n",
      "--------------------\n"
     ]
    },
    {
     "name": "stderr",
     "output_type": "stream",
     "text": [
      " 18%|█▊        | 23/130 [02:20<11:12,  6.28s/it]"
     ]
    },
    {
     "name": "stdout",
     "output_type": "stream",
     "text": [
      "Document: 23\n",
      "Topics: [1] Aerospace Engineering: Design and conversion of aircraft for enhanced cargo capacity through the addition of a cargo module.\n",
      "\n",
      "[1] Product Design: Design and development of cargo modules for aircraft to increase cargo capacity.\n",
      "\n",
      "[1] Engineering: Design and manufacturing of cargo handling systems for transporting and securing cargo units within aircraft.\n",
      "\n",
      "[1] Industrial Equipment: Cargo handling systems for transporting and securing cargo units within aircraft.\n",
      "\n",
      "[1] Material Science: Development of materials for cargo modules and external aerodynamic fairings.\n",
      "\n",
      "[1] Manufacturing: Production of cargo modules and their conformal affixing to aircraft.\n",
      "\n",
      "[1] Logistics: Management and transportation of cargo using enhanced cargo capacity aircraft.\n",
      "--------------------\n"
     ]
    },
    {
     "name": "stderr",
     "output_type": "stream",
     "text": [
      " 18%|█▊        | 24/130 [02:27<11:28,  6.49s/it]"
     ]
    },
    {
     "name": "stdout",
     "output_type": "stream",
     "text": [
      "Document: 24\n",
      "Topics: [1] Energy Sector: Hybrid propulsion systems using gas turbines, electric generators, and energy storage for efficient power management.\n",
      "\n",
      "[1] Energy Management: Monitoring and controlling the voltage of DC buses and managing the hybridization rate in energy storage systems.\n",
      "\n",
      "[1] Industrial Automation: Control modules and power management systems for optimizing the performance of hybrid propulsion units.\n",
      "\n",
      "[1] Power Electronics: Electric rectifiers, inverters, and passive components for converting and managing electrical power in hybrid propulsion systems.\n",
      "\n",
      "[1] Renewable Energy: Integration of hybrid propulsion systems with renewable energy sources for sustainable power generation and distribution.\n",
      "\n",
      "[1] Engineering: Design and implementation of hybrid propulsion systems for efficient energy conversion and management.\n",
      "--------------------\n"
     ]
    },
    {
     "name": "stderr",
     "output_type": "stream",
     "text": [
      " 19%|█▉        | 25/130 [02:33<11:03,  6.32s/it]"
     ]
    },
    {
     "name": "stdout",
     "output_type": "stream",
     "text": [
      "Document: 25\n",
      "Topics: Based on the document, the following topic could be identified:\n",
      "\n",
      "[1] Insulation Systems: Design and construction of insulation systems using hinged components for improved flexibility and installation.\n",
      "--------------------\n"
     ]
    },
    {
     "name": "stderr",
     "output_type": "stream",
     "text": [
      " 20%|██        | 26/130 [02:39<10:51,  6.27s/it]"
     ]
    },
    {
     "name": "stdout",
     "output_type": "stream",
     "text": [
      "Document: 26\n",
      "Topics: [1] Energy Sector: On-site hydrogen production through reforming process with combined heat exchanger components for size, cost, and efficiency improvements.\n",
      "--------------------\n"
     ]
    },
    {
     "name": "stderr",
     "output_type": "stream",
     "text": [
      " 21%|██        | 27/130 [02:45<10:35,  6.17s/it]"
     ]
    },
    {
     "name": "stdout",
     "output_type": "stream",
     "text": [
      "Document: 27\n",
      "Topics: [1] Material Science: Graphene and fullerene nanotubes for various applications including body armor, semiconductors, battery anodes, solar panels, heat sinks, structural materials, and composites.\n",
      "--------------------\n"
     ]
    },
    {
     "name": "stderr",
     "output_type": "stream",
     "text": [
      " 22%|██▏       | 28/130 [02:51<10:22,  6.10s/it]"
     ]
    },
    {
     "name": "stdout",
     "output_type": "stream",
     "text": [
      "Document: 28\n",
      "Topics: [1] Material Science: Synthesis of high-value carbon nanotubes using induction heating and catalytic CVD from high molecular polymeric wastes.\n",
      "--------------------\n"
     ]
    },
    {
     "name": "stderr",
     "output_type": "stream",
     "text": [
      " 22%|██▏       | 29/130 [02:57<10:17,  6.11s/it]"
     ]
    },
    {
     "name": "stdout",
     "output_type": "stream",
     "text": [
      "Document: 29\n",
      "Topics: [1] Chemical Engineering: Preparation of diisocyanates using hydrochloric acid solution and triphosgene instead of traditional methods.\n",
      "[1] Material Science: Control of water content in diamine hydrochloride compositions for producing high-quality diisocyanates and optical lenses.\n",
      "--------------------\n"
     ]
    },
    {
     "name": "stderr",
     "output_type": "stream",
     "text": [
      " 23%|██▎       | 30/130 [03:03<10:11,  6.12s/it]"
     ]
    },
    {
     "name": "stdout",
     "output_type": "stream",
     "text": [
      "Document: 30\n",
      "Topics: [1] Chemical Engineering: Synthesis of glufosinate or its analogues through a reaction between a compound of formula (II), an alcohol of formula (III), and a compound of formula (V), followed by hydrolysis.\n",
      "--------------------\n"
     ]
    },
    {
     "name": "stderr",
     "output_type": "stream",
     "text": [
      " 24%|██▍       | 31/130 [03:10<10:43,  6.50s/it]"
     ]
    },
    {
     "name": "stdout",
     "output_type": "stream",
     "text": [
      "Document: 31\n",
      "Topics: [1] Biomass Processing: Converting biomass into high-crystallinity nanocellulose with low mechanical energy input.\n",
      "[1] Nanocellulose: Production of high-crystallinity nanocellulose from biomass for use in composites.\n",
      "[1] Material Science: Nanocellulose as a renewable material for composite reinforcement.\n",
      "[1] Chemical Engineering: Processing biomass into nanocellulose using acid, solvent, and water.\n",
      "[1] Engineering: Developing processes for producing high-crystallinity nanocellulose from biomass.\n",
      "[1] Renewable Composites: Combining nanocellulose with polymers derived from biomass for completely renewable composites.\n",
      "[1] Lignin: Deposition of lignin onto nanocellulose surface for hydrophobic properties.\n",
      "[1] Fermentation: Separately fermenting sugars derived from amorphous cellulose and hemicellulose.\n",
      "--------------------\n"
     ]
    },
    {
     "name": "stderr",
     "output_type": "stream",
     "text": [
      " 25%|██▍       | 32/130 [03:18<10:54,  6.68s/it]"
     ]
    },
    {
     "name": "stdout",
     "output_type": "stream",
     "text": [
      "Document: 32\n",
      "Topics: [1] Material Science: Synthesis of antibacterial super-porous hydrogel using poly(ionic liquid) and photo-crosslinking.\n",
      "[1] Water Treatment: Application of antibacterial super-porous hydrogel in wastewater treatment for pollutant degradation.\n",
      "[1] Polymer Science: Preparation of super-porous hydrogel through copolymerization of ionic liquid and PEGDA.\n",
      "[1] Nanotechnology: Synthesis and application of antibacterial super-porous hydrogel in water treatment.\n",
      "[1] Environmental Science: Use of antibacterial super-porous hydrogel for wastewater treatment and pollutant removal.\n",
      "[1] Chemical Engineering: Production of antibacterial super-porous hydrogel for water treatment applications.\n",
      "[1] Green Chemistry: Synthesis of antibacterial super-porous hydrogel using a green method and its application in wastewater treatment.\n",
      "--------------------\n"
     ]
    },
    {
     "name": "stderr",
     "output_type": "stream",
     "text": [
      " 25%|██▌       | 33/130 [03:24<10:46,  6.66s/it]"
     ]
    },
    {
     "name": "stdout",
     "output_type": "stream",
     "text": [
      "Document: 33\n",
      "Topics: [1] Energy Sector: Gas fermentation and gasification process integration for improved syngas yield and quality through tail gas recycling.\n",
      "\n",
      "[Explanation] The document discusses the integration of a gas fermentation process with a gasification process, specifically focusing on the recycling of tail gas from the former to the latter for heat generation. The heat produced from the tail gas is used to dry feedstock for the gasification process, resulting in improved syngas yield and quality. This topic can be considered a subtopic of Energy Sector, as it deals with the efficient use of energy in the production of syngas.\n",
      "--------------------\n"
     ]
    },
    {
     "name": "stderr",
     "output_type": "stream",
     "text": [
      " 26%|██▌       | 34/130 [03:30<10:15,  6.41s/it]"
     ]
    },
    {
     "name": "stdout",
     "output_type": "stream",
     "text": [
      "Document: 34\n",
      "Topics: [1] Material Science: Use of organometallic salts as lubricant additives to prevent white etching cracks.\n",
      "--------------------\n"
     ]
    },
    {
     "name": "stderr",
     "output_type": "stream",
     "text": [
      " 27%|██▋       | 35/130 [03:37<10:22,  6.55s/it]"
     ]
    },
    {
     "name": "stdout",
     "output_type": "stream",
     "text": [
      "Document: 35\n",
      "Topics: [1] Biotechnology: RNAi technology for controlling Coleopteran insects through gene silencing of PSMB5.\n",
      "\n",
      "[Explanation] The document discusses the use of RNAi molecules for controlling Coleopteran insects by targeting the PSMB5 gene. This topic is generalizable and can be considered a subtopic of biotechnology, specifically RNAi technology. The topic label \"Biotechnology: RNAi technology for controlling Coleopteran insects through gene silencing of PSMB5\" is broad enough to accommodate future subtopics related to RNAi technology and its applications in controlling insects or other organisms.\n",
      "--------------------\n"
     ]
    },
    {
     "name": "stderr",
     "output_type": "stream",
     "text": [
      " 28%|██▊       | 36/130 [03:43<10:15,  6.55s/it]"
     ]
    },
    {
     "name": "stdout",
     "output_type": "stream",
     "text": [
      "Document: 36\n",
      "Topics: [1] Chemical Engineering: Production of hexanol and butanol using ethanol and synthesis gas.\n",
      "[1] Fermentation: Economical production of hexanol and butanol through fermentation processes.\n",
      "[1] Energy Sector: Utilization of inexpensive synthesis gas for the production of hexanol and butanol.\n",
      "[1] Engineering: Design and optimization of processes for the efficient production of hexanol and butanol.\n",
      "--------------------\n"
     ]
    },
    {
     "name": "stderr",
     "output_type": "stream",
     "text": [
      " 28%|██▊       | 37/130 [03:49<09:51,  6.36s/it]"
     ]
    },
    {
     "name": "stdout",
     "output_type": "stream",
     "text": [
      "Document: 37\n",
      "Topics: [1] Material Science: Production of iron ore pellets with organic binders for use in electric arc furnaces.\n",
      "--------------------\n"
     ]
    },
    {
     "name": "stderr",
     "output_type": "stream",
     "text": [
      " 29%|██▉       | 38/130 [03:55<09:33,  6.24s/it]"
     ]
    },
    {
     "name": "stdout",
     "output_type": "stream",
     "text": [
      "Document: 38\n",
      "Topics: [1] Sensing Technology: Oil spill detection and recovery using hydrophobic fabric-based devices.\n",
      "--------------------\n"
     ]
    },
    {
     "name": "stderr",
     "output_type": "stream",
     "text": [
      " 30%|███       | 39/130 [04:01<09:19,  6.15s/it]"
     ]
    },
    {
     "name": "stdout",
     "output_type": "stream",
     "text": [
      "Document: 39\n",
      "Topics: [1] Electrical Systems: Battery connection and isolation switches for electrical equipment.\n",
      "--------------------\n"
     ]
    },
    {
     "name": "stderr",
     "output_type": "stream",
     "text": [
      " 31%|███       | 40/130 [04:07<09:13,  6.15s/it]"
     ]
    },
    {
     "name": "stdout",
     "output_type": "stream",
     "text": [
      "Document: 40\n",
      "Topics: [1] Mobile Operating Machines: Hybrid systems with internal combustion engines, electric motors, and hydraulic pumps for power take-off.\n",
      "--------------------\n"
     ]
    },
    {
     "name": "stderr",
     "output_type": "stream",
     "text": [
      " 32%|███▏      | 41/130 [04:14<09:23,  6.33s/it]"
     ]
    },
    {
     "name": "stdout",
     "output_type": "stream",
     "text": [
      "Document: 41\n",
      "Topics: [1] Offshore Systems: Power generation and carbon dioxide injection for enhanced gas recovery in offshore gas reservoirs.\n",
      "[1] Gas Separation: Separation of nitrogen and carbon dioxide from flue gas for offshore applications.\n",
      "[1] Gas Turbines: Power generation using offshore gas turbines.\n",
      "[1] Compressors: Compression of carbon dioxide-enriched flue gas for offshore injection.\n",
      "[1] Carbon Capture and Storage (CCS): Offshore carbon dioxide injection for enhanced gas recovery.\n",
      "--------------------\n"
     ]
    },
    {
     "name": "stderr",
     "output_type": "stream",
     "text": [
      " 32%|███▏      | 42/130 [04:21<09:28,  6.46s/it]"
     ]
    },
    {
     "name": "stdout",
     "output_type": "stream",
     "text": [
      "Document: 42\n",
      "Topics: [1] Product Design: Airfoil vane assembly design with sealing mechanism for improved efficiency.\n",
      "\n",
      "[Explanation] The document discusses the design of an airfoil vane assembly, which falls under the Product Design topic. The assembly includes a sealing mechanism, which can be considered a subtopic of Product Design, specifically related to engineering seals or manufacturing processes. The topic label is generalizable and broad enough to accommodate future subtopics. Since there is no duplicate topic in the hierarchy, the new topic is added as a top-level topic.\n",
      "--------------------\n"
     ]
    },
    {
     "name": "stderr",
     "output_type": "stream",
     "text": [
      " 33%|███▎      | 43/130 [04:27<09:08,  6.30s/it]"
     ]
    },
    {
     "name": "stdout",
     "output_type": "stream",
     "text": [
      "Document: 43\n",
      "Topics: [1] Engineering: Exhaust aftertreatment system monitoring and diagnostics, including pump health assessment and prognostic failure prediction.\n",
      "--------------------\n"
     ]
    },
    {
     "name": "stderr",
     "output_type": "stream",
     "text": [
      " 34%|███▍      | 44/130 [04:33<09:08,  6.38s/it]"
     ]
    },
    {
     "name": "stdout",
     "output_type": "stream",
     "text": [
      "Document: 44\n",
      "Topics: [1] Engine Control Systems: Adjusting wastegate valve opening based on intake air quantity and engine rotation speed to maintain optimal boost pressure.\n",
      "\n",
      "[Explanation] The document discusses the control of a wastegate valve in an engine system, adjusting its opening based on intake air quantity and engine rotation speed to maintain optimal boost pressure. This topic can be generalized as \"Engine Control Systems\" and can accommodate future subtopics related to engine control systems, wastegate valve control, and engine performance optimization.\n",
      "--------------------\n"
     ]
    },
    {
     "name": "stderr",
     "output_type": "stream",
     "text": [
      " 35%|███▍      | 45/130 [04:40<08:56,  6.31s/it]"
     ]
    },
    {
     "name": "stdout",
     "output_type": "stream",
     "text": [
      "Document: 45\n",
      "Topics: [1] Engine Control Systems: Deactivating lambda control interventions in internal combustion engines for optimized exhaust gas composition management.\n",
      "--------------------\n"
     ]
    },
    {
     "name": "stderr",
     "output_type": "stream",
     "text": [
      " 35%|███▌      | 46/130 [04:46<08:46,  6.27s/it]"
     ]
    },
    {
     "name": "stdout",
     "output_type": "stream",
     "text": [
      "Document: 46\n",
      "Topics: [1] Wind Energy: Manufacturing of wind turbine blades using additive manufacturing for improved durability and efficiency.\n",
      "[1] Material Science: Densities and structures of materials in wind turbine blades for optimized performance.\n",
      "[1] Additive Manufacturing: Production of wind turbine blades through layer-by-layer fabrication for enhanced properties.\n",
      "--------------------\n"
     ]
    },
    {
     "name": "stderr",
     "output_type": "stream",
     "text": [
      " 36%|███▌      | 47/130 [04:51<08:25,  6.09s/it]"
     ]
    },
    {
     "name": "stdout",
     "output_type": "stream",
     "text": [
      "Document: 47\n",
      "Topics: [1] Wind Energy: Installation of wind turbine rotor blades using a specific method.\n",
      "--------------------\n"
     ]
    },
    {
     "name": "stderr",
     "output_type": "stream",
     "text": [
      " 37%|███▋      | 48/130 [04:57<08:16,  6.05s/it]"
     ]
    },
    {
     "name": "stdout",
     "output_type": "stream",
     "text": [
      "Document: 48\n",
      "Topics: [1] Energy Sector: Wind Energy: Stabilizing rotor thrust during grid events to ensure safe and efficient operation.\n",
      "\n",
      "[1] Industrial Automation: Control Systems: Wind turbine rotor thrust control during grid events.\n",
      "\n",
      "[1] Power Electronics: Wind energy power conversion systems: Grid event response and rotor thrust control.\n",
      "--------------------\n"
     ]
    },
    {
     "name": "stderr",
     "output_type": "stream",
     "text": [
      " 38%|███▊      | 49/130 [05:04<08:17,  6.14s/it]"
     ]
    },
    {
     "name": "stdout",
     "output_type": "stream",
     "text": [
      "Document: 49\n",
      "Topics: [1] Energy Sector: Wind Energy: Electro-thermal heating elements for wind turbine blades with tapering widths.\n",
      "\n",
      "[Explanation] The document discusses a wind turbine blade with an electro-thermal heating element, which falls under the Energy Sector topic, specifically Wind Energy. The heating element's tapering width is mentioned, making it a generalizable topic that can be added to the hierarchy.\n",
      "--------------------\n"
     ]
    },
    {
     "name": "stderr",
     "output_type": "stream",
     "text": [
      " 38%|███▊      | 50/130 [05:10<08:03,  6.05s/it]"
     ]
    },
    {
     "name": "stdout",
     "output_type": "stream",
     "text": [
      "Document: 50\n",
      "Topics: [1] Geothermal Energy: Generating electricity from geothermal sources using a closed-loop system with injection and production wells, a multilateral connector, and a heat transfer arrangement.\n",
      "--------------------\n"
     ]
    },
    {
     "name": "stderr",
     "output_type": "stream",
     "text": [
      " 39%|███▉      | 51/130 [05:15<07:52,  5.99s/it]"
     ]
    },
    {
     "name": "stdout",
     "output_type": "stream",
     "text": [
      "Document: 51\n",
      "Topics: [1] Industrial Equipment: Hybrid drive units with selective engagement of electric motors to multiple axle half shafts via clutching devices.\n",
      "--------------------\n"
     ]
    },
    {
     "name": "stderr",
     "output_type": "stream",
     "text": [
      " 40%|████      | 52/130 [05:22<08:00,  6.16s/it]"
     ]
    },
    {
     "name": "stdout",
     "output_type": "stream",
     "text": [
      "Document: 52\n",
      "Topics: [1] Gas Storage Systems: Pressurized gas tanks with interchangeable cylinders and fluid connections.\n",
      "\n",
      "[Explanation] The document describes a pressurized gas tank system with interchangeable cylinders and a fluid connection rail. This system can be considered a generalizable topic at the top level, as it encompasses various aspects of gas storage and handling, including design, engineering, and manufacturing. The topic is broad enough to accommodate future subtopics related to different types of gases, materials used for cylinder construction, safety systems, and more.\n",
      "--------------------\n"
     ]
    },
    {
     "name": "stderr",
     "output_type": "stream",
     "text": [
      " 41%|████      | 53/130 [05:28<07:50,  6.10s/it]"
     ]
    },
    {
     "name": "stdout",
     "output_type": "stream",
     "text": [
      "Document: 53\n",
      "Topics: [1] Thermal Oxidation: Fluid bed regenerative thermal oxidizer with minimal dead spaces and simplified air movement systems.\n",
      "[1] Ceramic Spheres: Heat exchange material used as heat sinks in thermal oxidation systems.\n",
      "--------------------\n"
     ]
    },
    {
     "name": "stderr",
     "output_type": "stream",
     "text": [
      " 42%|████▏     | 54/130 [05:34<07:53,  6.23s/it]"
     ]
    },
    {
     "name": "stdout",
     "output_type": "stream",
     "text": [
      "Document: 54\n",
      "Topics: [1] Power Electronics: Conversion and control of electrical power using semiconductor devices, including rectifiers and driving control circuits.\n",
      "\n",
      "[1] Industrial Automation: Use of automated systems and control technologies to manage industrial processes, including pressure switch control and compressor operation.\n",
      "\n",
      "[1] Refrigeration Systems: Design, operation, and optimization of refrigeration systems, including pressure measurement and control.\n",
      "\n",
      "[1] Electrical Systems: Design, implementation, and operation of electrical systems, including power supplies and control circuits.\n",
      "--------------------\n"
     ]
    },
    {
     "name": "stderr",
     "output_type": "stream",
     "text": [
      " 42%|████▏     | 55/130 [05:41<07:49,  6.26s/it]"
     ]
    },
    {
     "name": "stdout",
     "output_type": "stream",
     "text": [
      "Document: 55\n",
      "Topics: [1] Thermal Technology: Electrocaloric devices using heat transfer laminates for temperature control.\n",
      "\n",
      "[Explanation] The document discusses a thermal technology-related device, specifically an electrocaloric device, which utilizes heat transfer laminates. This topic is generalizable and can accommodate future subtopics related to electrocaloric devices, heat transfer laminates, and thermal technology in general.\n",
      "--------------------\n"
     ]
    },
    {
     "name": "stderr",
     "output_type": "stream",
     "text": [
      " 43%|████▎     | 56/130 [05:47<07:49,  6.35s/it]"
     ]
    },
    {
     "name": "stdout",
     "output_type": "stream",
     "text": [
      "Document: 56\n",
      "Topics: [1] Thermal Energy Storage: High temperature storage systems for extracting energy and managing working fluid temperatures for powering conventional equipment.\n",
      "[1] Material Science: High temperature tolerant materials for thermal energy storage components.\n",
      "[1] Engineering: Design and fabrication of thermal energy storage systems with high temperature tolerant materials.\n",
      "[1] Energy Management: Utilization of thermal energy storage systems for efficient energy management.\n",
      "[1] Power Electronics: Control and management of temperature and energy flow in thermal energy storage systems.\n",
      "--------------------\n"
     ]
    },
    {
     "name": "stderr",
     "output_type": "stream",
     "text": [
      " 44%|████▍     | 57/130 [05:53<07:34,  6.23s/it]"
     ]
    },
    {
     "name": "stdout",
     "output_type": "stream",
     "text": [
      "Document: 57\n",
      "Topics: [1] Microbiology: Isotope-labelling of microbiota samples for taxon-specific metaproteome analysis.\n",
      "--------------------\n"
     ]
    },
    {
     "name": "stderr",
     "output_type": "stream",
     "text": [
      " 45%|████▍     | 58/130 [05:59<07:22,  6.14s/it]"
     ]
    },
    {
     "name": "stdout",
     "output_type": "stream",
     "text": [
      "Document: 58\n",
      "Topics: [1] Energy Management: Monitoring and controlling energy storage in electrical on-board power supplies using Y-capacitance values and voltage thresholds.\n",
      "--------------------\n"
     ]
    },
    {
     "name": "stderr",
     "output_type": "stream",
     "text": [
      " 45%|████▌     | 59/130 [06:06<07:21,  6.22s/it]"
     ]
    },
    {
     "name": "stdout",
     "output_type": "stream",
     "text": [
      "Document: 59\n",
      "Topics: [1] Power Electronics: Self-clearing fault detection in power cables using current and voltage conditions.\n",
      "\n",
      "[Explanation] The document discusses a method for detecting self-clearing faults in power cables using current and voltage conditions. This topic can be generalized as \"Power Electronics\" with a focus on \"Self-clearing fault detection\" or \"Fault diagnosis in power electronics systems\". This topic is broad enough to accommodate future subtopics related to power electronics, fault detection, and power cable technology.\n",
      "--------------------\n"
     ]
    },
    {
     "name": "stderr",
     "output_type": "stream",
     "text": [
      " 46%|████▌     | 60/130 [06:12<07:08,  6.11s/it]"
     ]
    },
    {
     "name": "stdout",
     "output_type": "stream",
     "text": [
      "Document: 60\n",
      "Topics: [1] Sensing Technology: Magnetic sensing using a lens driving device with a magnet having polarized surfaces for enhanced Hall output detection.\n",
      "--------------------\n"
     ]
    },
    {
     "name": "stderr",
     "output_type": "stream",
     "text": [
      " 47%|████▋     | 61/130 [06:18<07:15,  6.31s/it]"
     ]
    },
    {
     "name": "stdout",
     "output_type": "stream",
     "text": [
      "Document: 61\n",
      "Topics: [1] Smart Windows: Photovoltaic windows that generate, store, and distribute electrical power, communicate with smart home systems, and include sensors.\n",
      "[1] Smart Home Systems: Integrated systems that manage and control various devices and appliances, including smart windows.\n",
      "[1] Photovoltaics: Conversion of light into electrical energy.\n",
      "[1] Wireless Communication Systems: Transmission of data without the use of wires.\n",
      "[1] Sensors: Devices that measure physical or environmental properties and record, indicate, or transmit data.\n",
      "[1] Electronics Packages: Housing for electronic components to protect and facilitate their operation.\n",
      "[1] Window Functions: Control mechanisms for windows, such as opening, closing, or tinting.\n",
      "--------------------\n"
     ]
    },
    {
     "name": "stderr",
     "output_type": "stream",
     "text": [
      " 48%|████▊     | 62/130 [06:24<07:01,  6.20s/it]"
     ]
    },
    {
     "name": "stdout",
     "output_type": "stream",
     "text": [
      "Document: 62\n",
      "Topics: [1] Industrial Automation: Real-time monitoring and prediction of processing equipment performance in industrial processes using an IPCS and HMI.\n",
      "--------------------\n"
     ]
    },
    {
     "name": "stderr",
     "output_type": "stream",
     "text": [
      " 48%|████▊     | 63/130 [06:30<06:50,  6.12s/it]"
     ]
    },
    {
     "name": "stdout",
     "output_type": "stream",
     "text": [
      "Document: 63\n",
      "Topics: [1] Manufacturing: Generating tool paths for variable stock thickness distribution in CNC systems.\n",
      "--------------------\n"
     ]
    },
    {
     "name": "stderr",
     "output_type": "stream",
     "text": [
      " 49%|████▉     | 64/130 [06:36<06:40,  6.07s/it]"
     ]
    },
    {
     "name": "stdout",
     "output_type": "stream",
     "text": [
      "Document: 64\n",
      "Topics: [1] Autonomous Vehicles: Predictive control based on lane centeredness and road angle data for steering and speed regulation.\n",
      "--------------------\n"
     ]
    },
    {
     "name": "stderr",
     "output_type": "stream",
     "text": [
      " 50%|█████     | 65/130 [06:42<06:30,  6.01s/it]"
     ]
    },
    {
     "name": "stdout",
     "output_type": "stream",
     "text": [
      "Document: 65\n",
      "Topics: [1] Power Electronics: Individual control of power supply voltage to circuits using semiconductor devices and power supply control switches.\n",
      "--------------------\n"
     ]
    },
    {
     "name": "stderr",
     "output_type": "stream",
     "text": [
      " 51%|█████     | 66/130 [06:48<06:28,  6.08s/it]"
     ]
    },
    {
     "name": "stdout",
     "output_type": "stream",
     "text": [
      "Document: 66\n",
      "Topics: [1] Energy Sector: Estimation of energy consumption in microcontrollers through identification of event and duration activities.\n",
      "[1] Microcontrollers\n",
      "[1] Energy Consumption Estimation\n",
      "[1] Bus Interfaces\n",
      "[1] Data Transfers\n",
      "[1] Signal Monitoring\n",
      "[1] Energy Coefficients\n",
      "[1] Operating Conditions\n",
      "--------------------\n"
     ]
    },
    {
     "name": "stderr",
     "output_type": "stream",
     "text": [
      " 52%|█████▏    | 67/130 [06:54<06:22,  6.06s/it]"
     ]
    },
    {
     "name": "stdout",
     "output_type": "stream",
     "text": [
      "Document: 67\n",
      "Topics: [1] Solar Energy: Optimization of photovoltaic system configurations through evaluative processes.\n",
      "[1] Solar Energy: Photovoltaic system design considerations: azimuth angle, tilt angle, and obstruction evaluation.\n",
      "[1] Solar Energy: Temperature response coefficient and inverter rating in photovoltaic system design.\n",
      "--------------------\n"
     ]
    },
    {
     "name": "stderr",
     "output_type": "stream",
     "text": [
      " 52%|█████▏    | 68/130 [07:00<06:15,  6.05s/it]"
     ]
    },
    {
     "name": "stdout",
     "output_type": "stream",
     "text": [
      "Document: 68\n",
      "Topics: [1] Healthcare: Wireless communication and integration of medical devices with controllers and smartphones for improved disease management.\n",
      "[1] Wireless Communication Systems: Secure and efficient wireless communication protocols for medical device control and data exchange.\n",
      "--------------------\n"
     ]
    },
    {
     "name": "stderr",
     "output_type": "stream",
     "text": [
      " 53%|█████▎    | 69/130 [07:07<06:25,  6.32s/it]"
     ]
    },
    {
     "name": "stdout",
     "output_type": "stream",
     "text": [
      "Document: 69\n",
      "Topics: [1] Plasma-chemical Waste Disposal: Inductors with rotating truncated pyramid electrodes for efficient destruction methods.\n",
      "\n",
      "[Explanation] The document discusses a specific type of inductor used in plasma-chemical waste disposal systems. The topic \"Plasma-chemical Waste Disposal\" is a generalizable and broad topic that can accommodate future subtopics related to various methods, technologies, and applications of plasma-chemical waste disposal. The description provides additional details about the inductor design, but it does not introduce new topics that are not already covered by the existing hierarchy. Therefore, the topic \"Plasma-chemical Waste Disposal\" is the relevant and modified topic at the top level in the hierarchy.\n",
      "--------------------\n"
     ]
    },
    {
     "name": "stderr",
     "output_type": "stream",
     "text": [
      " 54%|█████▍    | 70/130 [07:13<06:15,  6.25s/it]"
     ]
    },
    {
     "name": "stdout",
     "output_type": "stream",
     "text": [
      "Document: 70\n",
      "Topics: [1] Power Electronics: Control of transformer tap changers based on grid connectivity conditions.\n",
      "--------------------\n"
     ]
    },
    {
     "name": "stderr",
     "output_type": "stream",
     "text": [
      " 55%|█████▍    | 71/130 [07:19<06:04,  6.19s/it]"
     ]
    },
    {
     "name": "stdout",
     "output_type": "stream",
     "text": [
      "Document: 71\n",
      "Topics: [1] Product Design: Stackable electronic modules with micro-photoelectric units and sensor elements for unshielding pixels.\n",
      "--------------------\n"
     ]
    },
    {
     "name": "stderr",
     "output_type": "stream",
     "text": [
      " 55%|█████▌    | 72/130 [07:26<06:06,  6.32s/it]"
     ]
    },
    {
     "name": "stdout",
     "output_type": "stream",
     "text": [
      "Document: 72\n",
      "Topics: [1] Material Science: Development of capacitors using porous semiconductors and electric conductors with potential barriers formed by charge carrier diffusion.\n",
      "\n",
      "[Explanation] The document discusses the creation of a capacitor using a porous semiconductor and an electric conductor, with a potential barrier formed between them due to the diffusion of charge carriers. The materials involved are selected to achieve a specific potential difference without applying an external voltage. The document also mentions a dielectric layer between the first porous semiconductor and the second electric conductor. This topic is generalizable and can accommodate future subtopics related to the design, fabrication, and optimization of such capacitors.\n",
      "--------------------\n"
     ]
    },
    {
     "name": "stderr",
     "output_type": "stream",
     "text": [
      " 56%|█████▌    | 73/130 [07:32<05:58,  6.29s/it]"
     ]
    },
    {
     "name": "stdout",
     "output_type": "stream",
     "text": [
      "Document: 73\n",
      "Topics: [1] Energy Sector: Photovoltaic panels: Coating technology for increasing efficiency and reducing maintenance.\n",
      "\n",
      "This topic is generalizable and broad enough to accommodate future subtopics related to different types of coating technologies, materials, and applications for photovoltaic panels. It also reflects a single topic instead of a combination of topics.\n",
      "--------------------\n"
     ]
    },
    {
     "name": "stderr",
     "output_type": "stream",
     "text": [
      " 57%|█████▋    | 74/130 [07:38<05:45,  6.17s/it]"
     ]
    },
    {
     "name": "stdout",
     "output_type": "stream",
     "text": [
      "Document: 74\n",
      "Topics: [1] Optoelectronics: Design and fabrication of optoelectronic devices using semiconductor structures, encapsulation layers, and reflective layers for resonant radiation conversion.\n",
      "--------------------\n"
     ]
    },
    {
     "name": "stderr",
     "output_type": "stream",
     "text": [
      " 58%|█████▊    | 75/130 [07:44<05:34,  6.08s/it]"
     ]
    },
    {
     "name": "stdout",
     "output_type": "stream",
     "text": [
      "Document: 75\n",
      "Topics: [1] Optoelectronics: Design and fabrication of light emitting devices with protective elements for improved performance and durability.\n",
      "--------------------\n"
     ]
    },
    {
     "name": "stderr",
     "output_type": "stream",
     "text": [
      " 58%|█████▊    | 76/130 [07:50<05:22,  5.97s/it]"
     ]
    },
    {
     "name": "stdout",
     "output_type": "stream",
     "text": [
      "Document: 76\n",
      "Topics: [1] Display Technology: Stretchable displays with organic and inorganic insulating layers and connection lines.\n",
      "--------------------\n"
     ]
    },
    {
     "name": "stderr",
     "output_type": "stream",
     "text": [
      " 59%|█████▉    | 77/130 [07:57<05:30,  6.23s/it]"
     ]
    },
    {
     "name": "stdout",
     "output_type": "stream",
     "text": [
      "Document: 77\n",
      "Topics: [1] Energy Sector: Electrochemical cell management systems for optimizing charging and discharging rates.\n",
      "[1] Engineering: Design and development of electrochemical cell management systems.\n",
      "[1] Control Systems: Control algorithms for electrochemical cell management systems.\n",
      "[1] Power Electronics: Electronic components and circuits for electrochemical cell management systems.\n",
      "[1] Industrial Automation: Implementation of electrochemical cell management systems in industrial processes.\n",
      "[1] Energy Management: Optimization of energy storage and utilization using electrochemical cell management systems.\n",
      "[1] Renewable Energy: Application of electrochemical cell management systems in renewable energy storage systems.\n",
      "[1] Electrical Systems: Design and operation of electrical systems for electrochemical cell management.\n",
      "[1] Engineering: Research and development in electrochemical cell management technology.\n",
      "--------------------\n"
     ]
    },
    {
     "name": "stderr",
     "output_type": "stream",
     "text": [
      " 60%|██████    | 78/130 [08:03<05:30,  6.36s/it]"
     ]
    },
    {
     "name": "stdout",
     "output_type": "stream",
     "text": [
      "Document: 78\n",
      "Topics: [1] Energy Sector: Energy storage modules with cell contacting arrangements for efficient power transmission.\n",
      "[1] Product Design: Design of energy storage modules with carrier plates, cable harnesses, and cell connectors.\n",
      "[1] Engineering: Development of cell contacting arrangements for energy storage systems.\n",
      "[1] Industrial Automation: Automated assembly and connection of energy storage cells and contacting components.\n",
      "[1] Safety Systems: Safety considerations for energy storage module design and contacting arrangements.\n",
      "[1] Electrical Systems: Design and implementation of signal lines and connection elements for energy storage systems.\n",
      "--------------------\n"
     ]
    },
    {
     "name": "stderr",
     "output_type": "stream",
     "text": [
      " 61%|██████    | 79/130 [08:09<05:15,  6.19s/it]"
     ]
    },
    {
     "name": "stdout",
     "output_type": "stream",
     "text": [
      "Document: 79\n",
      "Topics: [1] Energy Sector: Thermal management in battery cells through temperature sensors and heat-conducting parts.\n",
      "--------------------\n"
     ]
    },
    {
     "name": "stderr",
     "output_type": "stream",
     "text": [
      " 62%|██████▏   | 80/130 [08:15<05:06,  6.12s/it]"
     ]
    },
    {
     "name": "stdout",
     "output_type": "stream",
     "text": [
      "Document: 80\n",
      "Topics: [1] Energy Sector: Battery management systems for electric vehicles, including temperature, electrical connection state, and cooling device operation monitoring.\n",
      "--------------------\n"
     ]
    },
    {
     "name": "stderr",
     "output_type": "stream",
     "text": [
      " 62%|██████▏   | 81/130 [08:22<05:13,  6.40s/it]"
     ]
    },
    {
     "name": "stdout",
     "output_type": "stream",
     "text": [
      "Document: 81\n",
      "Topics: [1] Thermal Management: Controlling temperature of a targeted object using a synthetic jet actuator with piezoelectric membrane and thermal element.\n",
      "\n",
      "[1] Engineering: Design and development of synthetic jet actuators for thermal management applications.\n",
      "\n",
      "[1] Material Science: Selection and application of piezoelectric materials in synthetic jet actuators.\n",
      "\n",
      "[1] Control Systems: Design and implementation of controllers for synthetic jet actuators based on input data from temperature and performance sensors.\n",
      "\n",
      "[1] Sensing Technology: Development of temperature and performance sensors for synthetic jet actuator control systems.\n",
      "\n",
      "[1] Manufacturing: Production of synthetic jet actuators for thermal management applications.\n",
      "\n",
      "[1] Industrial Automation: Integration of synthetic jet actuators into industrial processes for thermal management and heat dissipation.\n",
      "--------------------\n"
     ]
    },
    {
     "name": "stderr",
     "output_type": "stream",
     "text": [
      " 63%|██████▎   | 82/130 [08:28<05:02,  6.31s/it]"
     ]
    },
    {
     "name": "stdout",
     "output_type": "stream",
     "text": [
      "Document: 82\n",
      "Topics: [1] Thermal Technology: Temperature control component with obliquely extending buffer plate for dividing cavities into multiple channels.\n",
      "[1] Energy Storage: Battery pack incorporating temperature control component for efficient energy storage.\n",
      "--------------------\n"
     ]
    },
    {
     "name": "stderr",
     "output_type": "stream",
     "text": [
      " 64%|██████▍   | 83/130 [08:34<04:49,  6.16s/it]"
     ]
    },
    {
     "name": "stdout",
     "output_type": "stream",
     "text": [
      "Document: 83\n",
      "Topics: [1] Material Science: Anode design for lithium secondary batteries using a combination of natural and artificial graphite and silicon-based compounds.\n",
      "--------------------\n"
     ]
    },
    {
     "name": "stderr",
     "output_type": "stream",
     "text": [
      " 65%|██████▍   | 84/130 [08:40<04:42,  6.15s/it]"
     ]
    },
    {
     "name": "stdout",
     "output_type": "stream",
     "text": [
      "Document: 84\n",
      "Topics: [1] Material Science: Development of electrode compositions for high-capacity nickel-rich lithium-ion batteries using vinylidene fluoride copolymers and hydrophilic (meth)acrylic monomers.\n",
      "--------------------\n"
     ]
    },
    {
     "name": "stderr",
     "output_type": "stream",
     "text": [
      " 65%|██████▌   | 85/130 [08:46<04:33,  6.09s/it]"
     ]
    },
    {
     "name": "stdout",
     "output_type": "stream",
     "text": [
      "Document: 85\n",
      "Topics: [1] Battery Technology: Development of battery packs with longitudinal beams and vertical battery cells.\n",
      "--------------------\n"
     ]
    },
    {
     "name": "stderr",
     "output_type": "stream",
     "text": [
      " 66%|██████▌   | 86/130 [08:53<04:36,  6.29s/it]"
     ]
    },
    {
     "name": "stdout",
     "output_type": "stream",
     "text": [
      "Document: 86\n",
      "Topics: [1] Battery Technology: Nano-coating for improved battery performance and durability.\n",
      "\n",
      "[Explanation] The document discusses a battery module with nano-composite coatings on various components, including the battery barrel bodies, busbars, and circuit boards. The use of nano-coatings aims to enhance the battery's overall performance and durability. Therefore, the topic \"Battery Technology\" with a focus on \"Nano-coating\" is a suitable addition to the hierarchy.\n",
      "--------------------\n"
     ]
    },
    {
     "name": "stderr",
     "output_type": "stream",
     "text": [
      " 67%|██████▋   | 87/130 [08:59<04:33,  6.35s/it]"
     ]
    },
    {
     "name": "stdout",
     "output_type": "stream",
     "text": [
      "Document: 87\n",
      "Topics: [1] Energy Storage: Protection of electric vehicle battery packs with strike shields for improved durability.\n",
      "\n",
      "[1] Material Science: Development of composite materials for strike shields in electric vehicle battery packs.\n",
      "\n",
      "[1] Manufacturing: Production of strike shields for electric vehicle battery packs using composite materials and sandwich structures.\n",
      "\n",
      "[1] Industrial Equipment: Integration of strike shields in electric vehicle battery packs for enhanced safety and reliability.\n",
      "--------------------\n"
     ]
    },
    {
     "name": "stderr",
     "output_type": "stream",
     "text": [
      " 68%|██████▊   | 88/130 [09:06<04:32,  6.49s/it]"
     ]
    },
    {
     "name": "stdout",
     "output_type": "stream",
     "text": [
      "Document: 88\n",
      "Topics: [1] Material Science: Functional separator with redox active polymer-conductive carbon composite for improved lithium battery performance.\n",
      "\n",
      "[Explanation] The document discusses a functional separator used in lithium batteries, which is coated with a redox active polymer-conductive carbon composite to address the issue of lithium polysulfide leaching. This topic is generalizable as it covers the functional separator technology used in various types of batteries, not just lithium batteries. The topic is also broad enough to accommodate future subtopics related to different types of separators and coatings used in battery technology.\n",
      "--------------------\n"
     ]
    },
    {
     "name": "stderr",
     "output_type": "stream",
     "text": [
      " 68%|██████▊   | 89/130 [09:12<04:18,  6.31s/it]"
     ]
    },
    {
     "name": "stdout",
     "output_type": "stream",
     "text": [
      "Document: 89\n",
      "Topics: [1] Battery Technology: Design of batteries with insulated separators or negative electrode collectors to improve performance and safety.\n",
      "--------------------\n"
     ]
    },
    {
     "name": "stderr",
     "output_type": "stream",
     "text": [
      " 69%|██████▉   | 90/130 [09:18<04:09,  6.25s/it]"
     ]
    },
    {
     "name": "stdout",
     "output_type": "stream",
     "text": [
      "Document: 90\n",
      "Topics: [1] Material Science: Development of high-conductivity anode materials for low- and intermediate-temperature solid oxide fuel cells using strontium iron cobalt molybdenum oxide (SFCM).\n",
      "--------------------\n"
     ]
    },
    {
     "name": "stderr",
     "output_type": "stream",
     "text": [
      " 70%|███████   | 91/130 [09:24<04:01,  6.18s/it]"
     ]
    },
    {
     "name": "stdout",
     "output_type": "stream",
     "text": [
      "Document: 91\n",
      "Topics: [1] Energy Storage: Controlling the storage and release of energy between a power source, energy storage unit, and the grid using power converters and a controller.\n",
      "--------------------\n"
     ]
    },
    {
     "name": "stderr",
     "output_type": "stream",
     "text": [
      " 71%|███████   | 92/130 [09:30<03:52,  6.11s/it]"
     ]
    },
    {
     "name": "stdout",
     "output_type": "stream",
     "text": [
      "Document: 92\n",
      "Topics: [1] Energy Management: Controlling the delivery of power from a hybrid power plant consisting of renewable energy sources and energy storage.\n",
      "--------------------\n"
     ]
    },
    {
     "name": "stderr",
     "output_type": "stream",
     "text": [
      " 72%|███████▏  | 93/130 [09:36<03:44,  6.05s/it]"
     ]
    },
    {
     "name": "stdout",
     "output_type": "stream",
     "text": [
      "Document: 93\n",
      "Topics: [1] Power Electronics: Power plant control systems for primary frequency regulation, including gas turbine and steam turbine droop settings.\n",
      "--------------------\n"
     ]
    },
    {
     "name": "stderr",
     "output_type": "stream",
     "text": [
      " 72%|███████▏  | 94/130 [09:42<03:42,  6.17s/it]"
     ]
    },
    {
     "name": "stdout",
     "output_type": "stream",
     "text": [
      "Document: 94\n",
      "Topics: [1] Energy Storage: Battery polarity determination circuits for ensuring safe and efficient battery operation.\n",
      "\n",
      "[Explanation] The document discusses a battery polarity determination circuit, which is a component of energy storage systems. The circuit is designed to determine the polarity of a battery and ensure that the control device is not damaged by voltages exceeding its absolute maximum rating. This topic is generalizable and can accommodate future subtopics related to battery polarity determination, energy storage safety, and battery management systems.\n",
      "--------------------\n"
     ]
    },
    {
     "name": "stderr",
     "output_type": "stream",
     "text": [
      " 73%|███████▎  | 95/130 [09:48<03:34,  6.14s/it]"
     ]
    },
    {
     "name": "stdout",
     "output_type": "stream",
     "text": [
      "Document: 95\n",
      "Topics: [1] Energy Management: Selecting target batteries for energy management in a power supply system while disconnecting others.\n",
      "--------------------\n"
     ]
    },
    {
     "name": "stderr",
     "output_type": "stream",
     "text": [
      " 74%|███████▍  | 96/130 [09:55<03:32,  6.26s/it]"
     ]
    },
    {
     "name": "stdout",
     "output_type": "stream",
     "text": [
      "Document: 96\n",
      "Topics: [1] Energy Management: Temperature-controlled charging of battery packs to optimize performance and prolong life.\n",
      "\n",
      "[Explanation] The document discusses a charging control apparatus that manages the charging of a battery pack based on temperature measurements and estimates. This topic can be generalized as Energy Management, specifically focusing on temperature-controlled charging of battery packs to optimize performance and prolong life. This topic is broad enough to accommodate future subtopics related to battery management, thermal management, and energy efficiency.\n",
      "--------------------\n"
     ]
    },
    {
     "name": "stderr",
     "output_type": "stream",
     "text": [
      " 75%|███████▍  | 97/130 [10:03<03:41,  6.72s/it]"
     ]
    },
    {
     "name": "stdout",
     "output_type": "stream",
     "text": [
      "Document: 97\n",
      "Topics: [1] Product Design: Power tool system with a brushless motor, controller, and rechargeable battery pack.\n",
      "[1] Engineering: Design and development of power tool systems with high-performance brushless motors and rechargeable battery packs.\n",
      "[1] Power Electronics: Control systems for power tool systems, including brushless motor controllers and battery management systems.\n",
      "[1] Industrial Automation: Power tool systems for industrial applications, featuring high-power output and efficient energy management.\n",
      "[1] Energy Management: Optimizing energy usage in power tool systems through efficient battery management and power delivery control.\n",
      "[1] Battery Technology: Advanced rechargeable battery packs for power tools, with high energy density and low impedance.\n",
      "[1] Manufacturing: Production of power tool systems, including design, assembly, and testing of components such as brushless motors and battery packs.\n",
      "[1] Industrial Equipment: Power tool systems as part of larger industrial equipment, such as drilling rigs or construction machinery.\n",
      "[1] Engineering: Design and development of industrial equipment incorporating high-performance power tool systems.\n",
      "[1] Renewable Energy: Integration of power tool systems into renewable energy applications, such as solar panel installation or wind turbine maintenance.\n",
      "[1] Energy Storage: Battery technology and energy storage systems for power tools and industrial equipment, including rechargeable batteries and energy\n",
      "--------------------\n"
     ]
    },
    {
     "name": "stderr",
     "output_type": "stream",
     "text": [
      " 75%|███████▌  | 98/130 [10:10<03:37,  6.79s/it]"
     ]
    },
    {
     "name": "stdout",
     "output_type": "stream",
     "text": [
      "Document: 98\n",
      "Topics: [1] Sensing Technology: Flux-mnemonic permanent magnet synchronous machines (FMPMSMs) for adjustable magnetization in electrical systems.\n",
      "\n",
      "[Explanation] The document discusses a specific type of electrical machine, the flux-mnemonic permanent magnet synchronous machine (FMPMSM), which includes various components such as a stator, rotor, and power inverter. The rotor consists of adjustable permanent magnets and flux adjusters. The document mentions the adjustability of the polarization ratio of magnetization of at least one of the permanent magnets during operation. This technology falls under the broader topic of Sensing Technology, specifically in the area of electrical systems and power electronics.\n",
      "--------------------\n"
     ]
    },
    {
     "name": "stderr",
     "output_type": "stream",
     "text": [
      " 76%|███████▌  | 99/130 [10:16<03:24,  6.60s/it]"
     ]
    },
    {
     "name": "stdout",
     "output_type": "stream",
     "text": [
      "Document: 99\n",
      "Topics: [1] Engineering: Replaceable windings for electromagnetic machines with modular design for improved maintenance and longevity.\n",
      "--------------------\n"
     ]
    },
    {
     "name": "stderr",
     "output_type": "stream",
     "text": [
      " 77%|███████▋  | 100/130 [10:23<03:18,  6.63s/it]"
     ]
    },
    {
     "name": "stdout",
     "output_type": "stream",
     "text": [
      "Document: 100\n",
      "Topics: [1] Power Electronics: AC capacitor discharge control in PFC circuits using MOSFETs and thyristors.\n",
      "\n",
      "[Explanation] The document discusses the use of AC capacitors in power electronics, specifically in the context of a PFC (Power Factor Correction) circuit. The document describes the control mechanism for discharging the AC capacitor in response to power input disconnection events. The circuit design includes MOSFETs and a thyristor. The document does not mention any specific application or technology beyond power electronics, making it a generalizable topic.\n",
      "--------------------\n"
     ]
    },
    {
     "name": "stderr",
     "output_type": "stream",
     "text": [
      " 78%|███████▊  | 101/130 [10:29<03:06,  6.44s/it]"
     ]
    },
    {
     "name": "stdout",
     "output_type": "stream",
     "text": [
      "Document: 101\n",
      "Topics: [1] Power Electronics: DC/DC converter circuits for converting and isolating DC power with adjustable output modes.\n",
      "--------------------\n"
     ]
    },
    {
     "name": "stderr",
     "output_type": "stream",
     "text": [
      " 78%|███████▊  | 102/130 [10:34<02:56,  6.29s/it]"
     ]
    },
    {
     "name": "stdout",
     "output_type": "stream",
     "text": [
      "Document: 102\n",
      "Topics: [1] Power Electronics: Control and protection of power converters using impedance and current thresholds.\n",
      "--------------------\n"
     ]
    },
    {
     "name": "stderr",
     "output_type": "stream",
     "text": [
      " 79%|███████▉  | 103/130 [10:40<02:46,  6.18s/it]"
     ]
    },
    {
     "name": "stdout",
     "output_type": "stream",
     "text": [
      "Document: 103\n",
      "Topics: [1] Engineering: Control systems for three-phase motors to suppress torque generation using zero phase sequence component current.\n",
      "--------------------\n"
     ]
    },
    {
     "name": "stderr",
     "output_type": "stream",
     "text": [
      " 80%|████████  | 104/130 [10:47<02:40,  6.18s/it]"
     ]
    },
    {
     "name": "stdout",
     "output_type": "stream",
     "text": [
      "Document: 104\n",
      "Topics: [1] Energy Management: Optimizing power output in hybrid power plants by controlling wind turbine generator blade shadows on photovoltaic modules.\n",
      "--------------------\n"
     ]
    },
    {
     "name": "stderr",
     "output_type": "stream",
     "text": [
      " 81%|████████  | 105/130 [10:55<02:49,  6.78s/it]"
     ]
    },
    {
     "name": "stdout",
     "output_type": "stream",
     "text": [
      "Document: 105\n",
      "Topics: [1] Communications: Reliable wideband communication with reduced power consumption using signal duplication and filtering.\n",
      "\n",
      "[1] Signal Processing: Filtering and sampling techniques for wideband communication systems.\n",
      "\n",
      "[1] Wireless Communications: Signal processing techniques for improving reliability and reducing power consumption in user equipment receivers.\n",
      "\n",
      "[1] Radio Frequency (RF) Technology: Signal processing and filtering techniques for RF communications.\n",
      "\n",
      "[1] Digital Signal Processing: Sampling and filtering techniques for digital baseband signals.\n",
      "\n",
      "[1] Telecommunications: Wideband communication systems with reduced power consumption and improved reliability.\n",
      "\n",
      "[1] Antenna Technology: Design and implementation of antennas for wideband communication systems.\n",
      "\n",
      "[1] Power Management: Power consumption reduction techniques for wireless communication systems.\n",
      "\n",
      "[1] Signal Filtering: Techniques for filtering and processing signals in communication systems.\n",
      "\n",
      "[1] Wireless Networks: Wideband communication systems with improved reliability and reduced power consumption.\n",
      "\n",
      "[1] Digital Signal Analysis: Techniques for analyzing and processing digital baseband signals.\n",
      "\n",
      "[1] Radio Frequency Filtering: Filtering techniques for RF signals in communication systems.\n",
      "\n",
      "[1] Wireless Receivers: Design and implementation of wideband communication receivers.\n",
      "\n",
      "[1] Signal Conditioning: Techn\n",
      "--------------------\n"
     ]
    },
    {
     "name": "stderr",
     "output_type": "stream",
     "text": [
      " 82%|████████▏ | 106/130 [11:02<02:45,  6.90s/it]"
     ]
    },
    {
     "name": "stdout",
     "output_type": "stream",
     "text": [
      "Document: 106\n",
      "Topics: [1] Telecommunications and Power Networks: Integration of telecommunications and power networks for efficient energy management.\n",
      "\n",
      "[1] Telecommunications: Transmission and reception of data over long distances using various technologies.\n",
      "\n",
      "[1] Power Networks: Distribution and management of electrical power.\n",
      "\n",
      "[1] Optical Networks: Transmission of data using light signals through fiber optic cables.\n",
      "\n",
      "[1] Network Switches: Devices that connect and forward data between different networks or devices.\n",
      "\n",
      "[1] Routers: Devices that route and forward data between different networks or subnetworks.\n",
      "\n",
      "[1] Automatic Transfer Switches: Devices that automatically switch power sources to maintain continuity in the event of a power failure.\n",
      "\n",
      "[1] Power Sources: Devices that generate or store electrical power.\n",
      "\n",
      "[1] Server Systems: Large computers that manage and process data for various applications.\n",
      "\n",
      "[1] Energy Management: Efficient use, conservation, and management of energy resources.\n",
      "--------------------\n"
     ]
    },
    {
     "name": "stderr",
     "output_type": "stream",
     "text": [
      " 82%|████████▏ | 107/130 [11:08<02:31,  6.61s/it]"
     ]
    },
    {
     "name": "stdout",
     "output_type": "stream",
     "text": [
      "Document: 107\n",
      "Topics: [1] Wireless Communications: Reception of physical downlink control channels using selectable number of antennas and receive chains for optimal performance.\n",
      "--------------------\n"
     ]
    },
    {
     "name": "stderr",
     "output_type": "stream",
     "text": [
      " 83%|████████▎ | 108/130 [11:14<02:23,  6.53s/it]"
     ]
    },
    {
     "name": "stdout",
     "output_type": "stream",
     "text": [
      "Document: 108\n",
      "Topics: [1] Wireless Communications: Wireless message relay using a repeater device for improved coverage and communication efficiency.\n",
      "\n",
      "[Explanation] The document discusses a method for wireless communication using a repeater device. This topic can be added as a top-level topic in the hierarchy under the \"Wireless Communications\" category. The topic description reflects the general concept of wireless message relay using a repeater device, which can accommodate future subtopics related to this technology.\n",
      "--------------------\n"
     ]
    },
    {
     "name": "stderr",
     "output_type": "stream",
     "text": [
      " 84%|████████▍ | 109/130 [11:20<02:13,  6.35s/it]"
     ]
    },
    {
     "name": "stdout",
     "output_type": "stream",
     "text": [
      "Document: 109\n",
      "Topics: [1] Wireless Communications: Relay device with adaptive beamforming and selectable passive/active relay operation for optimized data transmission.\n",
      "--------------------\n"
     ]
    },
    {
     "name": "stderr",
     "output_type": "stream",
     "text": [
      " 85%|████████▍ | 110/130 [11:26<02:04,  6.23s/it]"
     ]
    },
    {
     "name": "stdout",
     "output_type": "stream",
     "text": [
      "Document: 110\n",
      "Topics: [1] Wireless Communications: Index modulation for full-duplex operations, resource allocation, and energy detection.\n",
      "--------------------\n"
     ]
    },
    {
     "name": "stderr",
     "output_type": "stream",
     "text": [
      " 85%|████████▌ | 111/130 [11:32<01:59,  6.27s/it]"
     ]
    },
    {
     "name": "stdout",
     "output_type": "stream",
     "text": [
      "Document: 111\n",
      "Topics: [1] Photovoltaics: Photoelectric conversion apparatus utilizing avalanche multiplication in photodiodes and control circuits.\n",
      "[1] Electronics Packages: Design and implementation of control circuits for photoelectric conversion apparatus.\n",
      "[1] Power Electronics: Generation and management of electrical power from photoelectric conversion apparatus.\n",
      "[1] Signal Processing: Counting the number of avalanche multiplication periods using control signals and photodiode outputs.\n",
      "--------------------\n"
     ]
    },
    {
     "name": "stderr",
     "output_type": "stream",
     "text": [
      " 86%|████████▌ | 112/130 [11:38<01:49,  6.11s/it]"
     ]
    },
    {
     "name": "stdout",
     "output_type": "stream",
     "text": [
      "Document: 112\n",
      "Topics: [1] Energy Management: Efficient energy consumption in earphones through automatic power management.\n",
      "--------------------\n"
     ]
    },
    {
     "name": "stderr",
     "output_type": "stream",
     "text": [
      " 87%|████████▋ | 113/130 [11:44<01:42,  6.05s/it]"
     ]
    },
    {
     "name": "stdout",
     "output_type": "stream",
     "text": [
      "Document: 113\n",
      "Topics: [1] Communications: Reporting of early measurements in cellular communications systems for improved efficiency.\n",
      "[1] Wireless Communications: Dormant mode measurements and reporting schemes for optimized wireless device performance.\n",
      "--------------------\n"
     ]
    },
    {
     "name": "stderr",
     "output_type": "stream",
     "text": [
      " 88%|████████▊ | 114/130 [11:50<01:36,  6.02s/it]"
     ]
    },
    {
     "name": "stdout",
     "output_type": "stream",
     "text": [
      "Document: 114\n",
      "Topics: [1] Communications: Power management in wireless communication systems to optimize wake-up signaling and reduce power consumption.\n",
      "--------------------\n"
     ]
    },
    {
     "name": "stderr",
     "output_type": "stream",
     "text": [
      " 88%|████████▊ | 115/130 [11:57<01:33,  6.24s/it]"
     ]
    },
    {
     "name": "stdout",
     "output_type": "stream",
     "text": [
      "Document: 115\n",
      "Topics: [1] Sensing Technology: Detection of parameters for efficient sidelink resource allocation based on power saving mode durations.\n",
      "[1] Energy Management: Power saving modes for optimizing wireless communication resource usage.\n",
      "[1] Wireless Communications: Sidelink resource allocation methods for power saving modes.\n",
      "[1] Power Electronics: Design and implementation of power saving modes for wireless devices.\n",
      "[1] Signal Processing: Detection and selection of resources for sidelink communication based on power saving mode parameters.\n",
      "[1] Telecommunications: Power saving techniques for efficient wireless communication resource allocation.\n",
      "--------------------\n"
     ]
    },
    {
     "name": "stderr",
     "output_type": "stream",
     "text": [
      " 89%|████████▉ | 116/130 [12:03<01:26,  6.15s/it]"
     ]
    },
    {
     "name": "stdout",
     "output_type": "stream",
     "text": [
      "Document: 116\n",
      "Topics: [1] Power Electronics: Power-saving signal monitoring and configuration for energy efficiency.\n",
      "--------------------\n"
     ]
    },
    {
     "name": "stderr",
     "output_type": "stream",
     "text": [
      " 90%|█████████ | 117/130 [12:09<01:18,  6.02s/it]"
     ]
    },
    {
     "name": "stdout",
     "output_type": "stream",
     "text": [
      "Document: 117\n",
      "Topics: [1] Telecommunications: Power saving techniques for UE through sleep state management.\n",
      "--------------------\n"
     ]
    },
    {
     "name": "stderr",
     "output_type": "stream",
     "text": [
      " 91%|█████████ | 118/130 [12:14<01:12,  6.00s/it]"
     ]
    },
    {
     "name": "stdout",
     "output_type": "stream",
     "text": [
      "Document: 118\n",
      "Topics: [1] Wireless Communications: Location techniques for NB UEs with different response times and message size limits.\n",
      "--------------------\n"
     ]
    },
    {
     "name": "stderr",
     "output_type": "stream",
     "text": [
      " 92%|█████████▏| 119/130 [12:20<01:05,  5.98s/it]"
     ]
    },
    {
     "name": "stdout",
     "output_type": "stream",
     "text": [
      "Document: 119\n",
      "Topics: [1] Wireless Communication: Sidelink devices managing multiple bandwidth parts and resource pools for efficient communication.\n",
      "--------------------\n"
     ]
    },
    {
     "name": "stderr",
     "output_type": "stream",
     "text": [
      " 92%|█████████▏| 120/130 [12:26<00:59,  5.97s/it]"
     ]
    },
    {
     "name": "stdout",
     "output_type": "stream",
     "text": [
      "Document: 120\n",
      "Topics: [1] Communications: Activating multiple Bandwidth Parts (BWP) in a 5G terminal using Downlink Control Information (DCI) and Radio Network Temporary Identifiers (RNTI).\n",
      "--------------------\n"
     ]
    },
    {
     "name": "stderr",
     "output_type": "stream",
     "text": [
      " 93%|█████████▎| 121/130 [12:32<00:53,  5.96s/it]"
     ]
    },
    {
     "name": "stdout",
     "output_type": "stream",
     "text": [
      "Document: 121\n",
      "Topics: [1] Wireless Communications: Dynamic carrier activation or deactivation based on Downlink Control Information in Physical Downlink Control Channels.\n",
      "--------------------\n"
     ]
    },
    {
     "name": "stderr",
     "output_type": "stream",
     "text": [
      " 94%|█████████▍| 122/130 [12:38<00:47,  5.95s/it]"
     ]
    },
    {
     "name": "stdout",
     "output_type": "stream",
     "text": [
      "Document: 122\n",
      "Topics: [1] Wireless Communication: Coexistence of multiple wireless networks using time division multiplexing (TDM) in one or more wireless communication channels.\n",
      "--------------------\n"
     ]
    },
    {
     "name": "stderr",
     "output_type": "stream",
     "text": [
      " 95%|█████████▍| 123/130 [12:44<00:41,  5.90s/it]"
     ]
    },
    {
     "name": "stdout",
     "output_type": "stream",
     "text": [
      "Document: 123\n",
      "Topics: [1] Communications: Random Access (RA) configuration methods for efficient use of synchronization signal blocks and channel resources.\n",
      "--------------------\n"
     ]
    },
    {
     "name": "stderr",
     "output_type": "stream",
     "text": [
      " 95%|█████████▌| 124/130 [12:50<00:35,  5.90s/it]"
     ]
    },
    {
     "name": "stdout",
     "output_type": "stream",
     "text": [
      "Document: 124\n",
      "Topics: [1] Telecommunications and Power Networks: Dynamic control of downlink transmissions and receiver scheduling in wireless communication networks.\n",
      "--------------------\n"
     ]
    },
    {
     "name": "stderr",
     "output_type": "stream",
     "text": [
      " 96%|█████████▌| 125/130 [12:56<00:29,  5.85s/it]"
     ]
    },
    {
     "name": "stdout",
     "output_type": "stream",
     "text": [
      "Document: 125\n",
      "Topics: [1] Communications: Downlink control channel signaling and resource allocation for efficient data transmission.\n",
      "--------------------\n"
     ]
    },
    {
     "name": "stderr",
     "output_type": "stream",
     "text": [
      " 97%|█████████▋| 126/130 [13:02<00:23,  5.88s/it]"
     ]
    },
    {
     "name": "stdout",
     "output_type": "stream",
     "text": [
      "Document: 126\n",
      "Topics: [1] Wireless Communications: Timer-based uplink data transmission control in wireless communication systems.\n",
      "--------------------\n"
     ]
    },
    {
     "name": "stderr",
     "output_type": "stream",
     "text": [
      " 98%|█████████▊| 127/130 [13:07<00:17,  5.90s/it]"
     ]
    },
    {
     "name": "stdout",
     "output_type": "stream",
     "text": [
      "Document: 127\n",
      "Topics: [1] Electrical Systems: Voltage protection using MOSFET circuits and threshold voltage control.\n",
      "--------------------\n"
     ]
    },
    {
     "name": "stderr",
     "output_type": "stream",
     "text": [
      " 98%|█████████▊| 128/130 [13:14<00:12,  6.15s/it]"
     ]
    },
    {
     "name": "stdout",
     "output_type": "stream",
     "text": [
      "Document: 128\n",
      "Topics: [1] Ion Beam Technology: Development of cost-effective, high-performance systems for generating neutrons and protons.\n",
      "\n",
      "[Explanation] The document discusses high energy ion beam generator systems and methods for generating neutrons and protons. This topic is generalizable as it refers to the technology of ion beam systems and their applications in generating neutrons and protons. The topic is broad enough to accommodate future subtopics related to different types of ion beam generators, their design, optimization, and applications in various industries.\n",
      "--------------------\n"
     ]
    },
    {
     "name": "stderr",
     "output_type": "stream",
     "text": [
      " 99%|█████████▉| 129/130 [13:20<00:06,  6.09s/it]"
     ]
    },
    {
     "name": "stdout",
     "output_type": "stream",
     "text": [
      "Document: 129\n",
      "Topics: [1] Product Design: Design of a modular fan assembly with easy disassembly using flexible connection components and limiting parts.\n",
      "--------------------\n"
     ]
    },
    {
     "name": "stderr",
     "output_type": "stream",
     "text": [
      "100%|██████████| 130/130 [13:27<00:00,  6.21s/it]"
     ]
    },
    {
     "name": "stdout",
     "output_type": "stream",
     "text": [
      "Document: 130\n",
      "Topics: [1] Display Technology: Manufacturing of display panels with light-shielding layers and insulating planarization layers.\n",
      "\n",
      "[Explanation] The document discusses a display panel and its manufacturing method, which involves a substrate, a display layer, and a light-shielding layer. The display layer consists of a driving circuit layer and an insulating planarization layer. The document mentions the presence of through holes in the display layer and the light-shielding layer covering a portion of the insulating planarization layer's side wall. This information is related to display technology and can be generalized as a top-level topic.\n",
      "--------------------\n"
     ]
    },
    {
     "name": "stderr",
     "output_type": "stream",
     "text": [
      "\n"
     ]
    }
   ],
   "source": [
    "# Description: Example of how to run the generation script\n",
    "%run generation_1.py --deployment_name mistral-7b-instruct \\\n",
    "                    --max_tokens 300 --temperature 0.0 --top_p 0.0 \\\n",
    "                    --data $data_sample \\\n",
    "                    --prompt_file $generation_prompt \\\n",
    "                    --seed_file $seed_1 \\\n",
    "                    --out_file $generation_out \\\n",
    "                    --topic_file $generation_topic \\\n",
    "                    --verbose True"
   ]
  },
  {
   "cell_type": "code",
   "execution_count": 3,
   "metadata": {
    "vscode": {
     "languageId": "shellscript"
    }
   },
   "outputs": [
    {
     "name": "stdout",
     "output_type": "stream",
     "text": [
      "[1] Water Treatment: Application of antibacterial super-porous hydrogel in wastewater treatment for pollutant degradation.\n",
      "[1] Environmental Science: Use of antibacterial super-porous hydrogel for wastewater treatment and pollutant removal.\n",
      "[1] Nanotechnology: Synthesis and application of antibacterial super-porous hydrogel in water treatment.\n",
      "Removing [1] Water Treatment: Application of antibacterial super-porous hydrogel in wastewater treatment for pollutant degradation.\n",
      "\n",
      "Removing [1] Nanotechnology: Synthesis and application of antibacterial super-porous hydrogel in water treatment.\n",
      "\n",
      "Removing [1] Environmental Science: Use of antibacterial super-porous hydrogel for wastewater treatment and pollutant removal.\n",
      "\n",
      "Adding [1] Nanotechnology in Water Treatment: Synthesis and application of antibacterial super-porous hydrogel for wastewater treatment and pollutant removal.\n",
      "\n",
      "--------------------\n",
      "[1] Biomass Processing: Converting biomass into high-crystallinity nanocellulose with low mechanical energy input.\n",
      "[1] Nanocellulose: Production of high-crystallinity nanocellulose from biomass for use in composites.\n",
      "[1] Telecommunications: Wideband communication systems with reduced power consumption and improved reliability.\n",
      "[1] Wireless Networks: Wideband communication systems with improved reliability and reduced power consumption.\n",
      "Removing [1] Biomass Processing: Converting biomass into high-crystallinity nanocellulose with low mechanical energy input.\n",
      "\n",
      "Removing [1] Nanocellulose: Production of high-crystallinity nanocellulose from biomass for use in composites.\n",
      "\n",
      "Adding [1] Biomass Processing and Nanocellulose: Production of high-crystallinity nanocellulose from biomass for use in composites and wideband communication systems\n",
      "\n",
      "Removing [1] Telecommunications: Wideband communication systems with reduced power consumption and improved reliability.\n",
      "\n",
      "Removing [1] Wireless Networks: Wideband communication systems with improved reliability and reduced power consumption.\n",
      "\n",
      "Adding [1] Telecommunications and Wireless Networks: Wideband communication systems with reduced power consumption and improved reliability\n",
      "\n",
      "--------------------\n",
      "[1] Green Chemistry: Synthesis of antibacterial super-porous hydrogel using a green method and its application in wastewater treatment.\n",
      "[1] Nanotechnology in Water Treatment: Synthesis and application of antibacterial super-porous hydrogel for wastewater treatment and pollutant removal.\n",
      "[1] Signal Filtering: Techniques for filtering and processing signals in communication systems.\n",
      "[1] Radio Frequency Filtering: Filtering techniques for RF signals in communication systems.\n",
      "Removing [1] Green Chemistry: Synthesis of antibacterial super-porous hydrogel using a green method and its application in wastewater treatment.\n",
      "\n",
      "Removing [1] Nanotechnology in Water Treatment: Synthesis and application of antibacterial super-porous hydrogel for wastewater treatment and pollutant removal.\n",
      "\n",
      "Adding [1] Green Chemistry and Nanotechnology in Water Treatment: Synthesis and application of antibacterial super-porous hydrogel for wastewater treatment, pollutant removal, and signal filtering in communication systems.\n",
      "\n",
      "Removing [1] Signal Filtering: Techniques for filtering and processing signals in communication systems.\n",
      "\n",
      "Removing [1] Radio Frequency Filtering: Filtering techniques for RF signals in communication systems.\n",
      "\n",
      "Adding [1] Signal Filtering and Radio Frequency Filtering: Techniques for filtering and processing signals, including RF signals, in communication systems.\n",
      "\n",
      "--------------------\n",
      "[1] Signal Processing: Filtering and sampling techniques for wideband communication systems.\n",
      "[1] Digital Signal Processing: Sampling and filtering techniques for digital baseband signals.\n",
      "[1] Digital Signal Analysis: Techniques for analyzing and processing digital baseband signals.\n",
      "Removing [1] Signal Processing: Filtering and sampling techniques for wideband communication systems.\n",
      "\n",
      "Removing [1] Digital Signal Analysis: Techniques for analyzing and processing digital baseband signals.\n",
      "\n",
      "[1] Digital Signal Processing already exists!\n",
      "\n",
      "--------------------\n",
      "[1] Aerospace Engineering: Design and conversion of aircraft for enhanced cargo capacity through the addition of a cargo module.\n",
      "[1] Logistics: Management and transportation of cargo using enhanced cargo capacity aircraft.\n",
      "[1] Communications: Reliable wideband communication with reduced power consumption using signal duplication and filtering.\n",
      "[1] Telecommunications and Wireless Networks: Wideband communication systems with reduced power consumption and improved reliability\n",
      "Removing [1] Aerospace Engineering: Design and conversion of aircraft for enhanced cargo capacity through the addition of a cargo module.\n",
      "\n",
      "Removing [1] Logistics: Management and transportation of cargo using enhanced cargo capacity aircraft.\n",
      "\n",
      "Adding [1] Aerospace Engineering and Logistics: Design and management of enhanced cargo capacity aircraft and their use in cargo transportation.\n",
      "\n",
      "Removing [1] Communications: Reliable wideband communication with reduced power consumption using signal duplication and filtering.\n",
      "\n",
      "Removing [1] Telecommunications and Wireless Networks: Wideband communication systems with reduced power consumption and improved reliability\n",
      "\n",
      "Adding [1] Communications and Telecommunications and Wireless Networks: Reliable wideband communication systems with reduced power consumption\n",
      "\n",
      "--------------------\n",
      "[1] Renewable Composites: Combining nanocellulose with polymers derived from biomass for completely renewable composites.\n",
      "[1] Biomass Processing and Nanocellulose: Production of high-crystallinity nanocellulose from biomass for use in composites and wideband communication systems\n",
      "[1] Antenna Technology: Design and implementation of antennas for wideband communication systems.\n",
      "[1] Wireless Receivers: Design and implementation of wideband communication receivers.\n",
      "Removing [1] Renewable Composites: Combining nanocellulose with polymers derived from biomass for completely renewable composites.\n",
      "\n",
      "Removing [1] Biomass Processing and Nanocellulose: Production of high-crystallinity nanocellulose from biomass for use in composites and wideband communication systems\n",
      "\n",
      "Adding [1] Renewable Composites and Biomass Processing and Nanocellulose: Production of renewable composites using nanocellulose from biomass for use in communication systems\n",
      "\n",
      "Removing [1] Antenna Technology: Design and implementation of antennas for wideband communication systems.\n",
      "\n",
      "Removing [1] Wireless Receivers: Design and implementation of wideband communication receivers.\n",
      "\n",
      "Adding [1] Antenna Technology and Wireless Receivers: Design and implementation of components for wireless communication systems\n",
      "\n",
      "--------------------\n",
      "[1] Industrial Equipment: Mobile steel grit dryers for structure maintenance and resurfacing.\n",
      "[1] Industrial Automation: Automation features for steel grit dryers.\n",
      "[1] Vacuum Systems: Off-board vacuum systems for steel grit dryers.\n",
      "Removing [1] Vacuum Systems: Off-board vacuum systems for steel grit dryers.\n",
      "\n",
      "Removing [1] Industrial Automation: Automation features for steel grit dryers.\n",
      "\n",
      "[1] Industrial Equipment already exists!\n",
      "\n",
      "--------------------\n",
      "[1] Thermal Energy Storage: High temperature storage systems for extracting energy and managing working fluid temperatures for powering conventional equipment.\n",
      "[1] Energy Storage: Battery pack incorporating temperature control component for efficient energy storage.\n",
      "[1] Industrial Equipment: Mobile steel grit dryers for structure maintenance and resurfacing.\n",
      "[1] Safety Systems: Safety features for steel grit dryer operation.\n",
      "Removing [1] Industrial Equipment: Mobile steel grit dryers for structure maintenance and resurfacing.\n",
      "\n",
      "Removing [1] Thermal Energy Storage: High temperature storage systems for extracting energy and managing working fluid temperatures for powering conventional equipment.\n",
      "\n",
      "Removing [1] Energy Storage: Battery pack incorporating temperature control component for efficient energy storage.\n",
      "\n",
      "Adding [1] Energy Storage and Industrial Equipment: Systems for efficient energy storage and powering conventional equipment, including thermal energy storage and mobile steel grit dryers.\n",
      "\n",
      "--------------------\n",
      "[1] Chemical Engineering: Chemical and electrochemical methods for removing material from 3D printed metal parts.\n",
      "[1] Engineering: Processes for smoothing surfaces and removing trapped powder from 3D printed metal parts.\n",
      "[1] Digital Signal Processing: Sampling and filtering techniques for digital baseband signals.\n",
      "[1] Signal Filtering and Radio Frequency Filtering: Techniques for filtering and processing signals, including RF signals, in communication systems.\n",
      "--------------------\n",
      "[1] Wireless Communications: Signal processing techniques for improving reliability and reducing power consumption in user equipment receivers.\n",
      "[1] Communications and Telecommunications and Wireless Networks: Reliable wideband communication systems with reduced power consumption\n",
      "[1] Smart Windows: Photovoltaic windows that generate, store, and distribute electrical power, communicate with smart home systems, and include sensors.\n",
      "[1] Smart Home Systems: Integrated systems that manage and control various devices and appliances, including smart windows.\n",
      "Removing [1] Smart Windows: Photovoltaic windows that generate, store, and distribute electrical power, communicate with smart home systems, and include sensors.\n",
      "\n",
      "Removing [1] Wireless Communications: Signal processing techniques for improving reliability and reducing power consumption in user equipment receivers.\n",
      "\n",
      "Removing [1] Communications and Telecommunications and Wireless Networks: Reliable wideband communication systems with reduced power consumption\n",
      "\n",
      "Adding [1] Smart Systems: Systems that manage and control various devices and appliances, including smart windows and wireless communication systems for reduced power consumption\n",
      "\n",
      "--------------------\n",
      "[1] Smart Home Systems: Integrated systems that manage and control various devices and appliances, including smart windows.\n",
      "[1] Smart Systems: Systems that manage and control various devices and appliances, including smart windows and wireless communication systems for reduced power consumption\n",
      "[1] Power Management: Power consumption reduction techniques for wireless communication systems.\n",
      "Removing [1] Smart Home Systems: Integrated systems that manage and control various devices and appliances, including smart windows.\n",
      "\n",
      "Removing [1] Power Management: Power consumption reduction techniques for wireless communication systems.\n",
      "\n",
      "Adding [1] Smart Systems: Systems that manage and control various devices and appliances, including smart windows, wireless communication systems, and power management techniques for reduced power consumption\n",
      "\n",
      "--------------------\n",
      "[1] Smart Systems: Systems that manage and control various devices and appliances, including smart windows and wireless communication systems for reduced power consumption\n",
      "[1] Offshore Systems: Power generation and carbon dioxide injection for enhanced gas recovery in offshore gas reservoirs.\n",
      "[1] Gas Turbines: Power generation using offshore gas turbines.\n",
      "Removing [1] Offshore Systems: Power generation and carbon dioxide injection for enhanced gas recovery in offshore gas reservoirs.\n",
      "\n",
      "Removing [1] Gas Turbines: Power generation using offshore gas turbines.\n",
      "\n",
      "Removing [1] Smart Systems: Systems that manage and control various devices and appliances, including smart windows and wireless communication systems for reduced power consumption\n",
      "\n",
      "Removing [1] Smart Systems: Systems that manage and control various devices and appliances, including smart windows, wireless communication systems, and power management techniques for reduced power consumption\n",
      "\n",
      "Adding [1] Energy Systems: Systems for generating and managing power, including offshore systems and gas turbines\n",
      "\n",
      "--------------------\n",
      "[1] Telecommunications and Power Networks: Integration of telecommunications and power networks for efficient energy management.\n",
      "[1] Power Networks: Distribution and management of electrical power.\n",
      "[1] Additive Manufacturing: Processes for removing unstable portions of metal parts fabricated through additive manufacturing.\n",
      "[1] Engineering: Processes for smoothing surfaces and removing trapped powder from 3D printed metal parts.\n",
      "Removing [1] Additive Manufacturing: Processes for removing unstable portions of metal parts fabricated through additive manufacturing.\n",
      "\n",
      "Removing [1] Engineering: Processes for smoothing surfaces and removing trapped powder from 3D printed metal parts.\n",
      "\n",
      "Adding [1] Engineering and Additive Manufacturing: Processes for creating and finishing 3D printed metal parts\n",
      "\n",
      "--------------------\n",
      "[1] Chemical Engineering: Chemical and electrochemical methods for removing material from 3D printed metal parts.\n",
      "[1] Metallurgy: Treatment of metal surfaces to make them mechanically and chemically unstable for selective material removal.\n",
      "[1] Network Switches: Devices that connect and forward data between different networks or devices.\n",
      "[1] Routers: Devices that route and forward data between different networks or subnetworks.\n",
      "Removing [1] Chemical Engineering: Chemical and electrochemical methods for removing material from 3D printed metal parts.\n",
      "\n",
      "Removing [1] Metallurgy: Treatment of metal surfaces to make them mechanically and chemically unstable for selective material removal.\n",
      "\n",
      "Removing [1] Network Switches: Devices that connect and forward data between different networks or devices.\n",
      "\n",
      "Removing [1] Routers: Devices that route and forward data between different networks or subnetworks.\n",
      "\n",
      "Adding [1] Manufacturing and Networking: Discussion on methods for removing material from 3D printed metal parts using chemical and electrochemical engineering, as well as devices used for connecting and forwarding data between networks or devices\n",
      "\n",
      "--------------------\n",
      "[1] Manufacturing: Production of cargo modules and their conformal affixing to aircraft.\n",
      "[1] Aerospace Engineering and Logistics: Design and management of enhanced cargo capacity aircraft and their use in cargo transportation.\n",
      "[1] Gas Separation: Separation of nitrogen and carbon dioxide from flue gas for offshore applications.\n",
      "[1] Compressors: Compression of carbon dioxide-enriched flue gas for offshore injection.\n",
      "Removing [1] Manufacturing: Production of cargo modules and their conformal affixing to aircraft.\n",
      "\n",
      "Removing [1] Aerospace Engineering and Logistics: Design and management of enhanced cargo capacity aircraft and their use in cargo transportation.\n",
      "\n",
      "Adding [1] Aerospace Engineering and Manufacturing: Production of enhanced cargo capacity aircraft and their conformal affixing to aircraft, as well as design and manufacturing of cargo modules\n",
      "\n",
      "Removing [1] Gas Separation: Separation of nitrogen and carbon dioxide from flue gas for offshore applications.\n",
      "\n",
      "Removing [1] Compressors: Compression of carbon dioxide-enriched flue gas for offshore injection.\n",
      "\n",
      "Adding [1] Carbon Capture and Storage: Separation of nitrogen and carbon dioxide from flue gas for offshore applications and compression of carbon dioxide-enriched flue gas for offshore injection\n",
      "\n",
      "--------------------\n",
      "[1] Material Science: Development of a metal component with specific dimensions and alloy composition, not using traditional manufacturing methods.\n",
      "[1] Engineering and Additive Manufacturing: Processes for creating and finishing 3D printed metal parts\n",
      "[1] Manufacturing and Networking: Discussion on methods for removing material from 3D printed metal parts using chemical and electrochemical engineering, as well as devices used for connecting and forwarding data between networks or devices\n",
      "Removing [1] Material Science: Development of a metal component with specific dimensions and alloy composition, not using traditional manufacturing methods.\n",
      "\n",
      "Removing [1] Engineering and Additive Manufacturing: Processes for creating and finishing 3D printed metal parts\n",
      "\n",
      "Adding [1] Additive Manufacturing and Material Science: Development of 3D printed metal components using advanced alloys and non-traditional manufacturing methods.\n",
      "\n",
      "--------------------\n",
      "[1] Photovoltaics: Conversion of light into electrical energy.\n",
      "[1] Solar Energy: Optimization of photovoltaic system configurations through evaluative processes.\n",
      "[1] Manufacturing and Networking: Discussion on methods for removing material from 3D printed metal parts using chemical and electrochemical engineering, as well as devices used for connecting and forwarding data between networks or devices\n",
      "[1] Additive Manufacturing and Material Science: Development of 3D printed metal components using advanced alloys and non-traditional manufacturing methods.\n",
      "--------------------\n",
      "[1] Polymer Science: Preparation of super-porous hydrogel through copolymerization of ionic liquid and PEGDA.\n",
      "[1] Green Chemistry and Nanotechnology in Water Treatment: Synthesis and application of antibacterial super-porous hydrogel for wastewater treatment, pollutant removal, and signal filtering in communication systems.\n",
      "[1] Automatic Transfer Switches: Devices that automatically switch power sources to maintain continuity in the event of a power failure.\n",
      "[1] Power Sources: Devices that generate or store electrical power.\n",
      "Removing [1] Polymer Science: Preparation of super-porous hydrogel through copolymerization of ionic liquid and PEGDA.\n",
      "\n",
      "Removing [1] Green Chemistry and Nanotechnology in Water Treatment: Synthesis and application of antibacterial super-porous hydrogel for wastewater treatment, pollutant removal, and signal filtering in communication systems.\n",
      "\n",
      "Adding [1] Polymer Science and Green Chemistry and Nanotechnology in Water Treatment: Research on the preparation and application of super-porous hydrogel in water treatment and communication systems.\n",
      "\n",
      "Removing [1] Automatic Transfer Switches: Devices that automatically switch power sources to maintain continuity in the event of a power failure.\n",
      "\n",
      "Removing [1] Power Sources: Devices that generate or store electrical power.\n",
      "\n",
      "Adding [1] Power Sources and Automatic Transfer Switches: Devices and systems for generating, storing, and transferring electrical power.\n",
      "\n",
      "--------------------\n",
      "[1] Electrical Systems: Battery connection and isolation switches for electrical equipment.\n",
      "[1] Power Sources and Automatic Transfer Switches: Devices and systems for generating, storing, and transferring electrical power.\n",
      "[1] Wind Energy: Manufacturing of wind turbine blades using additive manufacturing for improved durability and efficiency.\n",
      "[1] Additive Manufacturing and Material Science: Development of 3D printed metal components using advanced alloys and non-traditional manufacturing methods.\n",
      "Removing [1] Electrical Systems: Battery connection and isolation switches for electrical equipment.\n",
      "\n",
      "Removing [1] Wind Energy: Manufacturing of wind turbine blades using additive manufacturing for improved durability and efficiency.\n",
      "\n",
      "Removing [1] Additive Manufacturing and Material Science: Development of 3D printed metal components using advanced alloys and non-traditional manufacturing methods.\n",
      "\n",
      "Removing [1] Power Sources and Automatic Transfer Switches: Devices and systems for generating, storing, and transferring electrical power.\n",
      "\n",
      "Adding [1] Energy Systems and Technologies: Topics cover various energy sources, power systems, and advanced manufacturing methods for improved efficiency and durability.\n",
      "\n",
      "--------------------\n",
      "[1] Energy Storage and Industrial Equipment: Systems for efficient energy storage and powering conventional equipment, including thermal energy storage and mobile steel grit dryers.\n",
      "[1] Energy Systems and Technologies: Topics cover various energy sources, power systems, and advanced manufacturing methods for improved efficiency and durability.\n",
      "[1] Energy Systems: Systems for generating and managing power, including offshore systems and gas turbines\n",
      "Removing [1] Energy Storage and Industrial Equipment: Systems for efficient energy storage and powering conventional equipment, including thermal energy storage and mobile steel grit dryers.\n",
      "\n",
      "Removing [1] Energy Systems: Systems for generating and managing power, including offshore systems and gas turbines\n",
      "\n",
      "Adding [1] Energy Systems and Technologies: Topics cover various energy sources, power systems, advanced manufacturing methods for improved efficiency and durability, and energy storage systems\n",
      "\n",
      "--------------------\n",
      "[1] Energy Systems and Technologies: Topics cover various energy sources, power systems, and advanced manufacturing methods for improved efficiency and durability.\n",
      "[1] Wireless Communication Systems: Transmission of data without the use of wires.\n",
      "[1] Wireless Communication: Sidelink devices managing multiple bandwidth parts and resource pools for efficient communication.\n",
      "Removing [1] Wireless Communication Systems: Transmission of data without the use of wires.\n",
      "\n",
      "Adding [1] Energy Systems and Technologies: Topics cover various energy sources, power systems, advanced manufacturing methods for improved efficiency and durability, and wireless communication systems.\n",
      "\n",
      "--------------------\n",
      "[1] Energy Systems and Technologies: Topics cover various energy sources, power systems, and advanced manufacturing methods for improved efficiency and durability.\n",
      "--------------------\n",
      "[1] Ceramic Spheres: Heat exchange material used as heat sinks in thermal oxidation systems.\n",
      "[1] Thermal Technology: Electrocaloric devices using heat transfer laminates for temperature control.\n",
      "[1] Sensing Technology: Gas sensors with restricting portions for improved stability and contact.\n",
      "[1] Sensors: Devices that measure physical or environmental properties and record, indicate, or transmit data.\n",
      "Removing [1] Ceramic Spheres: Heat exchange material used as heat sinks in thermal oxidation systems.\n",
      "\n",
      "Removing [1] Thermal Technology: Electrocaloric devices using heat transfer laminates for temperature control.\n",
      "\n",
      "Removing [1] Sensors: Devices that measure physical or environmental properties and record, indicate, or transmit data.\n",
      "\n",
      "[1] Sensing Technology already exists!\n",
      "\n",
      "--------------------\n",
      "[1] Energy Management: Predicting power and energy consumption/generation for battery and renewable energy systems, determining charge thresholds and engine activation.\n",
      "[1] Energy Systems and Technologies: Topics cover various energy sources, power systems, advanced manufacturing methods for improved efficiency and durability, and energy storage systems\n",
      "[1] Lignin: Deposition of lignin onto nanocellulose surface for hydrophobic properties.\n",
      "[1] Renewable Composites and Biomass Processing and Nanocellulose: Production of renewable composites using nanocellulose from biomass for use in communication systems\n",
      "Removing [1] Energy Management: Predicting power and energy consumption/generation for battery and renewable energy systems, determining charge thresholds and engine activation.\n",
      "\n",
      "Removing [1] Lignin: Deposition of lignin onto nanocellulose surface for hydrophobic properties.\n",
      "\n",
      "Removing [1] Renewable Composites and Biomass Processing and Nanocellulose: Production of renewable composites using nanocellulose from biomass for use in communication systems\n",
      "\n",
      "Adding [1] Energy Systems and Technologies: Topics cover various energy sources, power systems, advanced manufacturing methods for improved efficiency and durability, energy storage systems, and production of renewable composites using nanocellulose from biomass for use in communication systems\n",
      "\n",
      "--------------------\n",
      "[1] Energy Systems and Technologies: Topics cover various energy sources, power systems, advanced manufacturing methods for improved efficiency and durability, and energy storage systems\n",
      "--------------------\n",
      "[1] Energy Systems and Technologies: Topics cover various energy sources, power systems, and advanced manufacturing methods for improved efficiency and durability.\n",
      "[1] Telecommunications and Power Networks: Integration of telecommunications and power networks for efficient energy management.\n",
      "Removing [1] Telecommunications and Power Networks: Integration of telecommunications and power networks for efficient energy management.\n",
      "\n",
      "Adding [1] Energy Systems and Technologies: Topics cover various energy sources, power systems, advanced manufacturing methods for improved efficiency and durability, and integration of telecommunications for efficient energy management.\n",
      "\n",
      "--------------------\n",
      "[1] Energy Systems and Technologies: Topics cover various energy sources, power systems, advanced manufacturing methods for improved efficiency and durability, and wireless communication systems.\n",
      "--------------------\n",
      "[1] Energy Systems and Technologies: Topics cover various energy sources, power systems, advanced manufacturing methods for improved efficiency and durability, and energy storage systems\n",
      "--------------------\n",
      "Removing Irrigation Systems (1 counts)\n",
      "Removing Laser Technology (1 counts)\n",
      "Removing Safety Systems (2 counts)\n",
      "Removing Robotics (1 counts)\n",
      "Removing Insulation Systems (1 counts)\n",
      "Removing Fermentation (2 counts)\n",
      "Removing Biotechnology (1 counts)\n",
      "Removing Mobile Operating Machines (1 counts)\n",
      "Removing Engine Control Systems (2 counts)\n",
      "Removing Geothermal Energy (1 counts)\n",
      "Removing Gas Storage Systems (1 counts)\n",
      "Removing Thermal Oxidation (1 counts)\n",
      "Removing Refrigeration Systems (1 counts)\n",
      "Removing Microbiology (1 counts)\n",
      "Removing Photovoltaics (2 counts)\n",
      "Removing Electronics Packages (2 counts)\n",
      "Removing Window Functions (1 counts)\n",
      "Removing Autonomous Vehicles (1 counts)\n",
      "Removing Healthcare (1 counts)\n",
      "Removing Optoelectronics (2 counts)\n",
      "Removing Display Technology (2 counts)\n",
      "Removing Control Systems (2 counts)\n",
      "Removing Thermal Management (1 counts)\n",
      "Removing Signal Conditioning (1 counts)\n",
      "Removing Power Networks (1 counts)\n",
      "Removing Optical Networks (1 counts)\n",
      "Removing Server Systems (1 counts)\n",
      "Removing Wireless Communication (2 counts)\n",
      "Removing Ion Beam Technology (1 counts)\n",
      "Removing Signal Filtering and Radio Frequency Filtering (2 counts)\n",
      "Removing Antenna Technology and Wireless Receivers (2 counts)\n",
      "Removing Carbon Capture and Storage (2 counts)\n",
      "Removing Energy Systems and Technologies (2 counts)\n",
      "Removing Energy Systems and Technologies (2 counts)\n",
      "Replacing [1] Material Science: with [1] Additive Manufacturing and Material Science:\n",
      "Replacing [1] Additive Manufacturing and Material Science: with [1] Energy Systems and Technologies:\n",
      "Replacing [1] Material Science: with [1] Additive Manufacturing and Material Science:\n",
      "Replacing [1] Additive Manufacturing and Material Science: with [1] Energy Systems and Technologies:\n",
      "Replacing [1] Additive Manufacturing: with [1] Engineering and Additive Manufacturing:\n",
      "Replacing [1] Engineering and Additive Manufacturing: with [1] Additive Manufacturing and Material Science:\n",
      "Replacing [1] Additive Manufacturing and Material Science: with [1] Energy Systems and Technologies:\n",
      "Replacing [1] Chemical Engineering: with [1] Manufacturing and Networking:\n",
      "Replacing [1] Metallurgy: with [1] Manufacturing and Networking:\n",
      "Replacing [1] Engineering: with [1] Engineering and Additive Manufacturing:\n",
      "Replacing [1] Engineering and Additive Manufacturing: with [1] Additive Manufacturing and Material Science:\n",
      "Replacing [1] Additive Manufacturing and Material Science: with [1] Energy Systems and Technologies:\n",
      "Replacing [1] Engineering: with [1] Engineering and Additive Manufacturing:\n",
      "Replacing [1] Engineering and Additive Manufacturing: with [1] Additive Manufacturing and Material Science:\n",
      "Replacing [1] Additive Manufacturing and Material Science: with [1] Energy Systems and Technologies:\n",
      "Replacing [1] Engineering: with [1] Engineering and Additive Manufacturing:\n",
      "Replacing [1] Engineering and Additive Manufacturing: with [1] Additive Manufacturing and Material Science:\n",
      "Replacing [1] Additive Manufacturing and Material Science: with [1] Energy Systems and Technologies:\n",
      "Replacing [1] Engineering: with [1] Engineering and Additive Manufacturing:\n",
      "Replacing [1] Engineering and Additive Manufacturing: with [1] Additive Manufacturing and Material Science:\n",
      "Replacing [1] Additive Manufacturing and Material Science: with [1] Energy Systems and Technologies:\n",
      "Replacing [1] Industrial Equipment: with [1] Energy Storage and Industrial Equipment:\n",
      "Replacing [1] Energy Storage and Industrial Equipment: with [1] Energy Systems and Technologies:\n",
      "Replacing [1] Vacuum Systems: with [1] Industrial Equipment:\n",
      "Replacing [1] Industrial Equipment: with [1] Energy Storage and Industrial Equipment:\n",
      "Replacing [1] Energy Storage and Industrial Equipment: with [1] Energy Systems and Technologies:\n",
      "Replacing [1] Industrial Automation: with [1] Industrial Equipment:\n",
      "Replacing [1] Industrial Equipment: with [1] Energy Storage and Industrial Equipment:\n",
      "Replacing [1] Energy Storage and Industrial Equipment: with [1] Energy Systems and Technologies:\n",
      "Replacing [1] Industrial Automation: with [1] Industrial Equipment:\n",
      "Replacing [1] Industrial Equipment: with [1] Energy Storage and Industrial Equipment:\n",
      "Replacing [1] Energy Storage and Industrial Equipment: with [1] Energy Systems and Technologies:\n",
      "Replacing [1] Industrial Automation: with [1] Industrial Equipment:\n",
      "Replacing [1] Industrial Equipment: with [1] Energy Storage and Industrial Equipment:\n",
      "Replacing [1] Energy Storage and Industrial Equipment: with [1] Energy Systems and Technologies:\n",
      "Replacing [1] Additive Manufacturing: with [1] Engineering and Additive Manufacturing:\n",
      "Replacing [1] Engineering and Additive Manufacturing: with [1] Additive Manufacturing and Material Science:\n",
      "Replacing [1] Additive Manufacturing and Material Science: with [1] Energy Systems and Technologies:\n",
      "Replacing [1] Industrial Automation: with [1] Industrial Equipment:\n",
      "Replacing [1] Industrial Equipment: with [1] Energy Storage and Industrial Equipment:\n",
      "Replacing [1] Energy Storage and Industrial Equipment: with [1] Energy Systems and Technologies:\n",
      "Replacing [1] Industrial Automation: with [1] Industrial Equipment:\n",
      "Replacing [1] Industrial Equipment: with [1] Energy Storage and Industrial Equipment:\n",
      "Replacing [1] Energy Storage and Industrial Equipment: with [1] Energy Systems and Technologies:\n",
      "Replacing [1] Energy Management: with [1] Energy Systems and Technologies:\n",
      "Replacing [1] Energy Management: with [1] Energy Systems and Technologies:\n",
      "Replacing [1] Energy Management: with [1] Energy Systems and Technologies:\n",
      "Replacing [1] Aerospace Engineering: with [1] Aerospace Engineering and Logistics:\n",
      "Replacing [1] Aerospace Engineering and Logistics: with [1] Aerospace Engineering and Manufacturing:\n",
      "Replacing [1] Engineering: with [1] Engineering and Additive Manufacturing:\n",
      "Replacing [1] Engineering and Additive Manufacturing: with [1] Additive Manufacturing and Material Science:\n",
      "Replacing [1] Additive Manufacturing and Material Science: with [1] Energy Systems and Technologies:\n",
      "Replacing [1] Industrial Equipment: with [1] Energy Storage and Industrial Equipment:\n",
      "Replacing [1] Energy Storage and Industrial Equipment: with [1] Energy Systems and Technologies:\n",
      "Replacing [1] Material Science: with [1] Additive Manufacturing and Material Science:\n",
      "Replacing [1] Additive Manufacturing and Material Science: with [1] Energy Systems and Technologies:\n",
      "Replacing [1] Manufacturing: with [1] Aerospace Engineering and Manufacturing:\n",
      "Replacing [1] Logistics: with [1] Aerospace Engineering and Logistics:\n",
      "Replacing [1] Aerospace Engineering and Logistics: with [1] Aerospace Engineering and Manufacturing:\n",
      "Replacing [1] Energy Management: with [1] Energy Systems and Technologies:\n",
      "Replacing [1] Industrial Automation: with [1] Industrial Equipment:\n",
      "Replacing [1] Industrial Equipment: with [1] Energy Storage and Industrial Equipment:\n",
      "Replacing [1] Energy Storage and Industrial Equipment: with [1] Energy Systems and Technologies:\n",
      "Replacing [1] Engineering: with [1] Engineering and Additive Manufacturing:\n",
      "Replacing [1] Engineering and Additive Manufacturing: with [1] Additive Manufacturing and Material Science:\n",
      "Replacing [1] Additive Manufacturing and Material Science: with [1] Energy Systems and Technologies:\n",
      "Replacing [1] Material Science: with [1] Additive Manufacturing and Material Science:\n",
      "Replacing [1] Additive Manufacturing and Material Science: with [1] Energy Systems and Technologies:\n",
      "Replacing [1] Material Science: with [1] Additive Manufacturing and Material Science:\n",
      "Replacing [1] Additive Manufacturing and Material Science: with [1] Energy Systems and Technologies:\n",
      "Replacing [1] Chemical Engineering: with [1] Manufacturing and Networking:\n",
      "Replacing [1] Material Science: with [1] Additive Manufacturing and Material Science:\n",
      "Replacing [1] Additive Manufacturing and Material Science: with [1] Energy Systems and Technologies:\n",
      "Replacing [1] Chemical Engineering: with [1] Manufacturing and Networking:\n",
      "Replacing [1] Biomass Processing: with [1] Biomass Processing and Nanocellulose:\n",
      "Replacing [1] Biomass Processing and Nanocellulose: with [1] Renewable Composites and Biomass Processing and Nanocellulose:\n",
      "Replacing [1] Renewable Composites and Biomass Processing and Nanocellulose: with [1] Energy Systems and Technologies:\n",
      "Replacing [1] Nanocellulose: with [1] Biomass Processing and Nanocellulose:\n",
      "Replacing [1] Biomass Processing and Nanocellulose: with [1] Renewable Composites and Biomass Processing and Nanocellulose:\n",
      "Replacing [1] Renewable Composites and Biomass Processing and Nanocellulose: with [1] Energy Systems and Technologies:\n",
      "Replacing [1] Material Science: with [1] Additive Manufacturing and Material Science:\n",
      "Replacing [1] Additive Manufacturing and Material Science: with [1] Energy Systems and Technologies:\n",
      "Replacing [1] Chemical Engineering: with [1] Manufacturing and Networking:\n",
      "Replacing [1] Engineering: with [1] Engineering and Additive Manufacturing:\n",
      "Replacing [1] Engineering and Additive Manufacturing: with [1] Additive Manufacturing and Material Science:\n",
      "Replacing [1] Additive Manufacturing and Material Science: with [1] Energy Systems and Technologies:\n",
      "Replacing [1] Renewable Composites: with [1] Renewable Composites and Biomass Processing and Nanocellulose:\n",
      "Replacing [1] Renewable Composites and Biomass Processing and Nanocellulose: with [1] Energy Systems and Technologies:\n",
      "Replacing [1] Lignin: with [1] Energy Systems and Technologies:\n",
      "Replacing [1] Material Science: with [1] Additive Manufacturing and Material Science:\n",
      "Replacing [1] Additive Manufacturing and Material Science: with [1] Energy Systems and Technologies:\n",
      "Replacing [1] Water Treatment: with [1] Nanotechnology in Water Treatment:\n",
      "Replacing [1] Nanotechnology in Water Treatment: with [1] Green Chemistry and Nanotechnology in Water Treatment:\n",
      "Replacing [1] Green Chemistry and Nanotechnology in Water Treatment: with [1] Polymer Science and Green Chemistry and Nanotechnology in Water Treatment:\n",
      "Replacing [1] Polymer Science: with [1] Polymer Science and Green Chemistry and Nanotechnology in Water Treatment:\n",
      "Replacing [1] Nanotechnology: with [1] Nanotechnology in Water Treatment:\n",
      "Replacing [1] Nanotechnology in Water Treatment: with [1] Green Chemistry and Nanotechnology in Water Treatment:\n",
      "Replacing [1] Green Chemistry and Nanotechnology in Water Treatment: with [1] Polymer Science and Green Chemistry and Nanotechnology in Water Treatment:\n",
      "Replacing [1] Environmental Science: with [1] Nanotechnology in Water Treatment:\n",
      "Replacing [1] Nanotechnology in Water Treatment: with [1] Green Chemistry and Nanotechnology in Water Treatment:\n",
      "Replacing [1] Green Chemistry and Nanotechnology in Water Treatment: with [1] Polymer Science and Green Chemistry and Nanotechnology in Water Treatment:\n",
      "Replacing [1] Chemical Engineering: with [1] Manufacturing and Networking:\n",
      "Replacing [1] Green Chemistry: with [1] Green Chemistry and Nanotechnology in Water Treatment:\n",
      "Replacing [1] Green Chemistry and Nanotechnology in Water Treatment: with [1] Polymer Science and Green Chemistry and Nanotechnology in Water Treatment:\n",
      "Replacing [1] Material Science: with [1] Additive Manufacturing and Material Science:\n",
      "Replacing [1] Additive Manufacturing and Material Science: with [1] Energy Systems and Technologies:\n",
      "Replacing [1] Chemical Engineering: with [1] Manufacturing and Networking:\n",
      "Replacing [1] Engineering: with [1] Engineering and Additive Manufacturing:\n",
      "Replacing [1] Engineering and Additive Manufacturing: with [1] Additive Manufacturing and Material Science:\n",
      "Replacing [1] Additive Manufacturing and Material Science: with [1] Energy Systems and Technologies:\n",
      "Replacing [1] Material Science: with [1] Additive Manufacturing and Material Science:\n",
      "Replacing [1] Additive Manufacturing and Material Science: with [1] Energy Systems and Technologies:\n",
      "Replacing [1] Electrical Systems: with [1] Energy Systems and Technologies:\n",
      "Replacing [1] Offshore Systems: with [1] Energy Systems:\n",
      "Replacing [1] Energy Systems: with [1] Energy Systems and Technologies:\n",
      "Replacing [1] Gas Separation: with [1] Carbon Capture and Storage:\n",
      "Replacing [1] Gas Turbines: with [1] Energy Systems:\n",
      "Replacing [1] Energy Systems: with [1] Energy Systems and Technologies:\n",
      "Replacing [1] Compressors: with [1] Carbon Capture and Storage:\n",
      "Replacing [1] Engineering: with [1] Engineering and Additive Manufacturing:\n",
      "Replacing [1] Engineering and Additive Manufacturing: with [1] Additive Manufacturing and Material Science:\n",
      "Replacing [1] Additive Manufacturing and Material Science: with [1] Energy Systems and Technologies:\n",
      "Replacing [1] Wind Energy: with [1] Energy Systems and Technologies:\n",
      "Replacing [1] Material Science: with [1] Additive Manufacturing and Material Science:\n",
      "Replacing [1] Additive Manufacturing and Material Science: with [1] Energy Systems and Technologies:\n",
      "Replacing [1] Additive Manufacturing: with [1] Engineering and Additive Manufacturing:\n",
      "Replacing [1] Engineering and Additive Manufacturing: with [1] Additive Manufacturing and Material Science:\n",
      "Replacing [1] Additive Manufacturing and Material Science: with [1] Energy Systems and Technologies:\n",
      "Replacing [1] Wind Energy: with [1] Energy Systems and Technologies:\n",
      "Replacing [1] Industrial Automation: with [1] Industrial Equipment:\n",
      "Replacing [1] Industrial Equipment: with [1] Energy Storage and Industrial Equipment:\n",
      "Replacing [1] Energy Storage and Industrial Equipment: with [1] Energy Systems and Technologies:\n",
      "Replacing [1] Industrial Equipment: with [1] Energy Storage and Industrial Equipment:\n",
      "Replacing [1] Energy Storage and Industrial Equipment: with [1] Energy Systems and Technologies:\n",
      "Replacing [1] Ceramic Spheres: with [1] Sensing Technology:\n",
      "Replacing [1] Industrial Automation: with [1] Industrial Equipment:\n",
      "Replacing [1] Industrial Equipment: with [1] Energy Storage and Industrial Equipment:\n",
      "Replacing [1] Energy Storage and Industrial Equipment: with [1] Energy Systems and Technologies:\n",
      "Replacing [1] Electrical Systems: with [1] Energy Systems and Technologies:\n",
      "Replacing [1] Thermal Technology: with [1] Sensing Technology:\n",
      "Replacing [1] Thermal Energy Storage: with [1] Energy Storage and Industrial Equipment:\n",
      "Replacing [1] Energy Storage and Industrial Equipment: with [1] Energy Systems and Technologies:\n",
      "Replacing [1] Material Science: with [1] Additive Manufacturing and Material Science:\n",
      "Replacing [1] Additive Manufacturing and Material Science: with [1] Energy Systems and Technologies:\n",
      "Replacing [1] Engineering: with [1] Engineering and Additive Manufacturing:\n",
      "Replacing [1] Engineering and Additive Manufacturing: with [1] Additive Manufacturing and Material Science:\n",
      "Replacing [1] Additive Manufacturing and Material Science: with [1] Energy Systems and Technologies:\n",
      "Replacing [1] Energy Management: with [1] Energy Systems and Technologies:\n",
      "Replacing [1] Energy Management: with [1] Energy Systems and Technologies:\n",
      "Replacing [1] Smart Windows: with [1] Smart Systems:\n",
      "Replacing [1] Smart Systems: with [1] Energy Systems:\n",
      "Replacing [1] Energy Systems: with [1] Energy Systems and Technologies:\n",
      "Replacing [1] Smart Home Systems: with [1] Smart Systems:\n",
      "Replacing [1] Smart Systems: with [1] Energy Systems:\n",
      "Replacing [1] Energy Systems: with [1] Energy Systems and Technologies:\n",
      "Replacing [1] Wireless Communication Systems: with [1] Energy Systems and Technologies:\n",
      "Replacing [1] Sensors: with [1] Sensing Technology:\n",
      "Replacing [1] Industrial Automation: with [1] Industrial Equipment:\n",
      "Replacing [1] Industrial Equipment: with [1] Energy Storage and Industrial Equipment:\n",
      "Replacing [1] Energy Storage and Industrial Equipment: with [1] Energy Systems and Technologies:\n",
      "Replacing [1] Manufacturing: with [1] Aerospace Engineering and Manufacturing:\n",
      "Replacing [1] Wireless Communication Systems: with [1] Energy Systems and Technologies:\n",
      "Replacing [1] Material Science: with [1] Additive Manufacturing and Material Science:\n",
      "Replacing [1] Additive Manufacturing and Material Science: with [1] Energy Systems and Technologies:\n",
      "Replacing [1] Engineering: with [1] Engineering and Additive Manufacturing:\n",
      "Replacing [1] Engineering and Additive Manufacturing: with [1] Additive Manufacturing and Material Science:\n",
      "Replacing [1] Additive Manufacturing and Material Science: with [1] Energy Systems and Technologies:\n",
      "Replacing [1] Industrial Automation: with [1] Industrial Equipment:\n",
      "Replacing [1] Industrial Equipment: with [1] Energy Storage and Industrial Equipment:\n",
      "Replacing [1] Energy Storage and Industrial Equipment: with [1] Energy Systems and Technologies:\n",
      "Replacing [1] Energy Management: with [1] Energy Systems and Technologies:\n",
      "Replacing [1] Electrical Systems: with [1] Energy Systems and Technologies:\n",
      "Replacing [1] Engineering: with [1] Engineering and Additive Manufacturing:\n",
      "Replacing [1] Engineering and Additive Manufacturing: with [1] Additive Manufacturing and Material Science:\n",
      "Replacing [1] Additive Manufacturing and Material Science: with [1] Energy Systems and Technologies:\n",
      "Replacing [1] Engineering: with [1] Engineering and Additive Manufacturing:\n",
      "Replacing [1] Engineering and Additive Manufacturing: with [1] Additive Manufacturing and Material Science:\n",
      "Replacing [1] Additive Manufacturing and Material Science: with [1] Energy Systems and Technologies:\n",
      "Replacing [1] Industrial Automation: with [1] Industrial Equipment:\n",
      "Replacing [1] Industrial Equipment: with [1] Energy Storage and Industrial Equipment:\n",
      "Replacing [1] Energy Storage and Industrial Equipment: with [1] Energy Systems and Technologies:\n",
      "Replacing [1] Electrical Systems: with [1] Energy Systems and Technologies:\n",
      "Replacing [1] Engineering: with [1] Engineering and Additive Manufacturing:\n",
      "Replacing [1] Engineering and Additive Manufacturing: with [1] Additive Manufacturing and Material Science:\n",
      "Replacing [1] Additive Manufacturing and Material Science: with [1] Energy Systems and Technologies:\n",
      "Replacing [1] Material Science: with [1] Additive Manufacturing and Material Science:\n",
      "Replacing [1] Additive Manufacturing and Material Science: with [1] Energy Systems and Technologies:\n",
      "Replacing [1] Manufacturing: with [1] Aerospace Engineering and Manufacturing:\n",
      "Replacing [1] Industrial Automation: with [1] Industrial Equipment:\n",
      "Replacing [1] Industrial Equipment: with [1] Energy Storage and Industrial Equipment:\n",
      "Replacing [1] Energy Storage and Industrial Equipment: with [1] Energy Systems and Technologies:\n",
      "Replacing [1] Thermal Technology: with [1] Sensing Technology:\n",
      "Replacing [1] Energy Storage: with [1] Energy Storage and Industrial Equipment:\n",
      "Replacing [1] Energy Storage and Industrial Equipment: with [1] Energy Systems and Technologies:\n",
      "Replacing [1] Material Science: with [1] Additive Manufacturing and Material Science:\n",
      "Replacing [1] Additive Manufacturing and Material Science: with [1] Energy Systems and Technologies:\n",
      "Replacing [1] Material Science: with [1] Additive Manufacturing and Material Science:\n",
      "Replacing [1] Additive Manufacturing and Material Science: with [1] Energy Systems and Technologies:\n",
      "Replacing [1] Energy Storage: with [1] Energy Storage and Industrial Equipment:\n",
      "Replacing [1] Energy Storage and Industrial Equipment: with [1] Energy Systems and Technologies:\n",
      "Replacing [1] Material Science: with [1] Additive Manufacturing and Material Science:\n",
      "Replacing [1] Additive Manufacturing and Material Science: with [1] Energy Systems and Technologies:\n",
      "Replacing [1] Manufacturing: with [1] Aerospace Engineering and Manufacturing:\n",
      "Replacing [1] Industrial Equipment: with [1] Energy Storage and Industrial Equipment:\n",
      "Replacing [1] Energy Storage and Industrial Equipment: with [1] Energy Systems and Technologies:\n",
      "Replacing [1] Material Science: with [1] Additive Manufacturing and Material Science:\n",
      "Replacing [1] Additive Manufacturing and Material Science: with [1] Energy Systems and Technologies:\n",
      "Replacing [1] Material Science: with [1] Additive Manufacturing and Material Science:\n",
      "Replacing [1] Additive Manufacturing and Material Science: with [1] Energy Systems and Technologies:\n",
      "Replacing [1] Energy Storage: with [1] Energy Storage and Industrial Equipment:\n",
      "Replacing [1] Energy Storage and Industrial Equipment: with [1] Energy Systems and Technologies:\n",
      "Replacing [1] Energy Management: with [1] Energy Systems and Technologies:\n",
      "Replacing [1] Energy Storage: with [1] Energy Storage and Industrial Equipment:\n",
      "Replacing [1] Energy Storage and Industrial Equipment: with [1] Energy Systems and Technologies:\n",
      "Replacing [1] Energy Management: with [1] Energy Systems and Technologies:\n",
      "Replacing [1] Energy Management: with [1] Energy Systems and Technologies:\n",
      "Replacing [1] Engineering: with [1] Engineering and Additive Manufacturing:\n",
      "Replacing [1] Engineering and Additive Manufacturing: with [1] Additive Manufacturing and Material Science:\n",
      "Replacing [1] Additive Manufacturing and Material Science: with [1] Energy Systems and Technologies:\n",
      "Replacing [1] Industrial Automation: with [1] Industrial Equipment:\n",
      "Replacing [1] Industrial Equipment: with [1] Energy Storage and Industrial Equipment:\n",
      "Replacing [1] Energy Storage and Industrial Equipment: with [1] Energy Systems and Technologies:\n",
      "Replacing [1] Energy Management: with [1] Energy Systems and Technologies:\n",
      "Replacing [1] Manufacturing: with [1] Aerospace Engineering and Manufacturing:\n",
      "Replacing [1] Industrial Equipment: with [1] Energy Storage and Industrial Equipment:\n",
      "Replacing [1] Energy Storage and Industrial Equipment: with [1] Energy Systems and Technologies:\n",
      "Replacing [1] Engineering: with [1] Engineering and Additive Manufacturing:\n",
      "Replacing [1] Engineering and Additive Manufacturing: with [1] Additive Manufacturing and Material Science:\n",
      "Replacing [1] Additive Manufacturing and Material Science: with [1] Energy Systems and Technologies:\n",
      "Replacing [1] Energy Storage: with [1] Energy Storage and Industrial Equipment:\n",
      "Replacing [1] Energy Storage and Industrial Equipment: with [1] Energy Systems and Technologies:\n",
      "Replacing [1] Engineering: with [1] Engineering and Additive Manufacturing:\n",
      "Replacing [1] Engineering and Additive Manufacturing: with [1] Additive Manufacturing and Material Science:\n",
      "Replacing [1] Additive Manufacturing and Material Science: with [1] Energy Systems and Technologies:\n",
      "Replacing [1] Engineering: with [1] Engineering and Additive Manufacturing:\n",
      "Replacing [1] Engineering and Additive Manufacturing: with [1] Additive Manufacturing and Material Science:\n",
      "Replacing [1] Additive Manufacturing and Material Science: with [1] Energy Systems and Technologies:\n",
      "Replacing [1] Energy Management: with [1] Energy Systems and Technologies:\n",
      "Replacing [1] Communications: with [1] Communications and Telecommunications and Wireless Networks:\n",
      "Replacing [1] Communications and Telecommunications and Wireless Networks: with [1] Smart Systems:\n",
      "Replacing [1] Smart Systems: with [1] Energy Systems:\n",
      "Replacing [1] Energy Systems: with [1] Energy Systems and Technologies:\n",
      "Replacing [1] Signal Processing: with [1] Digital Signal Processing:\n",
      "Replacing [1] Wireless Communications: with [1] Smart Systems:\n",
      "Replacing [1] Smart Systems: with [1] Energy Systems:\n",
      "Replacing [1] Energy Systems: with [1] Energy Systems and Technologies:\n",
      "Replacing [1] Telecommunications: with [1] Telecommunications and Wireless Networks:\n",
      "Replacing [1] Telecommunications and Wireless Networks: with [1] Communications and Telecommunications and Wireless Networks:\n",
      "Replacing [1] Communications and Telecommunications and Wireless Networks: with [1] Smart Systems:\n",
      "Replacing [1] Smart Systems: with [1] Energy Systems:\n",
      "Replacing [1] Energy Systems: with [1] Energy Systems and Technologies:\n",
      "Replacing [1] Antenna Technology: with [1] Antenna Technology and Wireless Receivers:\n",
      "Replacing [1] Power Management: with [1] Smart Systems:\n",
      "Replacing [1] Smart Systems: with [1] Energy Systems:\n",
      "Replacing [1] Energy Systems: with [1] Energy Systems and Technologies:\n",
      "Replacing [1] Signal Filtering: with [1] Signal Filtering and Radio Frequency Filtering:\n",
      "Replacing [1] Wireless Networks: with [1] Telecommunications and Wireless Networks:\n",
      "Replacing [1] Telecommunications and Wireless Networks: with [1] Communications and Telecommunications and Wireless Networks:\n",
      "Replacing [1] Communications and Telecommunications and Wireless Networks: with [1] Smart Systems:\n",
      "Replacing [1] Smart Systems: with [1] Energy Systems:\n",
      "Replacing [1] Energy Systems: with [1] Energy Systems and Technologies:\n",
      "Replacing [1] Digital Signal Analysis: with [1] Digital Signal Processing:\n",
      "Replacing [1] Radio Frequency Filtering: with [1] Signal Filtering and Radio Frequency Filtering:\n",
      "Replacing [1] Wireless Receivers: with [1] Antenna Technology and Wireless Receivers:\n",
      "Replacing [1] Telecommunications and Power Networks: with [1] Energy Systems and Technologies:\n",
      "Replacing [1] Telecommunications: with [1] Telecommunications and Wireless Networks:\n",
      "Replacing [1] Telecommunications and Wireless Networks: with [1] Communications and Telecommunications and Wireless Networks:\n",
      "Replacing [1] Communications and Telecommunications and Wireless Networks: with [1] Smart Systems:\n",
      "Replacing [1] Smart Systems: with [1] Energy Systems:\n",
      "Replacing [1] Energy Systems: with [1] Energy Systems and Technologies:\n",
      "Replacing [1] Network Switches: with [1] Manufacturing and Networking:\n",
      "Replacing [1] Routers: with [1] Manufacturing and Networking:\n",
      "Replacing [1] Automatic Transfer Switches: with [1] Power Sources and Automatic Transfer Switches:\n",
      "Replacing [1] Power Sources and Automatic Transfer Switches: with [1] Energy Systems and Technologies:\n",
      "Replacing [1] Power Sources: with [1] Power Sources and Automatic Transfer Switches:\n",
      "Replacing [1] Power Sources and Automatic Transfer Switches: with [1] Energy Systems and Technologies:\n",
      "Replacing [1] Energy Management: with [1] Energy Systems and Technologies:\n",
      "Replacing [1] Wireless Communications: with [1] Smart Systems:\n",
      "Replacing [1] Smart Systems: with [1] Energy Systems:\n",
      "Replacing [1] Energy Systems: with [1] Energy Systems and Technologies:\n",
      "Replacing [1] Wireless Communications: with [1] Smart Systems:\n",
      "Replacing [1] Smart Systems: with [1] Energy Systems:\n",
      "Replacing [1] Energy Systems: with [1] Energy Systems and Technologies:\n",
      "Replacing [1] Wireless Communications: with [1] Smart Systems:\n",
      "Replacing [1] Smart Systems: with [1] Energy Systems:\n",
      "Replacing [1] Energy Systems: with [1] Energy Systems and Technologies:\n",
      "Replacing [1] Wireless Communications: with [1] Smart Systems:\n",
      "Replacing [1] Smart Systems: with [1] Energy Systems:\n",
      "Replacing [1] Energy Systems: with [1] Energy Systems and Technologies:\n",
      "Replacing [1] Signal Processing: with [1] Digital Signal Processing:\n",
      "Replacing [1] Energy Management: with [1] Energy Systems and Technologies:\n",
      "Replacing [1] Communications: with [1] Communications and Telecommunications and Wireless Networks:\n",
      "Replacing [1] Communications and Telecommunications and Wireless Networks: with [1] Smart Systems:\n",
      "Replacing [1] Smart Systems: with [1] Energy Systems:\n",
      "Replacing [1] Energy Systems: with [1] Energy Systems and Technologies:\n",
      "Replacing [1] Wireless Communications: with [1] Smart Systems:\n",
      "Replacing [1] Smart Systems: with [1] Energy Systems:\n",
      "Replacing [1] Energy Systems: with [1] Energy Systems and Technologies:\n",
      "Replacing [1] Communications: with [1] Communications and Telecommunications and Wireless Networks:\n",
      "Replacing [1] Communications and Telecommunications and Wireless Networks: with [1] Smart Systems:\n",
      "Replacing [1] Smart Systems: with [1] Energy Systems:\n",
      "Replacing [1] Energy Systems: with [1] Energy Systems and Technologies:\n",
      "Replacing [1] Energy Management: with [1] Energy Systems and Technologies:\n",
      "Replacing [1] Wireless Communications: with [1] Smart Systems:\n",
      "Replacing [1] Smart Systems: with [1] Energy Systems:\n",
      "Replacing [1] Energy Systems: with [1] Energy Systems and Technologies:\n",
      "Replacing [1] Signal Processing: with [1] Digital Signal Processing:\n",
      "Replacing [1] Telecommunications: with [1] Telecommunications and Wireless Networks:\n",
      "Replacing [1] Telecommunications and Wireless Networks: with [1] Communications and Telecommunications and Wireless Networks:\n",
      "Replacing [1] Communications and Telecommunications and Wireless Networks: with [1] Smart Systems:\n",
      "Replacing [1] Smart Systems: with [1] Energy Systems:\n",
      "Replacing [1] Energy Systems: with [1] Energy Systems and Technologies:\n",
      "Replacing [1] Telecommunications: with [1] Telecommunications and Wireless Networks:\n",
      "Replacing [1] Telecommunications and Wireless Networks: with [1] Communications and Telecommunications and Wireless Networks:\n",
      "Replacing [1] Communications and Telecommunications and Wireless Networks: with [1] Smart Systems:\n",
      "Replacing [1] Smart Systems: with [1] Energy Systems:\n",
      "Replacing [1] Energy Systems: with [1] Energy Systems and Technologies:\n",
      "Replacing [1] Wireless Communications: with [1] Smart Systems:\n",
      "Replacing [1] Smart Systems: with [1] Energy Systems:\n",
      "Replacing [1] Energy Systems: with [1] Energy Systems and Technologies:\n",
      "Replacing [1] Communications: with [1] Communications and Telecommunications and Wireless Networks:\n",
      "Replacing [1] Communications and Telecommunications and Wireless Networks: with [1] Smart Systems:\n",
      "Replacing [1] Smart Systems: with [1] Energy Systems:\n",
      "Replacing [1] Energy Systems: with [1] Energy Systems and Technologies:\n",
      "Replacing [1] Wireless Communications: with [1] Smart Systems:\n",
      "Replacing [1] Smart Systems: with [1] Energy Systems:\n",
      "Replacing [1] Energy Systems: with [1] Energy Systems and Technologies:\n",
      "Replacing [1] Communications: with [1] Communications and Telecommunications and Wireless Networks:\n",
      "Replacing [1] Communications and Telecommunications and Wireless Networks: with [1] Smart Systems:\n",
      "Replacing [1] Smart Systems: with [1] Energy Systems:\n",
      "Replacing [1] Energy Systems: with [1] Energy Systems and Technologies:\n",
      "Replacing [1] Telecommunications and Power Networks: with [1] Energy Systems and Technologies:\n",
      "Replacing [1] Communications: with [1] Communications and Telecommunications and Wireless Networks:\n",
      "Replacing [1] Communications and Telecommunications and Wireless Networks: with [1] Smart Systems:\n",
      "Replacing [1] Smart Systems: with [1] Energy Systems:\n",
      "Replacing [1] Energy Systems: with [1] Energy Systems and Technologies:\n",
      "Replacing [1] Wireless Communications: with [1] Smart Systems:\n",
      "Replacing [1] Smart Systems: with [1] Energy Systems:\n",
      "Replacing [1] Energy Systems: with [1] Energy Systems and Technologies:\n",
      "Replacing [1] Electrical Systems: with [1] Energy Systems and Technologies:\n"
     ]
    }
   ],
   "source": [
    "# Refinement \n",
    "# Run the script multiple times to get a better result\n",
    "# Default: 1 runs\n",
    "%run refinement.py --deployment_name mistral-7b-instruct \\\n",
    "                    --max_tokens 500 --temperature 0.0 --top_p 0.0 \\\n",
    "                    --prompt_file $refinement_prompt \\\n",
    "                    --generation_file $generation_out \\\n",
    "                    --topic_file $generation_topic \\\n",
    "                    --out_file $refinement_out \\\n",
    "                    --verbose True \\\n",
    "                    --updated_file $refinement_updated \\\n",
    "                    --mapping_file $refinement_mapping \\\n",
    "                    --refined_again False \\\n",
    "                    --remove False"
   ]
  },
  {
   "cell_type": "code",
   "execution_count": 4,
   "metadata": {
    "vscode": {
     "languageId": "shellscript"
    }
   },
   "outputs": [
    {
     "name": "stdout",
     "output_type": "stream",
     "text": [
      "Number of remaining documents for prompting: 9\n"
     ]
    },
    {
     "name": "stderr",
     "output_type": "stream",
     "text": [
      "  0%|          | 0/4 [00:00<?, ?it/s]"
     ]
    },
    {
     "name": "stdout",
     "output_type": "stream",
     "text": [
      "Current topic: [1] Energy\n",
      "Prompt length: 910\n"
     ]
    },
    {
     "name": "stderr",
     "output_type": "stream",
     "text": [
      " 25%|██▌       | 1/4 [00:06<00:19,  6.42s/it]"
     ]
    },
    {
     "name": "stdout",
     "output_type": "stream",
     "text": [
      "Subtopics: [1] Energy\n",
      "    [2] Renewable Energy (Document: 1, 2): Mentions various renewable energy sources and methods for extracting or improving their efficiency.\n",
      "Adding subtopics for [1] Energy\n",
      "Added topic: [2] Renewable Energy (Count: 2): Mentions various renewable energy sources and methods for extracting or improving their efficiency.\n",
      "--------------------------------------------------\n",
      "Current topic: [1] Technology\n",
      "Prompt length: 1156\n"
     ]
    },
    {
     "name": "stderr",
     "output_type": "stream",
     "text": [
      " 50%|█████     | 2/4 [00:12<00:12,  6.49s/it]"
     ]
    },
    {
     "name": "stdout",
     "output_type": "stream",
     "text": [
      "Subtopics: [1] Technology\n",
      "    [2] Artificial Intelligence and Machine Learning (Document: 1, 3): Mentions the use of artificial intelligence and machine learning in various applications.\n",
      "    [2] IoT Sensors and Wireless Connectivity (Document: 2): Mentions the use of IoT sensors and wireless connectivity for real-time data collection and analysis.\n",
      "    [2] Predictive Maintenance and Equipment Failure (Document: 3): Mentions the use of predictive maintenance algorithms to prevent equipment failures.\n",
      "    [2] Computer Vision and Robotic Arms (Document: 4): Mentions the use of computer vision technology and robotic arms for waste sorting and recycling.\n",
      "Adding subtopics for [1] Technology\n",
      "Added topic: [2] Artificial Intelligence and Machine Learning (Count: 2): Mentions the use of artificial intelligence and machine learning in various applications.\n",
      "Added topic: [2] IoT Sensors and Wireless Connectivity (Count: 1): Mentions the use of IoT sensors and wireless connectivity for real-time data collection and analysis.\n",
      "Added topic: [2] Predictive Maintenance and Equipment Failure (Count: 1): Mentions the use of predictive maintenance algorithms to prevent equipment failures.\n",
      "Added topic: [2] Computer Vision and Robotic Arms (Count: 1): Mentions the use of computer vision technology and robotic arms for waste sorting and recycling.\n",
      "--------------------------------------------------\n",
      "Current topic: [1] Agriculture\n",
      "Prompt length: 797\n"
     ]
    },
    {
     "name": "stderr",
     "output_type": "stream",
     "text": [
      " 75%|███████▌  | 3/4 [00:18<00:06,  6.05s/it]"
     ]
    },
    {
     "name": "stdout",
     "output_type": "stream",
     "text": [
      "Subtopics: [1] Agriculture\n",
      "    [2] Irrigation Management (Document 1): Mentions optimizing irrigation schedules based on weather and soil moisture.\n",
      "Adding subtopics for [1] Agriculture\n",
      "Not a match: [2] Irrigation Management (Document 1): Mentions optimizing irrigation schedules based on weather and soil moisture.\n",
      "--------------------------------------------------\n",
      "Current topic: [1] Healthcare\n",
      "Prompt length: 931\n"
     ]
    },
    {
     "name": "stderr",
     "output_type": "stream",
     "text": [
      "100%|██████████| 4/4 [00:24<00:00,  6.11s/it]"
     ]
    },
    {
     "name": "stdout",
     "output_type": "stream",
     "text": [
      "Subtopics: [1] Healthcare\n",
      "    [2] Drug Delivery Systems (Document: 1): Mentions nanoparticles for targeted cancer therapy.\n",
      "    [2] Wearable Devices for Health Monitoring (Document: 2): Mentions smart wearable device for continuous blood glucose monitoring.\n",
      "Adding subtopics for [1] Healthcare\n",
      "Added topic: [2] Drug Delivery Systems (Count: 1): Mentions nanoparticles for targeted cancer therapy.\n",
      "Added topic: [2] Wearable Devices for Health Monitoring (Count: 1): Mentions smart wearable device for continuous blood glucose monitoring.\n",
      "--------------------------------------------------\n"
     ]
    },
    {
     "name": "stderr",
     "output_type": "stream",
     "text": [
      "\n"
     ]
    }
   ],
   "source": [
    "%run generation_2.py --deployment_name mistral-7b-instruct \\\n",
    "                    --max_tokens 500 --temperature 0.0 --top_p 0.0 \\\n",
    "                    --data $generation_out \\\n",
    "                    --seed_file $generation_topic \\\n",
    "                    --prompt_file $generation_2_prompt \\\n",
    "                    --out_file $generation_2_out \\\n",
    "                    --topic_file $generation_2_topic \\\n",
    "                    --verbose True"
   ]
  },
  {
   "cell_type": "code",
   "execution_count": 2,
   "metadata": {
    "vscode": {
     "languageId": "shellscript"
    }
   },
   "outputs": [
    {
     "name": "stderr",
     "output_type": "stream",
     "text": [
      "c:\\Users\\Mattis\\envs\\cs685-project-env\\lib\\site-packages\\tqdm\\auto.py:21: TqdmWarning: IProgress not found. Please update jupyter and ipywidgets. See https://ipywidgets.readthedocs.io/en/stable/user_install.html\n",
      "  from .autonotebook import tqdm as notebook_tqdm\n",
      " 10%|█         | 1/10 [00:09<01:29,  9.97s/it]"
     ]
    },
    {
     "name": "stdout",
     "output_type": "stream",
     "text": [
      "Document: 1\n",
      "Response: [1] Energy: The document discusses a method for extracting renewable energy from ocean currents using underwater turbines (\"A novel method for extracting renewable energy from ocean currents using underwater turbines.\"). This aligns with the Energy topic in the hierarchy.\n",
      "\n",
      "Quote: \"A novel method for extracting renewable energy from ocean currents using underwater turbines.\"\n",
      "\n",
      "Reasoning: The document describes a technology for generating renewable energy from ocean currents, which falls under the Energy topic in the hierarchy.\n",
      "--------------------\n"
     ]
    },
    {
     "name": "stderr",
     "output_type": "stream",
     "text": [
      " 20%|██        | 2/10 [00:16<01:01,  7.71s/it]"
     ]
    },
    {
     "name": "stdout",
     "output_type": "stream",
     "text": [
      "Document: 2\n",
      "Response: [1] Technology: The document discusses a new algorithm for autonomous vehicle navigation using neural networks and lidar technology. (\"This cutting-edge navigation system combines artificial intelligence with high-resolution lidar sensors...\") This technology is relevant to the topic of [1] Technology in the topic hierarchy.\n",
      "--------------------\n"
     ]
    },
    {
     "name": "stderr",
     "output_type": "stream",
     "text": [
      " 30%|███       | 3/10 [00:22<00:48,  6.90s/it]"
     ]
    },
    {
     "name": "stdout",
     "output_type": "stream",
     "text": [
      "Document: 3\n",
      "Response: [1] Technology: The document discusses an innovative approach to reducing carbon emissions in industrial processes through the use of nanocatalysts, which is a technology-related solution.\n",
      "\n",
      "Quote: \"An innovative approach to reducing carbon emissions in industrial processes through the use of nanocatalysts.\"\n",
      "--------------------\n"
     ]
    },
    {
     "name": "stderr",
     "output_type": "stream",
     "text": [
      " 40%|████      | 4/10 [00:28<00:40,  6.69s/it]"
     ]
    },
    {
     "name": "stdout",
     "output_type": "stream",
     "text": [
      "Document: 4\n",
      "Response: [1] Technology: The document discusses an innovative irrigation management system that integrates real-time weather data and soil moisture sensors for optimizing agricultural irrigation schedules (\"This innovative irrigation management system integrates real-time weather data and soil moisture measurements to provide farmers with precise recommendations for irrigation timing and duration.\"). The use of sensor technology is also mentioned (\"continuous monitoring of soil moisture levels, ensuring that irrigation decisions are based on accurate data\"). This aligns with the \"Technology\" topic in the hierarchy.\n",
      "--------------------\n"
     ]
    },
    {
     "name": "stderr",
     "output_type": "stream",
     "text": [
      " 50%|█████     | 5/10 [00:34<00:32,  6.45s/it]"
     ]
    },
    {
     "name": "stdout",
     "output_type": "stream",
     "text": [
      "Document: 5\n",
      "Response: [1] Technology: The document discusses an advanced monitoring device that uses IoT sensors and machine learning algorithms for air quality analysis, which falls under the topic of technology.\n",
      "\n",
      "Quote: \"This advanced monitoring device employs a network of IoT sensors to collect real-time data on air pollution levels\" and \"The data is then analyzed using machine learning algorithms to identify pollution sources, predict air quality trends, and recommend mitigation strategies.\"\n",
      "--------------------\n"
     ]
    },
    {
     "name": "stderr",
     "output_type": "stream",
     "text": [
      " 60%|██████    | 6/10 [00:40<00:25,  6.38s/it]"
     ]
    },
    {
     "name": "stdout",
     "output_type": "stream",
     "text": [
      "Document: 6\n",
      "Response: [1] Technology: The document discusses an innovative approach to improving the efficiency of solar panels through the use of nanostructured materials, which falls under the topic of Technology in the provided hierarchy.\n",
      "\n",
      "Assignment reasoning: The document mentions the use of nanostructured materials to enhance the light-absorption properties of solar panels and increase their efficiency, which is a technological application.\n",
      "\n",
      "Supporting quote: \"A method for improving the efficiency of solar panels through the use of nanostructured materials.\"\n",
      "--------------------\n"
     ]
    },
    {
     "name": "stderr",
     "output_type": "stream",
     "text": [
      " 70%|███████   | 7/10 [00:47<00:19,  6.37s/it]"
     ]
    },
    {
     "name": "stdout",
     "output_type": "stream",
     "text": [
      "Document: 7\n",
      "Response: [1] Healthcare: The document discusses a new drug delivery system for targeted cancer therapy, which falls under the healthcare topic.\n",
      "\n",
      "Assignment reasoning: The document mentions \"a new drug delivery system based on biodegradable nanoparticles for targeted cancer therapy,\" which is directly related to healthcare.\n",
      "\n",
      "Supporting quote: \"This innovative drug delivery system utilizes biodegradable nanoparticles as carriers to transport anticancer drugs to tumor sites with precision and efficiency.\"\n",
      "--------------------\n"
     ]
    },
    {
     "name": "stderr",
     "output_type": "stream",
     "text": [
      " 80%|████████  | 8/10 [00:53<00:12,  6.30s/it]"
     ]
    },
    {
     "name": "stdout",
     "output_type": "stream",
     "text": [
      "Document: 8\n",
      "Response: [1] Healthcare: The document discusses a smart wearable device for monitoring blood glucose levels in diabetic patients, which is a healthcare-related topic.\n",
      "\n",
      "Assignment reasoning: The document mentions a device designed for healthcare purposes, specifically for monitoring blood glucose levels in diabetic patients. This aligns with the \"Healthcare\" topic in the hierarchy.\n",
      "\n",
      "Supporting quote: \"A smart wearable device for continuous monitoring of blood glucose levels in diabetic patients.\"\n",
      "--------------------\n"
     ]
    },
    {
     "name": "stderr",
     "output_type": "stream",
     "text": [
      " 90%|█████████ | 9/10 [00:59<00:06,  6.25s/it]"
     ]
    },
    {
     "name": "stdout",
     "output_type": "stream",
     "text": [
      "Document: 9\n",
      "Response: [1] Technology: The document discusses a machine learning algorithm used for predicting equipment failures in industrial settings, which falls under the topic of Technology in the provided hierarchy.\n",
      "\n",
      "Assignment reasoning: The document mentions the use of a machine learning algorithm, which is a technology used to analyze sensor data and predict equipment failures.\n",
      "\n",
      "Supporting quote: \"A machine learning algorithm for predicting equipment failures in industrial settings to prevent downtime.\"\n",
      "--------------------\n"
     ]
    },
    {
     "name": "stderr",
     "output_type": "stream",
     "text": [
      "100%|██████████| 10/10 [01:05<00:00,  6.55s/it]"
     ]
    },
    {
     "name": "stdout",
     "output_type": "stream",
     "text": [
      "Document: 10\n",
      "Response: [1] Technology: The document discusses an advanced waste management system that utilizes computer vision technology for identifying and classifying recyclable materials, which falls under the topic of technology.\n",
      "\n",
      "Quote: \"An automated system for sorting and recycling waste using computer vision and robotic arms.\"\n",
      "\n",
      "Reasoning: The document describes a system that relies on computer vision technology for waste sorting, which is a clear indication of the application of technology in waste management.\n",
      "--------------------\n"
     ]
    },
    {
     "name": "stderr",
     "output_type": "stream",
     "text": [
      "\n"
     ]
    }
   ],
   "source": [
    "# Assignment\n",
    "%run assignment.py --deployment_name mistral-7b-instruct \\\n",
    "                        --max_tokens 300 --temperature 0.0 --top_p 0.0 \\\n",
    "                        --data $data_sample \\\n",
    "                        --prompt_file $assignment_prompt \\\n",
    "                        --topic_file $generation_topic \\\n",
    "                        --out_file $assignment_out \\\n",
    "                        --verbose True"
   ]
  },
  {
   "cell_type": "code",
   "execution_count": 7,
   "metadata": {},
   "outputs": [
    {
     "name": "stdout",
     "output_type": "stream",
     "text": [
      "[1] Conservation (Count: 2): Mentions policies and actions related to the preservation of natural resources and areas.\n",
      "\n",
      "[1] Indigenous Rights (Count: 1): Discusses issues related to the rights and compensation of indigenous tribes.\n",
      "\n",
      "[1] Energy Production (Count: 2): Mentions the generation of hydropower and related compensation.\n",
      "\n",
      "[1] Transportation (Count: 2): Mentions policies and programs related to the development of transportation systems.\n",
      "\n",
      "\n",
      "\n"
     ]
    }
   ],
   "source": [
    "# Printing out topic list\n",
    "with open(\"../data/output/generation_1.md\", \"r\") as f:\n",
    "    generated_topics = f.readlines()\n",
    "    for line in generated_topics:\n",
    "        print(line)"
   ]
  }
 ],
 "metadata": {
  "kernelspec": {
   "display_name": "topicGPT",
   "language": "python",
   "name": "python3"
  },
  "language_info": {
   "codemirror_mode": {
    "name": "ipython",
    "version": 3
   },
   "file_extension": ".py",
   "mimetype": "text/x-python",
   "name": "python",
   "nbconvert_exporter": "python",
   "pygments_lexer": "ipython3",
   "version": "3.10.5"
  }
 },
 "nbformat": 4,
 "nbformat_minor": 2
}
