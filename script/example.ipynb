{
 "cells": [
  {
   "cell_type": "markdown",
   "metadata": {},
   "source": [
    "!pip install -r requirements.txt"
   ]
  },
  {
   "cell_type": "code",
   "execution_count": 1,
   "metadata": {},
   "outputs": [],
   "source": [
    "data_file = \"../data/input/formatted-input-test.jsonl\"\n",
    "# The data_sample file seems to only be a placeholder\n",
    "data_sample = data_file\n",
    "\n",
    "# Generation I/O\n",
    "generation_prompt = \"../prompt/generation_1.txt\"\n",
    "seed_1 = \"../prompt/seed_1.md\"\n",
    "generation_out = \"../data/output/generation_1.jsonl\"\n",
    "generation_topic = \"../data/output/generation_1.md\"\n",
    "\n",
    "# Refinement I/O\n",
    "refinement_prompt = \"../prompt/refinement.txt\"\n",
    "refinement_out = \"../data/output/refinement.jsonl\"\n",
    "refinement_topic = \"../data/output/refinement.md\"\n",
    "refinement_mapping = \"../data/output/refinement_mapping.txt\"\n",
    "refinement_updated = \"../data/output/refinement_updated.jsonl\"\n",
    "\n",
    "# Generation 2 I/O\n",
    "generation_2_prompt = \"../prompt/generation_2.txt\"\n",
    "generation_2_out = \"../data/output/generation_2.jsonl\"\n",
    "generation_2_topic = \"../data/output/generation_2.md\"\n",
    "\n",
    "# Assignment I/O\n",
    "assignment_prompt = \"../prompt/assignment.txt\"\n",
    "assignment_out = \"../data/output/assignment.jsonl\"\n",
    "\n",
    "# Correction I/O\n",
    "correction_prompt = \"../prompt/correction.txt\"\n",
    "correction_out = \"../data/output/assignment_corrected.jsonl\""
   ]
  },
  {
   "cell_type": "code",
   "execution_count": 2,
   "metadata": {
    "vscode": {
     "languageId": "shellscript"
    }
   },
   "outputs": [
    {
     "name": "stderr",
     "output_type": "stream",
     "text": [
      "c:\\Users\\Mattis\\envs\\cs685-project-env\\lib\\site-packages\\tqdm\\auto.py:21: TqdmWarning: IProgress not found. Please update jupyter and ipywidgets. See https://ipywidgets.readthedocs.io/en/stable/user_install.html\n",
      "  from .autonotebook import tqdm as notebook_tqdm\n",
      " 10%|█         | 1/10 [00:06<00:57,  6.36s/it]"
     ]
    },
    {
     "name": "stdout",
     "output_type": "stream",
     "text": [
      "Document: 1\n",
      "Topics: [1] Energy: Extraction of renewable energy from ocean currents using underwater turbines.\n",
      "--------------------\n"
     ]
    },
    {
     "name": "stderr",
     "output_type": "stream",
     "text": [
      " 20%|██        | 2/10 [00:11<00:46,  5.87s/it]"
     ]
    },
    {
     "name": "stdout",
     "output_type": "stream",
     "text": [
      "Document: 2\n",
      "Topics: [1] Technology: Autonomous vehicle navigation using neural networks and lidar technology for precise localization and path planning.\n",
      "--------------------\n"
     ]
    },
    {
     "name": "stderr",
     "output_type": "stream",
     "text": [
      " 30%|███       | 3/10 [00:17<00:40,  5.79s/it]"
     ]
    },
    {
     "name": "stdout",
     "output_type": "stream",
     "text": [
      "Document: 3\n",
      "Topics: [1] Energy: Reducing carbon emissions through the use of nanocatalysts for efficient and selective chemical reactions.\n",
      "\n",
      "[1] Technology: Nanocatalysts for green chemistry and sustainable industrial processes.\n",
      "--------------------\n"
     ]
    },
    {
     "name": "stderr",
     "output_type": "stream",
     "text": [
      " 40%|████      | 4/10 [00:23<00:34,  5.69s/it]"
     ]
    },
    {
     "name": "stdout",
     "output_type": "stream",
     "text": [
      "Document: 4\n",
      "Topics: [1] Agriculture: Optimizing irrigation schedules based on weather forecasts and soil moisture sensors for improved resource efficiency.\n",
      "--------------------\n"
     ]
    },
    {
     "name": "stderr",
     "output_type": "stream",
     "text": [
      " 50%|█████     | 5/10 [00:28<00:28,  5.63s/it]"
     ]
    },
    {
     "name": "stdout",
     "output_type": "stream",
     "text": [
      "Document: 5\n",
      "Topics: [1] Technology: Air quality monitoring using IoT sensors and machine learning algorithms for data-driven decision-making and pollution reduction.\n",
      "--------------------\n"
     ]
    },
    {
     "name": "stderr",
     "output_type": "stream",
     "text": [
      " 60%|██████    | 6/10 [00:34<00:22,  5.58s/it]"
     ]
    },
    {
     "name": "stdout",
     "output_type": "stream",
     "text": [
      "Document: 6\n",
      "Topics: [1] Energy: Enhancement of solar panel efficiency through the use of nanostructured materials.\n",
      "--------------------\n"
     ]
    },
    {
     "name": "stderr",
     "output_type": "stream",
     "text": [
      " 70%|███████   | 7/10 [00:39<00:16,  5.61s/it]"
     ]
    },
    {
     "name": "stdout",
     "output_type": "stream",
     "text": [
      "Document: 7\n",
      "Topics: [1] Healthcare: Targeted drug delivery using biodegradable nanoparticles for cancer therapy.\n",
      "\n",
      "This topic is generalizable and broad enough to accommodate future subtopics related to targeted drug delivery using nanoparticles for various diseases and applications.\n",
      "--------------------\n"
     ]
    },
    {
     "name": "stderr",
     "output_type": "stream",
     "text": [
      " 80%|████████  | 8/10 [00:45<00:11,  5.58s/it]"
     ]
    },
    {
     "name": "stdout",
     "output_type": "stream",
     "text": [
      "Document: 8\n",
      "Topics: [1] Healthcare: Continuous, non-invasive blood glucose monitoring for improved diabetes management and quality of life.\n",
      "--------------------\n"
     ]
    },
    {
     "name": "stderr",
     "output_type": "stream",
     "text": [
      " 90%|█████████ | 9/10 [00:50<00:05,  5.56s/it]"
     ]
    },
    {
     "name": "stdout",
     "output_type": "stream",
     "text": [
      "Document: 9\n",
      "Topics: [1] Technology: Predictive maintenance using machine learning algorithms for equipment failure prediction and optimization of industrial operations.\n",
      "--------------------\n"
     ]
    },
    {
     "name": "stderr",
     "output_type": "stream",
     "text": [
      "100%|██████████| 10/10 [00:56<00:00,  5.63s/it]"
     ]
    },
    {
     "name": "stdout",
     "output_type": "stream",
     "text": [
      "Document: 10\n",
      "Topics: [1] Technology: Automated waste sorting using computer vision and robotic arms for increased recycling efficiency and reduced landfill waste.\n",
      "--------------------\n"
     ]
    },
    {
     "name": "stderr",
     "output_type": "stream",
     "text": [
      "\n"
     ]
    }
   ],
   "source": [
    "# Description: Example of how to run the generation script\n",
    "%run generation_1.py --deployment_name mistral-7b-instruct \\\n",
    "                    --max_tokens 300 --temperature 0.0 --top_p 0.0 \\\n",
    "                    --data $data_sample \\\n",
    "                    --prompt_file $generation_prompt \\\n",
    "                    --seed_file $seed_1 \\\n",
    "                    --out_file $generation_out \\\n",
    "                    --topic_file $generation_topic \\\n",
    "                    --verbose True"
   ]
  },
  {
   "cell_type": "code",
   "execution_count": 2,
   "metadata": {
    "vscode": {
     "languageId": "shellscript"
    }
   },
   "outputs": [
    {
     "name": "stdout",
     "output_type": "stream",
     "text": [
      "No updated/merged topics!\n"
     ]
    }
   ],
   "source": [
    "# Refinement \n",
    "# Run the script multiple times to get a better result\n",
    "# Default: 1 runs\n",
    "%run refinement.py --deployment_name gpt-4 \\\n",
    "                    --max_tokens 500 --temperature 0.0 --top_p 0.0 \\\n",
    "                    --prompt_file $refinement_prompt \\\n",
    "                    --generation_file $generation_out \\\n",
    "                    --topic_file $generation_topic \\\n",
    "                    --out_file $refinement_out \\\n",
    "                    --verbose True \\\n",
    "                    --updated_file $refinement_updated \\\n",
    "                    --mapping_file $refinement_mapping \\\n",
    "                    --refined_again False \\\n",
    "                    --remove False"
   ]
  },
  {
   "cell_type": "code",
   "execution_count": 12,
   "metadata": {
    "vscode": {
     "languageId": "shellscript"
    }
   },
   "outputs": [
    {
     "name": "stdout",
     "output_type": "stream",
     "text": [
      "Number of remaining documents for prompting: 3\n"
     ]
    },
    {
     "name": "stderr",
     "output_type": "stream",
     "text": [
      "  0%|          | 0/4 [00:00<?, ?it/s]"
     ]
    },
    {
     "name": "stdout",
     "output_type": "stream",
     "text": [
      "Current topic: [1] Conservation\n",
      "Prompt length: 783\n"
     ]
    },
    {
     "name": "stderr",
     "output_type": "stream",
     "text": [
      " 25%|██▌       | 1/4 [00:08<00:25,  8.63s/it]"
     ]
    },
    {
     "name": "stdout",
     "output_type": "stream",
     "text": [
      "Subtopics: [1] Conservation\n",
      "    [2] Forest Conservation (Document: 1): Discusses the preservation and management of roadless areas within the National Forest System.\n",
      "Adding subtopics for [1] Conservation\n",
      "Added topic: [2] Forest Conservation (Count: 1): Discusses the preservation and management of roadless areas within the National Forest System.\n",
      "--------------------------------------------------\n",
      "Current topic: [1] Indigenous Rights\n",
      "Current topic: [1] Energy Production\n",
      "Current topic: [1] Transportation\n",
      "Prompt length: 852\n"
     ]
    },
    {
     "name": "stderr",
     "output_type": "stream",
     "text": [
      "100%|██████████| 4/4 [00:17<00:00,  4.28s/it]"
     ]
    },
    {
     "name": "stdout",
     "output_type": "stream",
     "text": [
      "Subtopics: [1] Transportation\n",
      "    [2] Aerotropolis Development (Document: 1): Discusses the development of transportation systems centered around major airports.\n",
      "    [2] Licensing and Identification (Document: 2): Discusses the issuance of driver's licenses and identification documents.\n",
      "Adding subtopics for [1] Transportation\n",
      "Added topic: [2] Aerotropolis Development (Count: 1): Discusses the development of transportation systems centered around major airports.\n",
      "Added topic: [2] Licensing and Identification (Count: 1): Discusses the issuance of driver's licenses and identification documents.\n",
      "--------------------------------------------------\n"
     ]
    },
    {
     "name": "stderr",
     "output_type": "stream",
     "text": [
      "\n"
     ]
    }
   ],
   "source": [
    "%run generation_2.py --deployment_name gpt-4 \\\n",
    "                    --max_tokens 500 --temperature 0.0 --top_p 0.0 \\\n",
    "                    --data $generation_out \\\n",
    "                    --seed_file $generation_topic \\\n",
    "                    --prompt_file $generation_2_prompt \\\n",
    "                    --out_file $generation_2_out \\\n",
    "                    --topic_file $generation_2_topic \\\n",
    "                    --verbose True"
   ]
  },
  {
   "cell_type": "code",
   "execution_count": 5,
   "metadata": {
    "vscode": {
     "languageId": "shellscript"
    }
   },
   "outputs": [
    {
     "name": "stderr",
     "output_type": "stream",
     "text": [
      " 20%|██        | 1/5 [00:07<00:30,  7.59s/it]"
     ]
    },
    {
     "name": "stdout",
     "output_type": "stream",
     "text": [
      "Document: 1\n",
      "Response: [1] Conservation: Mentions identifying and managing roadless areas within the National Forest System (\"Identifies roadless areas within the National Forest System set forth in specified maps as National Forest Inventoried Roadless Areas, and directs the Secretary of Agriculture to manage such Areas to maintain their roadless character.\")\n",
      "[1] Transportation: Mentions modifying maps for the purpose of improving accuracy or inclusiveness (\"Authorizes the Forest Service to modify such maps for the sole purpose of improving their accuracy or inclusiveness.\")\n",
      "[1] Conservation: Mentions requiring substantial modification of maps to be made through the national forest management planning process (\"Requires any substantial modification of those maps to be made through the national forest management planning process and documented in an environmental impact statement.\")\n",
      "--------------------\n"
     ]
    },
    {
     "name": "stderr",
     "output_type": "stream",
     "text": [
      " 40%|████      | 2/5 [00:14<00:22,  7.45s/it]"
     ]
    },
    {
     "name": "stdout",
     "output_type": "stream",
     "text": [
      "Document: 2\n",
      "Response: [1] Indigenous Rights: Mentions compensating the Spokane Tribe of Indians for the use of their land (\"...compensate the Spokane Tribe of Indians of the Spokane Reservation...for the use of its land for hydropower generation by the Grand Coulee Dam.\")\n",
      "[1] Energy Production: Mentions the Grand Coulee Dam and hydropower generation (\"...compensate the Spokane Tribe of Indians of the Spokane Reservation...for the use of its land for hydropower generation by the Grand Coulee Dam.\")\n",
      "[1] Transportation: Mentions the Bureau of Reclamation transferring administrative jurisdiction over certain land (\"...transfer administrative jurisdiction from the Bureau of Reclamation to the Bureau of Indian Affairs (BIA) over certain land located within the exterior boundaries of the Spokane Indian Reservation.\")\n",
      "--------------------\n"
     ]
    },
    {
     "name": "stderr",
     "output_type": "stream",
     "text": [
      " 60%|██████    | 3/5 [00:22<00:15,  7.60s/it]"
     ]
    },
    {
     "name": "stdout",
     "output_type": "stream",
     "text": [
      "Document: 3\n",
      "Response: [1] Conservation: Mentions assessing offshore oil and gas platforms for their impact on marine fisheries habitat (\"Directs the Secretary of the Interior to assess each offshore oil and gas platform in the Gulf of Mexico that is no longer useful for operations, and has become critical for a marine fisheries habitat...\")\n",
      "\n",
      "[1] Energy Production: Mentions decommissioning of platforms and the potential harm to reef ecosystems (\"Requires suspension of the decommissioning of a platform if a substantial reef ecosystem is in the vicinity until the Secretary determines that decommissioning would not harm the ecosystem.\")\n",
      "\n",
      "[1] Transportation: Mentions the removal of platforms and the exemption for lessees who commit to entering a particular platform in the artificial reef program (\"Exempts from certain platform removal deadlines any lessees who: (1) commit to entering a particular platform in the artificial reef program under the National Fishing Enhancement Act of 1984...\")\n",
      "\n",
      "[1] Indigenous Rights: No mention of indigenous rights in the document.\n",
      "--------------------\n"
     ]
    },
    {
     "name": "stderr",
     "output_type": "stream",
     "text": [
      " 80%|████████  | 4/5 [00:29<00:07,  7.16s/it]"
     ]
    },
    {
     "name": "stdout",
     "output_type": "stream",
     "text": [
      "Document: 4\n",
      "Response: [1] Transportation: Mentions the establishment of an aerotropolis grant program to assist in the development of aerotropolis transportation systems (\"Directs the Secretary of Transportation to establish an aerotropolis grant program to assist in the development of aerotropolis transportation systems\")\n",
      "--------------------\n"
     ]
    },
    {
     "name": "stderr",
     "output_type": "stream",
     "text": [
      "100%|██████████| 5/5 [00:34<00:00,  6.98s/it]"
     ]
    },
    {
     "name": "stdout",
     "output_type": "stream",
     "text": [
      "Document: 5\n",
      "Response: [1] Transportation: Mentions driver's license requirements (\"...prohibit a state from issuing a driver's license or identification document to a person unless...\")\n",
      "--------------------\n"
     ]
    },
    {
     "name": "stderr",
     "output_type": "stream",
     "text": [
      "\n"
     ]
    }
   ],
   "source": [
    "# Assignment\n",
    "%run assignment.py --deployment_name gpt-3.5-turbo \\\n",
    "                        --max_tokens 300 --temperature 0.0 --top_p 0.0 \\\n",
    "                        --data $data_sample \\\n",
    "                        --prompt_file $assignment_prompt \\\n",
    "                        --topic_file $generation_topic \\\n",
    "                        --out_file $assignment_out \\\n",
    "                        --verbose True"
   ]
  },
  {
   "cell_type": "code",
   "execution_count": 7,
   "metadata": {},
   "outputs": [
    {
     "name": "stdout",
     "output_type": "stream",
     "text": [
      "[1] Conservation (Count: 2): Mentions policies and actions related to the preservation of natural resources and areas.\n",
      "\n",
      "[1] Indigenous Rights (Count: 1): Discusses issues related to the rights and compensation of indigenous tribes.\n",
      "\n",
      "[1] Energy Production (Count: 2): Mentions the generation of hydropower and related compensation.\n",
      "\n",
      "[1] Transportation (Count: 2): Mentions policies and programs related to the development of transportation systems.\n",
      "\n",
      "\n",
      "\n"
     ]
    }
   ],
   "source": [
    "# Printing out topic list\n",
    "with open(\"../data/output/generation_1.md\", \"r\") as f:\n",
    "    generated_topics = f.readlines()\n",
    "    for line in generated_topics:\n",
    "        print(line)"
   ]
  }
 ],
 "metadata": {
  "kernelspec": {
   "display_name": "topicGPT",
   "language": "python",
   "name": "python3"
  },
  "language_info": {
   "codemirror_mode": {
    "name": "ipython",
    "version": 3
   },
   "file_extension": ".py",
   "mimetype": "text/x-python",
   "name": "python",
   "nbconvert_exporter": "python",
   "pygments_lexer": "ipython3",
   "version": "3.10.5"
  }
 },
 "nbformat": 4,
 "nbformat_minor": 2
}
