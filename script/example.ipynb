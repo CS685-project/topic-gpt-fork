{
 "cells": [
  {
   "cell_type": "markdown",
   "metadata": {},
   "source": [
    "!pip install -r requirements.txt"
   ]
  },
  {
   "cell_type": "code",
   "execution_count": 1,
   "metadata": {},
   "outputs": [],
   "source": [
    "model_lookup_name=\"mistral-7b-instruct-v0_2\""
   ]
  },
  {
   "cell_type": "code",
   "execution_count": 2,
   "metadata": {},
   "outputs": [],
   "source": [
    "import os\n",
    "folder_path = f'../data/output/{model_lookup_name}'\n",
    "if not os.path.exists(folder_path):\n",
    "    os.mkdir(folder_path)\n",
    "    files = ['assignment.jsonl', 'generation_1.jsonl', 'generation_1.md', 'generation_2.jsonl', 'generation_2.md', 'refinement_mapping.txt', 'refinement_mapping.jsonl', 'refinement.jsonl']\n",
    "    \n",
    "    for file in files:\n",
    "        file_path = os.path.join(folder_path, file)\n",
    "        with open(file_path, \"w\") as file:\n",
    "            pass"
   ]
  },
  {
   "cell_type": "code",
   "execution_count": 3,
   "metadata": {},
   "outputs": [],
   "source": [
    "data_file = \"../data/input/uniform_sample.jsonl\"\n",
    "# The data_sample file seems to only be a placeholder\n",
    "data_sample = data_file\n",
    "\n",
    "# Generation I/O\n",
    "generation_prompt = \"../prompt/generation_1.txt\"\n",
    "self_ref_prompt = \"../prompt/generation_1_self-ref.txt\"\n",
    "seed_1 = \"../prompt/seed_1.md\"\n",
    "generation_out = f\"../data/output/{model_lookup_name}/generation_1.jsonl\"\n",
    "generation_topic = f\"../data/output/{model_lookup_name}/generation_1.md\"\n",
    "\n",
    "# Refinement I/O\n",
    "refinement_prompt = \"../prompt/refinement.txt\"\n",
    "refinement_out = f\"../data/output/{model_lookup_name}/refinement.jsonl\"\n",
    "refinement_topic = f\"../data/output/{model_lookup_name}/refinement.md\"\n",
    "refinement_mapping = f\"../data/output/{model_lookup_name}/refinement_mapping.txt\"\n",
    "refinement_updated = f\"../data/output/{model_lookup_name}/refinement_updated.jsonl\"\n",
    "\n",
    "# Generation 2 I/O\n",
    "generation_2_prompt = \"../prompt/generation_2.txt\"\n",
    "generation_2_out = f\"../data/output/{model_lookup_name}/generation_2.jsonl\"\n",
    "generation_2_topic = f\"../data/output/{model_lookup_name}/generation_2.md\"\n",
    "\n",
    "# Assignment I/O\n",
    "assignment_prompt = \"../prompt/assignment.txt\"\n",
    "assignment_out = f\"../data/output/{model_lookup_name}/assignment.jsonl\"\n",
    "\n",
    "# Correction I/O\n",
    "correction_prompt = \"../prompt/correction.txt\"\n",
    "correction_out = f\"../data/output/{model_lookup_name}/assignment_corrected.jsonl\""
   ]
  },
  {
   "cell_type": "code",
   "execution_count": 4,
   "metadata": {
    "vscode": {
     "languageId": "shellscript"
    }
   },
   "outputs": [
    {
     "name": "stderr",
     "output_type": "stream",
     "text": [
      "/opt/homebrew/lib/python3.11/site-packages/tqdm/auto.py:21: TqdmWarning: IProgress not found. Please update jupyter and ipywidgets. See https://ipywidgets.readthedocs.io/en/stable/user_install.html\n",
      "  from .autonotebook import tqdm as notebook_tqdm\n",
      "  0%|          | 1/1000 [00:03<53:06,  3.19s/it]"
     ]
    },
    {
     "name": "stdout",
     "output_type": "stream",
     "text": [
      "Lower-level topics detected. Skipping...\n",
      "Lower-level topics detected. Skipping...\n",
      "Lower-level topics detected. Skipping...\n",
      "Document: 1\n",
      "Topics: ['NEW: [1] Appliances: Mentions a specific type of appliance, but the topic is generalizable as it can include various types of appliances.']\n",
      "--------------------\n"
     ]
    },
    {
     "name": "stderr",
     "output_type": "stream",
     "text": [
      "  0%|          | 2/1000 [00:05<43:50,  2.64s/it]"
     ]
    },
    {
     "name": "stdout",
     "output_type": "stream",
     "text": [
      "Document: 2\n",
      "Topics: ['NEW: [1] Communication Technology: Mentions the transmission and reception of data over a network using specific bit quanta and decoding of signal disturbances.']\n",
      "--------------------\n"
     ]
    },
    {
     "name": "stderr",
     "output_type": "stream",
     "text": [
      "  0%|          | 3/1000 [00:07<41:39,  2.51s/it]"
     ]
    },
    {
     "name": "stdout",
     "output_type": "stream",
     "text": [
      "Document: 3\n",
      "Topics: ['NEW: [1] Manufacturing: Mentions the process of creating products, including design and production.', 'NEW: [1] Technology: Mentions the application of scientific knowledge for practical purposes.', 'NEW: [1] Engineering: Mentions the application of mathematics, physics, and other sciences to design, build, and maintain structures, machines, devices, systems, and processes.']\n",
      "--------------------\n"
     ]
    },
    {
     "name": "stderr",
     "output_type": "stream",
     "text": [
      "  0%|          | 4/1000 [00:09<39:39,  2.39s/it]"
     ]
    },
    {
     "name": "stdout",
     "output_type": "stream",
     "text": [
      "Document: 4\n",
      "Topics: ['DUP: [1] Engineering: Mentions the design and construction of a bio-filter unit for a fish farming system.', 'DUP: [1] Manufacturing: Mentions the production of a bio-filter unit for a fish farming system.', 'DUP: [1] Technology: Mentions the use of a pump and an inner architecture with vertical tubes in a bio-filter unit.']\n",
      "--------------------\n"
     ]
    },
    {
     "name": "stderr",
     "output_type": "stream",
     "text": [
      "  0%|          | 5/1000 [00:11<35:59,  2.17s/it]"
     ]
    },
    {
     "name": "stdout",
     "output_type": "stream",
     "text": [
      "Document: 5\n",
      "Topics: ['NEW: [1] Energy: Mentions the conversion and control of energy systems.', 'NEW: [1] Electrical Systems: Mentions medium-high voltage energy conversion systems and direct current grids.']\n",
      "--------------------\n"
     ]
    },
    {
     "name": "stderr",
     "output_type": "stream",
     "text": [
      "  1%|          | 6/1000 [00:14<36:27,  2.20s/it]"
     ]
    },
    {
     "name": "stdout",
     "output_type": "stream",
     "text": [
      "Document: 6\n",
      "Topics: ['NEW: [1] Horticulture: Mentions the cultivation of plants and related equipment.']\n",
      "--------------------\n"
     ]
    },
    {
     "name": "stderr",
     "output_type": "stream",
     "text": [
      "  1%|          | 7/1000 [00:16<38:44,  2.34s/it]"
     ]
    },
    {
     "name": "stdout",
     "output_type": "stream",
     "text": [
      "Document: 7\n",
      "Topics: ['DUP: [1] Manufacturing: Mentions the process of creating a product, often through the use of machinery or tools.', 'DUP: [1] Engineering: Mentions the application of scientific, economic, social, and practical knowledge to design, build, and maintain structures, machines, devices, systems, and processes.', 'DUP: [1] Technology: Mentions the application of scientific knowledge for practical purposes, especially in industry.']\n",
      "--------------------\n"
     ]
    },
    {
     "name": "stderr",
     "output_type": "stream",
     "text": [
      "  1%|          | 8/1000 [00:19<42:41,  2.58s/it]"
     ]
    },
    {
     "name": "stdout",
     "output_type": "stream",
     "text": [
      "Document: 8\n",
      "Topics: ['DUP: [1] Electrical Systems: Mentions the use of DC-DC converters, which are electrical components.', 'DUP: [1] Engineering: Mentions the design and implementation of a DC-DC converter.', 'DUP: [1] Technology: Mentions the use of a DC-DC converter, which is a technological innovation.', 'DUP: [1] Manufacturing: Mentions the production of a DC-DC converter.']\n",
      "--------------------\n"
     ]
    },
    {
     "name": "stderr",
     "output_type": "stream",
     "text": [
      "  1%|          | 9/1000 [00:21<39:53,  2.42s/it]"
     ]
    },
    {
     "name": "stdout",
     "output_type": "stream",
     "text": [
      "Document: 9\n",
      "Topics: ['DUP: [1] Technology: Mentions the use of a system and its capabilities.', 'DUP: [1] Electrical Systems: Mentions the memory device and its refreshing operations.']\n",
      "--------------------\n"
     ]
    },
    {
     "name": "stderr",
     "output_type": "stream",
     "text": [
      "  1%|          | 10/1000 [00:25<44:16,  2.68s/it]"
     ]
    },
    {
     "name": "stdout",
     "output_type": "stream",
     "text": [
      "Document: 10\n",
      "Topics: ['NEW: [1] Internal Combustion Engines: Mentions components and systems used in engines that burn fuel inside a combustion chamber.', 'DUP: [1] Engineering: Mentions the design, construction, and use of structures, machines, devices, systems, and processes.', 'DUP: [1] Manufacturing: Mentions the production of goods through physical or chemical transformation of materials.', 'DUP: [1] Technology: Mentions the application of scientific knowledge for practical purposes and the devices, processes, and systems used to do so.', 'DUP: [1] Energy: Mentions the various forms of energy and their sources, conversion, transmission, and use.', 'NEW: [1] Engineering Design: Mentions the process of developing a plan or specification for constructing an object, system, or process.', 'NEW: [1] Mechanical Engineering: Mentions the application of principles of physics and mathematics for the design, analysis, manufacturing, and maintenance of mechanical systems.', 'NEW: [1] Gas Technology: Mentions the production, processing, and utilization of gases, including their properties, applications, and safety.', 'NEW: [1] Automotive Technology: Mentions the design, construction, and operation of motor vehicles, including engines, transmissions, and fuel systems.', 'NEW: [1] Injection Systems: Mentions the devices used to inject fluids or gases into a system or process.']\n",
      "--------------------\n"
     ]
    },
    {
     "name": "stderr",
     "output_type": "stream",
     "text": [
      "  1%|          | 11/1000 [00:26<39:52,  2.42s/it]"
     ]
    },
    {
     "name": "stdout",
     "output_type": "stream",
     "text": [
      "Document: 11\n",
      "Topics: ['NEW: [1] Wind Energy: Mentions wind turbines and their components.', 'DUP: [1] Manufacturing: Mentions the production of wind turbine components.', 'DUP: [1] Engineering Design: Mentions the design of wind turbine components.', 'DUP: [1] Mechanical Engineering: Mentions the mechanical aspects of wind turbine components.']\n",
      "--------------------\n"
     ]
    },
    {
     "name": "stderr",
     "output_type": "stream",
     "text": [
      "  1%|          | 12/1000 [00:29<38:33,  2.34s/it]"
     ]
    },
    {
     "name": "stdout",
     "output_type": "stream",
     "text": [
      "Document: 12\n",
      "Topics: ['NEW: [1] Operating Systems: Mentions the interaction between software processes and the operating system.', 'NEW: [1] Power Management: Mentions techniques and processes related to managing power consumption.', 'DUP: [1] Communication Technology: Mentions inter-process communication mechanisms.', 'DUP: [1] Electrical Systems: Implied by the discussion of power management and kernel suspend/resume.']\n",
      "--------------------\n"
     ]
    },
    {
     "name": "stderr",
     "output_type": "stream",
     "text": [
      "  1%|▏         | 13/1000 [00:30<35:31,  2.16s/it]"
     ]
    },
    {
     "name": "stdout",
     "output_type": "stream",
     "text": [
      "Document: 13\n",
      "Topics: ['NEW: [1] Induction Technology: Mentions the use of induction sections and the induction of current between them. This topic is broad enough to accommodate future subtopics related to different types of induction technologies and applications.']\n",
      "--------------------\n"
     ]
    },
    {
     "name": "stderr",
     "output_type": "stream",
     "text": [
      "  1%|▏         | 14/1000 [00:32<34:56,  2.13s/it]"
     ]
    },
    {
     "name": "stdout",
     "output_type": "stream",
     "text": [
      "Document: 14\n",
      "Topics: ['DUP: [1] Wind Energy: Mentions the transportation of wind turbine blades, which is a key aspect of wind energy production.', 'NEW: [1] Rail Transportation: Mentions the use of railcars for transporting wind turbine blades.', 'DUP: [1] Mechanical Engineering: Mentions the design and implementation of fixtures for transporting wind turbine blades.', 'DUP: [1] Manufacturing: Mentions the process of manufacturing and transporting wind turbine blades.', 'DUP: [1] Engineering Design: Mentions the design of a transport system for wind turbine blades.']\n",
      "--------------------\n"
     ]
    },
    {
     "name": "stderr",
     "output_type": "stream",
     "text": [
      "  2%|▏         | 15/1000 [00:35<38:34,  2.35s/it]"
     ]
    },
    {
     "name": "stdout",
     "output_type": "stream",
     "text": [
      "Document: 15\n",
      "Topics: ['NEW: [1] Wireless Communications: Mentions technologies and methods related to wireless communications.', 'NEW: [1] Telecommunications: Mentions the exchange of information over significant distances.', 'NEW: [1] Base Stations: Mentions the fixed stations that manage wireless communication in a cellular network.', 'NEW: [1] User Equipment: Mentions devices used by end-users to access a communication network.', 'NEW: [1] Paging Systems: Mentions systems used to locate and communicate with specific devices in a network.']\n",
      "--------------------\n"
     ]
    },
    {
     "name": "stderr",
     "output_type": "stream",
     "text": [
      "  2%|▏         | 16/1000 [00:37<36:10,  2.21s/it]"
     ]
    },
    {
     "name": "stdout",
     "output_type": "stream",
     "text": [
      "Document: 16\n",
      "Topics: ['NEW: [1] Building Automation Systems: Mentions a system used to monitor and control various building services such as HVAC, lighting, and security.', 'NEW: [1] Elevator Technology: Mentions the technology used in the design, construction, and operation of elevators.']\n",
      "--------------------\n"
     ]
    },
    {
     "name": "stderr",
     "output_type": "stream",
     "text": [
      "  2%|▏         | 17/1000 [00:39<34:13,  2.09s/it]"
     ]
    },
    {
     "name": "stdout",
     "output_type": "stream",
     "text": [
      "Document: 17\n",
      "Topics: ['NEW: [1] Composite Materials: Mentions the fabrication of composite structures, including honeycomb cores and face sheets.']\n",
      "--------------------\n"
     ]
    },
    {
     "name": "stderr",
     "output_type": "stream",
     "text": [
      "  2%|▏         | 18/1000 [00:41<32:39,  2.00s/it]"
     ]
    },
    {
     "name": "stdout",
     "output_type": "stream",
     "text": [
      "Document: 18\n",
      "Topics: ['DUP: [1] Technology: Mentions the use of a power management unit and communication interconnect, which can be considered part of the broader technology domain.', 'DUP: [1] Power Management: Mentions the power management unit and its role in collecting workload data and adjusting operating frequencies.']\n",
      "--------------------\n"
     ]
    },
    {
     "name": "stderr",
     "output_type": "stream",
     "text": [
      "  2%|▏         | 19/1000 [00:43<34:13,  2.09s/it]"
     ]
    },
    {
     "name": "stdout",
     "output_type": "stream",
     "text": [
      "Document: 19\n",
      "Topics: ['NEW: [1] Battery Technology: Mentions the design and functionality of batteries, including battery modules and their components.']\n",
      "--------------------\n"
     ]
    },
    {
     "name": "stderr",
     "output_type": "stream",
     "text": [
      "  2%|▏         | 20/1000 [00:46<38:38,  2.37s/it]"
     ]
    },
    {
     "name": "stdout",
     "output_type": "stream",
     "text": [
      "Document: 20\n",
      "Topics: ['NEW: [1] Radiation Technology: Mentions the use of electromagnetic radiation for material treatment.', 'NEW: [1] Electromagnetic Waves: Mentions the generation and emission of electromagnetic waves.', 'NEW: [1] Material Processing: Mentions the conditioning of materials through irradiation.', 'NEW: [1] Vacuum Technology: Mentions the use of a vacuum environment for material treatment.', 'NEW: [1] Quartz Technology: Mentions the use of quartz tubes in the invention.', 'NEW: [1] LED Technology: Mentions the use of LEDs as an emitter of electromagnetic waves.', 'NEW: [1] Insulation Materials: Mentions the use of insulating materials to shield electromagnetic emissions.', 'NEW: [1] Reflective Materials: Mentions the use of reflective materials to coat insulating cups.']\n",
      "--------------------\n"
     ]
    },
    {
     "name": "stderr",
     "output_type": "stream",
     "text": [
      "  2%|▏         | 21/1000 [00:48<35:22,  2.17s/it]"
     ]
    },
    {
     "name": "stdout",
     "output_type": "stream",
     "text": [
      "Document: 21\n",
      "Topics: ['DUP: [1] Battery Technology: Mentions research and development related to batteries, including diagnosis methods and apparatus.']\n",
      "--------------------\n"
     ]
    },
    {
     "name": "stderr",
     "output_type": "stream",
     "text": [
      "  2%|▏         | 22/1000 [00:49<32:45,  2.01s/it]"
     ]
    },
    {
     "name": "stdout",
     "output_type": "stream",
     "text": [
      "Document: 22\n",
      "Topics: ['DUP: [1] Battery Technology: Mentions the development of a button-type lithium ion battery with a metal housing.']\n",
      "--------------------\n"
     ]
    },
    {
     "name": "stderr",
     "output_type": "stream",
     "text": [
      "  2%|▏         | 23/1000 [00:52<35:54,  2.21s/it]"
     ]
    },
    {
     "name": "stdout",
     "output_type": "stream",
     "text": [
      "Document: 23\n",
      "Topics: ['NEW: [1] Control Systems: Mentions the use of systems to regulate and manage processes.', 'NEW: [1] Compressors: Mentions machines used to compress gases.', 'NEW: [1] Variable Speed Control: Mentions the ability to adjust the speed of a machine or process.', 'NEW: [1] Process Control: Mentions the regulation and monitoring of processes.', 'NEW: [1] Performance Control: Mentions the optimization of processes to meet desired levels.', 'NEW: [1] Limit Control: Mentions the regulation of processes to prevent exceeding certain limits.', 'NEW: [1] Industrial Automation: Mentions the use of automated systems in industry.', 'NEW: [1] Mechanical Systems: Mentions mechanical components and their operation.', 'NEW: [1] Engineering Controls: Mentions the use of controls in engineering applications.']\n",
      "--------------------\n"
     ]
    },
    {
     "name": "stderr",
     "output_type": "stream",
     "text": [
      "  2%|▏         | 24/1000 [00:54<34:35,  2.13s/it]"
     ]
    },
    {
     "name": "stdout",
     "output_type": "stream",
     "text": [
      "Document: 24\n",
      "Topics: ['DUP: [1] Electrical Systems: Mentions components of electrical systems, including printed circuit boards, magnetic elements, windings, and regulators.']\n",
      "--------------------\n"
     ]
    },
    {
     "name": "stderr",
     "output_type": "stream",
     "text": [
      "  2%|▎         | 25/1000 [00:57<37:40,  2.32s/it]"
     ]
    },
    {
     "name": "stdout",
     "output_type": "stream",
     "text": [
      "Document: 25\n",
      "Topics: ['DUP: [1] Manufacturing: Mentions the process of producing goods, typically on a large scale.', 'DUP: [1] Technology: Mentions the application of scientific knowledge for practical purposes.', 'DUP: [1] Engineering: Mentions the application of mathematics, physics, and other sciences to design, build, and maintain structures, machines, devices, systems, and processes.', 'NEW: [1] Computer Systems: Mentions the use of computers and related technologies for storing, processing, and transmitting data.']\n",
      "--------------------\n"
     ]
    },
    {
     "name": "stderr",
     "output_type": "stream",
     "text": [
      "  3%|▎         | 26/1000 [00:59<36:17,  2.24s/it]"
     ]
    },
    {
     "name": "stdout",
     "output_type": "stream",
     "text": [
      "Document: 26\n",
      "Topics: ['DUP: [1] Wireless Communications: Mentions wireless networks and communications links between nodes.', 'NEW: [1] Networking: Mentions the exchange of data between nodes and recording network pathways.', 'NEW: [1] Server Technology: Mentions a server receiving messages from the wireless network.']\n",
      "--------------------\n"
     ]
    },
    {
     "name": "stderr",
     "output_type": "stream",
     "text": [
      "  3%|▎         | 27/1000 [01:01<34:52,  2.15s/it]"
     ]
    },
    {
     "name": "stdout",
     "output_type": "stream",
     "text": [
      "Document: 27\n",
      "Topics: ['DUP: [1] Communication Technology: Mentions network-based communication between grid elements and a server.', 'DUP: [1] Power Management: Mentions the tracking of power introduced and available for an electric power grid.', 'DUP: [1] Industrial Automation: Mentions the automatic and autonomous transformation of grid elements into active grid elements.', 'DUP: [1] Control Systems: Mentions the prioritization of messages and the provision of priority flags.']\n",
      "--------------------\n"
     ]
    },
    {
     "name": "stderr",
     "output_type": "stream",
     "text": [
      "  3%|▎         | 28/1000 [01:03<35:13,  2.17s/it]"
     ]
    },
    {
     "name": "stdout",
     "output_type": "stream",
     "text": [
      "Document: 28\n",
      "Topics: ['NEW: [1] Electric Vehicles: Mentions a vehicle electrical system for a motor vehicle with low-voltage and high-voltage sub-systems, a starter/generator, and a battery. The high-voltage battery is connected to the low-voltage sub-system through a coupling unit.', 'DUP: [1] Internal Combustion Engines: Mentioned as a component of the motor vehicle.', 'DUP: [1] Battery Technology: Mentions a battery designed to produce high voltage and output it to the high-voltage sub-system, which has at least two battery units with individual voltage taps.']\n",
      "--------------------\n"
     ]
    },
    {
     "name": "stderr",
     "output_type": "stream",
     "text": [
      "  3%|▎         | 29/1000 [01:05<35:37,  2.20s/it]"
     ]
    },
    {
     "name": "stdout",
     "output_type": "stream",
     "text": [
      "Document: 29\n",
      "Topics: ['NEW: [1] Sensor Technology: Mentions the use of sensors and their data in vehicle operation.', 'NEW: [1] Telemetry Systems: Mentions systems that transmit data from remote sources in real-time.', 'NEW: [1] Vehicle Technology: Mentions the operational parameters and control systems of vehicles.', 'DUP: [1] Wireless Communications: Mentions the use of wireless technology for data transmission between vehicles.', 'NEW: [1] Distance Measurement: Mentions the determination and maintenance of the amount of space between vehicles.', 'DUP: [1] Control Systems: Mentions systems used to adjust operational parameters in response to external information.']\n",
      "--------------------\n"
     ]
    },
    {
     "name": "stderr",
     "output_type": "stream",
     "text": [
      "  3%|▎         | 30/1000 [01:07<34:53,  2.16s/it]"
     ]
    },
    {
     "name": "stdout",
     "output_type": "stream",
     "text": [
      "Document: 30\n",
      "Topics: ['DUP: [1] Electrical Systems: Mentions the use of electrical components and systems.', 'DUP: [1] LED Technology: Mentions the use of Light Emitting Diodes.', 'NEW: [1] Circuit Design: Mentions the design of electrical circuits.', 'NEW: [1] Safety Systems: Mentions the use of safety circuits.']\n",
      "--------------------\n"
     ]
    },
    {
     "name": "stderr",
     "output_type": "stream",
     "text": [
      "  3%|▎         | 31/1000 [01:10<37:45,  2.34s/it]"
     ]
    },
    {
     "name": "stdout",
     "output_type": "stream",
     "text": [
      "Document: 31\n",
      "Topics: ['DUP: [1] Building Automation Systems: Mentions the automation of building systems, including control of tintable windows for occupant comfort.', 'DUP: [1] Control Systems: Mentions the use of systems to manage and automate various functions, including the control of tintable windows.', 'DUP: [1] Networking: Mentions the provision of instructions over a network to transition the tint of the tintable window.', 'NEW: [1] Windows: Mentions tintable windows as a specific type of window.', 'NEW: [1] Lighting and Climate Control: A more general topic that could include building automation systems, control systems, and windows, focusing on the control of lighting and climate within a building.']\n",
      "--------------------\n"
     ]
    },
    {
     "name": "stderr",
     "output_type": "stream",
     "text": [
      "  3%|▎         | 32/1000 [01:12<36:51,  2.28s/it]"
     ]
    },
    {
     "name": "stdout",
     "output_type": "stream",
     "text": [
      "Document: 32\n",
      "Topics: ['DUP: [1] Internal Combustion Engines: Mentions the use of an Exhaust Gas Recirculation (EGR) device in an engine.', 'DUP: [1] Engineering Design: Mentions the design of a merged passage section for an EGR device and an intake passage.', 'DUP: [1] Manufacturing: Implied in the discussion of the design and construction of the merged passage section.', 'DUP: [1] Technology: Implied in the discussion of the use of an EGR device and the design of the merged passage section.']\n",
      "--------------------\n"
     ]
    },
    {
     "name": "stderr",
     "output_type": "stream",
     "text": [
      "  3%|▎         | 33/1000 [01:15<40:32,  2.52s/it]"
     ]
    },
    {
     "name": "stdout",
     "output_type": "stream",
     "text": [
      "Document: 33\n",
      "Topics: ['NEW: [1] Fuel Cells: Mentions the use and design of fuel cells.', 'NEW: [1] Catalysts: Mentions substances used to increase the rate of a chemical reaction.', 'NEW: [1] Material Science: Mentions the study of materials and their properties.', 'NEW: [1] Nanotechnology: Mentions the manipulation of materials at the nanoscale.', 'NEW: [1] Electrochemistry: Mentions the study of chemical reactions that occur at an electrode-electrolyte interface.', 'NEW: [1] Energy Storage: Mentions technologies used to store energy for later use.', 'NEW: [1] Gas Diffusion: Mentions the process by which gases spread through a porous medium.', 'NEW: [1] Particle Technology: Mentions the study and application of particles and particle systems.', 'NEW: [1] Coating Technology: Mentions the application of thin films or coatings to surfaces.', 'DUP: [1] Material Processing: Mentions the methods used to process and manipulate materials.', 'DUP: [1] Composite Materials: Mentions materials made from two or more distinct components.', 'NEW: [1] Electrical Engineering: Mentions the study and application of electricity and electronics.', 'DUP: [1] Manufacturing: Mentions the production of goods through a planned process.']\n",
      "--------------------\n"
     ]
    },
    {
     "name": "stderr",
     "output_type": "stream",
     "text": [
      "  3%|▎         | 34/1000 [01:18<42:46,  2.66s/it]"
     ]
    },
    {
     "name": "stdout",
     "output_type": "stream",
     "text": [
      "Document: 34\n",
      "Topics: ['NEW: [1] Organic Semiconductors: Mentions the use of organic compounds in electronic devices.', 'NEW: [1] Organic Electronics: Mentions the field of electronics that uses organic materials.', 'NEW: [1] Organic Photovoltaics: Mentions the use of organic materials in photovoltaic devices.', 'NEW: [1] Organic Photodetectors: Mentions the use of organic materials in photodetectors.', 'NEW: [1] Organic Field Effect Transistors: Mentions the use of organic materials in field effect transistors.', 'NEW: [1] Organic Light Emitting Diodes: Mentions the use of organic materials in light emitting diodes.']\n",
      "--------------------\n"
     ]
    },
    {
     "name": "stderr",
     "output_type": "stream",
     "text": [
      "  4%|▎         | 35/1000 [01:21<40:47,  2.54s/it]"
     ]
    },
    {
     "name": "stdout",
     "output_type": "stream",
     "text": [
      "Document: 35\n",
      "Topics: ['DUP: [1] Vehicle Technology: Mentions technologies related to vehicles.', 'DUP: [1] Sensor Technology: Mentions technologies used for sensing and detecting various conditions or data.', 'NEW: [1] Weather Technology: Mentions technologies related to weather monitoring and prediction.']\n",
      "--------------------\n"
     ]
    },
    {
     "name": "stderr",
     "output_type": "stream",
     "text": [
      "  4%|▎         | 36/1000 [01:23<39:22,  2.45s/it]"
     ]
    },
    {
     "name": "stdout",
     "output_type": "stream",
     "text": [
      "Document: 36\n",
      "Topics: ['DUP: [1] Material Processing: Mentions the processing of materials, specifically titanium and its alloys.', 'NEW: [1] Additive Manufacturing: Mentions the process of creating three-dimensional objects by adding material layer by layer.']\n",
      "--------------------\n"
     ]
    },
    {
     "name": "stderr",
     "output_type": "stream",
     "text": [
      "  4%|▎         | 37/1000 [01:25<38:23,  2.39s/it]"
     ]
    },
    {
     "name": "stdout",
     "output_type": "stream",
     "text": [
      "Document: 37\n",
      "Topics: ['NEW: [1] Lighthouse Technology: Mentions the design and functionality of lighthouses.', 'NEW: [1] Structural Design: A subtopic of Lighthouse Technology, mentions the design of structures such as masts and covers.', 'NEW: [1] Maintenance and Efficiency: A subtopic of Lighthouse Technology, mentions methods and technologies to improve maintenance and efficiency.']\n",
      "--------------------\n"
     ]
    },
    {
     "name": "stderr",
     "output_type": "stream",
     "text": [
      "  4%|▍         | 38/1000 [01:28<41:06,  2.56s/it]"
     ]
    },
    {
     "name": "stdout",
     "output_type": "stream",
     "text": [
      "Document: 38\n",
      "Topics: ['NEW: [1] Humidification Systems: Systems used to maintain proper moisture levels in air or other environments.', 'DUP: [1] Control Systems: Systems used to manage and regulate various functions and processes.', 'NEW: [1] Heating Systems: Systems used to generate and distribute heat.', 'NEW: [1] Air Delivery Systems: Systems used to transport and distribute air.', 'NEW: [1] Water Delivery Systems: Systems used to transport and distribute water.', 'NEW: [1] Fog Generation Systems: Systems used to generate and deliver fog or mist.', 'DUP: [1] Manufacturing: Processes or methods used to produce goods.', 'DUP: [1] Engineering Design: The process of developing plans to build an object, system or structure.', 'DUP: [1] Mechanical Engineering: A branch of engineering that deals with mechanical systems.', 'DUP: [1] Industrial Automation: The use of control systems to automate industrial processes.']\n",
      "--------------------\n"
     ]
    },
    {
     "name": "stderr",
     "output_type": "stream",
     "text": [
      "  4%|▍         | 39/1000 [01:30<38:33,  2.41s/it]"
     ]
    },
    {
     "name": "stdout",
     "output_type": "stream",
     "text": [
      "Document: 39\n",
      "Topics: ['DUP: [1] Battery Technology: Mentions the study or development of batteries and their components.', 'DUP: [1] Material Science: Mentions the scientific study of materials and their properties.', 'NEW: [1] Silicon Materials: Mentions the use and properties of silicon materials.', 'NEW: [1] Lithium Ion Batteries: Mentions secondary batteries that use lithium ions as a charge carrier.', 'NEW: [1] Electrode Materials: Mentions materials used in the construction of electrodes in batteries.', 'NEW: [1] Graphite Materials: Mentions the use and properties of graphite materials.']\n",
      "--------------------\n"
     ]
    },
    {
     "name": "stderr",
     "output_type": "stream",
     "text": [
      "  4%|▍         | 40/1000 [01:32<37:48,  2.36s/it]"
     ]
    },
    {
     "name": "stdout",
     "output_type": "stream",
     "text": [
      "Document: 40\n",
      "Topics: ['NEW: [1] Aerospace Engineering: Mentions the design and construction of aircraft and spacecraft.', 'DUP: [1] Material Science: Mentions the properties and behavior of materials.', 'DUP: [1] Structural Design: Mentions the design of structures to support loads.', 'DUP: [1] Composite Materials: Mentions materials made of two or more different materials.', 'NEW: [1] Wing Design: Mentions the design of aircraft wings.', 'NEW: [1] Aircraft Engineering: Mentions the design, construction, and operation of aircraft.']\n",
      "--------------------\n"
     ]
    },
    {
     "name": "stderr",
     "output_type": "stream",
     "text": [
      "  4%|▍         | 41/1000 [01:35<41:37,  2.60s/it]"
     ]
    },
    {
     "name": "stdout",
     "output_type": "stream",
     "text": [
      "Document: 41\n",
      "Topics: ['DUP: [1] Fuel Cells: Mentions the use of fuel cells as a power source.', 'DUP: [1] Compressors: Mentions the use of compressors in fuel cell systems.', 'NEW: [1] Turbines: Mentions the use of turbines in fuel cell systems for expanding operating gas.', 'NEW: [1] Underwater Vehicles: Mentions the application of the drive system to underwater vehicles.', 'NEW: [1] Submarines: Mentions the application of the drive system to submarines.', 'NEW: [1] Unmanned Underwater Vehicles: Mentions the application of the drive system to unmanned underwater vehicles.', 'NEW: [1] Energy Systems: Mentions the use of fuel cells and compressors for energy production.', 'NEW: [1] Marine Technology: Mentions the application of fuel cell technology to marine vehicles.', 'NEW: [1] Underwater Technology: Mentions the application of fuel cell technology to underwater systems.']\n",
      "--------------------\n"
     ]
    },
    {
     "name": "stderr",
     "output_type": "stream",
     "text": [
      "  4%|▍         | 42/1000 [01:39<46:19,  2.90s/it]"
     ]
    },
    {
     "name": "stdout",
     "output_type": "stream",
     "text": [
      "Document: 42\n",
      "Topics: ['NEW: [1] Microgrids: Systems that can operate connected to or isolated from the main power grid.', 'NEW: [1] Power Systems: The production, transmission, and distribution of electrical power.', 'NEW: [1] Smart Grids: Electrical grids that can automatically adjust to changes in power usage and supply.', 'DUP: [1] Control Systems: Systems used to manage and regulate the operation of other systems or processes.', 'NEW: [1] Switching Systems: Devices used to control the flow of electrical current or other media.', 'NEW: [1] Fault Detection: Identifying and isolating issues or errors in a system.', 'NEW: [1] Islanded Modes: Operation of a microgrid independently from the main power grid.', 'NEW: [1] Synchronization: Coordinating the operation of two or more systems or processes.', 'NEW: [1] Reclosing: The process of re-establishing a circuit after a fault has occurred and been cleared.']\n",
      "--------------------\n"
     ]
    },
    {
     "name": "stderr",
     "output_type": "stream",
     "text": [
      "  4%|▍         | 43/1000 [01:41<43:39,  2.74s/it]"
     ]
    },
    {
     "name": "stdout",
     "output_type": "stream",
     "text": [
      "Document: 43\n",
      "Topics: ['DUP: [1] Material Processing: Mentions the manipulation of materials to create a new form or product.', 'NEW: [1] Polymer Technology: Mentions the study and application of polymers.', 'NEW: [1] Extrusion Technology: Mentions the process of forcing a material through a die to create a desired shape.', 'NEW: [1] Biofilm Technology: Mentions the growth of microorganisms on a surface in a film-like structure.', 'NEW: [1] Anaerobic and Anoxic Technologies: Mentions technologies used in environments with limited oxygen.', 'DUP: [1] Electrochemistry: Mentions the study of chemical reactions that involve the transfer of electrons.']\n",
      "--------------------\n"
     ]
    },
    {
     "name": "stderr",
     "output_type": "stream",
     "text": [
      "  4%|▍         | 44/1000 [01:43<38:50,  2.44s/it]"
     ]
    },
    {
     "name": "stdout",
     "output_type": "stream",
     "text": [
      "Document: 44\n",
      "Topics: ['NEW: [1] Bioprocessing: Mentions the processing of biological materials, including the use of wet-mill streams and the extraction of proteins.']\n",
      "--------------------\n"
     ]
    },
    {
     "name": "stderr",
     "output_type": "stream",
     "text": [
      "  4%|▍         | 45/1000 [01:45<35:57,  2.26s/it]"
     ]
    },
    {
     "name": "stdout",
     "output_type": "stream",
     "text": [
      "Document: 45\n",
      "Topics: ['DUP: [1] Gas Technology: Mentions the production and separation of gases, specifically argon and nitrogen.']\n",
      "--------------------\n"
     ]
    },
    {
     "name": "stderr",
     "output_type": "stream",
     "text": [
      "  5%|▍         | 46/1000 [01:47<36:23,  2.29s/it]"
     ]
    },
    {
     "name": "stdout",
     "output_type": "stream",
     "text": [
      "Document: 46\n",
      "Topics: ['NEW: [1] Image Processing: Mentions the capture, recognition, and processing of images.', 'NEW: [1] Code Imaging: Mentions the imaging of codes or barcodes.', 'NEW: [1] Object Management: Mentions the management of objects or items.', 'NEW: [1] Positioning Systems: Mentions systems used to determine or manage positions.', 'NEW: [1] Coordinate Systems: Mentions systems used to define positions using coordinates.', 'NEW: [1] Reference Images: Mentions the use of reference images for comparison or correction.']\n",
      "--------------------\n"
     ]
    },
    {
     "name": "stderr",
     "output_type": "stream",
     "text": [
      "  5%|▍         | 47/1000 [01:49<34:43,  2.19s/it]"
     ]
    },
    {
     "name": "stdout",
     "output_type": "stream",
     "text": [
      "Document: 47\n",
      "Topics: ['DUP: [1] Battery Technology: Mentions the detection of faults in DC batteries.', 'DUP: [1] Server Technology: Mentions the use of a server for receiving and storing data.', 'NEW: [1] Database Technology: Mentions the use of a database for storing data.', 'DUP: [1] Power Systems: Mentions the use of a DC battery in a pitch system.']\n",
      "--------------------\n"
     ]
    },
    {
     "name": "stderr",
     "output_type": "stream",
     "text": [
      "  5%|▍         | 48/1000 [01:52<36:26,  2.30s/it]"
     ]
    },
    {
     "name": "stdout",
     "output_type": "stream",
     "text": [
      "Document: 48\n",
      "Topics: ['NEW: [1] Acoustic Waves: Mentions the propagation of sound waves, specifically in the context of communication networks.', 'NEW: [1] Communication Networks: Mentions systems for transmitting and receiving data.', 'NEW: [1] Relay Nodes: Mentions devices that forward data between different parts of a communication network.', 'NEW: [1] Tubular Bodies: Mentions elongated structures used in the context of communication networks.', 'NEW: [1] Wireless Data Transmission: Mentions the transfer of data without the use of wires or cables.']\n",
      "--------------------\n"
     ]
    },
    {
     "name": "stderr",
     "output_type": "stream",
     "text": [
      "  5%|▍         | 49/1000 [01:54<36:41,  2.32s/it]"
     ]
    },
    {
     "name": "stdout",
     "output_type": "stream",
     "text": [
      "Document: 49\n",
      "Topics: ['NEW: [1] Membrane Technology: Mentions the use of a semi-permeable membrane for separating and diluting solutions.', 'NEW: [1] Water Treatment: Mentions the separation and treatment of water and the use of cation and anion sources.', 'NEW: [1] Chemical Processing: Mentions the dissolving and separating of cation and anion sources.', \"DUP: [1] Material Science: Mentions the molecular weight and Henry's law constant of cation and anion sources.\"]\n",
      "--------------------\n"
     ]
    },
    {
     "name": "stderr",
     "output_type": "stream",
     "text": [
      "  5%|▌         | 50/1000 [01:57<36:50,  2.33s/it]"
     ]
    },
    {
     "name": "stdout",
     "output_type": "stream",
     "text": [
      "Document: 50\n",
      "Topics: ['DUP: [1] Coating Technology: Mentions the application of a substance to a surface to protect or alter its properties.', 'NEW: [1] Surface Science: Mentions the study of the physical and chemical properties of surfaces and interfaces.', 'NEW: [1] Wetting and Coating: Mentions the contact angle between a liquid and a solid surface, and the behavior of liquids on surfaces.']\n",
      "--------------------\n"
     ]
    },
    {
     "name": "stderr",
     "output_type": "stream",
     "text": [
      "  5%|▌         | 51/1000 [01:59<36:28,  2.31s/it]"
     ]
    },
    {
     "name": "stdout",
     "output_type": "stream",
     "text": [
      "Document: 51\n",
      "Topics: ['NEW: [1] Electronic Waste: Mentions the processing of scraps from electronic and electrical devices.', 'DUP: [1] Material Processing: Mentions the separation and sorting of materials.', 'NEW: [1] Scrap Recycling: Mentions the recovery of materials from scraps.', 'NEW: [1] Substrate Recovery: Mentions the specific recovery of a substrate.', 'NEW: [1] Lead Wire Processing: Mentions the handling of lead wires in the processing of electronic and electrical device scraps.', 'NEW: [1] Magnetic Sorting: Mentions the use of magnetic sorting in the processing of electronic and electrical device scraps.']\n",
      "--------------------\n"
     ]
    },
    {
     "name": "stderr",
     "output_type": "stream",
     "text": [
      "  5%|▌         | 52/1000 [02:01<35:24,  2.24s/it]"
     ]
    },
    {
     "name": "stdout",
     "output_type": "stream",
     "text": [
      "Document: 52\n",
      "Topics: ['DUP: [1] Manufacturing: Mentions the process of creating a product.', 'DUP: [1] Material Processing: Mentions the modification or manipulation of materials.', 'DUP: [1] Engineering Design: Mentions the planning and development of a product or system.', 'DUP: [1] Composite Materials: Mentions materials made up of two or more distinct components.', 'DUP: [1] Structural Design: Mentions the planning and development of the physical structure of a product or system.']\n",
      "--------------------\n"
     ]
    },
    {
     "name": "stderr",
     "output_type": "stream",
     "text": [
      "  5%|▌         | 53/1000 [02:03<33:53,  2.15s/it]"
     ]
    },
    {
     "name": "stdout",
     "output_type": "stream",
     "text": [
      "Document: 53\n",
      "Topics: ['DUP: [1] Battery Technology: Mentions the use of a balancing unit in a battery cell, which relates to battery technology.', 'DUP: [1] Wireless Communications: Mentions the presence of a wireless communication element.']\n",
      "--------------------\n"
     ]
    },
    {
     "name": "stderr",
     "output_type": "stream",
     "text": [
      "  5%|▌         | 54/1000 [02:05<35:41,  2.26s/it]"
     ]
    },
    {
     "name": "stdout",
     "output_type": "stream",
     "text": [
      "Document: 54\n",
      "Topics: ['DUP: [1] Electrical Systems: Mentions System-on-Chips (SoCs) and optimization of electrical systems.', 'DUP: [1] Engineering Design: Mentions receiving a floor plan description and generating a Network-on-Chip (NoC) topology.', 'DUP: [1] Technology: Mentions transformation and optimization of systems.', 'DUP: [1] Computer Systems: Mentions SoCs and logical grid layout.', 'DUP: [1] Networking: Mentions generating a Network-on-Chip (NoC) topology.', 'DUP: [1] Engineering: Mentions optimization and transformation of systems.', 'NEW: [1] Design: Mentions receiving a floor plan description and generating a logical grid layout.', 'NEW: [1] Optimization: Mentions optimization of power, area, and performance.', 'DUP: [1] Electrical Engineering: Mentions optimization of electrical systems and generation of a NoC topology.']\n",
      "--------------------\n"
     ]
    },
    {
     "name": "stderr",
     "output_type": "stream",
     "text": [
      "  6%|▌         | 55/1000 [02:07<34:37,  2.20s/it]"
     ]
    },
    {
     "name": "stdout",
     "output_type": "stream",
     "text": [
      "Document: 55\n",
      "Topics: ['DUP: [1] Communication Technology: Mentions the use of communication devices and their components, including reception units, transmission units, and control units. This topic also includes the concepts of weighting vectors, precoding vectors, and channel estimation.']\n",
      "--------------------\n"
     ]
    },
    {
     "name": "stderr",
     "output_type": "stream",
     "text": [
      "  6%|▌         | 56/1000 [02:10<36:18,  2.31s/it]"
     ]
    },
    {
     "name": "stdout",
     "output_type": "stream",
     "text": [
      "Document: 56\n",
      "Topics: ['DUP: [1] Communication Technology: Mentions methods and apparatus related to changing the discontinuous reception (DRX) configuration for a connection between a mobile device and a base station.', 'DUP: [1] Wireless Communications: Mentions the exchange of signals between a mobile device and a base station.', 'DUP: [1] Telecommunications: Mentions the exchange of information between two or more entities using telecommunication technology.', 'DUP: [1] Base Stations: Mentions the infrastructure used to provide wireless communication services.', 'NEW: [1] Mobile Devices: Mentions devices used for wireless communication, such as smartphones or tablets.', 'DUP: [1] Technology: Mentions the use of methods and apparatus to accomplish a specific task.']\n",
      "--------------------\n"
     ]
    },
    {
     "name": "stderr",
     "output_type": "stream",
     "text": [
      "  6%|▌         | 57/1000 [02:13<37:51,  2.41s/it]"
     ]
    },
    {
     "name": "stdout",
     "output_type": "stream",
     "text": [
      "Document: 57\n",
      "Topics: ['NEW: [1] Solar Energy: Mentions the production of energy from sunlight using solar cells.', 'NEW: [1] Polymers: Mentions materials made from large organic molecules.', 'NEW: [1] Encapsulants: Mentions materials used to protect and seal components, specifically solar cells in this context.', 'DUP: [1] Material Science: Mentions the study of materials and their properties.', 'DUP: [1] Electrical Systems: Mentions the use of solar cells as part of an electrical system.']\n",
      "--------------------\n"
     ]
    },
    {
     "name": "stderr",
     "output_type": "stream",
     "text": [
      "  6%|▌         | 58/1000 [02:15<36:42,  2.34s/it]"
     ]
    },
    {
     "name": "stdout",
     "output_type": "stream",
     "text": [
      "Document: 58\n",
      "Topics: ['DUP: [1] Induction Technology: Mentions the use of magnetic fields for heating or power transfer.', 'DUP: [1] Electrical Systems: Mentions components used to distribute or control electricity.', 'DUP: [1] Manufacturing: Mentions the production of an induction heating device.', 'DUP: [1] Engineering Design: Mentions the design of the induction heating device.', 'DUP: [1] Mechanical Engineering: Mentions the mechanical components of the induction heating device.', 'DUP: [1] Material Processing: Mentions the processing of materials using induction heating.']\n",
      "--------------------\n"
     ]
    },
    {
     "name": "stderr",
     "output_type": "stream",
     "text": [
      "  6%|▌         | 59/1000 [02:17<36:43,  2.34s/it]"
     ]
    },
    {
     "name": "stdout",
     "output_type": "stream",
     "text": [
      "Document: 59\n",
      "Topics: ['DUP: [1] Radiation Technology: Mentions the use of radiation for solidifying a starting material.', 'DUP: [1] Material Processing: Mentions the processing of a free-flowing or pourable starting material.', 'NEW: [1] Filter Technology: Mentions the production of a filter element.', 'DUP: [1] Manufacturing: Mentions the production of a product (filter element) using a method.']\n",
      "--------------------\n"
     ]
    },
    {
     "name": "stderr",
     "output_type": "stream",
     "text": [
      "  6%|▌         | 60/1000 [02:19<35:17,  2.25s/it]"
     ]
    },
    {
     "name": "stdout",
     "output_type": "stream",
     "text": [
      "Document: 60\n",
      "Topics: ['DUP: [1] Chemical Processing: Mentions the processing of chemicals, including industrial grade hydrated salts.', 'DUP: [1] Energy Storage: Mentions the storage of thermal energy, specifically in industrial grade hydrated salts.', 'DUP: [1] Material Processing: Mentions the processing of materials, including industrial grade hydrated salts.']\n",
      "--------------------\n"
     ]
    },
    {
     "name": "stderr",
     "output_type": "stream",
     "text": [
      "  6%|▌         | 61/1000 [02:22<35:44,  2.28s/it]"
     ]
    },
    {
     "name": "stdout",
     "output_type": "stream",
     "text": [
      "Document: 61\n",
      "Topics: ['DUP: [1] Electric Vehicles: Mentions vehicles that run on electricity and their components.', 'NEW: [1] Transformers: Mentions devices used to change the voltage of an alternating current.', 'NEW: [1] Electric Motors: Mentions devices that convert electrical energy into mechanical energy.', 'DUP: [1] Power Management: Mentions the control and distribution of electrical power.', 'NEW: [1] Temperature Control: Mentions systems used to maintain desired temperatures.']\n",
      "--------------------\n"
     ]
    },
    {
     "name": "stderr",
     "output_type": "stream",
     "text": [
      "  6%|▌         | 62/1000 [02:25<41:14,  2.64s/it]"
     ]
    },
    {
     "name": "stdout",
     "output_type": "stream",
     "text": [
      "Document: 62\n",
      "Topics: ['DUP: [1] Power Management: Mentions the management and control of electrical power.', 'DUP: [1] Electrical Systems: Mentions the design, construction, and operation of electrical systems.', 'DUP: [1] Communication Technology: Mentions the exchange of information between two or more entities using technology.', 'NEW: [1] USB Technology: Mentions the Universal Serial Bus technology for connecting and transferring data between devices.', 'NEW: [1] Mobile Technology: Mentions mobile devices and related technologies.', 'NEW: [1] Charging Systems: Mentions systems used for charging electrical devices.', 'NEW: [1] Quick Charging: Mentions the technology for charging electrical devices quickly.', 'NEW: [1] Adapters: Mentions devices used to convert one electrical interface into another.', 'NEW: [1] Signal Transmission: Mentions the sending and receiving of signals between devices.', 'NEW: [1] Data Communication: Mentions the exchange of digital data between devices.', 'NEW: [1] Bidirectional Communication: Mentions the exchange of data in both directions between devices.', 'NEW: [1] Current Control: Mentions the regulation and adjustment of electrical current.', 'NEW: [1] Power Adapters: Mentions devices used to convert AC or DC power from a wall outlet to a form that can be used by electronic devices.']\n",
      "--------------------\n"
     ]
    },
    {
     "name": "stderr",
     "output_type": "stream",
     "text": [
      "  6%|▋         | 63/1000 [02:27<39:33,  2.53s/it]"
     ]
    },
    {
     "name": "stdout",
     "output_type": "stream",
     "text": [
      "Document: 63\n",
      "Topics: ['DUP: [1] Vehicle Technology: Mentions technologies related to vehicles, including their components and systems.', 'DUP: [1] Energy: Mentions the study and application of energy and its sources.', 'NEW: [1] Map Technology: Mentions technologies related to creating and displaying maps and spatial data.', 'DUP: [1] Positioning Systems: Mentions systems used to determine the position of an object or vehicle.', 'DUP: [1] Electrical Systems: Mentions systems used to convert, distribute, and utilize electrical energy.', 'DUP: [1] Control Systems: Mentions systems used to regulate and automate various processes and functions.']\n",
      "--------------------\n"
     ]
    },
    {
     "name": "stderr",
     "output_type": "stream",
     "text": [
      "  6%|▋         | 64/1000 [02:30<38:36,  2.47s/it]"
     ]
    },
    {
     "name": "stdout",
     "output_type": "stream",
     "text": [
      "Document: 64\n",
      "Topics: ['DUP: [1] Communication Technology: Mentions communication nodes and radio signal strength deviations.', 'DUP: [1] Sensor Technology: Mentions sensor types and operating sensor nodes.', 'DUP: [1] Wireless Communications: Implied by \"communication nodes\" and \"transmitting information\".', 'DUP: [1] Networking: Implied by \"configuring one among the operating sensor nodes as a virtual device\".']\n",
      "--------------------\n"
     ]
    },
    {
     "name": "stderr",
     "output_type": "stream",
     "text": [
      "  6%|▋         | 65/1000 [02:33<42:47,  2.75s/it]"
     ]
    },
    {
     "name": "stdout",
     "output_type": "stream",
     "text": [
      "Document: 65\n",
      "Topics: ['DUP: [1] Chemical Processing: Mentions the conversion of one or more substances into new forms through chemical reactions.', 'NEW: [1] Gasification: Mentions the process of converting organic materials into gases, typically through high temperatures and limited oxygen.', 'NEW: [1] Steam Methane Reforming: Mentions the process of converting methane into hydrogen and carbon monoxide using steam.', 'NEW: [1] Carbon Efficiency: Mentions the reduction of carbon emissions or the effective use of carbon in industrial processes.', 'NEW: [1] Ethylene Oxide: Mentions a colorless, flammable gas used in the production of various chemicals, including ethylene glycol and ethylene oxide itself.', 'NEW: [1] Carbonylation: Mentions the process of adding a carbonyl group (-C=O) to a molecule.', 'NEW: [1] Succinic Anhydride: Mentions a colorless, crystalline organic compound used as a mon']\n",
      "--------------------\n"
     ]
    },
    {
     "name": "stderr",
     "output_type": "stream",
     "text": [
      "  7%|▋         | 66/1000 [02:35<39:31,  2.54s/it]"
     ]
    },
    {
     "name": "stdout",
     "output_type": "stream",
     "text": [
      "Document: 66\n",
      "Topics: ['NEW: [1] Autonomous Vehicles: Mentions the optimization of recharging for autonomous vehicles.', 'NEW: [1] Routing: Mentions the generation of driving routes.', 'NEW: [1] Recharging Stations: Mentions the presence of recharging stations.', 'NEW: [1] Cost Functions: Mentions the use of objective cost functions.']\n",
      "--------------------\n"
     ]
    },
    {
     "name": "stderr",
     "output_type": "stream",
     "text": [
      "  7%|▋         | 67/1000 [02:38<39:03,  2.51s/it]"
     ]
    },
    {
     "name": "stdout",
     "output_type": "stream",
     "text": [
      "Document: 67\n",
      "Topics: ['DUP: [1] Control Systems: Mentions the use of electronic controllers and control systems.', 'DUP: [1] Engineering Controls: Mentions the design and implementation of protective commands for engines and propellers.', 'DUP: [1] Electrical Systems: Implied by the use of electronic controllers.', 'NEW: [1] Engine Technology: Implied by the focus on engine control and protection.', 'NEW: [1] Propeller Technology: Implied by the focus on propeller control and protection.']\n",
      "--------------------\n"
     ]
    },
    {
     "name": "stderr",
     "output_type": "stream",
     "text": [
      "  7%|▋         | 68/1000 [02:40<40:13,  2.59s/it]"
     ]
    },
    {
     "name": "stdout",
     "output_type": "stream",
     "text": [
      "Document: 68\n",
      "Topics: ['NEW: [1] Data Processing: Mentions the identification and processing of data using logical operations and engines.', 'DUP: [1] Computer Systems: Mentions the use of processors and memory in a computer system.', 'NEW: [1] Logical Operations: Mentions the use of logical operations in data processing.', 'NEW: [1] Operands: Mentions the representation and use of operands in logical operations.', 'NEW: [1] Memory Management: Mentions the storage and retrieval of data from memory.', 'NEW: [1] Digital Signal Processing: Mentions the processing of digital signals using logical operations.', 'NEW: [1] Algorithms: Mentions the use of algorithms to identify and process data.', 'NEW: [1] Computer Architecture: Mentions the use of processors and memory in computer architecture.', 'NEW: [1] Data Structures: Mentions the use of data structures in data processing.', 'NEW: [1] Computer Engineering: Mentions the design and implementation of computer systems.', 'NEW: [1] Software Engineering: Mentions the development of methods and algorithms for data processing.']\n",
      "--------------------\n"
     ]
    },
    {
     "name": "stderr",
     "output_type": "stream",
     "text": [
      "  7%|▋         | 69/1000 [02:44<43:49,  2.82s/it]"
     ]
    },
    {
     "name": "stdout",
     "output_type": "stream",
     "text": [
      "Document: 69\n",
      "Topics: ['NEW: [1] Hydrogen Technology: Mentions the production and use of hydrogen through electrochemical processes.', 'NEW: [1] Electrochemical Systems: Mentions systems that use electrical energy to induce a chemical reaction.', 'DUP: [1] Membrane Technology: Mentions the use of membranes for separation processes.', 'DUP: [1] Material Science: Mentions the study of materials and their properties.', 'DUP: [1] Engineering Design: Mentions the process of designing and developing new products or systems.', 'DUP: [1] Manufacturing: Mentions the production of goods through various processes.', 'DUP: [1] Energy: Mentions various forms of energy and their uses.', 'DUP: [1] Electrical Systems: Mentions systems that use electrical energy for various applications.', 'DUP: [1] Material Processing: Mentions the modification of materials to create new products or properties.', 'DUP: [1] Industrial Automation: Mentions the use of automated systems in industrial processes.', 'DUP: [1] Mechanical Engineering: Mentions the application of physical principles to design and build mechanical systems.', 'DUP: [1] Engineering Controls: Mentions the use of controls to manage and optimize engineering systems.', 'DUP: [1] Computer Systems: Mentions the use of computers and related technology for various applications.', 'DUP: [1] Networking: Mentions the interconnection of']\n",
      "--------------------\n"
     ]
    },
    {
     "name": "stderr",
     "output_type": "stream",
     "text": [
      "  7%|▋         | 70/1000 [02:46<41:07,  2.65s/it]"
     ]
    },
    {
     "name": "stdout",
     "output_type": "stream",
     "text": [
      "Document: 70\n",
      "Topics: ['DUP: [1] Induction Technology: Mentions the use of induction for heating applications.']\n",
      "--------------------\n"
     ]
    },
    {
     "name": "stderr",
     "output_type": "stream",
     "text": [
      "  7%|▋         | 71/1000 [02:48<37:44,  2.44s/it]"
     ]
    },
    {
     "name": "stdout",
     "output_type": "stream",
     "text": [
      "Document: 71\n",
      "Topics: ['DUP: [1] Chemical Processing: Mentions methods for processing chemicals.', 'DUP: [1] Material Science: Mentions the study of materials and their properties.', 'NEW: [1] Adhesives: Mentions the use of substances that cause materials to bind together.', 'DUP: [1] Polymer Technology: Mentions the study and application of polymers.']\n",
      "--------------------\n"
     ]
    },
    {
     "name": "stderr",
     "output_type": "stream",
     "text": [
      "  7%|▋         | 72/1000 [02:51<41:27,  2.68s/it]"
     ]
    },
    {
     "name": "stdout",
     "output_type": "stream",
     "text": [
      "Document: 72\n",
      "Topics: ['DUP: [1] Solar Energy: Mentions the collection and conversion of solar energy into electrical power.', 'NEW: [1] Semiconductor Technology: Mentions the use of semiconductors in the creation of solar cells.', 'NEW: [1] Compound Semiconductors: Mentions the use of specific compound semiconductors in solar cell creation.', 'NEW: [1] Photovoltaics: Mentions the conversion of light energy into electrical energy.', 'NEW: [1] Solar Cell Technology: Mentions the design and creation of solar cells.', 'DUP: [1] Material Science: Mentions the properties and behavior of materials used in solar cell creation.', 'DUP: [1] Nanotechnology: Mentions the use of nanotechnology in solar cell creation.', 'DUP: [1] Energy Storage: Mentions the storage of energy for later use.', 'NEW: [1] Semiconductor Materials: Mentions the specific semiconductor materials used in solar cell creation.', 'NEW: [1] Solar Cell Design: Mentions the design and engineering of solar cells.', 'NEW: [1] Solar Cell Manufacturing: Mentions the process of manufacturing solar cells.', 'NEW: [1] Solar Cell Efficiency: Mentions the optimization of solar cell performance.', 'NEW: [1] Solar Cell Research: Mentions ongoing research and development in solar cell technology.', 'NEW: [1] Solar Cell Applications: Mentions the various applications']\n",
      "--------------------\n"
     ]
    },
    {
     "name": "stderr",
     "output_type": "stream",
     "text": [
      "  7%|▋         | 73/1000 [02:55<47:13,  3.06s/it]"
     ]
    },
    {
     "name": "stdout",
     "output_type": "stream",
     "text": [
      "Document: 73\n",
      "Topics: ['DUP: [1] Weather Technology: Mentions the use of technology for studying and predicting weather patterns.', 'NEW: [1] Radar Technology: Mentions the use of radar for detecting and measuring various phenomena, including weather patterns.', 'NEW: [1] Hail Technology: Mentions the study and measurement of hail.', 'NEW: [1] Rain Technology: Mentions the study and measurement of rain.', 'DUP: [1] Data Processing: Mentions the application of algorithms and techniques for analyzing and interpreting data.', 'NEW: [1] Signal Processing: Mentions the analysis and manipulation of signals, such as radar observations.', 'DUP: [1] Sensor Technology: Mentions the use of sensors for detecting and measuring various phenomena.', 'NEW: [1] Remote Sensing: Mentions the use of sensors to detect and measure phenomena from a distance.', 'NEW: [1] Data Analysis: Mentions the application of statistical and mathematical techniques for analyzing data.', 'NEW: [1] Machine Learning: Mentions the use of algorithms and statistical models to enable computers to learn and improve from experience.', 'NEW: [1] Artificial Intelligence: Mentions the development of intelligent computer systems that can perform tasks that normally require human intelligence.', 'NEW: [1] Data Fusion: Mentions the combination of data from multiple sources to improve accuracy and reliability.', 'DUP: [1] Algorithms: Mentions mathematical methods for']\n",
      "--------------------\n"
     ]
    },
    {
     "name": "stderr",
     "output_type": "stream",
     "text": [
      "  7%|▋         | 74/1000 [02:57<41:04,  2.66s/it]"
     ]
    },
    {
     "name": "stdout",
     "output_type": "stream",
     "text": [
      "Document: 74\n",
      "Topics: ['DUP: [1] Battery Technology: Mentions the use of electrolytes and polymers in lithium batteries. This topic is broad enough to accommodate various types of batteries and related technologies.']\n",
      "--------------------\n"
     ]
    },
    {
     "name": "stderr",
     "output_type": "stream",
     "text": [
      "  8%|▊         | 75/1000 [02:59<37:48,  2.45s/it]"
     ]
    },
    {
     "name": "stdout",
     "output_type": "stream",
     "text": [
      "Document: 75\n",
      "Topics: ['NEW: [1] Power Electronics: Mentions the use of power electronics for controlling and regulating power and frequency in a power supply system.', 'DUP: [1] Power Systems: Mentions the power supply system and its regulation.', 'DUP: [1] Control Systems: Mentions the use of control systems for regulating power and frequency.', 'DUP: [1] Electrical Engineering: Mentions electrical engineering concepts such as power systems and control systems.']\n",
      "--------------------\n"
     ]
    },
    {
     "name": "stderr",
     "output_type": "stream",
     "text": [
      "  8%|▊         | 76/1000 [03:01<36:43,  2.39s/it]"
     ]
    },
    {
     "name": "stdout",
     "output_type": "stream",
     "text": [
      "Document: 76\n",
      "Topics: ['DUP: [1] Engineering Design: Mentions the design of a piston with specific features.', 'DUP: [1] Mechanical Engineering: Mentions the design and construction of mechanical components, including pistons.', 'DUP: [1] Manufacturing: Mentions the process of creating or producing a piston with the specified design.']\n",
      "--------------------\n"
     ]
    },
    {
     "name": "stderr",
     "output_type": "stream",
     "text": [
      "  8%|▊         | 77/1000 [03:03<34:12,  2.22s/it]"
     ]
    },
    {
     "name": "stdout",
     "output_type": "stream",
     "text": [
      "Document: 77\n",
      "Topics: ['DUP: [1] Battery Technology: Mentions the development of a packaging for a cable-type secondary battery using metal foil and polymer resin layers. This topic is relevant as it covers the technology related to batteries in general.']\n",
      "--------------------\n"
     ]
    },
    {
     "name": "stderr",
     "output_type": "stream",
     "text": [
      "  8%|▊         | 78/1000 [03:05<34:47,  2.26s/it]"
     ]
    },
    {
     "name": "stdout",
     "output_type": "stream",
     "text": [
      "Document: 78\n",
      "Topics: ['NEW: [1] Aerofoils: Mentions the shape of an airfoil and its properties, including camber line and maximum thickness location.', 'NEW: [1] Flutter: Mentions the instability of a structure or component in fluid flow, specifically in relation to fan blades.', 'DUP: [1] Material Science: Implied by the discussion of fan blade geometry and material properties.', 'DUP: [1] Engineering Design: Implied by the discussion of fan blade geometry and design specifications.', 'DUP: [1] Mechanical Engineering: Implied by the discussion of fan blades and their engineering properties.']\n",
      "--------------------\n"
     ]
    },
    {
     "name": "stderr",
     "output_type": "stream",
     "text": [
      "  8%|▊         | 79/1000 [03:09<41:17,  2.69s/it]"
     ]
    },
    {
     "name": "stdout",
     "output_type": "stream",
     "text": [
      "Document: 79\n",
      "Topics: ['NEW: [1] Refrigeration Technology: Mentions the technology related to refrigeration systems and components.', 'NEW: [1] Thermal Management: Mentions the techniques and systems used to manage temperature.', 'DUP: [1] Electrical Systems: Mentions the components and systems used to manage electrical power.', 'NEW: [1] Heat Exchangers: Mentions the devices used to transfer heat from one medium to another.', 'DUP: [1] Semiconductor Technology: Mentions the technology used to manufacture semiconductors.', 'DUP: [1] Power Electronics: Mentions the electronic devices used to control and convert electrical power.', 'NEW: [1] Cooling Systems: Mentions the systems used to remove heat from a particular environment.', 'NEW: [1] Heat Sinks: Mentions the devices used to dissipate heat generated by electronic components.', 'NEW: [1] Transistors: Mentions the electronic components used to amplify or switch electronic signals.', 'NEW: [1] Diodes: Mentions the electronic components used to rectify electrical current or control the flow of current in one direction.', 'NEW: [1] Inverter Technology: Mentions the technology used to convert direct current to alternating current.', 'DUP: [1] Manufacturing: Mentions the processes and techniques used to produce goods.', 'DUP: [1] Engineering: Mentions the application of']\n",
      "--------------------\n"
     ]
    },
    {
     "name": "stderr",
     "output_type": "stream",
     "text": [
      "  8%|▊         | 80/1000 [03:12<43:56,  2.87s/it]"
     ]
    },
    {
     "name": "stdout",
     "output_type": "stream",
     "text": [
      "Document: 80\n",
      "Topics: ['NEW: [1] Optics: Mentions the study of light and its properties and the design and application of optical systems.', 'NEW: [1] Reflective Surfaces: Mentions surfaces that reflect light and their properties and applications.', 'NEW: [1] Curves: Mentions mathematical representations of curved shapes and their applications.', 'NEW: [1] Polynomial Equations: Mentions mathematical equations involving polynomials and their applications.', 'NEW: [1] Light Focusing: Mentions the concentration of light onto a point or area.', 'NEW: [1] Apertures: Mentions openings or holes through which light or other substances pass.', 'NEW: [1] Geometry: Mentions the study of shapes, sizes, positions, and properties of objects.', 'NEW: [1] Mathematics: Mentions the study of numbers, quantities, structures, and their relationships.', 'DUP: [1] Engineering Design: Mentions the process of creating new products or systems using scientific, economic, social, and practical knowledge.', 'DUP: [1] Material Science: Mentions the study of the properties and behavior of materials and their applications.', 'NEW: [1] Optoelectronics: Mentions the study and application of optical and electronic technologies.', 'NEW: [1] Laser Technology: Mentions the study and application of lasers and their properties and applications.']\n",
      "--------------------\n"
     ]
    },
    {
     "name": "stderr",
     "output_type": "stream",
     "text": [
      "  8%|▊         | 81/1000 [03:15<43:58,  2.87s/it]"
     ]
    },
    {
     "name": "stdout",
     "output_type": "stream",
     "text": [
      "Document: 81\n",
      "Topics: ['DUP: [1] Battery Technology: Mentions lithium-ion batteries and their components.', 'DUP: [1] Material Processing: Mentions the manufacturing of battery components.', 'NEW: [1] Housing: Mentions the container for the battery module.', 'NEW: [1] Partitions: Mentions the dividers within the housing.', 'NEW: [1] Compartments: Mentions the individual spaces within the housing.', 'NEW: [1] Covers: Mentions the protective component that seals and routes electrolyte.', 'NEW: [1] Electrolyte: Mentions the substance that facilitates the flow of electrical charge.', 'NEW: [1] Sealing: Mentions the process of preventing the escape of electrolyte or air.']\n",
      "--------------------\n"
     ]
    },
    {
     "name": "stderr",
     "output_type": "stream",
     "text": [
      "  8%|▊         | 82/1000 [03:18<42:27,  2.78s/it]"
     ]
    },
    {
     "name": "stdout",
     "output_type": "stream",
     "text": [
      "Document: 82\n",
      "Topics: ['DUP: [1] Solar Energy: Mentions the use of solar devices, specifically photovoltaic cells and their encapsulation.', 'DUP: [1] Material Science: Mentions the use of magnetizable particles and a binding matrix.', 'DUP: [1] Optics: Mentions the control of light transmission through the use of a louver film and louver structures.']\n",
      "--------------------\n"
     ]
    },
    {
     "name": "stderr",
     "output_type": "stream",
     "text": [
      "  8%|▊         | 83/1000 [03:20<41:46,  2.73s/it]"
     ]
    },
    {
     "name": "stdout",
     "output_type": "stream",
     "text": [
      "Document: 83\n",
      "Topics: ['NEW: [1] Carbon Capture: Mentions the process of capturing carbon dioxide from various sources.', 'DUP: [1] Fuel Cells: Mentions the use of fuel cells for generating electricity.', 'NEW: [1] Combustion Sources: Mentions sources of combustion and their related processes.', 'NEW: [1] Anode Exhaust: Mentions the exhaust produced during the electrochemical reaction in a fuel cell.', 'NEW: [1] Recycling: Mentions the process of reusing materials or resources.', 'NEW: [1] Fuel: Mentions the source of energy for a combustion process.']\n",
      "--------------------\n"
     ]
    },
    {
     "name": "stderr",
     "output_type": "stream",
     "text": [
      "  8%|▊         | 84/1000 [03:23<41:13,  2.70s/it]"
     ]
    },
    {
     "name": "stdout",
     "output_type": "stream",
     "text": [
      "Document: 84\n",
      "Topics: ['NEW: [1] Irrigation Systems: Mentions the use and design of systems for supplying water to plants.', 'NEW: [1] Drip Irrigation: Mentions a specific type of irrigation system that delivers water directly to the plant roots through small tubes or pipes.', 'NEW: [1] Filtration Systems: Mentions systems used to remove contaminants from fluids.']\n",
      "--------------------\n"
     ]
    },
    {
     "name": "stderr",
     "output_type": "stream",
     "text": [
      "  8%|▊         | 85/1000 [03:26<44:52,  2.94s/it]"
     ]
    },
    {
     "name": "stdout",
     "output_type": "stream",
     "text": [
      "Document: 85\n",
      "Topics: ['DUP: [1] Gas Technology: Mentions the use and application of gases, including gas turbine engines.', 'DUP: [1] Engineering Design: Mentions the process of designing and developing products, including gas turbine engine blades.', 'DUP: [1] Manufacturing: Mentions the process of producing goods, including the manufacturing of gas turbine engine blades.', 'DUP: [1] Material Processing: Mentions the modification or alteration of materials, including the cooling passages in gas turbine engine blades.', 'DUP: [1] Vacuum Technology: Mentions the use of vacuums, which may be involved in the manufacturing or processing of gas turbine engine blades.', 'DUP: [1] Material Science: Mentions the study of materials and their properties, including the materials used in gas turbine engine blades.', 'DUP: [1] Mechanical Engineering: Mentions the application of engineering principles to mechanical systems, including gas turbine engines.', 'DUP: [1] Aerospace Engineering: Mentions the design, manufacturing, and testing of aircraft and spacecraft, including gas turbine engines.', 'DUP: [1] Thermal Management: Mentions the management of temperature and heat, which may be involved in the design and operation of gas turbine engines.', 'DUP: [1] Heat Exchangers: Mentions devices used to transfer heat from one medium to another, which may be used in the cooling system of gas turbine']\n",
      "--------------------\n"
     ]
    },
    {
     "name": "stderr",
     "output_type": "stream",
     "text": [
      "  9%|▊         | 86/1000 [03:29<43:27,  2.85s/it]"
     ]
    },
    {
     "name": "stdout",
     "output_type": "stream",
     "text": [
      "Document: 86\n",
      "Topics: ['DUP: [1] Radar Technology: Mentions the use of radar transceivers and radar signals for object detection.', 'NEW: [1] Wireless Power Transfer: Mentions the transfer of power wirelessly and the integration of radar technology for object detection.', 'NEW: [1] Sensing Systems: Mentions the detection of objects in a specific area.', 'NEW: [1] Processing Systems: Mentions the use of a processor to compare radar data and determine object presence.', 'NEW: [1] Filtering Systems: Mentions filtering portions of radar data based on predetermined ranges.']\n",
      "--------------------\n"
     ]
    },
    {
     "name": "stderr",
     "output_type": "stream",
     "text": [
      "  9%|▊         | 87/1000 [03:31<41:52,  2.75s/it]"
     ]
    },
    {
     "name": "stdout",
     "output_type": "stream",
     "text": [
      "Document: 87\n",
      "Topics: ['NEW: [1] Chemicals: Mentions the composition and properties of various chemical formulations.', 'NEW: [1] Boron Compounds: Mentions specific types of compounds and their uses.', 'DUP: [1] Polymers: Mentions the properties and types of polymers.', 'NEW: [1] Agriculture: Mentions the application of the mentioned chemicals in agricultural contexts.']\n",
      "--------------------\n"
     ]
    },
    {
     "name": "stderr",
     "output_type": "stream",
     "text": [
      "  9%|▉         | 88/1000 [03:34<38:36,  2.54s/it]"
     ]
    },
    {
     "name": "stdout",
     "output_type": "stream",
     "text": [
      "Document: 88\n",
      "Topics: ['DUP: [1] Communication Technology: Mentions communication interfaces and their compliance with predetermined standards.', 'DUP: [1] Power Management: Mentions power states of devices and physical layers of communication interfaces.']\n",
      "--------------------\n"
     ]
    },
    {
     "name": "stderr",
     "output_type": "stream",
     "text": [
      "  9%|▉         | 89/1000 [03:36<40:03,  2.64s/it]"
     ]
    },
    {
     "name": "stdout",
     "output_type": "stream",
     "text": [
      "Document: 89\n",
      "Topics: ['DUP: [1] Engineering: Mentions the design and development of technological systems.', 'DUP: [1] Mechanical Engineering: A subtopic of Engineering, focusing on mechanical systems and their design.', 'NEW: [1] Turbine Technology: A subtopic of Mechanical Engineering, focusing on the design, manufacturing, and operation of turbines.', 'NEW: [1] Combustion Technology: A subtopic of Engineering, focusing on the processes and systems related to combustion.', 'DUP: [1] Material Processing: A subtopic of Manufacturing, focusing on the processing of raw materials into finished products.', 'NEW: [1] Sealing Technology: A subtopic of Engineering, focusing on the design and development of sealing systems.', 'DUP: [1] Aerospace Engineering: A subtopic of Engineering, focusing on the design and development of aircraft and spacecraft.']\n",
      "--------------------\n"
     ]
    },
    {
     "name": "stderr",
     "output_type": "stream",
     "text": [
      "  9%|▉         | 90/1000 [03:39<38:14,  2.52s/it]"
     ]
    },
    {
     "name": "stdout",
     "output_type": "stream",
     "text": [
      "Document: 90\n",
      "Topics: ['DUP: [1] Communication Technology: Mentions a transmitting device and processing layers for communication data.', 'DUP: [1] Digital Signal Processing: Mentions processing layers for communication data.', 'DUP: [1] Electronic Waste: Mentions a buffer for storing transmission data.', 'DUP: [1] Performance Control: Mentions a parameter used for transmission control.', 'DUP: [1] Industrial Automation: Mentions a first layer processor and a second layer processor.', 'DUP: [1] Control Systems: Mentions a buffer and transmission control.']\n",
      "--------------------\n"
     ]
    },
    {
     "name": "stderr",
     "output_type": "stream",
     "text": [
      "  9%|▉         | 91/1000 [03:41<38:23,  2.53s/it]"
     ]
    },
    {
     "name": "stdout",
     "output_type": "stream",
     "text": [
      "Document: 91\n",
      "Topics: [\"NEW: [1] Geothermal Energy: Mentions the exploration and utilization of heat from the Earth's interior.\", 'NEW: [1] Piping Systems: Mentions the design, construction, and operation of systems for transporting fluids.', 'NEW: [1] Valve Technology: Mentions the design, construction, and operation of valves for controlling fluid flow.', 'DUP: [1] Safety Systems: Mentions systems designed to prevent or mitigate hazards.', 'NEW: [1] Regulation and Control Systems: Mentions systems for monitoring and controlling processes.', 'DUP: [1] Software Engineering: Mentions the development of software for monitoring and controlling systems.']\n",
      "--------------------\n"
     ]
    },
    {
     "name": "stderr",
     "output_type": "stream",
     "text": [
      "  9%|▉         | 92/1000 [03:44<38:06,  2.52s/it]"
     ]
    },
    {
     "name": "stdout",
     "output_type": "stream",
     "text": [
      "Document: 92\n",
      "Topics: ['DUP: [1] Wind Energy: Mentions offshore wind farms and floating wind turbines.', 'DUP: [1] Engineering Design: Mentions the design of connection means for wind turbines.', 'DUP: [1] Mechanical Engineering: Mentions the use of chains and cables for wind turbine connections.', 'DUP: [1] Material Processing: Mentions the manufacturing of foundation elements and wind turbines.', 'DUP: [1] Manufacturing: Mentions the production of offshore wind farms.', 'DUP: [1] Technology: Mentions the use of advanced technology for offshore wind energy.']\n",
      "--------------------\n"
     ]
    },
    {
     "name": "stderr",
     "output_type": "stream",
     "text": [
      "  9%|▉         | 93/1000 [03:47<43:15,  2.86s/it]"
     ]
    },
    {
     "name": "stdout",
     "output_type": "stream",
     "text": [
      "Document: 93\n",
      "Topics: ['DUP: [1] Energy: Mentions the generation and use of energy.', 'DUP: [1] Internal Combustion Engines: Mentions engines that use the combustion of fuel to produce power.', 'DUP: [1] Electrical Systems: Mentions the production, distribution, and use of electrical power.', 'DUP: [1] Power Management: Mentions the control and optimization of power usage.', 'DUP: [1] Engineering Controls: Mentions the use of controls in engineering systems.', 'DUP: [1] Industrial Automation: Mentions the use of automated systems in industry.', 'DUP: [1] Mechanical Systems: Mentions mechanical components and their operation.', 'DUP: [1] Performance Control: Mentions the control of the performance of a system.', 'DUP: [1] Limit Control: Mentions the control of system limits.', 'DUP: [1] Engineering Design: Mentions the process of designing engineering systems.', 'DUP: [1] Mechanical Engineering: Mentions the application of engineering principles to mechanical systems.', 'DUP: [1] Gas Technology: Mentions the production, processing, and use of gases.', 'NEW: [1] Exhaust Technology: Mentions the collection, treatment, and use of exhaust gases.', 'DUP: [1] Turbines: Mentions rotary machinery that converts heat energy into mechanical energy.', 'NEW: [1] Electronic Controls: Mentions the use of electronic systems for control and automation.']\n",
      "--------------------\n"
     ]
    },
    {
     "name": "stderr",
     "output_type": "stream",
     "text": [
      "  9%|▉         | 94/1000 [03:50<41:50,  2.77s/it]"
     ]
    },
    {
     "name": "stdout",
     "output_type": "stream",
     "text": [
      "Document: 94\n",
      "Topics: ['DUP: [1] Vehicle Technology: Mentions electric vehicles and their components.', 'DUP: [1] Mechanical Engineering: Mentions the design and function of mechanical systems.', 'NEW: [1] Reduction Gears: Mentions the mechanical component used to change the speed or direction of rotation.', 'NEW: [1] Motors: Mentions electric motors and their function in powering vehicles.', 'NEW: [1] Belts: Mentions the use of belts, specifically a crawler belt, in the travel unit of an electric vehicle.', 'NEW: [1] Wheels: Mentions the wheels of an electric vehicle and their arrangement.']\n",
      "--------------------\n"
     ]
    },
    {
     "name": "stderr",
     "output_type": "stream",
     "text": [
      " 10%|▉         | 95/1000 [03:52<39:25,  2.61s/it]"
     ]
    },
    {
     "name": "stdout",
     "output_type": "stream",
     "text": [
      "Document: 95\n",
      "Topics: ['DUP: [1] Heat Exchangers: A device used to transfer heat from one medium to another. This topic includes various types of heat exchangers, such as those using expansion chambers and water-immersed tubes, as well as secondary coils for increased efficiency.']\n",
      "--------------------\n"
     ]
    },
    {
     "name": "stderr",
     "output_type": "stream",
     "text": [
      " 10%|▉         | 96/1000 [03:55<40:54,  2.71s/it]"
     ]
    },
    {
     "name": "stdout",
     "output_type": "stream",
     "text": [
      "Document: 96\n",
      "Topics: ['DUP: [1] Material Processing: Mentions the processing of materials, specifically the manufacture of cementitious reagent materials.', 'NEW: [1] Glass Technology: Mentions the production and properties of glassy cementitious reagents.', 'DUP: [1] Manufacturing: Mentions the methods and apparatuses used in the production of cementitious reagent materials.', 'DUP: [1] Engineering: Mentions the design and development of apparatuses and systems for the production of cementitious reagent materials.', 'DUP: [1] Energy: Mentions the reduction of CO2 emissions associated with cement production.', 'DUP: [1] Industrial Automation: Mentions the use of in-flight melting/quenching technology for the production of cementitious reagent materials.', 'DUP: [1] Material Science: Mentions the properties and characteristics of cementitious reagent materials.', 'DUP: [1] Nanotechnology: Implied by the mention of microspheroidal glassy particles.', 'DUP: [1] Chemical Processing: Implied by the mention of inorganic feedstocks and the production of cementitious reagent materials.']\n",
      "--------------------\n"
     ]
    },
    {
     "name": "stderr",
     "output_type": "stream",
     "text": [
      " 10%|▉         | 97/1000 [03:58<41:13,  2.74s/it]"
     ]
    },
    {
     "name": "stdout",
     "output_type": "stream",
     "text": [
      "Document: 97\n",
      "Topics: ['DUP: [1] Automotive Technology: Mentions the design and construction of vehicles, including their structural components.', 'DUP: [1] Material Processing: Mentions the manipulation and modification of materials to create desired forms or properties.', 'DUP: [1] Engineering Design: Mentions the process of creating designs for structures, machines, or systems.', 'NEW: [1] Metallurgy: Mentions the study and application of metals and their properties.', 'NEW: [1] Aluminum Alloys: Mentions specific types of alloys made from aluminum and their properties.', 'NEW: [1] Steel: Mentions the properties and uses of steel as a material.', 'NEW: [1] Welding: Mentions the process of joining materials, such as metals, through the application of heat or pressure.', 'DUP: [1] Manufacturing: Mentions the production of goods through the use of machinery, tools, or labor.']\n",
      "--------------------\n"
     ]
    },
    {
     "name": "stderr",
     "output_type": "stream",
     "text": [
      " 10%|▉         | 98/1000 [04:00<38:28,  2.56s/it]"
     ]
    },
    {
     "name": "stdout",
     "output_type": "stream",
     "text": [
      "Document: 98\n",
      "Topics: ['DUP: [1] Communication Technology: Mentions the transmission of information in a mobile communication system.', 'DUP: [1] Power Management: Mentions the management of power in the context of User Equipment and Base Station.', 'DUP: [1] User Equipment: Mentions the capabilities and functions of User Equipment in a mobile communication system.', 'DUP: [1] Base Stations: Mentions the role of Base Stations in mobile communication systems.']\n",
      "--------------------\n"
     ]
    },
    {
     "name": "stderr",
     "output_type": "stream",
     "text": [
      " 10%|▉         | 99/1000 [04:02<36:36,  2.44s/it]"
     ]
    },
    {
     "name": "stdout",
     "output_type": "stream",
     "text": [
      "Document: 99\n",
      "Topics: ['NEW: [1] Boilers: Mentions heating systems using contained gas for heat generation and circulation.', 'DUP: [1] Gas Technology: Mentions the use of gas for heating applications.', 'DUP: [1] Engineering: Mentions the design and configuration of a boiler system.', 'DUP: [1] Energy: Mentions the use of energy for heating applications.', 'DUP: [1] Industrial Automation: Mentions the monitoring of circulation amount and gas concentration in the circulation path.']\n",
      "--------------------\n"
     ]
    },
    {
     "name": "stderr",
     "output_type": "stream",
     "text": [
      " 10%|█         | 100/1000 [04:05<37:07,  2.47s/it]"
     ]
    },
    {
     "name": "stdout",
     "output_type": "stream",
     "text": [
      "Document: 100\n",
      "Topics: ['DUP: [1] Wireless Communications: Mentions wireless communication networks and their components, including nodes and signals.', 'DUP: [1] Signal Processing: Mentions the measurement and analysis of signals, including quality assessment.', 'DUP: [1] Networking: Mentions the exchange of data between nodes in a network.', 'DUP: [1] Telecommunications: Mentions the transmission of information over long distances using telecommunication technology.', 'DUP: [1] Performance Control: Mentions the monitoring and adjustment of system performance.']\n",
      "--------------------\n"
     ]
    },
    {
     "name": "stderr",
     "output_type": "stream",
     "text": [
      " 10%|█         | 101/1000 [04:07<37:10,  2.48s/it]"
     ]
    },
    {
     "name": "stdout",
     "output_type": "stream",
     "text": [
      "Document: 101\n",
      "Topics: ['DUP: [1] Communication Technology: Mentions network search method and terminals in different networks.', 'DUP: [1] Wireless Communications: Mentions wireless networks and terminals.', 'DUP: [1] Power Management: Mentions reducing power consumption of terminals.', 'DUP: [1] Networking: Mentions network search and connection to specific networks.', 'DUP: [1] Telecommunications: Mentions terminals and networks.', 'DUP: [1] User Equipment: Mentions terminals.', 'DUP: [1] Base Stations: Mentions serving cells and adjacent cells.', 'DUP: [1] Mobile Devices: Mentions terminals and location change.']\n",
      "--------------------\n"
     ]
    },
    {
     "name": "stderr",
     "output_type": "stream",
     "text": [
      " 10%|█         | 102/1000 [04:10<40:04,  2.68s/it]"
     ]
    },
    {
     "name": "stdout",
     "output_type": "stream",
     "text": [
      "Document: 102\n",
      "Topics: ['DUP: [1] Aerospace Engineering: Mentions the design and engineering of aircraft and related technology.', 'DUP: [1] Engine Technology: Mentions the design, manufacturing, and operation of engines.', 'DUP: [1] Performance Control: Mentions systems used to optimize the performance of machines or processes.', 'NEW: [1] Fuel Efficiency: Mentions the optimization of energy usage to reduce fuel consumption.', 'NEW: [1] Climb Performance: Mentions the ability of an aircraft to ascend at a desired rate.', 'NEW: [1] Synergy: Mentions the interaction between two or more elements to produce a combined effect greater than the sum of their individual effects.', 'DUP: [1] Design: Mentions the process of creating a plan or blueprint for a product, system, or structure.', 'DUP: [1] Technology: Mentions the application of scientific knowledge for practical purposes.']\n",
      "--------------------\n"
     ]
    },
    {
     "name": "stderr",
     "output_type": "stream",
     "text": [
      " 10%|█         | 103/1000 [04:13<38:17,  2.56s/it]"
     ]
    },
    {
     "name": "stdout",
     "output_type": "stream",
     "text": [
      "Document: 103\n",
      "Topics: ['DUP: [1] Fuel Cells: Mentions the use and operation of fuel cells as a power generation system.', 'DUP: [1] Hydrogen Technology: Mentions the production and use of hydrogen as a fuel source.', 'DUP: [1] Combustion Technology: Mentions the combustion process and the use of a combustor.', 'NEW: [1] Power Generation: Mentions the generation of electrical power.', 'NEW: [1] Controllers: Mentions the use of controllers to manage and regulate systems.']\n",
      "--------------------\n"
     ]
    },
    {
     "name": "stderr",
     "output_type": "stream",
     "text": [
      " 10%|█         | 104/1000 [04:15<36:14,  2.43s/it]"
     ]
    },
    {
     "name": "stdout",
     "output_type": "stream",
     "text": [
      "Document: 104\n",
      "Topics: ['DUP: [1] Electrical Systems: Mentions the use of power supply controllers and rectifying bridges.', 'NEW: [1] Electronics: Mentions the use of transistors and diodes.', 'NEW: [1] Lighting Technology: Mentions the use of light emitting diodes.', 'DUP: [1] Control Systems: Mentions the generation of signals for controlling the operation of the diodes.']\n",
      "--------------------\n"
     ]
    },
    {
     "name": "stderr",
     "output_type": "stream",
     "text": [
      " 10%|█         | 105/1000 [04:17<35:45,  2.40s/it]"
     ]
    },
    {
     "name": "stdout",
     "output_type": "stream",
     "text": [
      "Document: 105\n",
      "Topics: ['DUP: [1] Manufacturing: Mentions a system used in a vehicle factory for brake inspection.', 'DUP: [1] Communication Technology: Mentions a communication unit connecting vehicles and a diagnostic communication.', 'DUP: [1] Engineering Design: Mentions a system for brake inspection in vehicle design.', 'DUP: [1] Electrical Systems: Mentions the use of brake fluid injection.', \"DUP: [1] Automotive Technology: Mentions a vehicle's brake performance and electronic stability control (ESC) device.\"]\n",
      "--------------------\n"
     ]
    },
    {
     "name": "stderr",
     "output_type": "stream",
     "text": [
      " 11%|█         | 106/1000 [04:19<34:42,  2.33s/it]"
     ]
    },
    {
     "name": "stdout",
     "output_type": "stream",
     "text": [
      "Document: 106\n",
      "Topics: ['DUP: [1] Aerofoils: Mentions the shape of an airfoil used in rotor blades.', 'DUP: [1] Geometry: Mentions the shape and arrangement of objects in space.', 'DUP: [1] Mathematics: Mentions the use of Cartesian coordinate values.']\n",
      "--------------------\n"
     ]
    },
    {
     "name": "stderr",
     "output_type": "stream",
     "text": [
      " 11%|█         | 107/1000 [04:22<36:09,  2.43s/it]"
     ]
    },
    {
     "name": "stdout",
     "output_type": "stream",
     "text": [
      "Document: 107\n",
      "Topics: ['NEW: [1] Electrolytes: Mentions substances that facilitate the flow of electric current in a circuit, specifically those related to energy storage devices and sulfonate ester compounds.', 'DUP: [1] Energy Storage: Mentions technologies and systems used to store energy, specifically those related to electrolytes and electrolyte additives for Si-based electrodes.', 'DUP: [1] Material Science: Mentions the study of matter and its properties, specifically those related to the development of electrolytes and electrolyte additives for energy storage devices.', 'DUP: [1] Chemical Processing: Mentions the transformation of raw materials into valuable products, specifically those related to the production of electrolytes and electrolyte additives for energy storage devices.']\n",
      "--------------------\n"
     ]
    },
    {
     "name": "stderr",
     "output_type": "stream",
     "text": [
      " 11%|█         | 108/1000 [04:24<35:51,  2.41s/it]"
     ]
    },
    {
     "name": "stdout",
     "output_type": "stream",
     "text": [
      "Document: 108\n",
      "Topics: ['DUP: [1] Networking: Mentions the exchange of data between devices and the management of that data flow.', 'DUP: [1] Performance Control: Mentions the management of data flows to improve network performance.', 'DUP: [1] Data Communication: Mentions the exchange of data between devices.', 'DUP: [1] Signal Transmission: Mentions the transfer of data or signals between devices.', 'DUP: [1] Computer Systems: Mentions the use of computers to manage and process data.']\n",
      "--------------------\n"
     ]
    },
    {
     "name": "stderr",
     "output_type": "stream",
     "text": [
      " 11%|█         | 109/1000 [04:27<35:51,  2.41s/it]"
     ]
    },
    {
     "name": "stdout",
     "output_type": "stream",
     "text": [
      "Document: 109\n",
      "Topics: ['DUP: [1] Battery Technology: Mentions lead-acid batteries and their components.', 'NEW: [1] Containers: Mentions containers with narrowed portions and thickened corners.']\n",
      "--------------------\n"
     ]
    },
    {
     "name": "stderr",
     "output_type": "stream",
     "text": [
      " 11%|█         | 110/1000 [04:30<39:18,  2.65s/it]"
     ]
    },
    {
     "name": "stdout",
     "output_type": "stream",
     "text": [
      "Document: 110\n",
      "Topics: ['NEW: [1] Drying Technology: Mentions techniques and equipment used for removing moisture from materials.', 'DUP: [1] Heat Exchangers: Mentions devices used for transferring heat from one medium to another.', 'DUP: [1] Air Delivery Systems: Mentions systems used for moving air from one place to another.', 'NEW: [1] Exhaust Systems: Mentions systems used for removing exhaust gases from a process or an engine.', 'NEW: [1] Engineering Systems: Mentions the design, construction, and operation of systems.', 'DUP: [1] Mechanical Engineering: Mentions the application of physical principles to design, build, and maintain mechanical systems.', 'DUP: [1] Industrial Automation: Mentions the use of control systems and machinery to automate industrial processes.', 'DUP: [1] Process Control: Mentions the regulation and optimization of industrial processes.', 'DUP: [1] Performance Control: Mentions the regulation and optimization of the efficiency and effectiveness of systems.', 'DUP: [1] Limit Control: Mentions the setting and enforcement of maximum and minimum values for system variables.', 'DUP: [1] Thermal Management: Mentions the techniques and systems used to control and regulate temperature.']\n",
      "--------------------\n"
     ]
    },
    {
     "name": "stderr",
     "output_type": "stream",
     "text": [
      " 11%|█         | 111/1000 [04:32<35:13,  2.38s/it]"
     ]
    },
    {
     "name": "stdout",
     "output_type": "stream",
     "text": [
      "Document: 111\n",
      "Topics: [\"NEW: [1] Thermal Technology: Mentions the use of heat and temperature in various applications, including the estimation of a thermal quantity's spatial distribution and its application to electrical power production.\"]\n",
      "--------------------\n"
     ]
    },
    {
     "name": "stderr",
     "output_type": "stream",
     "text": [
      " 11%|█         | 112/1000 [04:34<35:59,  2.43s/it]"
     ]
    },
    {
     "name": "stdout",
     "output_type": "stream",
     "text": [
      "Document: 112\n",
      "Topics: ['DUP: [1] Additive Manufacturing: Mentions the process of creating three-dimensional objects by adding material layer by layer.', 'NEW: [1] Electron Beam Technology: Mentions the use of an electron beam to melt and solidify materials.', 'NEW: [1] Copper Technology: Mentions the production and processing of copper.', 'NEW: [1] Powder Technology: Mentions the use of powders as a raw material in manufacturing processes.', 'DUP: [1] Coating Technology: Mentions the application of a thin layer of material onto a surface.']\n",
      "--------------------\n"
     ]
    },
    {
     "name": "stderr",
     "output_type": "stream",
     "text": [
      " 11%|█▏        | 113/1000 [04:38<39:53,  2.70s/it]"
     ]
    },
    {
     "name": "stdout",
     "output_type": "stream",
     "text": [
      "Document: 113\n",
      "Topics: ['DUP: [1] Lighting Technology: Mentions technologies and systems related to lighting.', 'DUP: [1] Optoelectronics: Mentions the interaction between light and electronic components.', 'DUP: [1] Semiconductor Technology: Mentions technologies related to semiconductors and their applications.', 'DUP: [1] Material Science: Mentions the study of materials and their properties.', 'DUP: [1] Engineering Design: Mentions the process of designing and developing new products or systems.', 'DUP: [1] Manufacturing: Mentions the process of producing goods on a large scale.', 'DUP: [1] Electrical Systems: Mentions systems that use electricity to transmit or distribute power.', 'DUP: [1] Photovoltaics: Mentions technologies related to converting sunlight into electricity.', 'DUP: [1] Optics: Mentions the study and application of light and its properties.', 'DUP: [1] Material Processing: Mentions the manipulation and modification of materials.', 'DUP: [1] Vacuum Technology: Mentions technologies related to creating and using vacuums.', 'DUP: [1] Quartz Technology: Mentions technologies related to quartz and its applications.', 'DUP: [1] LED Technology: Mentions technologies related to light-emitting diodes.', 'DUP: [1] Insulation Materials: Mentions materials used to insulate against heat or electricity']\n",
      "--------------------\n"
     ]
    },
    {
     "name": "stderr",
     "output_type": "stream",
     "text": [
      " 11%|█▏        | 114/1000 [04:41<41:45,  2.83s/it]"
     ]
    },
    {
     "name": "stdout",
     "output_type": "stream",
     "text": [
      "Document: 114\n",
      "Topics: ['NEW: [1] Thermal Energy Storage: Mentions the use of a system for storing thermal energy.', 'NEW: [1] Pressure Control: Mentions the control of pressure in a system.', 'DUP: [1] Heat Exchangers: Mentions the use of a device for transferring heat between two fluids.', 'NEW: [1] Fans: Mentions the use of a device for creating forced convection.', 'DUP: [1] Controllers: Mentions the use of a device for regulating a process.', 'NEW: [1] Pumps: Mentions the use of a device for moving fluids.', 'NEW: [1] Sensors: Mentions the use of a device for detecting physical or chemical conditions.', 'NEW: [1] Materials: Implied by the mention of a solid thermochemical material.', 'DUP: [1] Engineering Systems: Implied by the mention of a closed-cycle thermal energy storage system.']\n",
      "--------------------\n"
     ]
    },
    {
     "name": "stderr",
     "output_type": "stream",
     "text": [
      " 12%|█▏        | 115/1000 [04:43<37:15,  2.53s/it]"
     ]
    },
    {
     "name": "stdout",
     "output_type": "stream",
     "text": [
      "Document: 115\n",
      "Topics: ['DUP: [1] Chemical Processing: Mentions the processing of chemicals, including the destabilization of aqueous hydrocarbon emulsions.', 'NEW: [1] Oil and Gas Industry: Mentions oil spill clean up and oil refinery and production operations.']\n",
      "--------------------\n"
     ]
    },
    {
     "name": "stderr",
     "output_type": "stream",
     "text": [
      " 12%|█▏        | 116/1000 [04:45<35:38,  2.42s/it]"
     ]
    },
    {
     "name": "stdout",
     "output_type": "stream",
     "text": [
      "Document: 116\n",
      "Topics: ['DUP: [1] Power Systems: Mentions power plant and generation units.', 'DUP: [1] Control Systems: Mentions method and control system.', 'DUP: [1] Optimization: Mentions optimizing load scheduling and objective function.']\n",
      "--------------------\n"
     ]
    },
    {
     "name": "stderr",
     "output_type": "stream",
     "text": [
      " 12%|█▏        | 117/1000 [04:47<35:46,  2.43s/it]"
     ]
    },
    {
     "name": "stdout",
     "output_type": "stream",
     "text": [
      "Document: 117\n",
      "Topics: ['DUP: [1] Engineering Controls: Mentions methods and systems for adjusting a component in an engineering context.', 'NEW: [1] Turbochargers: Mentions a specific type of engine component used to increase engine performance.', 'DUP: [1] Exhaust Systems: Mentions the system used to expel exhaust gases from an engine.', 'DUP: [1] Valve Technology: Mentions the technology used to control the flow of fluids or gases.']\n",
      "--------------------\n"
     ]
    },
    {
     "name": "stderr",
     "output_type": "stream",
     "text": [
      " 12%|█▏        | 118/1000 [04:49<34:56,  2.38s/it]"
     ]
    },
    {
     "name": "stdout",
     "output_type": "stream",
     "text": [
      "Document: 118\n",
      "Topics: ['DUP: [1] Chemical Processing: Mentions the processing of chemicals.', 'DUP: [1] Material Processing: Mentions the processing of materials.', 'DUP: [1] Lithium Ion Batteries: Mentions the production of lithium ion batteries, which often use lithium sulfide and phosphorus sulfide as materials.']\n",
      "--------------------\n"
     ]
    },
    {
     "name": "stderr",
     "output_type": "stream",
     "text": [
      " 12%|█▏        | 119/1000 [04:52<35:16,  2.40s/it]"
     ]
    },
    {
     "name": "stdout",
     "output_type": "stream",
     "text": [
      "Document: 119\n",
      "Topics: ['DUP: [1] Material Processing: Mentions the processing of materials, specifically composite powder.', 'DUP: [1] Additive Manufacturing: Mentions the use of additive manufacturing to create parts.', 'NEW: [1] Ceramics: Mentions the use of ceramic materials.', 'DUP: [1] Metallurgy: Mentions the processing and properties of metals.', 'NEW: [1] High Temperature Materials: Mentions materials capable of withstanding high temperatures.']\n",
      "--------------------\n"
     ]
    },
    {
     "name": "stderr",
     "output_type": "stream",
     "text": [
      " 12%|█▏        | 120/1000 [04:54<35:54,  2.45s/it]"
     ]
    },
    {
     "name": "stdout",
     "output_type": "stream",
     "text": [
      "Document: 120\n",
      "Topics: ['DUP: [1] Vehicle Technology: Mentions vehicles and their components, including power trains, drive trains, sensor interfaces, storage devices, and processing devices.', 'DUP: [1] Sensor Technology: Mentions sensors and their data.', 'DUP: [1] Data Processing: Mentions analyzing data and determining efficient speeds.', 'DUP: [1] Control Systems: Mentions monitoring operational parameters and determining efficient speeds.', 'DUP: [1] Power Management: Mentions applying an amount of power to the power train.']\n",
      "--------------------\n"
     ]
    },
    {
     "name": "stderr",
     "output_type": "stream",
     "text": [
      " 12%|█▏        | 121/1000 [04:58<40:21,  2.75s/it]"
     ]
    },
    {
     "name": "stdout",
     "output_type": "stream",
     "text": [
      "Document: 121\n",
      "Topics: ['DUP: [1] Internal Combustion Engines: Mentions the design and functionality of engines that burn fuel in the combustion chamber through the compression of air and fuel.', 'DUP: [1] Engineering Design: Mentions the process of creating new products or systems through the application of scientific, economic, social, and practical knowledge.', 'NEW: [1] Fuel Systems: Mentions the technology and systems used for storing, transporting, and delivering fuel to engines or other energy-consuming devices.', 'DUP: [1] Combustion Technology: Mentions the science and engineering of the chemical reactions that occur when fuel is burned to produce heat, light, or mechanical energy.', 'DUP: [1] Injection Systems: Mentions the technology used to introduce fuel into the combustion chamber of an engine.', 'DUP: [1] Mechanical Engineering: Mentions the application of physical principles to design, build, and maintain mechanical systems.', 'DUP: [1] Material Science: Mentions the study of the properties and behavior of materials, including their composition, structure, and properties.', 'DUP: [1] Manufacturing: Mentions the process of producing goods through the use of machinery, tools, or labor.', 'DUP: [1] Technology: Mentions the application of scientific knowledge for practical purposes, especially in industry.']\n",
      "--------------------\n"
     ]
    },
    {
     "name": "stderr",
     "output_type": "stream",
     "text": [
      " 12%|█▏        | 122/1000 [05:00<37:43,  2.58s/it]"
     ]
    },
    {
     "name": "stdout",
     "output_type": "stream",
     "text": [
      "Document: 122\n",
      "Topics: ['DUP: [1] Battery Technology: Mentions the diagnosis of switches in a battery pack.', 'DUP: [1] Switching Systems: Mentions the diagnosis of charging and discharging switches.']\n",
      "--------------------\n"
     ]
    },
    {
     "name": "stderr",
     "output_type": "stream",
     "text": [
      " 12%|█▏        | 123/1000 [05:03<39:51,  2.73s/it]"
     ]
    },
    {
     "name": "stdout",
     "output_type": "stream",
     "text": [
      "Document: 123\n",
      "Topics: ['DUP: [1] Manufacturing: Mentions the production of a rod end for a turbocharger.', 'DUP: [1] Engineering Design: Mentions the design of a rod end for a turbocharger.', 'DUP: [1] Material Processing: Mentions the processing of materials for the spherical bearing.', 'DUP: [1] Material Science: Mentions the properties of materials used in the spherical bearing.', 'DUP: [1] Mechanical Engineering: Mentions the mechanical design and function of the rod end and spherical bearing.', 'DUP: [1] Engineering Controls: Mentions the control of temperatures in excess of 260° C. for the spherical bearing.']\n",
      "--------------------\n"
     ]
    },
    {
     "name": "stderr",
     "output_type": "stream",
     "text": [
      " 12%|█▏        | 124/1000 [05:06<38:41,  2.65s/it]"
     ]
    },
    {
     "name": "stdout",
     "output_type": "stream",
     "text": [
      "Document: 124\n",
      "Topics: ['NEW: [1] Magnet Technology: Mentions the study and application of magnets and magnetic materials.']\n",
      "--------------------\n"
     ]
    },
    {
     "name": "stderr",
     "output_type": "stream",
     "text": [
      " 12%|█▎        | 125/1000 [05:09<42:41,  2.93s/it]"
     ]
    },
    {
     "name": "stdout",
     "output_type": "stream",
     "text": [
      "Document: 125\n",
      "Topics: ['DUP: [1] Material Science: Mentions the study of matter and its properties.', 'DUP: [1] Polymers: Mentions large organic or synthetic molecules made up of repeating structural units.', 'DUP: [1] Electrochemistry: Mentions the study of chemical reactions that occur under the influence of an electric current or voltage.', 'NEW: [1] Ionic Liquids: Mentions salts that are liquid at or near room temperature.', 'NEW: [1] Reducible Groups: Mentions groups that can undergo reduction reactions.', 'NEW: [1] Anthraquinone Derivatives: Mentions compounds derived from anthraquinone.', 'NEW: [1] Viologen Groups: Mentions a class of redox active dyes.', 'NEW: [1] Metallocene Reducible Groups: Mentions groups containing a metal atom sandwiched between two ligands.', 'NEW: [1] Cobaltocene Groups: Mentions a specific type of metallocene group containing cobalt.']\n",
      "--------------------\n"
     ]
    },
    {
     "name": "stderr",
     "output_type": "stream",
     "text": [
      " 13%|█▎        | 126/1000 [05:11<39:41,  2.72s/it]"
     ]
    },
    {
     "name": "stdout",
     "output_type": "stream",
     "text": [
      "Document: 126\n",
      "Topics: ['DUP: [1] Material Science: Mentions the study of the properties and behavior of materials.', 'NEW: [1] Superconductivity: Mentions the phenomenon of zero electrical resistance and expulsion of magnetic fields below a critical temperature.', 'DUP: [1] Material Processing: Mentions the modification of materials to change their properties or form.', 'DUP: [1] Electrical Engineering: Mentions the study and application of electricity, electronics, and electromagnetism.', 'DUP: [1] Manufacturing: Mentions the production of goods through the use of machinery, tools, or labor.']\n",
      "--------------------\n"
     ]
    },
    {
     "name": "stderr",
     "output_type": "stream",
     "text": [
      " 13%|█▎        | 127/1000 [05:15<41:25,  2.85s/it]"
     ]
    },
    {
     "name": "stdout",
     "output_type": "stream",
     "text": [
      "Document: 127\n",
      "Topics: ['DUP: [1] Control Systems: Mentions systems used to regulate and direct the operation or behavior of other systems or processes.', 'DUP: [1] Vehicle Technology: Mentions vehicles and related technologies.', 'NEW: [1] Probability and Statistics: Mentions the branch of mathematics dealing with collecting, analyzing, and interpreting data.', 'DUP: [1] Machine Learning: Mentions a type of artificial intelligence that provides systems the ability to automatically learn and improve from experience without being explicitly programmed.', 'DUP: [1] Engineering Controls: Mentions systems used to regulate and control various engineering processes and systems.', 'DUP: [1] Computer Systems: Mentions systems used to process, store, and communicate digital information.', 'DUP: [1] Artificial Intelligence: Mentions systems designed to mimic human intelligence and perform tasks that typically require human intelligence.']\n",
      "--------------------\n"
     ]
    },
    {
     "name": "stderr",
     "output_type": "stream",
     "text": [
      " 13%|█▎        | 128/1000 [05:18<45:19,  3.12s/it]"
     ]
    },
    {
     "name": "stdout",
     "output_type": "stream",
     "text": [
      "Document: 128\n",
      "Topics: ['DUP: [1] Manufacturing: Mentions the process of creating a product, often through the use of machinery or tools.', 'DUP: [1] Engineering Design: Mentions the process of creating designs for various applications, often involving the use of tools and machinery.', 'DUP: [1] Control Systems: Mentions systems used to regulate and direct the operation of other systems or processes.', 'DUP: [1] Mechanical Systems: Mentions systems that use mechanical components to perform work.', 'DUP: [1] Computer Systems: Mentions systems used to process information, often involving the use of software and hardware.', 'DUP: [1] Electrical Engineering: Mentions the study and application of electricity, electronics, and related technologies.', 'NEW: [1] Machining: Mentions the process of removing material from a workpiece using tools and machinery.', 'NEW: [1] Tooling: Mentions the use of tools, often in manufacturing processes.', 'NEW: [1] Shape Control: Mentions the process of controlling the shape or form of an object.', 'NEW: [1] Target Shapes: Mentions specific desired shapes or forms.', 'NEW: [1] Curvature: Mentions the degree of curvature or bend in a shape or object.', 'NEW: [1] Point Density: Mentions the number of points per unit area or volume.']\n",
      "--------------------\n"
     ]
    },
    {
     "name": "stderr",
     "output_type": "stream",
     "text": [
      " 13%|█▎        | 129/1000 [05:20<39:43,  2.74s/it]"
     ]
    },
    {
     "name": "stdout",
     "output_type": "stream",
     "text": [
      "Document: 129\n",
      "Topics: ['DUP: [1] Water Treatment: Systems and methods for desalinating seawater and purifying surface and groundwater using hydrostatic pressure and membrane filtration (reverse osmosis, nanofiltration, etc.) to obtain desired water quality or potable water.']\n",
      "--------------------\n"
     ]
    },
    {
     "name": "stderr",
     "output_type": "stream",
     "text": [
      " 13%|█▎        | 130/1000 [05:22<37:53,  2.61s/it]"
     ]
    },
    {
     "name": "stdout",
     "output_type": "stream",
     "text": [
      "Document: 130\n",
      "Topics: ['DUP: [1] Membrane Technology: Mentions the use and processing of membranes, including fuel cell electrolyte membranes.', 'DUP: [1] Manufacturing: Mentions the process of creating or producing a product, in this case, a membrane electrode assembly.', 'DUP: [1] Material Processing: Mentions the modification or manipulation of materials to create a desired product or shape.', 'NEW: [1] Cutting Technology: Mentions the use of cutting tools or methods to shape materials.']\n",
      "--------------------\n"
     ]
    },
    {
     "name": "stderr",
     "output_type": "stream",
     "text": [
      " 13%|█▎        | 131/1000 [05:25<36:48,  2.54s/it]"
     ]
    },
    {
     "name": "stdout",
     "output_type": "stream",
     "text": [
      "Document: 131\n",
      "Topics: ['DUP: [1] Power Management: Mentions the control and regulation of power in electronic systems.', 'DUP: [1] Electrical Systems: Mentions the design, implementation, and operation of electrical systems.', 'NEW: [1] Processor Technology: Mentions the design, development, and implementation of processors and microprocessors.', 'NEW: [1] Voltage Regulation: Mentions the control and regulation of voltage in electrical systems.', 'NEW: [1] Microelectronics: Mentions the design, development, and manufacturing of microelectronic devices and systems.', 'DUP: [1] Control Systems: Mentions the design, implementation, and operation of systems that regulate and control other systems.']\n",
      "--------------------\n"
     ]
    },
    {
     "name": "stderr",
     "output_type": "stream",
     "text": [
      " 13%|█▎        | 132/1000 [05:27<34:17,  2.37s/it]"
     ]
    },
    {
     "name": "stdout",
     "output_type": "stream",
     "text": [
      "Document: 132\n",
      "Topics: ['DUP: [1] Solar Energy: Mentions the generation of energy from the sun using solar foils with photovoltaic properties.', 'DUP: [1] Electrical Systems: Mentions the conduction of electricity from one connecting node to another through an electrically conductive central member.']\n",
      "--------------------\n"
     ]
    },
    {
     "name": "stderr",
     "output_type": "stream",
     "text": [
      " 13%|█▎        | 133/1000 [05:29<34:52,  2.41s/it]"
     ]
    },
    {
     "name": "stdout",
     "output_type": "stream",
     "text": [
      "Document: 133\n",
      "Topics: ['DUP: [1] Power Systems: Mentions the distribution and management of electrical power.', 'DUP: [1] Microgrids: Mentions small-scale electrical grids that can operate independently or in parallel with the main power grid.', 'DUP: [1] Data Analysis: Mentions the examination of data to make informed decisions or predictions.', 'NEW: [1] Energy Management: Mentions the planning, optimization, and control of energy use.']\n",
      "--------------------\n"
     ]
    },
    {
     "name": "stderr",
     "output_type": "stream",
     "text": [
      " 13%|█▎        | 134/1000 [05:31<33:15,  2.30s/it]"
     ]
    },
    {
     "name": "stdout",
     "output_type": "stream",
     "text": [
      "Document: 134\n",
      "Topics: ['DUP: [1] Communication Technology: Mentions Ethernet communication and twisted-pair links.', 'DUP: [1] Technology: Mentions the use of an Ethernet communication device.', 'DUP: [1] Electrical Systems: Mentions the physical interface transceiver and data transmission rate.']\n",
      "--------------------\n"
     ]
    },
    {
     "name": "stderr",
     "output_type": "stream",
     "text": [
      " 14%|█▎        | 135/1000 [05:33<32:15,  2.24s/it]"
     ]
    },
    {
     "name": "stdout",
     "output_type": "stream",
     "text": [
      "Document: 135\n",
      "Topics: ['DUP: [1] Wireless Communications: Mentions wireless LAN systems and the generation of STF signals for improving AGC estimation in MIMO transmissions.', 'DUP: [1] Signal Processing: Mentions the use of a predetermined M sequence for generating STF signals and the repetition of this sequence for 40 MHz or 80 MHz bands.']\n",
      "--------------------\n"
     ]
    },
    {
     "name": "stderr",
     "output_type": "stream",
     "text": [
      " 14%|█▎        | 136/1000 [05:36<35:03,  2.44s/it]"
     ]
    },
    {
     "name": "stdout",
     "output_type": "stream",
     "text": [
      "Document: 136\n",
      "Topics: ['NEW: [1] Photovoltaic Systems: Mentions solar energy conversion systems using photovoltaic technology.', 'NEW: [1] Meteorological Data: Mentions data related to weather and climate conditions.', 'NEW: [1] Power Data: Mentions data related to electrical power and energy.', 'NEW: [1] Maintenance: Mentions the upkeep and repair of systems and components.', 'NEW: [1] Degradation: Mentions the process of wear and deterioration over time.', 'DUP: [1] Solar Energy: Mentions energy derived from sunlight.']\n",
      "--------------------\n"
     ]
    },
    {
     "name": "stderr",
     "output_type": "stream",
     "text": [
      " 14%|█▎        | 137/1000 [05:38<33:04,  2.30s/it]"
     ]
    },
    {
     "name": "stdout",
     "output_type": "stream",
     "text": [
      "Document: 137\n",
      "Topics: ['NEW: [1] Image Technology: Mentions the capture, processing, and transmission of image data.', 'NEW: [1] Serial Transmission: Mentions the transfer of data over a serial connection.', 'DUP: [1] Electrical Systems: Mentions the use of electrical systems for data transmission.']\n",
      "--------------------\n"
     ]
    },
    {
     "name": "stderr",
     "output_type": "stream",
     "text": [
      " 14%|█▍        | 138/1000 [05:41<33:18,  2.32s/it]"
     ]
    },
    {
     "name": "stdout",
     "output_type": "stream",
     "text": [
      "Document: 138\n",
      "Topics: ['DUP: [1] Vehicle Technology: Mentions the design and operation of vehicles.', 'DUP: [1] Control Systems: Mentions systems used to regulate and direct the functions of other systems.', 'DUP: [1] Energy: Mentions the utilization of energy and various energy sources.', 'DUP: [1] Battery Technology: Mentions the study and application of batteries and their components.', 'DUP: [1] Power Management: Mentions the planning, distribution, and control of electrical power.']\n",
      "--------------------\n"
     ]
    },
    {
     "name": "stderr",
     "output_type": "stream",
     "text": [
      " 14%|█▍        | 139/1000 [05:43<35:10,  2.45s/it]"
     ]
    },
    {
     "name": "stdout",
     "output_type": "stream",
     "text": [
      "Document: 139\n",
      "Topics: ['DUP: [1] Wireless Communications: Mentions the use and technology behind wireless communication systems.', 'DUP: [1] Telecommunications: Mentions the exchange of information over significant distances.', 'DUP: [1] Base Stations: Mentions the fixed stations that transmit and receive signals to and from mobile devices.', 'DUP: [1] User Equipment: Mentions the devices used by end-users to access and communicate through a telecommunications network.', 'DUP: [1] Signal Processing: Mentions the manipulation and analysis of signals to extract useful information.', 'DUP: [1] Control Systems: Mentions systems used to manage, direct, and regulate the behavior of other systems or processes.']\n",
      "--------------------\n"
     ]
    },
    {
     "name": "stderr",
     "output_type": "stream",
     "text": [
      " 14%|█▍        | 140/1000 [05:46<36:29,  2.55s/it]"
     ]
    },
    {
     "name": "stdout",
     "output_type": "stream",
     "text": [
      "Document: 140\n",
      "Topics: ['DUP: [1] Internal Combustion Engines: Mentions the design and functionality of engines that burn fuel inside the engine to produce power.', 'DUP: [1] Engineering Design: Mentions the process of creating new products or systems through the application of scientific, economic, social, and practical knowledge.', 'DUP: [1] Mechanical Engineering: Mentions the branch of engineering that deals with the design, production, and operation of mechanical systems.', 'DUP: [1] Material Processing: Mentions the transformation of raw materials into finished products through various manufacturing processes.', 'DUP: [1] Manufacturing: Mentions the process of producing goods or products on a large scale using machinery, tools, or labor.', 'DUP: [1] Technology: Mentions the application of scientific knowledge for practical purposes, especially in industry.']\n",
      "--------------------\n"
     ]
    },
    {
     "name": "stderr",
     "output_type": "stream",
     "text": [
      " 14%|█▍        | 141/1000 [05:50<40:55,  2.86s/it]"
     ]
    },
    {
     "name": "stdout",
     "output_type": "stream",
     "text": [
      "Document: 141\n",
      "Topics: ['DUP: [1] Solar Cell Technology: Mentions the design and manufacturing of solar cells, specifically single crystalline and polycrystalline silicon solar cells.', 'DUP: [1] Silicon Materials: Mentions the use of silicon in solar cells and other applications.', 'DUP: [1] Semiconductor Technology: Mentions the use of semiconductors in solar cells and other electronic devices.', 'DUP: [1] Material Science: Mentions the properties and behavior of materials used in solar cells and other applications.', 'DUP: [1] Electrical Engineering: Mentions the design and operation of electrical systems, including solar cells and their connections to electrical grids.', 'DUP: [1] Organic Semiconductors: Mentions the use of organic semiconductors in solar cells and other electronic devices.', 'DUP: [1] Organic Electronics: Mentions the use of organic materials in electronic devices, including solar cells.', 'DUP: [1] Organic Photovoltaics: Mentions the use of organic materials in photovoltaic cells, including solar cells.', 'DUP: [1] Optoelectronics: Mentions the interaction of light and electricity, including in solar cells and other optoelectronic devices.', 'DUP: [1] Laser Technology: Mentions the use of lasers in the manufacturing and analysis of solar cells and other materials.']\n",
      "--------------------\n"
     ]
    },
    {
     "name": "stderr",
     "output_type": "stream",
     "text": [
      " 14%|█▍        | 142/1000 [05:52<37:48,  2.64s/it]"
     ]
    },
    {
     "name": "stdout",
     "output_type": "stream",
     "text": [
      "Document: 142\n",
      "Topics: ['DUP: [1] Automotive Technology: Mentions a multipurpose vehicle and its components, including an engine, controller, and fuel injection system.', 'DUP: [1] Engine Technology: Mentions an engine with a plurality of cylinders and fuel injection system.', 'DUP: [1] Control Systems: Mentions a controller that controls fuel injection based on vehicle speed.']\n",
      "--------------------\n"
     ]
    },
    {
     "name": "stderr",
     "output_type": "stream",
     "text": [
      " 14%|█▍        | 143/1000 [05:55<37:23,  2.62s/it]"
     ]
    },
    {
     "name": "stdout",
     "output_type": "stream",
     "text": [
      "Document: 143\n",
      "Topics: ['DUP: [1] Wireless Communications: Mentions wireless signals and wireless printed circuit board assembly.', 'DUP: [1] Lighting and Climate Control: Mentions light fixture and light engine.', 'DUP: [1] Electrical Systems: Mentions housing and electrical components of the light engine.', 'DUP: [1] Control Systems: Mentions wireless signals being processed and control signals being sent.', 'DUP: [1] Sensor Technology: Implied by the ability of the wireless printed circuit board assembly to receive wireless signals.', 'DUP: [1] Electronic Waste: Implied by the mention of replacing wireless baffle modules.']\n",
      "--------------------\n"
     ]
    },
    {
     "name": "stderr",
     "output_type": "stream",
     "text": [
      " 14%|█▍        | 144/1000 [05:57<34:53,  2.45s/it]"
     ]
    },
    {
     "name": "stdout",
     "output_type": "stream",
     "text": [
      "Document: 144\n",
      "Topics: ['DUP: [1] Control Systems: Mentions methods for controlling systems, including hybrid vehicles.', 'DUP: [1] Electric Vehicles: Mentions hybrid vehicles specifically.', 'NEW: [1] Threshold Values: Mentions the use of threshold values for determining driving modes and coasting.']\n",
      "--------------------\n"
     ]
    },
    {
     "name": "stderr",
     "output_type": "stream",
     "text": [
      " 14%|█▍        | 145/1000 [06:00<38:26,  2.70s/it]"
     ]
    },
    {
     "name": "stdout",
     "output_type": "stream",
     "text": [
      "Document: 145\n",
      "Topics: ['DUP: [1] Manufacturing: Mentions industrial processing and workpiece groups.', 'DUP: [1] Industrial Automation: Mentions mobile locating units and assigning to processing plans.', 'DUP: [1] Positioning Systems: Mentions position data and matching.', 'DUP: [1] Control Systems: Mentions assigning based on results.', 'NEW: [1] Indoor Location Systems: Mentions acquiring position data.', 'NEW: [1] Machine Tools: Mentions separating workpiece groups.', 'NEW: [1] Processing Plans: Mentions maintaining and associating with workpiece groups.', 'NEW: [1] Order Information: Mentions information for industrial processing.', 'NEW: [1] Digital Processing: Mentions plans for industrial processing.', 'NEW: [1] Workpieces: Mentions groups and individual workpieces.', 'NEW: [1] Separation Plans: Mentions plans for separating workpiece groups.']\n",
      "--------------------\n"
     ]
    },
    {
     "name": "stderr",
     "output_type": "stream",
     "text": [
      " 15%|█▍        | 146/1000 [06:02<36:29,  2.56s/it]"
     ]
    },
    {
     "name": "stdout",
     "output_type": "stream",
     "text": [
      "Document: 146\n",
      "Topics: ['DUP: [1] Wireless Communications: Mentions the transfer of power wirelessly.', 'DUP: [1] Power Management: Mentions the management of power systems.', 'DUP: [1] Electrical Systems: Mentions the use of electrical systems for power transfer.', 'DUP: [1] Vehicle Technology: Mentions the application of technology to vehicles.', 'NEW: [1] Inductive Technology: Mentions the use of inductive coupling for power transfer.', 'DUP: [1] Control Systems: Mentions the use of a controller to determine system status.']\n",
      "--------------------\n"
     ]
    },
    {
     "name": "stderr",
     "output_type": "stream",
     "text": [
      " 15%|█▍        | 147/1000 [06:05<38:11,  2.69s/it]"
     ]
    },
    {
     "name": "stdout",
     "output_type": "stream",
     "text": [
      "Document: 147\n",
      "Topics: ['DUP: [1] Electrical Systems: Mentions the use of electrical components in a system.', 'DUP: [1] Power Electronics: Mentions the use of electronic devices to control and convert electrical power.', 'DUP: [1] Induction Technology: Mentions the use of magnetic fields to transfer energy.', 'DUP: [1] Switching Systems: Mentions the use of switches to control the flow of electrical current.', 'NEW: [1] Electrosurgical Generators: Mentions a specific type of electrical generator used for surgical procedures.']\n",
      "--------------------\n"
     ]
    },
    {
     "name": "stderr",
     "output_type": "stream",
     "text": [
      " 15%|█▍        | 148/1000 [06:07<34:50,  2.45s/it]"
     ]
    },
    {
     "name": "stdout",
     "output_type": "stream",
     "text": [
      "Document: 148\n",
      "Topics: ['DUP: [1] Signal Processing: Mentions the manipulation and transmission of signals.', 'NEW: [1] State Machines: Mentions finite state machines or similar control structures.', 'DUP: [1] Sensors: Mentions devices used to detect physical or environmental conditions.']\n",
      "--------------------\n"
     ]
    },
    {
     "name": "stderr",
     "output_type": "stream",
     "text": [
      " 15%|█▍        | 149/1000 [06:09<34:05,  2.40s/it]"
     ]
    },
    {
     "name": "stdout",
     "output_type": "stream",
     "text": [
      "Document: 149\n",
      "Topics: ['DUP: [1] Chemical Processing: Mentions the use of chemicals in industrial processes.', 'DUP: [1] Water Treatment: Mentions the treatment of water to improve its quality.', 'NEW: [1] Scale Inhibition: Mentions methods for preventing the formation and deposition of mineral scales in industrial systems.', 'DUP: [1] Polymer Technology: Mentions the use of polymers in various applications.']\n",
      "--------------------\n"
     ]
    },
    {
     "name": "stderr",
     "output_type": "stream",
     "text": [
      " 15%|█▌        | 150/1000 [06:12<35:00,  2.47s/it]"
     ]
    },
    {
     "name": "stdout",
     "output_type": "stream",
     "text": [
      "Document: 150\n",
      "Topics: ['DUP: [1] Aerospace Engineering: Mentions aircraft and systems related to it.', 'DUP: [1] Control Systems: Mentions controllers and their functions.', 'NEW: [1] Optical Technology: Mentions optical sensors and optical fiducials.', 'NEW: [1] Transportation Technology: Mentions tram system and its components.', 'NEW: [1] Automation: Mentions the automated alignment and latching process.']\n",
      "--------------------\n"
     ]
    },
    {
     "name": "stderr",
     "output_type": "stream",
     "text": [
      " 15%|█▌        | 151/1000 [06:14<32:40,  2.31s/it]"
     ]
    },
    {
     "name": "stdout",
     "output_type": "stream",
     "text": [
      "Document: 151\n",
      "Topics: ['DUP: [1] Energy: Mentions energy storage and electrical energy storage pack.', 'DUP: [1] Probability and Statistics: Mentions calculating probability based on statistical inaccuracy.', 'DUP: [1] Engineering Controls: Mentions balancing action on energy storage cells.']\n",
      "--------------------\n"
     ]
    },
    {
     "name": "stderr",
     "output_type": "stream",
     "text": [
      " 15%|█▌        | 152/1000 [06:17<34:44,  2.46s/it]"
     ]
    },
    {
     "name": "stdout",
     "output_type": "stream",
     "text": [
      "Document: 152\n",
      "Topics: ['NEW: [1] Network Storage: Mentions the connection and management of storage devices in a network.', 'NEW: [1] Resource Management: Mentions the allocation and management of resources, in this case, a storage resource.', 'DUP: [1] Operating Systems: Mentions the startup information required for an operating system to run.', 'NEW: [1] Interconnection Interfaces: Mentions the hardware or software interfaces used to connect different nodes or devices.', 'NEW: [1] Node Architecture: Mentions the design and structure of computing nodes and their components.', 'NEW: [1] Data Access: Mentions the retrieval and management of data from storage devices.', 'DUP: [1] Networking: Mentions the connection and communication between different nodes or devices in a network.']\n",
      "--------------------\n"
     ]
    },
    {
     "name": "stderr",
     "output_type": "stream",
     "text": [
      " 15%|█▌        | 153/1000 [06:20<36:53,  2.61s/it]"
     ]
    },
    {
     "name": "stdout",
     "output_type": "stream",
     "text": [
      "Document: 153\n",
      "Topics: ['NEW: [1] Thermal Engineering: Mentions the identification of temperature levels and thermal engines.', 'DUP: [1] Manufacturing: Mentions the process of producing a target object using a print device.', 'DUP: [1] Engineering Design: Mentions the design of a system comprising a target engine, thermal engine, and sacrificial object engine.', 'DUP: [1] Control Systems: Mentions the determination of temperature levels and the response of placing a sacrificial object based on that determination.', 'DUP: [1] Sensor Technology: Mentions the identification of temperature levels by the thermal engine.', 'DUP: [1] Automation: Mentions the use of a system to identify temperature levels and place a sacrificial object accordingly.', 'DUP: [1] Mechanical Engineering: Mentions the design and implementation of a system with a target engine, thermal engine, and sacrificial object engine.', 'DUP: [1] Industrial Automation: Mentions the use of automation in manufacturing processes, including the placement of a sacrificial object based on temperature levels.']\n",
      "--------------------\n"
     ]
    },
    {
     "name": "stderr",
     "output_type": "stream",
     "text": [
      " 15%|█▌        | 154/1000 [06:22<34:10,  2.42s/it]"
     ]
    },
    {
     "name": "stdout",
     "output_type": "stream",
     "text": [
      "Document: 154\n",
      "Topics: ['DUP: [1] Exhaust Technology: Mentions the design and functionality of exhaust systems, including temperature control and catalytic conversion.', 'DUP: [1] Sensor Technology: Mentions the use of temperature sensors for monitoring and control purposes.', 'DUP: [1] Control Systems: Mentions the use of control modules and algorithms for managing exhaust systems.']\n",
      "--------------------\n"
     ]
    },
    {
     "name": "stderr",
     "output_type": "stream",
     "text": [
      " 16%|█▌        | 155/1000 [06:24<35:53,  2.55s/it]"
     ]
    },
    {
     "name": "stdout",
     "output_type": "stream",
     "text": [
      "Document: 155\n",
      "Topics: ['DUP: [1] Composite Materials: Mentions the use of fiber-reinforced polymeric materials.', \"DUP: [1] Turbine Technology: Mentions the modification of a turbine's geometry.\", 'DUP: [1] Material Processing: Mentions the injection of a polymer casting into an inner cavity.', \"DUP: [1] Structural Design: Mentions the modification of a structure's geometrical shape.\", 'DUP: [1] Injection Systems: Mentions the injection of a polymer casting via injection ports.', 'NEW: [1] Casting Technology: Mentions the process of injecting a polymer casting into an inner cavity.', 'NEW: [1] Bonding Technology: Mentions the bonding of the outer shell to a structure.', 'NEW: [1] Core Materials: Mentions the use of one or more cores within the inner cavity.', 'NEW: [1] Stiffeners: Mentions the use of stiffeners within the inner cavity.']\n",
      "--------------------\n"
     ]
    },
    {
     "name": "stderr",
     "output_type": "stream",
     "text": [
      " 16%|█▌        | 156/1000 [06:27<33:49,  2.41s/it]"
     ]
    },
    {
     "name": "stdout",
     "output_type": "stream",
     "text": [
      "Document: 156\n",
      "Topics: ['NEW: [1] Radio Technology: Mentions the use of radio signals and circuits for communication.', 'DUP: [1] Control Systems: Mentions the use of control circuits to manage the operation of other systems.', 'DUP: [1] Wireless Communications: Mentions the use of wireless radio signals for communication.', 'NEW: [1] Electronic Devices: Mentions the use of control devices and circuits.']\n",
      "--------------------\n"
     ]
    },
    {
     "name": "stderr",
     "output_type": "stream",
     "text": [
      " 16%|█▌        | 157/1000 [06:30<38:13,  2.72s/it]"
     ]
    },
    {
     "name": "stdout",
     "output_type": "stream",
     "text": [
      "Document: 157\n",
      "Topics: ['DUP: [1] Power Electronics: Mentions the design and operation of electronic circuits that control the flow of electrical power.', 'DUP: [1] Control Systems: Mentions systems that regulate and direct the behavior of other systems or processes.', 'DUP: [1] Electrical Systems: Mentions the production, distribution, and use of electrical power.', 'DUP: [1] Engineering Design: Mentions the process of creating new products or systems using the principles of engineering.', 'DUP: [1] Circuit Design: Mentions the design and analysis of electrical circuits.', 'DUP: [1] Signal Transmission: Mentions the transfer of information or power from one place to another using signals.', 'DUP: [1] Data Communication: Mentions the exchange of digital information between two or more devices.', 'DUP: [1] Digital Signal Processing: Mentions the analysis and manipulation of digital signals.', 'DUP: [1] Algorithms: Mentions a set of instructions for solving a problem or performing a task.', 'DUP: [1] Computer Architecture: Mentions the design and organization of computer systems.', 'DUP: [1] Computer Engineering: Mentions the application of engineering principles to computer systems.', 'DUP: [1] Electrical Engineering: Mentions the application of engineering principles to electrical systems.', 'DUP: [1] Engineering Controls: Mentions the use of control systems in engineering applications.', 'DUP: [1] Performance Control: Mentions the regulation']\n",
      "--------------------\n"
     ]
    },
    {
     "name": "stderr",
     "output_type": "stream",
     "text": [
      " 16%|█▌        | 158/1000 [06:33<39:40,  2.83s/it]"
     ]
    },
    {
     "name": "stdout",
     "output_type": "stream",
     "text": [
      "Document: 158\n",
      "Topics: ['DUP: [1] Internal Combustion Engines: Mentions the operation of engines using fuel combustion.', 'DUP: [1] Turbochargers: Mentions the use of turbines to compress air for engine combustion.', 'DUP: [1] Exhaust Systems: Mentions the systems for managing exhaust gases from engines.', 'NEW: [1] Electric Systems: Mentions the use of electrically-driven components.', 'DUP: [1] Power Generation: Mentions the production of electrical power.', 'DUP: [1] Compressors: Mentions the use of compressors to increase the pressure of a gas.', 'DUP: [1] Variable Speed Control: Mentions the ability to adjust the speed of a motor.', 'DUP: [1] Process Control: Mentions the regulation and monitoring of industrial processes.', 'DUP: [1] Performance Control: Mentions the optimization of system efficiency and output.', 'DUP: [1] Industrial Automation: Mentions the use of automated systems in industry.']\n",
      "--------------------\n"
     ]
    },
    {
     "name": "stderr",
     "output_type": "stream",
     "text": [
      " 16%|█▌        | 159/1000 [06:36<41:57,  2.99s/it]"
     ]
    },
    {
     "name": "stdout",
     "output_type": "stream",
     "text": [
      "Document: 159\n",
      "Topics: ['DUP: [1] Turbochargers: Mentions devices used to increase the power output of an engine by forcing more air into the engine.', 'NEW: [1] Variable Geometry Turbochargers: Mentions turbochargers with adjustable geometry to optimize performance at various engine speeds.', 'DUP: [1] Turbines: Mentions rotary engines that convert thermal energy into mechanical energy.', 'DUP: [1] Exhaust Systems: Mentions systems for managing exhaust gases from engines.', 'DUP: [1] Mechanical Engineering: Mentions the application of physical principles to design, build, and maintain mechanical systems.', 'DUP: [1] Material Processing: Mentions the modification of materials to create new products or enhance their properties.', 'DUP: [1] Manufacturing: Mentions the production of goods through the use of machinery, tools, or labor.', 'DUP: [1] Engineering: Mentions the application of scientific, economic, social, and practical knowledge to design, build, and maintain structures, machines, devices, systems, and processes.']\n",
      "--------------------\n"
     ]
    },
    {
     "name": "stderr",
     "output_type": "stream",
     "text": [
      " 16%|█▌        | 160/1000 [06:40<44:24,  3.17s/it]"
     ]
    },
    {
     "name": "stdout",
     "output_type": "stream",
     "text": [
      "Document: 160\n",
      "Topics: ['DUP: [1] Material Processing: Mentions the manipulation and modification of materials.', 'DUP: [1] Metallurgy: Mentions the study of metals and their production.', 'DUP: [1] Ceramics: Mentions the study and production of ceramic materials.', 'NEW: [1] Heat Treatment: Mentions the process of heating materials to alter their properties.', 'NEW: [1] Sintering: Mentions the process of heating and fusing particles together without melting them.', 'DUP: [1] Catalysts: Mentions substances that increase the rate of a chemical reaction without being consumed in the process.', 'DUP: [1] Electrochemistry: Mentions the study of chemical reactions that involve the transfer of electrons between substances.', 'DUP: [1] Energy Storage: Mentions the process of storing energy for later use.', 'DUP: [1] Material Science: Mentions the study of the properties and behavior of materials.', 'DUP: [1] Nanotechnology: Mentions the manipulation of materials at the nanoscale.', 'DUP: [1] Manufacturing: Mentions the production of goods through various processes.', 'DUP: [1] Engineering: Mentions the application of scientific, economic, social, and practical knowledge to design, build, and maintain structures, machines, devices, systems, and processes.']\n",
      "--------------------\n"
     ]
    },
    {
     "name": "stderr",
     "output_type": "stream",
     "text": [
      " 16%|█▌        | 161/1000 [06:42<41:19,  2.95s/it]"
     ]
    },
    {
     "name": "stdout",
     "output_type": "stream",
     "text": [
      "Document: 161\n",
      "Topics: ['DUP: [1] Sensor Technology: Mentions the use of sensors and their data transmission.', 'DUP: [1] Communication Technology: Mentions the transmission of data using communication circuitry.', 'DUP: [1] Processing Systems: Mentions the collection, buffering, and execution of programs on processing circuitry.', 'NEW: [1] Electronic Systems: Mentions the use of electronic components such as communication circuitry and processing circuitry.']\n",
      "--------------------\n"
     ]
    },
    {
     "name": "stderr",
     "output_type": "stream",
     "text": [
      " 16%|█▌        | 162/1000 [06:45<40:18,  2.89s/it]"
     ]
    },
    {
     "name": "stdout",
     "output_type": "stream",
     "text": [
      "Document: 162\n",
      "Topics: ['DUP: [1] Temperature Control: Mentions the regulation of temperature.', 'DUP: [1] Power Management: Mentions the management of power.', 'DUP: [1] Switching Systems: Mentions the operation of switches.', 'DUP: [1] Control Systems: Mentions the use of control systems.', 'DUP: [1] Electrical Systems: Mentions electrical systems in general.', 'DUP: [1] Semiconductor Technology: Mentions semiconductor components.', 'DUP: [1] Electronic Waste: Mentions the handling of electronic waste (implicitly).']\n",
      "--------------------\n"
     ]
    },
    {
     "name": "stderr",
     "output_type": "stream",
     "text": [
      " 16%|█▋        | 163/1000 [06:48<38:38,  2.77s/it]"
     ]
    },
    {
     "name": "stdout",
     "output_type": "stream",
     "text": [
      "Document: 163\n",
      "Topics: ['NEW: [1] User Interface: A system that allows users to interact with a device or application.', 'NEW: [1] Battery Management Systems: Systems used to monitor, control, and protect rechargeable batteries.', 'NEW: [1] Scheduling Systems: Systems used to manage and organize tasks, resources, or events.', 'DUP: [1] Mobile Technology: Technology related to mobile devices, such as smartphones and tablets.', 'DUP: [1] Control Systems: Systems used to manage, direct, or regulate the operation of other systems or processes.']\n",
      "--------------------\n"
     ]
    },
    {
     "name": "stderr",
     "output_type": "stream",
     "text": [
      " 16%|█▋        | 164/1000 [06:50<35:33,  2.55s/it]"
     ]
    },
    {
     "name": "stdout",
     "output_type": "stream",
     "text": [
      "Document: 164\n",
      "Topics: ['DUP: [1] Electric Vehicles: Mentions charging stations and electrical energy storage in electric vehicles.', 'DUP: [1] Power Systems: Mentions rectifier branches and electrical energy provision.', 'NEW: [1] Metering and Monitoring: Mentions energy meters and meter value acquisition computers.']\n",
      "--------------------\n"
     ]
    },
    {
     "name": "stderr",
     "output_type": "stream",
     "text": [
      " 16%|█▋        | 165/1000 [06:52<34:16,  2.46s/it]"
     ]
    },
    {
     "name": "stdout",
     "output_type": "stream",
     "text": [
      "Document: 165\n",
      "Topics: ['DUP: [1] Communication Technology: Mentions beamforming, a technique used in communication systems.', 'DUP: [1] User Equipment: Mentions location information of user equipment.', 'DUP: [1] Positioning Systems: Mentions determination of location information.']\n",
      "--------------------\n"
     ]
    },
    {
     "name": "stderr",
     "output_type": "stream",
     "text": [
      " 17%|█▋        | 166/1000 [06:54<33:54,  2.44s/it]"
     ]
    },
    {
     "name": "stdout",
     "output_type": "stream",
     "text": [
      "Document: 166\n",
      "Topics: ['DUP: [1] Material Science: Mentions the study of matter and its properties.', 'DUP: [1] Polymers: Mentions long chain organic compounds.', 'DUP: [1] Electrolytes: Mentions substances that conduct electricity.', 'DUP: [1] Boron Compounds: Mentions compounds containing boron.', 'DUP: [1] Manufacturing: Mentions the production of goods.']\n",
      "--------------------\n"
     ]
    },
    {
     "name": "stderr",
     "output_type": "stream",
     "text": [
      " 17%|█▋        | 167/1000 [06:57<34:40,  2.50s/it]"
     ]
    },
    {
     "name": "stdout",
     "output_type": "stream",
     "text": [
      "Document: 167\n",
      "Topics: ['DUP: [1] Engineering: Mentions the application of scientific, economic, social, and practical knowledge to design, build, and maintain structures, machines, devices, systems, and processes.', 'DUP: [1] Material Processing: Mentions the modification of materials to create new forms or properties.', 'DUP: [1] Surface Science: Mentions the study of the physical and chemical properties of surfaces and interfaces.', 'DUP: [1] Manufacturing: Mentions the production of goods through the use of machinery, tools, or labor.']\n",
      "--------------------\n"
     ]
    },
    {
     "name": "stderr",
     "output_type": "stream",
     "text": [
      " 17%|█▋        | 168/1000 [06:59<34:17,  2.47s/it]"
     ]
    },
    {
     "name": "stdout",
     "output_type": "stream",
     "text": [
      "Document: 168\n",
      "Topics: ['DUP: [1] Engineering: Mentions engineering methods for formulating a cement slurry.', 'DUP: [1] Material Processing: Mentions processing of cement slurry.', 'NEW: [1] Drilling Technology: Mentions drilling fluids and their effects on cement slurry.', 'NEW: [1] Formation Operations: Mentions subterranean formation operations and relevant fluids used.']\n",
      "--------------------\n"
     ]
    },
    {
     "name": "stderr",
     "output_type": "stream",
     "text": [
      " 17%|█▋        | 169/1000 [07:02<36:13,  2.62s/it]"
     ]
    },
    {
     "name": "stdout",
     "output_type": "stream",
     "text": [
      "Document: 169\n",
      "Topics: ['DUP: [1] Engineering Controls: Mentions the use of controls to optimize engineering systems.', 'DUP: [1] Vehicle Technology: Mentions technologies related to vehicles, including electric motors and engines.', 'DUP: [1] Energy: Mentions the use of energy and energy storage devices.', 'DUP: [1] Performance Control: Mentions controlling the performance of a system, in this case a vehicle.', 'DUP: [1] Automotive Technology: Mentions technologies related to automobiles.', 'DUP: [1] Industrial Automation: Mentions the use of automation in industrial processes.', 'DUP: [1] Control Systems: Mentions the use of control systems to manage and optimize processes.']\n",
      "--------------------\n"
     ]
    },
    {
     "name": "stderr",
     "output_type": "stream",
     "text": [
      " 17%|█▋        | 170/1000 [07:06<39:13,  2.83s/it]"
     ]
    },
    {
     "name": "stdout",
     "output_type": "stream",
     "text": [
      "Document: 170\n",
      "Topics: ['NEW: [1] Hydrostatic Compensation: Mentions the use of hydrostatic pressure to compensate for changes in air pressure in an energy storage system.', 'NEW: [1] Compressed Air Energy Storage: Mentions the use of compressed air as a form of energy storage.', 'NEW: [1] Underground Storage: Mentions the storage of energy or materials underground.', 'NEW: [1] Accumulators: Mentions the use of accumulators to store energy.', 'NEW: [1] Fluid Communication: Mentions the transfer of fluids between systems or components.', 'NEW: [1] Compensation Shaft: Mentions the use of a shaft to transfer fluid or pressure between systems.', 'NEW: [1] Reservoirs: Mentions the use of reservoirs to store fluids or materials.', 'NEW: [1] Liquid Supply Conduits: Mentions the use of conduits to transport liquids.', 'DUP: [1] Pressure Control: Mentions the control of pressure in a system.', 'DUP: [1] Energy Storage: Mentions the process of storing energy for later use.']\n",
      "--------------------\n"
     ]
    },
    {
     "name": "stderr",
     "output_type": "stream",
     "text": [
      " 17%|█▋        | 171/1000 [07:08<38:24,  2.78s/it]"
     ]
    },
    {
     "name": "stdout",
     "output_type": "stream",
     "text": [
      "Document: 171\n",
      "Topics: ['DUP: [1] Chemical Processing: Mentions the processing of chemicals, including the production of carbon monoxide and hydrogen through steam reforming of hydrocarbons.', 'NEW: [1] Steam Technology: Mentions the use of steam in the chemical processing industry, specifically in steam reforming.', 'NEW: [1] Compressor Technology: Mentions the use of compressors in the recycling of by-product material streams.', 'DUP: [1] Material Processing: A broad topic that encompasses the processing of various materials, including the chemical processing mentioned in this document.']\n",
      "--------------------\n"
     ]
    },
    {
     "name": "stderr",
     "output_type": "stream",
     "text": [
      " 17%|█▋        | 172/1000 [07:10<35:25,  2.57s/it]"
     ]
    },
    {
     "name": "stdout",
     "output_type": "stream",
     "text": [
      "Document: 172\n",
      "Topics: ['DUP: [1] Battery Technology: Mentions the design and composition of batteries.', 'DUP: [1] Engineering Design: Mentions the process of creating designs for various applications.']\n",
      "--------------------\n"
     ]
    },
    {
     "name": "stderr",
     "output_type": "stream",
     "text": [
      " 17%|█▋        | 173/1000 [07:13<33:34,  2.44s/it]"
     ]
    },
    {
     "name": "stdout",
     "output_type": "stream",
     "text": [
      "Document: 173\n",
      "Topics: ['DUP: [1] Internal Combustion Engines: Mentions various types of internal combustion engine systems and their operation.', 'NEW: [1] Engine Design: Mentions engine design for improved fuel economy and reduced pumping losses.', 'DUP: [1] Combustion Technology: Mentions combustion air flow and its impact on engine performance.']\n",
      "--------------------\n"
     ]
    },
    {
     "name": "stderr",
     "output_type": "stream",
     "text": [
      " 17%|█▋        | 174/1000 [07:16<39:15,  2.85s/it]"
     ]
    },
    {
     "name": "stdout",
     "output_type": "stream",
     "text": [
      "Document: 174\n",
      "Topics: ['DUP: [1] Electrical Systems: Mentions components related to the transmission or utilization of electrical energy.', 'DUP: [1] Electronics: Mentions components or systems related to the flow of electrons in a vacuum, semiconductor material, or other medium.', 'DUP: [1] Manufacturing: Mentions the process of producing goods or services.', 'DUP: [1] Material Processing: Mentions the modification of materials to create a desired form or property.', 'DUP: [1] Thermal Technology: Mentions the use of heat to generate power or modify materials.']\n",
      "--------------------\n"
     ]
    },
    {
     "name": "stderr",
     "output_type": "stream",
     "text": [
      " 18%|█▊        | 175/1000 [07:18<36:07,  2.63s/it]"
     ]
    },
    {
     "name": "stdout",
     "output_type": "stream",
     "text": [
      "Document: 175\n",
      "Topics: ['DUP: [1] Carbon Capture: Mentions the process of capturing and storing carbon dioxide to reduce greenhouse gas emissions.']\n",
      "--------------------\n"
     ]
    },
    {
     "name": "stderr",
     "output_type": "stream",
     "text": [
      " 18%|█▊        | 176/1000 [07:21<33:52,  2.47s/it]"
     ]
    },
    {
     "name": "stdout",
     "output_type": "stream",
     "text": [
      "Document: 176\n",
      "Topics: ['DUP: [1] Control Systems: Mentions the use of controllers and their communication with input and output units.', 'DUP: [1] Power Management: Mentions power saving states and power-saving process data.']\n",
      "--------------------\n"
     ]
    },
    {
     "name": "stderr",
     "output_type": "stream",
     "text": [
      " 18%|█▊        | 177/1000 [07:24<36:19,  2.65s/it]"
     ]
    },
    {
     "name": "stdout",
     "output_type": "stream",
     "text": [
      "Document: 177\n",
      "Topics: ['NEW: [1] Digital Twin Technology: Refers to virtual representations of physical systems used for analysis and optimization.', 'NEW: [1] Industrial Systems: Encompasses large-scale manufacturing, production, and processing systems.', 'NEW: [1] Simulation: Involves modeling and analyzing real-world systems using computer-based methods.', 'DUP: [1] Optimization: Involves finding the best solution from multiple alternatives based on specific objectives and constraints.', 'NEW: [1] System Settings: Refers to configurations or parameters of a system that can be adjusted to improve performance or efficiency.']\n",
      "--------------------\n"
     ]
    },
    {
     "name": "stderr",
     "output_type": "stream",
     "text": [
      " 18%|█▊        | 178/1000 [07:26<35:53,  2.62s/it]"
     ]
    },
    {
     "name": "stdout",
     "output_type": "stream",
     "text": [
      "Document: 178\n",
      "Topics: ['DUP: [1] Signal Processing: Mentions the acquisition and manipulation of signals.', 'DUP: [1] Communication Technology: Mentions signals used for communication and channels for transmission.', 'DUP: [1] Sensing Systems: Mentions the acquisition of data from the physical world.', 'DUP: [1] Control Systems: Mentions the acquisition and use of parameters for control purposes.']\n",
      "--------------------\n"
     ]
    },
    {
     "name": "stderr",
     "output_type": "stream",
     "text": [
      " 18%|█▊        | 179/1000 [07:28<34:00,  2.49s/it]"
     ]
    },
    {
     "name": "stdout",
     "output_type": "stream",
     "text": [
      "Document: 179\n",
      "Topics: ['NEW: [1] Hydrostatic Actuators: Mentions the use of hydrostatic actuators for controlling hybrid separating clutches in hybrid drive trains.', 'NEW: [1] Hybrid Drive Trains: Mentions the use of hybrid drive trains in motor vehicles, which include both internal combustion engines and electric traction drives.', 'NEW: [1] Control Mechanisms: Mentions the use of control mechanisms for detecting malfunctions and estimating minimum clutch torques.']\n",
      "--------------------\n"
     ]
    },
    {
     "name": "stderr",
     "output_type": "stream",
     "text": [
      " 18%|█▊        | 180/1000 [07:31<34:03,  2.49s/it]"
     ]
    },
    {
     "name": "stdout",
     "output_type": "stream",
     "text": [
      "Document: 180\n",
      "Topics: ['DUP: [1] Gas Technology: Mentions the use of gas in technology applications.', 'DUP: [1] Engineering Design: Mentions the process of designing and developing systems or products.', 'DUP: [1] Turbines: Mentions rotary machinery for converting heat energy into mechanical energy.', 'DUP: [1] Sealing Technology: Mentions the use of materials or processes to prevent the leakage of fluids or gases.', 'DUP: [1] Fluid Communication: Mentions the transfer of fluids from one place to another.']\n",
      "--------------------\n"
     ]
    },
    {
     "name": "stderr",
     "output_type": "stream",
     "text": [
      " 18%|█▊        | 181/1000 [07:34<35:36,  2.61s/it]"
     ]
    },
    {
     "name": "stdout",
     "output_type": "stream",
     "text": [
      "Document: 181\n",
      "Topics: ['DUP: [1] Battery Technology: Mentions the study and development of batteries, including their components and properties.', 'DUP: [1] Material Science: Mentions the scientific study of materials and their properties.', 'NEW: [1] Inorganic Materials: Mentions materials that do not contain carbon.', 'NEW: [1] Phosphate Salts: Mentions compounds containing phosphorus and a salt.', 'NEW: [1] Heat Resistant Materials: Mentions materials that can withstand high temperatures without melting or decomposing.', 'NEW: [1] Specific Surface Area: Mentions the ratio of the total surface area of a material to its mass.']\n",
      "--------------------\n"
     ]
    },
    {
     "name": "stderr",
     "output_type": "stream",
     "text": [
      " 18%|█▊        | 182/1000 [07:37<37:07,  2.72s/it]"
     ]
    },
    {
     "name": "stdout",
     "output_type": "stream",
     "text": [
      "Document: 182\n",
      "Topics: ['NEW: [1] Nuclear Technology: Mentions the use of nuclear fuel and the process of recovering nuclear fuel material.', 'DUP: [1] Material Processing: Mentions the processing of materials, specifically the reduction and separation of thorium oxide and the potential reduction of uranium oxide, plutonium oxide, and minor actinoid oxides.', 'DUP: [1] Electrochemistry: Mentions the use of electrolytic reduction steps in the nuclear fuel material recovery method.', 'NEW: [1] Alkali Metal Halides: Mentions the use of alkali metal halides in the first and second molten salts.']\n",
      "--------------------\n"
     ]
    },
    {
     "name": "stderr",
     "output_type": "stream",
     "text": [
      " 18%|█▊        | 183/1000 [07:39<35:14,  2.59s/it]"
     ]
    },
    {
     "name": "stdout",
     "output_type": "stream",
     "text": [
      "Document: 183\n",
      "Topics: ['DUP: [1] Electrical Systems: Mentions the use of electrical components in a system.', 'DUP: [1] Control Systems: Mentions the use of systems to regulate and monitor other systems.', 'DUP: [1] Power Management: Mentions the management and distribution of electrical power.', 'NEW: [1] Motor Technology: Mentions the use and control of electric motors.', 'DUP: [1] Sensor Technology: Mentions the use of sensors to detect and measure various conditions.']\n",
      "--------------------\n"
     ]
    },
    {
     "name": "stderr",
     "output_type": "stream",
     "text": [
      " 18%|█▊        | 184/1000 [07:41<32:01,  2.35s/it]"
     ]
    },
    {
     "name": "stdout",
     "output_type": "stream",
     "text": [
      "Document: 184\n",
      "Topics: ['DUP: [1] Chemical Processing: Mentions the processing of chemicals, including the production of fusel oil and its dehydration products.']\n",
      "--------------------\n"
     ]
    },
    {
     "name": "stderr",
     "output_type": "stream",
     "text": [
      " 18%|█▊        | 185/1000 [07:44<33:27,  2.46s/it]"
     ]
    },
    {
     "name": "stdout",
     "output_type": "stream",
     "text": [
      "Document: 185\n",
      "Topics: ['DUP: [1] Material Science: Mentions the study of various forms of matter and their properties.', 'NEW: [1] Silica: Mentions a specific type of inorganic filler, silica.', 'NEW: [1] Rubber Technology: Mentions the composition and properties of rubber.', 'NEW: [1] Fillers: Mentions the use of inorganic fillers in rubber compositions.', 'NEW: [1] Carbon Black: Mentions a specific type of filler, carbon black.', 'DUP: [1] Nanotechnology: Mentions the use of silicas with specific surface areas.']\n",
      "--------------------\n"
     ]
    },
    {
     "name": "stderr",
     "output_type": "stream",
     "text": [
      " 19%|█▊        | 186/1000 [07:46<33:09,  2.44s/it]"
     ]
    },
    {
     "name": "stdout",
     "output_type": "stream",
     "text": [
      "Document: 186\n",
      "Topics: ['DUP: [1] Control Systems: Mentions the use of control apparatuses and systems.', 'DUP: [1] Power Management: Mentions the control and management of power supply.', 'NEW: [1] Memory Technology: Mentions the use and control of memory systems.', 'NEW: [1] Processing Units: Mentions the use and control of processing units.']\n",
      "--------------------\n"
     ]
    },
    {
     "name": "stderr",
     "output_type": "stream",
     "text": [
      " 19%|█▊        | 187/1000 [07:50<38:59,  2.88s/it]"
     ]
    },
    {
     "name": "stdout",
     "output_type": "stream",
     "text": [
      "Document: 187\n",
      "Topics: ['NEW: [1] Telecommunications and Power Networks: Discusses the integration of telecommunications and power networks.', 'NEW: [1] Optical Networks: Refers to the use of light to transmit information over long distances.', 'NEW: [1] Optical Network Terminals: Describes the equipment used to connect optical fiber cables to a communications network.', 'NEW: [1] Optical Network Splitters: Refers to devices used to split optical signals for distribution to multiple users.', 'NEW: [1] Optical Line Terminals: Describes the equipment used to connect optical fibers to the optical network.', 'NEW: [1] Network Switches: Discusses devices used to forward data between devices on a network.', 'NEW: [1] Routers: Refers to devices used to forward data between computer networks.', 'NEW: [1] Automatic Transfer Switches: Describes devices used to automatically switch power sources to maintain continuity of power.', 'NEW: [1] Power Sources: Discusses various sources of electrical power.', 'NEW: [1] Servers: Refers to powerful computers used to provide services over a network.']\n",
      "--------------------\n"
     ]
    },
    {
     "name": "stderr",
     "output_type": "stream",
     "text": [
      " 19%|█▉        | 188/1000 [07:52<35:32,  2.63s/it]"
     ]
    },
    {
     "name": "stdout",
     "output_type": "stream",
     "text": [
      "Document: 188\n",
      "Topics: ['DUP: [1] Chemical Processing: Mentions the implementation of chemical reactions.', 'DUP: [1] Catalysts: Mentions the use of catalysts in chemical reactions.', 'NEW: [1] Reactor Technology: Mentions the use of reactors in chemical processing.']\n",
      "--------------------\n"
     ]
    },
    {
     "name": "stderr",
     "output_type": "stream",
     "text": [
      " 19%|█▉        | 189/1000 [07:56<40:39,  3.01s/it]"
     ]
    },
    {
     "name": "stdout",
     "output_type": "stream",
     "text": [
      "Document: 189\n",
      "Topics: ['NEW: [1] Engine: Mentions types of engines and their components.', 'DUP: [1] Control Systems: Mentions systems used to regulate and manage processes.', 'NEW: [1] Spark Plugs: Component used to initiate the ignition process in a gasoline engine.', 'NEW: [1] Fuel Injection: Process of supplying fuel to an engine.', 'NEW: [1] Ignition Timing: The point in time during the engine cycle when the spark plug fires.', 'NEW: [1] Processor: Electronic device used to execute instructions and perform calculations.', 'NEW: [1] Memory: Digital data storage device.', 'NEW: [1] Modules: Self-contained programs or parts of a program that perform specific functions.']\n",
      "--------------------\n"
     ]
    },
    {
     "name": "stderr",
     "output_type": "stream",
     "text": [
      " 19%|█▉        | 190/1000 [07:59<41:30,  3.07s/it]"
     ]
    },
    {
     "name": "stdout",
     "output_type": "stream",
     "text": [
      "Document: 190\n",
      "Topics: ['DUP: [1] Building Automation Systems: Mentions the automation of building systems, including fluid distribution.', 'NEW: [1] HVAC Systems: Mentions heating, ventilation, and air conditioning systems.', 'DUP: [1] Control Systems: Mentions the systems used to regulate and manage various functions.', 'NEW: [1] Pressure Measurement: Mentions the measurement of pressure in various systems.', 'DUP: [1] Sensors: Mentions devices used to detect and measure various physical properties.', 'NEW: [1] Terminal Units: Mentions the individual heating and cooling units in a HVAC system.', 'NEW: [1] Fluid Distribution: Mentions the movement of fluids through a system.']\n",
      "--------------------\n"
     ]
    },
    {
     "name": "stderr",
     "output_type": "stream",
     "text": [
      " 19%|█▉        | 191/1000 [08:01<37:07,  2.75s/it]"
     ]
    },
    {
     "name": "stdout",
     "output_type": "stream",
     "text": [
      "Document: 191\n",
      "Topics: ['DUP: [1] Electric Vehicles: Mentions the control device of an electric vehicle and its components, including an operating state detector, motor controller, and region setter. This topic is generalizable and broad enough to accommodate future subtopics related to electric vehicles and their control systems.']\n",
      "--------------------\n"
     ]
    },
    {
     "name": "stderr",
     "output_type": "stream",
     "text": [
      " 19%|█▉        | 192/1000 [08:03<34:38,  2.57s/it]"
     ]
    },
    {
     "name": "stdout",
     "output_type": "stream",
     "text": [
      "Document: 192\n",
      "Topics: ['DUP: [1] Vehicle Technology: Mentions vehicle systems and their control, including location sensors and energy storage devices.', 'DUP: [1] Sensor Technology: Mentions location sensors and charge sensors.', 'DUP: [1] Energy: Mentions energy storage devices.', 'DUP: [1] Communication Technology: Mentions vehicle computing devices communicating with remote computing devices.']\n",
      "--------------------\n"
     ]
    },
    {
     "name": "stderr",
     "output_type": "stream",
     "text": [
      " 19%|█▉        | 193/1000 [08:06<37:02,  2.75s/it]"
     ]
    },
    {
     "name": "stdout",
     "output_type": "stream",
     "text": [
      "Document: 193\n",
      "Topics: ['NEW: [1] Roofing: Mentions structures and materials used for covering the tops of buildings.', \"DUP: [1] Solar Energy: Mentions technologies and systems related to harnessing the sun's energy.\", 'DUP: [1] Structural Design: Mentions the planning and creation of structures to support loads.', 'DUP: [1] Mechanical Engineering: Mentions the application of principles of physics and mathematics for designing, building, and maintaining mechanical systems.', 'NEW: [1] Mounting Systems: Mentions devices used to attach components to a surface or structure.', 'NEW: [1] Solar Panel Mounting: Mentions specific systems used to secure solar panels to a roof or other structure.', 'NEW: [1] Tile Roofs: Mentions roofs made of clay, concrete, or other materials that are shaped like tiles.']\n",
      "--------------------\n"
     ]
    },
    {
     "name": "stderr",
     "output_type": "stream",
     "text": [
      " 19%|█▉        | 194/1000 [08:11<44:24,  3.31s/it]"
     ]
    },
    {
     "name": "stdout",
     "output_type": "stream",
     "text": [
      "Document: 194\n",
      "Topics: ['NEW: [1] Exhaust Gas Control Systems: Mentions systems used to regulate exhaust gases from engines or industrial processes.', 'NEW: [1] Catalytic Converters: Mentions devices used to reduce exhaust gas pollutants through chemical reactions.', 'NEW: [1] SCR Catalysts: Mentions specific type of catalytic converter used for Selective Catalytic Reduction of nitrogen oxides.', 'NEW: [1] NSR Catalysts: Mentions specific type of catalytic converter used for Nitrogen Oxide Storage and Reduction.', 'NEW: [1] Fuel Supply Systems: Mentions systems used to deliver fuel to engines or industrial processes.', 'NEW: [1] Valve Control Systems: Mentions systems used to control the flow of fluids, including fuel, through valves.', 'NEW: [1] Electronic Control Systems: Mentions systems used to monitor and control various industrial or automotive processes through electronic means.', 'NEW: [1] Temperature Control Systems: Mentions systems used to maintain desired temperatures in industrial or automotive processes.', 'NEW: [1] Additive Systems: Mentions systems used to add additives to fuel or exhaust gases for various purposes,']\n",
      "--------------------\n"
     ]
    },
    {
     "name": "stderr",
     "output_type": "stream",
     "text": [
      " 20%|█▉        | 195/1000 [08:14<41:33,  3.10s/it]"
     ]
    },
    {
     "name": "stdout",
     "output_type": "stream",
     "text": [
      "Document: 195\n",
      "Topics: ['DUP: [1] Lighting Technology: Mentions the use of LEDs for indicating voice recognition process states.', 'DUP: [1] Wireless Communications: Mentions the use of a wireless speaker for voice operation receiving.', 'NEW: [1] Microphones: Mentions the use of a microphone for voice input.', 'DUP: [1] Control Systems: Mentions the use of PWM control for LED brightness adjustment.']\n",
      "--------------------\n"
     ]
    },
    {
     "name": "stderr",
     "output_type": "stream",
     "text": [
      " 20%|█▉        | 196/1000 [08:16<36:59,  2.76s/it]"
     ]
    },
    {
     "name": "stdout",
     "output_type": "stream",
     "text": [
      "Document: 196\n",
      "Topics: ['DUP: [1] Additive Manufacturing: Mentions the process of creating three-dimensional objects by adding material layer by layer.', 'DUP: [1] Material Processing: Mentions the modification or alteration of materials to create a desired product or property.']\n",
      "--------------------\n"
     ]
    },
    {
     "name": "stderr",
     "output_type": "stream",
     "text": [
      " 20%|█▉        | 197/1000 [08:18<34:44,  2.60s/it]"
     ]
    },
    {
     "name": "stdout",
     "output_type": "stream",
     "text": [
      "Document: 197\n",
      "Topics: ['DUP: [1] Power Management: Mentions the reception, storage, and management of electrical power.', 'DUP: [1] Control Systems: Mentions the use of controllers to execute various functions.']\n",
      "--------------------\n"
     ]
    },
    {
     "name": "stderr",
     "output_type": "stream",
     "text": [
      " 20%|█▉        | 198/1000 [08:21<36:09,  2.70s/it]"
     ]
    },
    {
     "name": "stdout",
     "output_type": "stream",
     "text": [
      "Document: 198\n",
      "Topics: ['DUP: [1] Catalysts: Mentions the use of catalysts for various purposes, including exhaust gas treatment.', 'DUP: [1] Exhaust Technology: Mentions technologies related to exhaust systems and emissions treatment.', 'DUP: [1] Material Science: Mentions the properties and behavior of various materials, including zeolites, refractory metal oxides, palladium, and rare earth oxides.', 'DUP: [1] Engineering Design: Mentions the design and development of oxidation catalyst composites and systems.', 'DUP: [1] Manufacturing: Mentions the production and fabrication of oxidation catalyst composites and systems.', 'DUP: [1] Technology: Mentions the application of scientific knowledge and innovation to solve problems and improve processes.']\n",
      "--------------------\n"
     ]
    },
    {
     "name": "stderr",
     "output_type": "stream",
     "text": [
      " 20%|█▉        | 199/1000 [08:23<33:11,  2.49s/it]"
     ]
    },
    {
     "name": "stdout",
     "output_type": "stream",
     "text": [
      "Document: 199\n",
      "Topics: ['DUP: [1] Battery Technology: Mentions the study and application of batteries and their components.', 'DUP: [1] Control Systems: Mentions systems used to regulate and direct the operation of other systems or processes.']\n",
      "--------------------\n"
     ]
    },
    {
     "name": "stderr",
     "output_type": "stream",
     "text": [
      " 20%|██        | 200/1000 [08:25<33:11,  2.49s/it]"
     ]
    },
    {
     "name": "stdout",
     "output_type": "stream",
     "text": [
      "Document: 200\n",
      "Topics: ['NEW: [1] Hybrid Vehicles: Mentions vehicles that use a combination of an internal combustion engine and an electric motor.', 'NEW: [1] Batteries: Mentions rechargeable electrical energy storage devices.', 'DUP: [1] Charging Systems: Mentions systems used to recharge batteries.', 'NEW: [1] Notification Systems: Mentions systems that provide alerts or notifications.']\n",
      "--------------------\n"
     ]
    },
    {
     "name": "stderr",
     "output_type": "stream",
     "text": [
      " 20%|██        | 201/1000 [08:28<34:39,  2.60s/it]"
     ]
    },
    {
     "name": "stdout",
     "output_type": "stream",
     "text": [
      "Document: 201\n",
      "Topics: ['DUP: [1] Electrical Systems: Mentions the use of batteries and DC-to-DC converters.', 'DUP: [1] Power Management: Mentions the conversion of voltage levels and power regulation.', 'DUP: [1] Control Systems: Mentions the use of a state machine and management unit.', 'NEW: [1] Real Time Clocks: Mentions the use of a real time clock.', 'DUP: [1] Circuit Design: Mentions the design of circuit blocks.', 'DUP: [1] Regulation and Control Systems: Mentions the use of regulators and the control of voltage levels.', 'NEW: [1] Microcontrollers or Microprocessors: Implied by the mention of a management unit and state machine.', 'NEW: [1] Electronic Design: A general topic that encompasses the design of electronic systems, including the radio module and circuit blocks mentioned in the document.']\n",
      "--------------------\n"
     ]
    },
    {
     "name": "stderr",
     "output_type": "stream",
     "text": [
      " 20%|██        | 202/1000 [08:31<37:18,  2.81s/it]"
     ]
    },
    {
     "name": "stdout",
     "output_type": "stream",
     "text": [
      "Document: 202\n",
      "Topics: ['DUP: [1] Battery Technology: Mentions the development and application of batteries, including thermal conditioning systems and carbon nanotube sheets.', 'DUP: [1] Material Science: Mentions the study of materials, including carbon nanotubes and foam layers.', 'DUP: [1] Automotive Technology: Mentions the application of technology to vehicles, including battery thermal conditioning systems.', 'DUP: [1] Engineering Design: Mentions the process of designing and developing systems, including the design of battery thermal conditioning systems.', 'DUP: [1] Cooling Systems: Mentions systems used to remove heat, including battery cell cooling plates.', 'DUP: [1] Temperature Control: Mentions the regulation of temperature, including the use of carbon nanotube sheets to maintain a predetermined temperature threshold.', 'DUP: [1] Electrical Systems: Mentions the use of electrical components, including controllers and current flow.']\n",
      "--------------------\n"
     ]
    },
    {
     "name": "stderr",
     "output_type": "stream",
     "text": [
      " 20%|██        | 203/1000 [08:33<34:13,  2.58s/it]"
     ]
    },
    {
     "name": "stdout",
     "output_type": "stream",
     "text": [
      "Document: 203\n",
      "Topics: ['NEW: [1] Catalyst Technology: Mentions the use and regeneration of catalysts in various chemical processes.']\n",
      "--------------------\n"
     ]
    },
    {
     "name": "stderr",
     "output_type": "stream",
     "text": [
      " 20%|██        | 204/1000 [08:37<39:01,  2.94s/it]"
     ]
    },
    {
     "name": "stdout",
     "output_type": "stream",
     "text": [
      "Document: 204\n",
      "Topics: ['DUP: [1] Solar Energy: Mentions the generation of energy from the sun using solar cells.', 'DUP: [1] Electrical Systems: Mentions the transfer and distribution of electrical energy.', 'DUP: [1] Engineering Design: Mentions the planning and development of technological systems.', 'DUP: [1] Material Processing: Mentions the modification of materials to create a desired product.', 'DUP: [1] Semiconductor Technology: Mentions the use of semiconductors in electronic devices.', 'DUP: [1] Insulation Materials: Mentions materials used to prevent the flow of electricity.', 'DUP: [1] Electrical Engineering: Mentions the application of engineering principles to electrical systems.', 'DUP: [1] Power Management: Mentions the control and distribution of electrical power.', 'DUP: [1] Circuit Design: Mentions the planning and development of electrical circuits.', 'DUP: [1] Control Systems: Mentions systems used to manage and regulate processes.', 'DUP: [1] Industrial Automation: Mentions the use of automated systems in industrial processes.', 'DUP: [1] Manufacturing: Mentions the production of goods through various processes.', 'DUP: [1] Engineering: Mentions the application of scientific, economic, social, and practical knowledge to design, build, and maintain structures, machines, devices, systems, and processes.']\n",
      "--------------------\n"
     ]
    },
    {
     "name": "stderr",
     "output_type": "stream",
     "text": [
      " 20%|██        | 205/1000 [08:40<36:52,  2.78s/it]"
     ]
    },
    {
     "name": "stdout",
     "output_type": "stream",
     "text": [
      "Document: 205\n",
      "Topics: ['DUP: [1] Electrical Systems: Mentions the use of electrical components, specifically a wire harness unit and a power storage device.', 'DUP: [1] Cooling Systems: Mentions the use of a cooling unit to maintain proper temperature levels.', 'DUP: [1] Energy Storage: Mentions the use of a power storage device to store electric power.', 'DUP: [1] Vehicle Technology: Mentions the application of the wire harness unit and power storage device to a vehicle.']\n",
      "--------------------\n"
     ]
    },
    {
     "name": "stderr",
     "output_type": "stream",
     "text": [
      " 21%|██        | 206/1000 [08:42<34:06,  2.58s/it]"
     ]
    },
    {
     "name": "stdout",
     "output_type": "stream",
     "text": [
      "Document: 206\n",
      "Topics: ['DUP: [1] Water Treatment: Mentions processes and systems used to improve the quality of water.', 'DUP: [1] Gas Technology: Mentions the production, processing, and utilization of gases.']\n",
      "--------------------\n"
     ]
    },
    {
     "name": "stderr",
     "output_type": "stream",
     "text": [
      " 21%|██        | 207/1000 [08:44<32:09,  2.43s/it]"
     ]
    },
    {
     "name": "stdout",
     "output_type": "stream",
     "text": [
      "Document: 207\n",
      "Topics: ['DUP: [1] Battery Technology: Mentions the study and development of batteries and their components.', 'DUP: [1] Graphite Materials: Mentions the properties and applications of graphite materials.']\n",
      "--------------------\n"
     ]
    },
    {
     "name": "stderr",
     "output_type": "stream",
     "text": [
      " 21%|██        | 208/1000 [08:46<30:47,  2.33s/it]"
     ]
    },
    {
     "name": "stdout",
     "output_type": "stream",
     "text": [
      "Document: 208\n",
      "Topics: ['DUP: [1] Battery Technology: Mentions the configuration and functionality of batteries.', 'DUP: [1] Electric Vehicles: Mentions the components of electric vehicles and their functions.', 'DUP: [1] Electrical Systems: Mentions the delivery of electrical power and the use of electrical circuits.', 'DUP: [1] Control Systems: Mentions the use of controllers and their programming.']\n",
      "--------------------\n"
     ]
    },
    {
     "name": "stderr",
     "output_type": "stream",
     "text": [
      " 21%|██        | 209/1000 [08:49<32:18,  2.45s/it]"
     ]
    },
    {
     "name": "stdout",
     "output_type": "stream",
     "text": [
      "Document: 209\n",
      "Topics: ['DUP: [1] Thermal Management: Discusses systems used to regulate and maintain temperature.', 'NEW: [1] Refrigeration Systems: Specific type of thermal management system that cools by removing heat.']\n",
      "--------------------\n"
     ]
    },
    {
     "name": "stderr",
     "output_type": "stream",
     "text": [
      " 21%|██        | 210/1000 [08:51<32:00,  2.43s/it]"
     ]
    },
    {
     "name": "stdout",
     "output_type": "stream",
     "text": [
      "Document: 210\n",
      "Topics: ['DUP: [1] Energy: Mentions the storage and usage of energy.', 'DUP: [1] Electrical Systems: Mentions the conversion and control of electrical power.', 'DUP: [1] Power Management: Mentions the management and distribution of electrical power.', 'DUP: [1] Control Systems: Mentions the use of control systems to manage and regulate processes.']\n",
      "--------------------\n"
     ]
    },
    {
     "name": "stderr",
     "output_type": "stream",
     "text": [
      " 21%|██        | 211/1000 [08:54<33:19,  2.53s/it]"
     ]
    },
    {
     "name": "stdout",
     "output_type": "stream",
     "text": [
      "Document: 211\n",
      "Topics: ['DUP: [1] Material Science: Mentions the study of various forms of matter and their properties.', 'DUP: [1] Coating Technology: Mentions the application of materials to surfaces to protect or enhance them.', 'NEW: [1] Hydrophobic Materials: Mentions materials that repel water.', 'DUP: [1] Heat Resistant Materials: Mentions materials that can withstand high temperatures.']\n",
      "--------------------\n"
     ]
    },
    {
     "name": "stderr",
     "output_type": "stream",
     "text": [
      " 21%|██        | 212/1000 [08:56<31:28,  2.40s/it]"
     ]
    },
    {
     "name": "stdout",
     "output_type": "stream",
     "text": [
      "Document: 212\n",
      "Topics: ['NEW: [1] Display Technology: Mentions the use and design of various types of displays.', 'NEW: [1] Sensing Technology: Mentions the use of sensors and their implementation in various systems.', 'NEW: [1] Electrodes: Mentions the use and design of electrodes in various applications.']\n",
      "--------------------\n"
     ]
    },
    {
     "name": "stderr",
     "output_type": "stream",
     "text": [
      " 21%|██▏       | 213/1000 [08:59<33:08,  2.53s/it]"
     ]
    },
    {
     "name": "stdout",
     "output_type": "stream",
     "text": [
      "Document: 213\n",
      "Topics: ['DUP: [1] Irrigation Systems: Mentions systems used to supply water to plants or land.', 'DUP: [1] Mobile Technology: Mentions self-contained, movable systems.', 'DUP: [1] Engineering Design: Mentions the design of a mobile irrigation system.', 'DUP: [1] Mechanical Engineering: Mentions the design and implementation of mechanical components, such as wheels, pumps, and generators.', 'DUP: [1] Horticulture: Mentions the cultivation of plants.', 'DUP: [1] Water Delivery Systems: Mentions systems used to transport and distribute water.', 'DUP: [1] Air Delivery Systems: Mentions systems used to transport and distribute air.', 'DUP: [1] Power Systems: Mentions the use of a generator to provide power.', 'DUP: [1] Electrical Systems: Mentions the use of electrical components, such as pumps and aerators.', 'DUP: [1] Manufacturing: Mentions the production of a mobile irrigation system.', 'DUP: [1] Technology: Mentions the use of advanced or innovative systems and components.']\n",
      "--------------------\n"
     ]
    },
    {
     "name": "stderr",
     "output_type": "stream",
     "text": [
      " 21%|██▏       | 214/1000 [09:01<33:27,  2.55s/it]"
     ]
    },
    {
     "name": "stdout",
     "output_type": "stream",
     "text": [
      "Document: 214\n",
      "Topics: ['DUP: [1] LED Technology: Mentions the use of Light Emitting Diodes.', 'DUP: [1] Electrical Systems: Mentions the use of power supplies, transformers, and MOSFETs.', 'DUP: [1] Power Management: Mentions the use of intelligent power supplies and DC transformers.', 'DUP: [1] Control Systems: Mentions the use of controllers and MOSFETs for signal output and control.', 'NEW: [1] Heat Dissipation: Mentions the use of heat dissipation components.', 'NEW: [1] Flexible Lighting: Mentions the use of flexible light strings.']\n",
      "--------------------\n"
     ]
    },
    {
     "name": "stderr",
     "output_type": "stream",
     "text": [
      " 22%|██▏       | 215/1000 [09:04<32:25,  2.48s/it]"
     ]
    },
    {
     "name": "stdout",
     "output_type": "stream",
     "text": [
      "Document: 215\n",
      "Topics: ['NEW: [1] Fuel Cell Technology: Mentions the use and maintenance of fuel cell vehicles and their components, including DC-DC converters and controllers.']\n",
      "--------------------\n"
     ]
    },
    {
     "name": "stderr",
     "output_type": "stream",
     "text": [
      " 22%|██▏       | 216/1000 [09:06<32:41,  2.50s/it]"
     ]
    },
    {
     "name": "stdout",
     "output_type": "stream",
     "text": [
      "Document: 216\n",
      "Topics: ['DUP: [1] Electrical Systems: Mentions the use of electrical components and systems.', 'DUP: [1] Power Management: Mentions the management and control of electrical power.', 'DUP: [1] Switching Systems: Mentions the use of electrical switches and their control mechanisms.', 'DUP: [1] Control Systems: Mentions the use of systems to regulate and manage various processes.', 'DUP: [1] Induction Technology: Mentions the use of induction components and systems.']\n",
      "--------------------\n"
     ]
    },
    {
     "name": "stderr",
     "output_type": "stream",
     "text": [
      " 22%|██▏       | 217/1000 [09:09<32:54,  2.52s/it]"
     ]
    },
    {
     "name": "stdout",
     "output_type": "stream",
     "text": [
      "Document: 217\n",
      "Topics: ['DUP: [1] Wireless Power Transfer: Refers to the transfer of electrical energy between two objects through the air without the use of wires.', 'DUP: [1] Communication Technology: Encompasses the exchange of information between two or more entities using various methods and technologies.', 'DUP: [1] Vehicle Technology: Relates to the design, development, and operation of vehicles, including automobiles, aircraft, and watercraft.', 'DUP: [1] Power Systems: Deals with the generation, transmission, and distribution of electrical power.', 'DUP: [1] Control Systems: Involves the use of automated systems to manage and regulate various processes and operations.']\n",
      "--------------------\n"
     ]
    },
    {
     "name": "stderr",
     "output_type": "stream",
     "text": [
      " 22%|██▏       | 218/1000 [09:11<31:45,  2.44s/it]"
     ]
    },
    {
     "name": "stdout",
     "output_type": "stream",
     "text": [
      "Document: 218\n",
      "Topics: ['DUP: [1] Sensing Technology: Mentions the use of sensors for detecting movements and states.', 'DUP: [1] Control Systems: Mentions the use of modules for detecting pseudo-static states and calculating angles.', 'NEW: [1] Gyroscopes: Mentions the use of a reduced number of gyroscopes in the system.', 'NEW: [1] Accelerometers: Mentions the use of accelerometers in the attitude units.', 'NEW: [1] Magnetometers: Mentions the use of magnetometers in the attitude units.', 'NEW: [1] Kalman Filters: Mentions the use of Kalman filters for detecting dynamic states.']\n",
      "--------------------\n"
     ]
    },
    {
     "name": "stderr",
     "output_type": "stream",
     "text": [
      " 22%|██▏       | 219/1000 [09:13<30:45,  2.36s/it]"
     ]
    },
    {
     "name": "stdout",
     "output_type": "stream",
     "text": [
      "Document: 219\n",
      "Topics: ['DUP: [1] Lighting Technology: Mentions the technology and components related to lighting devices.', 'DUP: [1] Wireless Communications: Mentions the technology and systems used for wireless communication.', 'DUP: [1] Electrical Systems: Mentions the systems used for electrical power and energy.', 'DUP: [1] Circuit Design: Mentions the design and construction of electrical circuits.', 'DUP: [1] Signal Processing: Mentions the analysis, manipulation, and transmission of signals.']\n",
      "--------------------\n"
     ]
    },
    {
     "name": "stderr",
     "output_type": "stream",
     "text": [
      " 22%|██▏       | 220/1000 [09:16<32:01,  2.46s/it]"
     ]
    },
    {
     "name": "stdout",
     "output_type": "stream",
     "text": [
      "Document: 220\n",
      "Topics: ['DUP: [1] Heating Systems: Mentions systems used to generate and distribute heat.', 'NEW: [1] Electromagnetic Technology: Mentions the use of electromagnetic fields and related phenomena.', 'NEW: [1] Microwave Technology: Mentions the use of microwaves and related technology.', 'NEW: [1] UHF Technology: Mentions the use of Ultra High Frequency technology.', 'DUP: [1] Controllers: Mentions systems used to control and regulate various processes.', 'DUP: [1] Energy Systems: Mentions systems used to generate, store, and distribute energy.', 'DUP: [1] Industrial Automation: Mentions the use of automated systems in industry.', 'DUP: [1] Material Processing: Mentions the modification of materials through various processes.', 'DUP: [1] Thermal Technology: Mentions technology related to heat and temperature.']\n",
      "--------------------\n"
     ]
    },
    {
     "name": "stderr",
     "output_type": "stream",
     "text": [
      " 22%|██▏       | 221/1000 [09:19<35:22,  2.72s/it]"
     ]
    },
    {
     "name": "stdout",
     "output_type": "stream",
     "text": [
      "Document: 221\n",
      "Topics: ['DUP: [1] Manufacturing: Mentions the process of creating a product using machinery, tools, or labor.', 'DUP: [1] Engineering Design: Mentions the process of creating designs for structures, machines, devices, systems, or processes.', 'NEW: [1] Linear Motors: Mentions a type of motor that converts electrical energy into linear motion.', 'DUP: [1] Control Systems: Mentions systems that regulate, direct, or automate the operation of other systems or processes.', 'DUP: [1] Machining: Mentions the process of removing material from a workpiece to create a desired shape or size.', 'DUP: [1] Mechanical Systems: Mentions systems that convert energy into mechanical motion or force.', 'DUP: [1] Automation: Mentions the use of technology to automate processes or systems.']\n",
      "--------------------\n"
     ]
    },
    {
     "name": "stderr",
     "output_type": "stream",
     "text": [
      " 22%|██▏       | 222/1000 [09:22<34:13,  2.64s/it]"
     ]
    },
    {
     "name": "stdout",
     "output_type": "stream",
     "text": [
      "Document: 222\n",
      "Topics: ['DUP: [1] Mechanical Engineering: Mentions a mechanical lifting assembly and its components.', 'DUP: [1] Engineering Design: Mentions the design of a lifting assembly.', 'DUP: [1] Material Processing: Mentions the use of a support structure and a guide line.', 'DUP: [1] Manufacturing: Mentions the production of a lifting assembly.', 'DUP: [1] Industrial Automation: Mentions the use of a control line assembly.']\n",
      "--------------------\n"
     ]
    },
    {
     "name": "stderr",
     "output_type": "stream",
     "text": [
      " 22%|██▏       | 223/1000 [09:24<32:15,  2.49s/it]"
     ]
    },
    {
     "name": "stdout",
     "output_type": "stream",
     "text": [
      "Document: 223\n",
      "Topics: ['DUP: [1] Turbine Technology: Mentions the description of systems and methods for a variable geometry turbine.']\n",
      "--------------------\n"
     ]
    },
    {
     "name": "stderr",
     "output_type": "stream",
     "text": [
      " 22%|██▏       | 224/1000 [09:26<30:54,  2.39s/it]"
     ]
    },
    {
     "name": "stdout",
     "output_type": "stream",
     "text": [
      "Document: 224\n",
      "Topics: ['DUP: [1] Communication Technology: Mentions methods and systems related to communication, including latency measurement and power management in communication devices.']\n",
      "--------------------\n"
     ]
    },
    {
     "name": "stderr",
     "output_type": "stream",
     "text": [
      " 22%|██▎       | 225/1000 [09:28<29:54,  2.32s/it]"
     ]
    },
    {
     "name": "stdout",
     "output_type": "stream",
     "text": [
      "Document: 225\n",
      "Topics: ['DUP: [1] Battery Technology: Mentions the development of a battery with improved conductive members to reduce resistance.']\n",
      "--------------------\n"
     ]
    },
    {
     "name": "stderr",
     "output_type": "stream",
     "text": [
      " 23%|██▎       | 226/1000 [09:32<35:45,  2.77s/it]"
     ]
    },
    {
     "name": "stdout",
     "output_type": "stream",
     "text": [
      "Document: 226\n",
      "Topics: ['DUP: [1] Engineering: Mentions the application of scientific, economic, social, and practical knowledge to design, build, and maintain structures, machines, devices, systems, and processes.', 'DUP: [1] Mechanical Engineering: A subfield of engineering that deals with the design, manufacturing, and maintenance of mechanical systems.', 'NEW: [1] Powertrain Technology: Refers to the components and systems that transmit power from an engine to the wheels of a vehicle.', 'NEW: [1] Hybrid Powertrains: Systems that combine the use of an internal combustion engine and an electric motor to power a vehicle.', 'NEW: [1] Gearboxes: Mechanical devices used to transmit power from a rotating prime mover, such as an engine, to a rotating output shaft or wheel, with a reduction in speed and an increase in torque.', 'NEW: [1] Planetary Gears: A type of gear system where the gears revolve around a common center, allowing for a compact design and high power density.', 'NEW: [1] Countershafts: A shaft that is used to transmit power in the opposite direction to the main shaft.', 'NEW: [1] Range Gearboxes: Mechanical devices used to change the speed and torque ratio between the input and output shafts of a powertrain.']\n",
      "--------------------\n"
     ]
    },
    {
     "name": "stderr",
     "output_type": "stream",
     "text": [
      " 23%|██▎       | 227/1000 [09:34<34:59,  2.72s/it]"
     ]
    },
    {
     "name": "stdout",
     "output_type": "stream",
     "text": [
      "Document: 227\n",
      "Topics: ['DUP: [1] Electronic Devices: Mentions various electronic components and their functions.', 'NEW: [1] User Interfaces: Mentions the display and interaction with electronic devices.', 'NEW: [1] Wireless Communication: Mentions RF circuitry and pairing requests.', 'NEW: [1] Peripherals: Mentions devices that can be connected to electronic devices.', 'NEW: [1] Bluetooth Technology: Implied by the mention of pairing requests and wireless communication.']\n",
      "--------------------\n"
     ]
    },
    {
     "name": "stderr",
     "output_type": "stream",
     "text": [
      " 23%|██▎       | 228/1000 [09:37<33:42,  2.62s/it]"
     ]
    },
    {
     "name": "stdout",
     "output_type": "stream",
     "text": [
      "Document: 228\n",
      "Topics: ['DUP: [1] Battery Technology: Mentions battery devices and their parameters.', 'DUP: [1] Computer Systems: Mentions server devices and their components.', 'DUP: [1] Data Communication: Mentions communication network and data transfer.', 'DUP: [1] Energy: Mentions machine powered by battery and battery data.', 'DUP: [1] Machine Learning: Mentions determining predicted impact based on data.', 'DUP: [1] Power Management: Mentions battery data, usage data, and machine data.', 'DUP: [1] Sensor Technology: Mentions obtaining machine data indicative of machine features.']\n",
      "--------------------\n"
     ]
    },
    {
     "name": "stderr",
     "output_type": "stream",
     "text": [
      " 23%|██▎       | 229/1000 [09:39<31:56,  2.49s/it]"
     ]
    },
    {
     "name": "stdout",
     "output_type": "stream",
     "text": [
      "Document: 229\n",
      "Topics: ['DUP: [1] Electrical Systems: Mentions components used in electrical systems, such as controllers, inductors, resistors, switches, and diodes.']\n",
      "--------------------\n"
     ]
    },
    {
     "name": "stderr",
     "output_type": "stream",
     "text": [
      " 23%|██▎       | 230/1000 [09:41<31:41,  2.47s/it]"
     ]
    },
    {
     "name": "stdout",
     "output_type": "stream",
     "text": [
      "Document: 230\n",
      "Topics: ['NEW: [1] Touchscreen Technology: Mentions testing methods and attachments for touchscreen electronic devices.']\n",
      "--------------------\n"
     ]
    },
    {
     "name": "stderr",
     "output_type": "stream",
     "text": [
      " 23%|██▎       | 231/1000 [09:44<32:10,  2.51s/it]"
     ]
    },
    {
     "name": "stdout",
     "output_type": "stream",
     "text": [
      "Document: 231\n",
      "Topics: ['DUP: [1] Material Processing: Mentions the processing of materials, specifically rare earth elements.', 'DUP: [1] Chemical Processing: Mentions the use of chemicals in a process, specifically the hydrometallurgical process for separating rare earth elements.', 'DUP: [1] Recycling: Mentions the process of recovering and reusing materials, specifically rare earth elements from waste.', 'NEW: [1] Industrial Economics: Mentions the economic benefits of industrial processes, specifically the recovery and recycling of rare earth elements.']\n",
      "--------------------\n"
     ]
    },
    {
     "name": "stderr",
     "output_type": "stream",
     "text": [
      " 23%|██▎       | 232/1000 [09:46<31:22,  2.45s/it]"
     ]
    },
    {
     "name": "stdout",
     "output_type": "stream",
     "text": [
      "Document: 232\n",
      "Topics: ['DUP: [1] Energy Storage: Mentions the use and management of energy storage systems, such as batteries.', 'NEW: [1] Predictive Control: Mentions the use of predictive controllers to optimize system performance.', 'DUP: [1] Power Management: Mentions the management of electric power in a building or system.']\n",
      "--------------------\n"
     ]
    },
    {
     "name": "stderr",
     "output_type": "stream",
     "text": [
      " 23%|██▎       | 233/1000 [09:50<35:09,  2.75s/it]"
     ]
    },
    {
     "name": "stdout",
     "output_type": "stream",
     "text": [
      "Document: 233\n",
      "Topics: ['NEW: [1] Resource Monitoring: Monitoring and analyzing the usage of resources.', 'DUP: [1] Sensors: Devices used to measure physical or environmental conditions and transmit data.', 'NEW: [1] Data Transmission: Transferring data from one location to another.', 'NEW: [1] Central Processing Unit: Processing and interpreting data from multiple sources.', 'NEW: [1] Usage Data Analysis: Interpreting and comparing usage data with historical data and site conditions.', 'NEW: [1] Resource Consumption Analytics: Identifying potential sources of resource waste or loss.', 'NEW: [1] Alerts and Alarms: Notifications of potential issues or anomalies.', 'NEW: [1] Recommendations: Providing easily interpreted recommendations for corrective procedures.']\n",
      "--------------------\n"
     ]
    },
    {
     "name": "stderr",
     "output_type": "stream",
     "text": [
      " 23%|██▎       | 234/1000 [09:52<33:20,  2.61s/it]"
     ]
    },
    {
     "name": "stdout",
     "output_type": "stream",
     "text": [
      "Document: 234\n",
      "Topics: ['DUP: [1] Signal Processing: Mentions obtaining and filtering sound data in real time.', 'DUP: [1] Control Systems: Mentions controlling color and brightness changes of LED lamp based on classification result.', 'NEW: [1] Microcontrollers: Mentions acquiring classification result by MCU.', 'NEW: [1] Music Technology: Mentions application to music lamp strip.', 'DUP: [1] Lighting Technology: Mentions controlling color and brightness changes of LED lamp.']\n",
      "--------------------\n"
     ]
    },
    {
     "name": "stderr",
     "output_type": "stream",
     "text": [
      " 24%|██▎       | 235/1000 [09:54<31:53,  2.50s/it]"
     ]
    },
    {
     "name": "stdout",
     "output_type": "stream",
     "text": [
      "Document: 235\n",
      "Topics: ['DUP: [1] Electric Motors: Mentions the design and components of an electric motor, specifically a permanent magnet auxiliary synchronous reluctance motor.', 'DUP: [1] Material Science: Mentions the use of magnetic steel and permanent magnets.', 'DUP: [1] Engineering Design: Mentions the design of a rotor structure for an electric vehicle motor.']\n",
      "--------------------\n"
     ]
    },
    {
     "name": "stderr",
     "output_type": "stream",
     "text": [
      " 24%|██▎       | 236/1000 [09:58<36:10,  2.84s/it]"
     ]
    },
    {
     "name": "stdout",
     "output_type": "stream",
     "text": [
      "Document: 236\n",
      "Topics: ['DUP: [1] Gas Technology: Mentions the use and application of gases, including gas turbine engines and their components.', 'DUP: [1] Engineering Design: Mentions the process of creating new products or systems through the application of scientific, economic, social, and practical knowledge.', 'DUP: [1] Material Processing: Mentions the transformation of raw materials into finished products or components.', 'DUP: [1] Manufacturing: Mentions the production of goods through the use of machinery, tools, or labor.', 'DUP: [1] Mechanical Engineering: Mentions the application of physical principles to design, build, and maintain mechanical systems.', 'DUP: [1] Engineering Controls: Mentions the use of engineering principles to manage and regulate systems and processes.', 'DUP: [1] Material Science: Mentions the study of the properties and behavior of materials.', 'DUP: [1] Metallurgy: Mentions the science and technology of metals and their production and processing.', 'DUP: [1] Machining: Mentions the process of removing material from a workpiece to create a desired shape or size.', 'NEW: [1] Manufacturing Processes: Mentions various methods used to manufacture products, including machining, casting, forming, and joining.', 'NEW: [1] Materials Science and Engineering: Mentions the interdisciplinary field that combines the study of materials and their properties with the application of engineering principles to design and manufacture products']\n",
      "--------------------\n"
     ]
    },
    {
     "name": "stderr",
     "output_type": "stream",
     "text": [
      " 24%|██▎       | 237/1000 [10:01<36:28,  2.87s/it]"
     ]
    },
    {
     "name": "stdout",
     "output_type": "stream",
     "text": [
      "Document: 237\n",
      "Topics: ['DUP: [1] Filtration Systems: Mentions the process of removing impurities or unwanted substances from a fluid or gas.', 'DUP: [1] Exhaust Technology: Mentions the systems used to expel exhaust gases from an engine or other combustion process.', 'NEW: [1] Diagnostic Systems: Mentions the use of technology to identify and solve problems in a system.', 'DUP: [1] Temperature Control: Mentions the regulation of temperature in a system.', 'NEW: [1] Frequency Analysis: Mentions the analysis of the frequency content of a signal.']\n",
      "--------------------\n"
     ]
    },
    {
     "name": "stderr",
     "output_type": "stream",
     "text": [
      " 24%|██▍       | 238/1000 [10:03<32:20,  2.55s/it]"
     ]
    },
    {
     "name": "stdout",
     "output_type": "stream",
     "text": [
      "Document: 238\n",
      "Topics: ['DUP: [1] Chemical Processing: Mentions the processing of chemicals.', 'DUP: [1] Adhesives: Mentions the production and use of adhesives.']\n",
      "--------------------\n"
     ]
    },
    {
     "name": "stderr",
     "output_type": "stream",
     "text": [
      " 24%|██▍       | 239/1000 [10:05<31:45,  2.50s/it]"
     ]
    },
    {
     "name": "stdout",
     "output_type": "stream",
     "text": [
      "Document: 239\n",
      "Topics: ['DUP: [1] Cooling Systems: Mentions methods and technologies for reducing temperature.', 'DUP: [1] Battery Technology: Mentions technologies and processes related to batteries.']\n",
      "--------------------\n"
     ]
    },
    {
     "name": "stderr",
     "output_type": "stream",
     "text": [
      " 24%|██▍       | 240/1000 [10:08<32:41,  2.58s/it]"
     ]
    },
    {
     "name": "stdout",
     "output_type": "stream",
     "text": [
      "Document: 240\n",
      "Topics: ['DUP: [1] Energy Storage: Mentions the use and control of devices for storing electrical energy.', 'DUP: [1] Electronic Controls: Mentions the use of electronic systems for controlling various functions.', 'DUP: [1] Hybrid Vehicles: Mentions vehicles that use more than one power source for propulsion.']\n",
      "--------------------\n"
     ]
    },
    {
     "name": "stderr",
     "output_type": "stream",
     "text": [
      " 24%|██▍       | 241/1000 [10:11<34:07,  2.70s/it]"
     ]
    },
    {
     "name": "stdout",
     "output_type": "stream",
     "text": [
      "Document: 241\n",
      "Topics: ['DUP: [1] Energy: Mentions energy storage systems and the control of power flow to and from them.', 'DUP: [1] Power Management: Mentions controlling the flow of power and managing power systems.', 'NEW: [1] Bidirectional Inverters: Mentions inverters capable of transmitting power in both directions.', 'NEW: [1] Generator Sets: Mentions power generation through the use of generator sets.', 'NEW: [1] Load Balancing: Mentions detecting and addressing imbalances in power distribution between phases.']\n",
      "--------------------\n"
     ]
    },
    {
     "name": "stderr",
     "output_type": "stream",
     "text": [
      " 24%|██▍       | 242/1000 [10:13<31:36,  2.50s/it]"
     ]
    },
    {
     "name": "stdout",
     "output_type": "stream",
     "text": [
      "Document: 242\n",
      "Topics: ['DUP: [1] Battery Technology: Mentions research on battery electrode materials and their composition.', 'DUP: [1] Polymer Technology: Mentions the use of crosslinked polymers in battery electrodes.', 'DUP: [1] Material Science: Mentions the study of materials and their properties.']\n",
      "--------------------\n"
     ]
    },
    {
     "name": "stderr",
     "output_type": "stream",
     "text": [
      " 24%|██▍       | 243/1000 [10:16<32:11,  2.55s/it]"
     ]
    },
    {
     "name": "stdout",
     "output_type": "stream",
     "text": [
      "Document: 243\n",
      "Topics: ['DUP: [1] Wireless Communications: Mentions wireless networks and their related technologies.', 'DUP: [1] Circuit Design: Mentions the design of electronic circuits.', 'DUP: [1] Power Management: Mentions managing power consumption.', 'NEW: [1] Portable Devices: Mentions portable or in-vehicle form factors.', 'DUP: [1] Thermal Management: Mentions managing thermal dissipation.']\n",
      "--------------------\n"
     ]
    },
    {
     "name": "stderr",
     "output_type": "stream",
     "text": [
      " 24%|██▍       | 244/1000 [10:18<31:03,  2.46s/it]"
     ]
    },
    {
     "name": "stdout",
     "output_type": "stream",
     "text": [
      "Document: 244\n",
      "Topics: ['NEW: [1] Cement Technology: Mentions Portland cement and supplementary cementitious materials.', 'DUP: [1] Coating Technology: Mentions coatings and film-forming assistants.', 'NEW: [1] Preservatives: Mentions preservatives.', 'NEW: [1] Pigments and Dyes: Mentions pigments and dyes.', 'DUP: [1] Material Processing: Mentions processing of compositions.']\n",
      "--------------------\n"
     ]
    },
    {
     "name": "stderr",
     "output_type": "stream",
     "text": [
      " 24%|██▍       | 245/1000 [10:20<30:56,  2.46s/it]"
     ]
    },
    {
     "name": "stdout",
     "output_type": "stream",
     "text": [
      "Document: 245\n",
      "Topics: ['NEW: [1] Hybrid Electric Vehicles: Mentions systems and methods for simulating rev-matching in hybrid electric vehicles.', 'NEW: [1] Transmission Control: Mentions the electronic control unit that controls the speed of the engine to simulate gears.', 'NEW: [1] Engine Control: Mentions the increased engine response during downshifting.', 'NEW: [1] Gearbox Simulation: Mentions the simulation of gears in the transmission of an HEV.']\n",
      "--------------------\n"
     ]
    },
    {
     "name": "stderr",
     "output_type": "stream",
     "text": [
      " 25%|██▍       | 246/1000 [10:24<35:20,  2.81s/it]"
     ]
    },
    {
     "name": "stdout",
     "output_type": "stream",
     "text": [
      "Document: 246\n",
      "Topics: ['DUP: [1] Nanotechnology: Mentions the synthesis of nanomaterials, specifically heteroatom-doped carbon nanotubes.', 'DUP: [1] Material Science: Mentions the creation and properties of materials, specifically heteroatom-doped carbon nanotubes.', 'DUP: [1] Energy: Mentions the use of heteroatom-doped carbon nanotubes as an oil removal scaffold and their ability to soak up large quantities of organic solvents and oil.', 'DUP: [1] Chemical Processing: Mentions the doping of heteroatoms in the nanotube lattice during growth and the creation of elbow joints and branching of nanotubes.', 'DUP: [1] Manufacturing: Mentions the use of an aerosol-assisted chemical vapor deposition method to directly grow macroscopic quantities of heteroatom-doped carbon nanotube materials.', 'DUP: [1] Engineering: Mentions the creation of a three-dimensional super-structure of heteroatom-doped carbon nanotubes and the optional welding of heteroatom-doped carbon nanotubes to form one or more macroscale 3D carbon nanotubes.']\n",
      "--------------------\n"
     ]
    },
    {
     "name": "stderr",
     "output_type": "stream",
     "text": [
      " 25%|██▍       | 247/1000 [10:26<34:08,  2.72s/it]"
     ]
    },
    {
     "name": "stdout",
     "output_type": "stream",
     "text": [
      "Document: 247\n",
      "Topics: ['NEW: [1] Identification Systems: Mentions systems used to identify objects or contents based on specific characteristics.', 'NEW: [1] Container Technology: Mentions technology related to containers and their components.', 'NEW: [1] Cap Technology: Mentions technology related to bottle or container caps.', 'NEW: [1] Rotating Dials: Mentions the use of rotating dials for identification purposes.']\n",
      "--------------------\n"
     ]
    },
    {
     "name": "stderr",
     "output_type": "stream",
     "text": [
      " 25%|██▍       | 248/1000 [10:30<38:54,  3.10s/it]"
     ]
    },
    {
     "name": "stdout",
     "output_type": "stream",
     "text": [
      "Document: 248\n",
      "Topics: ['DUP: [1] Engineering: Mentions the application of scientific, economic, social, and practical knowledge to design, build, and maintain structures, machines, devices, systems, and processes.', 'DUP: [1] Manufacturing: Mentions the production of goods through the use of tools, machines, or other means.', 'DUP: [1] Mechanical Engineering: A subfield of engineering that deals with the design, construction, and operation of mechanical systems.', 'NEW: [1] Materials Science: The interdisciplinary field that studies the properties, behavior, and applications of various materials.', 'DUP: [1] Material Processing: The transformation of raw materials into finished products through various manufacturing processes.', 'DUP: [1] Gas Technology: The study and application of gases for various industrial, commercial, and residential purposes.', 'DUP: [1] Turbines: Machines that convert the energy of a fluid (usually a gas) into mechanical work.', 'DUP: [1] Engineering Design: The process of creating new products, systems, or processes through the application of scientific, economic, social, and practical knowledge.', 'DUP: [1] Aerospace Engineering: The branch of engineering that deals with the design, construction, and testing of aircraft, spacecraft, and their systems.', 'DUP: [1] Machining: The process of removing material from a workpiece to create a desired shape or size.', 'DUP: [1] Welding: The process of joining']\n",
      "--------------------\n"
     ]
    },
    {
     "name": "stderr",
     "output_type": "stream",
     "text": [
      " 25%|██▍       | 249/1000 [10:33<37:27,  2.99s/it]"
     ]
    },
    {
     "name": "stdout",
     "output_type": "stream",
     "text": [
      "Document: 249\n",
      "Topics: ['DUP: [1] Control Systems: Mentions systems used to regulate and direct the operation of machines or processes.', 'DUP: [1] Engineering Controls: Mentions devices or systems used to modify or control engineering processes or systems.', 'DUP: [1] Computer Systems: Mentions electronic systems used to process and store data.', 'DUP: [1] Machine Tools: Mentions tools used to shape or manufacture parts by cutting, drilling, or other means.', 'NEW: [1] Processing Programs: Mentions sets of instructions used to control the operation of a machine or process.', 'NEW: [1] Numerical Controllers: Mentions electronic devices used to control machine tools based on numerical data.']\n",
      "--------------------\n"
     ]
    },
    {
     "name": "stderr",
     "output_type": "stream",
     "text": [
      " 25%|██▌       | 250/1000 [10:37<39:32,  3.16s/it]"
     ]
    },
    {
     "name": "stdout",
     "output_type": "stream",
     "text": [
      "Document: 250\n",
      "Topics: ['DUP: [1] Engineering: Mentions the application of engineering principles to design and build structures, machines, devices, systems, and processes.', 'DUP: [1] Material Science: Mentions the study of the properties and behavior of materials.', 'DUP: [1] Coating Technology: Mentions the application of coatings to surfaces for protection, decoration, or functional purposes.', 'DUP: [1] Laser Technology: Mentions the use of lasers for various applications, including cutting, welding, drilling, and material processing.', 'DUP: [1] Automotive Technology: Mentions the design, manufacturing, and operation of automobiles and related components.', 'DUP: [1] Energy: Mentions the production, transmission, and consumption of energy.', 'DUP: [1] Manufacturing: Mentions the process of producing goods through the use of machines, tools, or manual labor.', 'DUP: [1] Engineering Design: Mentions the process of creating new products or systems through the application of engineering principles.', 'DUP: [1] Material Processing: Mentions the manipulation of materials to change their form, properties, or structure.', 'DUP: [1] Thermal Management: Mentions the techniques used to manage and control the temperature of systems or components.', 'DUP: [1] Heat Exchangers: Mentions devices used to transfer heat from one medium to another.']\n",
      "--------------------\n"
     ]
    },
    {
     "name": "stderr",
     "output_type": "stream",
     "text": [
      " 25%|██▌       | 251/1000 [10:39<36:12,  2.90s/it]"
     ]
    },
    {
     "name": "stdout",
     "output_type": "stream",
     "text": [
      "Document: 251\n",
      "Topics: ['DUP: [1] Safety Systems: Mentions techniques for ensuring safety in areas where mobile drive units operate.', 'NEW: [1] Robotics: Mentions mobile drive units, which can be interpreted as robots.', 'DUP: [1] Communication Technology: Mentions the sending and receiving of activity messages between a management device and mobile drive units.', 'NEW: [1] Human Detection: Mentions the detection of humans in a physical area.']\n",
      "--------------------\n"
     ]
    },
    {
     "name": "stderr",
     "output_type": "stream",
     "text": [
      " 25%|██▌       | 252/1000 [10:41<34:12,  2.74s/it]"
     ]
    },
    {
     "name": "stdout",
     "output_type": "stream",
     "text": [
      "Document: 252\n",
      "Topics: ['DUP: [1] Electric Vehicles: Mentions the management of electric vehicles using a fleet management portal.', 'NEW: [1] Fleet Management: Mentions the management of one or more fleets of electric vehicles using a fleet management portal.', 'NEW: [1] Charge Transfer Devices: Mentions the monitoring of a plurality of charge transfer devices using a fleet management portal.', 'NEW: [1] Reporting: Mentions the generation of reports having the charging status for each electric vehicle.']\n",
      "--------------------\n"
     ]
    },
    {
     "name": "stderr",
     "output_type": "stream",
     "text": [
      " 25%|██▌       | 253/1000 [10:44<32:01,  2.57s/it]"
     ]
    },
    {
     "name": "stdout",
     "output_type": "stream",
     "text": [
      "Document: 253\n",
      "Topics: ['DUP: [1] Composite Materials: Mentions the use of fiber-reinforced polymeric materials for wind turbine blades.']\n",
      "--------------------\n"
     ]
    },
    {
     "name": "stderr",
     "output_type": "stream",
     "text": [
      " 25%|██▌       | 254/1000 [10:46<33:21,  2.68s/it]"
     ]
    },
    {
     "name": "stdout",
     "output_type": "stream",
     "text": [
      "Document: 254\n",
      "Topics: ['NEW: [1] Packaging Technology: Mentions the design and production of containers and their components, including caps and seals.', 'DUP: [1] Material Science: Mentions the properties and behavior of various materials, including those used in packaging and container production.', 'DUP: [1] Mechanical Engineering: Mentions the design, manufacturing, and operation of mechanical systems, including components such as vents and caps.']\n",
      "--------------------\n"
     ]
    },
    {
     "name": "stderr",
     "output_type": "stream",
     "text": [
      " 26%|██▌       | 255/1000 [10:50<37:19,  3.01s/it]"
     ]
    },
    {
     "name": "stdout",
     "output_type": "stream",
     "text": [
      "Document: 255\n",
      "Topics: ['DUP: [1] Energy Storage: A system that stores electrical energy for later use.', 'NEW: [1] Renewable Energy: Energy derived from natural sources that are replenished over time.', 'NEW: [1] Generators: Devices that convert mechanical energy into electrical energy.', 'DUP: [1] Electrical Systems: The design, implementation, and operation of electrical equipment and systems.', 'DUP: [1] Power Management: The process of planning, implementing, and controlling the efficient use of electrical power.', 'NEW: [1] Inverters: Devices that convert direct current (DC) to alternating current (AC) and vice versa.', 'DUP: [1] Switching Systems: Systems used to control the flow of electrical power or data.', 'DUP: [1] Transformers: Devices used to change the voltage of an alternating current (AC) electrical power supply.', 'NEW: [1] Rectifiers: Devices used to convert alternating current (AC) to direct current (DC).', 'DUP: [1] Technology: The application of scientific knowledge for practical purposes.', 'DUP: [1] Engineering: The application of scientific, economic, social, and practical knowledge to design, build, and maintain structures, machines, devices, systems, and processes.']\n",
      "--------------------\n"
     ]
    },
    {
     "name": "stderr",
     "output_type": "stream",
     "text": [
      " 26%|██▌       | 256/1000 [10:53<36:08,  2.92s/it]"
     ]
    },
    {
     "name": "stdout",
     "output_type": "stream",
     "text": [
      "Document: 256\n",
      "Topics: ['DUP: [1] Gas Technology: Mentions the operation of a gas engine and the reduction of nitrogen oxides using hydrocarbons as a reducing agent.', 'DUP: [1] Exhaust Technology: Mentions the exhaust line and the lowering of nitrogen oxide levels in exhaust gas.', 'DUP: [1] Engine Technology: Mentions the operation of a gas engine using a Miller cycle.']\n",
      "--------------------\n"
     ]
    },
    {
     "name": "stderr",
     "output_type": "stream",
     "text": [
      " 26%|██▌       | 257/1000 [10:56<35:41,  2.88s/it]"
     ]
    },
    {
     "name": "stdout",
     "output_type": "stream",
     "text": [
      "Document: 257\n",
      "Topics: ['DUP: [1] Material Science: Mentions the study of the properties and composition of matter and its applications.', 'DUP: [1] Polymers: Mentions the study of large organic or inorganic molecules and their properties and applications.', 'DUP: [1] Lithium Ion Batteries: Mentions rechargeable batteries using lithium ions as a charge carrier.', 'NEW: [1] Electrode Technology: Mentions the study and development of electrodes for various applications, including batteries.']\n",
      "--------------------\n"
     ]
    },
    {
     "name": "stderr",
     "output_type": "stream",
     "text": [
      " 26%|██▌       | 258/1000 [10:59<37:35,  3.04s/it]"
     ]
    },
    {
     "name": "stdout",
     "output_type": "stream",
     "text": [
      "Document: 258\n",
      "Topics: ['DUP: [1] Cooling Systems: Mentions systems and methods for cooling fluids and managing environmental conditions.', 'NEW: [1] Chillers: Mentions devices used to cool fluids by removing heat.', 'NEW: [1] Fluid Circuits: Mentions closed systems for circulating fluids.', 'DUP: [1] Heat Exchangers: Mentions devices for transferring heat between two fluids or between a fluid and a solid surface.', 'DUP: [1] Refrigeration Technology: Mentions technologies for cooling and refrigeration.', 'NEW: [1] Environmental Control Systems: Mentions systems for managing temperature, humidity, and other environmental factors.', 'DUP: [1] Power Management: Mentions managing and optimizing the use of electrical power.', 'NEW: [1] Water Management: Mentions managing and optimizing the use of water resources.', 'DUP: [1] Engineering Design: Mentions the process of creating designs for technical systems.', 'DUP: [1] Manufacturing: Mentions the production of goods through physical or chemical processes.', 'DUP: [1] Technology: Mentions the application of scientific knowledge for practical purposes.']\n",
      "--------------------\n"
     ]
    },
    {
     "name": "stderr",
     "output_type": "stream",
     "text": [
      " 26%|██▌       | 259/1000 [11:02<36:13,  2.93s/it]"
     ]
    },
    {
     "name": "stdout",
     "output_type": "stream",
     "text": [
      "Document: 259\n",
      "Topics: ['NEW: [1] Corrosive Fluids: Mentions the handling and processing of corrosive substances.', 'DUP: [1] Heating Systems: Mentions systems used to generate heat.', 'NEW: [1] Tank Design: Mentions the design and construction of containers, including tanks.', 'NEW: [1] Anodizing: Mentions the process of electrochemically oxidizing the surface of aluminum or other metals to create a protective coating.', 'DUP: [1] Aluminum Alloys: Mentions alloys made from aluminum and other metals.']\n",
      "--------------------\n"
     ]
    },
    {
     "name": "stderr",
     "output_type": "stream",
     "text": [
      " 26%|██▌       | 260/1000 [11:04<34:37,  2.81s/it]"
     ]
    },
    {
     "name": "stdout",
     "output_type": "stream",
     "text": [
      "Document: 260\n",
      "Topics: ['DUP: [1] Electrical Systems: Mentions the use of electrical components and circuits.', 'DUP: [1] Power Management: Mentions the management and control of electrical power.', 'NEW: [1] Capacitors: Mentions the use and behavior of capacitors in electrical circuits.', 'NEW: [1] Inductors: Mentions the use and behavior of inductors in electrical circuits.', 'DUP: [1] Circuit Design: Mentions the design and analysis of electrical circuits.']\n",
      "--------------------\n"
     ]
    },
    {
     "name": "stderr",
     "output_type": "stream",
     "text": [
      " 26%|██▌       | 261/1000 [11:07<35:31,  2.88s/it]"
     ]
    },
    {
     "name": "stdout",
     "output_type": "stream",
     "text": [
      "Document: 261\n",
      "Topics: ['DUP: [1] Sensor Technology: Mentions devices used to detect and measure physical or environmental conditions.', 'DUP: [1] Communication Technology: Mentions the exchange of information between two or more entities.', 'DUP: [1] Processing Systems: Mentions systems used to process data or control operations.', 'NEW: [1] Air Conditioning Systems: Mentions systems used to control temperature and air quality.', 'DUP: [1] Wireless Communications: Mentions the use of radio waves to transmit data.', 'DUP: [1] Mobile Technology: Mentions technology related to mobile devices.']\n",
      "--------------------\n"
     ]
    },
    {
     "name": "stderr",
     "output_type": "stream",
     "text": [
      " 26%|██▌       | 262/1000 [11:10<33:04,  2.69s/it]"
     ]
    },
    {
     "name": "stdout",
     "output_type": "stream",
     "text": [
      "Document: 262\n",
      "Topics: ['DUP: [1] Energy Storage: Mentions the process of storing energy for later use, specifically in the context of heat energy.', 'NEW: [1] Thermal Energy: Mentions energy in the form of heat.', 'DUP: [1] Power Generation: Mentions the production of electrical power.', 'NEW: [1] Fluid Systems: Mentions the use of fluids in a system.', 'DUP: [1] Heat Exchangers: Mentions devices used to transfer heat energy from one fluid to another.']\n",
      "--------------------\n"
     ]
    },
    {
     "name": "stderr",
     "output_type": "stream",
     "text": [
      " 26%|██▋       | 263/1000 [11:13<34:11,  2.78s/it]"
     ]
    },
    {
     "name": "stdout",
     "output_type": "stream",
     "text": [
      "Document: 263\n",
      "Topics: ['DUP: [1] Engineering Design: Mentions the design of a centering device for a turbojet engine.', 'DUP: [1] Manufacturing: Mentions the production of a centering device for a turbojet engine.', 'DUP: [1] Mechanical Engineering: Mentions the mechanical design and manufacturing of a centering device for a turbojet engine.', 'DUP: [1] Aerospace Engineering: Mentions the design and manufacturing of a component for a turbojet engine used in aerospace applications.', 'DUP: [1] Machining: Mentions the process of manufacturing the centering device for a turbojet engine.', 'DUP: [1] Material Processing: Mentions the processing of materials used in the manufacturing of the centering device for a turbojet engine.']\n",
      "--------------------\n"
     ]
    },
    {
     "name": "stderr",
     "output_type": "stream",
     "text": [
      " 26%|██▋       | 264/1000 [11:15<32:50,  2.68s/it]"
     ]
    },
    {
     "name": "stdout",
     "output_type": "stream",
     "text": [
      "Document: 264\n",
      "Topics: ['DUP: [1] Battery Technology: Mentions the development and application of batteries.', 'DUP: [1] Electrical Systems: Mentions the use and measurement of electrical systems.', 'DUP: [1] Power Management: Mentions the management and optimization of power systems.', 'DUP: [1] Engineering Design: Mentions the process of designing and developing new technologies.', 'DUP: [1] Control Systems: Mentions the use of systems to regulate and manage processes.']\n",
      "--------------------\n"
     ]
    },
    {
     "name": "stderr",
     "output_type": "stream",
     "text": [
      " 26%|██▋       | 265/1000 [11:18<34:48,  2.84s/it]"
     ]
    },
    {
     "name": "stdout",
     "output_type": "stream",
     "text": [
      "Document: 265\n",
      "Topics: ['DUP: [1] Lighting Technology: Mentions systems and methods for creating, distributing, and playing illumination data files related to lighting technology.', 'NEW: [1] Luminaire Management Systems: Refers to systems used to manage and process illumination data files for sale or license within a luminaire marketplace.', 'NEW: [1] Luminaire Marketplace: Describes a platform where illumination data files are sold or licensed for use with luminaires.', 'NEW: [1] Account Management: Refers to the establishment and maintenance of accounts for consumers and enterprises to access illumination data files.', 'NEW: [1] Play Lists: Describes the creation and management of lists of lighting effects for playback on individual or multiple luminaires.', 'NEW: [1] User Preferences: Refers to the customization of lighting effects based on individual user preferences.', 'NEW: [1] Environmental Factors: Describes the customization of lighting effects based on environmental conditions.', 'NEW: [1] Energy Efficient Settings: Refers to the customization of lighting effects to promote energy efficiency.']\n",
      "--------------------\n"
     ]
    },
    {
     "name": "stderr",
     "output_type": "stream",
     "text": [
      " 27%|██▋       | 266/1000 [11:21<33:06,  2.71s/it]"
     ]
    },
    {
     "name": "stdout",
     "output_type": "stream",
     "text": [
      "Document: 266\n",
      "Topics: ['DUP: [1] Mechanical Engineering: Mentions a mechanical device with movable parts and a locking mechanism.', 'DUP: [1] Engineering Design: Mentions the process of creating a functional product through planning, designing, and manufacturing.', 'DUP: [1] Material Processing: Mentions the manipulation and modification of materials to create a desired product or shape.']\n",
      "--------------------\n"
     ]
    },
    {
     "name": "stderr",
     "output_type": "stream",
     "text": [
      " 27%|██▋       | 267/1000 [11:23<32:33,  2.67s/it]"
     ]
    },
    {
     "name": "stdout",
     "output_type": "stream",
     "text": [
      "Document: 267\n",
      "Topics: ['DUP: [1] Engine: Mentions various components and systems within an engine.', 'DUP: [1] Cooling Systems: Mentions the use of coolers in engine systems.', 'NEW: [1] Emission Control Systems: Mentions the use of EGR systems for emission control.', 'NEW: [1] Condensation: Mentions the generation and control of condensed water in engine systems.']\n",
      "--------------------\n"
     ]
    },
    {
     "name": "stderr",
     "output_type": "stream",
     "text": [
      " 27%|██▋       | 268/1000 [11:26<31:25,  2.58s/it]"
     ]
    },
    {
     "name": "stdout",
     "output_type": "stream",
     "text": [
      "Document: 268\n",
      "Topics: ['DUP: [1] Energy: Mentions the storage and monitoring of energy.', 'DUP: [1] Electrical Systems: Mentions electrical on-board power supplies in vehicles.']\n",
      "--------------------\n"
     ]
    },
    {
     "name": "stderr",
     "output_type": "stream",
     "text": [
      " 27%|██▋       | 269/1000 [11:28<31:10,  2.56s/it]"
     ]
    },
    {
     "name": "stdout",
     "output_type": "stream",
     "text": [
      "Document: 269\n",
      "Topics: ['DUP: [1] Laser Technology: Mentions the use of lasers in technology.', 'DUP: [1] Optics: Mentions the study of light and its properties.', 'DUP: [1] Photovoltaics: Mentions the conversion of light into electricity.', 'NEW: [1] Optical Alignment: Mentions the process of aligning optical components.', 'NEW: [1] Fresnel Lenses: Mentions the type of lens used in this technology.']\n",
      "--------------------\n"
     ]
    },
    {
     "name": "stderr",
     "output_type": "stream",
     "text": [
      " 27%|██▋       | 270/1000 [11:30<30:16,  2.49s/it]"
     ]
    },
    {
     "name": "stdout",
     "output_type": "stream",
     "text": [
      "Document: 270\n",
      "Topics: ['DUP: [1] Gas Technology: Mentions the process of converting carbonaceous feedstock into synthesis gas through gasification and partial oxidation.', 'DUP: [1] Manufacturing: Mentions the process of producing a useful product from carbonaceous feedstock.', 'DUP: [1] Chemical Processing: Mentions the treatment of synthesis gas to remove impurities and generate a fine synthesis gas.', 'DUP: [1] Energy: Mentions the conversion of carbonaceous feedstock into a useful product through a chemical reaction requiring a usage ratio.']\n",
      "--------------------\n"
     ]
    },
    {
     "name": "stderr",
     "output_type": "stream",
     "text": [
      " 27%|██▋       | 271/1000 [11:34<34:33,  2.84s/it]"
     ]
    },
    {
     "name": "stdout",
     "output_type": "stream",
     "text": [
      "Document: 271\n",
      "Topics: ['DUP: [1] Materials Science: Mentions the properties and behavior of various materials.', 'DUP: [1] Ceramics: Mentions ceramic materials and their applications.', 'NEW: [1] Thermal Expansion: Mentions the expansion or contraction of materials due to temperature changes.', 'NEW: [1] Gas Turbine Engines: Mentions the design and operation of gas turbine engines.', 'NEW: [1] Mounting Components: Mentions components used to attach or support other parts.', 'NEW: [1] Engineering Materials: Mentions the selection and use of materials in engineering applications.', 'NEW: [1] Transition Materials: Mentions materials that undergo a change in properties during use.', 'NEW: [1] Coefficient of Thermal Expansion: Mentions the rate of change of the size or volume of a material with temperature.', 'DUP: [1] Manufacturing: Mentions the production of goods or components.', 'DUP: [1] Engineering Design: Mentions the process of designing and developing new products or systems.']\n",
      "--------------------\n"
     ]
    },
    {
     "name": "stderr",
     "output_type": "stream",
     "text": [
      " 27%|██▋       | 272/1000 [11:38<38:06,  3.14s/it]"
     ]
    },
    {
     "name": "stdout",
     "output_type": "stream",
     "text": [
      "Document: 272\n",
      "Topics: ['NEW: [1] Natural Language Processing: Mentions the ability of computers to understand and process human language.', 'NEW: [1] Augmented Reality: Mentions the overlaying of digital information on the physical world.', 'DUP: [1] Maintenance: Mentions the process of preserving someone or something from deterioration or damage.', 'DUP: [1] User Interfaces: Mentions the graphical or textual means by which users interact with computers or other electronic devices.', 'NEW: [1] Voice Commands: Mentions the use of spoken words as commands to operate a device or system.', 'DUP: [1] Sensors: Mentions devices that detect and respond to physical stimuli, such as temperature, light, or motion.', 'NEW: [1] Verification: Mentions the process of confirming that something is true, accurate, or of good quality.', 'NEW: [1] Audio Cues: Mentions sounds that provide information or instructions.', 'NEW: [1] Visual Cues: Mentions visual indicators that provide information or instructions.', 'NEW: [1] Instructions: Mentions a set of steps or guidelines to be followed.', 'NEW: [1] Maintenance Tasks: M']\n",
      "--------------------\n"
     ]
    },
    {
     "name": "stderr",
     "output_type": "stream",
     "text": [
      " 27%|██▋       | 273/1000 [11:40<34:08,  2.82s/it]"
     ]
    },
    {
     "name": "stdout",
     "output_type": "stream",
     "text": [
      "Document: 273\n",
      "Topics: ['DUP: [1] Communication Technology: Mentions the use of base stations and coordination between them for resource allocation in communication systems.']\n",
      "--------------------\n"
     ]
    },
    {
     "name": "stderr",
     "output_type": "stream",
     "text": [
      " 27%|██▋       | 274/1000 [11:44<36:43,  3.04s/it]"
     ]
    },
    {
     "name": "stdout",
     "output_type": "stream",
     "text": [
      "Document: 274\n",
      "Topics: ['DUP: [1] Data Processing: Mentions the manipulation of data to produce useful information.', 'NEW: [1] Quality Control: Mentions the processes and techniques used to ensure that a product or service meets specified requirements.', 'DUP: [1] Verification: Mentions the process of confirming that something is true, accurate, or of satisfactory quality.', 'NEW: [1] Description Documents: Mentions documents that provide detailed information about a product or system.', 'NEW: [1] Correspondence Tables: Mentions tables used to associate data from different sources.', 'NEW: [1] Search Algorithms: Mentions algorithms used to find specific information in a large dataset.', 'NEW: [1] Data Conversion: Mmentions the process of converting data from one format to another.', 'NEW: [1] Format Standards: Mentions standards for the format of data or documents.']\n",
      "--------------------\n"
     ]
    },
    {
     "name": "stderr",
     "output_type": "stream",
     "text": [
      " 28%|██▊       | 275/1000 [11:46<35:52,  2.97s/it]"
     ]
    },
    {
     "name": "stdout",
     "output_type": "stream",
     "text": [
      "Document: 275\n",
      "Topics: ['DUP: [1] Power Management: Mentions the management and regulation of electrical power.', 'DUP: [1] Control Systems: Mentions systems used to control and regulate various processes.', 'DUP: [1] Electrical Systems: Mentions electrical components and systems.', 'NEW: [1] Measuring Instruments: Mentions devices used to measure various quantities.', 'DUP: [1] Threshold Values: Mentions a specific value that triggers an action or response.', 'DUP: [1] Voltage Regulation: Mentions the process of maintaining a constant voltage level.']\n",
      "--------------------\n"
     ]
    },
    {
     "name": "stderr",
     "output_type": "stream",
     "text": [
      " 28%|██▊       | 276/1000 [11:49<33:53,  2.81s/it]"
     ]
    },
    {
     "name": "stdout",
     "output_type": "stream",
     "text": [
      "Document: 276\n",
      "Topics: ['DUP: [1] Engineering Design: Mentions the design of a two-piece truss leg with an articulating coupler for a single-axis tracker foundation system.', 'DUP: [1] Mechanical Engineering: Mentions the mechanical design of a truss leg and coupler system.', 'DUP: [1] Manufacturing: Mentions the manufacturing process of a two-piece truss leg and coupler system.', 'DUP: [1] Mechanical Systems: Mentions the mechanical systems used in a single-axis tracker foundation system.', 'DUP: [1] Structural Design: Mentions the structural design of a truss foundation system for single-axis trackers.']\n",
      "--------------------\n"
     ]
    },
    {
     "name": "stderr",
     "output_type": "stream",
     "text": [
      " 28%|██▊       | 277/1000 [11:52<33:18,  2.76s/it]"
     ]
    },
    {
     "name": "stdout",
     "output_type": "stream",
     "text": [
      "Document: 277\n",
      "Topics: ['DUP: [1] Engineering Design: Mentions the design of an input shaft structure for connecting a motor and a gearbox.', 'DUP: [1] Manufacturing: Mentions the design and production of an input shaft structure.', 'DUP: [1] Mechanical Engineering: Mentions the design and production of a mechanical component, an input shaft structure.', 'DUP: [1] Machining: Mentions the production process of an input shaft structure.', 'NEW: [1] Bearings: Mentions the use of bearings in an input shaft structure.', 'DUP: [1] Gearboxes: Mentions the connection of a motor and a gearbox using an input shaft structure.']\n",
      "--------------------\n"
     ]
    },
    {
     "name": "stderr",
     "output_type": "stream",
     "text": [
      " 28%|██▊       | 278/1000 [11:54<31:35,  2.63s/it]"
     ]
    },
    {
     "name": "stdout",
     "output_type": "stream",
     "text": [
      "Document: 278\n",
      "Topics: ['DUP: [1] Electrical Systems: Mentions the use of electrical components, specifically a current transformer.', 'NEW: [1] Magnetic Materials: Mentions the use of magnetic core structures.', 'DUP: [1] Transformers: Mentions the specific type of electrical component, a current transformer.']\n",
      "--------------------\n"
     ]
    },
    {
     "name": "stderr",
     "output_type": "stream",
     "text": [
      " 28%|██▊       | 279/1000 [11:56<31:29,  2.62s/it]"
     ]
    },
    {
     "name": "stdout",
     "output_type": "stream",
     "text": [
      "Document: 279\n",
      "Topics: ['DUP: [1] Vehicle Technology: Mentions vehicle structures and components, including roof frames and their constituent parts.', 'DUP: [1] Structural Design: Mentions the design of structures, specifically the roof frame of a vehicle.']\n",
      "--------------------\n"
     ]
    },
    {
     "name": "stderr",
     "output_type": "stream",
     "text": [
      " 28%|██▊       | 280/1000 [11:59<29:44,  2.48s/it]"
     ]
    },
    {
     "name": "stdout",
     "output_type": "stream",
     "text": [
      "Document: 280\n",
      "Topics: ['DUP: [1] Battery Technology: Mentions the development of a secondary battery with a specific electrode assembly structure.']\n",
      "--------------------\n"
     ]
    },
    {
     "name": "stderr",
     "output_type": "stream",
     "text": [
      " 28%|██▊       | 281/1000 [12:01<29:25,  2.46s/it]"
     ]
    },
    {
     "name": "stdout",
     "output_type": "stream",
     "text": [
      "Document: 281\n",
      "Topics: ['DUP: [1] Electrical Systems: Mentions the use of electrical components, specifically a sigma-delta ADC.']\n",
      "--------------------\n"
     ]
    },
    {
     "name": "stderr",
     "output_type": "stream",
     "text": [
      " 28%|██▊       | 282/1000 [12:03<28:32,  2.39s/it]"
     ]
    },
    {
     "name": "stdout",
     "output_type": "stream",
     "text": [
      "Document: 282\n",
      "Topics: ['NEW: [1] Flexible Displays: Mentions displays that can be bent and have reduced border size or utilize side surfaces.']\n",
      "--------------------\n"
     ]
    },
    {
     "name": "stderr",
     "output_type": "stream",
     "text": [
      " 28%|██▊       | 283/1000 [12:06<31:07,  2.60s/it]"
     ]
    },
    {
     "name": "stdout",
     "output_type": "stream",
     "text": [
      "Document: 283\n",
      "Topics: ['NEW: [1] Organic Chemistry: Mentions the study of organic compounds and their reactions.', 'NEW: [1] Functional Groups: Mentions the groups of atoms in a molecule that determine its chemical behavior.', 'NEW: [1] Electrophilic Addition: Mentions the reaction of an electrophile with an electron-rich compound.', 'NEW: [1] Organometallic Chemistry: Mentions the study of compounds containing a metal bonded to carbon.', 'NEW: [1] Catalysis: Mentions the increase of the rate of a reaction without being consumed in the process.']\n",
      "--------------------\n"
     ]
    },
    {
     "name": "stderr",
     "output_type": "stream",
     "text": [
      " 28%|██▊       | 284/1000 [12:10<34:22,  2.88s/it]"
     ]
    },
    {
     "name": "stdout",
     "output_type": "stream",
     "text": [
      "Document: 284\n",
      "Topics: ['DUP: [1] Manufacturing: Mentions the process of creating products through the use of tools, machines, or chemical reactions.', 'DUP: [1] Engineering: Mentions the application of scientific, economic, social, and practical knowledge to design, build, and maintain structures, machines, devices, systems, and processes.', 'DUP: [1] Material Processing: Mentions the transformation of raw materials into finished products through various processes such as forming, shaping, cutting, and joining.', 'DUP: [1] Welding: M']\n",
      "--------------------\n"
     ]
    },
    {
     "name": "stderr",
     "output_type": "stream",
     "text": [
      " 28%|██▊       | 285/1000 [12:14<40:20,  3.39s/it]"
     ]
    },
    {
     "name": "stdout",
     "output_type": "stream",
     "text": [
      "Document: 285\n",
      "Topics: ['DUP: [1] Wireless Communications: Mentions the transmission and reception of signals in wireless communication systems.', 'DUP: [1] Telecommunications: Mentions the exchange of information over long distances using telecommunication technology.', 'DUP: [1] Base Stations: Mentions the infrastructure used to provide wireless communication services.', 'DUP: [1] User Equipment: Mentions the devices used by end-users to access wireless communication services.', 'NEW: [1] Power Control: Mentions the techniques used to manage power consumption in wireless communication systems.']\n",
      "--------------------\n"
     ]
    },
    {
     "name": "stderr",
     "output_type": "stream",
     "text": [
      " 29%|██▊       | 286/1000 [12:17<38:15,  3.21s/it]"
     ]
    },
    {
     "name": "stdout",
     "output_type": "stream",
     "text": [
      "Document: 286\n",
      "Topics: ['DUP: [1] Wireless Communications: Mentions the use of wireless technology for communication.', 'DUP: [1] Rail Transportation: Mentions the transportation of goods or passengers using trains.', 'DUP: [1] Communication Technology: Mentions the use of technology for communication purposes.', 'DUP: [1] Engineering: Mentions the application of scientific, economic, social, and practical knowledge to design, build, and maintain structures, machines, devices, systems, and processes.', 'DUP: [1] Technology: Mentions the application of scientific knowledge for practical purposes, especially in industry.']\n",
      "--------------------\n"
     ]
    },
    {
     "name": "stderr",
     "output_type": "stream",
     "text": [
      " 29%|██▊       | 287/1000 [12:20<35:51,  3.02s/it]"
     ]
    },
    {
     "name": "stdout",
     "output_type": "stream",
     "text": [
      "Document: 287\n",
      "Topics: ['NEW: [1] Adsorption Technology: Mentions the process of adsorption using adsorbents and temperature-change operating modes.', 'NEW: [1] Heat Transfer Technology: Mentions the transfer of heat between two fluids using heat exchange arrangements.', 'DUP: [1] Engineering: Implied by the use of the term \"method\" and the design of a temperature-change adsorption plant.']\n",
      "--------------------\n"
     ]
    },
    {
     "name": "stderr",
     "output_type": "stream",
     "text": [
      " 29%|██▉       | 288/1000 [12:22<33:28,  2.82s/it]"
     ]
    },
    {
     "name": "stdout",
     "output_type": "stream",
     "text": [
      "Document: 288\n",
      "Topics: ['DUP: [1] Thermal Energy: Mentions a system for generating energy from a confined space using heated air and a turbine. The topic is generalizable and broad enough to accommodate future subtopics related to thermal energy systems and technologies.']\n",
      "--------------------\n"
     ]
    },
    {
     "name": "stderr",
     "output_type": "stream",
     "text": [
      " 29%|██▉       | 289/1000 [12:25<33:54,  2.86s/it]"
     ]
    },
    {
     "name": "stdout",
     "output_type": "stream",
     "text": [
      "Document: 289\n",
      "Topics: ['DUP: [1] Power Systems: Mentions microgrid, overcurrent protection, and voltage controlled overcurrent detector.', 'DUP: [1] Electrical Systems: Mentions voltage, current, and protection device.', 'DUP: [1] Control Systems: Mentions timer and trigger signal.', 'DUP: [1] Engineering Design: Mentions device design and functionality.', 'DUP: [1] Electronics: Mentions voltage controlled overcurrent detector and phase directional detector.', 'DUP: [1] Industrial Automation: Mentions overcurrent protection and control systems.']\n",
      "--------------------\n"
     ]
    },
    {
     "name": "stderr",
     "output_type": "stream",
     "text": [
      " 29%|██▉       | 290/1000 [12:27<31:13,  2.64s/it]"
     ]
    },
    {
     "name": "stdout",
     "output_type": "stream",
     "text": [
      "Document: 290\n",
      "Topics: ['DUP: [1] Marine Technology: Mentions technologies related to bodies of water, including structures designed for aquatic environments.', 'DUP: [1] Structural Design: Mentions the planning and creation of structures, including considerations for weight support and stability.']\n",
      "--------------------\n"
     ]
    },
    {
     "name": "stderr",
     "output_type": "stream",
     "text": [
      " 29%|██▉       | 291/1000 [12:31<33:35,  2.84s/it]"
     ]
    },
    {
     "name": "stdout",
     "output_type": "stream",
     "text": [
      "Document: 291\n",
      "Topics: ['DUP: [1] Solar Energy: Mentions the conversion of solar power into usable energy.', 'NEW: [1] Power Conversion: Mentions the process of changing one form of energy into another.', 'DUP: [1] Photovoltaic Systems: Mentions the conversion of solar energy into electrical energy using photovoltaic cells.', 'NEW: [1] Power Grids: Mentions the interconnected electrical power delivery system that serves a geographic area.', 'NEW: [1] Switchmode Power Conversion: Mentions the conversion of electrical power from one form to another using switching elements.', 'NEW: [1] Impedance Conversion: Mentions the conversion of one form of electrical impedance to another.', 'NEW: [1] Photovoltaic Power Conversion: Mentions the conversion of solar energy into electrical energy using photovoltaic cells.', 'NEW: [1] Efficiency: Mentions the ability to convert energy from one form to another with minimal loss.']\n",
      "--------------------\n"
     ]
    },
    {
     "name": "stderr",
     "output_type": "stream",
     "text": [
      " 29%|██▉       | 292/1000 [12:34<33:59,  2.88s/it]"
     ]
    },
    {
     "name": "stdout",
     "output_type": "stream",
     "text": [
      "Document: 292\n",
      "Topics: ['DUP: [1] Water Treatment: Mentions the process of making water suitable for use by removing impurities.', 'NEW: [1] Desalination: Mentions the process of removing salt and other minerals from seawater to produce fresh water.', 'DUP: [1] Membrane Technology: Mentions the use of membranes to separate substances based on size or charge.', 'NEW: [1] Reverse Osmosis: Mentions a specific type of membrane filtration process used for desalination and water purification.', 'DUP: [1] Engineering Systems: Mentions the design and implementation of systems for various applications.', 'DUP: [1] Pumps: Mentions devices used to move fluids from one place to another.', 'NEW: [1] Pressure Exchangers: Mentions devices used to transfer pressure from one fluid to another.', 'DUP: [1] Energy: Mentions the capability or potential to do work.', 'DUP: [1] Industrial Automation: Mentions the use of control systems and machines to automate industrial processes.']\n",
      "--------------------\n"
     ]
    },
    {
     "name": "stderr",
     "output_type": "stream",
     "text": [
      " 29%|██▉       | 293/1000 [12:36<32:18,  2.74s/it]"
     ]
    },
    {
     "name": "stdout",
     "output_type": "stream",
     "text": [
      "Document: 293\n",
      "Topics: ['DUP: [1] Power Electronics: Mentions switching power regulators and their operation modes.', 'DUP: [1] Control Systems: Mentions monitoring and controlling the output voltage of a switching regulator.', 'DUP: [1] Electrical Systems: Mentions the use of comparators and switches in electrical systems.']\n",
      "--------------------\n"
     ]
    },
    {
     "name": "stderr",
     "output_type": "stream",
     "text": [
      " 29%|██▉       | 294/1000 [12:38<31:12,  2.65s/it]"
     ]
    },
    {
     "name": "stdout",
     "output_type": "stream",
     "text": [
      "Document: 294\n",
      "Topics: ['DUP: [1] Sensor Technology: Mentions the use of sensors in container tracking systems.', 'NEW: [1] Radio Frequency Technology: Mentions the use of radio frequency transceivers in container tracking systems.', 'DUP: [1] Power Management: Mentions the use of power sources and power management in container tracking systems.', 'NEW: [1] Location Tracking: Mentions the acquisition and management of container locations.', 'DUP: [1] Automation: Mentions the use of automated processes in container tracking systems.']\n",
      "--------------------\n"
     ]
    },
    {
     "name": "stderr",
     "output_type": "stream",
     "text": [
      " 30%|██▉       | 295/1000 [12:42<36:03,  3.07s/it]"
     ]
    },
    {
     "name": "stdout",
     "output_type": "stream",
     "text": [
      "Document: 295\n",
      "Topics: ['NEW: [1] Acoustics: Mentions the study of sound and its properties.', 'DUP: [1] Manufacturing: Mentions the process of making products.', 'DUP: [1] Engineering: Mentions the application of scientific, economic, social, and practical knowledge to design, build, and maintain structures, machines, devices, systems, and processes.', 'DUP: [1] Material Processing: Mentions the modification of materials to make them suitable for use.', 'DUP: [1] Insulation Materials: Mentions materials used to prevent the transfer of heat, electricity, or sound.', 'DUP: [1] Control Systems: Mentions systems used to regulate and direct the operation of other systems or processes.', 'DUP: [1] Sensing Systems: Mentions systems used to detect and respond to physical or environmental conditions.', 'DUP: [1] Process Control: Mentions the regulation of industrial processes.', 'DUP: [1] Performance Control: Mentions the regulation of the operation of a machine or system to achieve desired results.', 'DUP: [1] Industrial Automation: Mentions the use of control systems and information technology to automate industrial processes.']\n",
      "--------------------\n"
     ]
    },
    {
     "name": "stderr",
     "output_type": "stream",
     "text": [
      " 30%|██▉       | 296/1000 [12:45<34:57,  2.98s/it]"
     ]
    },
    {
     "name": "stdout",
     "output_type": "stream",
     "text": [
      "Document: 296\n",
      "Topics: ['DUP: [1] Microwave Technology: Mentions the use of microwave energy and technology.', 'NEW: [1] Antennas: Mentions the use of antennas, specifically dielectric resonator antennas.', 'DUP: [1] Electrical Engineering: Mentions the use of electrical components and systems.', 'DUP: [1] Heating Systems: Mentions the use of a heating apparatus.', 'NEW: [1] Solid State Technology: Mentions the use of solid state technology in the microwave energy source.']\n",
      "--------------------\n"
     ]
    },
    {
     "name": "stderr",
     "output_type": "stream",
     "text": [
      " 30%|██▉       | 297/1000 [12:48<33:03,  2.82s/it]"
     ]
    },
    {
     "name": "stdout",
     "output_type": "stream",
     "text": [
      "Document: 297\n",
      "Topics: ['DUP: [1] Semiconductor Technology: Mentions the use of semiconductors in the context of a secondary cell.', 'DUP: [1] Solar Energy: Mentions the possibility of charging energy using light.', 'DUP: [1] Battery Technology: Mentions the development of a secondary cell with increased capacity and cost reduction.', 'DUP: [1] Material Science: Mentions the use of metal oxide semiconductors and their structural change phenomenon.']\n",
      "--------------------\n"
     ]
    },
    {
     "name": "stderr",
     "output_type": "stream",
     "text": [
      " 30%|██▉       | 298/1000 [12:50<32:40,  2.79s/it]"
     ]
    },
    {
     "name": "stdout",
     "output_type": "stream",
     "text": [
      "Document: 298\n",
      "Topics: ['DUP: [1] Communication Technology: Mentions the use of control frames for communication between multiple stations and the introduction of a new mechanism for simultaneous group responses.', 'DUP: [1] Power Management: Mentions the power saving mechanism and the triggering of power saving stations to wake up for receiving control frames and user data frames.']\n",
      "--------------------\n"
     ]
    },
    {
     "name": "stderr",
     "output_type": "stream",
     "text": [
      " 30%|██▉       | 299/1000 [12:55<40:37,  3.48s/it]"
     ]
    },
    {
     "name": "stdout",
     "output_type": "stream",
     "text": [
      "Document: 299\n",
      "Topics: ['DUP: [1] Energy: Mentions the production and consumption of energy.', 'DUP: [1] Engineering: Mentions the application of scientific, economic, social, and practical knowledge to design, build, and maintain structures, machines, devices, systems, and processes.', 'NEW: [1] Heat Exchange: Mentions the transfer of heat energy between two fluids or between a fluid and a solid surface.', 'DUP: [1] Generator Sets: Mentions electrical power generating equipment that includes a prime mover, such as an engine, and an electrical generator.', 'NEW: [1] Waste Heat Recovery: Mentions the process of using waste heat to generate useful thermal energy or electricity.']\n",
      "--------------------\n"
     ]
    },
    {
     "name": "stderr",
     "output_type": "stream",
     "text": [
      " 30%|███       | 300/1000 [12:58<36:27,  3.12s/it]"
     ]
    },
    {
     "name": "stdout",
     "output_type": "stream",
     "text": [
      "Document: 300\n",
      "Topics: ['DUP: [1] Electrical Systems: Mentions the use of electrical loads and conductors.', 'DUP: [1] Engineering Design: Mentions the design of a cover plate.', 'DUP: [1] Material Processing: Mentions the manufacturing of a cover plate.', 'DUP: [1] Mechanical Engineering: Mentions the mechanical components of a cover plate, such as the face plate, back plate, and prong.', 'DUP: [1] Manufacturing: Mentions the process of creating a cover plate.']\n",
      "--------------------\n"
     ]
    },
    {
     "name": "stderr",
     "output_type": "stream",
     "text": [
      " 30%|███       | 301/1000 [13:00<34:07,  2.93s/it]"
     ]
    },
    {
     "name": "stdout",
     "output_type": "stream",
     "text": [
      "Document: 301\n",
      "Topics: ['DUP: [1] Engineering Design: Mentions the design of a valve element for an exhaust-gas turbocharger.', 'DUP: [1] Mechanical Engineering: Mentions the mechanical components of a valve element for an exhaust-gas turbocharger.', 'DUP: [1] Manufacturing: Mentions the production of a valve element for an exhaust-gas turbocharger.', 'DUP: [1] Technology: Mentions the use of a spring element in a valve element for an exhaust-gas turbocharger.']\n",
      "--------------------\n"
     ]
    },
    {
     "name": "stderr",
     "output_type": "stream",
     "text": [
      " 30%|███       | 302/1000 [13:03<32:46,  2.82s/it]"
     ]
    },
    {
     "name": "stdout",
     "output_type": "stream",
     "text": [
      "Document: 302\n",
      "Topics: ['DUP: [1] Control Systems: Mentions the use of control circuits and systems to regulate the operation of other systems.', 'DUP: [1] Electrical Systems: Mentions constant-current drive circuits and their application in electrical systems.', 'DUP: [1] Engineering Design: Mentions the design of control circuits and systems for specific applications.', 'DUP: [1] Power Management: Mentions the management of electrical power and the use of rapid start modes to optimize power usage.']\n",
      "--------------------\n"
     ]
    },
    {
     "name": "stderr",
     "output_type": "stream",
     "text": [
      " 30%|███       | 303/1000 [13:05<32:03,  2.76s/it]"
     ]
    },
    {
     "name": "stdout",
     "output_type": "stream",
     "text": [
      "Document: 303\n",
      "Topics: ['NEW: [1] Hydrogeology: Mentions the study of groundwater and its properties, including salinity, temperature, and flow rate.', 'DUP: [1] Measuring Instruments: Mentions devices used to measure various physical quantities, such as temperature and conductivity.', 'DUP: [1] Drilling Technology: Mentions technologies and equipment used in drilling operations, including tools for measuring reservoir conditions.']\n",
      "--------------------\n"
     ]
    },
    {
     "name": "stderr",
     "output_type": "stream",
     "text": [
      " 30%|███       | 304/1000 [13:09<36:16,  3.13s/it]"
     ]
    },
    {
     "name": "stdout",
     "output_type": "stream",
     "text": [
      "Document: 304\n",
      "Topics: ['NEW: [1] Photodetectors: Sensors used to detect light and convert it into an electrical signal.', 'DUP: [1] Optoelectronics: Study of the interaction between light and electronic materials.', 'DUP: [1] Material Science: Science of the properties and composition of matter.', 'DUP: [1] Sensors: Devices used to detect and measure physical or chemical properties.', 'NEW: [1] Light Detection: Process of detecting and measuring light.', 'DUP: [1] Image Processing: Analysis and manipulation of digital images.', 'NEW: [1] Proportional Control: Control method where the output is proportional to the input.', 'DUP: [1] Electrical Systems: Systems used to convert, distribute, and utilize electrical energy.', 'DUP: [1] Semiconductor Technology: Technology dealing with the manufacture of semiconductor devices.', 'DUP: [1] Optics: Branch of physics dealing with the behavior and properties of light.', 'NEW: [1] Photoelectric Effect: Phenomenon in which light causes the emission of electrons.', 'NEW: [1] Light Sensing: Detection and measurement of light using various methods.', 'NEW: [1] Photoelectric Conversion: Process of converting light energy into electrical energy.', 'NEW: [1] Substrate Technology: Technology dealing with the design and manufacture of substrates.', 'DUP: [1] Surface Science: Study of the']\n",
      "--------------------\n"
     ]
    },
    {
     "name": "stderr",
     "output_type": "stream",
     "text": [
      " 30%|███       | 305/1000 [13:13<38:25,  3.32s/it]"
     ]
    },
    {
     "name": "stdout",
     "output_type": "stream",
     "text": [
      "Document: 305\n",
      "Topics: ['DUP: [1] Manufacturing: Mentions the process of manufacturing a product.', 'DUP: [1] Engineering Design: Mentions the design of an engineering component or system.', 'DUP: [1] Mechanical Engineering: Mentions the application of engineering principles to mechanical systems.', 'DUP: [1] Mechanical Systems: Mentions mechanical components and their functioning.', 'DUP: [1] Industrial Automation: Mentions the use of automated systems in industry.', 'NEW: [1] Pressing Technology: Mentions the process of pressing materials or components.', 'NEW: [1] Printing Technology: Mentions the process of producing printed materials.', 'DUP: [1] Material Processing: Mentions the manipulation of materials to create a desired form or property.']\n",
      "--------------------\n"
     ]
    },
    {
     "name": "stderr",
     "output_type": "stream",
     "text": [
      " 31%|███       | 306/1000 [13:16<37:09,  3.21s/it]"
     ]
    },
    {
     "name": "stdout",
     "output_type": "stream",
     "text": [
      "Document: 306\n",
      "Topics: ['DUP: [1] Engineering: Mentions processes and methods for refining ferronickel alloy.', 'DUP: [1] Material Processing: Mentions treating ferronickel alloy with an oxidizing leach and producing nickel sulfate or other nickel product.', 'DUP: [1] Metallurgy: Mentions producing nickel sulfate from ferronickel alloy and the presence of added copper.', 'DUP: [1] Chemical Processing: Mentions removing impurities and crystallizing nickel sulfate or precipitating/winning another nickel product.']\n",
      "--------------------\n"
     ]
    },
    {
     "name": "stderr",
     "output_type": "stream",
     "text": [
      " 31%|███       | 307/1000 [13:20<39:03,  3.38s/it]"
     ]
    },
    {
     "name": "stdout",
     "output_type": "stream",
     "text": [
      "Document: 307\n",
      "Topics: ['NEW: [1] Phosphors: Mentions the emission of light from certain materials when excited.', 'DUP: [1] Material Science: Mentions the study of the properties and composition of matter.', 'NEW: [1] Semiconductors: Mentions materials that conduct electricity under certain conditions.', 'NEW: [1] Nitrides: Mentions compounds of nitrogen and another element.', 'NEW: [1] Silicon Compounds: Mentions compounds containing silicon.', 'NEW: [1] Spectroscopy: Mentions the study of the interaction between electromagnetic radiation and matter.', 'NEW: [1] Light Emitting Materials: Mentions materials that emit light when stimulated.', 'NEW: [1] Excitation Sources: Mentions devices that provide energy to excite other materials.', 'NEW: [1] Blue Light: Mentions light in the blue part of the electromagnetic spectrum.']\n",
      "--------------------\n"
     ]
    },
    {
     "name": "stderr",
     "output_type": "stream",
     "text": [
      " 31%|███       | 308/1000 [13:22<36:15,  3.14s/it]"
     ]
    },
    {
     "name": "stdout",
     "output_type": "stream",
     "text": [
      "Document: 308\n",
      "Topics: ['NEW: [1] Supercritical Fluids: Refers to fluids that exhibit properties of both gases and liquids under certain conditions.', 'DUP: [1] Power Generation: Involves the production and sale of electricity.', 'NEW: [1] Fluids: Generally refers to liquids and gases.', 'NEW: [1] Recuperation: Process of recovering or regaining something, especially energy.', 'DUP: [1] Energy: Refers to the ability or capacity to do work.', 'NEW: [1] Systems: Collection of interacting components organized to achieve one or more goals.']\n",
      "--------------------\n"
     ]
    },
    {
     "name": "stderr",
     "output_type": "stream",
     "text": [
      " 31%|███       | 309/1000 [13:25<33:21,  2.90s/it]"
     ]
    },
    {
     "name": "stdout",
     "output_type": "stream",
     "text": [
      "Document: 309\n",
      "Topics: ['DUP: [1] Gas Technology: Mentions gas concentrating systems.', 'DUP: [1] Display Technology: Mentions displays and illuminable segments.', 'DUP: [1] Engineering Controls: Mentions system status and alarms.', 'DUP: [1] Sensor Technology: Mentions reading oxygen values.']\n",
      "--------------------\n"
     ]
    },
    {
     "name": "stderr",
     "output_type": "stream",
     "text": [
      " 31%|███       | 310/1000 [13:27<32:32,  2.83s/it]"
     ]
    },
    {
     "name": "stdout",
     "output_type": "stream",
     "text": [
      "Document: 310\n",
      "Topics: ['NEW: [1] Context Aware Systems: Systems that can determine and respond to the context in which they are used.', 'DUP: [1] Electronic Devices: Devices that use electronic components to process information.', 'NEW: [1] Input Data: Data provided to a system through user interaction or sensors.', 'NEW: [1] Hand Context: Context based on the hand or hands used to interact with electronic devices.']\n",
      "--------------------\n"
     ]
    },
    {
     "name": "stderr",
     "output_type": "stream",
     "text": [
      " 31%|███       | 311/1000 [13:30<32:32,  2.83s/it]"
     ]
    },
    {
     "name": "stdout",
     "output_type": "stream",
     "text": [
      "Document: 311\n",
      "Topics: ['DUP: [1] Hybrid Vehicles: Mentions vehicles that use a combination of electric and internal combustion engines.', 'NEW: [1] Driving Control: Mentions methods used to operate a vehicle.', 'DUP: [1] Electric Motors: Mentions motors that convert electrical energy into mechanical energy.', 'NEW: [1] Engines: Mentions machines used to convert fuel into mechanical energy.', 'NEW: [1] Pedals: Mentions controls used to operate vehicles.', 'NEW: [1] Acceleration: Mentions increasing the speed of a vehicle.', 'NEW: [1] Deceleration: Mentions slowing down or stopping a vehicle.', 'NEW: [1] Regenerative Braking: Mentions using the energy generated during braking to recharge a battery.']\n",
      "--------------------\n"
     ]
    },
    {
     "name": "stderr",
     "output_type": "stream",
     "text": [
      " 31%|███       | 312/1000 [13:33<33:17,  2.90s/it]"
     ]
    },
    {
     "name": "stdout",
     "output_type": "stream",
     "text": [
      "Document: 312\n",
      "Topics: ['DUP: [1] Power Management: Mentions the conservation and efficient use of power in devices.', 'NEW: [1] Proximity Sensing: Mentions the detection of the presence or proximity of objects.', 'NEW: [1] Power Consumption: Mentions the use of power by devices and systems.', 'NEW: [1] Conditions: Mentions specific circumstances or states that can influence the operation of devices or systems.', 'NEW: [1] Modes: Mentions different operating states or configurations of devices or systems.', 'NEW: [1] Wireless Technology: Mentions the use of wireless communication for data transfer or device interaction.']\n",
      "--------------------\n"
     ]
    },
    {
     "name": "stderr",
     "output_type": "stream",
     "text": [
      " 31%|███▏      | 313/1000 [13:36<31:49,  2.78s/it]"
     ]
    },
    {
     "name": "stdout",
     "output_type": "stream",
     "text": [
      "Document: 313\n",
      "Topics: ['DUP: [1] Lighting Technology: Mentions the use of OLED lighting sheet as a light source and the design of a multipurpose assistance lamp.']\n",
      "--------------------\n"
     ]
    },
    {
     "name": "stderr",
     "output_type": "stream",
     "text": [
      " 31%|███▏      | 314/1000 [13:38<31:02,  2.71s/it]"
     ]
    },
    {
     "name": "stdout",
     "output_type": "stream",
     "text": [
      "Document: 314\n",
      "Topics: ['DUP: [1] Chemical Processing: Mentions the conversion of one substance into another through chemical reactions.', 'NEW: [1] Carboxylic Acids: Mentions organic compounds containing a carboxyl group (-COOH).', 'NEW: [1] Oxidation Processes: Mentions the addition of oxygen to a substance to produce a new compound.']\n",
      "--------------------\n"
     ]
    },
    {
     "name": "stderr",
     "output_type": "stream",
     "text": [
      " 32%|███▏      | 315/1000 [13:42<34:20,  3.01s/it]"
     ]
    },
    {
     "name": "stdout",
     "output_type": "stream",
     "text": [
      "Document: 315\n",
      "Topics: ['NEW: [1] Misting Systems: Systems used to disperse a fine mist of water or other liquids.', 'DUP: [1] Housing: Enclosure for protecting mechanical components.', 'NEW: [1] Fan Technology: Devices used to create airflow.', 'DUP: [1] Apertures: Openings or holes in a material.', 'NEW: [1] Nozzles: Devices for dispensing fluids.', 'DUP: [1] Cap Technology: Technology related to the design and function of caps.', 'NEW: [1] Channels: Conduits for transporting fluids or gases.', 'DUP: [1] Geometry: Study of shape and size.', 'DUP: [1] Material Science: Science of materials and their properties.']\n",
      "--------------------\n"
     ]
    },
    {
     "name": "stderr",
     "output_type": "stream",
     "text": [
      " 32%|███▏      | 316/1000 [13:44<31:31,  2.77s/it]"
     ]
    },
    {
     "name": "stdout",
     "output_type": "stream",
     "text": [
      "Document: 316\n",
      "Topics: ['DUP: [1] Fuel Injection: Mentions the process of introducing fuel into an engine.', 'DUP: [1] Engine Control: Mentions systems used to manage engine operations.']\n",
      "--------------------\n"
     ]
    },
    {
     "name": "stderr",
     "output_type": "stream",
     "text": [
      " 32%|███▏      | 317/1000 [13:47<31:28,  2.76s/it]"
     ]
    },
    {
     "name": "stdout",
     "output_type": "stream",
     "text": [
      "Document: 317\n",
      "Topics: ['DUP: [1] Chemical Processing: Mentions the application of chemicals in industrial processes.', 'NEW: [1] Mining: Mentions the process of extracting minerals from the earth.', 'NEW: [1] Polyols: Mentions organic compounds with multiple alcohol functional groups.', 'NEW: [1] Stabilization: Mentions the process of preventing or reducing the tendency of a system to change or react.', 'NEW: [1] Bauxite: Mentions a mineral from which aluminum is extracted.', 'NEW: [1] Alumina: Mentions a compound of aluminum oxide and oxygen.']\n",
      "--------------------\n"
     ]
    },
    {
     "name": "stderr",
     "output_type": "stream",
     "text": [
      " 32%|███▏      | 318/1000 [13:50<33:35,  2.96s/it]"
     ]
    },
    {
     "name": "stdout",
     "output_type": "stream",
     "text": [
      "Document: 318\n",
      "Topics: ['DUP: [1] Power Electronics: Mentions the design and implementation of electronic circuits that control the flow of electrical power.', 'DUP: [1] Electrical Systems: Mentions the components and principles of systems that use electrical power.', 'DUP: [1] Inductors: Mentions passive electrical components that store energy in a magnetic field when electric current passes through them.', 'DUP: [1] Capacitors: Mentions passive electrical components that store energy in an electric field when electric voltage is applied across them.', 'DUP: [1] Circuit Design: Mentions the process of designing and planning the layout of electronic circuits.', 'DUP: [1] Electrical Engineering: Mentions the application of scientific, engineering, and mathematical principles to design, develop, and maintain electrical systems.', 'DUP: [1] Energy Storage: Mentions the methods and technologies used to store electrical energy for later use.', 'DUP: [1] Power Conversion: Mentions the process of converting electrical power from one form to another, such as AC to DC or DC to AC.', 'NEW: [1] Electrical Machinery: Mentions the design, construction, and operation of machines that use electrical power, such as motors and generators.', 'NEW: [1] Electrical Circuits: Mentions the flow of electric charge through a conductive path, and the components that control or influence that flow.']\n",
      "--------------------\n"
     ]
    },
    {
     "name": "stderr",
     "output_type": "stream",
     "text": [
      " 32%|███▏      | 319/1000 [13:53<30:53,  2.72s/it]"
     ]
    },
    {
     "name": "stdout",
     "output_type": "stream",
     "text": [
      "Document: 319\n",
      "Topics: ['DUP: [1] Manufacturing: Mentions a process for producing goods, specifically the deposition of grit particles onto a fan blade tip coating.', 'DUP: [1] Material Processing: Mentions the modification of materials, in this case softening a coating surface for improved grit capture.']\n",
      "--------------------\n"
     ]
    },
    {
     "name": "stderr",
     "output_type": "stream",
     "text": [
      " 32%|███▏      | 320/1000 [13:56<32:02,  2.83s/it]"
     ]
    },
    {
     "name": "stdout",
     "output_type": "stream",
     "text": [
      "Document: 320\n",
      "Topics: ['DUP: [1] Additive Manufacturing: Mentions the process of creating three-dimensional objects by adding material layer by layer.', 'DUP: [1] Manufacturing: Mentions the production of goods through a planned process.', 'DUP: [1] Geometry: Mentions the mathematical description of the shape of an object.', 'NEW: [1] Solid Objects: Mentions three-dimensional objects that have mass and occupy space.', 'DUP: [1] Engineering: Mentions the application of scientific, economic, social, and practical knowledge to design, build, and maintain structures, machines, devices, systems, and processes.']\n",
      "--------------------\n"
     ]
    },
    {
     "name": "stderr",
     "output_type": "stream",
     "text": [
      " 32%|███▏      | 321/1000 [13:58<29:40,  2.62s/it]"
     ]
    },
    {
     "name": "stdout",
     "output_type": "stream",
     "text": [
      "Document: 321\n",
      "Topics: ['DUP: [1] Battery Technology: Mentions the development of a nonaqueous lithium-type power storage element.']\n",
      "--------------------\n"
     ]
    },
    {
     "name": "stderr",
     "output_type": "stream",
     "text": [
      " 32%|███▏      | 322/1000 [14:01<31:52,  2.82s/it]"
     ]
    },
    {
     "name": "stdout",
     "output_type": "stream",
     "text": [
      "Document: 322\n",
      "Topics: ['DUP: [1] Gas Technology: Mentions the use and application of gases, including gas turbine engines.', 'DUP: [1] Engineering Design: Mentions the design and development of engineering systems, including epicyclic gearboxes.', 'DUP: [1] Mechanical Engineering: Mentions the application of physical principles, including the design and manufacturing of mechanical components such as gearboxes.', 'DUP: [1] Manufacturing: Mentions the production of goods, including the manufacturing of mechanical components such as gearboxes.', 'DUP: [1] Technology: Mentions the application of scientific knowledge for practical purposes, including the development of gas turbine engines and gearboxes.']\n",
      "--------------------\n"
     ]
    },
    {
     "name": "stderr",
     "output_type": "stream",
     "text": [
      " 32%|███▏      | 323/1000 [14:03<29:05,  2.58s/it]"
     ]
    },
    {
     "name": "stdout",
     "output_type": "stream",
     "text": [
      "Document: 323\n",
      "Topics: ['DUP: [1] Battery Technology: Mentions secondary batteries and their protection apparatus.', 'DUP: [1] Control Systems: Mentions a control system and its components, including a balance control circuit.']\n",
      "--------------------\n"
     ]
    },
    {
     "name": "stderr",
     "output_type": "stream",
     "text": [
      " 32%|███▏      | 324/1000 [14:05<27:59,  2.49s/it]"
     ]
    },
    {
     "name": "stdout",
     "output_type": "stream",
     "text": [
      "Document: 324\n",
      "Topics: ['DUP: [1] Communication Technology: Mentions the use of communication devices and wireless communication.', 'DUP: [1] Sensor Technology: Mentions the use of a detection unit and image capturing.', 'DUP: [1] Wireless Communications: Mentions the use of a first wireless communication unit.']\n",
      "--------------------\n"
     ]
    },
    {
     "name": "stderr",
     "output_type": "stream",
     "text": [
      " 32%|███▎      | 325/1000 [14:08<28:07,  2.50s/it]"
     ]
    },
    {
     "name": "stdout",
     "output_type": "stream",
     "text": [
      "Document: 325\n",
      "Topics: ['DUP: [1] Turbine Technology: Mentions turbine blades and their components, including cooling systems and heat shields.']\n",
      "--------------------\n"
     ]
    },
    {
     "name": "stderr",
     "output_type": "stream",
     "text": [
      " 33%|███▎      | 326/1000 [14:10<28:04,  2.50s/it]"
     ]
    },
    {
     "name": "stdout",
     "output_type": "stream",
     "text": [
      "Document: 326\n",
      "Topics: ['DUP: [1] Communication Technology: Mentions the use of cellular transceivers and communication networks.', 'DUP: [1] Lighting and Climate Control: Mentions lighting devices.']\n",
      "--------------------\n"
     ]
    },
    {
     "name": "stderr",
     "output_type": "stream",
     "text": [
      " 33%|███▎      | 327/1000 [14:13<26:31,  2.37s/it]"
     ]
    },
    {
     "name": "stdout",
     "output_type": "stream",
     "text": [
      "Document: 327\n",
      "Topics: ['DUP: [1] Anaerobic and Anoxic Technologies: Mentions technologies used in the absence of oxygen for the breakdown of organic matter in wastewater treatment.']\n",
      "--------------------\n"
     ]
    },
    {
     "name": "stderr",
     "output_type": "stream",
     "text": [
      " 33%|███▎      | 328/1000 [14:16<29:13,  2.61s/it]"
     ]
    },
    {
     "name": "stdout",
     "output_type": "stream",
     "text": [
      "Document: 328\n",
      "Topics: ['DUP: [1] Battery Technology: Mentions intelligent battery charging management and high capacity batteries.', 'DUP: [1] Energy: Mentions battery life and charging efficiency.', 'DUP: [1] Automotive Technology: Mentions vehicle battery.', 'DUP: [1] Engineering Controls: Mentions limiting battery charging based on temperature and battery health.', 'DUP: [1] Power Management: Mentions managing battery charging to improve efficiency.', 'DUP: [1] Sensor Technology: Mentions learning driving habits and user input.', 'DUP: [1] Telemetry Systems: Mentions determining expected vehicle travel distance.', 'DUP: [1] Performance Control: Mentions controlling charging based on battery temperature and delta SOC.', 'DUP: [1] Industrial Automation: Mentions managing battery charging for high capacity batteries.']\n",
      "--------------------\n"
     ]
    },
    {
     "name": "stderr",
     "output_type": "stream",
     "text": [
      " 33%|███▎      | 329/1000 [14:19<32:33,  2.91s/it]"
     ]
    },
    {
     "name": "stdout",
     "output_type": "stream",
     "text": [
      "Document: 329\n",
      "Topics: ['DUP: [1] Nuclear Technology: Mentions the use of nuclear reactors and related technologies.', 'DUP: [1] Material Science: Mentions the use of sacrificial materials and their properties.', 'NEW: [1] Containment Systems: Mentions systems used to contain materials or substances.', 'DUP: [1] Energy: Mentions the use of nuclear energy.', 'DUP: [1] Reactor Technology: Mentions the technology used in nuclear reactors.', 'NEW: [1] Accidents and Emergencies: Mentions the prevention or mitigation of accidents or emergencies.', 'DUP: [1] Cooling Systems: Mentions systems used to cool materials or substances.', 'NEW: [1] Solidification: Mentions the process of turning a liquid into a solid.', 'NEW: [1] Decomposition: Mentions the breaking down of a substance into simpler components.', 'NEW: [1] Endothermic Reactions: Mentions reactions that absorb heat from their surroundings.']\n",
      "--------------------\n"
     ]
    },
    {
     "name": "stderr",
     "output_type": "stream",
     "text": [
      " 33%|███▎      | 330/1000 [14:22<30:24,  2.72s/it]"
     ]
    },
    {
     "name": "stdout",
     "output_type": "stream",
     "text": [
      "Document: 330\n",
      "Topics: ['DUP: [1] Technology: Mentions the use of apparatus and methods.', 'DUP: [1] Electrical Systems: Mentions electric voltage and electric fields.', 'DUP: [1] Engineering: Mentions design of apparatus and methods.', 'DUP: [1] Material Science: Mentions field-enhancement devices and materials with field-enhancing properties.', 'DUP: [1] Nanotechnology: Mentions a distance less than 5000 nm.']\n",
      "--------------------\n"
     ]
    },
    {
     "name": "stderr",
     "output_type": "stream",
     "text": [
      " 33%|███▎      | 331/1000 [14:24<29:59,  2.69s/it]"
     ]
    },
    {
     "name": "stdout",
     "output_type": "stream",
     "text": [
      "Document: 331\n",
      "Topics: ['DUP: [1] Acoustics: Mentions the study of sound and its properties.', 'DUP: [1] Signal Processing: Mentions the analysis, manipulation, and transmission of signals.', 'NEW: [1] Ultrasonic Technology: Mentions the use of high-frequency sound waves.', 'NEW: [1] Measurement Technology: Mentions the determination of physical quantities.']\n",
      "--------------------\n"
     ]
    },
    {
     "name": "stderr",
     "output_type": "stream",
     "text": [
      " 33%|███▎      | 332/1000 [14:27<29:33,  2.65s/it]"
     ]
    },
    {
     "name": "stdout",
     "output_type": "stream",
     "text": [
      "Document: 332\n",
      "Topics: ['DUP: [1] Communication Technology: Mentions a communication network and radio network node.', 'DUP: [1] Engineering Design: Mentions scheduling and determination of traffic load.', 'DUP: [1] Technology: Mentions a method and disclosed technology.', 'DUP: [1] Wireless Communications: Mentions Traffic Indication Map beacons in a wireless communication network.']\n",
      "--------------------\n"
     ]
    },
    {
     "name": "stderr",
     "output_type": "stream",
     "text": [
      " 33%|███▎      | 333/1000 [14:29<27:28,  2.47s/it]"
     ]
    },
    {
     "name": "stdout",
     "output_type": "stream",
     "text": [
      "Document: 333\n",
      "Topics: ['DUP: [1] Electrical Systems: Mentions the use of electrical systems, specifically dynamoelectric machines.', 'DUP: [1] Control Systems: Mentions the use of control systems, specifically window comparators and their comparator windows.']\n",
      "--------------------\n"
     ]
    },
    {
     "name": "stderr",
     "output_type": "stream",
     "text": [
      " 33%|███▎      | 334/1000 [14:32<29:52,  2.69s/it]"
     ]
    },
    {
     "name": "stdout",
     "output_type": "stream",
     "text": [
      "Document: 334\n",
      "Topics: ['DUP: [1] Manufacturing: Mentions the production of a stowage bin assembly.', 'DUP: [1] Mechanical Engineering: Mentions the design and construction of the stowage bin assembly, including the bin bucket assembly, hinge assembly, and stowage bin door.', 'DUP: [1] Engineering Design: Mentions the design process for creating the stowage bin assembly.', 'DUP: [1] Material Processing: Mentions the manufacturing process for creating the components of the stowage bin assembly.', 'NEW: [1] Hinges: Mentions a specific type of component used in the stowage bin assembly.', 'NEW: [1] Doors: Mentions a specific type of component used in the stowage bin assembly.', 'NEW: [1] Bin Assemblies: Mentions a specific type of component used in the stowage bin assembly.', 'DUP: [1] Engineering Controls: Mentions the use of hinges as a control mechanism for the stowage bin door.', 'DUP: [1] Mechanical Systems: Mentions the mechanical components and systems used in the stowage bin assembly.']\n",
      "--------------------\n"
     ]
    },
    {
     "name": "stderr",
     "output_type": "stream",
     "text": [
      " 34%|███▎      | 335/1000 [14:35<30:07,  2.72s/it]"
     ]
    },
    {
     "name": "stdout",
     "output_type": "stream",
     "text": [
      "Document: 335\n",
      "Topics: ['DUP: [1] Aerospace Engineering: Mentions aircraft propulsor and its components, including fan cowl and tangential restraints.', 'DUP: [1] Engineering Design: Mentions systems and methods for designing an aircraft propulsor with a fan cowl and tangential restraints.', \"DUP: [1] Material Science: Mentions the fan cowl's ability to receive a load and the conversion of bending load to membrane tension.\", \"DUP: [1] Mechanical Engineering: Mentions the fan cowl's ability to withstand bending loads and the use of tangential restraints to decrease deflection.\", 'NEW: [1] Propulsion Systems: Mentions the aircraft propulsor and its ability to convert bending loads to membrane tension.']\n",
      "--------------------\n"
     ]
    },
    {
     "name": "stderr",
     "output_type": "stream",
     "text": [
      " 34%|███▎      | 336/1000 [14:39<35:18,  3.19s/it]"
     ]
    },
    {
     "name": "stdout",
     "output_type": "stream",
     "text": [
      "Document: 336\n",
      "Topics: ['DUP: [1] Engineering Design: Mentions the process of creating new products or systems using scientific, economic, social, and practical knowledge.', 'DUP: [1] Mechanical Engineering: Mentions the application of physical principles, especially those relating to motion, energy, and force, to design, build, and maintain mechanical systems.', 'DUP: [1] Turbines: Mentions rotary engines that extract heat energy from a fluid flow and convert it into mechanical energy.', 'NEW: [1] Containment Structures: Mentions structures designed to enclose, protect, or confine substances, materials, or energy.', 'DUP: [1] Housing: Mentions a structure that provides shelter, protection, or containment for people, animals, or things.', 'NEW: [1] Rotational Axes: Mentions a line about which a body rotates.', 'NEW: [1] Blades: Mentions thin, flat structures used to cut through a fluid or gas, or to provide lift or thrust.']\n",
      "--------------------\n"
     ]
    },
    {
     "name": "stderr",
     "output_type": "stream",
     "text": [
      " 34%|███▎      | 337/1000 [14:42<33:58,  3.07s/it]"
     ]
    },
    {
     "name": "stdout",
     "output_type": "stream",
     "text": [
      "Document: 337\n",
      "Topics: ['DUP: [1] Lighting and Climate Control: Mentions intelligent lighting control systems and automated lighting adjustments.', 'DUP: [1] Control Systems: Mentions a control module and its ability to receive signals and transmit electrical energy.', 'NEW: [1] Alarm Systems: Mentions the receipt of an alarm signal.', 'DUP: [1] Electrical Systems: Mentions the transmission of electrical energy and the connection of a lighting circuit to a lighting control module.']\n",
      "--------------------\n"
     ]
    },
    {
     "name": "stderr",
     "output_type": "stream",
     "text": [
      " 34%|███▍      | 338/1000 [14:45<34:05,  3.09s/it]"
     ]
    },
    {
     "name": "stdout",
     "output_type": "stream",
     "text": [
      "Document: 338\n",
      "Topics: ['NEW: [1] Data Management: Mentions the storage and management of data, including databases and data migration.', 'NEW: [1] Distributed Systems: Mentions systems where components are distributed across multiple nodes or locations.', 'DUP: [1] Process Control: Mentions the regulation of industrial processes.', 'NEW: [1] High Availability: Mentions systems designed to ensure continuous operation.', 'DUP: [1] Algorithms: Mentions mathematical methods for solving problems.', 'NEW: [1] Dead Time Mitigation: Mentions techniques for reducing the time delay between input and output in a system.', 'NEW: [1] Compute Nodes: Mentions computing devices that can perform tasks.', 'NEW: [1] Fieldbus Modules: Mentions devices for transmitting data between controllers and field devices.']\n",
      "--------------------\n"
     ]
    },
    {
     "name": "stderr",
     "output_type": "stream",
     "text": [
      " 34%|███▍      | 339/1000 [14:49<37:52,  3.44s/it]"
     ]
    },
    {
     "name": "stdout",
     "output_type": "stream",
     "text": [
      "Document: 339\n",
      "Topics: ['DUP: [1] Display Technology: Mentions the technology used to produce and view visual content.', 'DUP: [1] Electrical Systems: Mentions the use of electrical components and systems.', 'DUP: [1] Semiconductor Technology: Mentions the use of semiconductors in electronic devices.', 'DUP: [1] Material Processing: Mentions the processing of materials for various applications.', 'DUP: [1] Manufacturing: Mentions the production of goods through a planned process.', 'DUP: [1] Engineering: Mentions the application of scientific, economic, social, and practical knowledge to design, build, and maintain structures, machines, devices, systems, and processes.', 'DUP: [1] Optoelectronics: Mentions the study and application of the interrelationships between optics and electronics.', 'DUP: [1] Optics: Mentions the study of the properties and behavior of light, including its interaction with matter and the design and application of optical systems.', 'NEW: [1] Scanning Technology: Mentions the use of scanning techniques to acquire, process, and transmit data.', 'DUP: [1] Electrical Engineering: Mentions the application of engineering principles to the design, development, and testing of electrical systems and components.', 'DUP: [1] Control Systems: Mentions the use of systems to regulate, direct, or automate processes.']\n",
      "--------------------\n"
     ]
    },
    {
     "name": "stderr",
     "output_type": "stream",
     "text": [
      " 34%|███▍      | 340/1000 [14:52<34:26,  3.13s/it]"
     ]
    },
    {
     "name": "stdout",
     "output_type": "stream",
     "text": [
      "Document: 340\n",
      "Topics: ['NEW: [1] Power Regeneration: Mentions devices that convert power from one form to another.', 'DUP: [1] Electrical Systems: Mentions systems used to distribute or control electricity.', 'DUP: [1] Power Conversion: Mentions processes or devices that change electrical power from one form to another.', 'DUP: [1] Engine Technology: Mentions internal combustion engines or related technology.', 'DUP: [1] Control Systems: Mentions systems used to manage or regulate processes or devices.']\n",
      "--------------------\n"
     ]
    },
    {
     "name": "stderr",
     "output_type": "stream",
     "text": [
      " 34%|███▍      | 341/1000 [14:55<33:18,  3.03s/it]"
     ]
    },
    {
     "name": "stdout",
     "output_type": "stream",
     "text": [
      "Document: 341\n",
      "Topics: ['NEW: [1] Pharmaceuticals: Mentions the development and use of drugs and medicines.', 'NEW: [1] Cannabinoids: Mentions specific compounds found in the cannabis plant and their uses.', \"NEW: [1] Inflammation: Mentions the body's response to injury or infection.\", 'NEW: [1] Chronic Diseases: Mentions long-term health conditions.']\n",
      "--------------------\n"
     ]
    },
    {
     "name": "stderr",
     "output_type": "stream",
     "text": [
      " 34%|███▍      | 342/1000 [14:57<32:46,  2.99s/it]"
     ]
    },
    {
     "name": "stdout",
     "output_type": "stream",
     "text": [
      "Document: 342\n",
      "Topics: ['NEW: [1] Wastewater Treatment: Mentions the process of removing contaminants from wastewater.', 'NEW: [1] Sequencing Batch Reactor: Mentions a type of wastewater treatment process where batches of wastewater are treated in sequence.', 'NEW: [1] Anoxic Mode: Mentions a condition in which oxygen is supplied at a level insufficient to meet the biological oxygen demand, but sufficient to cause nitrification and denitrification reactions.', 'NEW: [1] Nitrification: Mentions the biological process of converting ammonia to nitrite and nitrate.', 'NEW: [1] Denitrification: Mentions the biological process of converting nitrate to nitrogen gas.']\n",
      "--------------------\n"
     ]
    },
    {
     "name": "stderr",
     "output_type": "stream",
     "text": [
      " 34%|███▍      | 343/1000 [15:01<35:59,  3.29s/it]"
     ]
    },
    {
     "name": "stdout",
     "output_type": "stream",
     "text": [
      "Document: 343\n",
      "Topics: ['DUP: [1] Chemical Processing: Mentions the transformation of one substance into another through chemical reactions.', 'DUP: [1] Organic Chemistry: Mentions the study of carbon-containing compounds.', 'DUP: [1] Catalysis: Mentions the use of substances to increase the rate of a chemical reaction without being consumed in the process.', 'NEW: [1] Synthesis: Mentions the production of a substance by combining simpler substances.', 'DUP: [1] Pharmaceuticals: Mentions drugs or medicines.', 'NEW: [1] Agrochemicals: Mentions chemicals used in agriculture.', 'NEW: [1] Glufosinate: Mentions a specific chemical compound.', 'NEW: [1] Analogues: Mentions similar but not identical substances.', 'NEW: [1] Methods: Mentions procedures or techniques for accomplishing a task.', 'NEW: [1] Patents: Mentions legal rights granted to inventors.', 'NEW: [1] Organic Synthesis: Mentions the production of organic compounds through chemical reactions.', 'NEW: [1] Industrial Chemistry: Mentions the large-scale production of chemicals.', 'NEW: [1] Chemical Engineering: Mentions the application of chemistry, biology, and engineering principles to produce chemicals.', 'NEW: [1] Organic Synthetic Chemistry: Mentions the synthesis of organic compounds.']\n",
      "--------------------\n"
     ]
    },
    {
     "name": "stderr",
     "output_type": "stream",
     "text": [
      " 34%|███▍      | 344/1000 [15:04<34:12,  3.13s/it]"
     ]
    },
    {
     "name": "stdout",
     "output_type": "stream",
     "text": [
      "Document: 344\n",
      "Topics: ['NEW: [1] Cryogenics: Mentions the study and application of extremely low temperatures, specifically the use of liquid nitrogen for cooling superconductive cables.', 'DUP: [1] Engineering: Mentions the design and implementation of a cooling plant for superconductive cables.', 'NEW: [1] Insulation: Mentions the use of vacuum insulation in the cooling agent supply system.', 'DUP: [1] Materials Science: Mentions the properties and behavior of superconductive cables and the use of liquid nitrogen as a cooling agent.', 'NEW: [1] Thermodynamics: Mentions the principles of cooling and temperature control in the context of superconductive cables.', 'DUP: [1] Technology: Mentions the development and application of a method for cooling superconductive cables using liquid nitrogen.']\n",
      "--------------------\n"
     ]
    },
    {
     "name": "stderr",
     "output_type": "stream",
     "text": [
      " 34%|███▍      | 345/1000 [15:08<35:44,  3.27s/it]"
     ]
    },
    {
     "name": "stdout",
     "output_type": "stream",
     "text": [
      "Document: 345\n",
      "Topics: ['DUP: [1] Engineering: Mentions the design, development, and application of engines and mechanical systems.', 'DUP: [1] Mechanical Engineering: Specifically mentions mechanical components and systems, including engines and turbines.', 'DUP: [1] Turbochargers: Refers to a specific type of mechanical engineering component used to increase engine performance.', 'DUP: [1] Variable Geometry Turbochargers: A more specific type of turbocharger that can adjust the geometry of its components to optimize performance.', 'DUP: [1] Gas Technology: Mentions the use of gases, particularly in the context of engine systems.', 'DUP: [1] Cooling Systems: Refers to systems used to regulate temperature, specifically in the context of the cooling gas passage mentioned in the document.', 'DUP: [1] Thermodynamics: Implicitly mentioned as the underlying principle behind the operation of the turbocharger and cooling systems.']\n",
      "--------------------\n"
     ]
    },
    {
     "name": "stderr",
     "output_type": "stream",
     "text": [
      " 35%|███▍      | 346/1000 [15:10<32:07,  2.95s/it]"
     ]
    },
    {
     "name": "stdout",
     "output_type": "stream",
     "text": [
      "Document: 346\n",
      "Topics: ['DUP: [1] Composite Materials: Mentions the use of composite materials, specifically carbon fiber-reinforced plastic and fiber-reinforced plastic.', 'DUP: [1] Wind Energy: Mentions wind turbines and wind energy technology.']\n",
      "--------------------\n"
     ]
    },
    {
     "name": "stderr",
     "output_type": "stream",
     "text": [
      " 35%|███▍      | 347/1000 [15:14<34:24,  3.16s/it]"
     ]
    },
    {
     "name": "stdout",
     "output_type": "stream",
     "text": [
      "Document: 347\n",
      "Topics: ['NEW: [1] Induction Heating: Mentions the process of heating an object using an electromagnetic field.', 'NEW: [1] Heating Devices: Mentions various types of devices used for heating purposes.', 'NEW: [1] Electromagnetic Systems: Mentions systems that use electromagnetic fields for various applications.', 'DUP: [1] Control Systems: Mentions systems used to manage, direct, and regulate other systems or processes.', 'DUP: [1] Lighting Technology: Mentions technologies related to producing light.', 'NEW: [1] Sensors and Indicators: Mentions devices used to detect and measure various physical properties and provide visual or other indications.', 'DUP: [1] Electrical Systems: Mentions systems used to generate, distribute, and utilize electrical energy.', 'DUP: [1] Manufacturing: Mentions the process of producing goods, typically through the use of machinery, tools, or labor.']\n",
      "--------------------\n"
     ]
    },
    {
     "name": "stderr",
     "output_type": "stream",
     "text": [
      " 35%|███▍      | 348/1000 [15:18<36:58,  3.40s/it]"
     ]
    },
    {
     "name": "stdout",
     "output_type": "stream",
     "text": [
      "Document: 348\n",
      "Topics: ['DUP: [1] Digital Signal Processing: Processing of signals using digital techniques.', 'DUP: [1] Control Systems: Systems used to regulate and direct the operation of other systems or processes.', 'DUP: [1] Electrical Engineering: Engineering discipline dealing with the study and application of electricity, electronics, and electromagnetism.', 'DUP: [1] Signal Transmission: Transmission of signals from one place to another.', 'DUP: [1] Data Communication: Transmission of digital data between two or more devices.', 'DUP: [1] Computer Systems: Systems used to process, store, and communicate digital information.', 'DUP: [1] Engineering Design: Process of creating new products or systems using the principles of engineering.', 'DUP: [1] Measurement Technology: Technology used to measure various physical quantities.', 'DUP: [1] Sensors and Indicators: Devices used to detect and measure physical or environmental conditions.', 'NEW: [1] Electromagnetism: Branch of physics dealing with the study of electromagnetic fields and their interactions with matter.', 'DUP: [1] Process Control: Automated control of industrial processes.', 'DUP: [1] Performance Control: Control of the operation of a system to achieve desired performance levels.', 'DUP: [1] Limit Control: Control of a system to prevent it from exceeding certain limits.', 'DUP: [1] Industrial Automation: Use of control systems and other automation technologies in industrial processes.', 'DUP: [1] Electrical Systems: Systems used to distribute and']\n",
      "--------------------\n"
     ]
    },
    {
     "name": "stderr",
     "output_type": "stream",
     "text": [
      " 35%|███▍      | 349/1000 [15:19<31:54,  2.94s/it]"
     ]
    },
    {
     "name": "stdout",
     "output_type": "stream",
     "text": [
      "Document: 349\n",
      "Topics: ['DUP: [1] Wireless Communications: Mentions wireless communication devices and methods.', 'DUP: [1] Power Management: Mentions reducing power consumption.']\n",
      "--------------------\n"
     ]
    },
    {
     "name": "stderr",
     "output_type": "stream",
     "text": [
      " 35%|███▌      | 350/1000 [15:23<34:50,  3.22s/it]"
     ]
    },
    {
     "name": "stdout",
     "output_type": "stream",
     "text": [
      "Document: 350\n",
      "Topics: ['NEW: [1] Aviation Technology: Mentions the development and use of technology in aviation, specifically in the context of a single-engined rotary-wing aircraft with a hybrid power plant.', 'NEW: [1] Hybrid Power Plants: Mentions power plants that utilize a combination of different energy sources, in this case, a main engine, an electric machine, and an electrical energy storage device.', 'NEW: [1] Electric Machines: Mentions machines that convert electrical energy into mechanical energy, in this context, used to deliver auxiliary power to the main rotor in the event of a main engine failure.', 'NEW: [1] Main Rotors: Mentions the large rotating blades on a helicopter that provide lift and propulsion.', 'NEW: [1] Autorotation: Mentions the controlled descent of a helicopter using only the rotor blades and aerodynamic forces, without engine power.', 'DUP: [1] Power Management: Mentions the process of controlling and distributing power from various sources to meet the needs of a system.', 'DUP: [1] Energy Storage: Mentions the storage of energy for later use, in this case, an electrical energy storage device used in a hybrid power plant.', 'DUP: [1] Engineering: Mentions the application of scientific, economic, social, and practical knowledge to design, build, and maintain structures, machines, devices, systems, and']\n",
      "--------------------\n"
     ]
    },
    {
     "name": "stderr",
     "output_type": "stream",
     "text": [
      " 35%|███▌      | 351/1000 [15:26<32:00,  2.96s/it]"
     ]
    },
    {
     "name": "stdout",
     "output_type": "stream",
     "text": [
      "Document: 351\n",
      "Topics: ['DUP: [1] Power Management: Mentions the management and storage of power.', 'DUP: [1] Server Technology: Mentions server devices and their functionality.', 'DUP: [1] Communication Technology: Mentions the communication between devices.', 'DUP: [1] Identification Systems: Mentions the storage and use of identification information.']\n",
      "--------------------\n"
     ]
    },
    {
     "name": "stderr",
     "output_type": "stream",
     "text": [
      " 35%|███▌      | 352/1000 [15:28<30:18,  2.81s/it]"
     ]
    },
    {
     "name": "stdout",
     "output_type": "stream",
     "text": [
      "Document: 352\n",
      "Topics: ['NEW: [1] Power Networks: Mentions electrical power networks and their models.', 'NEW: [1] Validation Devices: Mentions devices used to verify the accuracy of power network models.', 'NEW: [1] Power Network Models: Mentions models used to represent electrical power networks.', 'NEW: [1] Connectivity Scores: Mentions scores indicating connectivity errors in power network models.', 'NEW: [1] Asset Scores: Mentions scores indicating power-delivery errors in power network models.', 'DUP: [1] Control Systems: Mentions systems used to identify and correct errors in power networks.']\n",
      "--------------------\n"
     ]
    },
    {
     "name": "stderr",
     "output_type": "stream",
     "text": [
      " 35%|███▌      | 353/1000 [15:31<29:32,  2.74s/it]"
     ]
    },
    {
     "name": "stdout",
     "output_type": "stream",
     "text": [
      "Document: 353\n",
      "Topics: ['DUP: [1] Control Systems: Mentions the use of calculators and models to control the position of axes.', 'DUP: [1] Mechanical Systems: Mentions the concept of main axis and driven axis.', 'DUP: [1] Engineering Controls: Mentions the synchronization control of mechanical systems.', 'DUP: [1] Industrial Automation: Mentions the use of control devices to automate industrial processes.', 'NEW: [1] Dynamic Characteristic Models: Mentions the use of models to predict the behavior of mechanical systems.', 'NEW: [1] Servo Control Mechanisms: Mentions the use of servo control mechanisms to control the position of axes.']\n",
      "--------------------\n"
     ]
    },
    {
     "name": "stderr",
     "output_type": "stream",
     "text": [
      " 35%|███▌      | 354/1000 [15:33<28:55,  2.69s/it]"
     ]
    },
    {
     "name": "stdout",
     "output_type": "stream",
     "text": [
      "Document: 354\n",
      "Topics: ['DUP: [1] Material Science: Mentions the study of the properties and composition of materials.', 'DUP: [1] Coating Technology: Mentions the application of a protective layer to surfaces.', 'NEW: [1] Cellulosic Materials: Mentions materials derived from cellulose, such as paper or plant fibers.', 'NEW: [1] Biodegradability: Mentions the ability of materials to decompose naturally.', 'NEW: [1] Lipophobicity: Mentions the property of being repelled by or not absorbing oils or fats.']\n",
      "--------------------\n"
     ]
    },
    {
     "name": "stderr",
     "output_type": "stream",
     "text": [
      " 36%|███▌      | 355/1000 [15:36<30:23,  2.83s/it]"
     ]
    },
    {
     "name": "stdout",
     "output_type": "stream",
     "text": [
      "Document: 355\n",
      "Topics: ['DUP: [1] Supercritical Fluids: Refers to fluids that exhibit properties of both gases and liquids under certain conditions.', 'DUP: [1] Power Generation: Involves the production and sale of electricity.', 'DUP: [1] Recuperation: Process of recovering energy from waste heat or other sources.', 'DUP: [1] Fluids: General category of substances that can flow and take the shape of their container.', 'DUP: [1] Energy: The ability or capacity to do work.', 'NEW: [1] Heat: Form of energy resulting from the motion of particles.', 'DUP: [1] Systems: Set of interrelated components working together to achieve a common goal.']\n",
      "--------------------\n"
     ]
    },
    {
     "name": "stderr",
     "output_type": "stream",
     "text": [
      " 36%|███▌      | 356/1000 [15:40<33:48,  3.15s/it]"
     ]
    },
    {
     "name": "stdout",
     "output_type": "stream",
     "text": [
      "Document: 356\n",
      "Topics: ['DUP: [1] Communication Technology: Mentions methods and techniques related to communication.', 'DUP: [1] Wireless Communications: Mentions wireless communication systems and technologies.', 'DUP: [1] User Equipment: Mentions devices used for communication, such as mobile phones or tablets.', 'DUP: [1] Base Stations: Mentions the infrastructure used for wireless communication, including cell towers and base stations.', 'NEW: [1] Power Class 2 UE: Mentions a specific class of user equipment based on power requirements.']\n",
      "--------------------\n"
     ]
    },
    {
     "name": "stderr",
     "output_type": "stream",
     "text": [
      " 36%|███▌      | 357/1000 [15:44<34:46,  3.24s/it]"
     ]
    },
    {
     "name": "stdout",
     "output_type": "stream",
     "text": [
      "Document: 357\n",
      "Topics: ['DUP: [1] Wireless Communications: Mentions the transmission of messages between wireless devices and base stations.', 'NEW: [1] Cellular Networks: Mentions the organization of wireless networks into cells and the use of base stations to manage those cells.', 'DUP: [1] Telecommunications: Mentions the exchange of information over long distances using electronic communications technology.']\n",
      "--------------------\n"
     ]
    },
    {
     "name": "stderr",
     "output_type": "stream",
     "text": [
      " 36%|███▌      | 358/1000 [15:47<33:18,  3.11s/it]"
     ]
    },
    {
     "name": "stdout",
     "output_type": "stream",
     "text": [
      "Document: 358\n",
      "Topics: ['DUP: [1] Wind Energy: Mentions the use of wind as a source of energy and the technology related to harnessing it.', 'DUP: [1] Control Systems: Mentions systems used to manage and direct the operation of other systems or processes.', 'DUP: [1] Engineering Design: Mentions the process of creating new products or systems using the principles of engineering.', 'DUP: [1] Electrical Systems: Mentions the technology used to generate, transmit, and utilize electricity.', 'DUP: [1] Computer Systems: Mentions systems used to process information using electronic components.', 'NEW: [1] Modeling and Simulation: Mentions the use of mathematical models to represent real-world systems and the process of simulating their behavior.']\n",
      "--------------------\n"
     ]
    },
    {
     "name": "stderr",
     "output_type": "stream",
     "text": [
      " 36%|███▌      | 359/1000 [15:50<35:18,  3.31s/it]"
     ]
    },
    {
     "name": "stdout",
     "output_type": "stream",
     "text": [
      "Document: 359\n",
      "Topics: ['NEW: [1] Digital Power Networks: Mentions the use of digital technology in power networks.', 'NEW: [1] Power Control Elements: Mentions components used to manage and regulate power flow.', 'NEW: [1] DC Power Bus: Mentions a bus used to transport direct current power.', 'NEW: [1] Power Terminals: Mentions points of connection for electrical power.', 'DUP: [1] Power Sources: Mentions the origin of electrical power.', 'NEW: [1] Loads: Mentions the components or systems that consume electrical power.', 'NEW: [1] Network Controllers: Mentions devices used to manage and control network operations.', 'NEW: [1] Packet Energy Transfer: Mentions the transfer of electrical power in packet format.']\n",
      "--------------------\n"
     ]
    },
    {
     "name": "stderr",
     "output_type": "stream",
     "text": [
      " 36%|███▌      | 360/1000 [15:53<34:23,  3.22s/it]"
     ]
    },
    {
     "name": "stdout",
     "output_type": "stream",
     "text": [
      "Document: 360\n",
      "Topics: ['DUP: [1] Laser Technology: Mentions the use of lasers and their related technology.', 'NEW: [1] Calibration: Mentions the process of adjusting or correcting equipment or systems to ensure proper functioning.', 'DUP: [1] Positioning Systems: Mentions systems used to determine and maintain the position of objects or tools.', 'DUP: [1] Manufacturing: Mentions the process of producing goods, typically through the use of machinery or technology.']\n",
      "--------------------\n"
     ]
    },
    {
     "name": "stderr",
     "output_type": "stream",
     "text": [
      " 36%|███▌      | 361/1000 [15:57<35:17,  3.31s/it]"
     ]
    },
    {
     "name": "stdout",
     "output_type": "stream",
     "text": [
      "Document: 361\n",
      "Topics: ['DUP: [1] Radiation Technology: Mentions the use and study of radiation and related phenomena.', 'DUP: [1] Laser Technology: Mentions the use and study of lasers and their applications.', 'DUP: [1] Engineering Design: Mentions the process of designing and developing new products, systems, or processes.', 'DUP: [1] Material Processing: Mentions the modification of materials to change their properties or form.', 'DUP: [1] Optics: Mentions the study and application of light and optical systems.', 'DUP: [1] Reflective Materials: Mentions materials that reflect light or other electromagnetic radiation.', 'DUP: [1] Control Systems: Mentions systems used to manage, direct, or regulate the operation of other systems or processes.', 'DUP: [1] Manufacturing: Mentions the production of goods through the use of machinery, tools, or labor.']\n",
      "--------------------\n"
     ]
    },
    {
     "name": "stderr",
     "output_type": "stream",
     "text": [
      " 36%|███▌      | 362/1000 [15:59<32:54,  3.09s/it]"
     ]
    },
    {
     "name": "stdout",
     "output_type": "stream",
     "text": [
      "Document: 362\n",
      "Topics: ['DUP: [1] Composite Materials: Mentions the use of composite materials in engineering applications.', 'DUP: [1] Structural Design: Mentions the design of structures and components.', 'DUP: [1] Material Processing: Mentions the processing of materials for various applications.', 'DUP: [1] Engineering Design: Mentions the design process and principles used in engineering.', 'DUP: [1] Manufacturing: Mentions the process of creating products through various methods.']\n",
      "--------------------\n"
     ]
    },
    {
     "name": "stderr",
     "output_type": "stream",
     "text": [
      " 36%|███▋      | 363/1000 [16:03<34:20,  3.23s/it]"
     ]
    },
    {
     "name": "stdout",
     "output_type": "stream",
     "text": [
      "Document: 363\n",
      "Topics: ['DUP: [1] Energy: Mentions the production, consumption, and management of energy.', 'DUP: [1] Simulation: Mentions the use of models to represent real-world situations.', 'DUP: [1] Renewable Energy: Mentions energy sources derived from natural processes.', 'NEW: [1] Weather Modeling: Mentions the use of mathematical models to predict weather patterns.', 'NEW: [1] Energy Demand Forecasting: Mentions the prediction of future energy demand.', 'DUP: [1] Energy Storage: Mentions the use of devices to store energy for later use.', 'NEW: [1] Ancillary Services: Mentions additional services provided to ensure grid stability.', 'NEW: [1] Cost Analysis: Mentions the determination of costs associated with energy production.']\n",
      "--------------------\n"
     ]
    },
    {
     "name": "stderr",
     "output_type": "stream",
     "text": [
      " 36%|███▋      | 364/1000 [16:06<33:10,  3.13s/it]"
     ]
    },
    {
     "name": "stdout",
     "output_type": "stream",
     "text": [
      "Document: 364\n",
      "Topics: ['DUP: [1] Battery Technology: Mentions the study and development of batteries and their related components.', 'DUP: [1] Thermal Management: Mentions methods and systems for managing and dissipating heat.', 'DUP: [1] Material Processing: Mentions the manipulation and modification of materials.', 'DUP: [1] Manufacturing: Mentions the production of goods, including the assembly of components.', 'DUP: [1] Engineering: Mentions the application of scientific, economic, social, and practical knowledge to design, build, and maintain structures, machines, devices, systems, and processes.']\n",
      "--------------------\n"
     ]
    },
    {
     "name": "stderr",
     "output_type": "stream",
     "text": [
      " 36%|███▋      | 365/1000 [16:09<33:31,  3.17s/it]"
     ]
    },
    {
     "name": "stdout",
     "output_type": "stream",
     "text": [
      "Document: 365\n",
      "Topics: ['DUP: [1] Solar Energy: Mentions the use of solar cell panels and optimization for wind.', 'DUP: [1] Engineering Design: Mentions the design of a solar panel racking system.', 'DUP: [1] Mechanical Engineering: Mentions the use of ballast weights and adjustable tilt legs.', 'DUP: [1] Manufacturing: Mentions the production of a solar panel racking system.', 'DUP: [1] Material Processing: Mentions the use of ballast weights and wind screens.', 'DUP: [1] Structural Design: Mentions the design of a system to support solar panels.', 'DUP: [1] Maintenance and Efficiency: Mentions the reduction of ballast weight required.']\n",
      "--------------------\n"
     ]
    },
    {
     "name": "stderr",
     "output_type": "stream",
     "text": [
      " 37%|███▋      | 366/1000 [16:12<32:50,  3.11s/it]"
     ]
    },
    {
     "name": "stdout",
     "output_type": "stream",
     "text": [
      "Document: 366\n",
      "Topics: ['DUP: [1] Measurement Technology: Mentions techniques and equipment used to measure properties or characteristics.', 'NEW: [1] Sampling Plans: Mentions strategies for selecting data points or units for analysis.', 'NEW: [1] Wafer Substrates: Mentions thin flat pieces of material used in semiconductor devices.', 'NEW: [1] Inspection Apparatus: Mentions equipment used to examine or measure the properties of materials.', 'NEW: [1] Critical Dimensions: Mentions the smallest dimensions that can be measured with accuracy.', 'NEW: [1] Overlay: Mentions the alignment of layers or patterns on a substrate.']\n",
      "--------------------\n"
     ]
    },
    {
     "name": "stderr",
     "output_type": "stream",
     "text": [
      " 37%|███▋      | 367/1000 [16:15<31:32,  2.99s/it]"
     ]
    },
    {
     "name": "stdout",
     "output_type": "stream",
     "text": [
      "Document: 367\n",
      "Topics: ['NEW: [1] Waste Management: Mentions the handling and disposal of waste, including recycling.', 'DUP: [1] Appliances: Mentions household or industrial equipment designed to perform a specific function.', 'DUP: [1] Water Management: Mentions the collection, treatment, and distribution of water.', 'NEW: [1] Air Management: Mentions the control and movement of air.', 'NEW: [1] Odor Control: Mentions methods for reducing or eliminating unpleasant smells.']\n",
      "--------------------\n"
     ]
    },
    {
     "name": "stderr",
     "output_type": "stream",
     "text": [
      " 37%|███▋      | 368/1000 [16:18<32:02,  3.04s/it]"
     ]
    },
    {
     "name": "stdout",
     "output_type": "stream",
     "text": [
      "Document: 368\n",
      "Topics: ['DUP: [1] Energy: Mentions power production and utilization of CO2 as a working fluid for hydrogen production.', 'DUP: [1] Hydrogen Technology: Mentions hydrogen production and its use as fuel in a gas turbine combined cycle unit.', 'DUP: [1] Carbon Capture: Mentions the capture of carbon arising from combustion in power production and hydrogen production.', 'DUP: [1] Gas Technology: Mentions the use of gas turbine combined cycle unit for power production.', 'NEW: [1] Air Separation: Mentioned but not added as it is already a top-level topic in the hierarchy.']\n",
      "--------------------\n"
     ]
    },
    {
     "name": "stderr",
     "output_type": "stream",
     "text": [
      " 37%|███▋      | 369/1000 [16:20<29:03,  2.76s/it]"
     ]
    },
    {
     "name": "stdout",
     "output_type": "stream",
     "text": [
      "Document: 369\n",
      "Topics: ['DUP: [1] Electrical Systems: Mentions the use of electrical components such as current sources, resistance elements, decoupling resistance, and voltage and current regulators.']\n",
      "--------------------\n"
     ]
    },
    {
     "name": "stderr",
     "output_type": "stream",
     "text": [
      " 37%|███▋      | 370/1000 [16:23<30:02,  2.86s/it]"
     ]
    },
    {
     "name": "stdout",
     "output_type": "stream",
     "text": [
      "Document: 370\n",
      "Topics: ['DUP: [1] Manufacturing: Mentions the production of electrical conductor cables using a continuous processing system.', 'DUP: [1] Engineering: Mentions the design and implementation of a continuous processing system for manufacturing electrical conductor cables.', 'DUP: [1] Technology: Mentions the use of a continuous processing system for manufacturing electrical conductor cables.', 'DUP: [1] Electrical Systems: Mentions the manufacturing of electrical conductor cables for use in power lines or static wires.']\n",
      "--------------------\n"
     ]
    },
    {
     "name": "stderr",
     "output_type": "stream",
     "text": [
      " 37%|███▋      | 371/1000 [16:25<28:04,  2.68s/it]"
     ]
    },
    {
     "name": "stdout",
     "output_type": "stream",
     "text": [
      "Document: 371\n",
      "Topics: ['DUP: [1] Power Management: Mentions methods for reducing power consumption in wireless terminals.']\n",
      "--------------------\n"
     ]
    },
    {
     "name": "stderr",
     "output_type": "stream",
     "text": [
      " 37%|███▋      | 372/1000 [16:28<26:51,  2.57s/it]"
     ]
    },
    {
     "name": "stdout",
     "output_type": "stream",
     "text": [
      "Document: 372\n",
      "Topics: ['DUP: [1] Battery Technology: Mentions the management and modeling of batteries.', 'DUP: [1] Memory Technology: Mentions the use of a memory unit.', 'DUP: [1] Control Systems: Mentions the control unit and its functionality.']\n",
      "--------------------\n"
     ]
    },
    {
     "name": "stderr",
     "output_type": "stream",
     "text": [
      " 37%|███▋      | 373/1000 [16:32<31:54,  3.05s/it]"
     ]
    },
    {
     "name": "stdout",
     "output_type": "stream",
     "text": [
      "Document: 373\n",
      "Topics: ['DUP: [1] Manufacturing: Mentions the process of creating or producing goods, typically through the use of machinery, tools, or labor.', 'DUP: [1] Engineering Design: Mentions the process of creating and developing plans or blueprints for constructing or manufacturing a product.', 'DUP: [1] Mechanical Engineering: Mentions the branch of engineering that deals with the design, construction, and operation of mechanical systems.']\n",
      "--------------------\n"
     ]
    },
    {
     "name": "stderr",
     "output_type": "stream",
     "text": [
      " 37%|███▋      | 374/1000 [16:34<29:09,  2.79s/it]"
     ]
    },
    {
     "name": "stdout",
     "output_type": "stream",
     "text": [
      "Document: 374\n",
      "Topics: ['DUP: [1] Carbon Capture: Mentions the process of capturing carbon dioxide.', 'DUP: [1] Fuel Cells: Mentions the use of fuel cells for energy conversion.', 'DUP: [1] Electrical Systems: Mentions the measurement of voltage and the use of controllers.']\n",
      "--------------------\n"
     ]
    },
    {
     "name": "stderr",
     "output_type": "stream",
     "text": [
      " 38%|███▊      | 375/1000 [16:37<28:17,  2.72s/it]"
     ]
    },
    {
     "name": "stdout",
     "output_type": "stream",
     "text": [
      "Document: 375\n",
      "Topics: ['DUP: [1] Sensor Technology: Mentions the use of sensors for detection and measurement.', 'NEW: [1] Exhaust Gas Systems: Mentions the processing and analysis of exhaust gases.', 'DUP: [1] Heating Systems: Mentions the use of heating elements to maintain temperature.', 'DUP: [1] Control Systems: Mentions the use of systems to regulate and manage processes.']\n",
      "--------------------\n"
     ]
    },
    {
     "name": "stderr",
     "output_type": "stream",
     "text": [
      " 38%|███▊      | 376/1000 [16:39<28:09,  2.71s/it]"
     ]
    },
    {
     "name": "stdout",
     "output_type": "stream",
     "text": [
      "Document: 376\n",
      "Topics: ['DUP: [1] Engineering Design: Mentions the design of a drive device with various components.', 'DUP: [1] Mechanical Engineering: Mentions the mechanical components of a drive device, including shafts, gears, bearings, and housing.', 'NEW: [1] Lubrication Systems: Mentions the design and function of a lubricant flow path and lubricant supply portion.', 'DUP: [1] Machining: Implied in the manufacturing process of creating the various components of the drive device.', 'DUP: [1] Material Science: Implied in the design and selection of materials for the various components of the drive device.', 'DUP: [1] Manufacturing: Mentions the process of creating the various components of the drive device.']\n",
      "--------------------\n"
     ]
    },
    {
     "name": "stderr",
     "output_type": "stream",
     "text": [
      " 38%|███▊      | 377/1000 [16:44<33:46,  3.25s/it]"
     ]
    },
    {
     "name": "stdout",
     "output_type": "stream",
     "text": [
      "Document: 377\n",
      "Topics: ['DUP: [1] Vehicle Technology: Mentions technology related to vehicles, including their components and systems.', 'DUP: [1] Control Systems: Mentions systems used to manage and regulate various processes or functions.', 'DUP: [1] Engineering Design: Mentions the process of creating new products, systems, or structures through the application of scientific, economic, social, and practical knowledge.', 'DUP: [1] Automotive Technology: Mentions technology related to automobiles and their components.', 'DUP: [1] Electrical Systems: Mentions systems that use electricity to power or control various devices or processes.', 'DUP: [1] Power Management: Mentions the process of managing and distributing power from a source to various loads or devices.', 'DUP: [1] Industrial Automation: Mentions the use of control systems and other technologies to automate industrial processes.', 'DUP: [1] Mechanical Systems: Mentions systems that use mechanical components to perform work or convert energy.', 'DUP: [1] Performance Control: Mentions systems used to manage and optimize the performance of various devices or processes.', 'DUP: [1] Limit Control: Mentions systems used to control or regulate the operation of a device or process within specified limits.', 'DUP: [1] Industrial Economics: Mentions the study of the production, distribution, and consumption of goods and services in an industrial context.']\n",
      "--------------------\n"
     ]
    },
    {
     "name": "stderr",
     "output_type": "stream",
     "text": [
      " 38%|███▊      | 378/1000 [16:46<30:54,  2.98s/it]"
     ]
    },
    {
     "name": "stdout",
     "output_type": "stream",
     "text": [
      "Document: 378\n",
      "Topics: ['DUP: [1] Mechanical Engineering: Mentions mechanical components and their assembly methods.', 'NEW: [1] Plastics: Mentions plastic materials and their use in engineering applications.', 'DUP: [1] Electrical Systems: Mentions an electronic device as part of the snap-fit assembly.', 'NEW: [1] Locking Mechanisms: Mentions mechanisms for securing components together.']\n",
      "--------------------\n"
     ]
    },
    {
     "name": "stderr",
     "output_type": "stream",
     "text": [
      " 38%|███▊      | 379/1000 [16:49<31:09,  3.01s/it]"
     ]
    },
    {
     "name": "stdout",
     "output_type": "stream",
     "text": [
      "Document: 379\n",
      "Topics: ['DUP: [1] Membrane Technology: Mentions the use of semi-permeable membranes for separation processes.', 'DUP: [1] Water Treatment: Mentions the process of supplying feed streams and receiving feed outlet streams.', 'DUP: [1] Energy: Implied by the mention of pressure-retarded osmosis plant.', 'DUP: [1] Process Control: Mentions the alternating between two modes of operation.']\n",
      "--------------------\n"
     ]
    },
    {
     "name": "stderr",
     "output_type": "stream",
     "text": [
      " 38%|███▊      | 380/1000 [16:53<31:53,  3.09s/it]"
     ]
    },
    {
     "name": "stdout",
     "output_type": "stream",
     "text": [
      "Document: 380\n",
      "Topics: ['DUP: [1] Engineering Design: Mentions the design of structures and mechanisms.', 'DUP: [1] Mechanical Engineering: Mentions the application of physical principles to design and manufacture mechanical systems.', 'NEW: [1] Tower Structures: Mentions structures that support tall buildings or other vertical constructions.', 'NEW: [1] Hoisting Mechanisms: Mentions devices used to lift heavy loads.', 'NEW: [1] Frame Structures: Mentions structures made up of interconnected parts.', 'NEW: [1] Sliding Mechanisms: Mentions mechanisms that allow parts to move along a surface.', 'NEW: [1] Scissor Structures: Mentions structures that move in a zigzag or scissor-like motion.', 'NEW: [1] Diameter Adjustment: Mentions the process of changing the size of a diameter.', 'NEW: [1] Tower Technology: Mentions the technology used to construct and maintain tall structures.', 'DUP: [1] Mechanical Systems: Mentions systems that convert energy into mechanical motion.']\n",
      "--------------------\n"
     ]
    },
    {
     "name": "stderr",
     "output_type": "stream",
     "text": [
      " 38%|███▊      | 381/1000 [16:55<29:51,  2.89s/it]"
     ]
    },
    {
     "name": "stdout",
     "output_type": "stream",
     "text": [
      "Document: 381\n",
      "Topics: ['DUP: [1] Power Management: Mentions the control and regulation of power consumption in electronic systems.', 'DUP: [1] Control Systems: Mentions the use of control units to manage and regulate various systems.', 'NEW: [1] Processors: Mentions the use of processors and their power control modes.']\n",
      "--------------------\n"
     ]
    },
    {
     "name": "stderr",
     "output_type": "stream",
     "text": [
      " 38%|███▊      | 382/1000 [16:59<32:17,  3.13s/it]"
     ]
    },
    {
     "name": "stdout",
     "output_type": "stream",
     "text": [
      "Document: 382\n",
      "Topics: ['DUP: [1] Catalyst Technology: Mentions the use and deterioration of catalysts, particularly in exhaust passages of internal combustion engines.', 'DUP: [1] Machine Learning: Mentions the use of machine learning to learn data for mapping and analysis.', 'DUP: [1] Data Processing: Mentions the acquisition and calculation of data for deterioration level variable.', 'DUP: [1] Exhaust Technology: Mentions the use of exhaust passages and the presence of catalysts.', 'DUP: [1] Internal Combustion Engines: Mentions the type of engine that utilizes the catalyst and exhaust technology.', 'DUP: [1] Sensor Technology: Implied by the mention of detection variables and data acquisition.', 'DUP: [1] Electronics: Implied by the mention of processing circuitry and storage devices.']\n",
      "--------------------\n"
     ]
    },
    {
     "name": "stderr",
     "output_type": "stream",
     "text": [
      " 38%|███▊      | 383/1000 [17:02<31:10,  3.03s/it]"
     ]
    },
    {
     "name": "stdout",
     "output_type": "stream",
     "text": [
      "Document: 383\n",
      "Topics: ['DUP: [1] Control Systems: Mentions systems used to regulate and direct the operation of machines or processes.', 'NEW: [1] Machine Control: Mentions the use of control systems to manage the operation of machines.', 'DUP: [1] Optimization: Mentions the process of making the best or most effective use of resources.', 'DUP: [1] Technology: Mentions the application of scientific knowledge for practical purposes.', 'DUP: [1] Engineering: Mentions the application of scientific, economic, social, and practical knowledge to design, build, and maintain structures, machines, devices, systems, and processes.']\n",
      "--------------------\n"
     ]
    },
    {
     "name": "stderr",
     "output_type": "stream",
     "text": [
      " 38%|███▊      | 384/1000 [17:04<29:16,  2.85s/it]"
     ]
    },
    {
     "name": "stdout",
     "output_type": "stream",
     "text": [
      "Document: 384\n",
      "Topics: ['DUP: [1] Power Management: Mentions methods and apparatus for managing power supply in a safe and reliable manner.', 'DUP: [1] Electrical Systems: Mentions circuits and components used to provide power.', 'DUP: [1] Safety Systems: Mentions power supply safety concerns and regulatory requirements.', 'NEW: [1] Cables: Mentions cables used to provide power and their physical limitations.', 'NEW: [1] Current Sense Circuits: Mentions circuits used to sense current in conductors.', 'NEW: [1] Redundancy: Mentions having more than the sufficient number of conductors for power supply.']\n",
      "--------------------\n"
     ]
    },
    {
     "name": "stderr",
     "output_type": "stream",
     "text": [
      " 38%|███▊      | 385/1000 [17:07<29:19,  2.86s/it]"
     ]
    },
    {
     "name": "stdout",
     "output_type": "stream",
     "text": [
      "Document: 385\n",
      "Topics: ['DUP: [1] Engineering: Mentions the application of scientific, economic, social, and practical knowledge to design, build, and maintain structures, machines, devices, systems, and processes.', 'DUP: [1] Engineering Controls: Mentions systems used to regulate, monitor, and optimize engineering processes and systems.', 'DUP: [1] Energy: Mentions the electrical or mechanical energy derived from various sources.', 'DUP: [1] Engine Technology: Mentions the design, development, and application of engines, including internal combustion engines and electric motors.', 'DUP: [1] Control Systems: Mentions systems used to regulate, monitor, and optimize processes and systems.', 'NEW: [1] Friction Management: New topic. Mentions the management and reduction of friction in engineering systems.']\n",
      "--------------------\n"
     ]
    },
    {
     "name": "stderr",
     "output_type": "stream",
     "text": [
      " 39%|███▊      | 386/1000 [17:10<31:07,  3.04s/it]"
     ]
    },
    {
     "name": "stdout",
     "output_type": "stream",
     "text": [
      "Document: 386\n",
      "Topics: ['NEW: [1] Crash Boxes: Structural components designed to absorb impact in vehicles.', 'NEW: [1] Vehicle Engineering: Design and construction of vehicles, including safety features.', 'DUP: [1] Material Science: Study of materials and their properties.', 'DUP: [1] Bonding Technology: Techniques for joining materials together.', 'DUP: [1] Automotive Technology: Technology related to the design, manufacture, and operation of automobiles.', 'DUP: [1] Mechanical Systems: Physical systems that convert energy into motion or force.', 'DUP: [1] Engineering Controls: Systems used to monitor and control engineering processes.', 'DUP: [1] Structural Design: Design of structures to withstand loads and stresses.', 'DUP: [1] Maintenance and Efficiency: Practices to keep systems in good working order and optimize performance.']\n",
      "--------------------\n"
     ]
    },
    {
     "name": "stderr",
     "output_type": "stream",
     "text": [
      " 39%|███▊      | 387/1000 [17:13<29:54,  2.93s/it]"
     ]
    },
    {
     "name": "stdout",
     "output_type": "stream",
     "text": [
      "Document: 387\n",
      "Topics: ['DUP: [1] Communication Technology: Mentions a communication network and routing system.', 'DUP: [1] Networking: Mentions the exchange of data between devices.', 'NEW: [1] White Boxes: Mentions a type of network device.', 'NEW: [1] Routing Systems: Mentions a system used to forward data between networks.', 'NEW: [1] Functionality: Mentions the ability of a system or device to perform a specific task.', 'NEW: [1] Identification: Mentions the process of recognizing or labeling something.']\n",
      "--------------------\n"
     ]
    },
    {
     "name": "stderr",
     "output_type": "stream",
     "text": [
      " 39%|███▉      | 388/1000 [17:16<29:26,  2.89s/it]"
     ]
    },
    {
     "name": "stdout",
     "output_type": "stream",
     "text": [
      "Document: 388\n",
      "Topics: ['NEW: [1] Air Quality: Mentions systems and methods for improving indoor air quality.', 'NEW: [1] Sorbent Materials: Mentions materials used for adsorbing contaminants from indoor air.', 'NEW: [1] Scrubbers: Mentions systems used for removing contaminants from indoor air.', 'NEW: [1] Temperature Swing Adsorption: Mentions a method for regenerating sorbent materials.']\n",
      "--------------------\n"
     ]
    },
    {
     "name": "stderr",
     "output_type": "stream",
     "text": [
      " 39%|███▉      | 389/1000 [17:18<26:52,  2.64s/it]"
     ]
    },
    {
     "name": "stdout",
     "output_type": "stream",
     "text": [
      "Document: 389\n",
      "Topics: ['DUP: [1] Energy: Mentions the distribution and consumption of energy.', 'DUP: [1] Communication Technology: Mentions the use of communication networks for transmitting data.', 'DUP: [1] Electrical Systems: Mentions isolated electricity meters and their data.']\n",
      "--------------------\n"
     ]
    },
    {
     "name": "stderr",
     "output_type": "stream",
     "text": [
      " 39%|███▉      | 390/1000 [17:21<28:04,  2.76s/it]"
     ]
    },
    {
     "name": "stdout",
     "output_type": "stream",
     "text": [
      "Document: 390\n",
      "Topics: ['DUP: [1] Wind Energy: Mentions the generation of electrical power from wind using a vertical axis wind turbine.', 'DUP: [1] Engineering Design: Mentions the design of a wind turbine, including the arrangement of stator and rotor blades and their respective functions.', 'DUP: [1] Mechanical Engineering: Mentions the mechanical components of a wind turbine, such as the stator plate, rotor blades, and generator.', 'DUP: [1] Material Processing: Mentions the design and manufacturing considerations for the stator and rotor blades, including their size and material properties.', 'DUP: [1] Electrical Systems: Mentions the generator and the electrical power generation aspect of the wind turbine.']\n",
      "--------------------\n"
     ]
    },
    {
     "name": "stderr",
     "output_type": "stream",
     "text": [
      " 39%|███▉      | 391/1000 [17:24<30:34,  3.01s/it]"
     ]
    },
    {
     "name": "stdout",
     "output_type": "stream",
     "text": [
      "Document: 391\n",
      "Topics: ['DUP: [1] Wireless Communications: Mentions methods, systems, and devices for wireless communications.', 'DUP: [1] User Equipment: Mentions UE and its operation in wireless communications systems.', 'NEW: [1] Signaling: Mentions the exchange of information between UE and network for configuration purposes.', 'NEW: [1] Wakeup Signals: Mentions signals received by UE to initiate wakeup procedure.', 'NEW: [1] Wakeup Grouping Sets: Mentions sets of groups of UEs identified by network for wakeup purposes.']\n",
      "--------------------\n"
     ]
    },
    {
     "name": "stderr",
     "output_type": "stream",
     "text": [
      " 39%|███▉      | 392/1000 [17:27<29:54,  2.95s/it]"
     ]
    },
    {
     "name": "stdout",
     "output_type": "stream",
     "text": [
      "Document: 392\n",
      "Topics: ['DUP: [1] Ultrasonic Technology: Mentions the use of high-frequency sound waves.', 'DUP: [1] Vehicle Technology: Mentions vehicles as the context for the application.', 'DUP: [1] Engineering Design: Mentions the design of a device.', 'DUP: [1] Manufacturing: Mentions the production of a device.', 'DUP: [1] Material Processing: Mentions the use of materials in the manufacturing process.', 'DUP: [1] Mechanical Engineering: Mentions the mechanical aspects of the device.', 'DUP: [1] Automotive Technology: Mentions vehicles as the specific application.', 'DUP: [1] Air Delivery Systems: Mentions systems for delivering air.', 'DUP: [1] Rubber Technology: Mentions the use of rubber in the sealing ring assembly.', 'DUP: [1] Acoustics: Mentions the generation and manipulation of sound waves.']\n",
      "--------------------\n"
     ]
    },
    {
     "name": "stderr",
     "output_type": "stream",
     "text": [
      " 39%|███▉      | 393/1000 [17:30<28:45,  2.84s/it]"
     ]
    },
    {
     "name": "stdout",
     "output_type": "stream",
     "text": [
      "Document: 393\n",
      "Topics: ['DUP: [1] Sensor Technology: Mentions the use of a sensor for detecting proximity.', 'DUP: [1] Acoustic Waves: Mentions the use of sound waves in the inaudible frequency band.', 'DUP: [1] Communication Technology: Mentions the use of a communication module for receiving voice signals.', 'DUP: [1] Electronic Devices: Mentions the use of an electronic device for detecting proximity.', 'DUP: [1] Signal Processing: Mentions the processing of voice signals and sound waves.']\n",
      "--------------------\n"
     ]
    },
    {
     "name": "stderr",
     "output_type": "stream",
     "text": [
      " 39%|███▉      | 394/1000 [17:33<29:05,  2.88s/it]"
     ]
    },
    {
     "name": "stdout",
     "output_type": "stream",
     "text": [
      "Document: 394\n",
      "Topics: ['NEW: [1] Image Forming Apparatus: Mentions equipment used to produce images, such as printers or copiers.', 'DUP: [1] Power Management: Mentions the management and control of electrical power.', 'DUP: [1] User Interfaces: Mentions systems that allow users to interact with technology.', 'DUP: [1] Display Technology: Mentions technology related to the production and presentation of visual information.']\n",
      "--------------------\n"
     ]
    },
    {
     "name": "stderr",
     "output_type": "stream",
     "text": [
      " 40%|███▉      | 395/1000 [17:36<29:55,  2.97s/it]"
     ]
    },
    {
     "name": "stdout",
     "output_type": "stream",
     "text": [
      "Document: 395\n",
      "Topics: ['DUP: [1] Display Technology: Mentions technologies related to the creation and presentation of visual information.', 'DUP: [1] Adhesives: Mentions materials used to bond or attach other materials.', 'NEW: [1] Films: Mentions thin, flexible sheets of material.', 'NEW: [1] Metallic Materials: Mentions materials that conduct electricity and heat well.', 'NEW: [1] Thin Films: Mentions films with a thickness in the nanometer to micrometer range.']\n",
      "--------------------\n"
     ]
    },
    {
     "name": "stderr",
     "output_type": "stream",
     "text": [
      " 40%|███▉      | 396/1000 [17:38<28:13,  2.80s/it]"
     ]
    },
    {
     "name": "stdout",
     "output_type": "stream",
     "text": [
      "Document: 396\n",
      "Topics: ['DUP: [1] Manufacturing: Mentions various manufacturing processes and techniques.', 'DUP: [1] Display Technology: Mentions technology related to displays and visual representations of information.', 'DUP: [1] Laser Technology: Mentions the use of lasers in various applications.', 'DUP: [1] Optics: Mentions the study and application of light and optical systems.']\n",
      "--------------------\n"
     ]
    },
    {
     "name": "stderr",
     "output_type": "stream",
     "text": [
      " 40%|███▉      | 397/1000 [17:41<28:10,  2.80s/it]"
     ]
    },
    {
     "name": "stdout",
     "output_type": "stream",
     "text": [
      "Document: 397\n",
      "Topics: ['DUP: [1] Power Systems: Mentions the generation, transmission, and distribution of electrical power.', 'DUP: [1] Microgrids: Mentions small-scale electrical grids that can operate independently or in parallel with the main power grid.', 'DUP: [1] Control Systems: Mentions systems used to manage and regulate the operation of other systems.']\n",
      "--------------------\n"
     ]
    },
    {
     "name": "stderr",
     "output_type": "stream",
     "text": [
      " 40%|███▉      | 398/1000 [17:44<29:15,  2.92s/it]"
     ]
    },
    {
     "name": "stdout",
     "output_type": "stream",
     "text": [
      "Document: 398\n",
      "Topics: ['DUP: [1] Internal Combustion Engines: Mentions the control device of an internal combustion engine and its air-fuel ratio control.', 'DUP: [1] Sensors: Mentions the use of air-fuel ratio sensor and oxygen sensor.', 'DUP: [1] Engineering Controls: Mentions the execution of air-fuel ratio control based on sensor outputs and correction based on sensor outputs.', 'DUP: [1] Fuel Systems: Implied by the discussion of air-fuel ratio control in an internal combustion engine.', 'DUP: [1] Control Systems: Implied by the discussion of setting a limit to the correction based on sensor outputs.']\n",
      "--------------------\n"
     ]
    },
    {
     "name": "stderr",
     "output_type": "stream",
     "text": [
      " 40%|███▉      | 399/1000 [17:48<29:58,  2.99s/it]"
     ]
    },
    {
     "name": "stdout",
     "output_type": "stream",
     "text": [
      "Document: 399\n",
      "Topics: ['DUP: [1] Engineering: Mentions the design and development of technological systems.', 'DUP: [1] Internal Combustion Engines: Mentions a specific type of engine that uses a fuel/air mixture or compressed gas as fuel.', 'DUP: [1] Bearings: Mentions components used to reduce friction and allow for smooth movement.', 'NEW: [1] Crankshafts: Mentions a component used to convert reciprocating motion into rotational motion.', 'NEW: [1] Torque: Mentions a measure of rotational force.', 'DUP: [1] Gas Technology: Mentions the use of compressed gas as a power source.', 'DUP: [1] Power Systems: Mentions the generation and transfer of power.', 'DUP: [1] Mechanical Engineering: Mentions the application of engineering principles to mechanical systems.']\n",
      "--------------------\n"
     ]
    },
    {
     "name": "stderr",
     "output_type": "stream",
     "text": [
      " 40%|████      | 400/1000 [17:50<28:42,  2.87s/it]"
     ]
    },
    {
     "name": "stdout",
     "output_type": "stream",
     "text": [
      "Document: 400\n",
      "Topics: ['DUP: [1] User Equipment: Mentions mobile devices and their associated user characteristics.', 'NEW: [1] Location Technology: Mentions determination of location.', 'NEW: [1] Environmental Technology: Mentions environmental parameters.', 'NEW: [1] Comfort Technology: Mentions determination of personal outdoor comfort.']\n",
      "--------------------\n"
     ]
    },
    {
     "name": "stderr",
     "output_type": "stream",
     "text": [
      " 40%|████      | 401/1000 [17:53<27:56,  2.80s/it]"
     ]
    },
    {
     "name": "stdout",
     "output_type": "stream",
     "text": [
      "Document: 401\n",
      "Topics: ['NEW: [1] Thermoelectric Technology: Refers to the conversion of temperature differences into electrical energy using a thermoelectric generator.']\n",
      "--------------------\n"
     ]
    },
    {
     "name": "stderr",
     "output_type": "stream",
     "text": [
      " 40%|████      | 402/1000 [17:56<28:43,  2.88s/it]"
     ]
    },
    {
     "name": "stdout",
     "output_type": "stream",
     "text": [
      "Document: 402\n",
      "Topics: ['DUP: [1] Power Conversion: Mentions the process of changing electrical energy from one form to another.', 'DUP: [1] Control Systems: Mentions systems used to regulate and direct the operation of other systems or processes.', 'DUP: [1] Electrical Systems: Mentions systems used to generate, transmit, and utilize electrical energy.', 'DUP: [1] Signal Processing: Mentions the analysis, modification, and transmission of signals.', 'NEW: [1] Clock Systems: Mentions systems used to generate regular pulses or signals.']\n",
      "--------------------\n"
     ]
    },
    {
     "name": "stderr",
     "output_type": "stream",
     "text": [
      " 40%|████      | 403/1000 [17:59<28:46,  2.89s/it]"
     ]
    },
    {
     "name": "stdout",
     "output_type": "stream",
     "text": [
      "Document: 403\n",
      "Topics: ['DUP: [1] Gas Technology: Mentions the use and production of gases, including oxygen and hydrogen, for various processes.', 'DUP: [1] Process Control: Mentions the adjustment and management of operations in response to variations in feeds or other conditions.', 'DUP: [1] Energy: Mentions the production and use of energy, including the conversion of carbonaceous feeds to methane.', 'DUP: [1] Engineering Design: Mentions the development and improvement of processes and systems.', 'DUP: [1] Industrial Automation: Mentions the use of automated systems to manage and control industrial processes.']\n",
      "--------------------\n"
     ]
    },
    {
     "name": "stderr",
     "output_type": "stream",
     "text": [
      " 40%|████      | 404/1000 [18:01<27:31,  2.77s/it]"
     ]
    },
    {
     "name": "stdout",
     "output_type": "stream",
     "text": [
      "Document: 404\n",
      "Topics: ['NEW: [1] Computer Vision: Mentions the use of a camera to analyze images and recognize objects or features.', 'NEW: [1] Remote Control Systems: Mentions systems for controlling devices remotely.', 'DUP: [1] Image Processing: Mentions analyzing images to extract information.', 'NEW: [1] Device Identification: Mentions identifying devices using image analysis.', 'DUP: [1] Control Mechanisms: Mentions determining mechanisms for controlling devices.']\n",
      "--------------------\n"
     ]
    },
    {
     "name": "stderr",
     "output_type": "stream",
     "text": [
      " 40%|████      | 405/1000 [18:05<30:16,  3.05s/it]"
     ]
    },
    {
     "name": "stdout",
     "output_type": "stream",
     "text": [
      "Document: 405\n",
      "Topics: ['DUP: [1] Engineering Design: Mentions the process of creating new products or systems through a systematic approach.', 'DUP: [1] Mechanical Engineering: Mentions the application of physical principles to design, build, and maintain mechanical systems.', 'DUP: [1] Manufacturing: Mentions the process of producing goods or products on a large scale.', 'DUP: [1] Mechanical Systems: Mentions systems that convert mechanical energy into other forms or perform work.', 'NEW: [1] Hydraulic Systems: Mentions systems that use fluid under pressure to transmit power or force.', 'NEW: [1] Fasteners: Mentions devices used to join two or more parts together.', 'NEW: [1] Crimping: Mentions the process of deforming a material to join two parts together.', 'NEW: [1] Trusses: Mentions structures composed of triangles used to distribute weight and stress evenly.']\n",
      "--------------------\n"
     ]
    },
    {
     "name": "stderr",
     "output_type": "stream",
     "text": [
      " 41%|████      | 406/1000 [18:07<27:35,  2.79s/it]"
     ]
    },
    {
     "name": "stdout",
     "output_type": "stream",
     "text": [
      "Document: 406\n",
      "Topics: ['DUP: [1] Battery Technology: Mentions techniques related to battery-powered playback devices and battery level detection.', 'DUP: [1] Communication Technology: Mentions audio content being received from a network device and synchronous playback between devices.']\n",
      "--------------------\n"
     ]
    },
    {
     "name": "stderr",
     "output_type": "stream",
     "text": [
      " 41%|████      | 407/1000 [18:09<25:39,  2.60s/it]"
     ]
    },
    {
     "name": "stdout",
     "output_type": "stream",
     "text": [
      "Document: 407\n",
      "Topics: ['DUP: [1] Internal Combustion Engines: Mentions the operation of engines using combustion of fuel.', 'DUP: [1] Turbochargers: Mentions the use of turbines to increase the efficiency of internal combustion engines.', 'DUP: [1] Engine Control: Mentions the regulation and optimization of engine performance.']\n",
      "--------------------\n"
     ]
    },
    {
     "name": "stderr",
     "output_type": "stream",
     "text": [
      " 41%|████      | 408/1000 [18:12<26:58,  2.73s/it]"
     ]
    },
    {
     "name": "stdout",
     "output_type": "stream",
     "text": [
      "Document: 408\n",
      "Topics: ['DUP: [1] Cement Technology: Mentions the production and properties of cement and related materials.', 'NEW: [1] Low Temperature Cement: Mentions cement compositions specifically designed for curing at low temperatures.', 'NEW: [1] Accelerators: Mentions substances used to increase the rate of chemical reactions, particularly in cement curing.', 'DUP: [1] Materials Science: Mentions the study of materials and their properties.', 'DUP: [1] Engineering Materials: Mentions materials used in engineering applications.']\n",
      "--------------------\n"
     ]
    },
    {
     "name": "stderr",
     "output_type": "stream",
     "text": [
      " 41%|████      | 409/1000 [18:17<32:28,  3.30s/it]"
     ]
    },
    {
     "name": "stdout",
     "output_type": "stream",
     "text": [
      "Document: 409\n",
      "Topics: ['DUP: [1] Engineering Design: Mentions the process of creating new products or systems using a systematic approach.', 'DUP: [1] Mechanical Engineering: Mentions the application of physical principles to design, build, and maintain mechanical systems.', 'DUP: [1] Material Science: Mentions the study of the properties and behavior of materials.', 'DUP: [1] Manufacturing: Mentions the process of producing goods on a large scale using machinery.', 'DUP: [1] Engineering Design: The process of creating new products or systems using a systematic approach, involving the identification of user needs, the conceptualization of ideas, the development of prototypes, and the testing and refinement of designs.', 'DUP: [1] Mechanical Engineering: The application of physical principles to design, build, and maintain mechanical systems, including machines, engines, and structures, using materials such as metals, plastics, and composites.', 'DUP: [1] Material Science: The study of the properties and behavior of materials, including their structure, composition, and properties, and the development of new materials for various applications.', 'DUP: [1] Manufacturing: The process of producing goods on a large scale using machinery, including the design, production, and assembly of components, as well as the quality control and testing of finished products.']\n",
      "--------------------\n"
     ]
    },
    {
     "name": "stderr",
     "output_type": "stream",
     "text": [
      " 41%|████      | 410/1000 [18:19<30:01,  3.05s/it]"
     ]
    },
    {
     "name": "stdout",
     "output_type": "stream",
     "text": [
      "Document: 410\n",
      "Topics: ['DUP: [1] Sensor Technology: Mentions the use of sensors to gather position and lighting information.', 'NEW: [1] Device Technology: Mentions the functionality of a device to receive, process, and implement adjustments based on sensor data.', 'NEW: [1] Infrared Technology: Mentions the use of infrared elements and their adjustability based on position and lighting information.', 'NEW: [1] Image and Video Technology: Mentions the prevention of image or video capture.']\n",
      "--------------------\n"
     ]
    },
    {
     "name": "stderr",
     "output_type": "stream",
     "text": [
      " 41%|████      | 411/1000 [18:22<27:08,  2.76s/it]"
     ]
    },
    {
     "name": "stdout",
     "output_type": "stream",
     "text": [
      "Document: 411\n",
      "Topics: ['DUP: [1] Battery Technology: Mentions battery management systems and their components, including protection circuits and diode arrays.']\n",
      "--------------------\n"
     ]
    },
    {
     "name": "stderr",
     "output_type": "stream",
     "text": [
      " 41%|████      | 412/1000 [18:25<28:22,  2.89s/it]"
     ]
    },
    {
     "name": "stdout",
     "output_type": "stream",
     "text": [
      "Document: 412\n",
      "Topics: ['DUP: [1] Material Processing: Mentions the manipulation and transformation of materials.', 'NEW: [1] Zeolites: Mentions a specific type of material used in various applications.', 'NEW: [1] Binder Technology: Mentions the use of binders in various processes.', 'DUP: [1] Extrusion Technology: Mentions the process of forcing a material through a die.', 'NEW: [1] Fluorine Compounds: Mentions the use of fluorine-containing compounds.', 'NEW: [1] Calcination: Mentions the process of heating a material to drive off volatile components.', 'DUP: [1] Drying Technology: Mentions the process of removing moisture from materials.', 'NEW: [1] Washing Technology: Mentions the process of cleaning materials using water.', 'DUP: [1] Manufacturing: Mentions the production of goods through various processes.']\n",
      "--------------------\n"
     ]
    },
    {
     "name": "stderr",
     "output_type": "stream",
     "text": [
      " 41%|████▏     | 413/1000 [18:27<27:03,  2.77s/it]"
     ]
    },
    {
     "name": "stdout",
     "output_type": "stream",
     "text": [
      "Document: 413\n",
      "Topics: ['DUP: [1] Energy: Mentions the production, storage, and use of energy.', 'DUP: [1] Hydraulic Systems: Mentions hydraulic systems and their components.', 'NEW: [1] Machinery: Mentions electrically operated machines and their components.', 'DUP: [1] Electric Motors: Mentions electric motors and their use as generators.', 'NEW: [1] Storage Systems: Mentions energy storage systems and their components.', 'NEW: [1] Regenerative Energy: Mentions the recovery and use of regenerative energy.']\n",
      "--------------------\n"
     ]
    },
    {
     "name": "stderr",
     "output_type": "stream",
     "text": [
      " 41%|████▏     | 414/1000 [18:29<25:21,  2.60s/it]"
     ]
    },
    {
     "name": "stdout",
     "output_type": "stream",
     "text": [
      "Document: 414\n",
      "Topics: ['DUP: [1] Electrical Systems: Mentions the generation and transmission of electrical power.', 'DUP: [1] Wireless Communications: Mentions the transmission of signals without the use of wires.', 'DUP: [1] Magnet Technology: Mentions the use of permanent magnets.', 'DUP: [1] Generators: Mentions the conversion of mechanical energy to electrical energy.']\n",
      "--------------------\n"
     ]
    },
    {
     "name": "stderr",
     "output_type": "stream",
     "text": [
      " 42%|████▏     | 415/1000 [18:33<26:56,  2.76s/it]"
     ]
    },
    {
     "name": "stdout",
     "output_type": "stream",
     "text": [
      "Document: 415\n",
      "Topics: ['DUP: [1] Power Management: Mentions the management and control of electrical power.', 'DUP: [1] Control Systems: Mentions systems used to regulate and direct the operation of other systems or processes.', 'NEW: [1] Electric Power Systems: Mentions the generation, transmission, and distribution of electrical power.', 'DUP: [1] Energy Management: Mentions the efficient use and conservation of energy.', 'NEW: [1] Priority Systems: Mentions systems used to prioritize tasks or resources.', 'NEW: [1] Devices: Mentions electronic or mechanical systems used to perform specific functions.', 'NEW: [1] Measurement Units: Mentions devices used to measure physical quantities.', 'NEW: [1] Calculation Units: Mentions devices used to perform mathematical operations.', 'NEW: [1] Suppression Units: Mentions devices used to prevent or reduce unwanted effects.', 'NEW: [1] Priority Storage Units: Mentions devices used to store and retrieve data.', 'NEW: [1] Operation Permission Requests: Mentions requests for permission to perform an operation.']\n",
      "--------------------\n"
     ]
    },
    {
     "name": "stderr",
     "output_type": "stream",
     "text": [
      " 42%|████▏     | 416/1000 [18:35<26:53,  2.76s/it]"
     ]
    },
    {
     "name": "stdout",
     "output_type": "stream",
     "text": [
      "Document: 416\n",
      "Topics: ['DUP: [1] Communication Technology: Mentions satellite information broadcasting and frequency shifting techniques.', 'DUP: [1] Technology: Umbrella term for various techniques and methods.', 'DUP: [1] Engineering: Mentions devices and methods.', 'DUP: [1] Electrical Systems: Mentions frequency shifting and down-conversion.', 'DUP: [1] Signal Processing: Mentions frequency drift correction and filtering.', 'DUP: [1] Wireless Communications: Mentions satellite information broadcasting and Single-Wire Multiswitch (SWM) devices.']\n",
      "--------------------\n"
     ]
    },
    {
     "name": "stderr",
     "output_type": "stream",
     "text": [
      " 42%|████▏     | 417/1000 [18:38<26:03,  2.68s/it]"
     ]
    },
    {
     "name": "stdout",
     "output_type": "stream",
     "text": [
      "Document: 417\n",
      "Topics: ['DUP: [1] Battery Technology: Mentions research on battery materials and their properties.', 'DUP: [1] Material Science: Mentions the study of materials and their properties.', 'DUP: [1] Silicon Materials: Mentions specific types of materials used in batteries.']\n",
      "--------------------\n"
     ]
    },
    {
     "name": "stderr",
     "output_type": "stream",
     "text": [
      " 42%|████▏     | 418/1000 [18:41<28:50,  2.97s/it]"
     ]
    },
    {
     "name": "stdout",
     "output_type": "stream",
     "text": [
      "Document: 418\n",
      "Topics: ['DUP: [1] Semiconductor Technology: Mentions the production and use of semiconductors in electronic devices.', 'DUP: [1] Photovoltaics: Mentions the conversion of light energy into electrical energy using semiconductors.', 'NEW: [1] Device Fabrication: Mentions the process of creating electronic devices, including the use of carriers and wafer bonding.', 'DUP: [1] Material Science: Mentions the study of materials and their properties.', 'DUP: [1] Optoelectronics: Mentions the study of the interaction between light and electronic materials.', 'NEW: [1] Solar Cells: Mentions the conversion of solar energy into electrical energy using semiconductors.', 'NEW: [1] Silicon Technology: Mentions the use of silicon in electronic devices and solar cells.', 'NEW: [1] Wafer Technology: Mentions the process of creating thin slices of semiconductor material for use in electronic devices.', 'DUP: [1] Bonding Technology: Mentions the process of joining two or more materials together.', 'NEW: [1] Carrier Technology: Mentions the use of carriers in the production and transportation of semiconductor materials.']\n",
      "--------------------\n"
     ]
    },
    {
     "name": "stderr",
     "output_type": "stream",
     "text": [
      " 42%|████▏     | 419/1000 [18:45<29:17,  3.02s/it]"
     ]
    },
    {
     "name": "stdout",
     "output_type": "stream",
     "text": [
      "Document: 419\n",
      "Topics: ['DUP: [1] Communication Technology: Mentions the use and management of communication systems, including wireless services and computer devices.', 'DUP: [1] User Interface: Mentions the interaction between users and computer devices, including determining user activity and adjusting operational modes.', 'DUP: [1] Wireless Communications: Mentions wireless services and wireless transceiver hardware, such as antennas.']\n",
      "--------------------\n"
     ]
    },
    {
     "name": "stderr",
     "output_type": "stream",
     "text": [
      " 42%|████▏     | 420/1000 [18:49<33:45,  3.49s/it]"
     ]
    },
    {
     "name": "stdout",
     "output_type": "stream",
     "text": [
      "Document: 420\n",
      "Topics: ['DUP: [1] Display Technology: Mentions technologies related to producing and presenting visual information.', 'DUP: [1] Flexible Displays: Specific type of display technology that can be bent or folded without damaging the display.', 'NEW: [1] Encapsulation Layers: Protective layers used to seal electronic components and prevent damage from external factors.', 'DUP: [1] Thin Films: Thin layers of material used in various applications, including electronics and coatings.', 'NEW: [1] Spacers: Structural components used to maintain a consistent distance between two surfaces.', 'NEW: [1] Substrates: Materials used as a base or support for other components, such as in electronics or displays.', 'NEW: [1] Pixels: Individual points in a display that can be turned on or off to produce an image.', 'NEW: [1] Blocking Dams: Structural components used to prevent the flow of a substance, such as air or liquid, in a specific area.', 'NEW: [1] Electronic Components: Individual parts used in electronic devices to perform specific functions.']\n",
      "--------------------\n"
     ]
    },
    {
     "name": "stderr",
     "output_type": "stream",
     "text": [
      " 42%|████▏     | 421/1000 [18:52<33:05,  3.43s/it]"
     ]
    },
    {
     "name": "stdout",
     "output_type": "stream",
     "text": [
      "Document: 421\n",
      "Topics: ['DUP: [1] Chemical Processing: Mentions the transformation of one substance into another through chemical reactions.', 'DUP: [1] Material Processing: Mentions the modification of materials through various methods, including chemical reactions.', 'DUP: [1] Ceramics: Mentions the production and processing of inorganic, non-metallic materials, often in a powdered form.', 'DUP: [1] Metallurgy: Mentions the extraction, refining, and processing of metals and alloys.', 'DUP: [1] Industrial Chemistry: Mentions the large-scale production of chemicals for commercial use.', 'DUP: [1] Material Science: Mentions the study of materials and their properties.', 'DUP: [1] Engineering: Mentions the application of scientific, economic, social, and practical knowledge to design, build, and maintain structures, machines, devices, systems, and processes.', 'DUP: [1] Manufacturing: Mentions the production of goods through the use of machinery, tools, or labor.']\n",
      "--------------------\n"
     ]
    },
    {
     "name": "stderr",
     "output_type": "stream",
     "text": [
      " 42%|████▏     | 422/1000 [18:55<29:40,  3.08s/it]"
     ]
    },
    {
     "name": "stdout",
     "output_type": "stream",
     "text": [
      "Document: 422\n",
      "Topics: ['DUP: [1] Electrical Systems: Mentions the use of electrical components and systems, specifically a dimmable ballast circuit for a compact fluorescent lamp.', 'DUP: [1] Control Systems: Mentions the use of a control system to regulate the intensity of a lamp tube based on a phase-control voltage received from a dimmer switch.']\n",
      "--------------------\n"
     ]
    },
    {
     "name": "stderr",
     "output_type": "stream",
     "text": [
      " 42%|████▏     | 423/1000 [18:59<32:55,  3.42s/it]"
     ]
    },
    {
     "name": "stdout",
     "output_type": "stream",
     "text": [
      "Document: 423\n",
      "Topics: ['DUP: [1] Photovoltaics: Mentions the conversion of light into electricity using solar cells.', 'DUP: [1] Material Science: Mentions the study of materials and their properties.', 'DUP: [1] Composite Materials: Mentions materials made up of two or more distinct components.', 'NEW: [1] Prepreg Technology: Mentions the manufacturing process of creating fiber-reinforced composites using preimpregnated fibers.', 'DUP: [1] Polymer Technology: Mentions the study and application of polymers.', 'NEW: [1] Encapsulation Technology: Mentions the process of enclosing or protecting something.', 'DUP: [1] Thin Films: Mentions films with a small thickness.', 'NEW: [1] Lightweight Materials: Mentions materials with low weight.', 'NEW: [1] Fibers: Mentions long, thin strands of material.', 'NEW: [1] Polymer Resins: Mentions a type of resin made from polymers.', 'NEW: [1] Fiberglass: Mentions a type of composite material made from glass fibers and polymer resin.', 'NEW: [1] Encapsulation Assemblies: Mentions structures used to enclose or protect something.', 'DUP: [1] Solar Cells: Mentions devices that convert light into electricity.', 'NEW: [1] Transparent Materials: Mentions materials that allow light to pass through']\n",
      "--------------------\n"
     ]
    },
    {
     "name": "stderr",
     "output_type": "stream",
     "text": [
      " 42%|████▏     | 424/1000 [19:02<32:07,  3.35s/it]"
     ]
    },
    {
     "name": "stdout",
     "output_type": "stream",
     "text": [
      "Document: 424\n",
      "Topics: ['DUP: [1] Engineering Design: Mentions the design of a support member and mounting system for photovoltaic modules.', 'DUP: [1] Mechanical Engineering: Mentions the design of a mechanical component, specifically a support member and mounting system.', 'DUP: [1] Photovoltaics: Mentions the use of photovoltaic modules.', 'DUP: [1] Mounting Systems: Mentions the design of a system for mounting photovoltaic modules.', 'DUP: [1] Manufacturing: Mentions the production of a support member and mounting system.', 'NEW: [1] Ballasts: Mentions the use of ballasts in the design of a support member for photovoltaic modules.', 'NEW: [1] Clamps: Mentions the use of clamp subassemblies in the design of a mounting system for photovoltaic modules.']\n",
      "--------------------\n"
     ]
    },
    {
     "name": "stderr",
     "output_type": "stream",
     "text": [
      " 42%|████▎     | 425/1000 [19:05<30:51,  3.22s/it]"
     ]
    },
    {
     "name": "stdout",
     "output_type": "stream",
     "text": [
      "Document: 425\n",
      "Topics: ['DUP: [1] Geothermal Energy: Mentions the use of geothermal energy for heating and cooling applications.', 'DUP: [1] Energy Storage: Mentions the use of storage tanks to store excess energy for later use.', 'DUP: [1] Heat Exchangers: Mentions the use of heat exchangers to transfer heat from one medium to another.', 'DUP: [1] Thermal Energy: Mentions the use of thermal energy for various applications.', 'DUP: [1] Engineering Systems: Mentions the design and implementation of systems for energy production and storage.']\n",
      "--------------------\n"
     ]
    },
    {
     "name": "stderr",
     "output_type": "stream",
     "text": [
      " 43%|████▎     | 426/1000 [19:09<32:08,  3.36s/it]"
     ]
    },
    {
     "name": "stdout",
     "output_type": "stream",
     "text": [
      "Document: 426\n",
      "Topics: ['DUP: [1] Sensors: Mentions devices used to detect and measure various physical properties and convert them into electrical signals.', 'NEW: [1] Optical Sensors: A type of sensor that uses light to detect and measure various properties.', 'NEW: [1] Graphene: A material made of a single layer of carbon atoms arranged in a hexagonal lattice.', 'DUP: [1] Electrodes: Devices used to conduct electrical current.', 'NEW: [1] Surface Plasmon Resonance: A phenomenon where electromagnetic waves excite free electrons at the surface of a metal, creating a surface plasma wave.', 'DUP: [1] Material Science: The study of the properties and behavior of various materials.', 'DUP: [1] Engineering Materials: Materials specifically designed and used in engineering applications.', 'DUP: [1] Electronics: The branch of physics and technology dealing with the emission, flow, and control of electrons.', 'DUP: [1] Optoelectronics: The branch of electronics dealing with the interaction between light and semiconductors.']\n",
      "--------------------\n"
     ]
    },
    {
     "name": "stderr",
     "output_type": "stream",
     "text": [
      " 43%|████▎     | 427/1000 [19:12<31:39,  3.32s/it]"
     ]
    },
    {
     "name": "stdout",
     "output_type": "stream",
     "text": [
      "Document: 427\n",
      "Topics: ['DUP: [1] Renewable Energy: Mentions the production of renewable oil from renewable crude oil.', 'DUP: [1] Chemical Processing: Mentions the processing of renewable oil using hydrogen and heterogeneous catalysts.', 'DUP: [1] Catalysis: Mentions the use of heterogeneous catalysts in the processing of renewable oil.', 'DUP: [1] Hydrogen Technology: Mentions the use of hydrogen in the processing of renewable oil.', 'NEW: [1] Energy Processing: Mentions the processing of renewable crude oil into upgraded renewable oil.', 'DUP: [1] Oil and Gas Industry: Mentions the processing of oil-related products, specifically renewable oil.']\n",
      "--------------------\n"
     ]
    },
    {
     "name": "stderr",
     "output_type": "stream",
     "text": [
      " 43%|████▎     | 428/1000 [19:14<29:23,  3.08s/it]"
     ]
    },
    {
     "name": "stdout",
     "output_type": "stream",
     "text": [
      "Document: 428\n",
      "Topics: ['NEW: [1] Photovoltaic Technology: Mentions the use of photovoltaic panels in generating electricity.', 'DUP: [1] Engineering Design: Mentions the design of a modular photovoltaic system.', 'DUP: [1] Mechanical Engineering: Mentions the use of hinges and the concept of changing angles between planes.', 'DUP: [1] Mounting Systems: Mentions the use of mounting flashing and hooks for attaching the photovoltaic panel to a surface.']\n",
      "--------------------\n"
     ]
    },
    {
     "name": "stderr",
     "output_type": "stream",
     "text": [
      " 43%|████▎     | 429/1000 [19:18<29:38,  3.12s/it]"
     ]
    },
    {
     "name": "stdout",
     "output_type": "stream",
     "text": [
      "Document: 429\n",
      "Topics: ['DUP: [1] Wireless Communications: Mentions the use of wireless technology for communication.', 'DUP: [1] Telecommunications: Mentions the exchange of information over long distances.', 'DUP: [1] Base Stations: Mentions the use of fixed stations to facilitate wireless communication.', 'DUP: [1] User Equipment: Mentions devices used by end-users to communicate wirelessly.', 'NEW: [1] Protocols: Mentions specific rules and conventions for communication.', 'NEW: [1] Data Units: Mentions the smallest units of data transmitted during communication.', 'NEW: [1] Processing: Mentions the manipulation of data using a computer or microcontroller.']\n",
      "--------------------\n"
     ]
    },
    {
     "name": "stderr",
     "output_type": "stream",
     "text": [
      " 43%|████▎     | 430/1000 [19:20<26:33,  2.80s/it]"
     ]
    },
    {
     "name": "stdout",
     "output_type": "stream",
     "text": [
      "Document: 430\n",
      "Topics: ['DUP: [1] Battery Technology: Mentions the development and application of batteries.', 'DUP: [1] Manufacturing: Mentions the process of producing goods, in this case, a battery module.']\n",
      "--------------------\n"
     ]
    },
    {
     "name": "stderr",
     "output_type": "stream",
     "text": [
      " 43%|████▎     | 431/1000 [19:22<25:14,  2.66s/it]"
     ]
    },
    {
     "name": "stdout",
     "output_type": "stream",
     "text": [
      "Document: 431\n",
      "Topics: ['DUP: [1] Photovoltaic Technology: Mentions the use of photovoltaic assemblies to convert solar radiation to electrical energy.', 'DUP: [1] Engineering Design: Mentions the design of improved photovoltaic assemblies and methods of installation.', 'DUP: [1] Manufacturing: Mentions the encapsulation of solar cells within a PV laminate and the use of frames and spacing devices in PV modules.']\n",
      "--------------------\n"
     ]
    },
    {
     "name": "stderr",
     "output_type": "stream",
     "text": [
      " 43%|████▎     | 432/1000 [19:25<24:36,  2.60s/it]"
     ]
    },
    {
     "name": "stdout",
     "output_type": "stream",
     "text": [
      "Document: 432\n",
      "Topics: ['DUP: [1] Pharmaceuticals: Mentions the development of a medication for treating infections.', 'NEW: [1] Healthcare: Mentions medical treatments and procedures.', 'DUP: [1] Chemicals: Mentions the use of antimicrobial and anti-adhesive agents, which are types of chemicals.']\n",
      "--------------------\n"
     ]
    },
    {
     "name": "stderr",
     "output_type": "stream",
     "text": [
      " 43%|████▎     | 433/1000 [19:27<23:10,  2.45s/it]"
     ]
    },
    {
     "name": "stdout",
     "output_type": "stream",
     "text": [
      "Document: 433\n",
      "Topics: ['DUP: [1] Memory Technology: Mentions various components and controllers related to memory devices.', 'DUP: [1] Electronic Controls: Mentions the use of controllers to manage various systems or components.']\n",
      "--------------------\n"
     ]
    },
    {
     "name": "stderr",
     "output_type": "stream",
     "text": [
      " 43%|████▎     | 434/1000 [19:30<24:26,  2.59s/it]"
     ]
    },
    {
     "name": "stdout",
     "output_type": "stream",
     "text": [
      "Document: 434\n",
      "Topics: ['DUP: [1] Nanotechnology: Mentions the development and application of nanoscale materials and technologies.', 'DUP: [1] Material Science: Mentions the study of the properties and composition of materials.', 'NEW: [1] Polymer Science: Mentions the study of polymers and their properties.', 'NEW: [1] Drug Delivery Systems: Mentions systems designed to transport drugs or other therapeutic agents to specific locations in the body.', 'NEW: [1] Biomedical Engineering: Mentions the application of engineering principles to medical problems.', 'DUP: [1] Chemical Engineering: Mentions the application of chemistry, biology, and mathematics to design and develop processes and systems.']\n",
      "--------------------\n"
     ]
    },
    {
     "name": "stderr",
     "output_type": "stream",
     "text": [
      " 44%|████▎     | 435/1000 [19:33<26:21,  2.80s/it]"
     ]
    },
    {
     "name": "stdout",
     "output_type": "stream",
     "text": [
      "Document: 435\n",
      "Topics: ['DUP: [1] Lighting Technology: Mentions the use and application of lighting systems and technologies.', 'NEW: [1] Health and Wellbeing: Refers to the promotion of physical and mental well-being.', 'NEW: [1] Circadian Rhythm: Relates to the natural biological rhythms that regulate the sleep-wake cycle and other physiological processes.', 'NEW: [1] Indoor Environment: Represents the conditions and characteristics of an enclosed space.', 'DUP: [1] Synchronization: Involves coordinating the actions or operations of different devices or systems.', 'NEW: [1] Drift: Refers to the gradual deviation from a desired state or position.', 'NEW: [1] Environmental Design: Encompasses the planning and implementation of spaces that consider the needs and comfort of occupants.', 'DUP: [1] Electrical Systems: Deals with the production, distribution, and utilization of electrical power.', 'DUP: [1] Control Systems: Involves the use of automated systems to manage and regulate various processes and functions.']\n",
      "--------------------\n"
     ]
    },
    {
     "name": "stderr",
     "output_type": "stream",
     "text": [
      " 44%|████▎     | 436/1000 [19:36<27:20,  2.91s/it]"
     ]
    },
    {
     "name": "stdout",
     "output_type": "stream",
     "text": [
      "Document: 436\n",
      "Topics: ['DUP: [1] Networking: Mentions communication and organization of multiple components.', 'DUP: [1] Control Systems: Mentions the use of control modules and their functions.', 'DUP: [1] Lighting Technology: Mentions the operation and expansion of a network of lights.', 'DUP: [1] Communication Technology: Mentions the transmission of environmental information and communication between control modules and a central server.']\n",
      "--------------------\n"
     ]
    },
    {
     "name": "stderr",
     "output_type": "stream",
     "text": [
      " 44%|████▎     | 437/1000 [19:39<26:35,  2.83s/it]"
     ]
    },
    {
     "name": "stdout",
     "output_type": "stream",
     "text": [
      "Document: 437\n",
      "Topics: ['DUP: [1] Location Technology: Mentions the use of technology to determine or identify locations.', 'DUP: [1] Wireless Communications: Mentions the use of wireless technology for communication between devices.', 'DUP: [1] Electronic Devices: Mentions the use of electronic devices.', 'DUP: [1] Control Systems: Mentions the use of systems for controlling devices or processes.', 'NEW: [1] Receiver Technology: Mentions the use of technology for receiving signals or information.']\n",
      "--------------------\n"
     ]
    },
    {
     "name": "stderr",
     "output_type": "stream",
     "text": [
      " 44%|████▍     | 438/1000 [19:42<27:15,  2.91s/it]"
     ]
    },
    {
     "name": "stdout",
     "output_type": "stream",
     "text": [
      "Document: 438\n",
      "Topics: ['DUP: [1] Battery Technology: Mentions the development and management of batteries.', 'DUP: [1] Electrical Systems: Mentions the use of electrical components and systems.', 'DUP: [1] Power Management: Mentions the management and control of electrical power.', 'DUP: [1] Engineering Design: Mentions the design and development of systems and components.', 'NEW: [1] Measurement Systems: Mentions the use of systems for measuring various quantities.', 'DUP: [1] Control Systems: Mentions the use of systems for controlling and regulating processes.']\n",
      "--------------------\n"
     ]
    },
    {
     "name": "stderr",
     "output_type": "stream",
     "text": [
      " 44%|████▍     | 439/1000 [19:44<25:28,  2.72s/it]"
     ]
    },
    {
     "name": "stdout",
     "output_type": "stream",
     "text": [
      "Document: 439\n",
      "Topics: ['DUP: [1] Power Management: Mentions the regulation and control of electrical power.', 'DUP: [1] Electrical Systems: Mentions electrical power supplies and components.', 'DUP: [1] Control Systems: Mentions the use of controllers to manage and adjust systems.']\n",
      "--------------------\n"
     ]
    },
    {
     "name": "stderr",
     "output_type": "stream",
     "text": [
      " 44%|████▍     | 440/1000 [19:47<26:15,  2.81s/it]"
     ]
    },
    {
     "name": "stdout",
     "output_type": "stream",
     "text": [
      "Document: 440\n",
      "Topics: ['DUP: [1] Computer Systems: Mentions computer systems and their components.', 'DUP: [1] Processor Technology: Mentions processor technology and related concepts.', 'NEW: [1] Register Technology: Mentions register technology and related concepts.', 'DUP: [1] Control Systems: Mentions control systems and their applications.', 'NEW: [1] Programmable Logic: Mentions programmable logic and controllers.', 'NEW: [1] Digital Electronics: Mentions digital electronics and related concepts.', 'NEW: [1] Microarchitecture: Mentions microarchitecture and processor design.', 'DUP: [1] Computer Engineering: Mentions computer engineering and related concepts.', 'NEW: [1] Computer Science: Mentions computer science and related concepts.']\n",
      "--------------------\n"
     ]
    },
    {
     "name": "stderr",
     "output_type": "stream",
     "text": [
      " 44%|████▍     | 441/1000 [19:50<25:33,  2.74s/it]"
     ]
    },
    {
     "name": "stdout",
     "output_type": "stream",
     "text": [
      "Document: 441\n",
      "Topics: ['DUP: [1] Battery Technology: Mentions the design and components of batteries, including leadframes and seals.']\n",
      "--------------------\n"
     ]
    },
    {
     "name": "stderr",
     "output_type": "stream",
     "text": [
      " 44%|████▍     | 442/1000 [19:52<25:05,  2.70s/it]"
     ]
    },
    {
     "name": "stdout",
     "output_type": "stream",
     "text": [
      "Document: 442\n",
      "Topics: ['DUP: [1] Energy: Mentions all-solid-state battery and pressurization analysis.', 'DUP: [1] Engineering Design: Mentions structure design and pressurizing mechanism.', 'DUP: [1] Material Science: Mentions all-solid-state battery and reflection type X-ray diffraction measurement.']\n",
      "--------------------\n"
     ]
    },
    {
     "name": "stderr",
     "output_type": "stream",
     "text": [
      " 44%|████▍     | 443/1000 [19:55<24:49,  2.67s/it]"
     ]
    },
    {
     "name": "stdout",
     "output_type": "stream",
     "text": [
      "Document: 443\n",
      "Topics: ['DUP: [1] Material Processing: Mentions the processing of materials, specifically plastic, using a microwave pyrolysis process.', 'DUP: [1] Catalyst Technology: Mentions the use of a catalyst in the microwave pyrolysis process for plastic depolymerization.', 'DUP: [1] Microwave Technology: Mentions the use of microwaves in the pyrolysis process for generating heat and initiating a reaction.']\n",
      "--------------------\n"
     ]
    },
    {
     "name": "stderr",
     "output_type": "stream",
     "text": [
      " 44%|████▍     | 444/1000 [19:58<24:46,  2.67s/it]"
     ]
    },
    {
     "name": "stdout",
     "output_type": "stream",
     "text": [
      "Document: 444\n",
      "Topics: ['DUP: [1] Composite Materials: Mentions materials made up of two or more distinct components.', 'DUP: [1] Battery Technology: Mentions technologies related to the storage and conversion of electrical energy.', 'DUP: [1] Electrical Systems: Mentions systems used to distribute or control the flow of electrical energy.', 'DUP: [1] Vehicle Technology: Mentions technologies related to vehicles, including automotive and aerospace.']\n",
      "--------------------\n"
     ]
    },
    {
     "name": "stderr",
     "output_type": "stream",
     "text": [
      " 44%|████▍     | 445/1000 [20:00<23:29,  2.54s/it]"
     ]
    },
    {
     "name": "stdout",
     "output_type": "stream",
     "text": [
      "Document: 445\n",
      "Topics: ['DUP: [1] Battery Technology: Mentions the development of a means to suppress capacity decrease and improve cycle characteristics for a non-aqueous electrolyte secondary battery, specifically using a lithium-nickel-manganese-cobalt composite oxide as the positive electrode active substance.']\n",
      "--------------------\n"
     ]
    },
    {
     "name": "stderr",
     "output_type": "stream",
     "text": [
      " 45%|████▍     | 446/1000 [20:02<23:10,  2.51s/it]"
     ]
    },
    {
     "name": "stdout",
     "output_type": "stream",
     "text": [
      "Document: 446\n",
      "Topics: ['DUP: [1] Electrical Systems: Mentions electronic devices and their connections.', 'DUP: [1] Adapters: Mentions the use of an adapter for connecting electronic devices.', 'DUP: [1] Covers: Mentions the use of a cover for protecting electronic devices.', 'NEW: [1] Docking Stations: Mentions the use of a docking cradle or external adapter for receiving electronic devices.']\n",
      "--------------------\n"
     ]
    },
    {
     "name": "stderr",
     "output_type": "stream",
     "text": [
      " 45%|████▍     | 447/1000 [20:04<22:07,  2.40s/it]"
     ]
    },
    {
     "name": "stdout",
     "output_type": "stream",
     "text": [
      "Document: 447\n",
      "Topics: ['DUP: [1] Wastewater Treatment: Mentions the processing of wastewater and the generation of potable water.', 'DUP: [1] Energy: Mentions the conversion of waste into electricity.']\n",
      "--------------------\n"
     ]
    },
    {
     "name": "stderr",
     "output_type": "stream",
     "text": [
      " 45%|████▍     | 448/1000 [20:07<24:01,  2.61s/it]"
     ]
    },
    {
     "name": "stdout",
     "output_type": "stream",
     "text": [
      "Document: 448\n",
      "Topics: ['DUP: [1] Sensing Technology: Mentions various sensing techniques and technologies.', 'NEW: [1] Magnetoresistive Sensors: Specific type of sensor that uses the magnetoresistive effect to measure magnetic fields.']\n",
      "--------------------\n"
     ]
    },
    {
     "name": "stderr",
     "output_type": "stream",
     "text": [
      " 45%|████▍     | 449/1000 [20:10<22:54,  2.49s/it]"
     ]
    },
    {
     "name": "stdout",
     "output_type": "stream",
     "text": [
      "Document: 449\n",
      "Topics: ['DUP: [1] Engineering Design: Mentions methods and systems for adjusting a component in a mechanical system.', 'DUP: [1] Turbochargers: Mentions a specific type of engine component used to increase engine performance.', 'DUP: [1] Mechanical Engineering: Mentions the design and function of mechanical systems.', 'DUP: [1] Automotive Technology: Mentions a specific application of engineering design and mechanical systems in the automotive industry.']\n",
      "--------------------\n"
     ]
    },
    {
     "name": "stderr",
     "output_type": "stream",
     "text": [
      " 45%|████▌     | 450/1000 [20:13<24:32,  2.68s/it]"
     ]
    },
    {
     "name": "stdout",
     "output_type": "stream",
     "text": [
      "Document: 450\n",
      "Topics: ['DUP: [1] Internal Combustion Engines: Mentions engines and their components, including outboard motors and superchargers.', 'DUP: [1] Engineering Design: Mentions the design of outboard motor units, including the use of superchargers and cowlings.', 'DUP: [1] Mechanical Engineering: Mentions the mechanical design and functionality of outboard motor units and their components.', 'DUP: [1] Manufacturing: Mentions the production of outboard motor units and their components.', 'DUP: [1] Technology: Mentions the use of technology, specifically superchargers, in outboard motor units.']\n",
      "--------------------\n"
     ]
    },
    {
     "name": "stderr",
     "output_type": "stream",
     "text": [
      " 45%|████▌     | 451/1000 [20:15<24:26,  2.67s/it]"
     ]
    },
    {
     "name": "stdout",
     "output_type": "stream",
     "text": [
      "Document: 451\n",
      "Topics: ['DUP: [1] Power Management: Mentions the operation and management of electric power distribution grids.', 'DUP: [1] Communication Technology: Mentions the use of the Internet for transmitting grid data.', 'DUP: [1] Engineering Controls: Mentions the configuration of electronic protection relays and accessory devices.', 'DUP: [1] Computer Systems: Mentions the use of computerized platforms and configuration computerized units.']\n",
      "--------------------\n"
     ]
    },
    {
     "name": "stderr",
     "output_type": "stream",
     "text": [
      " 45%|████▌     | 452/1000 [20:18<23:24,  2.56s/it]"
     ]
    },
    {
     "name": "stdout",
     "output_type": "stream",
     "text": [
      "Document: 452\n",
      "Topics: ['DUP: [1] Networking: Mentions the exchange of data between network devices.', 'NEW: [1] Link Aggregation: Mentions the combining of multiple physical links into a single logical link for increased bandwidth and reliability.']\n",
      "--------------------\n"
     ]
    },
    {
     "name": "stderr",
     "output_type": "stream",
     "text": [
      " 45%|████▌     | 453/1000 [20:22<27:26,  3.01s/it]"
     ]
    },
    {
     "name": "stdout",
     "output_type": "stream",
     "text": [
      "Document: 453\n",
      "Topics: ['NEW: [1] Virtualization: Refers to the process of creating a virtual version of something, such as a server, storage device, or operating system. In this context, it refers to the creation and management of virtual machines.', 'DUP: [1] Server Technology: Encompasses the design, development, implementation, and management of servers and server systems. This includes virtualization technology and techniques for optimizing server utilization.', 'DUP: [1] Resource Management: Deals with the effective and efficient allocation, utilization, and optimization of resources, such as processing power, memory, and storage. In this context, it refers to the allocation and management of resources for virtual machines.', 'NEW: [1] Utility Computing: A model for delivering computing resources and services on demand, where the usage is metered and charged based on the actual usage. In this context, it refers to the optimization of virtual machine utilization for maximum utility.', 'NEW: [1] Applications: Software programs designed to perform specific tasks for users. In this context, it refers to applications operating on virtual machines and their resource requirements.', 'DUP: [1] Processing: Refers to the execution of instructions by a computer or a processor. In this context, it refers to the allocation of processing resources based on utility priority and the determination of processing cycle ratios for different applications.', 'NEW: [1] Contention: Occurs when multiple entities, such as virtual machines, compete for a shared resource']\n",
      "--------------------\n"
     ]
    },
    {
     "name": "stderr",
     "output_type": "stream",
     "text": [
      " 45%|████▌     | 454/1000 [20:24<25:50,  2.84s/it]"
     ]
    },
    {
     "name": "stdout",
     "output_type": "stream",
     "text": [
      "Document: 454\n",
      "Topics: ['DUP: [1] Battery Technology: Mentions the development and production of batteries, specifically an all-solid-state lithium battery based on borohydride/sulfide two-layer fast ion conductors.']\n",
      "--------------------\n"
     ]
    },
    {
     "name": "stderr",
     "output_type": "stream",
     "text": [
      " 46%|████▌     | 455/1000 [20:27<26:42,  2.94s/it]"
     ]
    },
    {
     "name": "stdout",
     "output_type": "stream",
     "text": [
      "Document: 455\n",
      "Topics: ['DUP: [1] Control Systems: Mentions the use of control circuits to manage and reduce switching loss in electrical systems.', 'DUP: [1] Electrical Systems: Mentions the use of control circuits in electrical systems to manage switching loss.', 'DUP: [1] Power Electronics: Mentions the use of control circuits and PWM signals in power electronics to manage switching loss.', 'DUP: [1] Signal Processing: Mentions the generation and manipulation of command value signals and PWM signals in control circuits.']\n",
      "--------------------\n"
     ]
    },
    {
     "name": "stderr",
     "output_type": "stream",
     "text": [
      " 46%|████▌     | 456/1000 [20:31<27:17,  3.01s/it]"
     ]
    },
    {
     "name": "stdout",
     "output_type": "stream",
     "text": [
      "Document: 456\n",
      "Topics: ['DUP: [1] Organic Photovoltaics: Mentions the use of organic materials in the conversion of light into electricity.', 'DUP: [1] Photovoltaics: Mentions the conversion of light into electricity.', 'DUP: [1] Electrodes: Mentions conductive components used to make electrical contact with a conductor or semiconductor.', 'DUP: [1] Substrates: Mentions materials that support or provide a base for other structures or components.', 'DUP: [1] Transparent Materials: Mentions materials that allow light to pass through while maintaining structural integrity.']\n",
      "--------------------\n"
     ]
    },
    {
     "name": "stderr",
     "output_type": "stream",
     "text": [
      " 46%|████▌     | 457/1000 [20:33<24:50,  2.74s/it]"
     ]
    },
    {
     "name": "stdout",
     "output_type": "stream",
     "text": [
      "Document: 457\n",
      "Topics: ['DUP: [1] Electrical Systems: Mentions electrical components and their arrangements.', 'DUP: [1] Automotive Technology: Mentions vehicle-side electrical energy store and charging circuit.', 'DUP: [1] Power Electronics: Mentions rectifier and configuration device.', 'DUP: [1] Capacitors: Mentions smoothing capacitors.', 'DUP: [1] Circuit Design: Mentions diode circuit and alternating current terminal.']\n",
      "--------------------\n"
     ]
    },
    {
     "name": "stderr",
     "output_type": "stream",
     "text": [
      " 46%|████▌     | 458/1000 [20:36<25:45,  2.85s/it]"
     ]
    },
    {
     "name": "stdout",
     "output_type": "stream",
     "text": [
      "Document: 458\n",
      "Topics: ['DUP: [1] Electrical Systems: Mentions components of an electrical power distribution system.', 'NEW: [1] Circuit Breakers: Specific type of electrical component mentioned in the document.', 'NEW: [1] Boards: Mentions a board located in a plug-in frame.', 'NEW: [1] Position Signal Acquisition Apparatus: Mentions a device used to acquire signals related to position.', 'NEW: [1] Slot Positions: Mentions specific locations on a board for electrical components.']\n",
      "--------------------\n"
     ]
    },
    {
     "name": "stderr",
     "output_type": "stream",
     "text": [
      " 46%|████▌     | 459/1000 [20:38<25:12,  2.80s/it]"
     ]
    },
    {
     "name": "stdout",
     "output_type": "stream",
     "text": [
      "Document: 459\n",
      "Topics: ['DUP: [1] Electric Vehicles: Mentions the use of electrically driven vehicles.', 'NEW: [1] Power Circuits: Mentions the use of power circuits in electrically driven vehicles.', 'NEW: [1] Energy Supply Systems: Mentions the use of energy supply systems for electric vehicles.', 'DUP: [1] Power Management: Mentions the management of power in electric vehicles.', 'NEW: [1] Traction Drives: Mentions the use of electrical traction drives in electric vehicles.', 'NEW: [1] Alternating Current: Mentions the use of alternating current in power circuits.', 'NEW: [1] Direct Current: Mentions the use of direct current in power circuits and power supply.']\n",
      "--------------------\n"
     ]
    },
    {
     "name": "stderr",
     "output_type": "stream",
     "text": [
      " 46%|████▌     | 460/1000 [20:42<27:49,  3.09s/it]"
     ]
    },
    {
     "name": "stdout",
     "output_type": "stream",
     "text": [
      "Document: 460\n",
      "Topics: ['NEW: [1] Asphalt Technology: Mentions the process of producing and improving asphalt mixtures.', 'DUP: [1] Material Processing: Mentions the preparation and modification of materials.', 'DUP: [1] Engineering: Mentions the application of scientific, economic, social, and practical knowledge to design, build, and maintain structures and systems.', 'DUP: [1] Manufacturing: Mentions the production of goods through the use of machinery, tools, or labor.', 'DUP: [1] Horticulture: Mentions plant-related practices and technologies.', 'DUP: [1] Technology: Mentions the application of scientific knowledge for practical purposes.', 'DUP: [1] Engineering Design: Mentions the process of creating designs for structures, machines, devices, systems, and processes.', 'DUP: [1] Mechanical Engineering: Mentions the application of principles of physics and mathematics for the design, analysis, manufacturing, and maintenance of mechanical systems.', 'DUP: [1] Industrial Automation: Mentions the use of control systems, sensors, and machines to automate industrial processes.', 'NEW: [1] Construction: Mentions the process of constructing buildings, roads, bridges, and other structures.', 'DUP: [1] Material Science: Mentions the study of the properties and behavior of materials.', 'NEW: [1] Chemistry: Mentions the study of the properties and interactions of matter.', 'NEW: [1] Heat Transfer: Mentions the process']\n",
      "--------------------\n"
     ]
    },
    {
     "name": "stderr",
     "output_type": "stream",
     "text": [
      " 46%|████▌     | 461/1000 [20:45<28:00,  3.12s/it]"
     ]
    },
    {
     "name": "stdout",
     "output_type": "stream",
     "text": [
      "Document: 461\n",
      "Topics: ['DUP: [1] Additive Manufacturing: Mentions the process of creating three-dimensional objects by adding material layer by layer.', 'NEW: [1] Manufacturing Technology: Mentions the tools, machines, and techniques used in the production of goods.', 'DUP: [1] Energy: Mentions the source of power used in the manufacturing process.', 'DUP: [1] Control Systems: Mentions the systems used to manage and regulate the manufacturing process.', 'DUP: [1] Engineering: Mentions the application of scientific, economic, social, and practical knowledge to design, build, and maintain structures, machines, devices, systems, and processes.']\n",
      "--------------------\n"
     ]
    },
    {
     "name": "stderr",
     "output_type": "stream",
     "text": [
      " 46%|████▌     | 462/1000 [20:50<32:02,  3.57s/it]"
     ]
    },
    {
     "name": "stdout",
     "output_type": "stream",
     "text": [
      "Document: 462\n",
      "Topics: ['DUP: [1] Wind Energy: Mentions the generation of electricity from wind using wind turbines and related systems.', 'DUP: [1] Control Systems: Mentions systems used to regulate and direct the operation of other systems or processes.', 'DUP: [1] Engineering Design: Mentions the process of creating new products or systems using scientific, economic, social, and practical knowledge.', 'DUP: [1] Power Management: Mentions the process of generating, distributing, and using electrical power efficiently.', 'DUP: [1] Industrial Automation: Mentions the use of control systems and computers to automate industrial processes.', 'DUP: [1] Electrical Systems: Mentions the components and systems used to generate, distribute, and use electrical power.', 'DUP: [1] Mechanical Engineering: Mentions the application of physical principles to design, build, and maintain mechanical systems.', 'DUP: [1] Technology: Mentions the application of scientific knowledge for practical purposes, especially in industry.']\n",
      "--------------------\n"
     ]
    },
    {
     "name": "stderr",
     "output_type": "stream",
     "text": [
      " 46%|████▋     | 463/1000 [20:53<29:29,  3.30s/it]"
     ]
    },
    {
     "name": "stdout",
     "output_type": "stream",
     "text": [
      "Document: 463\n",
      "Topics: ['DUP: [1] Battery Technology: Mentions non-aqueous electrolyte secondary batteries and their components, including positive and negative electrodes, separators, and electrolyte solutions. This topic is broad enough to accommodate various types of batteries and their specifications.']\n",
      "--------------------\n"
     ]
    },
    {
     "name": "stderr",
     "output_type": "stream",
     "text": [
      " 46%|████▋     | 464/1000 [20:56<28:48,  3.23s/it]"
     ]
    },
    {
     "name": "stdout",
     "output_type": "stream",
     "text": [
      "Document: 464\n",
      "Topics: ['DUP: [1] Wireless Communications: Mentions the use of wireless technology for communication.', 'DUP: [1] Data Transmission: Mentions the process of sending data from one place to another.', 'NEW: [1] Bitmaps: Mentions the use of bitmap data for storing and manipulating visual information.', 'NEW: [1] Piconets: Mentions the use of small ad-hoc networks in wireless communication.', 'NEW: [1] Data Packets: Mentions the division of data into smaller units for transmission.', 'NEW: [1] Selective Relay: Mentions the process of forwarding only certain data packets in a network.']\n",
      "--------------------\n"
     ]
    },
    {
     "name": "stderr",
     "output_type": "stream",
     "text": [
      " 46%|████▋     | 465/1000 [20:58<26:52,  3.01s/it]"
     ]
    },
    {
     "name": "stdout",
     "output_type": "stream",
     "text": [
      "Document: 465\n",
      "Topics: ['DUP: [1] Lighting and Climate Control: Mentions regulation of brightness for a luminous unit using a pulse width modulator.']\n",
      "--------------------\n"
     ]
    },
    {
     "name": "stderr",
     "output_type": "stream",
     "text": [
      " 47%|████▋     | 466/1000 [21:02<28:35,  3.21s/it]"
     ]
    },
    {
     "name": "stdout",
     "output_type": "stream",
     "text": [
      "Document: 466\n",
      "Topics: ['DUP: [1] Electrical Systems: Mentions the use of electrical components in a system.', 'DUP: [1] Power Management: Mentions the management and control of electrical power.', 'DUP: [1] Control Systems: Mentions the use of systems to control and regulate processes.', 'NEW: [1] Bulk Capacitors: Mentions the use of capacitors to store electrical energy.', 'NEW: [1] Relays: Mentions the use of electrical switches to control the flow of electrical current.', 'NEW: [1] Power Factor Correction Circuits: Mentions the use of circuits to improve the efficiency of electrical power.', 'NEW: [1] Switches: Mentions the use of electrical switches to control the flow of electrical current.', 'NEW: [1] Snubber Circuits: Mentions the use of circuits to protect against voltage spikes.', 'DUP: [1] Processors: Mentions the use of microprocessors to control and manage systems.']\n",
      "--------------------\n"
     ]
    },
    {
     "name": "stderr",
     "output_type": "stream",
     "text": [
      " 47%|████▋     | 467/1000 [21:06<29:59,  3.38s/it]"
     ]
    },
    {
     "name": "stdout",
     "output_type": "stream",
     "text": [
      "Document: 467\n",
      "Topics: ['DUP: [1] Engineering Design: Mentions the design of engineering components and systems.', 'DUP: [1] Mechanical Engineering: Mentions the application of engineering principles to mechanical systems.', 'DUP: [1] Solar Energy: Mentions the use of solar energy and related technologies.', 'DUP: [1] Mounting Systems: Mentions systems used to attach components to surfaces.', 'DUP: [1] Fasteners: Mentions devices used to secure components together.', 'NEW: [1] Tracks: Mentions systems used to guide or support movement.', 'NEW: [1] Rail Technology: Mentions technology related to rails and their components.', 'NEW: [1] Base Plates: Mentions flat plates used as a foundation or mounting surface.', 'NEW: [1] Surface Tracks: Mentions systems used to guide or support movement on a surface.']\n",
      "--------------------\n"
     ]
    },
    {
     "name": "stderr",
     "output_type": "stream",
     "text": [
      " 47%|████▋     | 468/1000 [21:09<29:40,  3.35s/it]"
     ]
    },
    {
     "name": "stdout",
     "output_type": "stream",
     "text": [
      "Document: 468\n",
      "Topics: ['DUP: [1] Battery Technology: Mentions battery pack and charging.', 'DUP: [1] Control Systems: Mentions control module and its functions.', 'DUP: [1] Electrical Systems: Mentions motor, battery pack, and external power supply.', 'DUP: [1] Engineering Design: Mentions industrial actuator device and its components.', 'DUP: [1] Manufacturing: Implied by \"motor driven industrial actuator device.\"', 'DUP: [1] Temperature Control: Mentions temperature sensor and temperature threshold.']\n",
      "--------------------\n"
     ]
    },
    {
     "name": "stderr",
     "output_type": "stream",
     "text": [
      " 47%|████▋     | 469/1000 [21:11<27:08,  3.07s/it]"
     ]
    },
    {
     "name": "stdout",
     "output_type": "stream",
     "text": [
      "Document: 469\n",
      "Topics: ['DUP: [1] Solar Cell Technology: Mentions the design, manufacturing, and research of solar cells, specifically compound semiconductor solar cells.', 'DUP: [1] Compound Semiconductors: Mentions materials used in semiconductor technology, specifically compound semiconductors.']\n",
      "--------------------\n"
     ]
    },
    {
     "name": "stderr",
     "output_type": "stream",
     "text": [
      " 47%|████▋     | 470/1000 [21:14<26:23,  2.99s/it]"
     ]
    },
    {
     "name": "stdout",
     "output_type": "stream",
     "text": [
      "Document: 470\n",
      "Topics: ['DUP: [1] Material Science: Mentions the study of the properties and composition of materials.', 'NEW: [1] Carbon Technology: Mentions the use and production of carbon-based materials.', 'NEW: [1] Porous Materials: Mentions materials with a large surface area and interconnected pores.', 'NEW: [1] Template Technology: Mentions the use of templates to guide the growth or formation of materials.', 'DUP: [1] Chemical Processing: Mentions the transformation of materials through chemical reactions.']\n",
      "--------------------\n"
     ]
    },
    {
     "name": "stderr",
     "output_type": "stream",
     "text": [
      " 47%|████▋     | 471/1000 [21:17<26:31,  3.01s/it]"
     ]
    },
    {
     "name": "stdout",
     "output_type": "stream",
     "text": [
      "Document: 471\n",
      "Topics: ['DUP: [1] Water Treatment: Mentions processes and technologies used to improve the quality of water.', 'DUP: [1] Chemical Processing: Mentions the transformation of raw materials into products through chemical reactions.', 'NEW: [1] Nitrogen Technology: Mentions technologies and processes related to nitrogen compounds.', 'NEW: [1] Wastewater Analysis: Mentions the examination and evaluation of wastewater to determine its quality and composition.', 'DUP: [1] Spectroscopy: Mentions the use of electromagnetic radiation to identify and analyze chemical compounds.', 'DUP: [1] Data Processing: Mentions the manipulation and analysis of data to extract meaningful information.', 'NEW: [1] Network Analysis: Mentions the study of complex networks and their properties.']\n",
      "--------------------\n"
     ]
    },
    {
     "name": "stderr",
     "output_type": "stream",
     "text": [
      " 47%|████▋     | 472/1000 [21:20<26:32,  3.02s/it]"
     ]
    },
    {
     "name": "stdout",
     "output_type": "stream",
     "text": [
      "Document: 472\n",
      "Topics: ['DUP: [1] Energy: Mentions the utilization of various forms of energy.', 'NEW: [1] Hydroelectric Power: Mentions the generation of electricity using the energy from moving water.', 'NEW: [1] Steam Engines: Mentions the use of steam as a power source.', 'NEW: [1] Condensers: Mentions the component used to convert steam back into liquid water.', 'NEW: [1] Water Systems: Mentions the use and manipulation of water in various applications.']\n",
      "--------------------\n"
     ]
    },
    {
     "name": "stderr",
     "output_type": "stream",
     "text": [
      " 47%|████▋     | 473/1000 [21:23<25:12,  2.87s/it]"
     ]
    },
    {
     "name": "stdout",
     "output_type": "stream",
     "text": [
      "Document: 473\n",
      "Topics: ['DUP: [1] Renewable Energy: Mentions the use of wind and solar energy for generating power.', 'NEW: [1] Lighting Systems: Mentions the use of light bulbs and their power supply.', 'DUP: [1] Energy Storage: Mentions the use of batteries for storing excess energy.', 'DUP: [1] Electric Systems: Mentions the use of generators, controllers, and wiring for power transfer and distribution.', 'DUP: [1] Structural Design: Mentions the design of the monopole and leaves for supporting solar panels and light bulbs.']\n",
      "--------------------\n"
     ]
    },
    {
     "name": "stderr",
     "output_type": "stream",
     "text": [
      " 47%|████▋     | 474/1000 [21:28<31:49,  3.63s/it]"
     ]
    },
    {
     "name": "stdout",
     "output_type": "stream",
     "text": [
      "Document: 474\n",
      "Topics: ['DUP: [1] Sensing Systems: Systems used to detect and measure physical or chemical properties of the environment.', 'DUP: [1] Power Systems: Systems used to generate, transmit, and distribute electrical power.', 'NEW: [1] Communication Systems: Systems used to transmit and receive information.', 'DUP: [1] Control Systems: Systems used to manage and regulate processes and operations.', 'DUP: [1] Measurement Systems: Systems used to measure physical or chemical properties.', 'NEW: [1] Interface Devices: Devices used to connect and communicate between different systems or components.', 'NEW: [1] Analyte Sensing Devices: Devices used to detect and measure specific substances or analytes.', 'DUP: [1] Data Transmission: The process of sending data from one location to another.', 'NEW: [1] Commands: Instructions given to a system or device to perform a specific action.', 'NEW: [1] Parallel Processing: The ability of a system to process multiple tasks or data points simultaneously.', 'NEW: [1] Addressing: The process of identifying and targeting specific devices or components within a system.', 'NEW: [1] Interference: The unwanted influence or disruption of a signal or process.', 'NEW: [1] Measurement Sequences: A series of steps or procedures performed to make a measurement.', 'NEW: [1] Control Signals: Signals used to control or regulate the operation of a system or device.']\n",
      "--------------------\n"
     ]
    },
    {
     "name": "stderr",
     "output_type": "stream",
     "text": [
      " 48%|████▊     | 475/1000 [21:32<33:16,  3.80s/it]"
     ]
    },
    {
     "name": "stdout",
     "output_type": "stream",
     "text": [
      "Document: 475\n",
      "Topics: ['DUP: [1] Refrigeration Technology: Mentions the technology used to maintain low temperatures, often for perishable goods.', 'DUP: [1] Engineering Design: Mentions the process of designing systems, structures, or processes.', 'DUP: [1] Manufacturing: Mentions the process of producing goods on a large scale.', 'DUP: [1] Energy: Mentions the utilization of energy.', 'DUP: [1] Transportation Technology: Mentions technology related to transportation.', 'DUP: [1] Automotive Technology: Mentions technology related to automobiles.', 'DUP: [1] Engineering: Mentions the application of scientific, economic, social, and practical knowledge to design, build, and maintain structures, machines, devices, systems, and processes.', 'DUP: [1] Electrical Systems: Mentions systems that use electricity to function.', 'DUP: [1] Control Systems: Mentions systems that regulate, direct, or automate processes.', 'DUP: [1] Mechanical Engineering: Mentions the branch of engineering that deals with the design, construction, and operation of mechanical systems.', 'NEW: [1] Fuel Technology: Mentions technology related to the production, processing, and use of fuels.', 'DUP: [1] Electronics: Mentions the branch of technology that deals with electronic components and systems.', 'DUP: [1] Computer Systems: Mentions systems that use computers to']\n",
      "--------------------\n"
     ]
    },
    {
     "name": "stderr",
     "output_type": "stream",
     "text": [
      " 48%|████▊     | 476/1000 [21:35<30:09,  3.45s/it]"
     ]
    },
    {
     "name": "stdout",
     "output_type": "stream",
     "text": [
      "Document: 476\n",
      "Topics: ['DUP: [1] Computer Systems: Mentions computer hardware and software.', 'DUP: [1] Temperature Control: Mentions methods and systems for controlling temperature.', 'NEW: [1] Task Scheduling: Mentions methods and systems for scheduling tasks.', 'NEW: [1] GPU Technology: Mentions graphics processing units and related technology.']\n",
      "--------------------\n"
     ]
    },
    {
     "name": "stderr",
     "output_type": "stream",
     "text": [
      " 48%|████▊     | 477/1000 [21:38<27:42,  3.18s/it]"
     ]
    },
    {
     "name": "stdout",
     "output_type": "stream",
     "text": [
      "Document: 477\n",
      "Topics: ['DUP: [1] Electrical Systems: Mentions components related to electrical systems, including cables and wires.', 'DUP: [1] Engineering Design: Mentions the design process, specifically the design of a cable.', 'DUP: [1] Material Processing: Mentions the processing of materials, specifically the creation of fill-cut areas.']\n",
      "--------------------\n"
     ]
    },
    {
     "name": "stderr",
     "output_type": "stream",
     "text": [
      " 48%|████▊     | 478/1000 [21:41<29:03,  3.34s/it]"
     ]
    },
    {
     "name": "stdout",
     "output_type": "stream",
     "text": [
      "Document: 478\n",
      "Topics: ['NEW: [1] Coke Production: Mentions the process of producing coke from coal in horizontal ovens.', 'NEW: [1] Coal Blending: Mentions the process of combining different types of coal for optimal coke production.', 'DUP: [1] Material Processing: A broad topic that includes the processing of raw materials into finished products.', 'NEW: [1] Oven Technology: Mentions the technology used in the production of coke in horizontal ovens.', 'DUP: [1] Material Science: A broad topic that includes the study of the properties and behavior of materials.', 'DUP: [1] Energy: A broad topic that includes the production, transmission, and consumption of energy.', 'NEW: [1] Industrial Processes: A broad topic that includes the processes used in manufacturing and industry.', 'DUP: [1] Mining: A broad topic that includes the extraction of raw materials from the earth.']\n",
      "--------------------\n"
     ]
    },
    {
     "name": "stderr",
     "output_type": "stream",
     "text": [
      " 48%|████▊     | 479/1000 [21:44<27:16,  3.14s/it]"
     ]
    },
    {
     "name": "stdout",
     "output_type": "stream",
     "text": [
      "Document: 479\n",
      "Topics: ['DUP: [1] Energy: Mentions energy conversion systems and optimization of electrical efficiency.', 'DUP: [1] Electrical Systems: Mentions double-stage inverter apparatus for energy conversion.', 'DUP: [1] Control Systems: Mentions management of operations for on-board booster module and multiple input channels.', 'DUP: [1] Inverters: Mentions double-stage inverter apparatus for energy conversion.', 'DUP: [1] Power Management: Mentions optimization of electrical efficiency and management of operations for multiple input channels.']\n",
      "--------------------\n"
     ]
    },
    {
     "name": "stderr",
     "output_type": "stream",
     "text": [
      " 48%|████▊     | 480/1000 [21:46<25:05,  2.89s/it]"
     ]
    },
    {
     "name": "stdout",
     "output_type": "stream",
     "text": [
      "Document: 480\n",
      "Topics: ['DUP: [1] Communication Technology: Mentions network interface controllers and auto-negotiation technology.', 'DUP: [1] Switching Systems: Mentions switches and their connection to network interface controllers.', 'NEW: [1] Backplane Technology: Mentions the use of a backplane for connecting components within an enclosure.']\n",
      "--------------------\n"
     ]
    },
    {
     "name": "stderr",
     "output_type": "stream",
     "text": [
      " 48%|████▊     | 481/1000 [21:50<26:14,  3.03s/it]"
     ]
    },
    {
     "name": "stdout",
     "output_type": "stream",
     "text": [
      "Document: 481\n",
      "Topics: ['DUP: [1] Electrical Systems: Mentions various electrical components and circuits used in a PV sub-module.', 'DUP: [1] Power Electronics: Mentions switching converter circuit, which is a type of power electronics device.', 'DUP: [1] Control Systems: Mentions power mode control circuit and voltage limit controller circuit, which are types of control systems.', 'DUP: [1] Circuit Design: Mentions design of various circuits used in the controller for a PV sub-module.', 'DUP: [1] Engineering: Implied throughout the document as the field of study for designing and implementing the controller circuit for a PV sub-module.']\n",
      "--------------------\n"
     ]
    },
    {
     "name": "stderr",
     "output_type": "stream",
     "text": [
      " 48%|████▊     | 482/1000 [21:52<23:41,  2.74s/it]"
     ]
    },
    {
     "name": "stdout",
     "output_type": "stream",
     "text": [
      "Document: 482\n",
      "Topics: ['DUP: [1] Energy: Mentions the utilization of energy in various forms.', 'DUP: [1] Chemical Processing: Mentions the transformation of one chemical substance into another.']\n",
      "--------------------\n"
     ]
    },
    {
     "name": "stderr",
     "output_type": "stream",
     "text": [
      " 48%|████▊     | 483/1000 [21:54<21:30,  2.50s/it]"
     ]
    },
    {
     "name": "stdout",
     "output_type": "stream",
     "text": [
      "Document: 483\n",
      "Topics: ['DUP: [1] Battery Technology: Mentions advancements in battery technology, specifically lead acid batteries with vapor pressure barriers and improved battery separators.']\n",
      "--------------------\n"
     ]
    },
    {
     "name": "stderr",
     "output_type": "stream",
     "text": [
      " 48%|████▊     | 484/1000 [21:57<23:01,  2.68s/it]"
     ]
    },
    {
     "name": "stdout",
     "output_type": "stream",
     "text": [
      "Document: 484\n",
      "Topics: ['DUP: [1] Energy: Mentions the conversion and utilization of energy.', 'DUP: [1] Hydraulic Systems: Mentions the use of hydraulic fluids and hydraulic components.', 'DUP: [1] Engineering: Mentions the design and implementation of a powering apparatus.', 'DUP: [1] Machinery: Mentions the use of a diesel engine and hydraulic pumps.', 'NEW: [1] Combustion Engines: Mentions the use of a diesel engine.', 'NEW: [1] Heat Technology: Mentions the use of an exhaust heat collecting apparatus and a refrigerant.', 'DUP: [1] Exhaust Systems: Mentions the use of an exhaust gas recirculating apparatus and an exhaust gas compressor.']\n",
      "--------------------\n"
     ]
    },
    {
     "name": "stderr",
     "output_type": "stream",
     "text": [
      " 48%|████▊     | 485/1000 [22:00<24:18,  2.83s/it]"
     ]
    },
    {
     "name": "stdout",
     "output_type": "stream",
     "text": [
      "Document: 485\n",
      "Topics: ['DUP: [1] Coating Technology: Mentions processes and materials used to apply thin layers to surfaces.', 'NEW: [1] Antireflection Coatings: Mentions coatings designed to reduce reflection, particularly in the infrared and solar radiation.', 'NEW: [1] Metallic Functional Layers: Mentions thin layers of metals or metal alloys used for specific functions.', 'DUP: [1] Infrared Technology: Mentions technologies and applications related to infrared radiation.', 'NEW: [1] Solar Technology: Mentions technologies and applications related to solar energy.']\n",
      "--------------------\n"
     ]
    },
    {
     "name": "stderr",
     "output_type": "stream",
     "text": [
      " 49%|████▊     | 486/1000 [22:03<24:20,  2.84s/it]"
     ]
    },
    {
     "name": "stdout",
     "output_type": "stream",
     "text": [
      "Document: 486\n",
      "Topics: ['DUP: [1] Battery Technology: Mentions power storage devices and their properties such as capacity, cycle characteristics, charge and discharge efficiency, and lifetime.', 'DUP: [1] Material Science: Mentions the study of matter and its properties, including the elements Si, Mg, Ca, Ga, Al, Ge, Sn, Pb, Sb, Bi, Ag, Zn, Cd, As, Hg, and In.']\n",
      "--------------------\n"
     ]
    },
    {
     "name": "stderr",
     "output_type": "stream",
     "text": [
      " 49%|████▊     | 487/1000 [22:06<23:50,  2.79s/it]"
     ]
    },
    {
     "name": "stdout",
     "output_type": "stream",
     "text": [
      "Document: 487\n",
      "Topics: ['DUP: [1] Heating Systems: Mentions the use of heating systems and their components, such as heat exchangers, heat storage units, and heating media.', 'DUP: [1] Thermal Energy: Mentions the transfer and storage of thermal energy.', 'DUP: [1] Fluid Systems: Mentions the circulation and flow of fluids, including heating media.', 'DUP: [1] Control Systems: Mentions the use of control mechanisms, such as switching means.']\n",
      "--------------------\n"
     ]
    },
    {
     "name": "stderr",
     "output_type": "stream",
     "text": [
      " 49%|████▉     | 488/1000 [22:09<24:33,  2.88s/it]"
     ]
    },
    {
     "name": "stdout",
     "output_type": "stream",
     "text": [
      "Document: 488\n",
      "Topics: ['NEW: [1] Botanical Extracts: Mentions the use of extracts from plants for various applications.', 'NEW: [1] Cosmetics: Mentions the use of cosmetic compositions for treating the skin.', 'NEW: [1] Skin Care: Mentions the treatment of the skin.']\n",
      "--------------------\n"
     ]
    },
    {
     "name": "stderr",
     "output_type": "stream",
     "text": [
      " 49%|████▉     | 489/1000 [22:12<25:37,  3.01s/it]"
     ]
    },
    {
     "name": "stdout",
     "output_type": "stream",
     "text": [
      "Document: 489\n",
      "Topics: ['DUP: [1] Manufacturing: Mentions the process of creating products using machinery, tools, or chemical processes.', 'DUP: [1] Engineering Design: Mentions the process of creating designs for structures, machines, devices, systems, or processes.', 'DUP: [1] Automation: Mentions the use of technology to reduce the need for human intervention in processes or systems.', 'DUP: [1] Cutting Technology: Mentions the techniques and tools used to cut materials.', 'NEW: [1] Waterjet Cutting: Mentions the use of high-pressure water jets to cut materials.', 'DUP: [1] Material Processing: Mentions the techniques and processes used to modify or shape materials.', 'NEW: [1] Modeling: Mentions the process of creating a representation of a real-world object or system.', 'NEW: [1] Predictive Analysis: Mentions the use of data, statistical algorithms, and machine learning techniques to identify the likelihood of future outcomes based on historical data.']\n",
      "--------------------\n"
     ]
    },
    {
     "name": "stderr",
     "output_type": "stream",
     "text": [
      " 49%|████▉     | 490/1000 [22:14<23:09,  2.72s/it]"
     ]
    },
    {
     "name": "stdout",
     "output_type": "stream",
     "text": [
      "Document: 490\n",
      "Topics: ['DUP: [1] Turbine Technology: Mentions turbine blades and their design features, including cooling passages and flow metering.']\n",
      "--------------------\n"
     ]
    },
    {
     "name": "stderr",
     "output_type": "stream",
     "text": [
      " 49%|████▉     | 491/1000 [22:18<25:08,  2.96s/it]"
     ]
    },
    {
     "name": "stdout",
     "output_type": "stream",
     "text": [
      "Document: 491\n",
      "Topics: ['DUP: [1] Energy: Mentions power production and efficiency.', 'DUP: [1] Carbon Capture: Mentions the capture and utilization of carbon emissions.', 'DUP: [1] Fuel Technology: Mentions the use of hydrocarbon or carbonaceous fuel.', 'DUP: [1] Combustion Technology: Mentions the combustion of a fuel stream.', 'DUP: [1] Reactor Technology: Mentions the use of a partial oxidation reactor.', 'DUP: [1] Heat Exchangers: Mentions the use of recuperator heat exchangers and optional POX heat exchangers.', 'DUP: [1] Gas Technology: Mentions the enrichment of methane content in a stream.', 'DUP: [1] Compressors: Mentions the compression of a recycle CO2 stream.']\n",
      "--------------------\n"
     ]
    },
    {
     "name": "stderr",
     "output_type": "stream",
     "text": [
      " 49%|████▉     | 492/1000 [22:22<28:55,  3.42s/it]"
     ]
    },
    {
     "name": "stdout",
     "output_type": "stream",
     "text": [
      "Document: 492\n",
      "Topics: ['DUP: [1] Wind Energy: Mentions the generation of electrical power from wind using wind turbines.', 'DUP: [1] Engineering Design: Mentions the process of creating new products or systems through a systematic approach.', 'DUP: [1] Mechanical Engineering: Mentions the application of physical principles to design, build, and maintain mechanical systems.', 'DUP: [1] Material Processing: Mentions the transformation of raw materials into finished products.', 'DUP: [1] Structural Design: Mentions the process of designing structures to support loads and withstand environmental conditions.', 'DUP: [1] Aerospace Engineering: Mentions the design and manufacture of aircraft, spacecraft, and related technologies.', 'DUP: [1] Marine Technology: Mentions the design, construction, and operation of ships, submarines, and other marine vehicles.', 'DUP: [1] Material Science: Mentions the study of the properties and behavior of materials.', 'DUP: [1] Nanotechnology: Mentions the manipulation of matter at the nanoscale.', 'DUP: [1] Electrochemistry: Mentions the study of chemical reactions that involve the transfer of electrons between substances.', 'DUP: [1] Energy Storage: Mentions the process of storing electrical energy for later use.', 'DUP: [1] Composite Materials: Mentions materials made from two or more different materials with distinct properties.', 'DUP: [1] Manufacturing: Mentions the process of']\n",
      "--------------------\n"
     ]
    },
    {
     "name": "stderr",
     "output_type": "stream",
     "text": [
      " 49%|████▉     | 493/1000 [22:25<28:52,  3.42s/it]"
     ]
    },
    {
     "name": "stdout",
     "output_type": "stream",
     "text": [
      "Document: 493\n",
      "Topics: ['NEW: [1] Image Recognition: Mentions the use of images for identifying objects or patterns.', 'NEW: [1] Power Transfer: Mentions the transfer of power from one unit to another.', 'NEW: [1] Guidance Control: Mentions the use of control systems to guide a vehicle or other object.', 'DUP: [1] Distance Measurement: Mentions the determination of the distance between two objects.', 'NEW: [1] Electric Power: Mentions the use of electric power for transferring or controlling energy.', 'DUP: [1] Vehicle Technology: Mentions vehicles and related technologies.', 'NEW: [1] Camera Technology: Mentions the use of cameras for capturing images.', 'DUP: [1] Control Systems: Mentions systems used to control the operation of other systems.']\n",
      "--------------------\n"
     ]
    },
    {
     "name": "stderr",
     "output_type": "stream",
     "text": [
      " 49%|████▉     | 494/1000 [22:28<26:21,  3.12s/it]"
     ]
    },
    {
     "name": "stdout",
     "output_type": "stream",
     "text": [
      "Document: 494\n",
      "Topics: ['DUP: [1] Battery Technology: Mentions the design and functionality of batteries, including battery packs and their components.', 'DUP: [1] Manufacturing: Mentions the process of creating or producing goods, in this case, the manufacturing of battery packs.']\n",
      "--------------------\n"
     ]
    },
    {
     "name": "stderr",
     "output_type": "stream",
     "text": [
      " 50%|████▉     | 495/1000 [22:31<26:45,  3.18s/it]"
     ]
    },
    {
     "name": "stdout",
     "output_type": "stream",
     "text": [
      "Document: 495\n",
      "Topics: ['NEW: [1] Flow Control: Mentions systems and methods for controlling the flow of a fluid.', 'NEW: [1] Active Flow Control: Mentions technologies and methods for actively controlling fluid flow.', 'NEW: [1] Cooperative Systems: Mentions systems where components interact and cooperate to achieve a common goal.', 'NEW: [1] Actuators: Mentions devices that convert energy into mechanical motion.', 'NEW: [1] Control Units: Mentions devices that control the operation of other devices or systems.', 'DUP: [1] Data Units: Mentions devices that store, process, or transmit data.', 'NEW: [1] Vehicles: Mentions machines designed for transportation.', 'NEW: [1] Surface Technology: Mentions technologies related to the properties and behavior of surfaces.']\n",
      "--------------------\n"
     ]
    },
    {
     "name": "stderr",
     "output_type": "stream",
     "text": [
      " 50%|████▉     | 496/1000 [22:35<28:22,  3.38s/it]"
     ]
    },
    {
     "name": "stdout",
     "output_type": "stream",
     "text": [
      "Document: 496\n",
      "Topics: ['DUP: [1] Containment Systems: Mentions systems designed to enclose or hold substances or objects.', 'NEW: [1] Fire Protection: Mentions measures taken to prevent or minimize damage from fire.', 'DUP: [1] Engineering Design: Mentions the process of creating designs for structures, machines, devices, systems, and processes.', 'DUP: [1] Material Processing: Mentions the transformation of raw materials into finished products.', 'DUP: [1] Manufacturing: Mentions the production of goods through the use of machinery, tools, or labor.', 'DUP: [1] Industrial Automation: Mentions the use of control systems and machinery to automate industrial processes.', 'DUP: [1] Mechanical Engineering: Mentions the application of principles of physics and mathematics to design, build, and maintain mechanical systems.', 'DUP: [1] Plastics: Mentions synthetic or semi-synthetic organic materials that can be molded into various shapes.', 'DUP: [1] Design: Mentions the creation of plans or blueprints for objects, structures, or processes.', 'DUP: [1] Engineering: Mentions the application of scientific, economic, social, and practical knowledge to design, build, and maintain structures, machines, devices, systems, and processes.']\n",
      "--------------------\n"
     ]
    },
    {
     "name": "stderr",
     "output_type": "stream",
     "text": [
      " 50%|████▉     | 497/1000 [22:39<29:25,  3.51s/it]"
     ]
    },
    {
     "name": "stdout",
     "output_type": "stream",
     "text": [
      "Document: 497\n",
      "Topics: ['DUP: [1] Automotive Technology: Mentions the design and functionality of vehicles, including hybrid drive vehicles and their components.', 'NEW: [1] Transmission Systems: Mentions the systems used to transmit power from an engine to the wheels or other mechanical components.', 'NEW: [1] Clutches: Mentions devices used to connect and disconnect power transmission between two rotating shafts.', 'NEW: [1] Dampers: Mentions devices used to absorb or reduce vibrations and shocks.', 'DUP: [1] Electric Machines: Mentions devices that convert electrical energy into mechanical energy or vice versa.', 'DUP: [1] Engineering Design: Mentions the process of creating new products, systems, or structures through the application of scientific, economic, social, and practical knowledge.', 'DUP: [1] Manufacturing: Mentions the process of producing goods through the use of tools, machines, or manual labor.']\n",
      "--------------------\n"
     ]
    },
    {
     "name": "stderr",
     "output_type": "stream",
     "text": [
      " 50%|████▉     | 498/1000 [22:42<29:20,  3.51s/it]"
     ]
    },
    {
     "name": "stdout",
     "output_type": "stream",
     "text": [
      "Document: 498\n",
      "Topics: ['DUP: [1] Display Technology: Mentions various components and methods related to display devices.', 'DUP: [1] Manufacturing: Mentions the process of creating or producing a product.', 'DUP: [1] Electronics: Mentions the branch of physics that deals with the flow of electricity and the design and construction of electronic devices.', 'DUP: [1] Material Science: Mentions the study of the properties and behavior of materials.', 'DUP: [1] Optics: Mentions the branch of physics that deals with the properties and behavior of light.', 'DUP: [1] Semiconductor Technology: Mentions the technology used to create and utilize semiconductors.', 'DUP: [1] Insulation Materials: Mentions materials used to prevent the flow of electricity.', 'DUP: [1] Coating Technology: Mentions the application of a substance to a surface.', 'DUP: [1] Photovoltaics: Mentions the conversion of light into electricity.', 'NEW: [1] Planarization: Mentions the process of making a surface smooth and flat.', 'DUP: [1] Substrates: Mentions the material that forms the base or foundation for a structure or device.', 'NEW: [1] Insulating Layers: Mentions layers that prevent the flow']\n",
      "--------------------\n"
     ]
    },
    {
     "name": "stderr",
     "output_type": "stream",
     "text": [
      " 50%|████▉     | 499/1000 [22:46<28:55,  3.46s/it]"
     ]
    },
    {
     "name": "stdout",
     "output_type": "stream",
     "text": [
      "Document: 499\n",
      "Topics: ['DUP: [1] Gas Technology: Mentions the separation and collection of carbon dioxide as a gas.', 'DUP: [1] Ceramics: Mentions the use of a ceramic-coated porous silicone membrane.', 'DUP: [1] Membrane Technology: Mentions the use of a separator made of a membrane.', 'NEW: [1] Separation Technology: Mentions the method of separating carbon dioxide from a byproduct gas.', 'DUP: [1] Porous Materials: Mentions the use of a porous silicone membrane.', 'DUP: [1] Silicon Technology: Mentions the use of silicone in the separator.', 'DUP: [1] Carbon Capture: Mentions the capture and collection of carbon dioxide.']\n",
      "--------------------\n"
     ]
    },
    {
     "name": "stderr",
     "output_type": "stream",
     "text": [
      " 50%|█████     | 500/1000 [22:49<27:37,  3.31s/it]"
     ]
    },
    {
     "name": "stdout",
     "output_type": "stream",
     "text": [
      "Document: 500\n",
      "Topics: ['DUP: [1] Engineering: Mentions the design, construction, and use of engines, machines, and structures.', 'DUP: [1] Valve Technology: Mentions the design, construction, and operation of valves.', 'DUP: [1] Thermal Technology: Mentions the use of heat and temperature in various applications.', 'DUP: [1] Power Generation: Mentions the production of electrical power.', 'DUP: [1] Control Systems: Mentions the use of systems to regulate and manage processes.']\n",
      "--------------------\n"
     ]
    },
    {
     "name": "stderr",
     "output_type": "stream",
     "text": [
      " 50%|█████     | 501/1000 [22:53<30:32,  3.67s/it]"
     ]
    },
    {
     "name": "stdout",
     "output_type": "stream",
     "text": [
      "Document: 501\n",
      "Topics: ['DUP: [1] Internal Combustion Engines: Mentions engines that use combustion to generate power.', 'DUP: [1] Engineering Design: Mentions the process of creating new products or systems through a systematic approach.', 'DUP: [1] Turbines: Mentions devices that convert rotational energy from a fluid into mechanical energy.', 'DUP: [1] Compressors: Mentions devices that increase the pressure of a gas or a liquid.', 'NEW: [1] Valves: Mentions devices that control the flow of fluids or gases.', 'DUP: [1] Control Systems: Mentions systems that regulate and direct the operation of other systems or processes.', 'DUP: [1] Automotive Technology: Mentions technology related to automobiles.']\n",
      "--------------------\n"
     ]
    },
    {
     "name": "stderr",
     "output_type": "stream",
     "text": [
      " 50%|█████     | 502/1000 [22:56<29:08,  3.51s/it]"
     ]
    },
    {
     "name": "stdout",
     "output_type": "stream",
     "text": [
      "Document: 502\n",
      "Topics: ['DUP: [1] Energy Storage: Mentions the use and control of energy storage systems.', 'NEW: [1] Power Flow: Mentions the control and management of power flow.', 'DUP: [1] Generator Sets: Mentions the use of generator sets to generate power.', 'DUP: [1] Bidirectional Inverters: Mentions the use of inverters to convert DC power to AC power and vice versa.', 'DUP: [1] Controllers: Mentions the use of controllers to manage and control various systems.', 'NEW: [1] Load Condition: Mentions the state of a load and its requirements.', 'NEW: [1] Phases: Mentions the different parts or aspects of an electrical system.']\n",
      "--------------------\n"
     ]
    },
    {
     "name": "stderr",
     "output_type": "stream",
     "text": [
      " 50%|█████     | 503/1000 [23:00<28:54,  3.49s/it]"
     ]
    },
    {
     "name": "stdout",
     "output_type": "stream",
     "text": [
      "Document: 503\n",
      "Topics: ['DUP: [1] Membrane Technology: Mentions the use and production of membranes, including their composition and applications in various technologies.', 'DUP: [1] Material Processing: Mentions the manufacturing and shaping of materials, including the use of molds and the creation of frames.', 'NEW: [1] Synthetic Materials: Mentions the use of synthetic fibers, such as nylon, and their processing into fabrics.', 'DUP: [1] Electrochemical Systems: Mentions the use of membranes in electrochemical apparatus and the support of internal electrodes.', 'DUP: [1] Frame Structures: Mentions the design and construction of frames, including their materials and shapes.', 'DUP: [1] Plastics: Mentions the use of high-density polyethylene (HDPE) and polypropylene as materials for frames.']\n",
      "--------------------\n"
     ]
    },
    {
     "name": "stderr",
     "output_type": "stream",
     "text": [
      " 50%|█████     | 504/1000 [23:02<26:27,  3.20s/it]"
     ]
    },
    {
     "name": "stdout",
     "output_type": "stream",
     "text": [
      "Document: 504\n",
      "Topics: ['DUP: [1] Engineering: Mentions engineering practices and principles.', 'DUP: [1] Energy: Mentions energy-related concepts.', 'DUP: [1] Internal Combustion Engines: Mentions internal combustion engine technology.', 'DUP: [1] Engineering Design: Mentions engineering design processes.', 'NEW: [1] Compression Technology: Mentions compression technology and methods.', 'DUP: [1] Fuel Technology: Mentions fuel-related technology.', 'DUP: [1] Combustion Technology: Mentions combustion technology and processes.', 'DUP: [1] Energy Management: Mentions energy management systems and practices.']\n",
      "--------------------\n"
     ]
    },
    {
     "name": "stderr",
     "output_type": "stream",
     "text": [
      " 50%|█████     | 505/1000 [23:05<24:35,  2.98s/it]"
     ]
    },
    {
     "name": "stdout",
     "output_type": "stream",
     "text": [
      "Document: 505\n",
      "Topics: ['NEW: [1] DisplayPort Technology: Mentions DisplayPort technology and its related components and devices.', 'DUP: [1] Communication Technology: Mentions the exchange of data and information between devices.', 'DUP: [1] Electrical Systems: Mentions the use of electrical systems for data transmission.', 'DUP: [1] Engineering: Mentions engineering concepts related to device design and functionality.', 'DUP: [1] Technology: Mentions the use of technology for data transmission and device functionality.']\n",
      "--------------------\n"
     ]
    },
    {
     "name": "stderr",
     "output_type": "stream",
     "text": [
      " 51%|█████     | 506/1000 [23:08<24:30,  2.98s/it]"
     ]
    },
    {
     "name": "stdout",
     "output_type": "stream",
     "text": [
      "Document: 506\n",
      "Topics: ['DUP: [1] Communication Technology: Mentions the use and improvement of communication systems and technologies.', 'DUP: [1] Wireless Communications: Mentions wireless communication systems and technologies.', 'NEW: [1] Signal Quality: Mentions the measurement and analysis of signals.', 'NEW: [1] Thresholds: Mentions setting and using specific values as criteria.']\n",
      "--------------------\n"
     ]
    },
    {
     "name": "stderr",
     "output_type": "stream",
     "text": [
      " 51%|█████     | 507/1000 [23:12<26:59,  3.28s/it]"
     ]
    },
    {
     "name": "stdout",
     "output_type": "stream",
     "text": [
      "Document: 507\n",
      "Topics: ['DUP: [1] Wireless Communications: Mentions wireless communication devices and their interaction with base stations.', 'DUP: [1] Communication Technology: Mentions the exchange of signals between devices and the use of communication technology for data transmission.', 'DUP: [1] Technology: A general term for the application of scientific knowledge for practical purposes.', 'DUP: [1] Engineering: Mentions the use of scientific, economic, social, and practical knowledge to design, build, and maintain structures, machines, devices, systems, and processes.', 'DUP: [1] Computer Systems: Mentions computer devices and their components, such as processors and memory.', 'DUP: [1] Networking: Mentions the interconnection of multiple devices or systems to enable communication and data transfer.', 'DUP: [1] Base Stations: Mentions the fixed stations that transmit and receive signals to and from wireless devices.', 'DUP: [1] Signal Processing: Mentions the analysis, modification, and transmission of signals.', 'DUP: [1] Control Systems: Mentions the use of sensors, actuators, and algorithms to control systems and processes.']\n",
      "--------------------\n"
     ]
    },
    {
     "name": "stderr",
     "output_type": "stream",
     "text": [
      " 51%|█████     | 508/1000 [23:15<26:39,  3.25s/it]"
     ]
    },
    {
     "name": "stdout",
     "output_type": "stream",
     "text": [
      "Document: 508\n",
      "Topics: ['DUP: [1] Communication Technology: Mentions the use of the TCP/IP protocol for communication between smart receptacles and the local controller.', 'DUP: [1] Control Systems: Mentions the use of a control system to remotely monitor and control electrical outlets.', 'DUP: [1] Electrical Systems: Mentions the use of electrical outlets and the control of electrical devices.', 'DUP: [1] Power Management: Mentions the ability to intelligently execute blackouts or brownouts.']\n",
      "--------------------\n"
     ]
    },
    {
     "name": "stderr",
     "output_type": "stream",
     "text": [
      " 51%|█████     | 509/1000 [23:19<29:41,  3.63s/it]"
     ]
    },
    {
     "name": "stdout",
     "output_type": "stream",
     "text": [
      "Document: 509\n",
      "Topics: ['DUP: [1] Catalysis: Mentions the use of catalytic materials to increase the rate of a chemical reaction.', 'NEW: [1] Filters: Mentions the use of a filter to separate or remove impurities from a fluid.', 'NEW: [1] Emission Treatment Systems: Mentions systems used to reduce or remove pollutants from exhaust gases.', 'DUP: [1] Porous Materials: Mentions materials with a large number of small pores or spaces.', 'NEW: [1] Catalytic Materials: Mentions materials that increase the rate of a chemical reaction when used as a catalyst.', 'NEW: [1] Monolith Filters: Mentions filters made from a monolithic substrate, typically in the form of a honeycomb structure.', 'DUP: [1] Substrates: Mentions a material that provides a surface for a reaction or process to occur.', 'DUP: [1] Chemical Processing: Mentions the transformation of one chemical substance into another.', 'DUP: [1] Manufacturing: Mentions the production of goods through a planned process.', 'DUP: [1] Engineering: Mentions the application of scientific, economic, social, and practical knowledge to design, build, and maintain structures, machines, devices, systems, and processes']\n",
      "--------------------\n"
     ]
    },
    {
     "name": "stderr",
     "output_type": "stream",
     "text": [
      " 51%|█████     | 510/1000 [23:22<27:15,  3.34s/it]"
     ]
    },
    {
     "name": "stdout",
     "output_type": "stream",
     "text": [
      "Document: 510\n",
      "Topics: ['DUP: [1] Communication Technology: Mentions secure communication between devices using hash values.', 'NEW: [1] Tracking Systems: Mentions the use of tracking devices and servers to store location information.', 'DUP: [1] Power Management: Mentions preserving power in secondary devices.', 'NEW: [1] GPS Technology: Mentions location-detection functionality using GPS.']\n",
      "--------------------\n"
     ]
    },
    {
     "name": "stderr",
     "output_type": "stream",
     "text": [
      " 51%|█████     | 511/1000 [23:25<26:51,  3.29s/it]"
     ]
    },
    {
     "name": "stdout",
     "output_type": "stream",
     "text": [
      "Document: 511\n",
      "Topics: ['DUP: [1] Material Science: Mentions the study of various forms of matter and their properties.', 'DUP: [1] Material Processing: Mentions the methods used to modify the properties of materials.', 'DUP: [1] Superconductivity: Mentions the phenomenon of zero electrical resistance and expulsion of magnetic fields in certain materials at very low temperatures.', 'NEW: [1] Oxide Technology: Mentions the use of oxides in technology, specifically in the context of superconducting wires.']\n",
      "--------------------\n"
     ]
    },
    {
     "name": "stderr",
     "output_type": "stream",
     "text": [
      " 51%|█████     | 512/1000 [23:28<26:11,  3.22s/it]"
     ]
    },
    {
     "name": "stdout",
     "output_type": "stream",
     "text": [
      "Document: 512\n",
      "Topics: ['DUP: [1] Solar Energy: Mentions the use of solar cells for energy production.', 'DUP: [1] Silicon Technology: Mentions the use of silicon in solar cell production.', 'NEW: [1] Polycrystalline Silicon: Mentions the use of polycrystalline silicon in solar cell production.', 'DUP: [1] Electrodes: Mentions the use of finger electrodes in solar cell production.', 'NEW: [1] Passivation Layers: Mentions the use of passivation layers in solar cell production.', 'DUP: [1] Semiconductor Technology: Implicitly mentioned as the technology used in solar cell production.']\n",
      "--------------------\n"
     ]
    },
    {
     "name": "stderr",
     "output_type": "stream",
     "text": [
      " 51%|█████▏    | 513/1000 [23:31<25:00,  3.08s/it]"
     ]
    },
    {
     "name": "stdout",
     "output_type": "stream",
     "text": [
      "Document: 513\n",
      "Topics: ['DUP: [1] Power Management: Mentions techniques for managing and conserving power in electronic devices.', 'DUP: [1] Sensing Technology: Mentions the use of sensors to acquire data from the environment.', 'DUP: [1] Machine Learning: Mentions the use of algorithms to learn patterns from data.', 'DUP: [1] Control Systems: Mentions systems used to control the operation of other systems.']\n",
      "--------------------\n"
     ]
    },
    {
     "name": "stderr",
     "output_type": "stream",
     "text": [
      " 51%|█████▏    | 514/1000 [23:35<26:45,  3.30s/it]"
     ]
    },
    {
     "name": "stdout",
     "output_type": "stream",
     "text": [
      "Document: 514\n",
      "Topics: ['DUP: [1] Lithium Ion Batteries: Mentions the technology and components related to lithium ion batteries.', 'DUP: [1] Material Science: Mentions the study of various substances and their properties.', 'DUP: [1] Electrochemistry: Mentions the study of chemical reactions that occur at an electrode-electrolyte interface.', 'DUP: [1] Energy Storage: Mentions technologies and systems used to store energy.', 'DUP: [1] Battery Technology: Mentions the design, development, and application of batteries.', 'NEW: [1] Organic Materials: Mentions substances that contain carbon-hydrogen bonds.', 'NEW: [1] Filling Substances: Mentions materials used to fill a space or void.', 'NEW: [1] Transition Layers: Mentions layers that connect two different materials or phases.', 'NEW: [1] Oxide Layers: Mentions layers that contain oxides.', 'NEW: [1] Surface Layers: Mentions layers that cover the surface of a material or structure.', 'NEW: [1] Negative Electrode Sheets: Mentions the component of a battery that stores electrons during discharge.', 'NEW: [1] Active Substances: Mentions materials that take part in a chemical reaction.', 'NEW: [1] Expansion Control: Mentions methods to control or limit expansion.', 'NEW: [1] Cycle Performance: Mentions the']\n",
      "--------------------\n"
     ]
    },
    {
     "name": "stderr",
     "output_type": "stream",
     "text": [
      " 52%|█████▏    | 515/1000 [23:38<27:05,  3.35s/it]"
     ]
    },
    {
     "name": "stdout",
     "output_type": "stream",
     "text": [
      "Document: 515\n",
      "Topics: ['DUP: [1] Aviation Technology: Mentions the design and development of aircraft and related technologies, including gas turbine engines and airfoils.', 'DUP: [1] Gas Technology: Mentions the production, processing, and utilization of gases, including cooling fluids for engine components.', 'DUP: [1] Engineering Design: Mentions the process of creating and developing new products, systems, or structures, including the design of airfoils and cooling jet structures.', 'DUP: [1] Material Processing: Mentions the manipulation and modification of materials, including the design and manufacturing of airfoils and cooling jet structures.', 'DUP: [1] Manufacturing: Mentions the production of goods, including the manufacturing of airfoils and cooling jet structures for gas turbine engines.']\n",
      "--------------------\n"
     ]
    },
    {
     "name": "stderr",
     "output_type": "stream",
     "text": [
      " 52%|█████▏    | 516/1000 [23:42<27:35,  3.42s/it]"
     ]
    },
    {
     "name": "stdout",
     "output_type": "stream",
     "text": [
      "Document: 516\n",
      "Topics: ['DUP: [1] Material Processing: Mentions various methods used to modify the properties of materials.', 'DUP: [1] Steel: Specific type of material made from iron and carbon.', 'DUP: [1] Heat Treatment: Process of altering the physical and mechanical properties of a material through heating and cooling.']\n",
      "--------------------\n"
     ]
    },
    {
     "name": "stderr",
     "output_type": "stream",
     "text": [
      " 52%|█████▏    | 517/1000 [23:45<26:56,  3.35s/it]"
     ]
    },
    {
     "name": "stdout",
     "output_type": "stream",
     "text": [
      "Document: 517\n",
      "Topics: ['DUP: [1] Engineering Controls: Control systems for engineering applications, including internal combustion engines and hybrid vehicles.', 'DUP: [1] Automotive Technology: Technology related to automobiles, including internal combustion engines and hybrid vehicles.', 'DUP: [1] Environmental Technology: Technology related to preserving or improving the environment, including systems for avoiding engine start in certain conditions.', 'DUP: [1] Control Systems: Systems used to manage and regulate various processes, including engine start avoidance systems.']\n",
      "--------------------\n"
     ]
    },
    {
     "name": "stderr",
     "output_type": "stream",
     "text": [
      " 52%|█████▏    | 518/1000 [23:48<26:58,  3.36s/it]"
     ]
    },
    {
     "name": "stdout",
     "output_type": "stream",
     "text": [
      "Document: 518\n",
      "Topics: ['DUP: [1] Insulation Materials: Mentions the use of materials for insulation purposes.', 'DUP: [1] Aerospace Engineering: Mentions the field of engineering related to aircraft and spacecraft.', 'DUP: [1] Aircraft Engineering: Mentions the design, construction, and operation of aircraft.', 'DUP: [1] Structural Design: Mentions the planning and creation of structures.', 'NEW: [1] Waterproofing: Mentions the process of making something waterproof.', 'NEW: [1] Building Technology: Mentions the techniques, methods, and materials used in construction.', 'DUP: [1] Manufacturing: Mentions the process of producing goods on a large scale.', 'DUP: [1] Engineering: Mentions the application of scientific, economic, social, and practical knowledge to design, build, and maintain structures, machines, devices, systems, and processes.']\n",
      "--------------------\n"
     ]
    },
    {
     "name": "stderr",
     "output_type": "stream",
     "text": [
      " 52%|█████▏    | 519/1000 [23:51<25:46,  3.22s/it]"
     ]
    },
    {
     "name": "stdout",
     "output_type": "stream",
     "text": [
      "Document: 519\n",
      "Topics: ['DUP: [1] Power Systems: Mentions low voltage or medium voltage networks and network regulation.', 'DUP: [1] Control Systems: Mentions control commands and controllable components.', 'DUP: [1] Threshold Values: Mentions threshold value overshoots.', 'NEW: [1] Network Regulation: Mentions regulation of a network upon threshold value overshoots.', 'NEW: [1] Central Regulation Unit: Mentions a central regulation unit in a low or medium voltage network.', 'NEW: [1] Emergency Reserves: Mentions insufficient emergency reserves of controllable components.', 'NEW: [1] Network Operator: Mentions informing the network operator.']\n",
      "--------------------\n"
     ]
    },
    {
     "name": "stderr",
     "output_type": "stream",
     "text": [
      " 52%|█████▏    | 520/1000 [23:54<24:20,  3.04s/it]"
     ]
    },
    {
     "name": "stdout",
     "output_type": "stream",
     "text": [
      "Document: 520\n",
      "Topics: ['DUP: [1] Power Electronics: Mentions the design and operation of electrical systems that control and convert electrical power.', 'DUP: [1] Control Systems: Mentions systems that regulate and direct the behavior of other systems or processes.', 'DUP: [1] Signal Processing: Mentions the analysis, modification, and transmission of signals.', 'DUP: [1] Electrical Engineering: Mentions the study and application of electrical systems and related technologies.']\n",
      "--------------------\n"
     ]
    },
    {
     "name": "stderr",
     "output_type": "stream",
     "text": [
      " 52%|█████▏    | 521/1000 [23:56<21:58,  2.75s/it]"
     ]
    },
    {
     "name": "stdout",
     "output_type": "stream",
     "text": [
      "Document: 521\n",
      "Topics: ['DUP: [1] Power Management: Mentions methods and apparatuses for managing power supply to a processor.']\n",
      "--------------------\n"
     ]
    },
    {
     "name": "stderr",
     "output_type": "stream",
     "text": [
      " 52%|█████▏    | 522/1000 [23:59<21:53,  2.75s/it]"
     ]
    },
    {
     "name": "stdout",
     "output_type": "stream",
     "text": [
      "Document: 522\n",
      "Topics: ['DUP: [1] Battery Technology: Mentions the design and implementation of battery-related components and systems.', 'DUP: [1] Electrical Systems: Mentions the design and implementation of electrical systems and components.', 'DUP: [1] Manufacturing: Mentions the process of creating or producing goods, including the design, development, and production of components and systems.']\n",
      "--------------------\n"
     ]
    },
    {
     "name": "stderr",
     "output_type": "stream",
     "text": [
      " 52%|█████▏    | 523/1000 [24:01<21:43,  2.73s/it]"
     ]
    },
    {
     "name": "stdout",
     "output_type": "stream",
     "text": [
      "Document: 523\n",
      "Topics: ['DUP: [1] Wind Energy: Mentions the use of wind as a source of energy and wind turbines.', 'DUP: [1] Engineering Design: Mentions the design process, specifically the design of wind turbines.', 'DUP: [1] Mechanical Engineering: Mentions the application of mechanical principles and design.', 'DUP: [1] Technology: Mentions the use of innovative solutions or inventions.', 'DUP: [1] Patents: Mentions the process of obtaining legal protection for inventions.']\n",
      "--------------------\n"
     ]
    },
    {
     "name": "stderr",
     "output_type": "stream",
     "text": [
      " 52%|█████▏    | 524/1000 [24:05<22:23,  2.82s/it]"
     ]
    },
    {
     "name": "stdout",
     "output_type": "stream",
     "text": [
      "Document: 524\n",
      "Topics: ['DUP: [1] Cooling Systems: Systems used to remove heat from a gas turbine engine, including the use of impellers and bleed air sources to create pressurized cooling fluids.']\n",
      "--------------------\n"
     ]
    },
    {
     "name": "stderr",
     "output_type": "stream",
     "text": [
      " 52%|█████▎    | 525/1000 [24:09<26:51,  3.39s/it]"
     ]
    },
    {
     "name": "stdout",
     "output_type": "stream",
     "text": [
      "Document: 525\n",
      "Topics: ['DUP: [1] Composite Materials: Mentions materials made up of two or more distinct components.', 'DUP: [1] Polymers: Mentions large organic molecules made up of repeating structural units.', 'NEW: [1] Thermoplastic Polymers: Mentions polymers that can be melted and reshaped multiple times.', 'NEW: [1] Elastomers: Mentions materials that can be stretched to at least twice their original length and return to their original shape.', 'NEW: [1] Elastomer Thermoplastics: Mentions polymers that exhibit both elastomeric and thermoplastic properties.', 'NEW: [1] Filler Materials: Mentions materials added to a substance to improve its properties.', 'NEW: [1] Thermally Conductive Fillers: Mentions materials that conduct heat effectively.', 'NEW: [1] Porous Composite Materials: Mentions materials made up of two or more distinct phases, one of which is porous.', 'NEW: [1] Binder Materials: Mentions materials used to hold other materials together.', 'DUP: [1] Material Science: Mentions the study of the properties and behavior of materials.', 'DUP: [1] Material Processing: Mentions the methods used to create']\n",
      "--------------------\n"
     ]
    },
    {
     "name": "stderr",
     "output_type": "stream",
     "text": [
      " 53%|█████▎    | 526/1000 [24:12<24:48,  3.14s/it]"
     ]
    },
    {
     "name": "stdout",
     "output_type": "stream",
     "text": [
      "Document: 526\n",
      "Topics: ['DUP: [1] Energy: Mentions the production of petro-chemicals from crude oil.', 'DUP: [1] Chemical Processing: Mentions the conversion of crude oil into petro-chemicals.', 'NEW: [1] Hydrocracking: Mentions a specific process for producing olefinic and aromatic petro-chemicals from crude oil.', 'NEW: [1] Petrochemicals: Mentions the production of chemicals from petroleum.', 'NEW: [1] LPG: Mentions a specific petroleum product (Liquefied Petroleum Gas).']\n",
      "--------------------\n"
     ]
    },
    {
     "name": "stderr",
     "output_type": "stream",
     "text": [
      " 53%|█████▎    | 527/1000 [24:15<24:50,  3.15s/it]"
     ]
    },
    {
     "name": "stdout",
     "output_type": "stream",
     "text": [
      "Document: 527\n",
      "Topics: ['NEW: [1] Diesel Engines: Mentions the control device for diesel engines and their components, including the turbo charger and exhaust gas usage for compressor driving.', 'NEW: [1] Engine Controls: Mentions the control device for engine operation and its functionality to determine gas flow stagnation regions and adjust fresh air/secondary air supply accordingly.', 'DUP: [1] Turbochargers: Mentions the coaxial joining of intake compressor and exhaust turbine, and the usage of exhaust gas energy to drive the intake compressor.', 'DUP: [1] Exhaust Systems: Mentions the exhaust passage upstream of the exhaust turbine and the fresh air/secondary air supply to it.', 'DUP: [1] Gas Technology: Mentions the determination of engine operation conditions and the state of the turbo charger, which are related to gas flow stagnation regions.']\n",
      "--------------------\n"
     ]
    },
    {
     "name": "stderr",
     "output_type": "stream",
     "text": [
      " 53%|█████▎    | 528/1000 [24:18<24:57,  3.17s/it]"
     ]
    },
    {
     "name": "stdout",
     "output_type": "stream",
     "text": [
      "Document: 528\n",
      "Topics: ['DUP: [1] Engineering: Mentions the design, construction, and use of machines and structures.', 'DUP: [1] Mechanical Engineering: A subfield of engineering that deals with the design, construction, and operation of mechanical systems.', 'NEW: [1] Heat Engines: Systems that convert thermal energy into mechanical energy.', 'NEW: [1] Gears: Mechanical components used to transmit power and change direction.', 'DUP: [1] Actuators: Devices that convert energy into mechanical motion.', 'DUP: [1] Clutches: Mechanical devices used to connect and disconnect power transmission.', 'DUP: [1] Belts: Flexible bands used to transmit power and motion.', 'NEW: [1] Power Transmission: The process of transmitting mechanical power from one place to another.']\n",
      "--------------------\n"
     ]
    },
    {
     "name": "stderr",
     "output_type": "stream",
     "text": [
      " 53%|█████▎    | 529/1000 [24:21<23:32,  3.00s/it]"
     ]
    },
    {
     "name": "stdout",
     "output_type": "stream",
     "text": [
      "Document: 529\n",
      "Topics: ['DUP: [1] Electrical Systems: Mentions components related to electrical systems, including a lightning protection system.', 'DUP: [1] Engineering Design: Mentions the design of a lightning protection system.', 'DUP: [1] Manufacturing: Mentions the manufacturing of components for a lightning protection system.', 'DUP: [1] Material Processing: Mentions the bonding of materials for a tip receptor mount.']\n",
      "--------------------\n"
     ]
    },
    {
     "name": "stderr",
     "output_type": "stream",
     "text": [
      " 53%|█████▎    | 530/1000 [24:23<22:30,  2.87s/it]"
     ]
    },
    {
     "name": "stdout",
     "output_type": "stream",
     "text": [
      "Document: 530\n",
      "Topics: ['DUP: [1] Energy: Mentions power plants and fuel cells.', 'DUP: [1] Engineering Controls: Mentions thermal management systems and control methods.', 'DUP: [1] Power Management: Mentions controlling thermal management systems based on coolant temperatures.', 'DUP: [1] Fuel Cells: Mentions fuel cell vehicles and degradation of fuel cells.']\n",
      "--------------------\n"
     ]
    },
    {
     "name": "stderr",
     "output_type": "stream",
     "text": [
      " 53%|█████▎    | 531/1000 [24:26<21:45,  2.78s/it]"
     ]
    },
    {
     "name": "stdout",
     "output_type": "stream",
     "text": [
      "Document: 531\n",
      "Topics: ['NEW: [1] Greenhouses: Structures used for growing plants under controlled conditions.', 'NEW: [1] Nanofluids: Fluids containing nanoparticles.', 'DUP: [1] Solar Energy: Energy derived from the sun.', 'DUP: [1] Thermal Management: Techniques for managing temperature.', 'NEW: [1] Duct Channels: Channels used to transport fluids or gases.']\n",
      "--------------------\n"
     ]
    },
    {
     "name": "stderr",
     "output_type": "stream",
     "text": [
      " 53%|█████▎    | 532/1000 [24:29<22:33,  2.89s/it]"
     ]
    },
    {
     "name": "stdout",
     "output_type": "stream",
     "text": [
      "Document: 532\n",
      "Topics: ['DUP: [1] Communication Technology: Mentions the field of communication and transmission of data.', 'DUP: [1] Data Transmission: Mentions the process of sending data from one location to another.', 'DUP: [1] Signal Transmission: Mentions the process of sending signals, which can include data, over a distance.', 'NEW: [1] Time Domain: Mentions the representation of a signal as a function of time.', 'NEW: [1] Data Blocks: Mentions the division of data into smaller units for transmission.', 'NEW: [1] Transmission Units: Mentions the division of transmission content into smaller units.', 'NEW: [1] Alternating Transmission: Mentions the transmission of units in a non-continuous manner.']\n",
      "--------------------\n"
     ]
    },
    {
     "name": "stderr",
     "output_type": "stream",
     "text": [
      " 53%|█████▎    | 533/1000 [24:32<23:05,  2.97s/it]"
     ]
    },
    {
     "name": "stdout",
     "output_type": "stream",
     "text": [
      "Document: 533\n",
      "Topics: ['DUP: [1] Battery Technology: Mentions the study and application of batteries and their components.', 'DUP: [1] Electrical Systems: Mentions the design, implementation, and operation of electrical systems.', 'DUP: [1] Circuit Design: Mentions the design and analysis of electrical circuits.', 'DUP: [1] Safety Systems: Mentions systems designed to prevent harm or damage.', 'DUP: [1] Thermal Management: Mentions the management and control of thermal energy.', 'DUP: [1] Material Processing: Mentions the transformation of raw materials into finished products.', 'DUP: [1] Manufacturing: Mentions the production of goods through large-scale processes.', 'DUP: [1] Engineering: Mentions the application of scientific, economic, social, and practical knowledge to design, build, and maintain structures, machines, devices, systems, and processes.']\n",
      "--------------------\n"
     ]
    },
    {
     "name": "stderr",
     "output_type": "stream",
     "text": [
      " 53%|█████▎    | 534/1000 [24:35<23:38,  3.04s/it]"
     ]
    },
    {
     "name": "stdout",
     "output_type": "stream",
     "text": [
      "Document: 534\n",
      "Topics: ['NEW: [1] Feed Technology: Mentions the production and processing of animal feed.', 'NEW: [1] Betaine Technology: Mentions the production, properties, and applications of betaine.', 'NEW: [1] Protein Technology: Mentions the production, processing, and properties of proteins.', 'DUP: [1] Heat Technology: Mentions the generation, transfer, and application of heat.', 'DUP: [1] Drying Technology: Mentions the removal of moisture from materials.', 'DUP: [1] Agriculture: Mentions agricultural practices and products.']\n",
      "--------------------\n"
     ]
    },
    {
     "name": "stderr",
     "output_type": "stream",
     "text": [
      " 54%|█████▎    | 535/1000 [24:38<22:41,  2.93s/it]"
     ]
    },
    {
     "name": "stdout",
     "output_type": "stream",
     "text": [
      "Document: 535\n",
      "Topics: ['NEW: [1] Biotechnology: Mentions the use of yeast for producing vaccine compositions with immunostimulatory and antigenic polypeptides.', 'NEW: [1] Vaccines: Mentions the development and use of vaccine compositions.']\n",
      "--------------------\n"
     ]
    },
    {
     "name": "stderr",
     "output_type": "stream",
     "text": [
      " 54%|█████▎    | 536/1000 [24:41<22:35,  2.92s/it]"
     ]
    },
    {
     "name": "stdout",
     "output_type": "stream",
     "text": [
      "Document: 536\n",
      "Topics: ['DUP: [1] Control Systems: Mentions systems used to regulate and direct the operation of machinery or processes.', 'DUP: [1] Sensors: Mentions devices used to detect and measure physical properties and convert them into electrical signals.', 'DUP: [1] Mechanical Systems: Mentions systems that convert mechanical energy into other forms or perform work.', 'NEW: [1] Guidance Systems: Mentions systems used to guide or control the motion of an object.']\n",
      "--------------------\n"
     ]
    },
    {
     "name": "stderr",
     "output_type": "stream",
     "text": [
      " 54%|█████▎    | 537/1000 [24:45<24:42,  3.20s/it]"
     ]
    },
    {
     "name": "stdout",
     "output_type": "stream",
     "text": [
      "Document: 537\n",
      "Topics: ['DUP: [1] Material Processing: Mentions the processing of materials, specifically the recycling of tungsten and cobalt from hard tungsten carbide scraps.', 'DUP: [1] Scrap Recycling: Mentions the process of recovering valuable materials from discarded materials, specifically the recycling of hard tungsten carbide scraps.', 'DUP: [1] Metallurgy: Mentions the study of metals and their properties, specifically the melting and forming of intermetallic compounds and the leaching of tungsten and cobalt.', 'NEW: [1] Mining and Mineral Processing: Mentions the extraction and processing of minerals, specifically the recycling of tungsten and cobalt from hard tungsten carbide scraps.', 'DUP: [1] Industrial Economics: Mentions the study of the production, distribution, and consumption of goods and services, specifically the economic aspects of recycling tungsten and cobalt from hard tungsten carbide scraps.', 'DUP: [1] Chemical Processing: Mentions the application of chemical reactions to transform raw materials into valuable products, specifically the alkaline leaching and acid leaching methods for recovering tungsten and cobalt.']\n",
      "--------------------\n"
     ]
    },
    {
     "name": "stderr",
     "output_type": "stream",
     "text": [
      " 54%|█████▍    | 538/1000 [24:48<23:41,  3.08s/it]"
     ]
    },
    {
     "name": "stdout",
     "output_type": "stream",
     "text": [
      "Document: 538\n",
      "Topics: ['DUP: [1] Battery Technology: Mentions the use of a battery cell and its packaging.', 'DUP: [1] Engineering Design: Mentions the design of a pack main body with specific shapes and positions.']\n",
      "--------------------\n"
     ]
    },
    {
     "name": "stderr",
     "output_type": "stream",
     "text": [
      " 54%|█████▍    | 539/1000 [24:52<27:09,  3.53s/it]"
     ]
    },
    {
     "name": "stdout",
     "output_type": "stream",
     "text": [
      "Document: 539\n",
      "Topics: ['DUP: [1] Additive Manufacturing: Mentions the process of creating three-dimensional objects by adding material layer by layer.', 'DUP: [1] Manufacturing: Mentions the production of goods or services.', 'DUP: [1] Engineering Design: Mentions the process of creating designs for manufacture.', 'DUP: [1] Mechanical Engineering: Mentions the application of engineering principles to mechanical systems.', 'DUP: [1] Material Processing: Mentions the modification of materials to create desired forms or properties.', 'DUP: [1] Vacuum Technology: Mentions the use of vacuum conditions in industrial processes.', 'DUP: [1] Quartz Technology: Mentions the use of quartz in technology.', 'DUP: [1] LED Technology: Mentions the use of light-emitting diodes.', 'NEW: [1] Composites: Mentions the use of materials made from two or more different materials.', 'DUP: [1] Design: Mentions the creation of plans or blueprints for objects or systems.', 'DUP: [1] Engineering Controls: Mentions the use of engineering principles to control systems.', 'DUP: [1] Computer Systems: Mentions the use of computers and computer technology.', 'DUP: [1] Networking: Mentions the interconnection of computers and other devices.', 'DUP: [1] Electrical Systems: Mentions the use of electrical power and systems.', 'DUP: [1] Horticulture: Mentions the cultivation']\n",
      "--------------------\n"
     ]
    },
    {
     "name": "stderr",
     "output_type": "stream",
     "text": [
      " 54%|█████▍    | 540/1000 [24:56<27:37,  3.60s/it]"
     ]
    },
    {
     "name": "stdout",
     "output_type": "stream",
     "text": [
      "Document: 540\n",
      "Topics: ['DUP: [1] Hybrid Vehicles: Mentions vehicles that use a combination of electric and internal combustion engines.', 'DUP: [1] Power Generation: Mentions the process of generating electrical power.', 'DUP: [1] Energy Storage: Mentions the storing of energy for later use.', 'DUP: [1] Control Systems: Mentions systems used to manage and direct the functions of a vehicle or system.', 'DUP: [1] Engine Control: Mentions systems used to manage and control the operation of an engine.', 'DUP: [1] Battery Technology: Mentions the study and application of batteries and their components.', 'DUP: [1] Automotive Technology: Mentions technology related to automobiles.', 'DUP: [1] Transportation Technology: Mentions technology related to the transportation of people and goods.']\n",
      "--------------------\n"
     ]
    },
    {
     "name": "stderr",
     "output_type": "stream",
     "text": [
      " 54%|█████▍    | 541/1000 [25:00<27:21,  3.58s/it]"
     ]
    },
    {
     "name": "stdout",
     "output_type": "stream",
     "text": [
      "Document: 541\n",
      "Topics: ['NEW: [1] Electrochemical Technology: Mentions the use of electrochemical processes to generate or modify a substance.', 'NEW: [1] Electrolysis: Mentions the process of passing an electric current through a substance to induce a chemical reaction.', 'NEW: [1] Housing and Containment: Mentions structures used to house and contain components or systems.', 'DUP: [1] Electrode Technology: Mentions the use of electrodes in various applications, including electrolysis.', 'DUP: [1] Material Science: Mentions the study of materials and their properties.', 'DUP: [1] Manufacturing: Mentions the process of producing goods or products.']\n",
      "--------------------\n"
     ]
    },
    {
     "name": "stderr",
     "output_type": "stream",
     "text": [
      " 54%|█████▍    | 542/1000 [25:02<25:05,  3.29s/it]"
     ]
    },
    {
     "name": "stdout",
     "output_type": "stream",
     "text": [
      "Document: 542\n",
      "Topics: ['NEW: [1] Biomass Processing: Mentions the conversion of biomass into value-added products.', 'DUP: [1] Catalysis: Mentions the use of catalysts to speed up chemical reactions.', 'NEW: [1] Hydrocarbon Production: Mentions the production of hydrocarbon products.', 'DUP: [1] Chemical Engineering: Mentions the design and implementation of chemical processes.']\n",
      "--------------------\n"
     ]
    },
    {
     "name": "stderr",
     "output_type": "stream",
     "text": [
      " 54%|█████▍    | 543/1000 [25:05<24:50,  3.26s/it]"
     ]
    },
    {
     "name": "stdout",
     "output_type": "stream",
     "text": [
      "Document: 543\n",
      "Topics: ['DUP: [1] Engineering Design: Mentions the design of a metering valve for controlling a gaseous medium.', 'DUP: [1] Gas Technology: Mentions the use of hydrogen as a gaseous medium.', 'DUP: [1] Valve Technology: Mentions the specific type of valve used for controlling the gaseous medium.', 'DUP: [1] Manufacturing: Implied by the mention of a metering valve being invented.']\n",
      "--------------------\n"
     ]
    },
    {
     "name": "stderr",
     "output_type": "stream",
     "text": [
      " 54%|█████▍    | 544/1000 [25:08<23:28,  3.09s/it]"
     ]
    },
    {
     "name": "stdout",
     "output_type": "stream",
     "text": [
      "Document: 544\n",
      "Topics: ['DUP: [1] Rail Transportation: Mentions the transportation of goods or people using rails.', 'DUP: [1] Sensor Technology: Mentions the use of sensors to detect or measure physical properties.', 'DUP: [1] Measurement Systems: Mentions systems used to measure quantities.', 'DUP: [1] Processing Systems: Mentions systems used to process data or information.', 'DUP: [1] Electrical Systems: Mentions the use of electrical power or components.', 'DUP: [1] Control Systems: Mentions systems used to control or regulate processes or systems.']\n",
      "--------------------\n"
     ]
    },
    {
     "name": "stderr",
     "output_type": "stream",
     "text": [
      " 55%|█████▍    | 545/1000 [25:11<23:42,  3.13s/it]"
     ]
    },
    {
     "name": "stdout",
     "output_type": "stream",
     "text": [
      "Document: 545\n",
      "Topics: ['DUP: [1] Wireless Power Transfer: Refers to the transmission of electrical energy through the air without the use of wires.', 'DUP: [1] Communication Technology: Covers the exchange of information between two or more entities using various methods and technologies.', 'DUP: [1] Control Systems: Deals with the design, implementation, and operation of systems that regulate, direct, or automate processes.', 'DUP: [1] Electrical Systems: Encompasses the production, distribution, and utilization of electrical energy.', 'DUP: [1] Power Management: Involves the efficient and effective use, storage, and distribution of electrical power.', 'DUP: [1] Sensing Systems: Consists of devices that detect physical or environmental conditions and convert them into electrical signals for further processing.']\n",
      "--------------------\n"
     ]
    },
    {
     "name": "stderr",
     "output_type": "stream",
     "text": [
      " 55%|█████▍    | 546/1000 [25:13<21:22,  2.82s/it]"
     ]
    },
    {
     "name": "stdout",
     "output_type": "stream",
     "text": [
      "Document: 546\n",
      "Topics: ['DUP: [1] Electrical Systems: Mentions the use of electrical components and circuits.', 'DUP: [1] Display Technology: Mentions the use of display panels and pixel circuits.']\n",
      "--------------------\n"
     ]
    },
    {
     "name": "stderr",
     "output_type": "stream",
     "text": [
      " 55%|█████▍    | 547/1000 [25:16<21:35,  2.86s/it]"
     ]
    },
    {
     "name": "stdout",
     "output_type": "stream",
     "text": [
      "Document: 547\n",
      "Topics: ['NEW: [1] Perovskite Materials: Mentions the use of perovskite materials in various applications, including photovoltaic devices.', 'NEW: [1] Photovoltaic Devices: Mentions devices that convert light energy into electrical energy.', 'NEW: [1] Semiconductor Layers: Mentions layers made of semiconductor materials.', 'NEW: [1] Conductive Layers: Mentions layers that conduct electrical charge.', 'NEW: [1] Blocking Layers: Mentions layers used to prevent the flow of charge or light.', 'NEW: [1] Holes and Hole Transport Materials: Mentions the transport of positive charge carriers in a material.', 'NEW: [1] Metal Chalcogenides: Mentions compounds of metals and chalcogens.']\n",
      "--------------------\n"
     ]
    },
    {
     "name": "stderr",
     "output_type": "stream",
     "text": [
      " 55%|█████▍    | 548/1000 [25:19<20:54,  2.78s/it]"
     ]
    },
    {
     "name": "stdout",
     "output_type": "stream",
     "text": [
      "Document: 548\n",
      "Topics: ['DUP: [1] Wireless Communications: Mentions wireless charging technology and communication between a vehicle and a charging device.', 'DUP: [1] Automotive Technology: Mentions autonomous alignment of a vehicle and a stationary object.', 'DUP: [1] Control Systems: Mentions determination of vehicle position and planning of alignment trajectories.', 'DUP: [1] Robotics: Mentions planning of new alignment trajectories and tracking of vehicle position.']\n",
      "--------------------\n"
     ]
    },
    {
     "name": "stderr",
     "output_type": "stream",
     "text": [
      " 55%|█████▍    | 549/1000 [25:23<24:17,  3.23s/it]"
     ]
    },
    {
     "name": "stdout",
     "output_type": "stream",
     "text": [
      "Document: 549\n",
      "Topics: ['DUP: [1] Exhaust Gas Systems: Mentions systems for managing and treating exhaust gases.', 'DUP: [1] Engineering Design: Mentions the process of creating designs for various applications.', 'DUP: [1] Manufacturing: Mentions the process of producing goods on a large scale.', 'DUP: [1] Material Processing: Mentions the modification of raw materials into usable forms.', 'DUP: [1] Mechanical Engineering: Mentions the application of engineering principles to mechanical systems.', 'DUP: [1] Industrial Automation: Mentions the use of automated systems in industrial processes.', 'DUP: [1] Filtration Systems: Mentions systems for separating particles or liquids from a fluid stream.', 'DUP: [1] Housing: Mentions structures designed to provide shelter or containment.', 'DUP: [1] Thermal Technology: Mentions technologies related to heat and temperature.', 'DUP: [1] Materials Science: Mentions the study of materials and their properties.', 'NEW: [1] Mechanics: Mentions the study of motion and forces.', 'DUP: [1] Fluid Systems: Mentions systems for managing and transporting fluids.', 'DUP: [1] Engineering Systems: Mentions complex systems designed for specific applications.', 'DUP: [1] Process Control: Mentions the regulation and monitoring of industrial processes.', 'DUP: [1] Performance Control: Mentions the optimization']\n",
      "--------------------\n"
     ]
    },
    {
     "name": "stderr",
     "output_type": "stream",
     "text": [
      " 55%|█████▌    | 550/1000 [25:26<22:40,  3.02s/it]"
     ]
    },
    {
     "name": "stdout",
     "output_type": "stream",
     "text": [
      "Document: 550\n",
      "Topics: ['DUP: [1] Rail Technology: Mentions components and systems related to rails, including their installation, maintenance, and electrical connections.']\n",
      "--------------------\n"
     ]
    },
    {
     "name": "stderr",
     "output_type": "stream",
     "text": [
      " 55%|█████▌    | 551/1000 [25:28<22:03,  2.95s/it]"
     ]
    },
    {
     "name": "stdout",
     "output_type": "stream",
     "text": [
      "Document: 551\n",
      "Topics: ['DUP: [1] Wireless Communications: Mentions wireless communication networks and their related technologies.', 'DUP: [1] Power Management: Mentions power level selection and management.', 'DUP: [1] Signal Processing: Mentions signal measurement and processing.', 'NEW: [1] Coverage Enhancement Techniques: Mentions techniques to enhance wireless communication coverage.']\n",
      "--------------------\n"
     ]
    },
    {
     "name": "stderr",
     "output_type": "stream",
     "text": [
      " 55%|█████▌    | 552/1000 [25:31<20:53,  2.80s/it]"
     ]
    },
    {
     "name": "stdout",
     "output_type": "stream",
     "text": [
      "Document: 552\n",
      "Topics: ['DUP: [1] Refrigeration Technology: Mentions the technology used to cool and maintain low temperatures.', 'DUP: [1] Material Science: Mentions the study of matter and its properties.', 'DUP: [1] Chemistry: Mentions the study of substances and their interactions.', 'DUP: [1] Adsorption Technology: Mentions the process of adsorbing substances onto a surface.']\n",
      "--------------------\n"
     ]
    },
    {
     "name": "stderr",
     "output_type": "stream",
     "text": [
      " 55%|█████▌    | 553/1000 [25:36<25:43,  3.45s/it]"
     ]
    },
    {
     "name": "stdout",
     "output_type": "stream",
     "text": [
      "Document: 553\n",
      "Topics: ['DUP: [1] Electrolysis: Process of using a direct electrical current to induce a chemical reaction, specifically the splitting of water into hydrogen and oxygen.', 'NEW: [1] Ion Exchange Membranes: Materials used to separate ions in an electrolyte solution, allowing the selective passage of certain ions.', 'DUP: [1] Water Treatment: Process of improving the quality of water for various purposes, including industrial, agricultural, and domestic uses.', 'DUP: [1] Electrochemical Systems: Systems that use electrical energy to induce a chemical reaction, and vice versa.', 'DUP: [1] Engineering: Application of scientific, economic, social, and practical knowledge to design, build, and maintain structures, systems, and processes.', 'DUP: [1] Material Science: Study of the properties and behavior of matter, including its composition, structure, and properties.', 'DUP: [1] Chemical Engineering: Application of the principles of chemistry, biology, physics, and mathematics to design and develop processes that convert raw materials into valuable products.', 'DUP: [1] Energy: The ability or capacity to do work. Can be derived from various sources, including fossil fuels, nuclear reactions, and renewable resources.', 'DUP: [1] Hydrogen Technology: Technology related to the production, storage, and use of hydrogen as a fuel or energy carrier.', 'DUP: [1] Membrane Technology: Technology involving the use of membranes to separate, filter,']\n",
      "--------------------\n"
     ]
    },
    {
     "name": "stderr",
     "output_type": "stream",
     "text": [
      " 55%|█████▌    | 554/1000 [25:39<24:27,  3.29s/it]"
     ]
    },
    {
     "name": "stdout",
     "output_type": "stream",
     "text": [
      "Document: 554\n",
      "Topics: ['DUP: [1] Material Science: Mentions the study of matter and its properties.', 'DUP: [1] Polymers: Mentions large organic molecules made up of repeating structural units.', 'NEW: [1] Membranes: Mentions thin, semi-permeable barriers.', 'DUP: [1] Electrolytes: Mentions substances that conduct electricity when molten or in solution.', 'DUP: [1] Composite Materials: Mentions materials made up of two or more distinct components.', 'NEW: [1] Fluorine Technology: Mentions the use of fluorine and its compounds.']\n",
      "--------------------\n"
     ]
    },
    {
     "name": "stderr",
     "output_type": "stream",
     "text": [
      " 56%|█████▌    | 555/1000 [25:41<23:00,  3.10s/it]"
     ]
    },
    {
     "name": "stdout",
     "output_type": "stream",
     "text": [
      "Document: 555\n",
      "Topics: ['DUP: [1] Electric Vehicles: Mentions the design and operation of electric vehicles.', 'DUP: [1] Filters: Mentions the use of filters in electrical systems.', 'DUP: [1] Power Electronics: Mentions the use of rectifiers and resistive elements in power electronics.', 'DUP: [1] Capacitors: Mentions the use of capacitive elements in electrical systems.']\n",
      "--------------------\n"
     ]
    },
    {
     "name": "stderr",
     "output_type": "stream",
     "text": [
      " 56%|█████▌    | 556/1000 [25:45<24:15,  3.28s/it]"
     ]
    },
    {
     "name": "stdout",
     "output_type": "stream",
     "text": [
      "Document: 556\n",
      "Topics: ['NEW: [1] Electroluminescent Devices: Mentions devices that convert electrical energy into light.', 'DUP: [1] Organic Chemistry: Mentions the study of organic compounds.', 'DUP: [1] Material Science: Mentions the study of materials and their properties.', 'DUP: [1] Chemistry: Mentions the study of substances and their interactions.', 'NEW: [1] Luminescence: Mentions the emission of light by a substance.', 'DUP: [1] Organic Electronics: Mentions the study of organic materials used in electronic devices.', 'DUP: [1] Organic Photovoltaics: Mentions the study of organic materials used in solar cells.', 'DUP: [1] Organic Photodetectors: Mentions the study of organic materials used in photodetectors.', 'DUP: [1] Organic Field Effect Transistors: Mentions the study of organic materials used in field effect transistors.']\n",
      "--------------------\n"
     ]
    },
    {
     "name": "stderr",
     "output_type": "stream",
     "text": [
      " 56%|█████▌    | 557/1000 [25:48<24:11,  3.28s/it]"
     ]
    },
    {
     "name": "stdout",
     "output_type": "stream",
     "text": [
      "Document: 557\n",
      "Topics: ['DUP: [1] Nuclear Technology: Mentions the use of nuclear reactors and related components.', 'DUP: [1] Heat Exchangers: Mentions devices used to transfer heat from one medium to another.', 'NEW: [1] Reactor Design: Mentions the design and construction of nuclear reactors.', 'DUP: [1] Cooling Systems: Mentions systems used to remove heat from a reactor or other high-temperature system.', 'DUP: [1] Materials Science: Mentions the study of materials and their properties.', 'DUP: [1] Engineering: Mentions the application of scientific, economic, social, and practical knowledge to design, build, and maintain structures, machines, devices, systems, and processes.']\n",
      "--------------------\n"
     ]
    },
    {
     "name": "stderr",
     "output_type": "stream",
     "text": [
      " 56%|█████▌    | 558/1000 [25:51<22:26,  3.05s/it]"
     ]
    },
    {
     "name": "stdout",
     "output_type": "stream",
     "text": [
      "Document: 558\n",
      "Topics: ['DUP: [1] Solar Energy: Mentions the use of solar cells and their adaptation to changing light conditions.', 'DUP: [1] Surface Technology: Mentions the deformation of a reflective surface in response to a force.', 'DUP: [1] Control Systems: Mentions the actuation of movement members by a controller.']\n",
      "--------------------\n"
     ]
    },
    {
     "name": "stderr",
     "output_type": "stream",
     "text": [
      " 56%|█████▌    | 559/1000 [25:55<23:32,  3.20s/it]"
     ]
    },
    {
     "name": "stdout",
     "output_type": "stream",
     "text": [
      "Document: 559\n",
      "Topics: ['DUP: [1] Energy Storage: Refers to the collection, charging, and distribution of portable electrical energy storage devices, such as batteries, supercapacitors, or ultracapacitors.', 'NEW: [1] Authentication Technology: Deals with the transmission and verification of authentication credentials for charging and releasing energy from portable electrical energy storage devices.', 'NEW: [1] Electric Grids: Relates to the external source of electrical current for charging portable electrical energy storage devices.', 'NEW: [1] Installation Locations: Refers to the places where electrical services are available for charging portable electrical energy storage devices.', 'DUP: [1] Vehicles: Deals with the external devices that receive authentication information and receive power from portable electrical energy storage devices.', 'NEW: [1] Authorization Devices: Refers to the devices that transmit authentication credentials for charging and releasing energy from portable electrical energy storage devices.']\n",
      "--------------------\n"
     ]
    },
    {
     "name": "stderr",
     "output_type": "stream",
     "text": [
      " 56%|█████▌    | 560/1000 [25:59<26:16,  3.58s/it]"
     ]
    },
    {
     "name": "stdout",
     "output_type": "stream",
     "text": [
      "Document: 560\n",
      "Topics: ['DUP: [1] Manufacturing: Mentions the process of producing goods, typically through the use of machinery, tools, or technology.', 'DUP: [1] Engineering: Mentions the application of science, mathematics, and practical skills to design, build, and maintain structures, machines, devices, systems, and processes.', 'DUP: [1] Technology: Mentions the application of scientific knowledge for practical purposes, especially in industry.', 'DUP: [1] Gas Technology: Mentions the production, processing, and utilization of gases, particularly for industrial and energy applications.', 'DUP: [1] Engineering Design: Mentions the process of creating a design for a product, system, or structure, using the principles of engineering, mathematics, and science.', 'DUP: [1] Mechanical Engineering: Mentions the branch of engineering that deals with the design, analysis, manufacturing, and maintenance of mechanical systems, including mechanical structures, mechanical devices, machines, and tools.', 'DUP: [1] Process Control: Mentions the use of technology to regulate, monitor, and optimize industrial processes to maintain desired levels of performance and efficiency.', 'DUP: [1] Industrial Automation: Mentions the use of control systems, sensors, and machines to automate industrial processes and improve productivity and efficiency.', 'DUP: [1] Material Processing: Mentions the use of technology to transform raw materials into finished products, including manufacturing, forming, shaping']\n",
      "--------------------\n"
     ]
    },
    {
     "name": "stderr",
     "output_type": "stream",
     "text": [
      " 56%|█████▌    | 561/1000 [26:02<24:40,  3.37s/it]"
     ]
    },
    {
     "name": "stdout",
     "output_type": "stream",
     "text": [
      "Document: 561\n",
      "Topics: ['DUP: [1] Hybrid Vehicles: Mentions vehicles that use a combination of electric and internal combustion engines.', 'DUP: [1] Electric Vehicles: Mentions vehicles that run solely on electricity.', 'NEW: [1] Energy Storage Systems: Mentions systems used to store electrical energy.', 'DUP: [1] Motors: Mentions devices that convert electrical energy into mechanical energy.', 'DUP: [1] Engines: Mentions devices used to convert chemical energy into mechanical energy.', 'DUP: [1] Control Systems: Mentions systems used to manage and regulate the operation of other systems.', 'DUP: [1] Sensors: Mentions devices used to detect and measure physical conditions.']\n",
      "--------------------\n"
     ]
    },
    {
     "name": "stderr",
     "output_type": "stream",
     "text": [
      " 56%|█████▌    | 562/1000 [26:05<23:34,  3.23s/it]"
     ]
    },
    {
     "name": "stdout",
     "output_type": "stream",
     "text": [
      "Document: 562\n",
      "Topics: ['DUP: [1] Wireless Communications: Mentions the exchange of data over wireless networks.', 'NEW: [1] Resource Allocation: Mentions the distribution of resources between different entities.', 'NEW: [1] Dynamic Resource Allocation: Mentions the allocation of resources on an as-needed basis.', 'DUP: [1] Signaling: Mentions the exchange of information between communication entities.', 'DUP: [1] Mobile Devices: Mentions devices that can move while communicating.']\n",
      "--------------------\n"
     ]
    },
    {
     "name": "stderr",
     "output_type": "stream",
     "text": [
      " 56%|█████▋    | 563/1000 [26:07<22:07,  3.04s/it]"
     ]
    },
    {
     "name": "stdout",
     "output_type": "stream",
     "text": [
      "Document: 563\n",
      "Topics: ['DUP: [1] Networking: Mentions communication links and data forwarding devices.', 'DUP: [1] Link Aggregation: Mentions link aggregation group (LAG) and link aggregation technology.', 'DUP: [1] Communication Technology: Mentions communication links and IP datagrams.', 'DUP: [1] Data Transmission: Mentions sending messages and receiving instances of messages.', 'NEW: [1] Multicast: Mentions multicast IP destination address.', 'DUP: [1] Fault Detection: Mentions fault detection on a multihomed link aggregation group message.']\n",
      "--------------------\n"
     ]
    },
    {
     "name": "stderr",
     "output_type": "stream",
     "text": [
      " 56%|█████▋    | 564/1000 [26:11<23:05,  3.18s/it]"
     ]
    },
    {
     "name": "stdout",
     "output_type": "stream",
     "text": [
      "Document: 564\n",
      "Topics: ['DUP: [1] Fuel Cells: Mentions the invention of fuel cell devices and systems, including their components and operation.', 'DUP: [1] Energy: Mentions the use of fuel cells for energy production.', 'DUP: [1] Materials Science: Mentions the use of tubular structures and materials in fuel cell devices.', 'NEW: [1] Rolled Structures: Mentions the use of spiral rolled structures in fuel cell devices.', 'NEW: [1] Concentric Structures: Mentions the use of concentrically arranged structures in fuel cell devices.', 'DUP: [1] Heat Technology: Mentions the use of heat sources to heat reaction zones in fuel cell systems.', 'DUP: [1] Temperature Control: Mentions the control of temperatures in fuel cell systems.', 'DUP: [1] Chemical Processing: Mentions the use of fuel and air supplies in fuel cell systems.']\n",
      "--------------------\n"
     ]
    },
    {
     "name": "stderr",
     "output_type": "stream",
     "text": [
      " 56%|█████▋    | 565/1000 [26:13<20:34,  2.84s/it]"
     ]
    },
    {
     "name": "stdout",
     "output_type": "stream",
     "text": [
      "Document: 565\n",
      "Topics: ['DUP: [1] Battery Technology: Mentions the use and control of batteries, including their charging and discharging performance and voltage limits.']\n",
      "--------------------\n"
     ]
    },
    {
     "name": "stderr",
     "output_type": "stream",
     "text": [
      " 57%|█████▋    | 566/1000 [26:15<18:56,  2.62s/it]"
     ]
    },
    {
     "name": "stdout",
     "output_type": "stream",
     "text": [
      "Document: 566\n",
      "Topics: ['DUP: [1] Communication Technology: Mentions base stations and wireless communication.', 'DUP: [1] Power Management: Mentions power saving and reducing power consumption.']\n",
      "--------------------\n"
     ]
    },
    {
     "name": "stderr",
     "output_type": "stream",
     "text": [
      " 57%|█████▋    | 567/1000 [26:18<18:55,  2.62s/it]"
     ]
    },
    {
     "name": "stdout",
     "output_type": "stream",
     "text": [
      "Document: 567\n",
      "Topics: ['DUP: [1] Electrical Systems: Mentions the use and application of electrical systems and components.', 'DUP: [1] Control Systems: Mentions the use of control systems to regulate and manage various processes.', 'DUP: [1] Power Management: Mentions the management and optimization of power usage and generation.', 'DUP: [1] Electronic Devices: Mentions the design and functionality of electronic devices.', 'DUP: [1] Engineering: Mentions the application of scientific, economic, social, and practical knowledge to design, build, and maintain structures, machines, devices, systems, and processes.']\n",
      "--------------------\n"
     ]
    },
    {
     "name": "stderr",
     "output_type": "stream",
     "text": [
      " 57%|█████▋    | 568/1000 [26:20<18:45,  2.60s/it]"
     ]
    },
    {
     "name": "stdout",
     "output_type": "stream",
     "text": [
      "Document: 568\n",
      "Topics: ['DUP: [1] Energy: Mentions the production, management, and calculation of energy.', 'DUP: [1] Manufacturing: Mentions the production process and apparatuses in a plant.', 'NEW: [1] Data Collection: Mentions the collection of metered data from a plant.', 'NEW: [1] Calculation Systems: Mentions the performance of energy calculations.', 'NEW: [1] Metrology: Mentions the measurement of metered data.', 'DUP: [1] Industrial Automation: Mentions the use of a production energy management system.']\n",
      "--------------------\n"
     ]
    },
    {
     "name": "stderr",
     "output_type": "stream",
     "text": [
      " 57%|█████▋    | 569/1000 [26:24<21:13,  2.95s/it]"
     ]
    },
    {
     "name": "stdout",
     "output_type": "stream",
     "text": [
      "Document: 569\n",
      "Topics: ['DUP: [1] Separation Technology: Mentions processes and techniques used to separate substances or components from a mixture.', 'DUP: [1] Membrane Technology: Mentions the use of membranes for separation processes.', 'DUP: [1] Zeolites: Mentions porous aluminosilicate minerals used in various applications, including separation processes.', 'DUP: [1] Housing: Mentions structures used to contain or protect components.', 'DUP: [1] Thermodynamics: Mentions the study of energy and its relation to heat and work.', 'NEW: [1] High Temperature Systems: Mentions systems designed to operate at high temperatures.', 'DUP: [1] Fluid Systems: Mentions systems used to transport or process fluids.', 'NEW: [1] Energy Efficiency: Mentions methods or technologies used to minimize energy consumption.']\n",
      "--------------------\n"
     ]
    },
    {
     "name": "stderr",
     "output_type": "stream",
     "text": [
      " 57%|█████▋    | 570/1000 [26:28<23:50,  3.33s/it]"
     ]
    },
    {
     "name": "stdout",
     "output_type": "stream",
     "text": [
      "Document: 570\n",
      "Topics: ['DUP: [1] Wireless Power Transfer: Refers to the transmission of electrical energy without the use of wires.', 'NEW: [1] Magnetic Fields: Refers to a region around a magnetic material or magnet in which it exerts force on other magnetic materials.', 'NEW: [1] Inductive Coupling: Refers to the transfer of energy between two coils through an electromagnetic field.', 'DUP: [1] Electromagnetism: Refers to the interaction between electric charges and magnetic fields.', 'DUP: [1] Power Systems: Refers to the generation, transmission, and distribution of electrical power.', 'NEW: [1] Aerial Technology: Refers to technology related to aircraft and their design, construction, and operation.', 'DUP: [1] Engineering: Refers to the application of scientific, economic, social, and practical knowledge to design, build, and maintain structures, machines, devices, systems, and processes.']\n",
      "--------------------\n"
     ]
    },
    {
     "name": "stderr",
     "output_type": "stream",
     "text": [
      " 57%|█████▋    | 571/1000 [26:31<22:34,  3.16s/it]"
     ]
    },
    {
     "name": "stdout",
     "output_type": "stream",
     "text": [
      "Document: 571\n",
      "Topics: ['DUP: [1] Agriculture: Mentions precision farming and guidance systems used in agriculture.', 'DUP: [1] Engineering Design: Mentions the design and integration of separate system elements into a common platform.', 'DUP: [1] Electrical Systems: Mentions cable harnesses and the integration of electronic components.', 'DUP: [1] Computer Systems: Mentions guidance computer technology and user terminals.']\n",
      "--------------------\n"
     ]
    },
    {
     "name": "stderr",
     "output_type": "stream",
     "text": [
      " 57%|█████▋    | 572/1000 [26:34<23:12,  3.25s/it]"
     ]
    },
    {
     "name": "stdout",
     "output_type": "stream",
     "text": [
      "Document: 572\n",
      "Topics: ['DUP: [1] Refrigeration Technology: Mentions the technology used to cool and maintain low temperatures.', 'DUP: [1] Heat Exchangers: Mentions devices used to transfer heat from one medium to another without direct contact.', 'DUP: [1] Thermal Management: Mentions the techniques used to control, regulate, or dissipate heat.', 'DUP: [1] Materials Science: Mentions the study of the properties and behavior of materials.', 'DUP: [1] Metallurgy: Mentions the science and technology of metals and their production and processing.', 'DUP: [1] Manufacturing: Mentions the process of producing goods or services.', 'DUP: [1] Engineering: Mentions the application of scientific, economic, social, and practical knowledge to design, build, and maintain structures, machines, devices, systems, and processes.']\n",
      "--------------------\n"
     ]
    },
    {
     "name": "stderr",
     "output_type": "stream",
     "text": [
      " 57%|█████▋    | 573/1000 [26:37<21:48,  3.06s/it]"
     ]
    },
    {
     "name": "stdout",
     "output_type": "stream",
     "text": [
      "Document: 573\n",
      "Topics: ['DUP: [1] Battery Technology: Mentions the design and components of batteries.', 'DUP: [1] Engineering Design: Mentions the process of designing and developing products or systems.', 'DUP: [1] Material Processing: Mentions the manipulation and transformation of materials.', 'DUP: [1] Manufacturing: Mentions the production of goods or products.']\n",
      "--------------------\n"
     ]
    },
    {
     "name": "stderr",
     "output_type": "stream",
     "text": [
      " 57%|█████▋    | 574/1000 [26:40<20:46,  2.93s/it]"
     ]
    },
    {
     "name": "stdout",
     "output_type": "stream",
     "text": [
      "Document: 574\n",
      "Topics: ['DUP: [1] Power Electronics: Mentions the use of inverters to convert electrical power.', 'DUP: [1] Turbochargers: Mentions the use of turbochargers in engines.', 'NEW: [1] Power Delivery Systems: Mentions systems used to deliver electrical power.', 'DUP: [1] Electrical Systems: Mentions the use of electrical systems.', 'DUP: [1] Engine Technology: Mentions the use of engines and their related components.']\n",
      "--------------------\n"
     ]
    },
    {
     "name": "stderr",
     "output_type": "stream",
     "text": [
      " 57%|█████▊    | 575/1000 [26:42<19:03,  2.69s/it]"
     ]
    },
    {
     "name": "stdout",
     "output_type": "stream",
     "text": [
      "Document: 575\n",
      "Topics: ['DUP: [1] Laser Technology: Mentions the use of lasers for various applications, including machining and material modification.']\n",
      "--------------------\n"
     ]
    },
    {
     "name": "stderr",
     "output_type": "stream",
     "text": [
      " 58%|█████▊    | 576/1000 [26:45<19:11,  2.72s/it]"
     ]
    },
    {
     "name": "stdout",
     "output_type": "stream",
     "text": [
      "Document: 576\n",
      "Topics: ['DUP: [1] Marine Technology: Mentions marine vessels and marine battery charger systems.', 'DUP: [1] Electrical Systems: Mentions charging circuits, AC power, and electrical components.', 'DUP: [1] Battery Technology: Mentions marine batteries.', 'DUP: [1] Control Systems: Mentions controllers.', 'DUP: [1] Housing: Mentions housings.', 'NEW: [1] Cords: Mentions cords and plug ends.', 'DUP: [1] Power Management: Mentions power transmission and control of charging operation modes.', 'NEW: [1] Indicator Technology: Mentions status indicators.']\n",
      "--------------------\n"
     ]
    },
    {
     "name": "stderr",
     "output_type": "stream",
     "text": [
      " 58%|█████▊    | 577/1000 [26:48<20:24,  2.89s/it]"
     ]
    },
    {
     "name": "stdout",
     "output_type": "stream",
     "text": [
      "Document: 577\n",
      "Topics: ['DUP: [1] Biotechnology: This topic covers the use of living organisms or their parts to develop technologies and products.', 'NEW: [1] Sensors and Detection: This topic covers devices and methods used to identify and measure various substances, including biologicals.', 'DUP: [1] Material Science: This topic covers the properties, composition, and processing of various materials, including those used in the development of labeling and aggregating particles.', 'DUP: [1] Chemistry: This topic covers the properties, composition, and reactions of various substances, including those used in the development of receptors and linkers.', 'DUP: [1] Nanotechnology: This topic covers the manipulation of materials at the nanoscale, including the development of labeling and aggregating particles and their applications in detection methods.']\n",
      "--------------------\n"
     ]
    },
    {
     "name": "stderr",
     "output_type": "stream",
     "text": [
      " 58%|█████▊    | 578/1000 [26:52<23:22,  3.32s/it]"
     ]
    },
    {
     "name": "stdout",
     "output_type": "stream",
     "text": [
      "Document: 578\n",
      "Topics: ['DUP: [1] Solar Energy: Refers to the energy derived from the sun, often through the use of solar panels or other technologies.', 'DUP: [1] Energy Management: Refers to the process of planning, organizing, and optimizing energy production and consumption.', 'DUP: [1] Portable Devices: Refers to devices that can be easily transported and used in various locations.', 'DUP: [1] Lighting Technology: Refers to technologies used to produce and control light, including solar lighting towers.', 'DUP: [1] Control Systems: Refers to systems used to manage and automate various processes, including the control panel on the portable solar lighting tower.', 'NEW: [1] Graphic User Interfaces: Refers to interfaces that use graphical icons and visual indicators to interact with a computer or other device.', 'NEW: [1] Computer Technology: Refers to technologies related to computers, including computer tablets and software for displaying energy management graphs.']\n",
      "--------------------\n"
     ]
    },
    {
     "name": "stderr",
     "output_type": "stream",
     "text": [
      " 58%|█████▊    | 579/1000 [26:55<22:57,  3.27s/it]"
     ]
    },
    {
     "name": "stdout",
     "output_type": "stream",
     "text": [
      "Document: 579\n",
      "Topics: ['DUP: [1] Automotive Technology: Mentions components and systems related to motor vehicles.', 'DUP: [1] Manufacturing: Mentions processes for creating physical objects.', 'DUP: [1] Engineering Design: Mentions the process of creating functional solutions to real-world problems.', 'DUP: [1] Materials Science: Mentions the properties and applications of various substances.', 'NEW: [1] Light Metal Alloys: Mentions metals that are lighter than others and their alloys.']\n",
      "--------------------\n"
     ]
    },
    {
     "name": "stderr",
     "output_type": "stream",
     "text": [
      " 58%|█████▊    | 580/1000 [27:00<26:24,  3.77s/it]"
     ]
    },
    {
     "name": "stdout",
     "output_type": "stream",
     "text": [
      "Document: 580\n",
      "Topics: [\"DUP: [1] Geothermal Energy: Refers to the energy derived from the Earth's heat.\", 'DUP: [1] Refrigeration Technology: Involves the process of removing heat from a space or substance to cool it down.', 'DUP: [1] Heat Exchangers: Devices used to transfer heat from one medium to another without direct contact between the two.', 'DUP: [1] Energy Systems: Encompasses various methods and technologies for generating, transmitting, and utilizing energy.', 'DUP: [1] Engineering Systems: Refers to the application of scientific, economic, social, and practical knowledge to design, build, and maintain structures, machines, devices, systems, and processes.', 'DUP: [1] Thermodynamics: The branch of physics that deals with the relationships between heat and other forms of energy.', 'DUP: [1] Power Systems: Involves the generation, transmission, and distribution of electrical power.', 'DUP: [1] Control Systems: Systems used to manage, direct, or regulate the behavior of other systems or processes.', 'DUP: [1] Mechanical Systems: Refers to systems that involve the motion of mechanical components, such as engines, pumps, and gears.', 'DUP: [1] Industrial Automation: The use of control systems and other automation technologies in industrial processes.', 'DUP: [1] HVAC Systems: Heating, ventilation, and air conditioning systems used to maintain comfortable indoor']\n",
      "--------------------\n"
     ]
    },
    {
     "name": "stderr",
     "output_type": "stream",
     "text": [
      " 58%|█████▊    | 581/1000 [27:03<24:51,  3.56s/it]"
     ]
    },
    {
     "name": "stdout",
     "output_type": "stream",
     "text": [
      "Document: 581\n",
      "Topics: ['DUP: [1] Internal Combustion Engines: Mentions engines that use fuel and air to create power through combustion.', 'DUP: [1] Turbochargers: Mentions devices that use exhaust gas to force more air into an engine to increase power output.', 'DUP: [1] Catalytic Converters: Mentions devices that convert harmful exhaust gases into less harmful ones through a chemical reaction.', 'DUP: [1] Control Systems: Mentions systems used to manage and regulate various functions, in this case controlling the fluid-delivery device.', 'NEW: [1] Fluid Delivery Systems: Mentions systems used to transport fluids, in this case delivering fuel-air mixture to the catalytic converter.']\n",
      "--------------------\n"
     ]
    },
    {
     "name": "stderr",
     "output_type": "stream",
     "text": [
      " 58%|█████▊    | 582/1000 [27:06<23:01,  3.31s/it]"
     ]
    },
    {
     "name": "stdout",
     "output_type": "stream",
     "text": [
      "Document: 582\n",
      "Topics: ['DUP: [1] Electrical Systems: Mentions electrical components and their functionality.', 'DUP: [1] Control Systems: Mentions devices that can issue commands and receive signals.', 'DUP: [1] Wireless Communications: Mentions wireless signal transmission.', 'NEW: [1] Load Control: Mentions controlling the amount of power delivered to an electrical load.', 'DUP: [1] Power Management: Mentions managing the delivery and usage of power.']\n",
      "--------------------\n"
     ]
    },
    {
     "name": "stderr",
     "output_type": "stream",
     "text": [
      " 58%|█████▊    | 583/1000 [27:10<24:26,  3.52s/it]"
     ]
    },
    {
     "name": "stdout",
     "output_type": "stream",
     "text": [
      "Document: 583\n",
      "Topics: ['DUP: [1] Battery Technology: Mentions the study and application of batteries and their components.', 'DUP: [1] Electrical Systems: Mentions the design, installation, and maintenance of electrical systems.', 'DUP: [1] Power Management: Mentions the optimization and control of electrical power.', 'DUP: [1] Engineering Design: Mentions the process of creating new products or systems using the principles of engineering.', 'NEW: [1] Fault Diagnosis: Mentions the identification of problems in a system or equipment.', 'DUP: [1] Electrical Engineering: Mentions the branch of engineering that deals with the study and application of electricity, electronics, and electromagnetism.', 'DUP: [1] Control Systems: Mentions the design and implementation of systems that regulate and direct the behavior of other systems or processes.', 'DUP: [1] Industrial Automation: Mentions the use of control systems and other automation technologies in industrial processes.', 'DUP: [1] Electronics: Mentions the study and application of electronic components and systems.', 'DUP: [1] Engineering Controls: Mentions the use of engineering principles to design and implement control systems.', 'DUP: [1] Computer Systems: Mentions the design, implementation, and use of computer systems.', 'DUP: [1] Networking: Mentions the interconnection of computers and other devices to enable communication and data transfer.', 'DUP: [1] Sensor Technology: Mentions the design, development']\n",
      "--------------------\n"
     ]
    },
    {
     "name": "stderr",
     "output_type": "stream",
     "text": [
      " 58%|█████▊    | 584/1000 [27:15<26:19,  3.80s/it]"
     ]
    },
    {
     "name": "stdout",
     "output_type": "stream",
     "text": [
      "Document: 584\n",
      "Topics: ['DUP: [1] Electrical Systems: Mentions electrical components and systems.', 'DUP: [1] Manufacturing: Mentions the process of producing goods.', 'DUP: [1] Engineering: Mentions the application of scientific, economic, social, and practical knowledge to design, build, and maintain structures, machines, devices, systems, and processes.', 'DUP: [1] Energy: Mentions the electrical energy storage in the form of an electric double-layer capacitor.', 'DUP: [1] Electrochemistry: Mentions the study of chemical processes at an electrode-electrolyte interface.', 'DUP: [1] Material Science: Mentions the study of the properties and behavior of materials.', 'DUP: [1] Material Processing: Mentions the manipulation of materials to create a desired form or property.', 'DUP: [1] Industrial Automation: Mentions the use of control systems to automate industrial processes.', 'DUP: [1] Engineering Design: Mentions the process of creating a design to meet specific requirements.', 'DUP: [1] Mechanical Engineering: Mentions the application of the principles of physics and mathematics to design, analyze, manufacture, and maintain mechanical systems.', 'NEW: [1] Materials Engineering: Mentions the application of the principles of materials science to the design, development, and processing of materials.', 'DUP: [1] Nanotechnology: Mentions the manipulation of materials on an atomic, molecular, and su']\n",
      "--------------------\n"
     ]
    },
    {
     "name": "stderr",
     "output_type": "stream",
     "text": [
      " 58%|█████▊    | 585/1000 [27:19<27:41,  4.00s/it]"
     ]
    },
    {
     "name": "stdout",
     "output_type": "stream",
     "text": [
      "Document: 585\n",
      "Topics: ['DUP: [1] Power Electronics: Study of electrical circuits that control the flow of electrical power.', 'DUP: [1] Energy Storage: Systems used to store electrical energy.', 'NEW: [1] Medium Voltage: Voltage level used in electrical power transmission and distribution.', 'NEW: [1] IT Loads: Equipment used in information technology that requires electrical power.', 'NEW: [1] Transformerless Power Systems: Systems used to supply power without the use of transformers.', 'NEW: [1] DCSTATCOM: A static converter used to convert DC power to AC power without using a transformer.', 'NEW: [1] Flying Capacitor Topology: A configuration used in DC-DC converters to balance capacitor voltages and minimize switching losses.']\n",
      "--------------------\n"
     ]
    },
    {
     "name": "stderr",
     "output_type": "stream",
     "text": [
      " 59%|█████▊    | 586/1000 [27:22<26:04,  3.78s/it]"
     ]
    },
    {
     "name": "stdout",
     "output_type": "stream",
     "text": [
      "Document: 586\n",
      "Topics: ['DUP: [1] Internal Combustion Engines: Mentions the starting control of internal combustion engines.', 'DUP: [1] Automotive Technology: Mentions the technology related to automobiles, including their components and systems.', 'DUP: [1] Control Systems: Mentions the systems used to regulate and direct the operation of other systems or machines.', 'NEW: [1] Electric Drives: Mentions the use of electric power to drive machinery or vehicles.', 'NEW: [1] Speed Change Devices: Mentions devices used to change the speed or direction of rotation of a mechanical system.']\n",
      "--------------------\n"
     ]
    },
    {
     "name": "stderr",
     "output_type": "stream",
     "text": [
      " 59%|█████▊    | 587/1000 [27:27<26:56,  3.91s/it]"
     ]
    },
    {
     "name": "stdout",
     "output_type": "stream",
     "text": [
      "Document: 587\n",
      "Topics: ['DUP: [1] Engineering: Mentions the design, development, and implementation of systems and structures.', 'DUP: [1] Material Science: Mentions the study of the properties and behavior of various materials.', 'DUP: [1] Geothermal Energy: Mentions the use of heat from the Earth to generate electricity or heat.', 'DUP: [1] Construction: Mentions the process of constructing buildings, infrastructure, and other physical structures.', 'NEW: [1] Graphite: Mentions the properties, uses, and production of graphite.', 'NEW: [1] Bentonite: Mentions the properties, uses, and production of bentonite.', 'DUP: [1] Drilling Technology: Mentions the technology and techniques used for drilling.', 'DUP: [1] Fluid Systems: Mentions the design, operation, and maintenance of fluid systems.', 'DUP: [1] Heat Exchangers: Mentions the devices used to transfer heat from one fluid to another.', 'DUP: [1] HVAC Systems: Mentions heating, ventilation, and air conditioning systems.', 'DUP: [1] Mining and Mineral Processing: Mentions the extraction and processing of minerals.', 'DUP: [1] Materials Engineering: Mentions the application of engineering principles to the development and processing of materials.', 'NEW: [1] Installation Technology: Mentions the techniques and equipment used for installing systems and structures.']\n",
      "--------------------\n"
     ]
    },
    {
     "name": "stderr",
     "output_type": "stream",
     "text": [
      " 59%|█████▉    | 588/1000 [27:30<25:24,  3.70s/it]"
     ]
    },
    {
     "name": "stdout",
     "output_type": "stream",
     "text": [
      "Document: 588\n",
      "Topics: ['DUP: [1] Manufacturing: Mentions the process of creating products, including debinding and sintering of additively manufactured parts.', 'DUP: [1] Engineering: Mentions the design and implementation of a furnace for debinding and sintering additively manufactured parts.', 'DUP: [1] Heating Systems: Mentions the use of a heater to heat a sintering volume to debinding and sintering temperatures.', 'DUP: [1] Gas Technology: Mentions the use of a forming gas line and the heating of forming gas to a specific temperature before it enters the sintering volume.', 'NEW: [1] Thermal Systems: Mentions the use of a heat exchanger to heat the forming gas and maintain the temperature of the sintering volume.']\n",
      "--------------------\n"
     ]
    },
    {
     "name": "stderr",
     "output_type": "stream",
     "text": [
      " 59%|█████▉    | 589/1000 [27:33<24:23,  3.56s/it]"
     ]
    },
    {
     "name": "stdout",
     "output_type": "stream",
     "text": [
      "Document: 589\n",
      "Topics: ['DUP: [1] Manufacturing: Mentions the process of producing goods or services.', 'DUP: [1] Technology: Mentions the application of scientific knowledge for practical purposes.', 'DUP: [1] Engineering: Mentions the application of mathematics, physics, and other sciences for the design, construction, and maintenance of structures, machines, devices, systems, and processes.', 'DUP: [1] Control Systems: Mentions systems used to regulate and direct the operation of other systems or processes.', 'NEW: [1] Production Systems: Mentions systems used to produce goods or services.', 'NEW: [1] Machines: Mentions mechanical or electrical devices used to perform work.', 'NEW: [1] Productivity: Mentions the efficiency of producing goods or services.', 'DUP: [1] Predictive Control: Mentions control systems that use predictions to make decisions.', 'DUP: [1] Maintenance: Mentions the process of maintaining and repairing equipment or structures.']\n",
      "--------------------\n"
     ]
    },
    {
     "name": "stderr",
     "output_type": "stream",
     "text": [
      " 59%|█████▉    | 590/1000 [27:37<24:25,  3.57s/it]"
     ]
    },
    {
     "name": "stdout",
     "output_type": "stream",
     "text": [
      "Document: 590\n",
      "Topics: ['DUP: [1] Geothermal Energy: Mentions the production of electricity from geothermal resources.', 'NEW: [1] Geothermal Formations: Refers to the underground reservoirs of geothermal energy.', 'NEW: [1] Geothermal Drilling: Refers to the process of drilling into the earth to access geothermal resources.', 'NEW: [1] Geothermal Injection Wells: Refers to wells used to inject water or other fluids into geothermal formations to create steam.', 'NEW: [1] Geothermal Production Wells: Refers to wells used to extract steam or hot water from geothermal formations.', 'NEW: [1] Geothermal Control Systems: Refers to systems used to control the production and injection processes in geothermal power plants.', 'NEW: [1] Geothermal Fracturing: Refers to the process of creating fractures in geothermal formations to increase the flow of geothermal fluids.', 'NEW: [1] Geothermal Data Acquisition: Refers to the process of collecting data from geothermal power plants to monitor and optimize performance.', 'NEW: [1] Geothermal Pressure Control: Refers to the process of controlling the pressure in geothermal wells to optimize production and injection.']\n",
      "--------------------\n"
     ]
    },
    {
     "name": "stderr",
     "output_type": "stream",
     "text": [
      " 59%|█████▉    | 591/1000 [27:41<25:10,  3.69s/it]"
     ]
    },
    {
     "name": "stdout",
     "output_type": "stream",
     "text": [
      "Document: 591\n",
      "Topics: ['DUP: [1] Fuel Cells: Mentions the use of fuel cells for generating electric power.', 'DUP: [1] Power Management: Mentions techniques for managing electric power.', 'DUP: [1] Electric Power Systems: Mentions systems for generating, transmitting, and distributing electric power.', 'DUP: [1] Controllers: Mentions electronic devices used to control various systems.', 'NEW: [1] Voltage: Mentions electric potential difference.', 'DUP: [1] Thresholds: Mentions a set value or limit.', 'NEW: [1] Current: Mentions the flow of electric charge.', 'DUP: [1] Efficiency: Mentions the ability to convert energy from one form to another without wasting it.', 'NEW: [1] Operations: Mentions the running of a system or process.', 'NEW: [1] Restoration: Mentions the act of returning something to its original state.', 'DUP: [1] Power Generation: Mentions the process of generating electric power.', 'NEW: [1] Electric Power Responsiveness: Mentions the ability of a system to respond quickly to changes in electric power demand.', 'NEW: [1] Fuel Cell System: Mentions a system that uses fuel cells to generate electric power.', 'NEW: [1] Intermittent Operations: Mentions operations that are not continuous.', 'NEW: [1] Warmup Operations: Mentions operations that involve heating a system to its operating temperature.']\n",
      "--------------------\n"
     ]
    },
    {
     "name": "stderr",
     "output_type": "stream",
     "text": [
      " 59%|█████▉    | 592/1000 [27:43<22:24,  3.29s/it]"
     ]
    },
    {
     "name": "stdout",
     "output_type": "stream",
     "text": [
      "Document: 592\n",
      "Topics: ['DUP: [1] Battery Technology: Mentions the development of a method for producing an electrode for a lithium-ion battery using an electrodepositable composition and a substrate serving as the electrode in an electrical circuit. The composition includes an aqueous medium, an ionic (meth)acrylic polymer, and solid particles with a weight ratio of solid particles to ionic (meth)acrylic polymer of at least 4:1.']\n",
      "--------------------\n"
     ]
    },
    {
     "name": "stderr",
     "output_type": "stream",
     "text": [
      " 59%|█████▉    | 593/1000 [27:45<20:23,  3.01s/it]"
     ]
    },
    {
     "name": "stdout",
     "output_type": "stream",
     "text": [
      "Document: 593\n",
      "Topics: ['DUP: [1] Hydrogen Technology: Mentions the production of hydrogen and its application in hydrogen water.', 'DUP: [1] Engineering Design: Mentions the design of a hydrogen generating unit with a small volume and simple structure.', 'DUP: [1] Manufacturing: Mentions simplifying manufacturing processes for the hydrogen generating unit.']\n",
      "--------------------\n"
     ]
    },
    {
     "name": "stderr",
     "output_type": "stream",
     "text": [
      " 59%|█████▉    | 594/1000 [27:48<19:39,  2.90s/it]"
     ]
    },
    {
     "name": "stdout",
     "output_type": "stream",
     "text": [
      "Document: 594\n",
      "Topics: ['DUP: [1] Communication Technology: Mentions the transmission of information using technology.', 'DUP: [1] Wireless Communications: Mentions the use of wireless technology for communication.', 'DUP: [1] Base Stations: Mentions the use of base stations in wireless communication systems.', 'DUP: [1] User Equipment: Mentions the use of user equipment in wireless communication systems.', 'DUP: [1] Paging Systems: Mentions the use of paging systems for communication.', 'NEW: [1] Indication Fields: Mentions the use of indication fields in communication systems.', 'NEW: [1] Digital Signals: Mentions the use of digital signals in communication systems.', 'DUP: [1] Data Transmission: Mentions the transmission of data using technology.']\n",
      "--------------------\n"
     ]
    },
    {
     "name": "stderr",
     "output_type": "stream",
     "text": [
      " 60%|█████▉    | 595/1000 [27:50<18:30,  2.74s/it]"
     ]
    },
    {
     "name": "stdout",
     "output_type": "stream",
     "text": [
      "Document: 595\n",
      "Topics: ['DUP: [1] Communication Technology: Mentions the use of communication processors and circuitries.', 'DUP: [1] Electrical Systems: Mentions the use of temperature measurement sensors and electronic devices.', 'DUP: [1] Technology: Mentions the use of electronic devices and processors.', 'DUP: [1] Engineering: Mentions the design and functionality of electronic devices.', 'DUP: [1] Sensor Technology: Mentions the use of temperature measurement sensors.', 'DUP: [1] Control Systems: Mentions the control of electronic devices and communication processors.']\n",
      "--------------------\n"
     ]
    },
    {
     "name": "stderr",
     "output_type": "stream",
     "text": [
      " 60%|█████▉    | 596/1000 [27:53<18:23,  2.73s/it]"
     ]
    },
    {
     "name": "stdout",
     "output_type": "stream",
     "text": [
      "Document: 596\n",
      "Topics: ['DUP: [1] Robotics: Mentions the use of robots and their control methods.', 'DUP: [1] Control Systems: Mentions the derivation of control sequences and the execution of those sequences by a system.', 'DUP: [1] Manufacturing: Mentions the manipulation of objects, specifically the gripping and shifting of an operation object.', 'DUP: [1] Engineering Design: Mentions the derivation of approach and scan locations and the creation of control sequences.']\n",
      "--------------------\n"
     ]
    },
    {
     "name": "stderr",
     "output_type": "stream",
     "text": [
      " 60%|█████▉    | 597/1000 [27:55<17:55,  2.67s/it]"
     ]
    },
    {
     "name": "stdout",
     "output_type": "stream",
     "text": [
      "Document: 597\n",
      "Topics: ['DUP: [1] Engineering Design: Mentions the design of a connector system for fluid conduits.', 'DUP: [1] Manufacturing: Mentions the creation of a connector system for fluid conduits.', 'DUP: [1] Mechanical Engineering: Mentions the design and manufacturing of a connector system for fluid conduits.', 'DUP: [1] Fluid Systems: Mentions the use of a connector system for fluid conduits.']\n",
      "--------------------\n"
     ]
    },
    {
     "name": "stderr",
     "output_type": "stream",
     "text": [
      " 60%|█████▉    | 598/1000 [27:58<17:07,  2.56s/it]"
     ]
    },
    {
     "name": "stdout",
     "output_type": "stream",
     "text": [
      "Document: 598\n",
      "Topics: ['DUP: [1] Chemical Processing: Mentions the transformation of one chemical substance to another.', 'DUP: [1] Electrochemistry: Mentions the study of chemical reactions that occur at an electrode-electrolyte interface.', 'NEW: [1] Ammonia Technology: Mentions the production or use of ammonia.']\n",
      "--------------------\n"
     ]
    },
    {
     "name": "stderr",
     "output_type": "stream",
     "text": [
      " 60%|█████▉    | 599/1000 [28:01<18:49,  2.82s/it]"
     ]
    },
    {
     "name": "stdout",
     "output_type": "stream",
     "text": [
      "Document: 599\n",
      "Topics: ['DUP: [1] Electrical Systems: Mentions the operation of an electrical converter and control methods.', 'DUP: [1] Power Electronics: Mentions the design and implementation of electronic power converters.', 'DUP: [1] Control Systems: Mentions the use of controllers and control methods in electrical systems.']\n",
      "--------------------\n"
     ]
    },
    {
     "name": "stderr",
     "output_type": "stream",
     "text": [
      " 60%|██████    | 600/1000 [28:04<19:05,  2.86s/it]"
     ]
    },
    {
     "name": "stdout",
     "output_type": "stream",
     "text": [
      "Document: 600\n",
      "Topics: ['DUP: [1] Automotive Technology: Mentions vehicle systems and technologies.', 'NEW: [1] Braking Systems: Mentions vehicle braking systems and controls.', 'DUP: [1] Regenerative Braking: Mentions energy recovery during braking.', 'DUP: [1] Control Systems: Mentions systems used to manage and direct the operation of other systems or processes.']\n",
      "--------------------\n"
     ]
    },
    {
     "name": "stderr",
     "output_type": "stream",
     "text": [
      " 60%|██████    | 601/1000 [28:07<19:51,  2.99s/it]"
     ]
    },
    {
     "name": "stdout",
     "output_type": "stream",
     "text": [
      "Document: 601\n",
      "Topics: ['DUP: [1] Power Electronics: Mentions the use and control of electronic components to convert and regulate power.', 'DUP: [1] Electric Motors: Mentions the use of electric current to produce mechanical force.', 'NEW: [1] Switching Circuits: Mentions the use of electronic circuits to control the flow of electrical current.', 'NEW: [1] Power Inverters: Mentions the conversion of direct current to alternating current.', 'NEW: [1] Soft Switching: Mentions a method of switching electrical circuits with minimal power loss.']\n",
      "--------------------\n"
     ]
    },
    {
     "name": "stderr",
     "output_type": "stream",
     "text": [
      " 60%|██████    | 602/1000 [28:11<20:11,  3.04s/it]"
     ]
    },
    {
     "name": "stdout",
     "output_type": "stream",
     "text": [
      "Document: 602\n",
      "Topics: ['DUP: [1] Engineering Controls: Controllers and their functions in engineering systems.', 'NEW: [1] Aftertreatment Systems: Systems used to reduce emissions from engine exhaust gases.', 'DUP: [1] Ammonia Technology: Technologies related to the production, storage, and use of ammonia.', 'DUP: [1] SCR Catalysts: Selective catalytic reduction catalysts used in exhaust gas treatment.', 'DUP: [1] Engine Technology: Technologies related to the design, construction, and operation of engines.']\n",
      "--------------------\n"
     ]
    },
    {
     "name": "stderr",
     "output_type": "stream",
     "text": [
      " 60%|██████    | 603/1000 [28:13<19:16,  2.91s/it]"
     ]
    },
    {
     "name": "stdout",
     "output_type": "stream",
     "text": [
      "Document: 603\n",
      "Topics: ['DUP: [1] Networking: Mentions the exchange of data between devices in a network.', 'DUP: [1] Control Systems: Mentions systems used to manage and direct the operation of other systems or processes.', 'NEW: [1] Traffic Management: Mentions the management and control of data or vehicle flow in a network or system.']\n",
      "--------------------\n"
     ]
    },
    {
     "name": "stderr",
     "output_type": "stream",
     "text": [
      " 60%|██████    | 604/1000 [28:16<19:51,  3.01s/it]"
     ]
    },
    {
     "name": "stdout",
     "output_type": "stream",
     "text": [
      "Document: 604\n",
      "Topics: ['NEW: [1] Data Movement: Mentions the transfer of data between different memory locations or processing units.', 'DUP: [1] Computer Systems: Mentions computer-related systems and components.', 'NEW: [1] Memory Systems: Mentions memory-related systems and components.', 'DUP: [1] Processing Units: Mentions computer processing units and their functions.', 'NEW: [1] Caching: Mentions the use of caches to store frequently used data for faster access.', 'NEW: [1] Coherency: Mentions maintaining consistency between data in different caches or memory locations.']\n",
      "--------------------\n"
     ]
    },
    {
     "name": "stderr",
     "output_type": "stream",
     "text": [
      " 60%|██████    | 605/1000 [28:20<20:41,  3.14s/it]"
     ]
    },
    {
     "name": "stdout",
     "output_type": "stream",
     "text": [
      "Document: 605\n",
      "Topics: ['DUP: [1] Signal Processing: Mentions the manipulation of signals, including receiving, transmitting, and analyzing signals.', 'DUP: [1] Digital Signal Processing: A specific type of signal processing that uses digital techniques to manipulate signals.', 'DUP: [1] Data Processing: Mentions the manipulation and analysis of data.', 'NEW: [1] Feedback Systems: Mentions systems that use feedback to control their behavior.', 'NEW: [1] Equalization: Mentions techniques used to correct distortions in signals.', 'DUP: [1] Current Control: Mentions the regulation and manipulation of electrical current.', 'NEW: [1] Analog Circuits: Mentions electronic circuits that process continuous signals.', 'NEW: [1] Data Circuits: Mentions electronic circuits used to process data.', 'NEW: [1] Pipelined Systems: Mentions systems where data is processed in stages, with each stage producing an output that is the input to the next stage.']\n",
      "--------------------\n"
     ]
    },
    {
     "name": "stderr",
     "output_type": "stream",
     "text": [
      " 61%|██████    | 606/1000 [28:23<20:32,  3.13s/it]"
     ]
    },
    {
     "name": "stdout",
     "output_type": "stream",
     "text": [
      "Document: 606\n",
      "Topics: ['DUP: [1] Routing: Mentions the process of selecting paths for data to travel between networks or between different parts of a network.', 'NEW: [1] Interfaces: Mentions the physical or logical access points to a network or a network device.', 'NEW: [1] Redirection Groups: Mentions the grouping of interfaces for routing purposes.', 'NEW: [1] Priority Order: Mentions the arrangement of items in order of importance.']\n",
      "--------------------\n"
     ]
    },
    {
     "name": "stderr",
     "output_type": "stream",
     "text": [
      " 61%|██████    | 607/1000 [28:27<22:35,  3.45s/it]"
     ]
    },
    {
     "name": "stdout",
     "output_type": "stream",
     "text": [
      "Document: 607\n",
      "Topics: ['DUP: [1] Material Processing: This topic covers the methods and techniques used to modify or alter the properties of materials.', 'DUP: [1] Vacuum Technology: This topic covers the principles and applications of vacuum technology, including the use of vacuum chambers for various processes such as PVD (Physical Vapor Deposition).', 'DUP: [1] Semiconductor Technology: This topic covers the design, fabrication, and application of semiconductor devices, including GaN-based optoelectronic and electronic devices.', 'DUP: [1] Coating Technology: This topic covers the techniques and processes used to apply thin films or coatings to surfaces, including the use of PVD for forming AlN buffers on GaN-based devices.', 'DUP: [1] Gas Technology: This topic covers the production, storage, and use of gases, including the use of nitrogen-containing gases for reactive sputtering in PVD processes.', 'DUP: [1] Engineering Design: This topic covers the process of designing and developing new products, systems, or processes, including the design of GaN-based optoelectronic and electronic devices and the development of methods for forming AlN buffers on them.', 'DUP: [1] Electrical Systems: This topic covers the design, operation, and maintenance of electrical systems, including the use of PVD AlN buffers in GaN-based devices for improved electrical performance.']\n",
      "--------------------\n"
     ]
    },
    {
     "name": "stderr",
     "output_type": "stream",
     "text": [
      " 61%|██████    | 608/1000 [28:30<20:50,  3.19s/it]"
     ]
    },
    {
     "name": "stdout",
     "output_type": "stream",
     "text": [
      "Document: 608\n",
      "Topics: ['DUP: [1] Valve Technology: Mentions the design and functionality of valves, including materials and specifications.', 'DUP: [1] Rubber Technology: Mentions the properties and applications of rubber, including copolymers and hardness.', 'DUP: [1] Fluorine Technology: Mentions the use and properties of fluorine and its compounds.', 'DUP: [1] Material Science: Mentions the study of materials and their properties.', 'DUP: [1] Engineering Design: Mentions the process of designing and developing products or systems.', 'DUP: [1] Manufacturing: Mentions the process of producing goods, including materials and specifications.']\n",
      "--------------------\n"
     ]
    },
    {
     "name": "stderr",
     "output_type": "stream",
     "text": [
      " 61%|██████    | 609/1000 [28:32<18:56,  2.91s/it]"
     ]
    },
    {
     "name": "stdout",
     "output_type": "stream",
     "text": [
      "Document: 609\n",
      "Topics: ['DUP: [1] Sensors: Includes topics related to various types of sensors, such as temperature sensors, with specific focus on temperature sensors that utilize solar cells and thermochromic resins.']\n",
      "--------------------\n"
     ]
    },
    {
     "name": "stderr",
     "output_type": "stream",
     "text": [
      " 61%|██████    | 610/1000 [28:34<18:02,  2.77s/it]"
     ]
    },
    {
     "name": "stdout",
     "output_type": "stream",
     "text": [
      "Document: 610\n",
      "Topics: ['NEW: [1] Fungi: Mentions various aspects of fungi, including their growth structures and tissue.', 'NEW: [1] Biomaterials: Mentions the use of biological materials for various applications.', 'DUP: [1] Porous Materials: Mentions materials with a structure that allows fluids or gases to pass through.', 'DUP: [1] Separation Technology: Mentions processes or techniques used to separate materials or substances.']\n",
      "--------------------\n"
     ]
    },
    {
     "name": "stderr",
     "output_type": "stream",
     "text": [
      " 61%|██████    | 611/1000 [28:39<21:31,  3.32s/it]"
     ]
    },
    {
     "name": "stdout",
     "output_type": "stream",
     "text": [
      "Document: 611\n",
      "Topics: ['DUP: [1] Additive Manufacturing: Mentions the process of creating three-dimensional objects by adding material layer by layer.', 'DUP: [1] Manufacturing: Mentions the process of producing goods or products.', 'DUP: [1] Technology: Mentions the application of scientific knowledge for practical purposes.', 'DUP: [1] Engineering: Mentions the application of mathematics, physics, and other sciences to design, build, and maintain structures, machines, devices, systems, and processes.', 'DUP: [1] Materials Science: Mentions the study of the properties and behavior of various substances.', 'DUP: [1] Energy: Mentions the capability or power to do work.', 'DUP: [1] Electrical Systems: Mentions the systems used to distribute or control electricity.', 'DUP: [1] Mechanical Engineering: Mentions the application of mathematical and scientific principles to design, build, and maintain mechanical systems.', 'DUP: [1] Engineering Design: Mentions the process of creating new products or systems through the use of a systematic, disciplined, and structured approach.', 'DUP: [1] Material Processing: Mentions the transformation of raw materials into finished products.', 'DUP: [1] Vacuum Technology: Mentions the use of vacuum conditions to achieve specific goals.', 'DUP: [1] Quartz Technology: Mentions the use of quartz in various applications.', 'DUP: [1] LED Technology: Mentions the use of light-emitting']\n",
      "--------------------\n"
     ]
    },
    {
     "name": "stderr",
     "output_type": "stream",
     "text": [
      " 61%|██████    | 612/1000 [28:42<20:24,  3.16s/it]"
     ]
    },
    {
     "name": "stdout",
     "output_type": "stream",
     "text": [
      "Document: 612\n",
      "Topics: ['DUP: [1] Wind Energy: Mentions the generation of electrical power from wind.', 'DUP: [1] Power Systems: Mentions electrical power grids and the control of electrical power.', 'DUP: [1] Control Systems: Mentions the use of a closed control circuit for damping low-frequency oscillations.', 'DUP: [1] Engineering: Implied by the use of the term \"method for controlling\" and the design of a damping control system.', 'DUP: [1] Electrical Engineering: Implied by the focus on electrical power systems and the use of a damping control for electrical power.']\n",
      "--------------------\n"
     ]
    },
    {
     "name": "stderr",
     "output_type": "stream",
     "text": [
      " 61%|██████▏   | 613/1000 [28:45<20:21,  3.16s/it]"
     ]
    },
    {
     "name": "stdout",
     "output_type": "stream",
     "text": [
      "Document: 613\n",
      "Topics: ['DUP: [1] Energy: Mentions the production, consumption, and management of energy.', 'DUP: [1] Control Systems: Mentions systems used to regulate and manage processes.', 'DUP: [1] Temperature Control: Mentions the regulation of temperature.', 'DUP: [1] Weather Technology: Mentions technology used to monitor and measure weather.', 'DUP: [1] Power Management: Mentions the management of electrical power.', 'DUP: [1] Networking: Mentions the use of a network for communication and control.', 'NEW: [1] Security Systems: Mentions systems used to protect against unauthorized access.', 'DUP: [1] Sensors: Mentions devices used to measure physical properties.', 'NEW: [1] Thermoacoustic Power Devices: Mentions a specific type of power generation technology.']\n",
      "--------------------\n"
     ]
    },
    {
     "name": "stderr",
     "output_type": "stream",
     "text": [
      " 61%|██████▏   | 614/1000 [28:48<19:29,  3.03s/it]"
     ]
    },
    {
     "name": "stdout",
     "output_type": "stream",
     "text": [
      "Document: 614\n",
      "Topics: ['DUP: [1] Wireless Communications: Mentions wireless communication channels and signals.', 'DUP: [1] Metrology: Mentions metrology mesh network and diagnostic operations.', 'NEW: [1] Diagnostic Tools: Mentions diagnostic operations and communication link establishment.']\n",
      "--------------------\n"
     ]
    },
    {
     "name": "stderr",
     "output_type": "stream",
     "text": [
      " 62%|██████▏   | 615/1000 [28:50<18:23,  2.87s/it]"
     ]
    },
    {
     "name": "stdout",
     "output_type": "stream",
     "text": [
      "Document: 615\n",
      "Topics: ['NEW: [1] Atmospheric Water Harvesting: Refers to the collection of moisture from the atmosphere without requiring electrical energy inputs.']\n",
      "--------------------\n"
     ]
    },
    {
     "name": "stderr",
     "output_type": "stream",
     "text": [
      " 62%|██████▏   | 616/1000 [28:54<19:08,  2.99s/it]"
     ]
    },
    {
     "name": "stdout",
     "output_type": "stream",
     "text": [
      "Document: 616\n",
      "Topics: ['DUP: [1] Manufacturing: Mentions the process of manufacturing or producing goods.', 'DUP: [1] Automation: Mentions the use of automated systems or machines to perform tasks.', 'DUP: [1] Sensors: Mentions the use of devices that detect or measure physical properties and convert them into electrical signals.', 'NEW: [1] Security: Mentions measures taken to protect against unauthorized access or harm.', 'NEW: [1] Environmental Monitoring: Mentions the measurement and observation of environmental conditions.']\n",
      "--------------------\n"
     ]
    },
    {
     "name": "stderr",
     "output_type": "stream",
     "text": [
      " 62%|██████▏   | 617/1000 [28:56<19:02,  2.98s/it]"
     ]
    },
    {
     "name": "stdout",
     "output_type": "stream",
     "text": [
      "Document: 617\n",
      "Topics: ['DUP: [1] Electric Vehicles: Mentions vehicles that run on electricity.', 'DUP: [1] Transmission Systems: Mentions systems used to transmit power.', 'DUP: [1] Clutches: Mentions mechanical devices used to connect or disconnect power transmission.', 'DUP: [1] Control Systems: Mentions systems used to manage and regulate various functions.', 'DUP: [1] Sensors: Mentions devices used to measure or detect physical conditions.']\n",
      "--------------------\n"
     ]
    },
    {
     "name": "stderr",
     "output_type": "stream",
     "text": [
      " 62%|██████▏   | 618/1000 [28:59<18:22,  2.89s/it]"
     ]
    },
    {
     "name": "stdout",
     "output_type": "stream",
     "text": [
      "Document: 618\n",
      "Topics: ['DUP: [1] Horticulture: Mentions the cultivation of plants, including technologies and methods used.', 'DUP: [1] LED Technology: Mentions the use of Light Emitting Diodes.', 'DUP: [1] Control Systems: Mentions the use of control electronics.', 'DUP: [1] Sensor Technology: Mentions the use of environmental sensors.']\n",
      "--------------------\n"
     ]
    },
    {
     "name": "stderr",
     "output_type": "stream",
     "text": [
      " 62%|██████▏   | 619/1000 [29:02<19:06,  3.01s/it]"
     ]
    },
    {
     "name": "stdout",
     "output_type": "stream",
     "text": [
      "Document: 619\n",
      "Topics: ['NEW: [1] Magnetocaloric Materials: Mentions materials that exhibit a magnetic phase transition resulting in a change in temperature.', 'NEW: [1] Lattices: Mentions regular arrangements of points or objects in space.', 'DUP: [1] Fibers: Mentions long, thin strands of material.', 'NEW: [1] Magnetocaloric Lattice Elements: Mentions materials with a specific arrangement of magnetocaloric fibers.']\n",
      "--------------------\n"
     ]
    },
    {
     "name": "stderr",
     "output_type": "stream",
     "text": [
      " 62%|██████▏   | 620/1000 [29:06<19:56,  3.15s/it]"
     ]
    },
    {
     "name": "stdout",
     "output_type": "stream",
     "text": [
      "Document: 620\n",
      "Topics: ['DUP: [1] Bioprocessing: Mentions the processing of biological materials, including organic matter digestion.']\n",
      "--------------------\n"
     ]
    },
    {
     "name": "stderr",
     "output_type": "stream",
     "text": [
      " 62%|██████▏   | 621/1000 [29:09<20:23,  3.23s/it]"
     ]
    },
    {
     "name": "stdout",
     "output_type": "stream",
     "text": [
      "Document: 621\n",
      "Topics: ['DUP: [1] Aviation Technology: Mentions aircraft technology, specifically wingtip torque boxes and their fabrication methods.', 'DUP: [1] Manufacturing: Mentions fabrication processes, specifically friction stir welding and monolithic clamshells.', 'DUP: [1] Engineering Design: Mentions design of wingtip torque boxes and their components, including internal and external stiffeners.', 'DUP: [1] Material Processing: Mentions the processing of materials, specifically the fabrication of monolithic clamshells and the use of friction stir welding.', 'DUP: [1] Composite Materials: Mentions the use of monolithic clamshells and the potential inclusion of internal and external stiffeners, which may be composite materials.']\n",
      "--------------------\n"
     ]
    },
    {
     "name": "stderr",
     "output_type": "stream",
     "text": [
      " 62%|██████▏   | 622/1000 [29:12<19:13,  3.05s/it]"
     ]
    },
    {
     "name": "stdout",
     "output_type": "stream",
     "text": [
      "Document: 622\n",
      "Topics: ['DUP: [1] Waste Management: Mentions the collection, transportation, and disposal of waste.', 'DUP: [1] Robotics: Mentions autonomous robots and their functions.', 'DUP: [1] Materials Science: Mentions filtering material, dissolvable paper, and absorbent.', 'DUP: [1] Engineering Design: Mentions the design of a waste collection bag for an autonomous cleaning robot.']\n",
      "--------------------\n"
     ]
    },
    {
     "name": "stderr",
     "output_type": "stream",
     "text": [
      " 62%|██████▏   | 623/1000 [29:15<18:58,  3.02s/it]"
     ]
    },
    {
     "name": "stdout",
     "output_type": "stream",
     "text": [
      "Document: 623\n",
      "Topics: ['DUP: [1] Gas Technology: Mentions the use of gas and related technologies.', 'DUP: [1] Membrane Technology: Mentions the use of membranes for separation processes.', 'NEW: [1] CO2 Technology: Mentions the use and processing of carbon dioxide.', 'DUP: [1] Separation Technology: Mentions the process of separating mixtures into individual components.']\n",
      "--------------------\n"
     ]
    },
    {
     "name": "stderr",
     "output_type": "stream",
     "text": [
      " 62%|██████▏   | 624/1000 [29:20<22:00,  3.51s/it]"
     ]
    },
    {
     "name": "stdout",
     "output_type": "stream",
     "text": [
      "Document: 624\n",
      "Topics: ['DUP: [1] Catalysis: Refers to the process of increasing the rate of a chemical reaction between two or more substances without changing the temperature or pressure.', 'DUP: [1] Material Science: Deals with the properties, composition, structure, and processing of various materials.', 'DUP: [1] Engineering: Application of scientific, economic, social, and practical knowledge to design, build, and maintain structures, machines, devices, systems, and processes.', 'DUP: [1] Chemical Engineering: A subdiscipline of engineering that deals with the production or modification of chemicals on a large scale.', 'DUP: [1] Manufacturing: The process of making products on a large scale using machinery.', 'DUP: [1] Energy: The capability or power of doing work.', 'DUP: [1] Industrial Processes: The large-scale application of chemical, physical, or biological processes to convert raw materials into finished products.', 'DUP: [1] Materials Engineering: A subdiscipline of engineering that deals with the design, development, and application of materials, especially those used in technology and engineering.', 'NEW: [1] Transition Metal Compounds: A class of chemical compounds containing transition metals.', 'NEW: [1] Solid Carriers: Inert materials used to support catalysts in industrial processes.', 'NEW: [1] Calcium Carbonate: A common mineral and chemical compound found in nature.', 'NEW: [1] Surface Chemistry: The study of chemical reactions that occur at the interface']\n",
      "--------------------\n"
     ]
    },
    {
     "name": "stderr",
     "output_type": "stream",
     "text": [
      " 62%|██████▎   | 625/1000 [29:22<20:15,  3.24s/it]"
     ]
    },
    {
     "name": "stdout",
     "output_type": "stream",
     "text": [
      "Document: 625\n",
      "Topics: ['DUP: [1] Solar Energy: Mentions the production of solar cells using a specific manufacturing method.', 'DUP: [1] Semiconductor Technology: Mentions the use of semiconductor layers in the manufacturing of solar cells.', 'DUP: [1] Thin Films: Mentions the formation of transparent conductive layers on semiconductor layers.', 'NEW: [1] Plasma Technology: Mentions the use of plasma treatment in the manufacturing process.']\n",
      "--------------------\n"
     ]
    },
    {
     "name": "stderr",
     "output_type": "stream",
     "text": [
      " 63%|██████▎   | 626/1000 [29:25<20:17,  3.25s/it]"
     ]
    },
    {
     "name": "stdout",
     "output_type": "stream",
     "text": [
      "Document: 626\n",
      "Topics: ['NEW: [1] Perovskites: Mentions perovskite materials and their properties.', 'NEW: [1] Powders: Mentions powders as a material form.', 'DUP: [1] Material Science: Mentions the study of materials and their properties.', 'DUP: [1] Electrochemistry: Mentions the study of chemical reactions involving electricity.', 'DUP: [1] Semiconductors: Mentions semiconductor materials and their properties.', 'DUP: [1] Electronics: Mentions the field of electronics and related technologies.', 'DUP: [1] Manufacturing: Mentions the process of producing goods.', 'DUP: [1] Engineering: Mentions the application of scientific, economic, social, and practical knowledge to design, build, and maintain structures, machines, devices, systems, and processes.']\n",
      "--------------------\n"
     ]
    },
    {
     "name": "stderr",
     "output_type": "stream",
     "text": [
      " 63%|██████▎   | 627/1000 [29:29<21:14,  3.42s/it]"
     ]
    },
    {
     "name": "stdout",
     "output_type": "stream",
     "text": [
      "Document: 627\n",
      "Topics: ['NEW: [1] Aerodynamics: Refers to the study of the interaction between moving air and solid objects, specifically in the context of the fairing assembly improving the aerodynamics of tractor-trailers.', 'DUP: [1] Automotive Technology: Encompasses the technology used in the design, construction, and operation of vehicles, including the fairing assembly and its components.', 'NEW: [1] Inflatable Systems: Covers the technology and applications of inflatable structures, such as the inflatable wall panels in the fairing assembly.', 'DUP: [1] Control Systems: Deals with the design, implementation, and operation of systems that regulate, direct, or optimize the behavior of other systems or processes, including the electronic controller in the fairing assembly.', 'DUP: [1] Manufacturing: Encompasses the processes, technologies, and methods used to produce goods, including the design, production, and assembly of the fairing assembly.']\n",
      "--------------------\n"
     ]
    },
    {
     "name": "stderr",
     "output_type": "stream",
     "text": [
      " 63%|██████▎   | 628/1000 [29:32<19:31,  3.15s/it]"
     ]
    },
    {
     "name": "stdout",
     "output_type": "stream",
     "text": [
      "Document: 628\n",
      "Topics: ['DUP: [1] Gas Technology: Mentions the use of gas in various applications, including the detection and measurement of gas components.', 'DUP: [1] Electrochemistry: Mentions the use of electrochemical reactions to analyze and manipulate gases.', 'DUP: [1] Control Systems: Mentions the use of controllers to selectively implement different control strategies.']\n",
      "--------------------\n"
     ]
    },
    {
     "name": "stderr",
     "output_type": "stream",
     "text": [
      " 63%|██████▎   | 629/1000 [29:35<20:07,  3.25s/it]"
     ]
    },
    {
     "name": "stdout",
     "output_type": "stream",
     "text": [
      "Document: 629\n",
      "Topics: ['DUP: [1] Wireless Communications: Mentions wireless communication technology and related components.', 'NEW: [1] Modulation Techniques: Mentions different methods used to modulate signals for wireless communication.', 'NEW: [1] Wireless Terminals: Mentions devices used for wireless communication.', 'DUP: [1] Processing Systems: Mentions systems used for processing data or signals.', 'DUP: [1] Radio Technology: Mentions technology related to radio waves and their use in communication.']\n",
      "--------------------\n"
     ]
    },
    {
     "name": "stderr",
     "output_type": "stream",
     "text": [
      " 63%|██████▎   | 630/1000 [29:39<20:09,  3.27s/it]"
     ]
    },
    {
     "name": "stdout",
     "output_type": "stream",
     "text": [
      "Document: 630\n",
      "Topics: ['DUP: [1] Data Collection: Monitoring and methods for gathering information in an industrial environment.', 'DUP: [1] Industrial Automation: Systems and technologies used to control and optimize industrial processes.', 'DUP: [1] Data Analysis: Processing and interpreting data to gain insights and make informed decisions.', 'DUP: [1] Communication Technology: Technologies used for transmitting and receiving information.', 'DUP: [1] Networking: Connecting multiple devices or systems to enable communication and data exchange.', 'DUP: [1] Sensing Technology: Devices used to detect and measure physical phenomena.', 'DUP: [1] Control Systems: Systems used to manage and regulate industrial processes.', 'NEW: [1] Performance Optimization: Techniques used to improve the efficiency and effectiveness of industrial processes.', 'DUP: [1] Industrial Processes: Manufacturing, production, and other industrial activities.']\n",
      "--------------------\n"
     ]
    },
    {
     "name": "stderr",
     "output_type": "stream",
     "text": [
      " 63%|██████▎   | 631/1000 [29:41<18:51,  3.07s/it]"
     ]
    },
    {
     "name": "stdout",
     "output_type": "stream",
     "text": [
      "Document: 631\n",
      "Topics: ['DUP: [1] Battery Technology: Mentions the study and development of batteries and their related technologies.', 'DUP: [1] Control Systems: Mentions systems that regulate, direct, or automate processes or machines.', 'DUP: [1] Electrical Systems: Mentions the study and application of electrical power, including generation, transmission, and utilization.', 'DUP: [1] Power Management: Mentions the optimization and efficient use of electrical power.']\n",
      "--------------------\n"
     ]
    },
    {
     "name": "stderr",
     "output_type": "stream",
     "text": [
      " 63%|██████▎   | 632/1000 [29:44<17:34,  2.87s/it]"
     ]
    },
    {
     "name": "stdout",
     "output_type": "stream",
     "text": [
      "Document: 632\n",
      "Topics: ['DUP: [1] Health and Wellbeing: Mentions monitoring for physical health concerns, including infection risks.', 'DUP: [1] Location Technology: Mentions use of location information from mobile devices.', 'NEW: [1] Software Applications: Mentions implementing software application.', 'DUP: [1] Machine Learning: Mentions learning user location and activity patterns.', 'DUP: [1] Communication Technology: Mentions warning to community members.']\n",
      "--------------------\n"
     ]
    },
    {
     "name": "stderr",
     "output_type": "stream",
     "text": [
      " 63%|██████▎   | 633/1000 [29:47<18:06,  2.96s/it]"
     ]
    },
    {
     "name": "stdout",
     "output_type": "stream",
     "text": [
      "Document: 633\n",
      "Topics: ['DUP: [1] Electrical Systems: Mentions the use of electrical components and systems.', 'DUP: [1] Power Management: Mentions the management and control of electrical power.', 'DUP: [1] Control Systems: Mentions the use of systems to control and regulate processes.', 'NEW: [1] Electronic Circuits: Mentions the use of electronic circuits.', 'NEW: [1] Digital Logic: Mentions the use of digital logic in electronic circuits.', 'DUP: [1] Memory Systems: Mentions the use of memory systems.', 'DUP: [1] Parallel Processing: Mentions the processing of multiple tasks at the same time.']\n",
      "--------------------\n"
     ]
    },
    {
     "name": "stderr",
     "output_type": "stream",
     "text": [
      " 63%|██████▎   | 634/1000 [29:50<18:27,  3.03s/it]"
     ]
    },
    {
     "name": "stdout",
     "output_type": "stream",
     "text": [
      "Document: 634\n",
      "Topics: ['DUP: [1] Lighting Technology: Mentions the use and application of lighting systems.', 'DUP: [1] Horticulture: Mentions the cultivation of plants.', 'DUP: [1] LED Technology: Mentions the use of light emitting diodes.', 'NEW: [1] Phosphor Technology: Mentions the use of phosphors to modify light properties.', 'NEW: [1] Cost Reduction: Mentions methods to reduce production costs.', 'NEW: [1] Plant Factories: Mentions facilities used for plant cultivation.', 'NEW: [1] Spectrum Management: Mentions managing light intensity by wavelength band.', 'NEW: [1] Eye Strain Reduction: Mentions reducing eye strain caused by lighting.', 'NEW: [1] Plant Growth Efficiency: Mentions enhancing plant growth efficiency.']\n",
      "--------------------\n"
     ]
    },
    {
     "name": "stderr",
     "output_type": "stream",
     "text": [
      " 64%|██████▎   | 635/1000 [29:53<18:40,  3.07s/it]"
     ]
    },
    {
     "name": "stdout",
     "output_type": "stream",
     "text": [
      "Document: 635\n",
      "Topics: ['NEW: [1] Wireless Sensors: Devices used to measure and transmit data without wires.', 'DUP: [1] Electrical Systems: Systems used to distribute or control the flow of electric energy.', 'DUP: [1] Processors: Devices used to process data.', 'NEW: [1] Transducers: Devices used to convert energy from one form to another.', 'DUP: [1] Wireless Communication: Technology used to transmit data wirelessly.', 'NEW: [1] Bodies: Physical structures or containers.', 'NEW: [1] Sockets: Connectors used to join two parts.', 'NEW: [1] Transceivers: Devices used to transmit and receive signals.', 'DUP: [1] Control Systems: Systems used to manage and direct the operation of other systems or processes.']\n",
      "--------------------\n"
     ]
    },
    {
     "name": "stderr",
     "output_type": "stream",
     "text": [
      " 64%|██████▎   | 636/1000 [29:56<17:52,  2.95s/it]"
     ]
    },
    {
     "name": "stdout",
     "output_type": "stream",
     "text": [
      "Document: 636\n",
      "Topics: ['DUP: [1] Semiconductor Materials: Mentions materials used in semiconductors.', 'DUP: [1] Thermal Management: Mentions methods for managing heat.', 'DUP: [1] Lighting Technology: Mentions technologies used for producing light.']\n",
      "--------------------\n"
     ]
    },
    {
     "name": "stderr",
     "output_type": "stream",
     "text": [
      " 64%|██████▎   | 637/1000 [29:59<18:59,  3.14s/it]"
     ]
    },
    {
     "name": "stdout",
     "output_type": "stream",
     "text": [
      "Document: 637\n",
      "Topics: ['DUP: [1] Electrochemistry: Mentions the study of chemical reactions that occur at an electrode-electrolyte interface.', 'DUP: [1] Material Science: Mentions the study of materials and their properties.', 'DUP: [1] Manufacturing: Mentions the production of goods or services.', 'DUP: [1] Membrane Technology: Mentions the use of membranes for separation processes.', 'NEW: [1] Deionization: Mentions the process of removing ions from a solution.', 'DUP: [1] Electrode Technology: Mentions the study and development of electrodes for various applications.', 'DUP: [1] Porous Materials: Mentions materials with a large surface area due to their fine pores.', 'NEW: [1] Ion Exchange: Mentions the exchange of ions between a solid and a liquid.', 'DUP: [1] Coating Technology: Mentions the application of a thin layer of material to a surface.', 'NEW: [1] Electrospraying: Mentions the process of generating fine droplets by applying a high voltage to a liquid.', 'NEW: [1] Solution Chemistry: Mentions the study of the properties and reactions of solutions.', 'DUP: [1] Chemical Engineering: Mentions the application of chemistry, biology, and physics to design and develop processes and systems.']\n",
      "--------------------\n"
     ]
    },
    {
     "name": "stderr",
     "output_type": "stream",
     "text": [
      " 64%|██████▍   | 638/1000 [30:02<17:39,  2.93s/it]"
     ]
    },
    {
     "name": "stdout",
     "output_type": "stream",
     "text": [
      "Document: 638\n",
      "Topics: ['DUP: [1] Electrical Systems: Mentions semiconductor circuits and voltage application.', 'DUP: [1] Electrical Engineering: Mentions electrical systems and components such as transistors and storage elements.']\n",
      "--------------------\n"
     ]
    },
    {
     "name": "stderr",
     "output_type": "stream",
     "text": [
      " 64%|██████▍   | 639/1000 [30:05<18:05,  3.01s/it]"
     ]
    },
    {
     "name": "stdout",
     "output_type": "stream",
     "text": [
      "Document: 639\n",
      "Topics: ['DUP: [1] Power Conversion: Mentions the process of changing electrical power from one form to another.', 'DUP: [1] Power Electronics: Mentions the study and application of electric circuits that control electric power.', 'NEW: [1] Multiphase Power: Mentions the use of multiple phases in an electrical power system.', 'NEW: [1] Synchronization Circuits: Mentions circuits used to coordinate the operation of multiple systems.', 'NEW: [1] Power Converters: Mentions devices used to convert electrical power from one form to another.', 'NEW: [1] Single Phase Power: Mentions electrical power that flows in one phase at a time.', 'NEW: [1] Converter Units: Mentions individual components of a power converter.', 'NEW: [1] Circuit Output Current: Mentions the current produced by an electrical circuit.', 'NEW: [1] Synchronization Signals: Mentions signals used to coordinate the operation of multiple systems.']\n",
      "--------------------\n"
     ]
    },
    {
     "name": "stderr",
     "output_type": "stream",
     "text": [
      " 64%|██████▍   | 640/1000 [30:08<17:47,  2.97s/it]"
     ]
    },
    {
     "name": "stdout",
     "output_type": "stream",
     "text": [
      "Document: 640\n",
      "Topics: ['DUP: [1] Energy: Mentions the utilization of energy, specifically in the context of waste heat from engine exhaust.', 'DUP: [1] Engineering: Mentions the design and implementation of a system for treating engine exhaust.', 'DUP: [1] Catalytic Converters: Mentions the use of a selective catalytic reduction catalytic converter for treating engine exhaust.', 'DUP: [1] Heat Exchangers: Mentions the use of a controllable heat exchanger for selectively exchanging heat between the catalytic converter and the latent heat storage structure.', 'DUP: [1] Internal Combustion Engines: Mentions the connection of the exhaust treatment system to an internal combustion engine.']\n",
      "--------------------\n"
     ]
    },
    {
     "name": "stderr",
     "output_type": "stream",
     "text": [
      " 64%|██████▍   | 641/1000 [30:10<16:38,  2.78s/it]"
     ]
    },
    {
     "name": "stdout",
     "output_type": "stream",
     "text": [
      "Document: 641\n",
      "Topics: ['DUP: [1] Data Management: Mentions the storage, processing, and transfer of data.', 'NEW: [1] Information Processing: Mentions the conversion and management of information.', 'DUP: [1] Computer Systems: Mentions the components and functions of computer systems.']\n",
      "--------------------\n"
     ]
    },
    {
     "name": "stderr",
     "output_type": "stream",
     "text": [
      " 64%|██████▍   | 642/1000 [30:13<16:55,  2.84s/it]"
     ]
    },
    {
     "name": "stdout",
     "output_type": "stream",
     "text": [
      "Document: 642\n",
      "Topics: ['DUP: [1] Telecommunications: Mentions base stations and user equipment, implying communication technology.', 'DUP: [1] Wireless Communications: Mentions power saving signals and physical downlink control channels, specifically related to wireless communication.', 'DUP: [1] Signal Processing: Mentions receiving and determining application delay, which is a signal processing concept.', 'DUP: [1] Power Management: Mentions power saving signals and minimum scheduling offset restriction, which is related to power management.']\n",
      "--------------------\n"
     ]
    },
    {
     "name": "stderr",
     "output_type": "stream",
     "text": [
      " 64%|██████▍   | 643/1000 [30:18<20:35,  3.46s/it]"
     ]
    },
    {
     "name": "stdout",
     "output_type": "stream",
     "text": [
      "Document: 643\n",
      "Topics: ['NEW: [1] Heat Management: Systems, methods, and articles related to managing and controlling heat, including heat-shielding or blocking, heat-dissipating, and heat signature-reducing materials and coatings.', 'NEW: [1] Coatings: Material layers applied to surfaces for various purposes, including heat management, protection from damage or environmental factors, and modification of surface properties.', 'DUP: [1] Batteries: Devices that store and release electrical energy, often used in portable or transport applications.', 'DUP: [1] Material Science: Study of the properties and behavior of various materials, including their response to heat and other environmental factors.', 'NEW: [1] Corrosion Protection: Techniques and materials used to prevent or reduce the effects of corrosion on materials and structures, including batteries and their housing.', 'NEW: [1] Tarnish Protection: Techniques and materials used to prevent or reduce the formation of tarnish on metals and other materials, which can affect their appearance and performance.']\n",
      "--------------------\n"
     ]
    },
    {
     "name": "stderr",
     "output_type": "stream",
     "text": [
      " 64%|██████▍   | 644/1000 [30:21<19:07,  3.22s/it]"
     ]
    },
    {
     "name": "stdout",
     "output_type": "stream",
     "text": [
      "Document: 644\n",
      "Topics: ['DUP: [1] Coating Technology: Mentions the application of coatings and treatments to surfaces.', 'DUP: [1] Material Science: Mentions the properties and behavior of materials.', 'DUP: [1] Composite Materials: Mentions materials made up of two or more distinct components.', 'DUP: [1] Chemical Processing: Mentions the transformation of chemicals into new forms or products.']\n",
      "--------------------\n"
     ]
    },
    {
     "name": "stderr",
     "output_type": "stream",
     "text": [
      " 64%|██████▍   | 645/1000 [30:23<18:04,  3.05s/it]"
     ]
    },
    {
     "name": "stdout",
     "output_type": "stream",
     "text": [
      "Document: 645\n",
      "Topics: ['DUP: [1] Energy Storage: Mentions energy storage devices and their regulation.', 'DUP: [1] Inductors: Mentions inductors as a component of the circuit and their use in current monitoring and control.', 'NEW: [1] Decentralized Control Systems: Mentions decentralized controller strategy for regulating the state of charge of cells within a larger system.', 'DUP: [1] Electrical Systems: Mentions electrical components and their control.']\n",
      "--------------------\n"
     ]
    },
    {
     "name": "stderr",
     "output_type": "stream",
     "text": [
      " 65%|██████▍   | 646/1000 [30:26<17:51,  3.03s/it]"
     ]
    },
    {
     "name": "stdout",
     "output_type": "stream",
     "text": [
      "Document: 646\n",
      "Topics: ['DUP: [1] Material Processing: Mentions methods for processing materials, specifically silicon in this case.', 'DUP: [1] Ceramics: Mentions porous crucible mold, which is a type of ceramic material.', 'NEW: [1] Crucibles: Mentions the use of a crucible assembly for holding a melt of silicon.', 'DUP: [1] Sintering: Mentions the process of sintering the green body to form the crucible assembly.']\n",
      "--------------------\n"
     ]
    },
    {
     "name": "stderr",
     "output_type": "stream",
     "text": [
      " 65%|██████▍   | 647/1000 [30:29<17:32,  2.98s/it]"
     ]
    },
    {
     "name": "stdout",
     "output_type": "stream",
     "text": [
      "Document: 647\n",
      "Topics: ['DUP: [1] Power Management: Mentions the management and regulation of electrical power.', 'NEW: [1] DC Power Supplies: Mentions the design and operation of power supplies that provide direct current.', 'NEW: [1] Stabilization Systems: Mentions systems used to maintain a stable power supply.', 'NEW: [1] PWM Converters: Mentions power converters that use pulse width modulation to control the output voltage.', 'NEW: [1] Boost Converters: Mentions power converters that increase the voltage of an input power source.', 'DUP: [1] Batteries: Mentions rechargeable electrical energy storage devices.', 'DUP: [1] Generators: Mentions devices that convert mechanical energy into electrical energy.']\n",
      "--------------------\n"
     ]
    },
    {
     "name": "stderr",
     "output_type": "stream",
     "text": [
      " 65%|██████▍   | 648/1000 [30:32<17:27,  2.98s/it]"
     ]
    },
    {
     "name": "stdout",
     "output_type": "stream",
     "text": [
      "Document: 648\n",
      "Topics: ['DUP: [1] Energy: Mentions the production, transmission, and consumption of energy.', 'DUP: [1] Electrical Systems: Mentions electrical components and their connections.', 'DUP: [1] Power Management: Mentions the management and distribution of electrical power.']\n",
      "--------------------\n"
     ]
    },
    {
     "name": "stderr",
     "output_type": "stream",
     "text": [
      " 65%|██████▍   | 649/1000 [30:36<18:18,  3.13s/it]"
     ]
    },
    {
     "name": "stdout",
     "output_type": "stream",
     "text": [
      "Document: 649\n",
      "Topics: ['DUP: [1] Wind Energy: Mentions the use of wind as a source of energy and technologies related to wind turbines.', 'DUP: [1] Control Systems: Mentions systems used to regulate and direct the operation of other systems or processes.', 'DUP: [1] Engineering Design: Mentions the process of creating new products or systems using scientific, economic, social, and practical knowledge.', 'DUP: [1] Mechanical Engineering: Mentions the application of physical principles to design, build, and maintain mechanical systems.', 'DUP: [1] Electrical Systems: Mentions the study and application of electrical circuits, systems, and equipment.', 'DUP: [1] Horticulture: While not directly mentioned in the document, this topic could be added as a potential future subtopic related to the use of wind energy in greenhouses or other agricultural applications.']\n",
      "--------------------\n"
     ]
    },
    {
     "name": "stderr",
     "output_type": "stream",
     "text": [
      " 65%|██████▌   | 650/1000 [30:38<17:15,  2.96s/it]"
     ]
    },
    {
     "name": "stdout",
     "output_type": "stream",
     "text": [
      "Document: 650\n",
      "Topics: ['NEW: [1] Organic Electroluminescent Devices: Mentions devices that convert electrical energy into light using organic materials.', 'NEW: [1] Organic Electron Devices: Mentions devices that use organic materials for electronic functions.']\n",
      "--------------------\n"
     ]
    },
    {
     "name": "stderr",
     "output_type": "stream",
     "text": [
      " 65%|██████▌   | 651/1000 [30:41<16:30,  2.84s/it]"
     ]
    },
    {
     "name": "stdout",
     "output_type": "stream",
     "text": [
      "Document: 651\n",
      "Topics: ['DUP: [1] Battery Technology: Mentions the development and application of batteries, including their components and charging methods.', 'DUP: [1] Electrochemistry: Mentions the study of chemical reactions at an electrode-electrolyte interface.']\n",
      "--------------------\n"
     ]
    },
    {
     "name": "stderr",
     "output_type": "stream",
     "text": [
      " 65%|██████▌   | 652/1000 [30:43<16:09,  2.79s/it]"
     ]
    },
    {
     "name": "stdout",
     "output_type": "stream",
     "text": [
      "Document: 652\n",
      "Topics: ['DUP: [1] Induction Technology: Mentions the use of magnetic fields to transfer energy between two objects.', 'DUP: [1] Electrical Systems: Mentions the use of electrical components and systems.', 'DUP: [1] Heating Systems: Mentions systems used to generate heat.']\n",
      "--------------------\n"
     ]
    },
    {
     "name": "stderr",
     "output_type": "stream",
     "text": [
      " 65%|██████▌   | 653/1000 [30:45<14:39,  2.53s/it]"
     ]
    },
    {
     "name": "stdout",
     "output_type": "stream",
     "text": [
      "Document: 653\n",
      "Topics: ['DUP: [1] Wireless Communications: Mentions low power wireless networks and bootstrapping between endpoint client and server.']\n",
      "--------------------\n"
     ]
    },
    {
     "name": "stderr",
     "output_type": "stream",
     "text": [
      " 65%|██████▌   | 654/1000 [30:48<13:56,  2.42s/it]"
     ]
    },
    {
     "name": "stdout",
     "output_type": "stream",
     "text": [
      "Document: 654\n",
      "Topics: ['DUP: [1] Battery Technology: Mentions the use of secondary battery cell pouches and their inspection device. This topic is broad enough to accommodate various types of batteries and related technologies.']\n",
      "--------------------\n"
     ]
    },
    {
     "name": "stderr",
     "output_type": "stream",
     "text": [
      " 66%|██████▌   | 655/1000 [30:51<15:05,  2.62s/it]"
     ]
    },
    {
     "name": "stdout",
     "output_type": "stream",
     "text": [
      "Document: 655\n",
      "Topics: ['DUP: [1] Additive Manufacturing: Refers to the process of creating three-dimensional objects by adding material layer by layer.', 'NEW: [1] Laser Systems: Relates to the use of lasers for various applications, including additive manufacturing.', 'NEW: [1] Polarization: Deals with the property of light waves where the oscillations have a preferred direction.', 'DUP: [1] Optics: Involves the study and application of light and optical systems.', 'DUP: [1] Material Processing: Encompasses various methods and technologies used to process and manipulate materials.', 'NEW: [1] Recycling Systems: Deals with systems used to recover and reuse materials or resources.']\n",
      "--------------------\n"
     ]
    },
    {
     "name": "stderr",
     "output_type": "stream",
     "text": [
      " 66%|██████▌   | 656/1000 [30:54<16:07,  2.81s/it]"
     ]
    },
    {
     "name": "stdout",
     "output_type": "stream",
     "text": [
      "Document: 656\n",
      "Topics: ['DUP: [1] Manufacturing: Mentions the process of creating a product, including forming and improving the rigidity of a part.', 'DUP: [1] Engineering Design: Mentions the process of creating a design for a product, including the use of analytic models and optimization analysis.', 'DUP: [1] Material Science: Mentions the properties and behavior of materials, including rigidity and springback.', 'DUP: [1] Optimization: Mentions the process of finding the best solution from multiple options, including the optimization analysis for shape.']\n",
      "--------------------\n"
     ]
    },
    {
     "name": "stderr",
     "output_type": "stream",
     "text": [
      " 66%|██████▌   | 657/1000 [30:57<16:21,  2.86s/it]"
     ]
    },
    {
     "name": "stdout",
     "output_type": "stream",
     "text": [
      "Document: 657\n",
      "Topics: ['DUP: [1] Aviation Technology: Mentions the design and operation of aircraft, including engines, rotating frames, and actuation systems.', 'NEW: [1] Electromechanical Systems: Mentions the use of electro-mechanical actuators (EMAs) and their control systems.', 'NEW: [1] Electric Motors and Generators: Mentions the operation of electric motors and generators in the context of EMAs.', 'NEW: [1] Gear Trains: Mentions the use of gear trains to convert linear displacements into rotational motion.', 'DUP: [1] Control Systems: Mentions the use of controllers to operate the rotary inductive devices in different modes.']\n",
      "--------------------\n"
     ]
    },
    {
     "name": "stderr",
     "output_type": "stream",
     "text": [
      " 66%|██████▌   | 658/1000 [30:59<15:45,  2.77s/it]"
     ]
    },
    {
     "name": "stdout",
     "output_type": "stream",
     "text": [
      "Document: 658\n",
      "Topics: ['DUP: [1] Communication Technology: Covers methods and systems for transmitting information between components or devices.', 'DUP: [1] Control Systems: Systems used to regulate and direct the operation of other systems or processes.', 'DUP: [1] Industrial Automation: Automation of industrial processes, including the use of control systems and communication technologies.', 'NEW: [1] Liquid Dispensing Systems: Systems used for dispensing liquids, including the communication and control aspects.']\n",
      "--------------------\n"
     ]
    },
    {
     "name": "stderr",
     "output_type": "stream",
     "text": [
      " 66%|██████▌   | 659/1000 [31:02<15:08,  2.66s/it]"
     ]
    },
    {
     "name": "stdout",
     "output_type": "stream",
     "text": [
      "Document: 659\n",
      "Topics: ['DUP: [1] Battery Technology: Mentions components and systems related to batteries.', 'DUP: [1] Control Systems: Mentions the use of control modules and control signals.', 'DUP: [1] Electrical Systems: Mentions switches, inverters, and electrical components.', 'DUP: [1] Engineering Design: Mentions the design of a battery pack heating system.', 'DUP: [1] Power Management: Mentions the management of power in the battery pack heating system.', 'DUP: [1] Vehicle Technology: Mentions the use of a vehicle control unit and a motor in the battery pack heating system.']\n",
      "--------------------\n"
     ]
    },
    {
     "name": "stderr",
     "output_type": "stream",
     "text": [
      " 66%|██████▌   | 660/1000 [31:05<15:30,  2.74s/it]"
     ]
    },
    {
     "name": "stdout",
     "output_type": "stream",
     "text": [
      "Document: 660\n",
      "Topics: ['DUP: [1] Electrical Systems: Mentions the use and interconnection of electrical components such as batteries, fuel cells, capacitors, and resistors.', 'DUP: [1] Engineering Design: Mentions the design of a module for interconnecting electrical components.', 'NEW: [1] Fluid Technology: Mentions the use of fluids to dampen forces applied to electrical components and mitigate oxidation of electrical connections.', 'DUP: [1] Material Science: Mentions the selection of fluids to neutralize chemicals that may leak from electrical components.', 'DUP: [1] Sealing Technology: Mentions the use of gaskets to seal fluid reservoirs.', 'NEW: [1] Terminal Technology: Mentions terminal bulkheads capable of coupling with the body and electrical contacts.']\n",
      "--------------------\n"
     ]
    },
    {
     "name": "stderr",
     "output_type": "stream",
     "text": [
      " 66%|██████▌   | 661/1000 [31:08<15:30,  2.75s/it]"
     ]
    },
    {
     "name": "stdout",
     "output_type": "stream",
     "text": [
      "Document: 661\n",
      "Topics: ['DUP: [1] Sensing Technology: Mentions the use of devices to detect or measure physical properties and convert them into electrical signals.', 'DUP: [1] Temperature Control: Mentions systems used to maintain desired temperatures.', 'DUP: [1] Measurement Systems: Mentions devices used to measure various quantities.', 'DUP: [1] Exhaust Gas Systems: Mentions systems used to manage exhaust gases.', 'DUP: [1] Control Systems: Mentions systems used to regulate and direct the operation of other systems or processes.']\n",
      "--------------------\n"
     ]
    },
    {
     "name": "stderr",
     "output_type": "stream",
     "text": [
      " 66%|██████▌   | 662/1000 [31:10<15:09,  2.69s/it]"
     ]
    },
    {
     "name": "stdout",
     "output_type": "stream",
     "text": [
      "Document: 662\n",
      "Topics: ['DUP: [1] Vehicle Technology: Mentions vehicle components and systems.', 'DUP: [1] Structural Design: Mentions design of structures and their components.', 'NEW: [1] Corrugated Materials: Mentions materials with corrugations or ridges and grooves.']\n",
      "--------------------\n"
     ]
    },
    {
     "name": "stderr",
     "output_type": "stream",
     "text": [
      " 66%|██████▋   | 663/1000 [31:13<16:06,  2.87s/it]"
     ]
    },
    {
     "name": "stdout",
     "output_type": "stream",
     "text": [
      "Document: 663\n",
      "Topics: ['DUP: [1] Wireless Communications: Mentions wireless communication technology and its related processes.', 'DUP: [1] Telecommunications: Mentions the exchange of information over long distances.', 'NEW: [1] DRX Cycle: Refers to a power saving mechanism used in wireless communication systems.', 'NEW: [1] Data Transmission Scheduling: Refers to the organization and coordination of data transmission in a communication system.', 'NEW: [1] Timer Technology: Mentions the use of timers in communication systems.', 'NEW: [1] Processing Time: Refers to the time required to process data or information.', 'DUP: [1] Communication Technology: Umbrella term for all forms of technology used to facilitate communication.']\n",
      "--------------------\n"
     ]
    },
    {
     "name": "stderr",
     "output_type": "stream",
     "text": [
      " 66%|██████▋   | 664/1000 [31:16<15:31,  2.77s/it]"
     ]
    },
    {
     "name": "stdout",
     "output_type": "stream",
     "text": [
      "Document: 664\n",
      "Topics: ['DUP: [1] Material Processing: Mentions the preparation of metal oxide gel particles using a low-temperature aqueous metal nitrate solution and high-temperature nonaqueous drive fluid.', 'DUP: [1] Sensor Technology: Mentions the use of a sensor device to measure transmission of light through the drive fluid as a metal oxide gel particle passes the optical sensor.', 'DUP: [1] Control Systems: Mentions adjusting a ratio of the first flow rate to a total flow rate to correct a particle size.']\n",
      "--------------------\n"
     ]
    },
    {
     "name": "stderr",
     "output_type": "stream",
     "text": [
      " 66%|██████▋   | 665/1000 [31:19<15:48,  2.83s/it]"
     ]
    },
    {
     "name": "stdout",
     "output_type": "stream",
     "text": [
      "Document: 665\n",
      "Topics: ['DUP: [1] Building Automation Systems: Systems that automate the control of various building functions and systems.', 'DUP: [1] Smart Grids: Electric power systems that can intelligently manage the transmission and distribution of electricity.', 'DUP: [1] Control Systems: Systems used to manage, direct, or regulate the behavior of other systems or processes.', 'DUP: [1] Fault Detection: The identification of faults or errors in a system or process.', 'NEW: [1] Demand Response: The ability of consumers to adjust their electricity usage in response to changes in the price or availability of electricity.']\n",
      "--------------------\n"
     ]
    },
    {
     "name": "stderr",
     "output_type": "stream",
     "text": [
      " 67%|██████▋   | 666/1000 [31:21<15:08,  2.72s/it]"
     ]
    },
    {
     "name": "stdout",
     "output_type": "stream",
     "text": [
      "Document: 666\n",
      "Topics: ['DUP: [1] Battery Technology: Mentions the invention of a method for controlling the charging voltage of a 12V auxiliary battery for a hybrid vehicle, which improves charging efficiency and allows for continuous power supply.', 'DUP: [1] Hybrid Vehicles: Mentions the use of a hybrid vehicle in the context of the invention.', 'DUP: [1] Power Management: Mentions the management of power in the context of the invention.', 'DUP: [1] Electrical Systems: Mentions the electrical systems of a hybrid vehicle.']\n",
      "--------------------\n"
     ]
    },
    {
     "name": "stderr",
     "output_type": "stream",
     "text": [
      " 67%|██████▋   | 667/1000 [31:25<16:11,  2.92s/it]"
     ]
    },
    {
     "name": "stdout",
     "output_type": "stream",
     "text": [
      "Document: 667\n",
      "Topics: ['DUP: [1] Data Processing: Processing and analyzing raw data for various applications.', 'DUP: [1] Process Control: Monitoring and controlling industrial processes to maintain desired performance.', 'NEW: [1] Counters: Devices used to count events or measurements.', 'NEW: [1] Historian Devices: Systems used to store and manage time-series data from industrial processes.', 'NEW: [1] Rollover Values: Values used to reset counters or other measuring devices.', 'NEW: [1] Deadband Values: Values used to filter out noise or insignificant events in data.', 'NEW: [1] Querying: Requesting data or information from a database or other data source.', 'DUP: [1] Industrial Automation: Automation of industrial processes using control systems and computers.']\n",
      "--------------------\n"
     ]
    },
    {
     "name": "stderr",
     "output_type": "stream",
     "text": [
      " 67%|██████▋   | 668/1000 [31:28<16:03,  2.90s/it]"
     ]
    },
    {
     "name": "stdout",
     "output_type": "stream",
     "text": [
      "Document: 668\n",
      "Topics: ['DUP: [1] Energy: Mentions the use and management of energy.', 'NEW: [1] Network Devices: Mentions devices used for network communication.', 'NEW: [1] Firewalls: Mentions security systems used to control network traffic.', 'DUP: [1] User Interfaces: Mentions interfaces for interacting with technology.', 'DUP: [1] Power Management: Mentions managing power usage.', 'DUP: [1] Traffic Management: Mentions managing network traffic.', 'NEW: [1] Rules: Mentions guidelines or conditions for making decisions.']\n",
      "--------------------\n"
     ]
    },
    {
     "name": "stderr",
     "output_type": "stream",
     "text": [
      " 67%|██████▋   | 669/1000 [31:31<16:00,  2.90s/it]"
     ]
    },
    {
     "name": "stdout",
     "output_type": "stream",
     "text": [
      "Document: 669\n",
      "Topics: ['NEW: [1] Auxiliary Power Units: Systems used to provide power to an aircraft during ground operations and in flight when the main engines are not running.', 'NEW: [1] Aircraft Engines: Devices used to propel an aircraft through the air.', 'DUP: [1] Internal Combustion Engines: Engines that generate power by burning fuel in a confined space.', 'DUP: [1] Turbines: Devices that convert rotational energy into mechanical energy by using a gas flow.', 'DUP: [1] Compressors: Machines used to increase the pressure or volume of a gas.', 'DUP: [1] Electric Motors: Devices that convert electrical energy into mechanical energy.', 'DUP: [1] Generators: Devices that convert mechanical energy into electrical energy.', 'NEW: [1] Power Transfer Systems: Systems used to transfer power from one place to another.']\n",
      "--------------------\n"
     ]
    },
    {
     "name": "stderr",
     "output_type": "stream",
     "text": [
      " 67%|██████▋   | 670/1000 [31:34<17:12,  3.13s/it]"
     ]
    },
    {
     "name": "stdout",
     "output_type": "stream",
     "text": [
      "Document: 670\n",
      "Topics: ['NEW: [1] Power Supply Control: Mentions methods for controlling the flow of electrical power in a system.', 'DUP: [1] Capacitors: Mentions electrical components that store and release electrical energy.', 'DUP: [1] Electrical Circuits: Mentions the flow of electrical current and the components used to control that flow.', 'NEW: [1] Precharging: Mentions the process of charging a component before use to ensure proper function.', 'NEW: [1] Power Relay Assemblies: Mentions electrical components used to control the flow of power between circuits.', 'NEW: [1] Resistors: Mentions electrical components that resist the flow of electrical current.', 'DUP: [1] Batteries: Mentions devices that store electrical energy and provide it to a circuit when needed.', 'NEW: [1] Voltage Measurement: Mentions the process of measuring the electrical potential difference between two points.', 'NEW: [1] Capacitance Measurement: Mentions the process of measuring the ability of a capacitor to store electrical charge.']\n",
      "--------------------\n"
     ]
    },
    {
     "name": "stderr",
     "output_type": "stream",
     "text": [
      " 67%|██████▋   | 671/1000 [31:37<16:43,  3.05s/it]"
     ]
    },
    {
     "name": "stdout",
     "output_type": "stream",
     "text": [
      "Document: 671\n",
      "Topics: ['DUP: [1] Vehicle Technology: Mentions vehicles and their related technologies.', 'DUP: [1] Communication Technology: Mentions the transmission of information between vehicles.', 'DUP: [1] Wireless Communications: Mentions the use of wireless technology for vehicle-to-vehicle communication.', 'DUP: [1] Sensor Technology: Mentions the detection of vehicle status events.', 'NEW: [1] Event Detection: Mentions the identification of specific events.', 'NEW: [1] Priority Control: Mentions the determination of event priority.', 'NEW: [1] Message Transmission: Mentions the transmission of vehicle status event messages.']\n",
      "--------------------\n"
     ]
    },
    {
     "name": "stderr",
     "output_type": "stream",
     "text": [
      " 67%|██████▋   | 672/1000 [31:40<15:52,  2.90s/it]"
     ]
    },
    {
     "name": "stdout",
     "output_type": "stream",
     "text": [
      "Document: 672\n",
      "Topics: ['NEW: [1] Cement: Material used in construction that sets and hardens, consisting of a binding agent (calcium silicates) and a fine aggregate (silica sand). The cement is made by heating limestone, clay, and other materials to high temperatures, resulting in a mixture of calcium silicates and other compounds. The addition of water and a chemical activator causes the cement to set and harden, allowing it to be used as a structural material.']\n",
      "--------------------\n"
     ]
    },
    {
     "name": "stderr",
     "output_type": "stream",
     "text": [
      " 67%|██████▋   | 673/1000 [31:43<16:46,  3.08s/it]"
     ]
    },
    {
     "name": "stdout",
     "output_type": "stream",
     "text": [
      "Document: 673\n",
      "Topics: ['DUP: [1] Fuel Systems: Mentions the transportation and delivery of fuel to an engine or other end-use.', 'DUP: [1] Gas Technology: Mentions the production, processing, and utilization of gases.', 'DUP: [1] Engineering Design: Mentions the process of creating a design for a product, system, or structure.', 'DUP: [1] Performance Control: Mentions the regulation of a system to maintain desired levels of performance.', 'DUP: [1] Limit Control: Mentions the regulation of a system to prevent it from exceeding certain limits.', 'DUP: [1] Industrial Automation: Mentions the use of automated systems in industrial processes.', 'DUP: [1] Sensor Technology: Mentions the use of sensors to detect and measure various physical or environmental conditions.', 'NEW: [1] Diagnostics: Mentions the identification and resolution of problems in a system or device.']\n",
      "--------------------\n"
     ]
    },
    {
     "name": "stderr",
     "output_type": "stream",
     "text": [
      " 67%|██████▋   | 674/1000 [31:46<16:12,  2.98s/it]"
     ]
    },
    {
     "name": "stdout",
     "output_type": "stream",
     "text": [
      "Document: 674\n",
      "Topics: ['DUP: [1] Power Converters: Mentions the conversion of electrical power from one form to another.', 'DUP: [1] Transformers: Mentions the electrical device used to change the voltage of an alternating current.', 'NEW: [1] Weatherproof Enclosures: Mentions protective structures for electrical equipment against weather conditions.', 'NEW: [1] Charging Stations: Mentions facilities for recharging electrically driven vehicles.']\n",
      "--------------------\n"
     ]
    },
    {
     "name": "stderr",
     "output_type": "stream",
     "text": [
      " 68%|██████▊   | 675/1000 [31:49<16:32,  3.05s/it]"
     ]
    },
    {
     "name": "stdout",
     "output_type": "stream",
     "text": [
      "Document: 675\n",
      "Topics: ['DUP: [1] Catalysis: Mentions the use of catalysts and their preparation methods.', 'NEW: [1] Cerium Oxide: Mentions a specific type of oxide used as a catalyst.', 'NEW: [1] Supported Catalysts: Mentions catalysts that are supported by other materials.', 'DUP: [1] Silica: Mentions a specific type of support material for catalysts.', 'DUP: [1] Alumina: Mentions a specific type of support material for catalysts.', 'NEW: [1] Titanium: Mentions a specific type of support material for catalysts.', 'NEW: [1] Zirconium: Mentions a specific type of support material for catalysts.', 'DUP: [1] Calcination: Mentions a process used to prepare catalysts.', 'NEW: [1] Reducibility: Mentions a property of catalysts related to their ability to be reduced.']\n",
      "--------------------\n"
     ]
    },
    {
     "name": "stderr",
     "output_type": "stream",
     "text": [
      " 68%|██████▊   | 676/1000 [31:53<18:06,  3.35s/it]"
     ]
    },
    {
     "name": "stdout",
     "output_type": "stream",
     "text": [
      "Document: 676\n",
      "Topics: ['DUP: [1] User Equipment: Mentions devices used to communicate in a wireless network.', 'NEW: [1] Radio Resource Management: Refers to the allocation and management of radio resources in a wireless communication system.', 'NEW: [1] Discontinuous Reception: Describes a power saving technique used in wireless communication systems where the UE does not continuously receive signals.', 'NEW: [1] Signal Quality Measurement: Refers to the process of evaluating the quality of a received signal.', 'NEW: [1] Neighboring Cells: Describes cells in the vicinity of a UE that can provide service.', \"NEW: [1] Synchronization Signal Block: Refers to a part of a cell's downlink signal that contains synchronization information for UEs.\", 'NEW: [1] Paging Indication: Describes a signal used to inform a UE that it is being called to receive data.', 'NEW: [1] Secondary Synchronization Signal: Refers to a signal in the SSB that helps UEs synchronize with the network.']\n",
      "--------------------\n"
     ]
    },
    {
     "name": "stderr",
     "output_type": "stream",
     "text": [
      " 68%|██████▊   | 677/1000 [31:56<17:58,  3.34s/it]"
     ]
    },
    {
     "name": "stdout",
     "output_type": "stream",
     "text": [
      "Document: 677\n",
      "Topics: ['DUP: [1] Manufacturing: Mentions the process of creating products using machinery, tools, or technology.', 'DUP: [1] Engineering Design: Mentions the process of creating designs for machines, structures, or systems.', 'DUP: [1] Mechanical Engineering: Mentions the application of principles of physics and mathematics to design, build, and maintain mechanical systems.', 'DUP: [1] Computer Systems: Mentions the use of computers to process information.', 'DUP: [1] Automation: Mentions the use of technology to automate processes.', 'NEW: [1] CNC Machining: Mentions the use of computer numeric control (CNC) machines to fabricate objects.', 'NEW: [1] Tool Path Planning: Mentions the process of generating a sequence of instructions for a CNC machine to follow to manufacture a part.', 'NEW: [1] Machining Processes: Mentions various methods for removing material from a workpiece to create a desired shape.']\n",
      "--------------------\n"
     ]
    },
    {
     "name": "stderr",
     "output_type": "stream",
     "text": [
      " 68%|██████▊   | 678/1000 [31:59<17:16,  3.22s/it]"
     ]
    },
    {
     "name": "stdout",
     "output_type": "stream",
     "text": [
      "Document: 678\n",
      "Topics: ['DUP: [1] Control Systems: Mentions systems used to regulate and direct the operation or behavior of other systems or processes.', 'DUP: [1] Vehicle Technology: Mentions technology related to vehicles, including automobiles, aircraft, and watercraft.', 'DUP: [1] Engineering Controls: Mentions devices or systems used to control or regulate engineering processes or systems.', 'DUP: [1] Performance Control: Mentions systems used to control or regulate the performance of a system or process.', 'DUP: [1] Limit Control: Mentions systems used to control or regulate the limits of a system or process.', 'DUP: [1] Industrial Automation: Mentions the use of control systems and other automation technologies in industrial processes.']\n",
      "--------------------\n"
     ]
    },
    {
     "name": "stderr",
     "output_type": "stream",
     "text": [
      " 68%|██████▊   | 679/1000 [32:02<15:57,  2.98s/it]"
     ]
    },
    {
     "name": "stdout",
     "output_type": "stream",
     "text": [
      "Document: 679\n",
      "Topics: ['DUP: [1] Catalyst Technology: Mentions the preparation and modification of catalysts using molecular sieves and transition/rare-earth metals.']\n",
      "--------------------\n"
     ]
    },
    {
     "name": "stderr",
     "output_type": "stream",
     "text": [
      " 68%|██████▊   | 680/1000 [32:04<15:16,  2.86s/it]"
     ]
    },
    {
     "name": "stdout",
     "output_type": "stream",
     "text": [
      "Document: 680\n",
      "Topics: ['DUP: [1] Refrigeration Technology: Mentions the technology used for cooling and preserving food or other perishable items.', 'NEW: [1] Kitchen Design: Mentions the planning and layout of a kitchen space.', 'NEW: [1] Transportation Systems: Mentions systems used for transporting people or goods from one place to another.']\n",
      "--------------------\n"
     ]
    },
    {
     "name": "stderr",
     "output_type": "stream",
     "text": [
      " 68%|██████▊   | 681/1000 [32:08<16:42,  3.14s/it]"
     ]
    },
    {
     "name": "stdout",
     "output_type": "stream",
     "text": [
      "Document: 681\n",
      "Topics: ['DUP: [1] Material Processing: This topic covers the various methods and techniques used to modify the properties of materials, including etching, deposition, and surface treatment.', 'NEW: [1] Titanium Technology: This topic covers the science and engineering of titanium and its alloys, including their properties, applications, and processing techniques.', 'DUP: [1] Gas Technology: This topic covers the science and engineering of gases, including their production, storage, transportation, and utilization in various industrial processes.', 'NEW: [1] Halogen Technology: This topic covers the science and engineering of halogens and their compounds, including their properties, applications, and uses in various industrial processes.', 'DUP: [1] Semiconductor Technology: This topic covers the science and engineering of semiconductors and their devices, including their properties, fabrication, and applications in electronics and other fields.', 'DUP: [1] Coating Technology: This topic covers the science and engineering of coatings, including their composition, application methods, and properties, as well as the equipment and processes used to apply them.', 'DUP: [1] Surface Science: This topic covers the study of surfaces and interfaces, including their properties, behavior, and applications in various fields, such as materials science, chemistry, and physics.', 'DUP: [1] Nanotechnology: This topic covers the science and engineering of nanomaterials and nanodevices,']\n",
      "--------------------\n"
     ]
    },
    {
     "name": "stderr",
     "output_type": "stream",
     "text": [
      " 68%|██████▊   | 682/1000 [32:11<16:02,  3.03s/it]"
     ]
    },
    {
     "name": "stdout",
     "output_type": "stream",
     "text": [
      "Document: 682\n",
      "Topics: ['DUP: [1] Engineering Design: Design of in-wheel motor for vehicles with cooling system and cooling jacket.', 'DUP: [1] Automotive Technology: Development of in-wheel motor technology for vehicles with cooling system and cooling jacket.', 'DUP: [1] Mechanical Engineering: Design and manufacturing of in-wheel motor with cooling system and cooling jacket.', 'DUP: [1] Cooling Systems: Design and implementation of cooling systems for in-wheel motors in vehicles.', 'DUP: [1] Manufacturing: Production of in-wheel motors with cooling system and cooling jacket.', 'DUP: [1] Electrical Systems: Integration of cooling system and cooling jacket in electrical in-wheel motor systems.', 'DUP: [1] Technology: Development and application of in-wheel motor technology with cooling system and cooling jacket.']\n",
      "--------------------\n"
     ]
    },
    {
     "name": "stderr",
     "output_type": "stream",
     "text": [
      " 68%|██████▊   | 683/1000 [32:14<16:09,  3.06s/it]"
     ]
    },
    {
     "name": "stdout",
     "output_type": "stream",
     "text": [
      "Document: 683\n",
      "Topics: ['DUP: [1] Power Management: Mentions the management and control of electrical power.', 'DUP: [1] Wind Energy: Mentions the generation of electrical power from wind.', 'DUP: [1] Transformers: Mentions the use of electrical transformers.', 'DUP: [1] Energy Storage: Mentions the use of energy storage devices.', 'NEW: [1] Electrical Grids: Mentions the connection and integration of electrical power systems to a larger power grid.', 'DUP: [1] Inverters: Mentions the use of electrical inverters.', 'NEW: [1] Power Transformers: Mentions the use of electrical power transformers.', 'DUP: [1] Renewable Energy: Mentions the generation of electrical power from renewable sources.', 'DUP: [1] Electrical Systems: Mentions the design, implementation, and operation of electrical systems.', 'NEW: [1] Grid Connection: Mentions the connection of electrical power systems to a larger power grid.', 'DUP: [1] Control Systems: Mentions the use of control systems for managing and regulating electrical power systems.']\n",
      "--------------------\n"
     ]
    },
    {
     "name": "stderr",
     "output_type": "stream",
     "text": [
      " 68%|██████▊   | 684/1000 [32:17<15:52,  3.01s/it]"
     ]
    },
    {
     "name": "stdout",
     "output_type": "stream",
     "text": [
      "Document: 684\n",
      "Topics: ['DUP: [1] Wireless Communications: Mentions wireless communication systems and their components.', 'NEW: [1] Bandwidth Management: Mentions the allocation and management of bandwidth in communication systems.', 'NEW: [1] Group Communication: Mentions communication between multiple entities as a group.', 'NEW: [1] Frequency Resource Management: Mentions the allocation and management of frequency resources in communication systems.']\n",
      "--------------------\n"
     ]
    },
    {
     "name": "stderr",
     "output_type": "stream",
     "text": [
      " 68%|██████▊   | 685/1000 [32:19<14:27,  2.75s/it]"
     ]
    },
    {
     "name": "stdout",
     "output_type": "stream",
     "text": [
      "Document: 685\n",
      "Topics: ['DUP: [1] Energy Storage: Mentions devices used to store energy.']\n",
      "--------------------\n"
     ]
    },
    {
     "name": "stderr",
     "output_type": "stream",
     "text": [
      " 69%|██████▊   | 686/1000 [32:23<16:41,  3.19s/it]"
     ]
    },
    {
     "name": "stdout",
     "output_type": "stream",
     "text": [
      "Document: 686\n",
      "Topics: ['DUP: [1] Photovoltaic Technology: This topic covers the technology related to converting sunlight into electricity using solar cells.', 'DUP: [1] Measurement Technology: This topic covers various methods and techniques used to measure different physical quantities.', 'DUP: [1] Electrical Systems: This topic covers various electrical systems and components used in various industries.', 'DUP: [1] Solar Energy: This topic covers various aspects of solar energy, including its production, storage, and utilization.', 'DUP: [1] Engineering Design: This topic covers the process of designing and developing new products, systems, or processes.', 'DUP: [1] Electrical Engineering: This topic covers the application of electrical and electronic principles to design, develop, and test electrical systems and components.', 'DUP: [1] Signal Processing: This topic covers the analysis, manipulation, and interpretation of signals, including electrical, acoustic, and optical signals.', 'DUP: [1] Calibration: This topic covers the process of adjusting or correcting instruments, devices, or systems to ensure accurate measurements or performance.', 'DUP: [1] Power Electronics: This topic covers the design, development, and application of electronic circuits and systems for controlling and converting electrical power.', 'DUP: [1] Optoelectronics: This topic covers the interaction between light and electronic materials and devices, including photodiodes, lasers, and optical fibers.']\n",
      "--------------------\n"
     ]
    },
    {
     "name": "stderr",
     "output_type": "stream",
     "text": [
      " 69%|██████▊   | 687/1000 [32:26<15:03,  2.89s/it]"
     ]
    },
    {
     "name": "stdout",
     "output_type": "stream",
     "text": [
      "Document: 687\n",
      "Topics: ['DUP: [1] Energy: Mentions the use and consumption of energy.', 'DUP: [1] Vehicle Technology: Mentions vehicles and their technology.', 'DUP: [1] Deceleration: Mentions the process of slowing down a moving object.', 'NEW: [1] Calculation: Mentions mathematical processes and calculations.']\n",
      "--------------------\n"
     ]
    },
    {
     "name": "stderr",
     "output_type": "stream",
     "text": [
      " 69%|██████▉   | 688/1000 [32:28<14:35,  2.81s/it]"
     ]
    },
    {
     "name": "stdout",
     "output_type": "stream",
     "text": [
      "Document: 688\n",
      "Topics: ['DUP: [1] Chemical Processing: Mentions the manipulation of chemical reactions to produce desired products.', 'DUP: [1] Heat Transfer: Mentions the process of transferring heat energy from one location to another.', 'DUP: [1] Thermal Energy Storage: Mentions the storage of thermal energy for later use.', 'NEW: [1] Chemical Heat Pumps: Mentions a specific type of heat pump that uses chemical reactions to transfer heat energy.']\n",
      "--------------------\n"
     ]
    },
    {
     "name": "stderr",
     "output_type": "stream",
     "text": [
      " 69%|██████▉   | 689/1000 [32:31<13:51,  2.67s/it]"
     ]
    },
    {
     "name": "stdout",
     "output_type": "stream",
     "text": [
      "Document: 689\n",
      "Topics: ['DUP: [1] Aviation Technology: Mentions aircraft and related technologies.', 'DUP: [1] Wing Design: Mentions the design of aircraft wings.', 'NEW: [1] Actuation Systems: Mentions systems used to move components.', 'DUP: [1] Mechanical Systems: Mentions mechanical components and their functions.']\n",
      "--------------------\n"
     ]
    },
    {
     "name": "stderr",
     "output_type": "stream",
     "text": [
      " 69%|██████▉   | 690/1000 [32:33<14:16,  2.76s/it]"
     ]
    },
    {
     "name": "stdout",
     "output_type": "stream",
     "text": [
      "Document: 690\n",
      "Topics: ['DUP: [1] Industrial Automation: Systems used to automate industrial processes, including control systems and user interfaces for implementing workflows.', 'NEW: [1] Databases: Systems used to store and manage data, including workflow templates and documentation for industrial automation systems.', 'DUP: [1] User Equipment: Devices used by users to interact with industrial automation systems, including user interfaces and processors.']\n",
      "--------------------\n"
     ]
    },
    {
     "name": "stderr",
     "output_type": "stream",
     "text": [
      " 69%|██████▉   | 691/1000 [32:36<13:58,  2.71s/it]"
     ]
    },
    {
     "name": "stdout",
     "output_type": "stream",
     "text": [
      "Document: 691\n",
      "Topics: ['DUP: [1] Resource Allocation: Mentions the distribution of resources among different entities.', 'DUP: [1] Processing Systems: Mentions systems used for processing data or executing instructions.']\n",
      "--------------------\n"
     ]
    },
    {
     "name": "stderr",
     "output_type": "stream",
     "text": [
      " 69%|██████▉   | 692/1000 [32:40<16:28,  3.21s/it]"
     ]
    },
    {
     "name": "stdout",
     "output_type": "stream",
     "text": [
      "Document: 692\n",
      "Topics: ['DUP: [1] Manufacturing: Mentions the process of creating or producing goods, typically through the use of machinery, tools, or labor.', 'DUP: [1] Engineering Design: Mentions the process of creating and developing plans for constructing or manufacturing a product.', 'DUP: [1] Automotive Technology: Mentions technology related to the design, construction, and operation of motor vehicles.', 'DUP: [1] Mechanical Engineering: Mentions the application of principles of physics and mathematics to design, build, and maintain mechanical systems.']\n",
      "--------------------\n"
     ]
    },
    {
     "name": "stderr",
     "output_type": "stream",
     "text": [
      " 69%|██████▉   | 693/1000 [32:43<14:56,  2.92s/it]"
     ]
    },
    {
     "name": "stdout",
     "output_type": "stream",
     "text": [
      "Document: 693\n",
      "Topics: ['DUP: [1] Hydrogen Technology: Mentions the production and handling of hydrogen gas.']\n",
      "--------------------\n"
     ]
    },
    {
     "name": "stderr",
     "output_type": "stream",
     "text": [
      " 69%|██████▉   | 694/1000 [32:45<14:39,  2.87s/it]"
     ]
    },
    {
     "name": "stdout",
     "output_type": "stream",
     "text": [
      "Document: 694\n",
      "Topics: ['NEW: [1] Optical Systems: Mentions the use of optical components for manipulating or transmitting light.', 'NEW: [1] Cloaking Technology: Mentions the use of technology to make objects invisible or undetectable.', 'NEW: [1] Fresnel Mirrors: Mentions the use of specific types of mirrors for redirecting light.', 'DUP: [1] Image Technology: Mentions the manipulation or creation of images.']\n",
      "--------------------\n"
     ]
    },
    {
     "name": "stderr",
     "output_type": "stream",
     "text": [
      " 70%|██████▉   | 695/1000 [32:50<16:29,  3.24s/it]"
     ]
    },
    {
     "name": "stdout",
     "output_type": "stream",
     "text": [
      "Document: 695\n",
      "Topics: ['DUP: [1] Manufacturing: Mentions the production or fabrication of goods.', 'DUP: [1] Database Technology: Mentions the use of databases for storing and managing data.', 'NEW: [1] Execution Systems: Mentions systems used to carry out a process or instruction.', 'NEW: [1] Dispatching Systems: Mentions systems used to assign tasks or resources.', 'DUP: [1] Process Control: Mentions the regulation and management of industrial processes.', 'DUP: [1] Performance Control: Mentions the regulation and management of system performance.', 'DUP: [1] Limit Control: Mentions the setting and enforcement of maximum or minimum limits.', 'DUP: [1] Industrial Automation: Mentions the use of automated systems in industry.', 'DUP: [1] Computer Systems: Mentions the use of computers and computer technology.', 'DUP: [1] Networking: Mentions the interconnection of multiple devices or systems.', 'NEW: [1] Database Management: Mentions the organization, maintenance, and manipulation of databases.', 'NEW: [1] Manufacturing Execution Systems: Mentions systems used to manage and control manufacturing processes in real-time.', 'NEW: [1] Process Constraints: Mentions the conditions or limitations that must be met during a manufacturing process.', 'NEW: [1] Dispatching Rule: Mentions rules used to determine the assignment of tasks or resources.']\n",
      "--------------------\n"
     ]
    },
    {
     "name": "stderr",
     "output_type": "stream",
     "text": [
      " 70%|██████▉   | 696/1000 [32:52<15:04,  2.97s/it]"
     ]
    },
    {
     "name": "stdout",
     "output_type": "stream",
     "text": [
      "Document: 696\n",
      "Topics: ['DUP: [1] Filtration Systems: Mentions systems used to remove impurities from fluids.', 'DUP: [1] Containment Systems: Mentions systems used to enclose or hold substances.', 'DUP: [1] Covers: Mentions removable components used to protect openings.', 'DUP: [1] Housing: Mentions structures used to enclose components.', 'DUP: [1] Fluid Systems: Mentions systems used to transport or contain fluids.']\n",
      "--------------------\n"
     ]
    },
    {
     "name": "stderr",
     "output_type": "stream",
     "text": [
      " 70%|██████▉   | 697/1000 [32:56<16:34,  3.28s/it]"
     ]
    },
    {
     "name": "stdout",
     "output_type": "stream",
     "text": [
      "Document: 697\n",
      "Topics: ['DUP: [1] Heat Exchangers: Systems used to transfer heat from one medium to another.', 'NEW: [1] Ground Source Heat Pumps: Type of heat pump that uses the ground as a heat source and sink.', 'NEW: [1] Thermal Insulation: Materials or techniques used to prevent or reduce heat transfer.', 'NEW: [1] Aluminum: Lightweight and high thermal conductivity metal.', 'DUP: [1] Materials Science: Study of the properties and applications of various materials.', 'DUP: [1] Engineering: Application of scientific, economic, social, and practical knowledge to design, build, and maintain structures, machines, devices, systems, and processes.', \"DUP: [1] Geothermal Energy: Energy derived from the Earth's heat.\", 'DUP: [1] Construction: Process of constructing buildings, roads, bridges, and other structures.', 'DUP: [1] Mining: Extraction of valuable resources from the Earth.', 'DUP: [1] Manufacturing: Process of producing goods through the use of machines, tools, or manual labor.', 'DUP: [1] Materials Engineering: Application of engineering principles to the development, processing, and utilization of materials.', 'DUP: [1] Mechanical Engineering: Application of principles of physics and mathematics to design, build, and maintain mechanical systems.', 'DUP: [1] Electrical Systems: Systems used to distribute and utilize electrical energy.', 'DUP: [1] Energy: The ability or capacity to do work.']\n",
      "--------------------\n"
     ]
    },
    {
     "name": "stderr",
     "output_type": "stream",
     "text": [
      " 70%|██████▉   | 698/1000 [32:59<16:49,  3.34s/it]"
     ]
    },
    {
     "name": "stdout",
     "output_type": "stream",
     "text": [
      "Document: 698\n",
      "Topics: ['NEW: [1] Lighting Control Systems: Systems used to manage and operate lighting devices through software technology.', 'NEW: [1] Mobile Applications: Software applications designed for use on mobile phones.', 'NEW: [1] Operating Parameters: Settings that control the operation of a system or device.', 'NEW: [1] Lighting Devices: Devices used to produce light.', 'NEW: [1] Security Lights: Lights designed for security purposes.', 'DUP: [1] LED Technology: Technology used in lighting applications for light emitting diodes.', 'NEW: [1] Incandescent Lighting: Traditional lighting technology using filament bulbs.', 'NEW: [1] Electric Lighting: Lighting technology that uses an electric current to produce light.']\n",
      "--------------------\n"
     ]
    },
    {
     "name": "stderr",
     "output_type": "stream",
     "text": [
      " 70%|██████▉   | 699/1000 [33:03<17:53,  3.57s/it]"
     ]
    },
    {
     "name": "stdout",
     "output_type": "stream",
     "text": [
      "Document: 699\n",
      "Topics: ['DUP: [1] Aerodynamics: Study of the behavior of air and other gases in motion, particularly their interaction with solid objects such as airfoils in gas turbine engines.', 'DUP: [1] Gas Turbine Engines: Power generation technology that uses a gas turbine to convert fuel into mechanical energy.', 'NEW: [1] Airfoils: Shaped structures designed to generate lift by moving through a fluid, such as air or water.', 'NEW: [1] Platforms: Structural components that provide a base or foundation for other parts, in this case, for the airfoil component in a gas turbine engine.', 'NEW: [1] Flow Path Surfaces: Surfaces that define the path of a fluid, such as air, in a system, like the flow path surface of an airfoil component in a gas turbine engine.', 'NEW: [1] Contoured Surfaces: Curved surfaces that are shaped to optimize performance, such as the contoured surface of an airfoil component in a gas turbine engine.']\n",
      "--------------------\n"
     ]
    },
    {
     "name": "stderr",
     "output_type": "stream",
     "text": [
      " 70%|███████   | 700/1000 [33:07<17:23,  3.48s/it]"
     ]
    },
    {
     "name": "stdout",
     "output_type": "stream",
     "text": [
      "Document: 700\n",
      "Topics: ['DUP: [1] Hybrid Electric Vehicles: Mentions the use of electric and internal combustion engines in a vehicle to improve fuel efficiency.', 'DUP: [1] Automotive Technology: Mentions technology related to vehicles.', 'NEW: [1] Cruise Control: Mentions a system that maintains a constant speed for a vehicle.', 'DUP: [1] Fuel Efficiency: Mentions the optimization of fuel usage in a vehicle.', 'NEW: [1] Vehicle Driving Sources: Mentions the use of engines and driving motors as sources of power for a vehicle.']\n",
      "--------------------\n"
     ]
    },
    {
     "name": "stderr",
     "output_type": "stream",
     "text": [
      " 70%|███████   | 701/1000 [33:09<15:20,  3.08s/it]"
     ]
    },
    {
     "name": "stdout",
     "output_type": "stream",
     "text": [
      "Document: 701\n",
      "Topics: ['DUP: [1] Engineering Design: Methods and systems for designing engineering projects, including the use of sequence libraries for configuring field control systems.']\n",
      "--------------------\n"
     ]
    },
    {
     "name": "stderr",
     "output_type": "stream",
     "text": [
      " 70%|███████   | 702/1000 [33:13<16:22,  3.30s/it]"
     ]
    },
    {
     "name": "stdout",
     "output_type": "stream",
     "text": [
      "Document: 702\n",
      "Topics: ['DUP: [1] Gas Technology: Mentions the use and handling of gases.', 'DUP: [1] Engineering Design: Mentions the design and development of devices and systems.', 'DUP: [1] Industrial Automation: Mentions the use of automated systems in industrial processes.', 'DUP: [1] Mechanical Systems: Mentions mechanical components and their functioning.', 'DUP: [1] Fluid Systems: Mentions the handling and control of fluids.', 'DUP: [1] Valve Technology: Mentions the design and function of valves.', 'NEW: [1] Leakage Control: Mentions the prevention and management of leaks.', 'NEW: [1] Piston Technology: Mentions the design and function of pistons.', 'NEW: [1] Drain Technology: Mentions the design and function of drains.', 'NEW: [1] Circuits: Mentions electrical circuits and their components.', 'NEW: [1] Connectors: Mentions the design and function of connectors.', 'NEW: [1] Storage Containers: Mentions the design and use of containers for storing materials.', 'NEW: [1] Gas Sources: Mentions the sources of gases.', 'NEW: [1] Withdrawing Devices: Mentions devices used for withdrawing materials.']\n",
      "--------------------\n"
     ]
    },
    {
     "name": "stderr",
     "output_type": "stream",
     "text": [
      " 70%|███████   | 703/1000 [33:15<14:54,  3.01s/it]"
     ]
    },
    {
     "name": "stdout",
     "output_type": "stream",
     "text": [
      "Document: 703\n",
      "Topics: ['DUP: [1] Power Systems: Mentions the analysis and management of electrical power systems.', 'DUP: [1] Network Analysis: Mentions the study of networks and their properties.', 'DUP: [1] Probability and Statistics: Mentions the use of probability and statistical methods.', 'NEW: [1] Hierarchical Systems: Mentions systems organized in a hierarchical structure.']\n",
      "--------------------\n"
     ]
    },
    {
     "name": "stderr",
     "output_type": "stream",
     "text": [
      " 70%|███████   | 704/1000 [33:18<14:38,  2.97s/it]"
     ]
    },
    {
     "name": "stdout",
     "output_type": "stream",
     "text": [
      "Document: 704\n",
      "Topics: ['DUP: [1] Photovoltaic Technology: Mentions the production and use of photovoltaic cells for converting light into electricity.', 'DUP: [1] Semiconductor Technology: Mentions the use of semiconductors in the fabrication of electronic devices.', 'DUP: [1] Material Processing: Mentions the manipulation and modification of materials to create desired forms or properties.', 'DUP: [1] Manufacturing: Mentions the production of goods through various processes.']\n",
      "--------------------\n"
     ]
    },
    {
     "name": "stderr",
     "output_type": "stream",
     "text": [
      " 70%|███████   | 705/1000 [33:21<14:56,  3.04s/it]"
     ]
    },
    {
     "name": "stdout",
     "output_type": "stream",
     "text": [
      "Document: 705\n",
      "Topics: ['DUP: [1] Internal Combustion Engines: Mentions the design and operation of engines that burn fuel in a confined space.', 'NEW: [1] Fuel Injection Systems: Mentions the systems used to deliver fuel into an engine.', 'NEW: [1] Plasma Ignition Systems: Mentions the systems used to ignite fuel using plasma.', 'NEW: [1] Engine Control Systems: Mentions the systems used to manage and control engine operations.', 'NEW: [1] Variable Valve Actuation Systems: Mentions systems that adjust engine valves to optimize performance.', 'NEW: [1] Lean Burn Engines: Mentions engines that operate with a lean air/fuel ratio.', 'DUP: [1] Combustion Engines: Mentions engines that generate power through the combustion of fuel.', 'NEW: [1] Ignition Systems: Mentions the systems used to ignite fuel in an engine.', 'NEW: [1] Controller Technology: Mentions the technology used to control and manage systems.']\n",
      "--------------------\n"
     ]
    },
    {
     "name": "stderr",
     "output_type": "stream",
     "text": [
      " 71%|███████   | 706/1000 [33:24<13:59,  2.86s/it]"
     ]
    },
    {
     "name": "stdout",
     "output_type": "stream",
     "text": [
      "Document: 706\n",
      "Topics: ['NEW: [1] Hydrothermal Carbonization: Mentions the process of treating organic matter using high temperature and pressure water.', 'DUP: [1] Reactor Technology: Mentions the design and operation of equipment for industrial processes.', 'DUP: [1] Wastewater Treatment: Mentions the process of removing contaminants from wastewater.', 'DUP: [1] Steam Technology: Mentions the production and use of steam.']\n",
      "--------------------\n"
     ]
    },
    {
     "name": "stderr",
     "output_type": "stream",
     "text": [
      " 71%|███████   | 707/1000 [33:26<13:30,  2.77s/it]"
     ]
    },
    {
     "name": "stdout",
     "output_type": "stream",
     "text": [
      "Document: 707\n",
      "Topics: ['DUP: [1] Communication Technology: Mentions different communication circuits and protocols.', 'DUP: [1] Electronic Devices: Mentions electronic devices and their components.', 'DUP: [1] Processor Technology: Mentions processors and their configurations.', 'DUP: [1] Memory Technology: Mentions memory systems.', 'DUP: [1] Wireless Communications: Mentions wireless protocols.', 'DUP: [1] Telecommunications: Mentions communication systems and devices.', 'DUP: [1] Networking: Mentions communication networks and protocols.', 'DUP: [1] Signal Processing: Mentions state change information and signal transmission.']\n",
      "--------------------\n"
     ]
    },
    {
     "name": "stderr",
     "output_type": "stream",
     "text": [
      " 71%|███████   | 708/1000 [33:28<12:31,  2.57s/it]"
     ]
    },
    {
     "name": "stdout",
     "output_type": "stream",
     "text": [
      "Document: 708\n",
      "Topics: ['DUP: [1] Radio Frequency Technology: Mentions the use of radio frequency energy and its application to objects.', 'DUP: [1] Automation: Mentions the use of a control system to automatically perform an operation.', 'DUP: [1] Manufacturing: Mentions the use of an apparatus in a manufacturing process.']\n",
      "--------------------\n"
     ]
    },
    {
     "name": "stderr",
     "output_type": "stream",
     "text": [
      " 71%|███████   | 709/1000 [33:32<13:50,  2.85s/it]"
     ]
    },
    {
     "name": "stdout",
     "output_type": "stream",
     "text": [
      "Document: 709\n",
      "Topics: ['NEW: [1] Navigation Systems: Systems used for determining location and providing directions.', 'DUP: [1] Vehicles: Modes of transportation.', 'NEW: [1] Route Planning: Determining the most efficient way to travel between two points.', 'DUP: [1] Processors: Electronic devices used to process data.', 'NEW: [1] Satellite Antennas: Devices used to transmit and receive signals from satellites.', 'NEW: [1] Memory Modules: Electronic components used to store data.', 'DUP: [1] Instructions: Sets of commands used to tell a device what to do.', 'NEW: [1] Signals: Electromagnetic waves used to transmit information.']\n",
      "--------------------\n"
     ]
    },
    {
     "name": "stderr",
     "output_type": "stream",
     "text": [
      " 71%|███████   | 710/1000 [33:34<13:15,  2.74s/it]"
     ]
    },
    {
     "name": "stdout",
     "output_type": "stream",
     "text": [
      "Document: 710\n",
      "Topics: ['DUP: [1] Composite Materials: Mentions the use of multiple materials to create a single structure.', 'DUP: [1] Structural Design: Mentions the planning and creation of structures.', 'DUP: [1] Material Processing: Mentions the manipulation of materials to create desired forms or properties.', 'DUP: [1] Manufacturing: Mentions the production of goods.', 'DUP: [1] Mechanical Engineering: Mentions the application of physics and mathematics to design and build mechanical systems.']\n",
      "--------------------\n"
     ]
    },
    {
     "name": "stderr",
     "output_type": "stream",
     "text": [
      " 71%|███████   | 711/1000 [33:37<13:30,  2.80s/it]"
     ]
    },
    {
     "name": "stdout",
     "output_type": "stream",
     "text": [
      "Document: 711\n",
      "Topics: ['DUP: [1] Biotechnology: Mentions the use of living organisms to develop products or technologies.', 'NEW: [1] Probiotics: Mentions beneficial bacteria that can be used to improve health.', 'NEW: [1] Microbiology: Mentions the study of microorganisms.', 'NEW: [1] Fermentation: Mentions the process of converting organic substances into other substances using microorganisms.', 'NEW: [1] Food Science: Mentions the study of food and its production.', 'NEW: [1] Health and Wellness: Mentions the promotion of good health and preventing or treating diseases.', 'NEW: [1] Kosher: Mentions dietary laws and regulations.']\n",
      "--------------------\n"
     ]
    },
    {
     "name": "stderr",
     "output_type": "stream",
     "text": [
      " 71%|███████   | 712/1000 [33:40<13:15,  2.76s/it]"
     ]
    },
    {
     "name": "stdout",
     "output_type": "stream",
     "text": [
      "Document: 712\n",
      "Topics: ['DUP: [1] Engine Technology: Mentions components related to engine systems, including turbochargers and their associated parts.', 'DUP: [1] Cooling Systems: Mentions systems used to regulate temperature, specifically water-cooling in this context.', 'DUP: [1] Electrical Systems: Mentions the use of an electric actuator.']\n",
      "--------------------\n"
     ]
    },
    {
     "name": "stderr",
     "output_type": "stream",
     "text": [
      " 71%|███████▏  | 713/1000 [33:45<16:18,  3.41s/it]"
     ]
    },
    {
     "name": "stdout",
     "output_type": "stream",
     "text": [
      "Document: 713\n",
      "Topics: ['DUP: [1] Battery Technology: Mentions the study, development, and application of batteries and related technologies.', 'DUP: [1] Manufacturing: Mentions the process of producing goods or services, including the design, production, and quality control aspects.', 'DUP: [1] Engineering: Mentions the application of scientific, economic, social, and practical knowledge to design, build, and maintain structures, machines, devices, systems, and processes.', 'DUP: [1] Electrical Systems: Mentions the components, devices, and principles used to distribute and control the flow of electric power.', 'DUP: [1] Material Processing: Mentions the methods and techniques used to transform raw materials into finished products.', 'DUP: [1] Mechanical Engineering: Mentions the application of principles of physics and mathematics to design, build, and maintain mechanical systems.', 'DUP: [1] Housing: Mentions structures designed for human habitation, including apartments, houses, and other residential buildings.', 'DUP: [1] Structural Design: Mentions the process of designing structures, including the selection of materials, analysis of loads, and determination of shapes and sizes to ensure the structure can support the intended loads.', 'DUP: [1] Materials: Mentions the physical substances used to construct or manufacture products, including their properties, selection, and processing.', 'DUP: [1] Mechanics: Mentions the branch of physics that deals']\n",
      "--------------------\n"
     ]
    },
    {
     "name": "stderr",
     "output_type": "stream",
     "text": [
      " 71%|███████▏  | 714/1000 [33:48<16:29,  3.46s/it]"
     ]
    },
    {
     "name": "stdout",
     "output_type": "stream",
     "text": [
      "Document: 714\n",
      "Topics: ['NEW: [1] Cybersecurity: Mentions the protection of digital information and systems from unauthorized access, use, disclosure, disruption, modification, or destruction.', 'DUP: [1] Machine Learning: Mentions a type of artificial intelligence that enables systems to automatically learn and improve from experience without being explicitly programmed.', 'NEW: [1] Threat Assessment: Mentions the identification and evaluation of potential harms to an organization or system.', 'DUP: [1] Data Collection: Mentions the process of gathering and storing information.', 'NEW: [1] System Processes: Mentions the actions or functions that a system performs.', 'NEW: [1] Anomaly Detection: Mentions the identification of unusual or abnormal data or behavior.', 'NEW: [1] Pattern Recognition: Mentions the ability to identify and extract meaningful information from data.']\n",
      "--------------------\n"
     ]
    },
    {
     "name": "stderr",
     "output_type": "stream",
     "text": [
      " 72%|███████▏  | 715/1000 [33:52<17:12,  3.62s/it]"
     ]
    },
    {
     "name": "stdout",
     "output_type": "stream",
     "text": [
      "Document: 715\n",
      "Topics: ['DUP: [1] Power Electronics: Mentions the design and operation of electronic circuits that control the flow of electrical power.', 'DUP: [1] Control Systems: Mentions systems that regulate and direct the behavior of other systems or processes.', 'DUP: [1] Microcontrollers: Mentions small computer systems that can be programmed to control a wide range of electronic devices.', 'DUP: [1] Switching Circuits: Mentions circuits that can be turned on and off rapidly to control electrical power flow.', 'NEW: [1] Resonant Circuits: Mentions circuits that oscillate at a natural frequency when an AC voltage is applied.', 'NEW: [1] Voltage Monitoring: Mentions the measurement of electrical potential difference.', 'NEW: [1] Load Current: Mentions the electrical current flowing through a load.', 'NEW: [1] Adaptive Sampling: Mentions the ability of a system to adjust its sampling rate based on changing conditions.', 'NEW: [1] Burst Mode Operation: Mentions a mode of operation where a device operates at a high power level for a short period of time, followed by a low power level for a longer period of time.', 'NEW: [1] Optimal Trajectory Control: Mentions the ability to control the path or motion of a system towards a desired goal.']\n",
      "--------------------\n"
     ]
    },
    {
     "name": "stderr",
     "output_type": "stream",
     "text": [
      " 72%|███████▏  | 716/1000 [33:56<16:53,  3.57s/it]"
     ]
    },
    {
     "name": "stdout",
     "output_type": "stream",
     "text": [
      "Document: 716\n",
      "Topics: ['DUP: [1] Agriculture: Mentions agricultural practices and products, specifically piglet feed.', 'DUP: [1] Biotechnology: Mentions bacterial enzyme synergistic fermentation process.', 'NEW: [1] Nutrition: Mentions the composition of piglet feed and its effects on production performance and nutrient utilization.', 'NEW: [1] Animal Husbandry: Mentions piglets and their feed.', 'NEW: [1] Enzymology: Mentions bacterial enzyme synergistic fermentation and its effects on feed nutrients.', 'NEW: [1] Phosphorus Utilization: Mentions the reduction of phosphorus excretion in feces through improved utilization rate.', 'DUP: [1] Feed Technology: Mentions the composition and production of piglet feed.']\n",
      "--------------------\n"
     ]
    },
    {
     "name": "stderr",
     "output_type": "stream",
     "text": [
      " 72%|███████▏  | 717/1000 [33:59<15:44,  3.34s/it]"
     ]
    },
    {
     "name": "stdout",
     "output_type": "stream",
     "text": [
      "Document: 717\n",
      "Topics: ['DUP: [1] Biotechnology: Mentions the use of technology to produce biological products.', 'NEW: [1] Virus Technology: Mentions the study and manipulation of viruses.', 'DUP: [1] Protein Technology: Mentions the study and application of proteins.', 'NEW: [1] Purification Technology: Mentions the processes used to separate and purify substances.', 'NEW: [1] Infectious Diseases: Mentions diseases caused by infectious agents.']\n",
      "--------------------\n"
     ]
    },
    {
     "name": "stderr",
     "output_type": "stream",
     "text": [
      " 72%|███████▏  | 718/1000 [34:02<16:28,  3.50s/it]"
     ]
    },
    {
     "name": "stdout",
     "output_type": "stream",
     "text": [
      "Document: 718\n",
      "Topics: ['DUP: [1] Power Transmission: Mentions the transfer of electrical energy from one location to another.', 'NEW: [1] Magnetic Coupling: Mentions the transfer of energy between two objects without physical contact through the use of magnetic fields.', 'DUP: [1] Electrical Engineering: Mentions the study and application of electrical systems and related technologies.', 'DUP: [1] Electromagnetism: Mentions the study of the interaction between electric charges and magnetic fields.', 'NEW: [1] Coils: Mentions the electrical components used to generate or apply a magnetic field.', 'NEW: [1] Frequency: Mentions the number of cycles per second at which an alternating current oscillates.', 'NEW: [1] Inductance: Mentions the property of an electrical circuit that opposes changes in current flow.', 'NEW: [1] Capacitance: Mentions the property of an electrical circuit that stores electrical energy in an electric field.', 'DUP: [1] Engineering: Mentions the application of scientific, economic, social, and practical knowledge to design, build, and maintain structures, machines, devices, systems, and processes.']\n",
      "--------------------\n"
     ]
    },
    {
     "name": "stderr",
     "output_type": "stream",
     "text": [
      " 72%|███████▏  | 719/1000 [34:06<16:05,  3.44s/it]"
     ]
    },
    {
     "name": "stdout",
     "output_type": "stream",
     "text": [
      "Document: 719\n",
      "Topics: ['NEW: [1] Gas Turbines: Mentions the use of gas turbines and their cooling systems.', 'DUP: [1] Cooling Systems: Mentions systems used to cool various components, such as gas turbine blades.', 'NEW: [1] Blade Design: Mentions the design of blades, specifically those used in gas turbines.', 'NEW: [1] Fluid Dynamics: Mentions the behavior of fluids, specifically the interaction between cooling and working fluids on a gas turbine blade.', 'DUP: [1] Engineering: Mentions the design and development of technological systems, including gas turbines and their cooling systems.']\n",
      "--------------------\n"
     ]
    },
    {
     "name": "stderr",
     "output_type": "stream",
     "text": [
      " 72%|███████▏  | 720/1000 [34:09<15:14,  3.26s/it]"
     ]
    },
    {
     "name": "stdout",
     "output_type": "stream",
     "text": [
      "Document: 720\n",
      "Topics: ['DUP: [1] Electric Vehicles: Mentions the use of electric vehicles and their charging systems.', 'DUP: [1] Charging Systems: Mentions the systems used for charging electric vehicles.', 'DUP: [1] Communication Technology: Mentions the use of communication units for vehicle-to-charging station communication.', 'DUP: [1] Power Management: Mentions the management of power in electric vehicles and charging systems.', 'DUP: [1] Induction Technology: Mentions the use of induction technology for wireless charging of electric vehicles.']\n",
      "--------------------\n"
     ]
    },
    {
     "name": "stderr",
     "output_type": "stream",
     "text": [
      " 72%|███████▏  | 721/1000 [34:12<15:12,  3.27s/it]"
     ]
    },
    {
     "name": "stdout",
     "output_type": "stream",
     "text": [
      "Document: 721\n",
      "Topics: ['NEW: [1] Wireless Power Transmission: Mentions the transfer of power without the use of wires.', 'NEW: [1] Power Receiving Devices: Mentions devices that can receive power.', 'DUP: [1] Magnetic Coupling: Mentions the interaction between magnetic fields.', 'NEW: [1] Wireless Power Transmitting Devices: Mentions devices that transmit power wirelessly.', 'DUP: [1] Coils: Mentions devices that are used to store or generate magnetic fields.', 'NEW: [1] Capacitors and Resistors: Mentions electronic components used for energy storage and resistance.', 'NEW: [1] Loading Circuits: Mentions circuits used to control the flow of power.', 'NEW: [1] Impedance Adjustment: Mentions the manipulation of electrical impedance.', 'NEW: [1] Handshaking Operations: Mentions communication protocols between devices.', 'NEW: [1] Data Signal: Mentions the transfer of information between devices.']\n",
      "--------------------\n"
     ]
    },
    {
     "name": "stderr",
     "output_type": "stream",
     "text": [
      " 72%|███████▏  | 722/1000 [34:15<15:09,  3.27s/it]"
     ]
    },
    {
     "name": "stdout",
     "output_type": "stream",
     "text": [
      "Document: 722\n",
      "Topics: ['NEW: [1] Biomass Technology: Mentions the use of organic matter, such as hemp byproduct and kenaf byproduct, for fuel production.', 'DUP: [1] Manufacturing: Mentions the process of making fuel pellets.', 'DUP: [1] Energy: Mentions the production of fuel pellets for energy purposes.', 'DUP: [1] Material Processing: Mentions the processing of hemp byproduct, kenaf byproduct, sawdust, and coal fines into fuel pellets.', 'DUP: [1] Industrial Automation: Implied by the description of a method for making binderless fuel pellets.', 'DUP: [1] Material Science: Mentions the properties and characteristics of the pellet body materials.']\n",
      "--------------------\n"
     ]
    },
    {
     "name": "stderr",
     "output_type": "stream",
     "text": [
      " 72%|███████▏  | 723/1000 [34:20<17:06,  3.71s/it]"
     ]
    },
    {
     "name": "stdout",
     "output_type": "stream",
     "text": [
      "Document: 723\n",
      "Topics: ['DUP: [1] Heat Exchangers: A device used to transfer heat from one fluid to another, improving thermal efficiency.', 'DUP: [1] Refrigeration Technology: The technology used to cool and maintain low temperatures, often using refrigerants.', 'DUP: [1] Thermal Technology: The application of heat and temperature for various purposes, including energy production and efficiency.', 'NEW: [1] Plate Technology: The use of flat plates for various engineering applications, such as heat exchangers and separators.', 'DUP: [1] Fluid Systems: The design, operation, and optimization of systems that transport and manipulate fluids.', 'NEW: [1] Refrigerants: Substances used in refrigeration and air conditioning systems to absorb or release heat.', 'DUP: [1] Gas Technology: The study and application of gases, including their production, storage, and utilization.', 'DUP: [1] Engineering Design: The process of creating new products, systems, or structures using scientific, economic, social, and practical knowledge.', 'DUP: [1] Material Processing: The manipulation of materials to create desired forms, properties, or functions.', 'DUP: [1] Manufacturing: The production of goods through the use of machinery, tools, or labor.', 'DUP: [1] Energy: The capability or potential to do work, often measured in terms of heat or electricity.', 'DUP: [1] Engineering: The application of scientific, economic, social, and practical knowledge to design, build, and maintain']\n",
      "--------------------\n"
     ]
    },
    {
     "name": "stderr",
     "output_type": "stream",
     "text": [
      " 72%|███████▏  | 724/1000 [34:24<17:00,  3.70s/it]"
     ]
    },
    {
     "name": "stdout",
     "output_type": "stream",
     "text": [
      "Document: 724\n",
      "Topics: ['DUP: [1] Membrane Technology: Mentions the use of membranes for separation processes.', 'DUP: [1] Material Processing: Mentions the processing of materials.', 'DUP: [1] Composite Materials: Mentions the use of composite materials.', 'DUP: [1] Manufacturing: Mentions the process of manufacturing.']\n",
      "--------------------\n"
     ]
    },
    {
     "name": "stderr",
     "output_type": "stream",
     "text": [
      " 72%|███████▎  | 725/1000 [34:27<17:04,  3.73s/it]"
     ]
    },
    {
     "name": "stdout",
     "output_type": "stream",
     "text": [
      "Document: 725\n",
      "Topics: ['DUP: [1] Wireless Communications: Mentions wireless communication technology and networks.', 'NEW: [1] Wireless Networks: Mentions wireless networks and their components.', 'NEW: [1] Wireless Nodes: Mentions wireless nodes and their functions.', 'NEW: [1] Frequency Channels: Mentions frequency channels and their use in wireless communication.', 'NEW: [1] Schedules: Mentions schedules and their use in wireless communication.', 'NEW: [1] Timeslots: Mentions timeslots and their use in wireless communication.', 'NEW: [1] Transmissions: Mentions transmissions and their generation and reception in wireless communication.', 'NEW: [1] Receiver Circuits: Mentions receiver circuits and their functions in wireless communication.', 'NEW: [1] Transmitter Circuits: Mentions transmitter circuits and their functions in wireless communication.', 'NEW: [1] Acknowledgment Packets: Mentions acknowledgment packets and their use in wireless communication.']\n",
      "--------------------\n"
     ]
    },
    {
     "name": "stderr",
     "output_type": "stream",
     "text": [
      " 73%|███████▎  | 726/1000 [34:30<15:32,  3.40s/it]"
     ]
    },
    {
     "name": "stdout",
     "output_type": "stream",
     "text": [
      "Document: 726\n",
      "Topics: ['DUP: [1] Processor Technology: Mentions the design, development, and use of processors.', 'DUP: [1] Computer Systems: Mentions the design, development, and use of computer systems.', 'NEW: [1] Instruction Sets: Mentions the set of instructions that a processor can execute.', 'NEW: [1] Dynamic Control: Mentions the ability to change or modify control parameters in real-time.']\n",
      "--------------------\n"
     ]
    },
    {
     "name": "stderr",
     "output_type": "stream",
     "text": [
      " 73%|███████▎  | 727/1000 [34:33<15:27,  3.40s/it]"
     ]
    },
    {
     "name": "stdout",
     "output_type": "stream",
     "text": [
      "Document: 727\n",
      "Topics: ['DUP: [1] Pattern Recognition: Methods and technologies used to identify and classify patterns in data or physical systems.', 'NEW: [1] Signature Analysis: Techniques used to extract unique features or characteristics from data or systems for comparison and identification purposes.', 'NEW: [1] Orientation Recognition: Ability to identify the orientation of patterns or objects in a target system.', 'NEW: [1] Contextual Pattern Matching: Ability to match patterns in a target system while considering the surrounding context.']\n",
      "--------------------\n"
     ]
    },
    {
     "name": "stderr",
     "output_type": "stream",
     "text": [
      " 73%|███████▎  | 728/1000 [34:36<14:29,  3.20s/it]"
     ]
    },
    {
     "name": "stdout",
     "output_type": "stream",
     "text": [
      "Document: 728\n",
      "Topics: ['NEW: [1] Synchronization Systems: Systems and methods for coordinating the actions of devices through the exchange of pulses or signals.']\n",
      "--------------------\n"
     ]
    },
    {
     "name": "stderr",
     "output_type": "stream",
     "text": [
      " 73%|███████▎  | 729/1000 [34:39<13:53,  3.08s/it]"
     ]
    },
    {
     "name": "stdout",
     "output_type": "stream",
     "text": [
      "Document: 729\n",
      "Topics: ['NEW: [1] Separation Processes: Mentions methods for separating mixtures.', 'NEW: [1] Carbon Dioxide Separation: Specific to the separation of carbon dioxide.', 'DUP: [1] Heat Exchangers: Mentions cooling and heating processes.', 'NEW: [1] Membrane Systems: Mentions membrane technology for separating gases.', 'DUP: [1] Temperature Control: Mentions heating and cooling processes.']\n",
      "--------------------\n"
     ]
    },
    {
     "name": "stderr",
     "output_type": "stream",
     "text": [
      " 73%|███████▎  | 730/1000 [34:42<13:17,  2.95s/it]"
     ]
    },
    {
     "name": "stdout",
     "output_type": "stream",
     "text": [
      "Document: 730\n",
      "Topics: ['DUP: [1] Power Management: Mentions the management and control of power systems.', 'DUP: [1] Wireless Communications: Mentions wireless power transmission and reception.', 'DUP: [1] Control Systems: Mentions the use of control circuits and methods such as pulse-density modulation.']\n",
      "--------------------\n"
     ]
    },
    {
     "name": "stderr",
     "output_type": "stream",
     "text": [
      " 73%|███████▎  | 731/1000 [34:45<13:23,  2.99s/it]"
     ]
    },
    {
     "name": "stdout",
     "output_type": "stream",
     "text": [
      "Document: 731\n",
      "Topics: ['DUP: [1] Wind Energy: Mentions the use of wind power and the evaluation method for a wind power IGBT.', 'DUP: [1] Power Electronics: Mentions the use of IGBTs and power electronics.', 'NEW: [1] Reliability Evaluation: Mentions the evaluation method for the reliability of a wind power IGBT.', 'DUP: [1] Thermal Management: Mentions the calculation of thermal stress cycle numbers and the estimation of the lifetime of an IGBT based on thermal information.']\n",
      "--------------------\n"
     ]
    },
    {
     "name": "stderr",
     "output_type": "stream",
     "text": [
      " 73%|███████▎  | 732/1000 [34:49<15:15,  3.41s/it]"
     ]
    },
    {
     "name": "stdout",
     "output_type": "stream",
     "text": [
      "Document: 732\n",
      "Topics: ['DUP: [1] Exhaust Systems: Mentions systems for expelling exhaust gases from internal combustion engines.', 'DUP: [1] Internal Combustion Engines: Refers to engines that burn fuel inside a combustion chamber.', 'DUP: [1] Engineering Design: Involves the process of creating new products or systems using scientific, economic, social, and practical knowledge.', 'DUP: [1] Manufacturing: Involves the production of goods through physical or chemical transformation of materials.', 'DUP: [1] Material Processing: Refers to the modification of materials to create new products or improve existing ones.', 'DUP: [1] Engineering Controls: Involves the use of engineering principles to manage and regulate processes or systems.', 'DUP: [1] Filters: Used to remove impurities or particles from fluids or gases.', 'DUP: [1] Particle Technology: Deals with the science and technology of particles and their behavior.', 'DUP: [1] Mounting Systems: Refers to the systems used to attach components or structures to other structures or surfaces.', 'NEW: [1] Fastening Devices: Used to securely attach components or structures to other structures or surfaces.']\n",
      "--------------------\n"
     ]
    },
    {
     "name": "stderr",
     "output_type": "stream",
     "text": [
      " 73%|███████▎  | 733/1000 [34:53<15:49,  3.56s/it]"
     ]
    },
    {
     "name": "stdout",
     "output_type": "stream",
     "text": [
      "Document: 733\n",
      "Topics: ['NEW: [1] Steam Generation: Refers to the process of producing steam from a heat source.', 'NEW: [1] Thermal Energy Systems: Encompasses systems that convert thermal energy into other forms of energy.', 'DUP: [1] Heat Exchangers: Devices used to transfer heat from one medium to another without direct contact between the two.', 'NEW: [1] Economizers: Heat exchangers used to recover heat that would otherwise be wasted and use it to preheat feed water.', 'NEW: [1] Evaporators: Devices used to convert a liquid into a gas by heating it.', 'NEW: [1] Flash Tanks: Vessels used to separate a liquid mixture into its component parts by introducing a pressure drop.', 'DUP: [1] Water Systems: Systems designed to manage and distribute water.', 'DUP: [1] Fluid Systems: Systems designed to transport and manage fluids.']\n",
      "--------------------\n"
     ]
    },
    {
     "name": "stderr",
     "output_type": "stream",
     "text": [
      " 73%|███████▎  | 734/1000 [34:56<15:07,  3.41s/it]"
     ]
    },
    {
     "name": "stdout",
     "output_type": "stream",
     "text": [
      "Document: 734\n",
      "Topics: ['DUP: [1] Wireless Communications: Mentions wireless communication technology and devices.', 'DUP: [1] Paging Systems: Mentions paging technology and systems.', 'DUP: [1] Power Management: Mentions power management and power save mode configurations.', 'NEW: [1] Network Nodes: Mentions network nodes and their communication with wireless devices.', 'DUP: [1] Group Communication: Mentions group communication between wireless devices.', 'DUP: [1] Sensor Technology: Implied by the use of wireless devices and their communication functions.']\n",
      "--------------------\n"
     ]
    },
    {
     "name": "stderr",
     "output_type": "stream",
     "text": [
      " 74%|███████▎  | 735/1000 [34:58<13:48,  3.12s/it]"
     ]
    },
    {
     "name": "stdout",
     "output_type": "stream",
     "text": [
      "Document: 735\n",
      "Topics: ['DUP: [1] Cellulosic Materials: Mentions the production of cellulosic nonwoven fabric using a solution of cellulose in an aqueous organic solvent.', 'NEW: [1] Spunbonding: Mentions the process of producing nonwoven fabric by extruding a solution through nozzle holes and stretching the filaments with a gas stream.', 'NEW: [1] Filtration or Separation Technology: Mentions the process of removing contaminations from the spinneret surface using an aqueous fluid and gas stream.']\n",
      "--------------------\n"
     ]
    },
    {
     "name": "stderr",
     "output_type": "stream",
     "text": [
      " 74%|███████▎  | 736/1000 [35:02<14:15,  3.24s/it]"
     ]
    },
    {
     "name": "stdout",
     "output_type": "stream",
     "text": [
      "Document: 736\n",
      "Topics: ['DUP: [1] Wireless Communications: Mentions the use of wireless technology for communication.', 'DUP: [1] Telecommunications: Mentions the exchange of information over significant distances.', 'DUP: [1] Base Stations: Mentions the use of base stations in wireless communication networks.', 'DUP: [1] User Equipment: Mentions the use of user equipment in wireless communication networks.', 'DUP: [1] Power Systems: Mentions the use of power systems for wireless communication networks.', 'DUP: [1] Networking: Mentions the use of networks for communication.', 'DUP: [1] Server Technology: Mentions the use of servers in wireless communication networks.', 'DUP: [1] Electrical Systems: Mentions the use of electrical systems for powering wireless communication networks.', 'DUP: [1] Lighting and Climate Control: Mentions the use of streetlamps in the context of wireless communication networks.']\n",
      "--------------------\n"
     ]
    },
    {
     "name": "stderr",
     "output_type": "stream",
     "text": [
      " 74%|███████▎  | 737/1000 [35:05<13:24,  3.06s/it]"
     ]
    },
    {
     "name": "stdout",
     "output_type": "stream",
     "text": [
      "Document: 737\n",
      "Topics: ['NEW: [1] Safety Devices: Devices used to maintain a safe working environment, including those used for tracking operators and their status using NFC technology.']\n",
      "--------------------\n"
     ]
    },
    {
     "name": "stderr",
     "output_type": "stream",
     "text": [
      " 74%|███████▍  | 738/1000 [35:08<13:22,  3.06s/it]"
     ]
    },
    {
     "name": "stdout",
     "output_type": "stream",
     "text": [
      "Document: 738\n",
      "Topics: ['DUP: [1] Battery Technology: Mentions the study and application of batteries and their components.', 'DUP: [1] Control Systems: Mentions systems used to regulate and direct the operation of other systems or processes.', 'DUP: [1] Electrical Systems: Mentions the study and application of electrical power systems.', 'DUP: [1] Power Management: Mentions the process of controlling or optimizing the use of electrical power.']\n",
      "--------------------\n"
     ]
    },
    {
     "name": "stderr",
     "output_type": "stream",
     "text": [
      " 74%|███████▍  | 739/1000 [35:10<12:32,  2.88s/it]"
     ]
    },
    {
     "name": "stdout",
     "output_type": "stream",
     "text": [
      "Document: 739\n",
      "Topics: ['DUP: [1] Control Systems: This document discusses methods for operating driving controls, specifically for communicating motors. It mentions controlling transmit circuits and analyzing detected signals to verify proper functioning of the transmit circuit. No new topics are introduced.']\n",
      "--------------------\n"
     ]
    },
    {
     "name": "stderr",
     "output_type": "stream",
     "text": [
      " 74%|███████▍  | 740/1000 [35:14<13:32,  3.12s/it]"
     ]
    },
    {
     "name": "stdout",
     "output_type": "stream",
     "text": [
      "Document: 740\n",
      "Topics: ['DUP: [1] Energy: Mentions the production and generation of energy.', 'DUP: [1] Engineering: Mentions the design and construction of apparatuses and systems.', 'DUP: [1] Mechanical Engineering: Mentions the design and construction of mechanical components, such as turbines and pipes.', 'DUP: [1] Power Generation: Mentions the production of electrical power.', 'DUP: [1] Turbines: Mentions the use of turbines to capture energy from a fluid flow.', 'DUP: [1] Generators: Mentions the use of generators to convert mechanical energy into electrical energy.', 'DUP: [1] Fluid Systems: Mentions the use of fluid systems to transport and manipulate fluids.', 'DUP: [1] Machinery: Mentions the use of machinery to perform various functions, such as generating power.']\n",
      "--------------------\n"
     ]
    },
    {
     "name": "stderr",
     "output_type": "stream",
     "text": [
      " 74%|███████▍  | 741/1000 [35:17<13:40,  3.17s/it]"
     ]
    },
    {
     "name": "stdout",
     "output_type": "stream",
     "text": [
      "Document: 741\n",
      "Topics: ['DUP: [1] Vehicle Technology: Mentions vehicle components and systems.', 'DUP: [1] Sensor Technology: Mentions sensors and their applications.', 'NEW: [1] Data Bus Technology: Mentions data transmission systems.', 'DUP: [1] Image Processing: Mentions image manipulation and analysis.', 'DUP: [1] LED Technology: Mentions light-emitting diodes.', 'DUP: [1] Control Systems: Mentions systems used to manage and direct the operation of other systems or processes.']\n",
      "--------------------\n"
     ]
    },
    {
     "name": "stderr",
     "output_type": "stream",
     "text": [
      " 74%|███████▍  | 742/1000 [35:22<15:21,  3.57s/it]"
     ]
    },
    {
     "name": "stdout",
     "output_type": "stream",
     "text": [
      "Document: 742\n",
      "Topics: ['DUP: [1] Aerospace Engineering: Mentions the design and construction of aircraft and spacecraft.', 'DUP: [1] Gas Technology: Mentions the production, processing, and utilization of gases.', 'DUP: [1] Engineering Design: Mentions the process of creating new products or systems using the principles of engineering.', 'DUP: [1] Manufacturing: Mentions the production of goods through the use of machinery, tools, or labor.', 'DUP: [1] Mechanical Engineering: Mentions the application of the principles of physics and mathematics to design, build, and maintain mechanical systems.', 'DUP: [1] Material Processing: Mentions the transformation of raw materials into finished products through various manufacturing processes.', 'DUP: [1] Vacuum Technology: Mentions the principles and applications of vacuum systems.', 'DUP: [1] Material Science: Mentions the study of the properties and behavior of materials.', 'DUP: [1] Engineering Systems: Mentions the design, development, and implementation of engineered systems.', 'DUP: [1] Thermodynamics: Mentions the study of heat and temperature and their relation to energy.', 'DUP: [1] Heat Transfer: Mentions the process of transferring heat energy from one place to another.', 'DUP: [1] Fluid Dynamics: Mentions the study of the behavior of fluids in motion.', 'DUP: [1] Machining: Mentions the process of removing material from a workpiece to create']\n",
      "--------------------\n"
     ]
    },
    {
     "name": "stderr",
     "output_type": "stream",
     "text": [
      " 74%|███████▍  | 743/1000 [35:25<15:34,  3.64s/it]"
     ]
    },
    {
     "name": "stdout",
     "output_type": "stream",
     "text": [
      "Document: 743\n",
      "Topics: ['DUP: [1] Communication Technology: Mentions the use of communication devices and techniques.', 'DUP: [1] Wireless Communications: Mentions wireless communication systems specifically.', 'NEW: [1] Relay Technology: Mentions the use of relay devices in communication systems.', 'NEW: [1] Beamforming: Mentions the use of beamforming technology in communication systems.', 'NEW: [1] Antenna Arrays: Mentions the use of antenna arrays in communication systems.', 'NEW: [1] Data Stream Processing: Mentions the processing of data streams.', 'DUP: [1] Modulation Techniques: Mentions the use of modulation techniques in communication systems.', 'DUP: [1] Radio Frequency Technology: Mentions the use of radio frequency technology.', 'NEW: [1] Intermediate Frequency: Mentions the use of intermediate frequency in communication systems.', 'NEW: [1] Amplifiers: Mentions the use of amplifiers in communication systems.', 'NEW: [1] Demodulation: Mentions the process of demodulating signals.', 'NEW: [1] Remodulation: Mentions the process of remodulating signals.', 'NEW: [1] Transmission: Mentions the process of transmitting data.', 'NEW: [1] Link Establishment: Mentions the process of establishing communication links.', 'NEW: [1] Passive Mode: Mentions the use of passive mode in communication systems.', 'NEW: [1] Active Mode: M']\n",
      "--------------------\n"
     ]
    },
    {
     "name": "stderr",
     "output_type": "stream",
     "text": [
      " 74%|███████▍  | 744/1000 [35:30<16:06,  3.77s/it]"
     ]
    },
    {
     "name": "stdout",
     "output_type": "stream",
     "text": [
      "Document: 744\n",
      "Topics: ['NEW: [1] Cogeneration: A system that generates both heat and electricity.', 'NEW: [1] Building Systems: Refers to the various components and subsystems that make up a building.', 'NEW: [1] Heating and Cooling Systems: Refers to the systems used to maintain a comfortable temperature in a building.', 'DUP: [1] Generators: A device that converts mechanical energy into electrical energy.', 'DUP: [1] Process Control: The use of computers, sensors, and other automated devices to manage industrial processes.', 'DUP: [1] Energy Management: The process of planning, organizing, and optimizing energy use.', 'DUP: [1] Renewable Energy: Energy derived from natural sources such as sunlight, wind, and geothermal heat.', 'DUP: [1] Cost Analysis: The process of evaluating the costs and benefits of a particular investment or decision.', 'DUP: [1] Fuel Systems: Refers to the systems used to store, transport, and deliver fuel to a generator or engine.']\n",
      "--------------------\n"
     ]
    },
    {
     "name": "stderr",
     "output_type": "stream",
     "text": [
      " 74%|███████▍  | 745/1000 [35:33<15:08,  3.56s/it]"
     ]
    },
    {
     "name": "stdout",
     "output_type": "stream",
     "text": [
      "Document: 745\n",
      "Topics: ['DUP: [1] Communication Technology: Mentions the use and implementation of communication systems and networks.', 'DUP: [1] Networking: Mentions the interconnection of multiple devices or systems.', 'NEW: [1] Cluster Systems: Mentions a group of interconnected nodes that function together.', 'NEW: [1] Network Architecture: Mentions the design and organization of a communication network.', 'NEW: [1] Dynamic Networks: Mentions networks that can change or adapt in structure or behavior.', 'NEW: [1] Node Communication: Mentions the exchange of information between nodes in a network.', 'NEW: [1] Cluster Formation: Mentions the process of nodes coming together to form a cluster.', 'NEW: [1] Cluster Management: Mentions the coordination and control of a cluster of nodes.', 'NEW: [1] Cluster Head Selection: Mentions the process of selecting a node to act as the cluster head.', 'NEW: [1] Role Transfer: Mentions the ability of a node to take on a different role within a system.']\n",
      "--------------------\n"
     ]
    },
    {
     "name": "stderr",
     "output_type": "stream",
     "text": [
      " 75%|███████▍  | 746/1000 [35:37<16:08,  3.81s/it]"
     ]
    },
    {
     "name": "stdout",
     "output_type": "stream",
     "text": [
      "Document: 746\n",
      "Topics: ['DUP: [1] Engineering Design: Design of systems and components, such as charge air coolers, for vehicles or engines.', 'DUP: [1] Cooling Systems: Systems used to remove heat from various applications, including charge air coolers.', 'DUP: [1] Thermal Management: Techniques and systems used to manage temperature in various applications, including cooling systems.', 'DUP: [1] Automotive Technology: Technology related to the design, manufacturing, and operation of vehicles, including cooling systems and thermal management.', 'DUP: [1] Compressors: Devices used to compress gases, including those used in cooling systems and engine applications.', 'DUP: [1] Heat Exchangers: Devices used for heat transfer between two fluids, including charge air coolers.', 'DUP: [1] Vehicle Technology: Technology related to the design, manufacturing, and operation of vehicles, including cooling systems and thermal management.', 'DUP: [1] Mechanical Engineering: Application of engineering principles to design, build, and maintain mechanical systems, including cooling systems and thermal management.', 'DUP: [1] Industrial Automation: Use of automation and control systems in industrial processes, including cooling systems and thermal management.', 'DUP: [1] Engineering Systems: Design, development, and operation of engineering systems, including cooling systems and thermal management.']\n",
      "--------------------\n"
     ]
    },
    {
     "name": "stderr",
     "output_type": "stream",
     "text": [
      " 75%|███████▍  | 747/1000 [35:42<16:58,  4.02s/it]"
     ]
    },
    {
     "name": "stdout",
     "output_type": "stream",
     "text": [
      "Document: 747\n",
      "Topics: ['DUP: [1] Coatings: Mentions the application of thin layers on surfaces.', 'DUP: [1] Thin Films: Mentions films with a small thickness.', 'NEW: [1] Reflection Properties: Mentions the ability of a material to reflect light or radiation.', 'NEW: [1] Infrared Radiation: Mentions the part of the electromagnetic spectrum with longer wavelengths than visible light.', 'NEW: [1] Solar Radiation: Mentions the energy emitted by the sun.', 'DUP: [1] Metallic Functional Layers: Mentions layers made of metals with specific functions.', 'NEW: [1] Silver: Mentions the chemical element with the symbol Ag.', 'NEW: [1] Metal Alloys: Mentions mixtures of metals.', 'DUP: [1] Antireflection Coatings: Mentions coatings that reduce reflection.', 'NEW: [1] Dielectric Layers: Mentions insulating layers.', 'NEW: [1] Terminal Layer: Mentions the outermost layer of a structure.', 'NEW: [1] Metallic Layer: Mentions a layer made of metal.', 'NEW: [1] Zinc: Mentions the chemical element with the symbol Zn.', 'NEW: [1] Tin: Mentions the chemical element with the symbol Sn.', 'NEW: [1] Ratio: Mentions a relationship between two quantities.']\n",
      "--------------------\n"
     ]
    },
    {
     "name": "stderr",
     "output_type": "stream",
     "text": [
      " 75%|███████▍  | 748/1000 [35:45<16:35,  3.95s/it]"
     ]
    },
    {
     "name": "stdout",
     "output_type": "stream",
     "text": [
      "Document: 748\n",
      "Topics: ['DUP: [1] Engineering: Mentions the design, construction, and operation of structures, machines, devices, and systems.', 'DUP: [1] Automotive Technology: Mentions the technology related to automobiles and vehicles.', 'DUP: [1] Exhaust Systems: Mentions systems used to expel exhaust gases from internal combustion engines.', 'DUP: [1] Emission Control Systems: Mentions systems used to reduce the amount of pollutants released into the environment by exhaust gases.', 'DUP: [1] Water Systems: Mentions systems used to transport, store, and manage water.', 'DUP: [1] Fluid Systems: Mentions systems used to transport and manage various types of fluids.', 'NEW: [1] Tanks: Mentions structures used to store liquids or gases.', 'DUP: [1] Pumps: Mentions devices used to move fluids from one place to another.', 'DUP: [1] Valves: Mentions devices used to control the flow of fluids.', 'NEW: [1] Electromagnetic Devices: Mentions devices that use electromagnetic fields to function.', 'NEW: [1] Urea Technology: Mentions the use of urea in various applications, such as exhaust gas treatment.']\n",
      "--------------------\n"
     ]
    },
    {
     "name": "stderr",
     "output_type": "stream",
     "text": [
      " 75%|███████▍  | 749/1000 [35:48<14:54,  3.56s/it]"
     ]
    },
    {
     "name": "stdout",
     "output_type": "stream",
     "text": [
      "Document: 749\n",
      "Topics: ['DUP: [1] Automotive Technology: Mentions technologies related to automobiles and vehicles.', 'NEW: [1] Four Wheel Drive Systems: Mentions systems used in vehicles to power all four wheels.', 'DUP: [1] Engine Control Systems: Mentions systems used to manage and control the operation of an engine.', 'DUP: [1] Power Management: Mentions managing and controlling the distribution and use of power.']\n",
      "--------------------\n"
     ]
    },
    {
     "name": "stderr",
     "output_type": "stream",
     "text": [
      " 75%|███████▌  | 750/1000 [35:51<14:10,  3.40s/it]"
     ]
    },
    {
     "name": "stdout",
     "output_type": "stream",
     "text": [
      "Document: 750\n",
      "Topics: ['DUP: [1] Hybrid Vehicles: Mentions vehicles that use a combination of electric and internal combustion engines.', 'DUP: [1] Control Systems: Mentions systems used to regulate and direct the operation of other systems or processes.', 'NEW: [1] Clutch Systems: Mentions components used to transmit power from the engine to the transmission.', 'DUP: [1] Threshold Values: Mentions values used as a reference point or limit.', 'DUP: [1] Engine Technology: Mentions technologies related to internal combustion engines.', 'DUP: [1] Motor Technology: Mentions technologies related to electric motors.']\n",
      "--------------------\n"
     ]
    },
    {
     "name": "stderr",
     "output_type": "stream",
     "text": [
      " 75%|███████▌  | 751/1000 [35:54<13:45,  3.32s/it]"
     ]
    },
    {
     "name": "stdout",
     "output_type": "stream",
     "text": [
      "Document: 751\n",
      "Topics: ['DUP: [1] Wind Energy: Mentions the generation of electricity from wind using turbines.', 'DUP: [1] Electrical Systems: Mentions the use of electrical components such as generators, circuit breakers, and controllers.', 'DUP: [1] Power Management: Mentions the control and regulation of electrical power systems.', 'DUP: [1] Control Systems: Mentions the use of systems for controlling and regulating other systems.', 'DUP: [1] Engineering Design: Mentions the process of designing and developing new products or systems.', 'DUP: [1] Mechanical Engineering: Mentions the application of engineering principles to mechanical systems.', 'DUP: [1] Industrial Automation: Mentions the use of automated systems in industrial processes.']\n",
      "--------------------\n"
     ]
    },
    {
     "name": "stderr",
     "output_type": "stream",
     "text": [
      " 75%|███████▌  | 752/1000 [35:58<14:10,  3.43s/it]"
     ]
    },
    {
     "name": "stdout",
     "output_type": "stream",
     "text": [
      "Document: 752\n",
      "Topics: ['DUP: [1] Aviation Technology: Mentions the design and construction of aircraft, including rotary-wing aircraft and their components.', 'DUP: [1] Composite Materials: Mentions materials used for the outer covering and filling material of the rotor blade.', 'DUP: [1] Material Processing: Mentions the manufacturing process of the rotor blade and its components.', 'DUP: [1] Structural Design: Mentions the design of the rotor blade and its components, including the cavity, filling material, and partition.']\n",
      "--------------------\n"
     ]
    },
    {
     "name": "stderr",
     "output_type": "stream",
     "text": [
      " 75%|███████▌  | 753/1000 [36:01<14:25,  3.51s/it]"
     ]
    },
    {
     "name": "stdout",
     "output_type": "stream",
     "text": [
      "Document: 753\n",
      "Topics: ['DUP: [1] Wind Energy: Mentions the use of wind as a source of energy.', 'DUP: [1] Engineering Design: Mentions the process of designing and developing a product or system.', 'DUP: [1] Mechanical Engineering: Mentions the application of principles of physics and mathematics to design, build, and maintain mechanical systems.', 'DUP: [1] Manufacturing: Mentions the process of producing goods or products on a large scale.', 'DUP: [1] Technology: Mentions the application of scientific knowledge for practical purposes.']\n",
      "--------------------\n"
     ]
    },
    {
     "name": "stderr",
     "output_type": "stream",
     "text": [
      " 75%|███████▌  | 754/1000 [36:04<12:49,  3.13s/it]"
     ]
    },
    {
     "name": "stdout",
     "output_type": "stream",
     "text": [
      "Document: 754\n",
      "Topics: ['DUP: [1] Electrical Systems: Mentions the use and control of electrical currents.', 'DUP: [1] Power Electronics: Mentions the use of electronic devices to control electrical power.', 'DUP: [1] Control Systems: Mentions the use of systems to regulate and manage processes.']\n",
      "--------------------\n"
     ]
    },
    {
     "name": "stderr",
     "output_type": "stream",
     "text": [
      " 76%|███████▌  | 755/1000 [36:08<13:35,  3.33s/it]"
     ]
    },
    {
     "name": "stdout",
     "output_type": "stream",
     "text": [
      "Document: 755\n",
      "Topics: ['NEW: [1] Monitoring Systems: A system used to observe and record data from a process or installation.', 'NEW: [1] Network Topology: The arrangement of interconnected devices in a computer network.', 'DUP: [1] Data Transmission: The sending and receiving of data between two or more devices.', 'DUP: [1] Control Systems: A system used to manage, direct, or regulate the behavior of other systems or processes.', 'DUP: [1] Thresholds: A limit or boundary beyond which a particular value is considered significant or noteworthy.', 'NEW: [1] Graphical Representation: A visual representation of data or information.', 'NEW: [1] Visual Displays: A device used to display visual information.', 'NEW: [1] Location Information: Data that identifies the position or location of a particular item or point.']\n",
      "--------------------\n"
     ]
    },
    {
     "name": "stderr",
     "output_type": "stream",
     "text": [
      " 76%|███████▌  | 756/1000 [36:10<12:42,  3.13s/it]"
     ]
    },
    {
     "name": "stdout",
     "output_type": "stream",
     "text": [
      "Document: 756\n",
      "Topics: ['DUP: [1] Battery Technology: Mentions various types of batteries and their components, including lead acid batteries and their cells.', 'DUP: [1] Material Science: Mentions materials used in battery components, such as titanium foil and titanium silicide.']\n",
      "--------------------\n"
     ]
    },
    {
     "name": "stderr",
     "output_type": "stream",
     "text": [
      " 76%|███████▌  | 757/1000 [36:13<12:06,  2.99s/it]"
     ]
    },
    {
     "name": "stdout",
     "output_type": "stream",
     "text": [
      "Document: 757\n",
      "Topics: ['NEW: [1] Environmental Systems: Mentions systems designed to manage and regulate environmental conditions.', 'DUP: [1] Greenhouses: Specific type of environmental system used for growing plants under controlled conditions.', 'NEW: [1] Renewable Resources: Mentions resources that are naturally replenished and can be used sustainably.', 'NEW: [1] Weather Information: Mentions data related to atmospheric conditions.', 'NEW: [1] Optimization Control Schemes: Mentions methods for controlling systems based on optimal outcomes.']\n",
      "--------------------\n"
     ]
    },
    {
     "name": "stderr",
     "output_type": "stream",
     "text": [
      " 76%|███████▌  | 758/1000 [36:16<11:54,  2.95s/it]"
     ]
    },
    {
     "name": "stdout",
     "output_type": "stream",
     "text": [
      "Document: 758\n",
      "Topics: ['DUP: [1] Transmission Systems: Mentions systems used to transmit power from a power source to mechanical components.', 'NEW: [1] Planetary Gear Sets: Mentions sets of gears arranged in such a way that each gear in the set revolves around a common axis.', 'DUP: [1] Electric Motors: Mentions devices that convert electrical energy into mechanical energy.', 'DUP: [1] Vehicle Technology: Mentions technology related to vehicles, including their design, construction, and operation.']\n",
      "--------------------\n"
     ]
    },
    {
     "name": "stderr",
     "output_type": "stream",
     "text": [
      " 76%|███████▌  | 759/1000 [36:19<12:44,  3.17s/it]"
     ]
    },
    {
     "name": "stdout",
     "output_type": "stream",
     "text": [
      "Document: 759\n",
      "Topics: ['DUP: [1] Nuclear Technology: Mentions the use of nuclear reactions for generating heat or electricity.', 'DUP: [1] Engineering Design: Mentions the process of creating new products or systems through a systematic approach.', 'DUP: [1] Materials Science: Mentions the study of the properties and behavior of various materials.', 'DUP: [1] Manufacturing: Mentions the process of producing goods on a large scale.', 'DUP: [1] Energy: Mentions the utilization of various energy sources.', 'DUP: [1] Reactor Technology: Mentions the design and operation of nuclear reactors.', 'NEW: [1] Reflectors: Mentions materials or structures used to reflect or redirect energy or radiation.', 'NEW: [1] Fast Reactors: Mentions nuclear reactors that operate with fast neutrons instead of thermal neutrons.', 'NEW: [1] Molten Salt Reactors: Mentions nuclear reactors that use molten salt as a coolant and a solvent for the nuclear fuel.']\n",
      "--------------------\n"
     ]
    },
    {
     "name": "stderr",
     "output_type": "stream",
     "text": [
      " 76%|███████▌  | 760/1000 [36:24<14:43,  3.68s/it]"
     ]
    },
    {
     "name": "stdout",
     "output_type": "stream",
     "text": [
      "Document: 760\n",
      "Topics: ['DUP: [1] Cooling Systems: Systems used to remove heat from a process or environment.', 'NEW: [1] Electrical Motors: Devices that convert electrical energy into mechanical energy.', 'NEW: [1] Liquid Cooling: A method of cooling using a liquid as a cooling medium.', 'DUP: [1] Heat Exchangers: Devices used to transfer heat from one medium to another.', 'DUP: [1] Engineering Design: The process of creating new products or systems using scientific, economic, social, and practical knowledge.', 'DUP: [1] Manufacturing: The process of producing goods or products on a large scale using machinery.', 'DUP: [1] Material Processing: The modification of raw materials into a desired form or product.', 'DUP: [1] Machining: The process of removing material from a workpiece using various tools and techniques.', 'DUP: [1] Mechanical Engineering: The branch of engineering that deals with the design, construction, and operation of mechanical systems.', 'DUP: [1] Industrial Automation: The use of control systems, sensors, and machines to automate industrial processes.']\n",
      "--------------------\n"
     ]
    },
    {
     "name": "stderr",
     "output_type": "stream",
     "text": [
      " 76%|███████▌  | 761/1000 [36:27<13:12,  3.31s/it]"
     ]
    },
    {
     "name": "stdout",
     "output_type": "stream",
     "text": [
      "Document: 761\n",
      "Topics: ['DUP: [1] Material Processing: Mentions the manipulation of materials to transform or modify their properties.', 'DUP: [1] Metallurgy: Specifically mentions the processing of metals.', 'DUP: [1] Heat Transfer: Mentions the transfer of heat from one place to another.', 'DUP: [1] Cooling Systems: Mentions systems used to cool materials or substances.']\n",
      "--------------------\n"
     ]
    },
    {
     "name": "stderr",
     "output_type": "stream",
     "text": [
      " 76%|███████▌  | 762/1000 [36:31<14:07,  3.56s/it]"
     ]
    },
    {
     "name": "stdout",
     "output_type": "stream",
     "text": [
      "Document: 762\n",
      "Topics: ['DUP: [1] Engineering: Mentions the application of scientific, economic, social, and practical knowledge to design, build, and maintain structures, machines, devices, systems, and processes.', 'DUP: [1] Automotive Technology: Mentions the science and technology related to the design, construction, and operation of motor vehicles.', 'NEW: [1] Hybrid Technology: Mentions the use of two or more distinct types of power sources to provide propulsion.', 'DUP: [1] Energy: Mentions the capability of doing work.', 'DUP: [1] Electrical Systems: Mentions the components and principles used to distribute or control electricity.', 'DUP: [1] Combustion Engines: Mentions engines that burn fuel to produce power.', 'DUP: [1] Compressors: Mentions devices used to compress gases or liquids.', 'DUP: [1] Variable Speed Control: Mentions the ability to adjust the speed of a motor or other mechanical device.', 'DUP: [1] Process Control: Mentions the regulation and monitoring of industrial processes.', 'DUP: [1] Performance Control: Mentions the regulation and optimization of the operation of a system or device.', 'DUP: [1] Limit Control: Mentions the regulation of a system or process to prevent it from exceeding a certain limit.', 'DUP: [1] Industrial Automation: Mentions the use of control systems and machines to automate industrial']\n",
      "--------------------\n"
     ]
    },
    {
     "name": "stderr",
     "output_type": "stream",
     "text": [
      " 76%|███████▋  | 763/1000 [36:35<14:35,  3.69s/it]"
     ]
    },
    {
     "name": "stdout",
     "output_type": "stream",
     "text": [
      "Document: 763\n",
      "Topics: ['DUP: [1] Catalysis: Mentions the process of increasing the rate of a chemical reaction between two or more substances without adding heat or chemical agents.', 'DUP: [1] Catalysts: Mentions substances that increase the rate of a chemical reaction without being consumed in the process.', 'DUP: [1] Material Science: Mentions the scientific study of materials and their properties.', 'DUP: [1] Engineering: Mentions the application of scientific, economic, social, and practical knowledge to design, build, and maintain structures, machines, devices, systems, and processes.', 'DUP: [1] Metallurgy: Mentions the science and technology of metals and their production and processing.', 'DUP: [1] Ceramics: Mentions the inorganic, non-metallic materials made from clay and other non-metallic substances through heating and chemical reactions.', 'DUP: [1] Nanotechnology: Mentions the manipulation of matter on an atomic, molecular, and supramolecular scale for industrial, medical, and other applications.', 'DUP: [1] Chemistry: Mentions the scientific study of the properties, composition, and structure of matter and the chemical reactions that occur between different substances.', 'DUP: [1] Material Processing: Mentions the methods and techniques used to transform raw materials into finished products.', 'DUP: [1] Manufacturing: Mentions']\n",
      "--------------------\n"
     ]
    },
    {
     "name": "stderr",
     "output_type": "stream",
     "text": [
      " 76%|███████▋  | 764/1000 [36:38<13:18,  3.38s/it]"
     ]
    },
    {
     "name": "stdout",
     "output_type": "stream",
     "text": [
      "Document: 764\n",
      "Topics: ['DUP: [1] Wireless Communications: Mentions mobile stations and base station subsystems, and discusses methods related to wireless communication.']\n",
      "--------------------\n"
     ]
    },
    {
     "name": "stderr",
     "output_type": "stream",
     "text": [
      " 76%|███████▋  | 765/1000 [36:43<15:18,  3.91s/it]"
     ]
    },
    {
     "name": "stdout",
     "output_type": "stream",
     "text": [
      "Document: 765\n",
      "Topics: ['DUP: [1] Engineering: Mentions the design, construction, and use of engines and mechanical systems.', 'DUP: [1] Manufacturing: Mentions the process of producing goods, typically through physical or chemical transformation of materials.', 'DUP: [1] Mechanical Engineering: A subfield of engineering that deals with the design, construction, and operation of mechanical systems.', 'DUP: [1] Machinery: Refers to complex mechanical and electrical systems used to convert energy into useful work.', 'DUP: [1] Gearboxes: Mechanical devices used to transmit power between rotating shafts while reducing speed and increasing torque.', 'NEW: [1] Turbo compound systems: Systems that use waste heat from a gas turbine to generate additional power.', 'DUP: [1] Turbines: Machines that convert rotational energy into mechanical energy, typically using a gas or steam flow.', 'DUP: [1] Crankshafts: A component of an engine that converts reciprocating motion into rotational motion.', 'DUP: [1] Bearings: Components that reduce friction between moving parts by providing a smooth surface for contact.', 'DUP: [1] Lubrication Systems: Systems used to reduce friction and wear in mechanical components by supplying lubricants.']\n",
      "--------------------\n"
     ]
    },
    {
     "name": "stderr",
     "output_type": "stream",
     "text": [
      " 77%|███████▋  | 766/1000 [36:45<13:50,  3.55s/it]"
     ]
    },
    {
     "name": "stdout",
     "output_type": "stream",
     "text": [
      "Document: 766\n",
      "Topics: ['DUP: [1] Engineering: Mentions methods and apparatus for engineering applications, such as crushing and transporting clay.', 'DUP: [1] Mechanical Engineering: Mentions mechanical components, such as movable truss conveyor support apparatuses, movable crusher picker apparatuses, and tracked crushers.', 'DUP: [1] Manufacturing: Mentions processes for manufacturing, such as crushing clay.', 'DUP: [1] Technology: Mentions advanced methods and apparatus, such as adjustable hoppers and movable crusher picker apparatuses.', 'DUP: [1] Machinery: Mentions specific types of machinery, such as crushers and conveyors.', 'DUP: [1] Mining: Mentions the extraction of raw materials, such as clay.', 'DUP: [1] Material Processing: Mentions the transformation of raw materials into finished products, such as crushed clay.']\n",
      "--------------------\n"
     ]
    },
    {
     "name": "stderr",
     "output_type": "stream",
     "text": [
      " 77%|███████▋  | 767/1000 [36:48<12:33,  3.23s/it]"
     ]
    },
    {
     "name": "stdout",
     "output_type": "stream",
     "text": [
      "Document: 767\n",
      "Topics: ['DUP: [1] Lighting Technology: Outdoor lighting lamps, solar panels, rotation mechanisms.']\n",
      "--------------------\n"
     ]
    },
    {
     "name": "stderr",
     "output_type": "stream",
     "text": [
      " 77%|███████▋  | 768/1000 [36:51<12:04,  3.12s/it]"
     ]
    },
    {
     "name": "stdout",
     "output_type": "stream",
     "text": [
      "Document: 768\n",
      "Topics: ['NEW: [1] Power Supply: A system that converts electrical energy from one form to another and supplies it to an electrical load.', 'NEW: [1] AC Power: Alternating current electricity.', 'NEW: [1] DC Power: Direct current electricity.', 'DUP: [1] Power Conversion: The process of changing electrical energy from one form to another.', 'NEW: [1] Load Balancer: A device that distributes workloads across multiple computing resources to optimize performance and efficiency.']\n",
      "--------------------\n"
     ]
    },
    {
     "name": "stderr",
     "output_type": "stream",
     "text": [
      " 77%|███████▋  | 769/1000 [36:54<12:05,  3.14s/it]"
     ]
    },
    {
     "name": "stdout",
     "output_type": "stream",
     "text": [
      "Document: 769\n",
      "Topics: ['DUP: [1] Aviation Technology: Mentions aircraft design and technology.', 'DUP: [1] Wing Design: Mentions the design of aircraft wings.', 'NEW: [1] Laminar Flow: Mentions the smooth flow of air over a surface.', 'NEW: [1] Transition Flow: Mentions the change from laminar to turbulent flow.', 'NEW: [1] Airflow Control: Mentions the manipulation of airflow.', 'NEW: [1] Flight Performance: Mentions the efficiency and effectiveness of aircraft in flight.', 'NEW: [1] Wing Loads: Mentions the forces acting on aircraft wings.', 'DUP: [1] Material Science: Mentions the properties and behavior of materials.', 'DUP: [1] Engineering Design: Mentions the process of designing and building structures or systems.']\n",
      "--------------------\n"
     ]
    },
    {
     "name": "stderr",
     "output_type": "stream",
     "text": [
      " 77%|███████▋  | 770/1000 [36:58<12:40,  3.31s/it]"
     ]
    },
    {
     "name": "stdout",
     "output_type": "stream",
     "text": [
      "Document: 770\n",
      "Topics: ['DUP: [1] Internal Combustion Engines: Mentions the operation and control of internal combustion engines.', 'DUP: [1] Engineering Controls: Mentions the design and implementation of control systems for various engineering applications.', 'DUP: [1] Temperature Control: Mentions the regulation and maintenance of temperature in various systems and processes.', 'DUP: [1] Exhaust Systems: Mentions the design, operation, and control of exhaust systems.', 'DUP: [1] Emission Control Systems: Mentions the systems and technologies used to reduce emissions from various sources.', 'DUP: [1] Sensor Technology: Mentions the use of sensors to measure and monitor various physical and chemical properties.', 'NEW: [1] Determination Processes: Mentions the processes used to make decisions based on data and information.', 'DUP: [1] Anomaly Detection: Mentions the identification of unusual or unexpected events or conditions.', 'NEW: [1] Threshold Control: Mentions the use of thresholds to define limits or boundaries for various processes or systems.']\n",
      "--------------------\n"
     ]
    },
    {
     "name": "stderr",
     "output_type": "stream",
     "text": [
      " 77%|███████▋  | 771/1000 [37:01<12:55,  3.39s/it]"
     ]
    },
    {
     "name": "stdout",
     "output_type": "stream",
     "text": [
      "Document: 771\n",
      "Topics: ['NEW: [1] Data Security: Techniques for securing data through encryption and distributed ledger technology.', 'NEW: [1] Distributed Ledger Technology: A system for recording transactions across multiple computers or nodes.', 'NEW: [1] Data Storage: Techniques for storing encrypted measurement data securely in a distributed system.', 'NEW: [1] Immutable Records: Techniques for creating and verifying unalterable records of storage operations.', 'NEW: [1] Process Plants: Industrial facilities that generate measurement data for storage and analysis.', 'NEW: [1] Data Subscribers: Entities that retrieve encrypted measurement data from storage centers.', 'NEW: [1] Encryption: Techniques for converting plaintext data into a secure format for transmission and storage.', 'NEW: [1] Transaction Recording: Techniques for recording storage operations in a distributed ledger.', 'DUP: [1] Verification: Techniques for verifying the authenticity of encrypted measurement data based on distributed ledger information.']\n",
      "--------------------\n"
     ]
    },
    {
     "name": "stderr",
     "output_type": "stream",
     "text": [
      " 77%|███████▋  | 772/1000 [37:04<11:48,  3.11s/it]"
     ]
    },
    {
     "name": "stdout",
     "output_type": "stream",
     "text": [
      "Document: 772\n",
      "Topics: ['DUP: [1] Wireless Communications: Mentions methods, apparatus, and systems for wireless communication.', 'DUP: [1] Networking: Mentions wide area network (WAN) scheduling information and mesh network schedule.', 'DUP: [1] Power Management: Mentions power levels below a power level threshold.']\n",
      "--------------------\n"
     ]
    },
    {
     "name": "stderr",
     "output_type": "stream",
     "text": [
      " 77%|███████▋  | 773/1000 [37:07<11:43,  3.10s/it]"
     ]
    },
    {
     "name": "stdout",
     "output_type": "stream",
     "text": [
      "Document: 773\n",
      "Topics: ['NEW: [1] Fall Detection Technology: Technology used to detect and report falls, often involving sensors and image analysis.', 'NEW: [1] Image Analysis: Processing and interpreting visual information to extract meaningful data.', 'DUP: [1] Sensor Technology: Technology used to measure physical properties and convert them into electrical signals.', 'NEW: [1] Patient Monitoring Systems: Systems used to monitor and analyze patient health and wellbeing.', 'DUP: [1] Building Automation Systems: Systems used to control and automate various functions in buildings.', 'DUP: [1] Camera Technology: Technology related to the capture and processing of images and videos.']\n",
      "--------------------\n"
     ]
    },
    {
     "name": "stderr",
     "output_type": "stream",
     "text": [
      " 77%|███████▋  | 774/1000 [37:10<11:38,  3.09s/it]"
     ]
    },
    {
     "name": "stdout",
     "output_type": "stream",
     "text": [
      "Document: 774\n",
      "Topics: ['DUP: [1] Wind Energy: Mentions the use of wind as a source of energy.', 'DUP: [1] Engineering Design: Mentions the design process.', 'DUP: [1] Manufacturing: Mentions the production process.', 'DUP: [1] Composite Materials: Mentions the use of composite materials.', 'DUP: [1] Aerospace Engineering: Mentions the engineering of aircraft or spacecraft.', 'DUP: [1] Mechanical Engineering: Mentions the application of mechanical principles.', 'DUP: [1] Material Science: Mentions the study of materials and their properties.', 'DUP: [1] Structural Design: Mentions the design of structures.', 'DUP: [1] Maintenance and Efficiency: Mentions the maintenance and optimization of systems.']\n",
      "--------------------\n"
     ]
    },
    {
     "name": "stderr",
     "output_type": "stream",
     "text": [
      " 78%|███████▊  | 775/1000 [37:12<11:05,  2.96s/it]"
     ]
    },
    {
     "name": "stdout",
     "output_type": "stream",
     "text": [
      "Document: 775\n",
      "Topics: ['DUP: [1] Automotive Technology: Mentions the technology used in vehicles, including electronic control units and automated driving modes.', 'DUP: [1] Security Systems: Mentions systems designed to protect against unauthorized access.']\n",
      "--------------------\n"
     ]
    },
    {
     "name": "stderr",
     "output_type": "stream",
     "text": [
      " 78%|███████▊  | 776/1000 [37:16<11:52,  3.18s/it]"
     ]
    },
    {
     "name": "stdout",
     "output_type": "stream",
     "text": [
      "Document: 776\n",
      "Topics: ['NEW: [1] Hydropower: Generation of electrical power from moving water.', 'NEW: [1] Tidal Energy: Extraction of energy from tidal waves.', 'NEW: [1] Water Technology: Application of technology to water and related processes.', 'DUP: [1] Energy Storage: Systems for storing electrical energy.', 'DUP: [1] Mechanical Engineering: Application of engineering principles to mechanical systems.', 'DUP: [1] Engineering Design: Process of creating new products or systems using the principles of engineering.', 'DUP: [1] Marine Technology: Application of technology to marine environments and vessels.', 'DUP: [1] Underwater Technology: Application of technology to underwater environments.', 'DUP: [1] Mechanical Systems: Physical systems that convert energy into mechanical motion.', 'DUP: [1] Industrial Automation: Use of control systems to automate industrial processes.']\n",
      "--------------------\n"
     ]
    },
    {
     "name": "stderr",
     "output_type": "stream",
     "text": [
      " 78%|███████▊  | 777/1000 [37:19<11:41,  3.15s/it]"
     ]
    },
    {
     "name": "stdout",
     "output_type": "stream",
     "text": [
      "Document: 777\n",
      "Topics: ['DUP: [1] Sensor Technology: Mentions the use of sensors to detect operational states of vehicle components.', 'DUP: [1] Machine Learning: Mentions the use of machine learning algorithms for contaminant detection.', 'DUP: [1] Image Processing: Mentions the analysis of image data to determine the physical state of refuse.', 'NEW: [1] Refuse Collection: Mentions the collection and analysis of refuse using a refuse collection vehicle.', 'DUP: [1] Data Storage: Mentions storing the classification of image data in a machine-readable medium.']\n",
      "--------------------\n"
     ]
    },
    {
     "name": "stderr",
     "output_type": "stream",
     "text": [
      " 78%|███████▊  | 778/1000 [37:22<11:12,  3.03s/it]"
     ]
    },
    {
     "name": "stdout",
     "output_type": "stream",
     "text": [
      "Document: 778\n",
      "Topics: ['DUP: [1] Sensor Technology: Mentions the use of sensors for detecting or measuring various physical or chemical properties.', 'DUP: [1] Gas Technology: Mentions the use of gases, particularly NOx, and their related technologies.', 'DUP: [1] Engineering Design: Mentions the design and development of a method for monitoring a NOx sensor.']\n",
      "--------------------\n"
     ]
    },
    {
     "name": "stderr",
     "output_type": "stream",
     "text": [
      " 78%|███████▊  | 779/1000 [37:27<12:55,  3.51s/it]"
     ]
    },
    {
     "name": "stdout",
     "output_type": "stream",
     "text": [
      "Document: 779\n",
      "Topics: ['DUP: [1] Engineering Design: Design of fuel burners and their components.', 'DUP: [1] Combustion Technology: Study of combustion processes and related technologies.', 'DUP: [1] Manufacturing: Production of fuel burners and their components.', 'DUP: [1] Technology: Application of scientific knowledge for practical purposes.', 'DUP: [1] Engineering: Application of mathematics, physics, and other sciences to design, build, and maintain structures, machines, devices, systems, and processes.', 'DUP: [1] Mechanical Engineering: Application of engineering principles to mechanical systems and their design, manufacturing, and maintenance.', 'DUP: [1] Energy: The capability of doing work; often measured in terms of heat or electricity.', 'DUP: [1] Industrial Automation: Use of control systems, sensors, and machines to automate industrial processes.', 'DUP: [1] Mechanical Systems: Design, manufacturing, and operation of mechanical systems.', 'DUP: [1] Performance Control: Control of the operation of a system to achieve desired performance.', 'DUP: [1] Limit Control: Control of a system to prevent it from exceeding certain limits.', 'DUP: [1] Industrial Processes: Manufacturing or production processes used in industry.', 'DUP: [1] Material Processing: Processing of raw materials into finished products.', 'DUP: [1] Material Science: Study of the properties and behavior of materials.', 'DUP: [1] Nanotechnology: Application of nanoscale materials and technology.']\n",
      "--------------------\n"
     ]
    },
    {
     "name": "stderr",
     "output_type": "stream",
     "text": [
      " 78%|███████▊  | 780/1000 [37:31<14:01,  3.83s/it]"
     ]
    },
    {
     "name": "stdout",
     "output_type": "stream",
     "text": [
      "Document: 780\n",
      "Topics: ['NEW: [1] Power Supplies: Systems that convert and regulate electrical power from an input source to provide electrical power to an electrical load.', 'NEW: [1] Electrical Power Systems: The production, transmission, and distribution of electrical power.', 'NEW: [1] Power Modules: Electrical components that convert AC power to DC power.', 'NEW: [1] Converters: Electrical devices that change the form of electrical power.', 'NEW: [1] Control Circuits: Electronic circuits that regulate and direct the operation of other circuits or systems.', 'NEW: [1] Star Connection: A type of electrical connection where each component is connected to a common point.', 'NEW: [1] Parallel Connection: A type of electrical connection where components are connected to the same bus or terminal.', 'NEW: [1] Intermediate Bus Voltage: The voltage level between the first and second converters in a power module.', 'NEW: [1] DC Supply Voltage: A constant electrical voltage used to power electrical devices.', 'NEW: [1] Bus Voltage Average Value: The average value of the voltage at the intermediate bus of a power supply.', 'NEW: [1] Driving Signals: Electrical signals used to control the operation of a converter or other electrical component.']\n",
      "--------------------\n"
     ]
    },
    {
     "name": "stderr",
     "output_type": "stream",
     "text": [
      " 78%|███████▊  | 781/1000 [37:35<14:19,  3.93s/it]"
     ]
    },
    {
     "name": "stdout",
     "output_type": "stream",
     "text": [
      "Document: 781\n",
      "Topics: ['DUP: [1] Engineering: Mentions the design and development of technical solutions.', 'DUP: [1] Manufacturing: Mentions the production of physical goods.', 'DUP: [1] Internal Combustion Engines: Mentions engines that burn fuel inside the engine.', 'DUP: [1] Engineering Design: Mentions the process of creating new products or systems using the principles of engineering.', 'DUP: [1] Mechanical Engineering: Mentions the application of the principles of physics and mathematics to design, build, and maintain mechanical systems.', 'DUP: [1] Injection Systems: Mentions systems used to introduce fluids into a confined space.', 'DUP: [1] Fuel Technology: Mentions the study and application of fuels and fuel systems.', 'DUP: [1] Material Processing: Mentions the transformation of raw materials into finished products.', 'DUP: [1] Composite Materials: Mentions materials made from two or more materials with different physical or chemical properties.', 'DUP: [1] Mechanical Systems: Mentions systems that convert mechanical energy into other forms of energy or perform work.', 'DUP: [1] Industrial Automation: Mentions the use of control systems and machines to automate industrial processes.']\n",
      "--------------------\n"
     ]
    },
    {
     "name": "stderr",
     "output_type": "stream",
     "text": [
      " 78%|███████▊  | 782/1000 [37:39<14:04,  3.88s/it]"
     ]
    },
    {
     "name": "stdout",
     "output_type": "stream",
     "text": [
      "Document: 782\n",
      "Topics: ['DUP: [1] Battery Technology: Mentions the use and conversion of batteries, including high voltage and low voltage batteries.', 'DUP: [1] Power Management: Mentions the conversion and management of electrical power.', 'DUP: [1] Electrical Systems: Mentions electrical components and systems.', 'NEW: [1] Protection Circuits: Mentions circuits used to protect electrical systems from damage or malfunction.']\n",
      "--------------------\n"
     ]
    },
    {
     "name": "stderr",
     "output_type": "stream",
     "text": [
      " 78%|███████▊  | 783/1000 [37:42<12:42,  3.51s/it]"
     ]
    },
    {
     "name": "stdout",
     "output_type": "stream",
     "text": [
      "Document: 783\n",
      "Topics: ['DUP: [1] Optoelectronics: Mentions the interaction between light and electricity.', 'NEW: [1] Flexible Electronics: Mentions electronic devices that can be bent or folded without damage.', 'DUP: [1] Polymers: Mentions large organic molecules.', 'DUP: [1] Elastomers: Mentions materials that can be stretched to at least twice their original length and return to their original shape.', 'DUP: [1] Graphene: Mentions a single layer of carbon atoms arranged in a hexagonal lattice.', 'NEW: [1] Quantum Dots: Mentions tiny semiconductor particles.']\n",
      "--------------------\n"
     ]
    },
    {
     "name": "stderr",
     "output_type": "stream",
     "text": [
      " 78%|███████▊  | 784/1000 [37:45<12:28,  3.47s/it]"
     ]
    },
    {
     "name": "stdout",
     "output_type": "stream",
     "text": [
      "Document: 784\n",
      "Topics: ['DUP: [1] Hybrid Vehicles: Mentions vehicles that use a combination of electric power and a traditional engine.', 'DUP: [1] Control Systems: Mentions devices used to regulate and direct the operation of other devices or systems.', 'DUP: [1] Electric Motors: Mentions motors that convert electrical energy into mechanical energy.', 'NEW: [1] Gear Mechanisms: Mentions mechanisms used to transmit power between rotating shafts while changing the speed or direction of the motion.', 'DUP: [1] Batteries: Mentions devices that store electrical energy and can be discharged to provide power.', 'DUP: [1] Engine Technology: Mentions technologies related to the design, construction, and operation of engines.']\n",
      "--------------------\n"
     ]
    },
    {
     "name": "stderr",
     "output_type": "stream",
     "text": [
      " 78%|███████▊  | 785/1000 [37:48<12:21,  3.45s/it]"
     ]
    },
    {
     "name": "stdout",
     "output_type": "stream",
     "text": [
      "Document: 785\n",
      "Topics: ['DUP: [1] Engineering Design: Mentions the process of creating new products or systems using scientific, economic, social, and practical knowledge.', 'DUP: [1] Mechanical Engineering: Mentions the application of physical principles to design, build, and maintain mechanical systems.', 'DUP: [1] Automotive Technology: Mentions the technology related to automobiles, including their design, construction, and operation.', 'DUP: [1] Turbochargers: Mentions the type of forced induction system used in internal combustion engines to increase power output.', 'DUP: [1] Actuators: Mentions devices that convert energy into mechanical motion.', 'NEW: [1] Connecting Arrangements: Mentions the way components are connected in a system.', 'NEW: [1] Threshold Forces: Mentions the minimum amount of force required to produce a desired effect.']\n",
      "--------------------\n"
     ]
    },
    {
     "name": "stderr",
     "output_type": "stream",
     "text": [
      " 79%|███████▊  | 786/1000 [37:52<12:39,  3.55s/it]"
     ]
    },
    {
     "name": "stdout",
     "output_type": "stream",
     "text": [
      "Document: 786\n",
      "Topics: ['DUP: [1] Engineering Design: Mentions the process of creating new products or systems through a systematic approach.', 'DUP: [1] Manufacturing: Mentions the production of goods through a planned process.', 'DUP: [1] Mechanical Engineering: Mentions the application of principles of physics and mathematics to design, build, and maintain mechanical systems.', 'NEW: [1] Jet Engines: Mentions the type of engine used in aircraft for propulsion.', 'DUP: [1] Material Processing: Mentions the modification of materials to create desired forms or properties.', 'DUP: [1] Structural Design: Mentions the process of designing structures to support loads and withstand environmental conditions.', 'DUP: [1] Maintenance and Efficiency: Mentions the process of maintaining equipment to ensure optimal performance and reduce waste.']\n",
      "--------------------\n"
     ]
    },
    {
     "name": "stderr",
     "output_type": "stream",
     "text": [
      " 79%|███████▊  | 787/1000 [37:57<13:41,  3.86s/it]"
     ]
    },
    {
     "name": "stdout",
     "output_type": "stream",
     "text": [
      "Document: 787\n",
      "Topics: ['DUP: [1] Power Electronics: Mentions the design and implementation of electronic circuits that control and convert electrical power.', 'DUP: [1] Boost Converters: Mentions a type of DC-DC power converter that increases the output voltage from the input voltage.', 'NEW: [1] Switching Cells: Mentions the basic building block of a power converter, which includes transistor switches and diodes.', 'NEW: [1] Bridgeless Converters: Mentions a type of power converter that does not use a bridge circuit to control the flow of current.', 'DUP: [1] Inductors: Mentions a passive electrical component that stores energy in a magnetic field when current flows through it.', 'DUP: [1] Capacitors: Mentions a passive electrical component that stores energy in an electric field when voltage is applied to it.', 'DUP: [1] Transistors: Mentions a semiconductor device used to amplify or switch electronic signals.', 'DUP: [1] Diodes: Mentions a semicon']\n",
      "--------------------\n"
     ]
    },
    {
     "name": "stderr",
     "output_type": "stream",
     "text": [
      " 79%|███████▉  | 788/1000 [38:02<14:50,  4.20s/it]"
     ]
    },
    {
     "name": "stdout",
     "output_type": "stream",
     "text": [
      "Document: 788\n",
      "Topics: ['NEW: [1] Power Conditioners: Mentions devices used to regulate and convert electrical power.', 'NEW: [1] Distributed Resource Islands: Mentions a group of distributed energy resources that function as a single entity in the power grid.', 'NEW: [1] Grid Systems: Mentions the interconnected electrical power delivery system that transports electricity from suppliers to consumers.', 'NEW: [1] Power Conditioning: Mentions the process of converting or regulating electrical power to meet specific requirements.', 'NEW: [1] Islanded Grids: Mentions a section of the power grid that operates independently from the main grid.', 'NEW: [1] Electrical Power: Mentions the flow of electrical energy.', 'DUP: [1] Power Systems: Mentions the infrastructure and technology used to generate, transmit, and distribute electrical power.', 'DUP: [1] Control Systems: Mentions systems used to manage and regulate processes or systems.', 'DUP: [1] Thresholds: Mentions a set value or limit.', 'NEW: [1] Inputs: Mentions data or signals that are received or fed into a system.', 'DUP: [1] Voltage: Mentions a measure of electrical potential difference.', 'NEW: [1] Impedance: Mentions the total opposition to current flow in an AC circuit.', 'NEW: [1] Load Demand: Mentions the amount of electrical power required by a load.', 'NEW: [1] Operating Modes: M']\n",
      "--------------------\n"
     ]
    },
    {
     "name": "stderr",
     "output_type": "stream",
     "text": [
      " 79%|███████▉  | 789/1000 [38:05<13:11,  3.75s/it]"
     ]
    },
    {
     "name": "stdout",
     "output_type": "stream",
     "text": [
      "Document: 789\n",
      "Topics: ['DUP: [1] Air Quality: Mentions the condition of the air in terms of pollutants and other gases.', 'DUP: [1] Carbon Technology: Mentions technologies related to the use and processing of carbon.', 'DUP: [1] Emission Control Systems: Mentions systems designed to reduce or eliminate emissions from various sources.', 'DUP: [1] Sensing Technology: Mentions technologies used to detect and measure various physical or environmental conditions.']\n",
      "--------------------\n"
     ]
    },
    {
     "name": "stderr",
     "output_type": "stream",
     "text": [
      " 79%|███████▉  | 790/1000 [38:07<11:52,  3.39s/it]"
     ]
    },
    {
     "name": "stdout",
     "output_type": "stream",
     "text": [
      "Document: 790\n",
      "Topics: ['DUP: [1] Battery Technology: Mentions the management and control of batteries, specifically in the context of vehicles.', 'DUP: [1] Vehicle Technology: Mentions vehicles and their related technologies.', 'DUP: [1] Control Systems: Mentions the systems used to manage and control various functions.', 'NEW: [1] Emergency Systems: Mentions the recognition and response to emergency situations.']\n",
      "--------------------\n"
     ]
    },
    {
     "name": "stderr",
     "output_type": "stream",
     "text": [
      " 79%|███████▉  | 791/1000 [38:12<12:53,  3.70s/it]"
     ]
    },
    {
     "name": "stdout",
     "output_type": "stream",
     "text": [
      "Document: 791\n",
      "Topics: ['DUP: [1] Container Technology: Mentions the use and design of containers for transporting or storing materials.', 'DUP: [1] Manufacturing: Mentions the process of producing goods or products.', 'DUP: [1] Engineering Design: Mentions the process of designing and developing new products or systems.', 'DUP: [1] Mechanical Engineering: Mentions the application of engineering principles to mechanical systems.', 'DUP: [1] Industrial Automation: Mentions the use of automated systems in industrial processes.', 'DUP: [1] Material Processing: Mentions the transformation of raw materials into finished products.', 'DUP: [1] Composites: Mentions materials made from two or more materials with different physical or chemical properties.', 'DUP: [1] Structural Design: Mentions the design of structures to support loads and withstand stresses.', 'DUP: [1] Maintenance and Efficiency: Mentions the practices and techniques for maintaining equipment and improving performance.', 'DUP: [1] Mechanical Systems: Mentions the design, construction, and operation of mechanical systems.', 'DUP: [1] Engineering Controls: Mentions the use of controls in engineering systems to regulate and optimize performance.', 'DUP: [1] Computer Systems: Mentions the use of computers and computer technology.', 'DUP: [1] Networking: Mentions the interconnection of computers and other devices for communication and data transfer.']\n",
      "--------------------\n"
     ]
    },
    {
     "name": "stderr",
     "output_type": "stream",
     "text": [
      " 79%|███████▉  | 792/1000 [38:15<12:29,  3.60s/it]"
     ]
    },
    {
     "name": "stdout",
     "output_type": "stream",
     "text": [
      "Document: 792\n",
      "Topics: ['DUP: [1] Power Management: Techniques for managing power usage in User Equipment based on temperature and power status.', 'DUP: [1] User Equipment: Devices designed to communicate with a network and capable of implementing power management techniques.', 'NEW: [1] Temperature Sensors: Devices used to measure temperature in User Equipment.', 'NEW: [1] Power Usage: The amount of power consumed by User Equipment.', 'NEW: [1] Power Status: The current power usage and temperature-based condition of User Equipment.', 'NEW: [1] Power Management Stages: Different levels of power management techniques implemented based on the power status of User Equipment.', 'DUP: [1] Notification Systems: Alerts users when power management techniques are being implemented.']\n",
      "--------------------\n"
     ]
    },
    {
     "name": "stderr",
     "output_type": "stream",
     "text": [
      " 79%|███████▉  | 793/1000 [38:18<11:39,  3.38s/it]"
     ]
    },
    {
     "name": "stdout",
     "output_type": "stream",
     "text": [
      "Document: 793\n",
      "Topics: ['DUP: [1] Battery Technology: Mentions the study and application of batteries and their components.', 'DUP: [1] Energy Management: Mentions the process of planning, organizing, and controlling the production and consumption of energy.', 'DUP: [1] Control Systems: Mentions systems used to regulate and direct the operation of machines or processes.']\n",
      "--------------------\n"
     ]
    },
    {
     "name": "stderr",
     "output_type": "stream",
     "text": [
      " 79%|███████▉  | 794/1000 [38:24<14:08,  4.12s/it]"
     ]
    },
    {
     "name": "stdout",
     "output_type": "stream",
     "text": [
      "Document: 794\n",
      "Topics: ['DUP: [1] Engineering Controls: Control systems for engineering applications, including combustion control and engine management.', 'DUP: [1] Internal Combustion Engines: Engines that use the heat of combustion to power a vehicle or machine.', 'DUP: [1] Engineering Design: Design and development of engineering systems and products.', 'DUP: [1] Control Systems: Systems used to regulate and direct the operation of machines, processes, or organizations.', 'DUP: [1] Performance Control: Control systems used to optimize the performance of machines or processes.', 'DUP: [1] Industrial Automation: Use of control systems and automation technology in industrial processes.', 'DUP: [1] Mechanical Systems: Physical systems that convert energy into mechanical motion or force.', 'DUP: [1] Power Management: Management of electrical power in a system or network.', 'DUP: [1] Induction Technology: Technology related to the use of magnetic fields to transfer energy or induce a current.', 'DUP: [1] Rail Transportation: Transportation of goods and passengers using trains.', 'DUP: [1] Acoustics: Study of sound and its properties and effects.', 'DUP: [1] Combustion Technology: Technology related to the combustion of fuels and the control of combustion processes.', 'NEW: [1] Superchargers: Devices used to increase the pressure and density of air entering an engine, improving engine performance.', 'DUP: [1] Engine Control Systems: Electronic systems used to manage and control engine functions.']\n",
      "--------------------\n"
     ]
    },
    {
     "name": "stderr",
     "output_type": "stream",
     "text": [
      " 80%|███████▉  | 795/1000 [38:27<13:37,  3.99s/it]"
     ]
    },
    {
     "name": "stdout",
     "output_type": "stream",
     "text": [
      "Document: 795\n",
      "Topics: ['DUP: [1] Solar Energy: Mentions the production of energy from the sun using solar cells.', 'DUP: [1] Semiconductor Technology: Mentions the use of semiconductor materials in the formation of solar cells.', 'DUP: [1] Solar Cells: Mentions the design and fabrication of solar cells for converting sunlight into electricity.', 'NEW: [1] Band Gap: Mentions the energy difference between the valence and conduction bands in a semiconductor material.', 'NEW: [1] Epitaxial Growth: Mentions the process of growing a single crystal layer on a substrate.', 'DUP: [1] Substrates: Mentions materials used as bases for growing or supporting other materials.', 'NEW: [1] Lattice Mismatch: Mentions the difference in crystal structures between two materials.']\n",
      "--------------------\n"
     ]
    },
    {
     "name": "stderr",
     "output_type": "stream",
     "text": [
      " 80%|███████▉  | 796/1000 [38:30<12:12,  3.59s/it]"
     ]
    },
    {
     "name": "stdout",
     "output_type": "stream",
     "text": [
      "Document: 796\n",
      "Topics: ['NEW: [1] Biodiesel Production: Mentions the process of producing biodiesel from a feedstock.', 'DUP: [1] Filtration Systems: Mentions systems used to remove sediment or impurities from fluids.', 'DUP: [1] Cooling Systems: Mentions systems used to cool fluids or maintain a desired temperature.']\n",
      "--------------------\n"
     ]
    },
    {
     "name": "stderr",
     "output_type": "stream",
     "text": [
      " 80%|███████▉  | 797/1000 [38:33<11:28,  3.39s/it]"
     ]
    },
    {
     "name": "stdout",
     "output_type": "stream",
     "text": [
      "Document: 797\n",
      "Topics: ['DUP: [1] Battery Technology: Includes topics related to the design, manufacturing, and use of batteries and other energy storage systems.', 'DUP: [1] Power Management: Includes topics related to the efficient use, distribution, and management of electrical power.', 'DUP: [1] Vehicle Technology: Includes topics related to the design, manufacturing, and operation of vehicles, including automotive and aerospace technology.', 'DUP: [1] Control Systems: Includes topics related to the design, implementation, and operation of control systems for various applications.', 'DUP: [1] Electrical Systems: Includes topics related to the design, installation, and operation of electrical systems, including power generation, distribution, and utilization.']\n",
      "--------------------\n"
     ]
    },
    {
     "name": "stderr",
     "output_type": "stream",
     "text": [
      " 80%|███████▉  | 798/1000 [38:37<11:42,  3.48s/it]"
     ]
    },
    {
     "name": "stdout",
     "output_type": "stream",
     "text": [
      "Document: 798\n",
      "Topics: ['DUP: [1] Power Electronics: Mentions the design and operation of electronic circuits that control the flow of electrical power.', 'DUP: [1] Control Systems: Mentions systems that regulate and direct the behavior of other systems or processes.', 'DUP: [1] Electrical Systems: Mentions the production, distribution, and use of electrical power.', 'DUP: [1] Circuit Design: Mentions the design and analysis of electrical circuits.', 'DUP: [1] Performance Control: Mentions systems that regulate the performance of a machine or process.', 'DUP: [1] Limit Control: Mentions systems that control the maximum or minimum value of a variable.', 'DUP: [1] Industrial Automation: Mentions the use of control systems and other automation technologies in industrial processes.']\n",
      "--------------------\n"
     ]
    },
    {
     "name": "stderr",
     "output_type": "stream",
     "text": [
      " 80%|███████▉  | 799/1000 [38:40<11:17,  3.37s/it]"
     ]
    },
    {
     "name": "stdout",
     "output_type": "stream",
     "text": [
      "Document: 799\n",
      "Topics: ['DUP: [1] Hydrogen Technology: Mentions the production and use of hydrogen as a fuel.', 'DUP: [1] Fuel Technology: Mentions the properties and use of various fuels.', 'DUP: [1] Catalysis: Mentions the use of catalysts to speed up chemical reactions.', 'DUP: [1] Material Science: Mentions the properties and behavior of materials.', 'DUP: [1] Engineering: Mentions the design, construction, and operation of systems.', 'DUP: [1] Energy: Mentions various forms and uses of energy.']\n",
      "--------------------\n"
     ]
    },
    {
     "name": "stderr",
     "output_type": "stream",
     "text": [
      " 80%|████████  | 800/1000 [38:43<10:43,  3.22s/it]"
     ]
    },
    {
     "name": "stdout",
     "output_type": "stream",
     "text": [
      "Document: 800\n",
      "Topics: ['DUP: [1] Battery Technology: Mentions the use of battery cells and their cooling structures.', 'DUP: [1] Engineering Design: Mentions the design of a cooling structure for battery cells.', 'DUP: [1] Manufacturing: Mentions the production of a cooling structure for battery cells.', 'DUP: [1] Material Processing: Mentions the use of materials for the cooling structure and separation walls.', 'DUP: [1] Thermal Management: Mentions the management of heat in the context of battery cells and their cooling structures.']\n",
      "--------------------\n"
     ]
    },
    {
     "name": "stderr",
     "output_type": "stream",
     "text": [
      " 80%|████████  | 801/1000 [38:47<11:39,  3.51s/it]"
     ]
    },
    {
     "name": "stdout",
     "output_type": "stream",
     "text": [
      "Document: 801\n",
      "Topics: ['DUP: [1] Engineering Design: Design and development of engineering systems and components, including mixer assemblies for turbofan engines.', 'NEW: [1] Turbofan Engines: A type of aircraft engine that uses a fan to compress air before combustion, and a turbine to extract energy from the hot exhaust gases.', 'NEW: [1] Mixing Systems: Systems used to combine two or more fluids, in this case, for turbofan engines.', 'DUP: [1] Fluid Systems: Systems used to transport, control, and manipulate fluids, including primary and secondary flow channels.', 'DUP: [1] Materials Engineering: Design and selection of materials for engineering components, including those subject to different operating temperatures.', 'DUP: [1] Aerospace Engineering: Design and development of aircraft and spacecraft, including turbofan engines and their components.', 'DUP: [1] Manufacturing: Processes and techniques used to produce engineering components, including mixer assembly groups.', 'DUP: [1] Mechanical Engineering: Design, development, and manufacturing of mechanical systems, including turbofan engines and their components.']\n",
      "--------------------\n"
     ]
    },
    {
     "name": "stderr",
     "output_type": "stream",
     "text": [
      " 80%|████████  | 802/1000 [38:50<11:39,  3.53s/it]"
     ]
    },
    {
     "name": "stdout",
     "output_type": "stream",
     "text": [
      "Document: 802\n",
      "Topics: ['DUP: [1] Capacitors: Mentions the electronic component used to store electrical energy in an electric field.', 'DUP: [1] Electrodes: Mentions conductors used to make contact with a conductor or semiconductor to transfer charge.', 'DUP: [1] Insulating Layers: Mentions materials used to prevent the flow of electrical current.', 'DUP: [1] Materials: Mentions substances used to create or produce other substances or products.', 'DUP: [1] Manufacturing: Mentions the process of making things on a large scale.', 'DUP: [1] Semiconductors: Mentions materials that have electrical conductivity between that of an insulator and a conductor.']\n",
      "--------------------\n"
     ]
    },
    {
     "name": "stderr",
     "output_type": "stream",
     "text": [
      " 80%|████████  | 803/1000 [38:53<10:44,  3.27s/it]"
     ]
    },
    {
     "name": "stdout",
     "output_type": "stream",
     "text": [
      "Document: 803\n",
      "Topics: ['DUP: [1] Composite Materials: Mentions the fabrication of composite materials, specifically composite panels for a barrel structure.', 'DUP: [1] Manufacturing: Mentions the process of manufacturing composite panels for a barrel structure.']\n",
      "--------------------\n"
     ]
    },
    {
     "name": "stderr",
     "output_type": "stream",
     "text": [
      " 80%|████████  | 804/1000 [38:56<10:11,  3.12s/it]"
     ]
    },
    {
     "name": "stdout",
     "output_type": "stream",
     "text": [
      "Document: 804\n",
      "Topics: ['DUP: [1] Material Processing: This document discusses a method for extracting secondary metals from a sulfuric acid leachate, which falls under the broader topic of material processing. The process involves passing the leachate through a selective ion exchange resin and stripping the secondary metals from the resin to obtain a first extract, which is then recovered. This process can be applied to various primary metals such as Cu, Li, and Ni.']\n",
      "--------------------\n"
     ]
    },
    {
     "name": "stderr",
     "output_type": "stream",
     "text": [
      " 80%|████████  | 805/1000 [39:00<10:54,  3.36s/it]"
     ]
    },
    {
     "name": "stdout",
     "output_type": "stream",
     "text": [
      "Document: 805\n",
      "Topics: ['DUP: [1] Battery Technology: Mentions the design and functionality of batteries.', 'DUP: [1] Material Science: Mentions the study of various forms of matter and their properties.', 'DUP: [1] Electrochemistry: Mentions the study of chemical reactions that occur at an electrode-electrolyte interface.', 'DUP: [1] Material Processing: Mentions the methods used to process materials.', 'DUP: [1] Coating Technology: Mentions the application of coatings to surfaces.', 'NEW: [1] Corrosion Technology: Mentions the study and prevention of corrosion.', 'NEW: [1] Iron and Steel: Mentions the properties and uses of iron and steel.', 'NEW: [1] Cobalt: Mentions the properties and uses of cobalt.', 'NEW: [1] Nickel: Mentions the properties and uses of nickel.', 'NEW: [1] Ferrites: Mentions the properties and uses of ferrites.', 'DUP: [1] Electrodes: Mentions the components used to conduct electricity in a circuit.']\n",
      "--------------------\n"
     ]
    },
    {
     "name": "stderr",
     "output_type": "stream",
     "text": [
      " 81%|████████  | 806/1000 [39:02<09:42,  3.00s/it]"
     ]
    },
    {
     "name": "stdout",
     "output_type": "stream",
     "text": [
      "Document: 806\n",
      "Topics: ['DUP: [1] Semiconductor Technology: Mentions the manufacturing process of semiconductor devices, specifically an avalanche diode.']\n",
      "--------------------\n"
     ]
    },
    {
     "name": "stderr",
     "output_type": "stream",
     "text": [
      " 81%|████████  | 807/1000 [39:04<09:17,  2.89s/it]"
     ]
    },
    {
     "name": "stdout",
     "output_type": "stream",
     "text": [
      "Document: 807\n",
      "Topics: ['DUP: [1] Battery Technology: Mentions components and design of battery packs.', 'DUP: [1] Electrical Systems: Mentions circuit boards and electrical connections.', 'DUP: [1] Mechanical Engineering: Mentions design and positioning of components.']\n",
      "--------------------\n"
     ]
    },
    {
     "name": "stderr",
     "output_type": "stream",
     "text": [
      " 81%|████████  | 808/1000 [39:08<09:36,  3.00s/it]"
     ]
    },
    {
     "name": "stdout",
     "output_type": "stream",
     "text": [
      "Document: 808\n",
      "Topics: ['DUP: [1] Power Systems: Mentions the generation, transmission, and distribution of electrical power.', 'NEW: [1] High Voltage Systems: Mentions electrical systems operating at high voltages.', 'NEW: [1] AC and DC Power: Mentions alternating current and direct current power systems.', 'NEW: [1] Transmission Lines: Mentions the structures used to transport electrical power over long distances.', 'DUP: [1] Power Conversion: Mentions the process of changing electrical power from one form to another.', 'NEW: [1] Bipolar Power Systems: Mentions electrical power systems using both positive and negative voltages.']\n",
      "--------------------\n"
     ]
    },
    {
     "name": "stderr",
     "output_type": "stream",
     "text": [
      " 81%|████████  | 809/1000 [39:12<10:19,  3.24s/it]"
     ]
    },
    {
     "name": "stdout",
     "output_type": "stream",
     "text": [
      "Document: 809\n",
      "Topics: ['NEW: [1] Transport Refrigeration Systems: Systems used to transport and preserve perishable goods at controlled temperatures.', 'DUP: [1] Power Management: Techniques and systems used to manage and distribute power efficiently.', 'NEW: [1] Fault Tolerant Systems: Systems designed to continue operating despite the presence of faults or failures.', 'DUP: [1] Sensors: Devices used to measure physical or environmental conditions and convert them into electrical signals.', 'DUP: [1] Power Supplies: Devices used to convert electrical power from one form to another or provide power to a system.', 'DUP: [1] Controllers: Devices used to manage and control the operation of a system or process.']\n",
      "--------------------\n"
     ]
    },
    {
     "name": "stderr",
     "output_type": "stream",
     "text": [
      " 81%|████████  | 810/1000 [39:15<10:17,  3.25s/it]"
     ]
    },
    {
     "name": "stdout",
     "output_type": "stream",
     "text": [
      "Document: 810\n",
      "Topics: ['NEW: [1] Flexible Substrates: Mentions materials used for substrates that can be bent or flexed.', 'NEW: [1] Manufacturing Methods: Mentions processes used to create or produce goods.', 'NEW: [1] Organic Layers: Mentions thin films or coatings made from organic materials.', 'NEW: [1] Display Devices: Mentions electronic devices used to display visual information.']\n",
      "--------------------\n"
     ]
    },
    {
     "name": "stderr",
     "output_type": "stream",
     "text": [
      " 81%|████████  | 811/1000 [39:20<11:37,  3.69s/it]"
     ]
    },
    {
     "name": "stdout",
     "output_type": "stream",
     "text": [
      "Document: 811\n",
      "Topics: ['DUP: [1] Manufacturing: Mentions the process of creating goods, typically through the use of machinery or tools.', 'DUP: [1] Engineering: Broadly refers to the application of scientific, economic, social, and practical knowledge to design, build, and maintain structures, machines, devices, systems, and processes.', 'DUP: [1] Electrical Systems: Relates to the production, distribution, and use of electrical power.', 'DUP: [1] Control Systems: Deals with the regulation of various processes and systems through the use of sensors, actuators, and algorithms.', 'DUP: [1] Automation: Involves the use of technology to perform tasks without human intervention.', 'DUP: [1] Quality Control: Refers to the processes and procedures used to ensure that products or services meet specified requirements.', 'NEW: [1] Inspection: Involves the examination of objects, materials, or systems to determine their condition, quality, or compliance with specifications.', 'NEW: [1] Conveyor Systems: Deals with the transport of materials or products through the use of a continuous belt or chain.', 'DUP: [1] Sensors: Refers to devices that detect and respond to physical or environmental stimuli.', 'DUP: [1] Actuators: Deals with devices that convert energy into mechanical motion or force.', 'DUP: [1] Machinery: Broadly refers to any mechanical device used to perform work.', 'NEW: [1] Materials Handling: Involves the movement, protection']\n",
      "--------------------\n"
     ]
    },
    {
     "name": "stderr",
     "output_type": "stream",
     "text": [
      " 81%|████████  | 812/1000 [39:23<11:44,  3.75s/it]"
     ]
    },
    {
     "name": "stdout",
     "output_type": "stream",
     "text": [
      "Document: 812\n",
      "Topics: ['DUP: [1] Filters: Mentions devices used to remove impurities from fluids or gases.', 'DUP: [1] Materials Science: Mentions the properties and behavior of various substances.', 'DUP: [1] Porous Materials: Mentions materials with a large surface area and open structure.', 'NEW: [1] Honeycomb Structures: Mentions structures with hexagonal cells arranged in a regular pattern.', 'NEW: [1] Partition Walls: Mentions structures used to divide a space into separate compartments.', 'NEW: [1] Exhaust Gas Purification: Mentions processes used to remove pollutants from exhaust gases.']\n",
      "--------------------\n"
     ]
    },
    {
     "name": "stderr",
     "output_type": "stream",
     "text": [
      " 81%|████████▏ | 813/1000 [39:27<11:08,  3.58s/it]"
     ]
    },
    {
     "name": "stdout",
     "output_type": "stream",
     "text": [
      "Document: 813\n",
      "Topics: ['DUP: [1] Wind Energy: Mentions the use of wind for generating energy.', 'DUP: [1] Sensing Systems: Mentions the use of probes for measuring wind pressure.', 'DUP: [1] Vehicle Technology: Mentions the use of a vehicle for traversing a distance.', 'DUP: [1] Control Systems: Mentions the use of a controller for determining wind angle and wind speed.']\n",
      "--------------------\n"
     ]
    },
    {
     "name": "stderr",
     "output_type": "stream",
     "text": [
      " 81%|████████▏ | 814/1000 [39:30<10:39,  3.44s/it]"
     ]
    },
    {
     "name": "stdout",
     "output_type": "stream",
     "text": [
      "Document: 814\n",
      "Topics: [\"DUP: [1] Geothermal Energy: Refers to the energy generated from the Earth's internal heat.\", 'NEW: [1] Energy Production Systems: Encompasses various methods for generating energy.', 'NEW: [1] Geothermal Loop Systems: Specific type of closed-loop systems used for geothermal energy production.', 'NEW: [1] Tiered Geothermal Loop Systems: A system with multiple closed-loop pipe systems, each with increasing energy production.']\n",
      "--------------------\n"
     ]
    },
    {
     "name": "stderr",
     "output_type": "stream",
     "text": [
      " 82%|████████▏ | 815/1000 [39:32<09:57,  3.23s/it]"
     ]
    },
    {
     "name": "stdout",
     "output_type": "stream",
     "text": [
      "Document: 815\n",
      "Topics: ['NEW: [1] Geocomposites: Materials used in construction for containing and separating different layers.', 'NEW: [1] Synthetic Turf: Artificial grass used for various applications.', 'NEW: [1] Carrier Layers: Materials used to support other layers in a composite structure.', 'NEW: [1] Particulate Materials: Granular or powder-like substances used in various applications.', 'NEW: [1] Construction Materials: Raw materials used in the construction industry.', 'DUP: [1] Adhesives: Substances used to bind materials together.', 'DUP: [1] Fasteners: Devices used to secure materials together.']\n",
      "--------------------\n"
     ]
    },
    {
     "name": "stderr",
     "output_type": "stream",
     "text": [
      " 82%|████████▏ | 816/1000 [39:35<09:31,  3.11s/it]"
     ]
    },
    {
     "name": "stdout",
     "output_type": "stream",
     "text": [
      "Document: 816\n",
      "Topics: ['DUP: [1] Wireless Communications: Mentions wireless charging pads and wireless docking stations.', 'DUP: [1] Wireless Power Transfer: Mentions wireless charging pads and wireless power transfer.', 'DUP: [1] Communication Technology: Mentions wireless communication and unique identifiers.', 'DUP: [1] Electrical Systems: Mentions wireless charging pads and power transfer.']\n",
      "--------------------\n"
     ]
    },
    {
     "name": "stderr",
     "output_type": "stream",
     "text": [
      " 82%|████████▏ | 817/1000 [39:38<09:16,  3.04s/it]"
     ]
    },
    {
     "name": "stdout",
     "output_type": "stream",
     "text": [
      "Document: 817\n",
      "Topics: ['NEW: [1] Neural Networks: Mentions deep neural networks and their processing.', 'NEW: [1] Processor Cores: Mentions processor cores and their functions.', 'NEW: [1] Resource and Power Management: Mentions resource and power management in the context of processor cores.', 'NEW: [1] Deep Neural Network Processors: Mentions processors specifically designed for deep neural networks.', 'NEW: [1] Workload Management: Mentions dividing and managing workloads for processor cores.', 'NEW: [1] Interrupts: Mentions interrupts generated by processor cores during workload execution.', 'NEW: [1] Queues: Mentions queues maintained by processor cores for workload management.']\n",
      "--------------------\n"
     ]
    },
    {
     "name": "stderr",
     "output_type": "stream",
     "text": [
      " 82%|████████▏ | 818/1000 [39:42<10:06,  3.33s/it]"
     ]
    },
    {
     "name": "stdout",
     "output_type": "stream",
     "text": [
      "Document: 818\n",
      "Topics: ['NEW: [1] Heat Storage: Refers to systems used for storing and releasing heat energy.', 'DUP: [1] Thermal Energy Storage: Similar to heat storage, but with a focus on the energy aspect.', 'NEW: [1] Heat Extraction Devices: Devices used to extract heat from a medium.', 'DUP: [1] Heat Transfer: The process of moving heat energy from one location to another.', 'NEW: [1] Solid Bodies: Refers to objects that have a solid form.', 'NEW: [1] Contact: Refers to the touching or coming into direct physical connection with something.', 'NEW: [1] Heat Flow: The transfer of heat energy from one body to another.', 'DUP: [1] Temperature Control: The regulation of temperature to maintain desired conditions.', 'DUP: [1] Energy Storage: The process of storing energy for later use.', 'DUP: [1] Material Science: The scientific study of materials and their properties.', 'DUP: [1] Engineering: The application of scientific, economic, social, and practical knowledge to design, build, and maintain structures, machines, devices, systems, and processes.']\n",
      "--------------------\n"
     ]
    },
    {
     "name": "stderr",
     "output_type": "stream",
     "text": [
      " 82%|████████▏ | 819/1000 [39:45<09:31,  3.16s/it]"
     ]
    },
    {
     "name": "stdout",
     "output_type": "stream",
     "text": [
      "Document: 819\n",
      "Topics: ['DUP: [1] Electrical Systems: Mentions the use of electrolytic gas generators and current collectors.', 'DUP: [1] Engineering Design: Mentions the design of electrolytic gas generators and current collectors.', 'DUP: [1] Material Processing: Mentions the bonding of metal plates for the construction of current collectors.']\n",
      "--------------------\n"
     ]
    },
    {
     "name": "stderr",
     "output_type": "stream",
     "text": [
      " 82%|████████▏ | 820/1000 [39:48<09:01,  3.01s/it]"
     ]
    },
    {
     "name": "stdout",
     "output_type": "stream",
     "text": [
      "Document: 820\n",
      "Topics: ['DUP: [1] Communication Technology: Mentions the use of communication protocols for data transmission.', 'DUP: [1] Signal Processing: Mentions the manipulation and analysis of signals.', 'DUP: [1] Power Management: Mentions the efficient use of power.']\n",
      "--------------------\n"
     ]
    },
    {
     "name": "stderr",
     "output_type": "stream",
     "text": [
      " 82%|████████▏ | 821/1000 [39:51<09:48,  3.29s/it]"
     ]
    },
    {
     "name": "stdout",
     "output_type": "stream",
     "text": [
      "Document: 821\n",
      "Topics: ['DUP: [1] Manufacturing: Mentions the process of creating or producing goods, typically through the use of machinery, tools, or labor.', 'DUP: [1] Engineering: Mentions the application of scientific, economic, social, and practical knowledge to design, build, and maintain structures, machines, devices, systems, and processes.', 'DUP: [1] Internal Combustion Engines: Mentions engines that use the heat of combustion to perform mechanical work.', 'DUP: [1] Mechanical Engineering: Mentions the branch of engineering that deals with the design, construction, and operation of mechanical systems.', 'DUP: [1] Mechanical Systems: Mentions systems that convert energy into mechanical motion or force.', 'DUP: [1] Engineering Design: Mentions the process of creating new products or systems through the application of scientific, economic, social, and practical knowledge.', 'DUP: [1] Machining: Mentions the process of removing material from a workpiece to create a desired shape or size.', 'NEW: [1] Metalworking: Mentions the process of working with metals to create or modify shapes or structures.', 'DUP: [1] Housing: Mentions a structure that provides shelter, protection, or containment for people, animals, or']\n",
      "--------------------\n"
     ]
    },
    {
     "name": "stderr",
     "output_type": "stream",
     "text": [
      " 82%|████████▏ | 822/1000 [39:55<09:53,  3.33s/it]"
     ]
    },
    {
     "name": "stdout",
     "output_type": "stream",
     "text": [
      "Document: 822\n",
      "Topics: ['DUP: [1] Gas Turbine Engines: Mentions the design and functionality of gas turbine engines.', 'DUP: [1] Airfoils: Mentions the design and properties of airfoils used in various applications.', 'NEW: [1] Compressor Sections: Mentions the components and functionality of compressor sections in gas turbine engines.', 'NEW: [1] Turbine Sections: Mentions the components and functionality of turbine sections in gas turbine engines.', 'NEW: [1] Combustor Sections: Mentions the components and functionality of combustor sections in gas turbine engines.', 'NEW: [1] Fan Sections: Mentions the design and functionality of fan sections in gas turbine engines.', 'NEW: [1] Airfoil Design: Mentions the design and optimization of airfoils for various applications.', 'DUP: [1] Aerodynamics: Mentions the principles of motion and interaction of air with solid objects, particularly airfoils.', 'NEW: [1] Engine Components: Mentions the various components of gas turbine engines and their functions.']\n",
      "--------------------\n"
     ]
    },
    {
     "name": "stderr",
     "output_type": "stream",
     "text": [
      " 82%|████████▏ | 823/1000 [39:58<09:47,  3.32s/it]"
     ]
    },
    {
     "name": "stdout",
     "output_type": "stream",
     "text": [
      "Document: 823\n",
      "Topics: ['NEW: [1] Bioinformatics: Analysis and processing of biological data using computer technology.', 'DUP: [1] Neural Networks: A computing system modeled loosely after the human brain.', 'DUP: [1] Machine Learning: A method of data analysis that automatically learns patterns in data.', \"NEW: [1] Genomics: The study of an organism's genome and its function.\", 'NEW: [1] Sequence Analysis: Examination of biological sequences to identify patterns and relationships.', 'NEW: [1] Vector Space Model: A method of representing data as vectors in a high-dimensional space.', 'NEW: [1] Data Visualization: Representing data in a graphical or visual format to facilitate understanding.']\n",
      "--------------------\n"
     ]
    },
    {
     "name": "stderr",
     "output_type": "stream",
     "text": [
      " 82%|████████▏ | 824/1000 [40:02<09:47,  3.34s/it]"
     ]
    },
    {
     "name": "stdout",
     "output_type": "stream",
     "text": [
      "Document: 824\n",
      "Topics: ['NEW: [1] Power Tools: Mentions handheld or power operated tools used for various tasks.', 'DUP: [1] Electric Motors: Mentions motors that convert electrical energy into mechanical energy.', 'DUP: [1] Control Systems: Mentions systems used to regulate and direct the operation of other systems or processes.', 'DUP: [1] Fault Detection: Mentions systems or methods used to identify and respond to fault conditions.', 'DUP: [1] Switches: Mentions devices used to open or close an electrical circuit.', 'DUP: [1] Power Supply: Mentions the source of electrical power.', 'DUP: [1] Controllers: Mentions devices used to control the operation of other devices or systems.']\n",
      "--------------------\n"
     ]
    },
    {
     "name": "stderr",
     "output_type": "stream",
     "text": [
      " 82%|████████▎ | 825/1000 [40:05<09:56,  3.41s/it]"
     ]
    },
    {
     "name": "stdout",
     "output_type": "stream",
     "text": [
      "Document: 825\n",
      "Topics: ['NEW: [1] 3D Printing: Refers to the process of creating three-dimensional objects from digital models.', 'NEW: [1] File Formats: Describes various ways of encoding digital data for storage and transmission.', 'NEW: [1] Microstructures: Relates to structures with very small features or dimensions.', 'NEW: [1] Wireframe Models: Represents three-dimensional objects as a collection of wires or lines.', 'NEW: [1] Rendering Operations: Involves generating an image from a model using computer graphics techniques.', 'NEW: [1] Efficiency and Speed: Relates to the ability to perform tasks quickly and with minimal resources.', 'NEW: [1] Novel Items: Describes new or unique objects or products.']\n",
      "--------------------\n"
     ]
    },
    {
     "name": "stderr",
     "output_type": "stream",
     "text": [
      " 83%|████████▎ | 826/1000 [40:09<09:56,  3.43s/it]"
     ]
    },
    {
     "name": "stdout",
     "output_type": "stream",
     "text": [
      "Document: 826\n",
      "Topics: ['DUP: [1] Chemical Processing: Mentions the transformation of one chemical substance into another.', 'DUP: [1] Catalysis: Mentions the use of a substance to increase the rate of a chemical reaction without being consumed in the process.', 'DUP: [1] Material Science: Mentions the study of the properties and behavior of materials.', 'NEW: [1] Solid Acid Catalysts: Mentions catalysts that are solid and acidic in nature.']\n",
      "--------------------\n"
     ]
    },
    {
     "name": "stderr",
     "output_type": "stream",
     "text": [
      " 83%|████████▎ | 827/1000 [40:11<09:05,  3.15s/it]"
     ]
    },
    {
     "name": "stdout",
     "output_type": "stream",
     "text": [
      "Document: 827\n",
      "Topics: ['DUP: [1] Battery Technology: Mentions the study and application of batteries and their components.', 'DUP: [1] Energy Storage: Mentions the storage of energy for later use.', 'NEW: [1] Circuit Technology: Mentions the design and implementation of electrical circuits.', 'DUP: [1] Power Management: Mentions the management and distribution of electrical power.']\n",
      "--------------------\n"
     ]
    },
    {
     "name": "stderr",
     "output_type": "stream",
     "text": [
      " 83%|████████▎ | 828/1000 [40:15<09:53,  3.45s/it]"
     ]
    },
    {
     "name": "stdout",
     "output_type": "stream",
     "text": [
      "Document: 828\n",
      "Topics: ['NEW: [1] Organic Photosensitizers: Mentions the use of organic compounds to convert light energy into electrical energy or chemical energy.', 'NEW: [1] Photodynamic Therapies: Mentions the use of light to activate a substance to destroy cells or inactivate microorganisms.', 'NEW: [1] Computational Modeling: Mentions the use of computer simulations to study and predict the behavior of systems.', 'DUP: [1] Material Science: Mentions the study of the properties and behavior of materials.', 'DUP: [1] Organic Chemistry: Mentions the study of organic compounds and their properties and reactions.', 'NEW: [1] Quantum Chemistry: Mentions the application of quantum mechanics to the study of chemical systems.', 'DUP: [1] Energy: Mentions the study of energy and its sources, conversion, and use.', 'DUP: [1] Chemical Engineering: Mentions the application of principles of chemistry, biology, physics, and mathematics to design and develop processes and systems for the production of chemicals and energy.']\n",
      "--------------------\n"
     ]
    },
    {
     "name": "stderr",
     "output_type": "stream",
     "text": [
      " 83%|████████▎ | 829/1000 [40:19<09:46,  3.43s/it]"
     ]
    },
    {
     "name": "stdout",
     "output_type": "stream",
     "text": [
      "Document: 829\n",
      "Topics: ['DUP: [1] Solar Energy: Mentions the use of solar energy, specifically in the context of optimizing a solar field by positioning heliostats to minimize shadows and blockages.', 'NEW: [1] Heliostats: Mentions the use of heliostats, which are devices used to reflect sunlight onto a receiver in a solar power plant. The document discusses the optimization of a solar field by positioning heliostats of different sizes and types, with various facet shapes, to minimize shadows and blockages.']\n",
      "--------------------\n"
     ]
    },
    {
     "name": "stderr",
     "output_type": "stream",
     "text": [
      " 83%|████████▎ | 830/1000 [40:23<10:27,  3.69s/it]"
     ]
    },
    {
     "name": "stdout",
     "output_type": "stream",
     "text": [
      "Document: 830\n",
      "Topics: ['DUP: [1] Engineering Design: Mentions the process of creating new products or systems through a systematic approach.', 'DUP: [1] Mechanical Engineering: Mentions the application of mathematical and scientific principles to design, build, and maintain mechanical systems.', 'DUP: [1] Manufacturing: Mentions the process of producing goods on a large scale using machinery.', 'DUP: [1] Mechanical Systems: Mentions mechanical components and their interactions.', 'NEW: [1] Tie Rods: Mentions components used to connect frames or other structures.', 'NEW: [1] Frame Cases: Mentions the outer and inner structures that the tie rods connect.', 'NEW: [1] Inlet Passages: Mentions channels through which fluids or gases enter a system.', 'NEW: [1] Branches: Mentions divisions or subdivisions of a system or structure.', 'NEW: [1] Plugs: Mentions components used to block or seal openings.']\n",
      "--------------------\n"
     ]
    },
    {
     "name": "stderr",
     "output_type": "stream",
     "text": [
      " 83%|████████▎ | 831/1000 [40:27<10:44,  3.82s/it]"
     ]
    },
    {
     "name": "stdout",
     "output_type": "stream",
     "text": [
      "Document: 831\n",
      "Topics: ['DUP: [1] Waste Management: Mentions the collection, transportation, processing, and disposal of waste.', 'NEW: [1] Anaerobic Digestion: Mentions the biological process of breaking down organic matter in the absence of oxygen.', 'NEW: [1] Paper Industry: Mentions the production of paper and other related products.', 'DUP: [1] Recycling: Mentions the process of converting waste materials into new products.', 'DUP: [1] Mechanical Engineering: Mentions the design, construction, and operation of machines and mechanical systems.', 'DUP: [1] Material Processing: Mentions the conversion of raw materials into finished products.', 'DUP: [1] Industrial Processes: Mentions the production of goods in a factory or industrial setting.', 'DUP: [1] Manufacturing: Mentions the production of goods on a large scale.', 'DUP: [1] Mechanical Systems: Mentions the design, construction, and operation of mechanical systems.', 'DUP: [1] Engineering: Mentions the application of scientific, economic, social, and practical knowledge to design, build, and maintain structures, machines, devices, systems, and processes.', 'DUP: [1] Technology: Mentions the application of scientific knowledge for practical purposes.']\n",
      "--------------------\n"
     ]
    },
    {
     "name": "stderr",
     "output_type": "stream",
     "text": [
      " 83%|████████▎ | 832/1000 [40:31<10:39,  3.80s/it]"
     ]
    },
    {
     "name": "stdout",
     "output_type": "stream",
     "text": [
      "Document: 832\n",
      "Topics: ['NEW: [1] Position Detectors: Devices used to detect the position or location of an object, utilizing AC signals and electrodes for identification and detection.', 'DUP: [1] Sensors: Devices used to detect and measure physical properties and convert them into electrical signals.', 'DUP: [1] Electrodes: Materials or components used to conduct electric charge, in this case, used for position detection with AC signals.', 'DUP: [1] Signal Processing: Techniques used to analyze, modify, and transmit signals, including AC signals for position detection.', 'DUP: [1] Control Circuits: Electronic circuits used to manage and regulate the flow of electrical current, in this case, controlling the selective supply of AC signals to electrodes.', 'NEW: [1] Angular Information: Data related to the rotation or tilt of an object, calculated using AC signals and identification information.']\n",
      "--------------------\n"
     ]
    },
    {
     "name": "stderr",
     "output_type": "stream",
     "text": [
      " 83%|████████▎ | 833/1000 [40:36<11:26,  4.11s/it]"
     ]
    },
    {
     "name": "stdout",
     "output_type": "stream",
     "text": [
      "Document: 833\n",
      "Topics: ['DUP: [1] Hydropower: Systems used to generate electricity from moving water.', 'NEW: [1] Mooring Systems: Devices used to secure ships or other structures in water.', 'DUP: [1] Renewable Energy: Energy generated from natural sources, such as wind, solar, or water.', 'DUP: [1] Marine Technology: Technology related to the design, construction, and operation of ships and other marine vessels.', 'DUP: [1] Engineering Design: The process of creating new products or systems using scientific, economic, social, and practical knowledge.', 'DUP: [1] Mechanical Engineering: A branch of engineering that deals with the design, construction, and operation of mechanical systems.', 'DUP: [1] Material Science: The interdisciplinary field that deals with the properties, structure, and behavior of materials.', 'DUP: [1] Composite Materials: Materials made from two or more different materials that are combined to create a new material with improved properties.', 'DUP: [1] Structural Design: The process of designing the physical structure of a product or system to ensure it can withstand the forces it will be subjected to.', 'DUP: [1] Maintenance and Efficiency: Practices and technologies related to keeping systems running smoothly and efficiently.', 'DUP: [1] Water Technology: Technology related to the use, treatment, and management of water.', 'DUP: [1] Wind Energy: Energy generated from the wind using wind turbines or other technologies.', 'DUP: [1] Power Systems: Systems used']\n",
      "--------------------\n"
     ]
    },
    {
     "name": "stderr",
     "output_type": "stream",
     "text": [
      " 83%|████████▎ | 834/1000 [40:40<11:11,  4.05s/it]"
     ]
    },
    {
     "name": "stdout",
     "output_type": "stream",
     "text": [
      "Document: 834\n",
      "Topics: ['DUP: [1] Wireless Communications: Mentions methods, systems, and devices related to wireless communication.', 'DUP: [1] Telecommunications: Mentions the exchange of information over long distances using electronic means.', 'DUP: [1] User Equipment: Mentions devices used by end-users to access wireless communication networks.', 'DUP: [1] Paging Systems: Mentions systems used to alert users of incoming communication.', 'DUP: [1] Base Stations: Mentions stations that transmit and receive wireless signals to and from user equipment.', 'NEW: [1] Dynamic Spectrum Access: Mentions the use of wireless communication resources in a dynamic and flexible manner.', 'DUP: [1] Wireless Data Transmission: Mentions the transfer of data using wireless communication.', 'DUP: [1] Wireless Networks: Mentions networks that use wireless communication for data transfer.', 'NEW: [1] Wireless Signals: Mentions electromagnetic waves used for wireless communication.', 'NEW: [1] Wireless Transmission: Mentions the process of sending data wirelessly.', 'DUP: [1] Wireless Technology: Mentions the use of wireless communication for various applications.', 'DUP: [1] Communication Networks: Mentions interconnected systems of devices used for communication.', 'DUP: [1] Radio Technology: Mentions the use of radio waves for communication.', 'NEW: [1] Wireless Data Management: Mentions the organization, storage, and retrieval of data using']\n",
      "--------------------\n"
     ]
    },
    {
     "name": "stderr",
     "output_type": "stream",
     "text": [
      " 84%|████████▎ | 835/1000 [40:43<10:49,  3.94s/it]"
     ]
    },
    {
     "name": "stdout",
     "output_type": "stream",
     "text": [
      "Document: 835\n",
      "Topics: ['DUP: [1] Communication Technology: Mentions the exchange of information between two or more entities using various methods and technologies.', 'DUP: [1] Networking: Mentions the interconnection of multiple devices or systems to enable communication and data sharing.', 'NEW: [1] Routing Protocols: Mentions the algorithms and methods used to direct data traffic between different networks or devices.', 'NEW: [1] Low Power and Lossy Networks: Mentions networks that have limited power resources and may experience data loss due to environmental conditions.', 'DUP: [1] Devices: Mentions physical objects that can be used to perform specific functions or tasks.', 'DUP: [1] Addressing: Mentions the assignment of unique identifiers to devices or objects to enable communication and identification.', 'NEW: [1] Proxy Communication: Mentions the use of an intermediary device to facilitate communication between two other devices.']\n",
      "--------------------\n"
     ]
    },
    {
     "name": "stderr",
     "output_type": "stream",
     "text": [
      " 84%|████████▎ | 836/1000 [40:46<09:27,  3.46s/it]"
     ]
    },
    {
     "name": "stdout",
     "output_type": "stream",
     "text": [
      "Document: 836\n",
      "Topics: ['DUP: [1] Electrical Systems: Mentions various electrical components used in a transmission/reception circuit.', 'DUP: [1] Communication Technology: Mentions a communication circuit and its components.']\n",
      "--------------------\n"
     ]
    },
    {
     "name": "stderr",
     "output_type": "stream",
     "text": [
      " 84%|████████▎ | 837/1000 [40:50<09:52,  3.64s/it]"
     ]
    },
    {
     "name": "stdout",
     "output_type": "stream",
     "text": [
      "Document: 837\n",
      "Topics: ['DUP: [1] Control Systems: Systems used to regulate and direct the operation of machines, processes, or organizations.', 'DUP: [1] Machine Learning: A type of artificial intelligence that enables systems to automatically learn and improve from experience without being explicitly programmed.', 'DUP: [1] Networking: The practice of linking computers and other devices together to enable communication and data sharing.', 'NEW: [1] Data Acquisition: The process of collecting and measuring data from various sources.', 'DUP: [1] Actuators: Devices that convert energy into mechanical motion or force.', 'NEW: [1] Estimation Models: Mathematical models used to estimate the value of a variable based on available data.', 'NEW: [1] Factory Systems: Large-scale industrial systems used for manufacturing and production.', 'NEW: [1] Learning Systems: Systems designed to learn and improve from experience, often used in machine learning and artificial intelligence applications.', 'NEW: [1] Data Construction: The process of creating or generating data, often for use in machine learning or other data-driven applications.', 'DUP: [1] Data Processing: The manipulation and analysis of data to extract meaningful information.', 'DUP: [1] Industrial Automation: The use of technology to automate industrial processes and improve efficiency and productivity.']\n",
      "--------------------\n"
     ]
    },
    {
     "name": "stderr",
     "output_type": "stream",
     "text": [
      " 84%|████████▍ | 838/1000 [40:53<09:20,  3.46s/it]"
     ]
    },
    {
     "name": "stdout",
     "output_type": "stream",
     "text": [
      "Document: 838\n",
      "Topics: ['DUP: [1] Engineering Design: Mentions the design of a riding lawn care vehicle and its components.', 'DUP: [1] Manufacturing: Mentions the production of a riding lawn care vehicle.', 'DUP: [1] Automotive Technology: Mentions a riding lawn care vehicle and its engine.', 'DUP: [1] Mechanical Engineering: Mentions the mechanical components of a riding lawn care vehicle.', 'DUP: [1] Power Management: Mentions the control of power delivery to the mobility assembly and the working assembly.', 'DUP: [1] Control Systems: Mentions the auto idle assembly and its inputs to the drive control system.']\n",
      "--------------------\n"
     ]
    },
    {
     "name": "stderr",
     "output_type": "stream",
     "text": [
      " 84%|████████▍ | 839/1000 [40:56<08:47,  3.27s/it]"
     ]
    },
    {
     "name": "stdout",
     "output_type": "stream",
     "text": [
      "Document: 839\n",
      "Topics: ['DUP: [1] Aviation Technology: Mentions aircraft and their components, including engines and support systems.', 'DUP: [1] Engineering: Mentions design and construction of systems and structures.', 'DUP: [1] Electrical Systems: Mentions electrical components and power supply systems.', 'DUP: [1] Manufacturing: Mentions production processes and systems.', 'DUP: [1] Technology: Mentions scientific and technological developments.']\n",
      "--------------------\n"
     ]
    },
    {
     "name": "stderr",
     "output_type": "stream",
     "text": [
      " 84%|████████▍ | 840/1000 [40:59<08:28,  3.18s/it]"
     ]
    },
    {
     "name": "stdout",
     "output_type": "stream",
     "text": [
      "Document: 840\n",
      "Topics: ['DUP: [1] Wireless Communications: Mentions the exchange of data or information using wireless technology.', 'DUP: [1] Mobile Devices: Mentions portable electronic devices, such as smartphones or tablets.', 'NEW: [1] Signal Detection: Mentions the identification or identification of signals.', 'DUP: [1] Receiver Technology: Mentions devices used to receive signals.', 'NEW: [1] Access Points: Mentions wireless networks and their connection points.', 'DUP: [1] Power Management: Mentions the efficient use of energy.', 'DUP: [1] Sensor Technology: Mentions devices used to detect or measure physical properties.', 'DUP: [1] Control Systems: Mentions systems used to manage or regulate processes.']\n",
      "--------------------\n"
     ]
    },
    {
     "name": "stderr",
     "output_type": "stream",
     "text": [
      " 84%|████████▍ | 841/1000 [41:01<07:51,  2.96s/it]"
     ]
    },
    {
     "name": "stdout",
     "output_type": "stream",
     "text": [
      "Document: 841\n",
      "Topics: ['DUP: [1] Battery Technology: Mentions the manufacturing process of batteries and the inspection method for detecting defects in pre-aged battery cells.']\n",
      "--------------------\n"
     ]
    },
    {
     "name": "stderr",
     "output_type": "stream",
     "text": [
      " 84%|████████▍ | 842/1000 [41:04<07:34,  2.87s/it]"
     ]
    },
    {
     "name": "stdout",
     "output_type": "stream",
     "text": [
      "Document: 842\n",
      "Topics: ['DUP: [1] Engineering Controls: This topic refers to the use of computer systems to manage and optimize various engineering processes, including compensation planning for performance-based employees in the automotive industry.']\n",
      "--------------------\n"
     ]
    },
    {
     "name": "stderr",
     "output_type": "stream",
     "text": [
      " 84%|████████▍ | 843/1000 [41:06<07:10,  2.74s/it]"
     ]
    },
    {
     "name": "stdout",
     "output_type": "stream",
     "text": [
      "Document: 843\n",
      "Topics: ['NEW: [1] Quantum Technology: Mentions the use of quantum principles in technology, including quantum authentication and quantum circuitry.', 'DUP: [1] Wireless Communications: Mentions wireless communication networks and wireless User Equipment.']\n",
      "--------------------\n"
     ]
    },
    {
     "name": "stderr",
     "output_type": "stream",
     "text": [
      " 84%|████████▍ | 844/1000 [41:09<07:05,  2.73s/it]"
     ]
    },
    {
     "name": "stdout",
     "output_type": "stream",
     "text": [
      "Document: 844\n",
      "Topics: ['DUP: [1] Renewable Energy: Mentions the use of renewable energy sources, specifically photovoltaic power generation.', 'DUP: [1] Electrical Systems: Mentions the charging of a battery in an electronic device using electric energy generated by a photovoltaic material.', 'DUP: [1] Power Management: Mentions the detection of light intensity and setting of power generation parameters based on open-circuit voltage.']\n",
      "--------------------\n"
     ]
    },
    {
     "name": "stderr",
     "output_type": "stream",
     "text": [
      " 84%|████████▍ | 845/1000 [41:12<07:23,  2.86s/it]"
     ]
    },
    {
     "name": "stdout",
     "output_type": "stream",
     "text": [
      "Document: 845\n",
      "Topics: ['NEW: [1] Smoking Technology: Mentions the process of preserving and flavoring food through the use of smoke.', 'NEW: [1] Outdoor Grills: Mentions grills designed for use outside.', 'NEW: [1] Electronic Controllers: Mentions devices used to manage and automate various systems.', 'NEW: [1] Combustion: Mentions the process of burning fuel.', 'NEW: [1] Pellets: Mentions small, compressed pieces of material used as fuel.', 'DUP: [1] Temperature Control: Mentions the regulation of temperature.']\n",
      "--------------------\n"
     ]
    },
    {
     "name": "stderr",
     "output_type": "stream",
     "text": [
      " 85%|████████▍ | 846/1000 [41:16<08:03,  3.14s/it]"
     ]
    },
    {
     "name": "stdout",
     "output_type": "stream",
     "text": [
      "Document: 846\n",
      "Topics: ['DUP: [1] Wireless Power Transmission: Mentions the transfer of power without the use of wires.', 'DUP: [1] Communication Technology: Mentions the exchange of information between two or more entities.', 'NEW: [1] Channel Search: Mentions the process of looking for available communication channels.', 'NEW: [1] State Measurement: Mentions the process of gathering information about the current state of a system.', 'NEW: [1] Channel Determination: Mentions the process of selecting a communication channel based on certain criteria.', 'NEW: [1] Communication: Mentions the exchange of information between two or more entities.', 'NEW: [1] Access Instruction: Mentions the signal sent to initiate communication with a target device.', 'NEW: [1] Response Signal: Mentions the signal sent by a device in response to a request or instruction.', 'NEW: [1] Controller: Mentions a device that makes decisions based on input and executes commands.']\n",
      "--------------------\n"
     ]
    },
    {
     "name": "stderr",
     "output_type": "stream",
     "text": [
      " 85%|████████▍ | 847/1000 [41:18<07:28,  2.93s/it]"
     ]
    },
    {
     "name": "stdout",
     "output_type": "stream",
     "text": [
      "Document: 847\n",
      "Topics: ['DUP: [1] Agriculture: Mentions practices and products related to farming and food production, with a focus on regenerative agriculture and sustainable sourcing for low carbon intensity fuels and comestibles.']\n",
      "--------------------\n"
     ]
    },
    {
     "name": "stderr",
     "output_type": "stream",
     "text": [
      " 85%|████████▍ | 848/1000 [41:21<07:23,  2.92s/it]"
     ]
    },
    {
     "name": "stdout",
     "output_type": "stream",
     "text": [
      "Document: 848\n",
      "Topics: ['DUP: [1] Induction Technology: Mentions the use of electromagnetic fields to generate heat for cooking applications.', 'DUP: [1] Microcontrollers: Mentions the use of electronic control units for managing the switching elements in the heating coils.', 'DUP: [1] Heating Systems: Mentions the use of heating coils and microcontrollers for controlling the temperature and power distribution in cooking applications.', 'DUP: [1] Electrical Systems: Mentions the use of switching elements and microcontrollers for controlling the flow of electrical power in heating applications.']\n",
      "--------------------\n"
     ]
    },
    {
     "name": "stderr",
     "output_type": "stream",
     "text": [
      " 85%|████████▍ | 849/1000 [41:24<07:36,  3.02s/it]"
     ]
    },
    {
     "name": "stdout",
     "output_type": "stream",
     "text": [
      "Document: 849\n",
      "Topics: ['DUP: [1] Identification Systems: Systems used to identify objects or entities, in this case, components of an industrial machine using identification tags and readers.', 'NEW: [1] Industrial Machines: Large mechanical equipment used for various manufacturing processes.', 'DUP: [1] Control Systems: Systems used to manage and regulate the operation of other systems or processes, in this case, the identification and comparison of components in an industrial machine.', 'NEW: [1] Operational Settings: Configurations or conditions under which an industrial machine or its components operate.', 'NEW: [1] Parameters: Quantifiable characteristics or values used to describe the operation or performance of a system or process.']\n",
      "--------------------\n"
     ]
    },
    {
     "name": "stderr",
     "output_type": "stream",
     "text": [
      " 85%|████████▌ | 850/1000 [41:28<07:44,  3.10s/it]"
     ]
    },
    {
     "name": "stdout",
     "output_type": "stream",
     "text": [
      "Document: 850\n",
      "Topics: ['DUP: [1] Appliances: Mentions a specific type of appliance with various components.', 'NEW: [1] Cooking Technology: Mentions technology related to cooking and heating food.', 'DUP: [1] Microwave Technology: Mentions the use of microwaves for heating or cooking.', 'NEW: [1] Convection Technology: Mentions the use of hot air for cooking or baking.', 'NEW: [1] Grilling Technology: Mentions the use of radiant heat for cooking.', 'DUP: [1] Control Systems: Mentions systems used to manage and operate other systems.', 'DUP: [1] Heating Systems: Mentions systems used to generate and distribute heat.']\n",
      "--------------------\n"
     ]
    },
    {
     "name": "stderr",
     "output_type": "stream",
     "text": [
      " 85%|████████▌ | 851/1000 [41:30<07:22,  2.97s/it]"
     ]
    },
    {
     "name": "stdout",
     "output_type": "stream",
     "text": [
      "Document: 851\n",
      "Topics: ['DUP: [1] Wireless Communications: Mentions wireless devices and their communication functions.', 'DUP: [1] Bluetooth Technology: Mentions pairing of devices and low power wireless communication.', 'DUP: [1] Power Management: Mentions placing wireless transceivers into sleep mode for power savings.']\n",
      "--------------------\n"
     ]
    },
    {
     "name": "stderr",
     "output_type": "stream",
     "text": [
      " 85%|████████▌ | 852/1000 [41:35<08:32,  3.46s/it]"
     ]
    },
    {
     "name": "stdout",
     "output_type": "stream",
     "text": [
      "Document: 852\n",
      "Topics: ['DUP: [1] Solar Energy: Mentions the production of energy from the sun using solar cells.', 'DUP: [1] Solar Cell Technology: Mentions the design, manufacturing, and efficiency of solar cells.', 'DUP: [1] Photovoltaics: Mentions the conversion of light energy into electrical energy using solar cells.', 'DUP: [1] Electrical Systems: Mentions the design and implementation of electrical systems.', 'DUP: [1] Materials Science: Mentions the study of materials and their properties.', 'DUP: [1] Engineering Design: Mentions the process of designing and developing new products or systems.', 'DUP: [1] Manufacturing: Mentions the production of goods through various processes.', 'DUP: [1] Material Processing: Mentions the manipulation and transformation of materials.', 'DUP: [1] Insulation Materials: Mentions materials used to prevent the transfer of heat or electricity.', 'DUP: [1] Reflective Materials: Mentions materials that reflect light or heat.', 'DUP: [1] Control Systems: Mentions systems used to manage and regulate processes or machines.', 'NEW: [1] Components: Mentions individual parts or elements of a larger system.', 'DUP: [1] Electrical Engineering: Mentions the application of electrical principles to design and develop systems.', 'DUP: [1] Mechanical Engineering: Mentions the application of mechanical principles to design and develop systems.', 'DUP: [1] Engineering Controls: Ment']\n",
      "--------------------\n"
     ]
    },
    {
     "name": "stderr",
     "output_type": "stream",
     "text": [
      " 85%|████████▌ | 853/1000 [41:39<09:06,  3.71s/it]"
     ]
    },
    {
     "name": "stdout",
     "output_type": "stream",
     "text": [
      "Document: 853\n",
      "Topics: ['DUP: [1] Wind Energy: Mentions the generation of electricity from wind using turbines.', 'DUP: [1] Engineering Design: Mentions the process of creating new products or systems through a systematic approach.', 'DUP: [1] Mechanical Engineering: Mentions the application of principles of physics and mathematics to design, build, and maintain mechanical systems.', 'DUP: [1] Manufacturing: Mentions the process of producing goods on a large scale using machinery.', 'DUP: [1] Material Processing: Mentions the transformation of raw materials into finished products.', 'DUP: [1] Composite Materials: Mentions materials made from two or more materials with significantly different physical or chemical properties.', 'DUP: [1] Structural Design: Mentions the process of creating the physical structure of a product or system.', 'DUP: [1] Aerodynamics: Mentions the study of the motion of air and other gases.', 'DUP: [1] Fluid Dynamics: Mentions the study of the behavior of fluids in motion.', 'DUP: [1] Material Science: Mentions the study of the properties and behavior of materials.', 'NEW: [1] Frame Technology: Mentions the technology used to create frames or structures.', 'NEW: [1] Blade Technology: Mentions the technology used to create blades or aerodynamic components.', 'NEW: [1] Vanes: Mentions the components used']\n",
      "--------------------\n"
     ]
    },
    {
     "name": "stderr",
     "output_type": "stream",
     "text": [
      " 85%|████████▌ | 854/1000 [41:42<08:02,  3.30s/it]"
     ]
    },
    {
     "name": "stdout",
     "output_type": "stream",
     "text": [
      "Document: 854\n",
      "Topics: ['DUP: [1] Memory Technology: Mentions various aspects of memory systems, including memory modules, substrates, signal lines, control paths, data paths, and memory devices. This topic is broad enough to accommodate future subtopics related to memory technologies.']\n",
      "--------------------\n"
     ]
    },
    {
     "name": "stderr",
     "output_type": "stream",
     "text": [
      " 86%|████████▌ | 855/1000 [41:46<08:51,  3.67s/it]"
     ]
    },
    {
     "name": "stdout",
     "output_type": "stream",
     "text": [
      "Document: 855\n",
      "Topics: ['DUP: [1] Telecommunications: Mentions communication systems and technologies.', 'DUP: [1] Base Stations: Mentions infrastructure used to provide wireless communication services.', 'DUP: [1] Energy Efficiency: Mentions methods and technologies to reduce energy consumption.', 'DUP: [1] Synchronization: Mentions methods and technologies to ensure coordinated operation between different components in a system.', 'NEW: [1] Traffic Analysis: Mentions methods and techniques to analyze communication traffic patterns.', 'NEW: [1] Signaling and Control Information: Mentions data exchanged between communication devices to maintain network connectivity and manage communication traffic.']\n",
      "--------------------\n"
     ]
    },
    {
     "name": "stderr",
     "output_type": "stream",
     "text": [
      " 86%|████████▌ | 856/1000 [41:48<07:50,  3.27s/it]"
     ]
    },
    {
     "name": "stdout",
     "output_type": "stream",
     "text": [
      "Document: 856\n",
      "Topics: []\n",
      "--------------------\n"
     ]
    },
    {
     "name": "stderr",
     "output_type": "stream",
     "text": [
      " 86%|████████▌ | 857/1000 [41:53<08:28,  3.55s/it]"
     ]
    },
    {
     "name": "stdout",
     "output_type": "stream",
     "text": [
      "Document: 857\n",
      "Topics: ['NEW: [1] Photovoltaic Power Generation: Mentions the process of converting sunlight into electricity using photovoltaic cells.', 'DUP: [1] Power Generation: Mentions the process of generating electrical power.', 'DUP: [1] Computer Systems: Mentions the use of digital computers to process data.', 'NEW: [1] Forecasting: Mentions the prediction of future events or trends.', 'DUP: [1] Renewable Energy: Mentions energy sources that are naturally replenished.', 'DUP: [1] Solar Energy: Mentions energy derived from the sun.', 'DUP: [1] Weather Technology: Mentions the measurement and analysis of weather conditions.', 'DUP: [1] Data Processing: Mentions the manipulation and analysis of data.', 'DUP: [1] Simulation: Mentions the imitation of real-world processes or systems.', 'DUP: [1] Engineering: Mentions the application of scientific, economic, social, and practical knowledge to design, build, and maintain structures, machines, devices, systems, and processes.', 'DUP: [1] Electrical Systems: Mentions systems used to generate, transmit, and distribute electrical power.']\n",
      "--------------------\n"
     ]
    },
    {
     "name": "stderr",
     "output_type": "stream",
     "text": [
      " 86%|████████▌ | 858/1000 [41:57<08:42,  3.68s/it]"
     ]
    },
    {
     "name": "stdout",
     "output_type": "stream",
     "text": [
      "Document: 858\n",
      "Topics: ['DUP: [1] Engineering: Mentions the development of a fuel-management system for minimizing particulate emissions in turbocharged direct injection gasoline engines.', 'DUP: [1] Engineering Design: Mentions optimizing the use of port fuel injection (PFI) in combination with direct injection (DI) for reducing particulate emissions in turbocharged direct injection engines.', 'NEW: [1] Emissions Control: Mentions minimizing particulate emissions from turbocharged direct injection engines.', 'DUP: [1] Combustion Technology: Mentions turbocharged direct injection gasoline engines and their combustion processes.', 'DUP: [1] Gas Technology: Mentions gasoline engines and their fuel management systems.', 'DUP: [1] Automotive Technology: Mentions turbocharged direct injection engines and their optimization for reducing particulate emissions.', 'DUP: [1] Engineering Controls: Mentions control systems for increasing the effectiveness of port fuel injector use and for reducing particulate emissions.', 'DUP: [1] Material Science: Mentions reducing particulate emissions, particularly during cold start and transient conditions.', 'DUP: [1] Nanotechnology: Implied, as optimization of fuel management systems for reducing particulate emissions may involve nanotechnology.', 'DUP: [1] Energy: Mentions the importance of reducing drive cycle emissions for energy efficiency.']\n",
      "--------------------\n"
     ]
    },
    {
     "name": "stderr",
     "output_type": "stream",
     "text": [
      " 86%|████████▌ | 859/1000 [42:00<08:22,  3.56s/it]"
     ]
    },
    {
     "name": "stdout",
     "output_type": "stream",
     "text": [
      "Document: 859\n",
      "Topics: ['DUP: [1] Composite Materials: Mentions the use of composite materials in engineering applications.', 'DUP: [1] Aerospace Engineering: Mentions the design and manufacturing of aircraft and spacecraft components.', 'DUP: [1] Material Science: Mentions the study of materials and their properties.', 'DUP: [1] Engineering Design: Mentions the process of designing and developing new products or systems.', 'DUP: [1] Manufacturing: Mentions the production of goods through various processes.', 'DUP: [1] Material Processing: Mentions the transformation of raw materials into finished products.', 'DUP: [1] Metallurgy: Mentions the science of metals and their processing.', 'DUP: [1] Titanium: Mentions the specific metal used in the document.']\n",
      "--------------------\n"
     ]
    },
    {
     "name": "stderr",
     "output_type": "stream",
     "text": [
      " 86%|████████▌ | 860/1000 [42:04<08:28,  3.63s/it]"
     ]
    },
    {
     "name": "stdout",
     "output_type": "stream",
     "text": [
      "Document: 860\n",
      "Topics: ['DUP: [1] Engineering Design: Mentions the process of designing systems, components, or products.', 'DUP: [1] Gas Technology: Mentions the production, processing, or utilization of gases.', 'DUP: [1] Manufacturing: Mentions the process of producing goods through the use of tools, machines, or other technology.', 'DUP: [1] Mechanical Engineering: Mentions the application of engineering principles to mechanical systems and structures.', 'DUP: [1] Technology: Mentions the application of scientific knowledge for practical purposes.']\n",
      "--------------------\n"
     ]
    },
    {
     "name": "stderr",
     "output_type": "stream",
     "text": [
      " 86%|████████▌ | 861/1000 [42:07<07:53,  3.40s/it]"
     ]
    },
    {
     "name": "stdout",
     "output_type": "stream",
     "text": [
      "Document: 861\n",
      "Topics: ['DUP: [1] Portable Devices: Mentions handheld or mobile devices.', 'DUP: [1] Data Communication: Mentions the exchange of digital information between devices or systems.', 'DUP: [1] Control Systems: Mentions systems used to manage and direct the operation of other systems or processes.', 'NEW: [1] Adaptive Systems: Mentions systems that can adjust to changing conditions.', 'DUP: [1] Display Technology: Mentions technology related to the production and use of visual displays.', 'NEW: [1] Fast Dormancy Policy: Mentions a power-saving technique for reducing power consumption in portable devices.']\n",
      "--------------------\n"
     ]
    },
    {
     "name": "stderr",
     "output_type": "stream",
     "text": [
      " 86%|████████▌ | 862/1000 [42:09<07:14,  3.15s/it]"
     ]
    },
    {
     "name": "stdout",
     "output_type": "stream",
     "text": [
      "Document: 862\n",
      "Topics: ['DUP: [1] Chemical Processing: Mentions the processing of chemicals, including reactions and distillation.', 'NEW: [1] Pharmaceutical Industry: Mentions the production of pharmaceutical intermediates and drugs, such as lopamidol.', 'DUP: [1] Organic Chemistry: Mentions the use of organic compounds, such as lactic acid, acetic anhydride, and acetic acid, in the chemical process.']\n",
      "--------------------\n"
     ]
    },
    {
     "name": "stderr",
     "output_type": "stream",
     "text": [
      " 86%|████████▋ | 863/1000 [42:13<07:33,  3.31s/it]"
     ]
    },
    {
     "name": "stdout",
     "output_type": "stream",
     "text": [
      "Document: 863\n",
      "Topics: ['DUP: [1] Data Communication: Mentions the exchange of digital information between two or more devices.', 'DUP: [1] Digital Signals: Mentions electrical or electromagnetic signals used to represent data.', 'NEW: [1] Microframes: Mentions small units of data communication.', 'DUP: [1] Thresholds: Mentions a set value or condition that must be met before an action can be taken.', 'NEW: [1] Transmitters and Receivers: Mentions devices used to send and receive data, respectively.', 'NEW: [1] Frame Synchronization: Mentions the process of aligning data frames for communication.']\n",
      "--------------------\n"
     ]
    },
    {
     "name": "stderr",
     "output_type": "stream",
     "text": [
      " 86%|████████▋ | 864/1000 [42:16<07:20,  3.24s/it]"
     ]
    },
    {
     "name": "stdout",
     "output_type": "stream",
     "text": [
      "Document: 864\n",
      "Topics: ['DUP: [1] Photovoltaic Systems: Mentions the design and implementation of photovoltaic systems.', 'DUP: [1] Computer Systems: Mentions the use of computer systems for design automation.', 'DUP: [1] Memory Technology: Mentions the communication with a memory.', 'NEW: [1] Design Automation: Mentions the automation of design processes.', 'NEW: [1] System Layout: Mentions the determination of the layout of a system.', 'NEW: [1] Photovoltaic Design: Mentions the design of photovoltaic systems.', 'NEW: [1] System Tables: Mentions the selection of system tables for design purposes.', 'NEW: [1] System Orientation: Mentions the identification of the orientation of a system.', 'NEW: [1] System Spacing: Mentions the identification of system spacing.', 'NEW: [1] Layout Algorithms: Mentions the application of layout algorithms for system design.']\n",
      "--------------------\n"
     ]
    },
    {
     "name": "stderr",
     "output_type": "stream",
     "text": [
      " 86%|████████▋ | 865/1000 [42:18<06:49,  3.03s/it]"
     ]
    },
    {
     "name": "stdout",
     "output_type": "stream",
     "text": [
      "Document: 865\n",
      "Topics: ['NEW: [1] UAV Technology: Mentions the use of unmanned aerial vehicles.', 'NEW: [1] Flight Safety: Mentions measures to ensure safe flight operations.', 'NEW: [1] Landing Systems: Mentions systems used for UAV landings.', 'DUP: [1] Safety Systems: Mentions systems designed to prevent accidents or injuries.']\n",
      "--------------------\n"
     ]
    },
    {
     "name": "stderr",
     "output_type": "stream",
     "text": [
      " 87%|████████▋ | 866/1000 [42:21<06:44,  3.02s/it]"
     ]
    },
    {
     "name": "stdout",
     "output_type": "stream",
     "text": [
      "Document: 866\n",
      "Topics: ['DUP: [1] Hydrogen Technology: Mentions hydrogen generation and related systems.', 'NEW: [1] Electrolyzers: Mentions electrolyzers as a specific type of hydrogen generation technology.', 'DUP: [1] Power Supplies: Mentions power supplies for managing electrical power to electrolyzers.', 'DUP: [1] Redundancy: Mentions redundant power supplies for ensuring system reliability.', 'NEW: [1] Hubs: Mentions hubs as a component of hydrogen generation systems.', 'NEW: [1] Water Modules: Mentions water modules for providing water to electrolyzers.', 'NEW: [1] Heat Exchange Modules: Mentions heat exchange modules for managing heat in hydrogen generation systems.', 'NEW: [1] Switchgear Modules: Mentions switchgear modules for managing electrical connections in hydrogen generation systems.']\n",
      "--------------------\n"
     ]
    },
    {
     "name": "stderr",
     "output_type": "stream",
     "text": [
      " 87%|████████▋ | 867/1000 [42:26<07:40,  3.46s/it]"
     ]
    },
    {
     "name": "stdout",
     "output_type": "stream",
     "text": [
      "Document: 867\n",
      "Topics: ['NEW: [1] Cryogenic Processing: Refers to the use of extremely low temperatures in industrial processes.', 'NEW: [1] Grinding Technology: Involves the reduction of solid particles to smaller sizes through various mechanical or chemical means.', 'DUP: [1] Material Processing: Covers the transformation of raw materials into finished products through various manufacturing processes.', 'DUP: [1] Separation Technology: Deals with the separation of mixtures into individual components or fractions.', 'NEW: [1] Classification Systems: Used for sorting and categorizing materials based on specific properties.', 'DUP: [1] Gas Technology: Encompasses the production, processing, and utilization of gases.', 'DUP: [1] Cryogenics: A subfield of low-temperature physics dealing with the production and properties of materials at very low temperatures.', 'DUP: [1] Machining: Refers to the process of removing material from a workpiece to create a desired shape or size.', 'DUP: [1] Industrial Automation: Involves the use of control systems, sensors, and machines to automate industrial processes.', 'DUP: [1] Engineering Systems: Covers the design, development, and implementation of systems for various applications.', 'DUP: [1] Mechanical Engineering: Deals with the design, analysis, and manufacturing of mechanical systems.', 'DUP: [1] Manufacturing: Encompasses the production of goods through various industrial processes.']\n",
      "--------------------\n"
     ]
    },
    {
     "name": "stderr",
     "output_type": "stream",
     "text": [
      " 87%|████████▋ | 868/1000 [42:29<07:25,  3.38s/it]"
     ]
    },
    {
     "name": "stdout",
     "output_type": "stream",
     "text": [
      "Document: 868\n",
      "Topics: ['DUP: [1] Internal Combustion Engines: Mentions the operation and control of internal combustion engines.', 'DUP: [1] Engine Control Systems: Mentions the systems used to manage and optimize engine performance.', 'DUP: [1] Ignition Systems: Mentions the systems used to ignite the fuel in an internal combustion engine.', 'DUP: [1] Valve Technology: Mentions the technology related to the design and operation of valves.', 'NEW: [1] Sensors and Measurement: Mentions the devices used to measure and detect various conditions and parameters.', 'DUP: [1] Electrical Systems: Mentions the systems used to generate, distribute, and utilize electrical power.']\n",
      "--------------------\n"
     ]
    },
    {
     "name": "stderr",
     "output_type": "stream",
     "text": [
      " 87%|████████▋ | 869/1000 [42:32<06:58,  3.19s/it]"
     ]
    },
    {
     "name": "stdout",
     "output_type": "stream",
     "text": [
      "Document: 869\n",
      "Topics: ['DUP: [1] Energy: Mentions power supply system and energy storage.', 'DUP: [1] Vehicle Technology: Mentions vehicle power supply system and control processes.', 'DUP: [1] Battery Technology: Mentions charging processes and battery states.', 'DUP: [1] Power Management: Mentions voltage threshold and charging device control.']\n",
      "--------------------\n"
     ]
    },
    {
     "name": "stderr",
     "output_type": "stream",
     "text": [
      " 87%|████████▋ | 870/1000 [42:36<07:18,  3.37s/it]"
     ]
    },
    {
     "name": "stdout",
     "output_type": "stream",
     "text": [
      "Document: 870\n",
      "Topics: ['NEW: [1] Electroluminescent Technology: This topic covers the technology used to create light through the application of an electric current, specifically the new electroluminescent element described in the document.', 'DUP: [1] Light Emitting Materials: This topic covers various materials used to emit light, including the host material and phosphorescent material mentioned in the document.', 'NEW: [1] Color Control: This topic covers the ability to manipulate and control the balance of different colors in light emission.', 'DUP: [1] Material Science: This topic covers the study of various materials and their properties, including the light-emitting materials used in electroluminescent technology.', 'DUP: [1] Optoelectronics: This topic covers the study of the interaction between light and electronic components, including the electroluminescent element described in the document.']\n",
      "--------------------\n"
     ]
    },
    {
     "name": "stderr",
     "output_type": "stream",
     "text": [
      " 87%|████████▋ | 871/1000 [42:41<08:14,  3.83s/it]"
     ]
    },
    {
     "name": "stdout",
     "output_type": "stream",
     "text": [
      "Document: 871\n",
      "Topics: ['NEW: [1] Mobile Communications: Mentions the use of mobile terminals and their operation in communication systems.', 'DUP: [1] Wireless Technology: Mentions wireless communication and related technologies.', 'NEW: [1] Frequency Ranges: Mentions different frequency ranges used in communication systems.', 'NEW: [1] Search Spaces: Mentions the concept of search spaces in communication systems.', 'NEW: [1] PDCCH Candidates: Mentions the monitoring of PDCCH candidates in communication systems.', 'NEW: [1] DCI: Mentions the use of Downlink Control Information in communication systems.', 'NEW: [1] Mobile Terminal Control: Mentions the control of mobile terminals in communication systems.', 'NEW: [1] Communication Signals: Mentions the transmission and reception of signals in communication systems.', 'NEW: [1] Frequency Bands: Mentions specific frequency bands used in communication systems.', 'DUP: [1] Data Transmission: Mentions the transmission of data in communication systems.', 'DUP: [1] Communication Systems: Mentions the overall concept of communication systems.']\n",
      "--------------------\n"
     ]
    },
    {
     "name": "stderr",
     "output_type": "stream",
     "text": [
      " 87%|████████▋ | 872/1000 [42:43<07:18,  3.42s/it]"
     ]
    },
    {
     "name": "stdout",
     "output_type": "stream",
     "text": [
      "Document: 872\n",
      "Topics: ['DUP: [1] Lighting and Climate Control: Mentions systems and apparatuses related to controlling lighting and climate conditions.', 'DUP: [1] Control Systems: Mentions systems used to manage, direct, or regulate other systems or processes.']\n",
      "--------------------\n"
     ]
    },
    {
     "name": "stderr",
     "output_type": "stream",
     "text": [
      " 87%|████████▋ | 873/1000 [42:47<07:24,  3.50s/it]"
     ]
    },
    {
     "name": "stdout",
     "output_type": "stream",
     "text": [
      "Document: 873\n",
      "Topics: ['DUP: [1] Engineering: Mentions a method of engineering a solution for regenerating a gasoline particulate filter.', 'DUP: [1] Internal Combustion Engines: Mentions the use of an internal combustion engine in the context of regenerating a gasoline particulate filter.', 'DUP: [1] Filters: Mentions the use of a filter in the context of regenerating a gasoline particulate filter.', 'DUP: [1] Temperature Control: Mentions the control of coolant temperature in the context of regenerating a gasoline particulate filter.', 'NEW: [1] Time Control: Mentions the control of time in the context of maintaining an idle state of the engine for a predetermined time.', 'DUP: [1] Fuel Systems: Mentions the use of fuel injection in the context of regenerating a gasoline particulate filter.', 'NEW: [1] Emission Control: Mentions the control of emissions in the context of regenerating a gasoline particulate filter.']\n",
      "--------------------\n"
     ]
    },
    {
     "name": "stderr",
     "output_type": "stream",
     "text": [
      " 87%|████████▋ | 874/1000 [42:50<07:28,  3.56s/it]"
     ]
    },
    {
     "name": "stdout",
     "output_type": "stream",
     "text": [
      "Document: 874\n",
      "Topics: ['NEW: [1] Hybrid Propulsion Systems: Refers to the use of multiple power sources in a vehicle to improve efficiency and reduce emissions.', 'DUP: [1] Control Systems: Relates to the use of automated systems to manage and optimize various processes or systems.', 'DUP: [1] Cost Functions: Represents the mathematical expression of the cost or expense associated with a particular process or system.', 'DUP: [1] Modeling: Involves creating a representation or simulation of a real-world system or process.', 'DUP: [1] Efficiency: Represents the ability to maximize output while minimizing input.', 'NEW: [1] Pollution Emissions: Represents the release of harmful substances into the environment.', 'NEW: [1] Fuel Consumption: Represents the amount of fuel used by a vehicle or system.']\n",
      "--------------------\n"
     ]
    },
    {
     "name": "stderr",
     "output_type": "stream",
     "text": [
      " 88%|████████▊ | 875/1000 [42:53<06:58,  3.35s/it]"
     ]
    },
    {
     "name": "stdout",
     "output_type": "stream",
     "text": [
      "Document: 875\n",
      "Topics: ['DUP: [1] Agriculture: Mentions agricultural practices and products, specifically microbial inoculants for promoting plant growth and soil quality.', 'DUP: [1] Microbiology: Mentions microbial species.', 'NEW: [1] Inhibitors: Mentions urease inhibitors and nitrification inhibitors.', 'NEW: [1] Fertilizers: Mentions fertilizer compositions containing microbial inoculants.']\n",
      "--------------------\n"
     ]
    },
    {
     "name": "stderr",
     "output_type": "stream",
     "text": [
      " 88%|████████▊ | 876/1000 [42:57<07:07,  3.45s/it]"
     ]
    },
    {
     "name": "stdout",
     "output_type": "stream",
     "text": [
      "Document: 876\n",
      "Topics: ['DUP: [1] Adapters: Devices used to connect different components with incompatible interfaces.', 'DUP: [1] Battery Technology: Covers various types of batteries and their applications.', 'DUP: [1] Electrical Systems: Systems used to distribute and utilize electrical power.', 'DUP: [1] Engineering Design: Process of creating new products or systems using scientific, economic, social, and practical knowledge.', 'DUP: [1] Manufacturing: The process of making products on a large scale using machinery.', 'DUP: [1] Power Tools: Tools that require an external power source to operate.', 'DUP: [1] Technology: The application of scientific knowledge for practical purposes.']\n",
      "--------------------\n"
     ]
    },
    {
     "name": "stderr",
     "output_type": "stream",
     "text": [
      " 88%|████████▊ | 877/1000 [43:00<06:43,  3.28s/it]"
     ]
    },
    {
     "name": "stdout",
     "output_type": "stream",
     "text": [
      "Document: 877\n",
      "Topics: ['DUP: [1] Power Management: The process of managing power consumption in electronic devices to maximize efficiency and extend battery life.', 'NEW: [1] Wireless Transactions: The exchange of data or financial information between devices using wireless communication technology.', 'NEW: [1] Powered Mode: A mode of operation for electronic devices that utilizes an internal power source.', 'NEW: [1] Unpowered Mode: A mode of operation for electronic devices that does not utilize an internal power source.']\n",
      "--------------------\n"
     ]
    },
    {
     "name": "stderr",
     "output_type": "stream",
     "text": [
      " 88%|████████▊ | 878/1000 [43:03<06:35,  3.25s/it]"
     ]
    },
    {
     "name": "stdout",
     "output_type": "stream",
     "text": [
      "Document: 878\n",
      "Topics: ['DUP: [1] Battery Technology: Mentions the study and development of batteries and their components.', 'DUP: [1] Material Science: Mentions the study of various materials and their properties.', 'DUP: [1] Electrical Systems: Mentions electrical components and systems.']\n",
      "--------------------\n"
     ]
    },
    {
     "name": "stderr",
     "output_type": "stream",
     "text": [
      " 88%|████████▊ | 879/1000 [43:06<06:15,  3.10s/it]"
     ]
    },
    {
     "name": "stdout",
     "output_type": "stream",
     "text": [
      "Document: 879\n",
      "Topics: ['DUP: [1] Engineering: Mentions engineering practices and principles.', 'DUP: [1] Manufacturing: Mentions manufacturing processes and techniques.', 'DUP: [1] Turbochargers: Mentions turbocharger components and their manufacturing processes.']\n",
      "--------------------\n"
     ]
    },
    {
     "name": "stderr",
     "output_type": "stream",
     "text": [
      " 88%|████████▊ | 880/1000 [43:10<06:37,  3.31s/it]"
     ]
    },
    {
     "name": "stdout",
     "output_type": "stream",
     "text": [
      "Document: 880\n",
      "Topics: ['DUP: [1] Engineering: Mentions the design, construction, and use of machines and structures.', 'DUP: [1] Mechanical Engineering: A subfield of engineering that deals with the design, construction, and operation of mechanical systems.', 'DUP: [1] Internal Combustion Engines: Engines that use the heat of combustion to perform mechanical work.', 'DUP: [1] Engineering Design: The process of creating new products or systems through the application of scientific, economic, social, and practical knowledge.', 'DUP: [1] Sensor Technology: Technology related to the design, manufacture, and application of sensors.', 'DUP: [1] Diagnostic Systems: Systems used to identify and solve problems in other systems or processes.', 'DUP: [1] Control Systems: Systems used to manage, direct, or regulate the behavior of other systems or processes.']\n",
      "--------------------\n"
     ]
    },
    {
     "name": "stderr",
     "output_type": "stream",
     "text": [
      " 88%|████████▊ | 881/1000 [43:13<06:47,  3.42s/it]"
     ]
    },
    {
     "name": "stdout",
     "output_type": "stream",
     "text": [
      "Document: 881\n",
      "Topics: ['DUP: [1] Wind Energy: Mentions the production of energy from wind.', 'DUP: [1] Engineering Design: Mentions the process of creating designs for various applications.', 'DUP: [1] Manufacturing: Mentions the process of producing goods.', 'DUP: [1] Composite Materials: Mentions materials made from two or more materials.', 'DUP: [1] Blade Technology: Mentions the study and application of blades.', 'DUP: [1] Installation Technology: Mentions the process of installing equipment or structures.', 'NEW: [1] Templates: Mentions tools used to guide the placement or formation of something.', 'DUP: [1] Geometry: Mentions the study of shapes and their properties.']\n",
      "--------------------\n"
     ]
    },
    {
     "name": "stderr",
     "output_type": "stream",
     "text": [
      " 88%|████████▊ | 882/1000 [43:16<06:27,  3.28s/it]"
     ]
    },
    {
     "name": "stdout",
     "output_type": "stream",
     "text": [
      "Document: 882\n",
      "Topics: ['DUP: [1] Wind Energy: Mentions the use of wind as a source of energy.', 'DUP: [1] Engineering Design: Mentions the process of designing a system or product.', 'DUP: [1] Control Systems: Mentions systems used to regulate and direct the operation of other systems or processes.', 'DUP: [1] Mechanical Engineering: Mentions the application of engineering principles to mechanical systems.', 'DUP: [1] Electrical Systems: Mentions electrical components and systems.', 'DUP: [1] Sensor Technology: Mentions devices used to detect and measure physical properties and convert them into electrical signals.']\n",
      "--------------------\n"
     ]
    },
    {
     "name": "stderr",
     "output_type": "stream",
     "text": [
      " 88%|████████▊ | 883/1000 [43:20<06:56,  3.56s/it]"
     ]
    },
    {
     "name": "stdout",
     "output_type": "stream",
     "text": [
      "Document: 883\n",
      "Topics: ['DUP: [1] Battery Technology: Mentions the design and functionality of batteries.', 'DUP: [1] Manufacturing: Mentions the process of creating or producing goods.', 'DUP: [1] Engineering: Mentions the application of scientific, economic, social, and practical knowledge to design, build, and maintain structures, machines, devices, systems, and processes.', 'DUP: [1] Material Processing: Mentions the manipulation of raw materials to create a desired product.', 'DUP: [1] Electrical Systems: Mentions the components and principles of electrical systems.', 'DUP: [1] Composite Materials: Mentions materials made from two or more constituent materials with significantly different physical or chemical properties.', 'DUP: [1] Industrial Automation: Mentions the use of control systems and machinery to automate industrial processes.', 'DUP: [1] Control Systems: Mentions the use of algorithms and sensors to control the operation of a system.', 'DUP: [1] Mechanical Engineering: Mentions the application of principles of physics and materials science to design, analyze, manufacture, and maintain mechanical systems.', 'DUP: [1] Material Science: Mentions the study of the properties and behavior of materials.', 'DUP: [1] Nanotechnology: Mentions the manipulation of matter at the nanoscale.', 'DUP: [1] Electrochemistry: Mentions the study of the chemical reactions that']\n",
      "--------------------\n"
     ]
    },
    {
     "name": "stderr",
     "output_type": "stream",
     "text": [
      " 88%|████████▊ | 884/1000 [43:24<07:11,  3.72s/it]"
     ]
    },
    {
     "name": "stdout",
     "output_type": "stream",
     "text": [
      "Document: 884\n",
      "Topics: ['DUP: [1] Manufacturing: Mentions the process of creating products through the use of tools, machines, or labor.', 'DUP: [1] Engineering: Refers to the application of mathematical, scientific, economic, social, and practical knowledge to design, build, and maintain structures, machines, devices, systems, and processes.', 'DUP: [1] Turbine Technology: Relates to the design, construction, and operation of turbines, which convert rotational mechanical energy into other forms of energy.', 'DUP: [1] Machining: Refers to the process of removing material from a workpiece to create a desired shape or size.', 'DUP: [1] Cooling Systems: Mentions the systems used to remove heat from a process or machine to maintain optimal operating temperatures.', 'DUP: [1] Apertures: Refers to an opening or hole in an object, often used for the passage of light, air, or other substances.', 'DUP: [1] Material Processing: Encompasses the various methods used to transform raw materials into finished products, including forming, cutting, machining, and joining.']\n",
      "--------------------\n"
     ]
    },
    {
     "name": "stderr",
     "output_type": "stream",
     "text": [
      " 88%|████████▊ | 885/1000 [43:27<06:20,  3.30s/it]"
     ]
    },
    {
     "name": "stdout",
     "output_type": "stream",
     "text": [
      "Document: 885\n",
      "Topics: ['DUP: [1] Wireless Communications: Mentions the use of wireless technology for communication.', 'NEW: [1] Power Distribution Systems: Mentions the monitoring and protection of electric power distribution systems.', 'NEW: [1] Intelligent Electronic Devices: Mentions the use of electronic devices for monitoring and protection.', 'NEW: [1] Electrical Measurements: Mentions the obtaining of electrical measurements on a transmission line.']\n",
      "--------------------\n"
     ]
    },
    {
     "name": "stderr",
     "output_type": "stream",
     "text": [
      " 89%|████████▊ | 886/1000 [43:31<06:50,  3.60s/it]"
     ]
    },
    {
     "name": "stdout",
     "output_type": "stream",
     "text": [
      "Document: 886\n",
      "Topics: ['DUP: [1] Composite Materials: Mentions the use of materials made up of two or more different materials, specifically carbon fiber reinforced plastic and thermoplastic resin fibers.', 'DUP: [1] Recycling: Mentions the process of converting waste materials into new materials or products, specifically the economic recycling of carbon fiber reinforced plastic scrap.', 'DUP: [1] Manufacturing: Mentions the process of making products, specifically the manufacture of carbon fiber reinforced plastic and the recycling of scrap generated during the process.', 'DUP: [1] Material Processing: Mentions the modification or manipulation of materials, specifically the carbonization of carbon fiber reinforced plastic scrap at high temperatures to obtain carbon fiber staple.', 'NEW: [1] Carbon Fiber: Mentions a type of fiber made of carbon atoms, specifically used in the production of carbon fiber reinforced plastic.', 'NEW: [1] Thermoplastic Resin: Mentions a type of plastic that can be melted and reshaped multiple times, specifically used in the production of carbon fiber reinforced plastic.', 'DUP: [1] Plastics: Mentions synthetic materials made from polymers, specifically thermoplastic resin used in the production of carbon fiber reinforced plastic.', 'DUP: [1] Engineering: Mentions the application of scientific, economic, social, and practical knowledge to design, build, and maintain structures, machines, devices, systems']\n",
      "--------------------\n"
     ]
    },
    {
     "name": "stderr",
     "output_type": "stream",
     "text": [
      " 89%|████████▊ | 887/1000 [43:34<06:09,  3.27s/it]"
     ]
    },
    {
     "name": "stdout",
     "output_type": "stream",
     "text": [
      "Document: 887\n",
      "Topics: ['DUP: [1] Communication Technology: Mentions the use of communication systems and modules.', 'DUP: [1] User Equipment: Mentions the UE and its components.', 'DUP: [1] Wireless Communications: Mentions radio frequency chains and base stations.', 'DUP: [1] Control Systems: Mentions the intelligent shutdown module and its functions.']\n",
      "--------------------\n"
     ]
    },
    {
     "name": "stderr",
     "output_type": "stream",
     "text": [
      " 89%|████████▉ | 888/1000 [43:37<05:56,  3.19s/it]"
     ]
    },
    {
     "name": "stdout",
     "output_type": "stream",
     "text": [
      "Document: 888\n",
      "Topics: ['DUP: [1] Power Management: Mentions the management and regulation of electrical power.', 'DUP: [1] Electrical Systems: Mentions electrical components and systems.', 'NEW: [1] Switching Regulators: Mentions electronic power converters that convert one voltage level to another by repeatedly turning a switch on and off.', 'NEW: [1] Capacitor Circuits: Mentions circuits that use capacitors to store and release electrical energy.', 'DUP: [1] Inductors: Mentions electrical components that store energy in a magnetic field when electric current flows through them.']\n",
      "--------------------\n"
     ]
    },
    {
     "name": "stderr",
     "output_type": "stream",
     "text": [
      " 89%|████████▉ | 889/1000 [43:39<05:35,  3.02s/it]"
     ]
    },
    {
     "name": "stdout",
     "output_type": "stream",
     "text": [
      "Document: 889\n",
      "Topics: ['DUP: [1] Drying Technology: This topic covers methods and techniques for removing moisture from various materials. The document describes a specific drying method that involves separating solvent-containing material from the base material using a first heat transfer medium, extracting the solvent, and then feeding the heat energy back to the first circuit using a heat pump.']\n",
      "--------------------\n"
     ]
    },
    {
     "name": "stderr",
     "output_type": "stream",
     "text": [
      " 89%|████████▉ | 890/1000 [43:44<06:14,  3.41s/it]"
     ]
    },
    {
     "name": "stdout",
     "output_type": "stream",
     "text": [
      "Document: 890\n",
      "Topics: ['DUP: [1] Hydrogen Technology: Mentions the production and use of hydrogen as a fuel or energy source.', 'DUP: [1] Energy: Mentions the generation, transmission, and utilization of energy.', 'DUP: [1] Engineering: Mentions the application of scientific, economic, social, and practical knowledge to design, build, and maintain structures, machines, devices, systems, and processes.', 'DUP: [1] Catalysis: Mentions the increase of the rate of a chemical reaction by the addition of a substance called a catalyst.', 'DUP: [1] Heat Exchangers: Mentions devices used to transfer heat from one medium to another without direct contact between the two fluids.', 'NEW: [1] Exhaust Gas: Mentions the gases produced by the combustion of fuel in an engine.', 'NEW: [1] Reforming: Mentions the process of converting one substance into another, especially a hydrocarbon into a more valuable product.', 'DUP: [1] Industrial Processes: Mentions the large-scale production of goods, especially in manufacturing industries.']\n",
      "--------------------\n"
     ]
    },
    {
     "name": "stderr",
     "output_type": "stream",
     "text": [
      " 89%|████████▉ | 891/1000 [43:46<05:47,  3.18s/it]"
     ]
    },
    {
     "name": "stdout",
     "output_type": "stream",
     "text": [
      "Document: 891\n",
      "Topics: ['NEW: [1] Oil Technology: Mentions the study, analysis, and application of oil and its related technologies.', 'DUP: [1] Spectroscopy: Mentions the identification and analysis of matter using electromagnetic radiation.']\n",
      "--------------------\n"
     ]
    },
    {
     "name": "stderr",
     "output_type": "stream",
     "text": [
      " 89%|████████▉ | 892/1000 [43:49<05:33,  3.09s/it]"
     ]
    },
    {
     "name": "stdout",
     "output_type": "stream",
     "text": [
      "Document: 892\n",
      "Topics: ['DUP: [1] Electrical Systems: Mentions the use of electrical components and systems, including DCDC buck converters and LED units.', 'DUP: [1] Power Management: Mentions the regulation and control of electrical power, including currents and duty cycles.', 'DUP: [1] LED Technology: Mentions the use of LED units specifically.', 'DUP: [1] Control Systems: Mentions the use of regulating modules and switches to control the operation of electrical components.']\n",
      "--------------------\n"
     ]
    },
    {
     "name": "stderr",
     "output_type": "stream",
     "text": [
      " 89%|████████▉ | 893/1000 [43:52<05:39,  3.17s/it]"
     ]
    },
    {
     "name": "stdout",
     "output_type": "stream",
     "text": [
      "Document: 893\n",
      "Topics: ['DUP: [1] Mobile Devices: Mentions mobile devices and their capabilities, including the ability to connect to the internet and exchange data.', 'DUP: [1] Vehicle Technology: Mentions vehicles and their on-board computers, as well as their ability to connect to the internet and communicate with mobile devices.', 'NEW: [1] Cloud Technology: Mentions cloud services and their role in managing user accounts and providing custom settings for vehicles and mobile devices.', 'DUP: [1] Wireless Communications: Mentions wireless connections and the use of separate wireless links for mobile devices and vehicles.', 'DUP: [1] Display Technology: Mentions the rendering of content to a display screen of a vehicle.']\n",
      "--------------------\n"
     ]
    },
    {
     "name": "stderr",
     "output_type": "stream",
     "text": [
      " 89%|████████▉ | 894/1000 [43:55<05:13,  2.96s/it]"
     ]
    },
    {
     "name": "stdout",
     "output_type": "stream",
     "text": [
      "Document: 894\n",
      "Topics: ['DUP: [1] Composite Materials: Mentions the use of fiber materials and thermoplastic resins in composite structures.', 'DUP: [1] Magnet Technology: Mentions the use of magnetic particles in composite materials.']\n",
      "--------------------\n"
     ]
    },
    {
     "name": "stderr",
     "output_type": "stream",
     "text": [
      " 90%|████████▉ | 895/1000 [43:58<05:27,  3.12s/it]"
     ]
    },
    {
     "name": "stdout",
     "output_type": "stream",
     "text": [
      "Document: 895\n",
      "Topics: ['DUP: [1] HVAC Systems: Includes systems for heating, ventilation, and air conditioning, including components for transferring heat and humidity between air flows.', 'DUP: [1] Membrane Technology: Involves the use of membranes for separation processes, such as those permeable to water vapor and impermeable to air and liquid water.', 'NEW: [1] Air Circulation Systems: Refers to systems for moving air, including networks and cells defined by walls with openings for passage of air.', 'DUP: [1] Engineering Design: Encompasses the process of designing and developing new products, systems, or structures, including the design of dual air flow exchangers.']\n",
      "--------------------\n"
     ]
    },
    {
     "name": "stderr",
     "output_type": "stream",
     "text": [
      " 90%|████████▉ | 896/1000 [44:01<04:57,  2.86s/it]"
     ]
    },
    {
     "name": "stdout",
     "output_type": "stream",
     "text": [
      "Document: 896\n",
      "Topics: ['DUP: [1] Biotechnology: Mentions the use of living structures and microorganisms for the synthesis of mineral matter.', 'NEW: [1] Mineral Extraction: Mentions the process of obtaining a mineral substance from a base comprising mineral matter.']\n",
      "--------------------\n"
     ]
    },
    {
     "name": "stderr",
     "output_type": "stream",
     "text": [
      " 90%|████████▉ | 897/1000 [44:05<05:48,  3.38s/it]"
     ]
    },
    {
     "name": "stdout",
     "output_type": "stream",
     "text": [
      "Document: 897\n",
      "Topics: ['NEW: [1] Predictive Maintenance: A method utilizing different pipelines of a prediction system to receive event and alarm data, failure data, and asset data, retrieve patterns of events, receive historical sensor data, train models to predict faults, evaluate models, compare evaluations, receive current sensor data, apply selected models, generate component failure predictions, and compare predictions to thresholds.', 'NEW: [1] SCADA Systems: Systems used for remote monitoring and control of industrial processes and infrastructure.', 'NEW: [1] Sensor Data: Data collected by sensors to monitor various conditions or parameters.', 'NEW: [1] Wind Turbines: Devices used to convert wind energy into electrical power.', 'DUP: [1] Machine Learning: A type of artificial intelligence that enables systems to automatically learn and improve from experience without being explicitly programmed.', 'NEW: [1] Predictive Analytics: The use of data, statistical algorithms, and machine learning techniques to identify the likelihood of future outcomes based on historical data.', 'DUP: [1] Thresholds: A predefined level or value used as a reference point to determine whether a condition or measurement is within acceptable limits.', 'NEW: [1] Alerts and Reports: Notifications and documentation generated to inform users of significant events or conditions.']\n",
      "--------------------\n"
     ]
    },
    {
     "name": "stderr",
     "output_type": "stream",
     "text": [
      " 90%|████████▉ | 898/1000 [44:09<06:03,  3.56s/it]"
     ]
    },
    {
     "name": "stdout",
     "output_type": "stream",
     "text": [
      "Document: 898\n",
      "Topics: ['DUP: [1] Chemical Processing: Mentions the conversion of one substance into another through chemical reactions.', 'DUP: [1] Catalysis: Mentions the use of a substance to increase the rate of a chemical reaction without being consumed in the process.', 'DUP: [1] Hydrogen Technology: Mentions the production, storage, and use of hydrogen as a fuel or chemical feedstock.', 'DUP: [1] Carbon Technology: Mentions the use of carbon-containing components as raw materials or in chemical processes.', 'DUP: [1] Material Processing: Mentions the modification of materials through physical or chemical means.', 'NEW: [1] Microporous Materials: Mentions materials with very small pores, such as molecular sieves.', 'NEW: [1] Methanol Production: Mentions the production of methanol as a chemical product.', 'NEW: [1] Titania: Mentions a specific type of metal oxide.', 'NEW: [1] Zirconia: Mentions a specific type of metal oxide.', 'NEW: [1] Hafnia: Mentions a specific type of metal oxide.', 'DUP: [1] Zinc: Mentions a specific metal used as a catalyst.']\n",
      "--------------------\n"
     ]
    },
    {
     "name": "stderr",
     "output_type": "stream",
     "text": [
      " 90%|████████▉ | 899/1000 [44:12<05:41,  3.38s/it]"
     ]
    },
    {
     "name": "stdout",
     "output_type": "stream",
     "text": [
      "Document: 899\n",
      "Topics: ['DUP: [1] Organic Light Emitting Diodes: Mentions the use of organic materials to emit light in a display device.', 'DUP: [1] Display Technology: Mentions the technology used to create and display visual content.', 'NEW: [1] Reliability Technology: Mentions technologies used to improve the durability and dependability of systems or components.', 'NEW: [1] Crack Prevention: Mentions technologies or methods used to prevent cracks or fractures in materials or structures.', 'NEW: [1] Crack Detection: Mentions technologies or methods used to identify cracks or fractures in materials or structures.']\n",
      "--------------------\n"
     ]
    },
    {
     "name": "stderr",
     "output_type": "stream",
     "text": [
      " 90%|█████████ | 900/1000 [44:15<05:17,  3.17s/it]"
     ]
    },
    {
     "name": "stdout",
     "output_type": "stream",
     "text": [
      "Document: 900\n",
      "Topics: ['DUP: [1] Adsorption Technology: Mentions a process for removing a target component from a gaseous mixture using temperature swing adsorption in a plurality of reactors.', 'DUP: [1] Process Control: Mentions the control of a process, specifically a temperature swing adsorption process.', 'DUP: [1] Heat Technology: Mentions heating and cooling processes in the context of the temperature swing adsorption process.']\n",
      "--------------------\n"
     ]
    },
    {
     "name": "stderr",
     "output_type": "stream",
     "text": [
      " 90%|█████████ | 901/1000 [44:18<05:04,  3.08s/it]"
     ]
    },
    {
     "name": "stdout",
     "output_type": "stream",
     "text": [
      "Document: 901\n",
      "Topics: ['DUP: [1] Chemical Processing: Mentions the transformation of one substance into another through chemical reactions.', 'DUP: [1] Plasma Technology: Mentions the use of ionized gases to enhance or modify chemical reactions.', 'DUP: [1] Silicon Technology: Mentions the use of silicon-based materials.']\n",
      "--------------------\n"
     ]
    },
    {
     "name": "stderr",
     "output_type": "stream",
     "text": [
      " 90%|█████████ | 902/1000 [44:21<04:58,  3.05s/it]"
     ]
    },
    {
     "name": "stdout",
     "output_type": "stream",
     "text": [
      "Document: 902\n",
      "Topics: ['DUP: [1] Composite Materials: Mentions the use of composite structures in wind turbine blades.', 'DUP: [1] Wind Energy: Mentions wind turbine blades and the manufacturing process.', 'DUP: [1] Manufacturing: Mentions the process of manufacturing wind turbine blades.', 'DUP: [1] Polymer Technology: Mentions the use of a polymer matrix in wind turbine blade manufacturing.', 'NEW: [1] Moulding: Mentions the use of moulds in wind turbine blade manufacturing.', 'DUP: [1] Blade Technology: Mentions wind turbine blades and their manufacturing process.', 'DUP: [1] Engineering Design: Mentions the design of wind turbine blades and their manufacturing process.', 'DUP: [1] Mechanical Engineering: Mentions the mechanical design and manufacturing process of wind turbine blades.']\n",
      "--------------------\n"
     ]
    },
    {
     "name": "stderr",
     "output_type": "stream",
     "text": [
      " 90%|█████████ | 903/1000 [44:23<04:36,  2.85s/it]"
     ]
    },
    {
     "name": "stdout",
     "output_type": "stream",
     "text": [
      "Document: 903\n",
      "Topics: ['DUP: [1] Power Management: Management of the distribution and use of electrical power in a system or facility.', 'DUP: [1] Energy Storage: The process of storing energy for later use.', 'DUP: [1] Control Systems: Systems used to manage, direct, or regulate the behavior of other systems or processes.']\n",
      "--------------------\n"
     ]
    },
    {
     "name": "stderr",
     "output_type": "stream",
     "text": [
      " 90%|█████████ | 904/1000 [44:26<04:45,  2.97s/it]"
     ]
    },
    {
     "name": "stdout",
     "output_type": "stream",
     "text": [
      "Document: 904\n",
      "Topics: ['DUP: [1] Wireless Power Transfer: Mentions the technology used to transfer power without the need for physical contact between the power source and the receiver.', 'DUP: [1] Power Electronics: Mentions the study and application of electrical components and systems to control, convert, and transfer electrical power.', 'DUP: [1] Switching Circuits: Mentions circuits that use switches to control the flow of electrical current.', 'DUP: [1] Transformers: Mentions electrical devices used to change the voltage, current, or frequency of an alternating current (AC) electrical power supply.', 'DUP: [1] Electrical Systems: Mentions the components and principles used to generate, transmit, and distribute electrical power.']\n",
      "--------------------\n"
     ]
    },
    {
     "name": "stderr",
     "output_type": "stream",
     "text": [
      " 90%|█████████ | 905/1000 [44:29<04:41,  2.97s/it]"
     ]
    },
    {
     "name": "stdout",
     "output_type": "stream",
     "text": [
      "Document: 905\n",
      "Topics: ['DUP: [1] Automotive Technology: Mentions vehicles and their components, including powertrains and engines.', 'NEW: [1] Gear Technology: Mentions gears and gear sets.', 'DUP: [1] Electric Motors: Mentions electric motors and their components, including rotors and stators.', 'DUP: [1] Power Transmission: Mentions the transfer of power from one place to another.']\n",
      "--------------------\n"
     ]
    },
    {
     "name": "stderr",
     "output_type": "stream",
     "text": [
      " 91%|█████████ | 906/1000 [44:32<04:28,  2.86s/it]"
     ]
    },
    {
     "name": "stdout",
     "output_type": "stream",
     "text": [
      "Document: 906\n",
      "Topics: ['DUP: [1] LED Technology: Mentions the use of Light Emitting Diodes and their control.', 'DUP: [1] Electrical Systems: Mentions the use of electrical circuits and control units.', 'DUP: [1] Lighting Technology: Mentions the use of LEDs for lighting purposes.', 'DUP: [1] Control Systems: Mentions the use of a control unit for managing the LEDs.']\n",
      "--------------------\n"
     ]
    },
    {
     "name": "stderr",
     "output_type": "stream",
     "text": [
      " 91%|█████████ | 907/1000 [44:36<05:00,  3.23s/it]"
     ]
    },
    {
     "name": "stdout",
     "output_type": "stream",
     "text": [
      "Document: 907\n",
      "Topics: ['DUP: [1] Biotechnology: Mentions the use of living organisms or biological processes to produce products or technologies.', 'NEW: [1] Genetics: Mentions the study of genes and heredity.', 'NEW: [1] Polypeptides: Mentions short chains of amino acids.', 'NEW: [1] Enzymes: Mentions proteins that catalyze biochemical reactions.', 'NEW: [1] Nucleic Acids: Mentions the molecules that carry genetic information.', 'NEW: [1] Gene Technology: Mentions the manipulation of genes and their expression.', 'NEW: [1] Biochemistry: Mentions the study of chemical processes in living organisms.', 'NEW: [1] Molecular Biology: Mentions the study of the molecular basis of biological activity.', 'DUP: [1] Protein Technology: Mentions the study and application of proteins.', 'NEW: [1] Biochemical Engineering: Mentions the application of engineering principles to biological systems.', 'NEW: [1] Biopharmaceuticals: Mentions the use of living organisms to produce pharmaceuticals.', 'NEW: [1] Biochemical Processes: Mentions the chemical reactions that occur in living organisms.', 'NEW: [1] Biochemical Reactions: Mentions the chemical processes that occur in living organisms.', 'NEW: [1] Biochemical Pathways: M']\n",
      "--------------------\n"
     ]
    },
    {
     "name": "stderr",
     "output_type": "stream",
     "text": [
      " 91%|█████████ | 908/1000 [44:41<05:37,  3.67s/it]"
     ]
    },
    {
     "name": "stdout",
     "output_type": "stream",
     "text": [
      "Document: 908\n",
      "Topics: ['DUP: [1] Internal Combustion Engines: Mentions engines that use fuel to generate power through combustion.', \"DUP: [1] Turbochargers: Mentions devices that use exhaust gas to force more air into an engine's cylinders, increasing engine performance.\", 'DUP: [1] Engineering Design: Mentions the process of creating new products or systems through a systematic approach.', 'DUP: [1] Mechanical Engineering: Mentions the application of physical principles to design, build, and maintain mechanical systems.', 'DUP: [1] Manufacturing: Mentions the process of producing goods on a large scale using machinery.', 'DUP: [1] Compressors: Mentions devices that increase the pressure of a gas or a liquid.', 'DUP: [1] Variable Speed Control: Mentions the ability to adjust the speed of a motor or other mechanical device.', 'DUP: [1] Process Control: Mentions the regulation and monitoring of industrial processes.', 'DUP: [1] Performance Control: Mentions the adjustment of a system to optimize its output or efficiency.', 'DUP: [1] Limit Control: Mentions the setting of maximum or minimum values for a system or process.', 'DUP: [1] Industrial Automation: Mentions the use of control systems and machinery to automate industrial processes.', 'DUP: [1] Mechanical Systems: Mentions systems that use mechanical components to perform work.', 'DUP: [1] Engineering Controls: Mentions']\n",
      "--------------------\n"
     ]
    },
    {
     "name": "stderr",
     "output_type": "stream",
     "text": [
      " 91%|█████████ | 909/1000 [44:44<05:14,  3.45s/it]"
     ]
    },
    {
     "name": "stdout",
     "output_type": "stream",
     "text": [
      "Document: 909\n",
      "Topics: ['DUP: [1] Electronic Devices: Mentions various types of electronic devices and their components.', 'DUP: [1] Memory Technology: Mentions different types of memory and their related technologies.', 'NEW: [1] Cache Systems: Mentions the use of caches in electronic devices for faster data access.', 'NEW: [1] Interrupt Systems: Mentions the use of interrupts in electronic devices to signal the processing unit for specific actions.', 'DUP: [1] Processing Units: Mentions the central processing unit and its role in executing instructions in electronic devices.']\n",
      "--------------------\n"
     ]
    },
    {
     "name": "stderr",
     "output_type": "stream",
     "text": [
      " 91%|█████████ | 910/1000 [44:46<04:52,  3.25s/it]"
     ]
    },
    {
     "name": "stdout",
     "output_type": "stream",
     "text": [
      "Document: 910\n",
      "Topics: ['DUP: [1] Battery Technology: Includes topics related to the design, manufacturing, and monitoring of batteries.', 'DUP: [1] Sensor Technology: Includes topics related to the design, manufacturing, and application of sensors.', 'DUP: [1] Power Management: Includes topics related to the efficient use and management of electrical power.']\n",
      "--------------------\n"
     ]
    },
    {
     "name": "stderr",
     "output_type": "stream",
     "text": [
      " 91%|█████████ | 911/1000 [44:50<05:09,  3.47s/it]"
     ]
    },
    {
     "name": "stdout",
     "output_type": "stream",
     "text": [
      "Document: 911\n",
      "Topics: ['NEW: [1] Renewable Diesel: Refers to diesel fuel containing a renewable component and oxymethylene ethers with molecular structure CH3O—(CH2O)n-CH3 where n=3-5.', 'DUP: [1] Chemical Engineering: Involves the application of science, mathematics, and economics to produce, transform, and transport chemicals, fuels, and materials.', 'DUP: [1] Fuel Technology: Deals with the production, processing, and utilization of fuels to generate power or heat.', 'DUP: [1] Petrochemicals: Refers to the chemicals derived from petroleum or natural gas.', 'DUP: [1] Organic Chemistry: Deals with the study of carbon-containing compounds, their properties, structures, reactions, and synthesis.', 'DUP: [1] Catalysis: Involves increasing the rate of a chemical reaction by adding a substance, called a catalyst, which does not get consumed in the reaction.', 'DUP: [1] Combustion Technology: Deals with the burning of fuels to produce heat and power.', 'DUP: [1] Engine Technology: Refers to the design, development, and application of engines for various purposes, including transportation and power generation.', 'DUP: [1] Material Science: Deals with the study of the properties, structure, and composition of materials and their applications.', 'DUP: [1] Energy: Refers to the ability or capacity to do']\n",
      "--------------------\n"
     ]
    },
    {
     "name": "stderr",
     "output_type": "stream",
     "text": [
      " 91%|█████████ | 912/1000 [44:53<04:46,  3.26s/it]"
     ]
    },
    {
     "name": "stdout",
     "output_type": "stream",
     "text": [
      "Document: 912\n",
      "Topics: ['DUP: [1] Wireless Communications: Mentions wireless terminal and base stations communication.', 'DUP: [1] Networking: Mentions wired asynchronous network.', 'DUP: [1] Telecommunications: Mentions the exchange of data between wireless terminals and base stations.', 'DUP: [1] Base Stations: Mentions multiple base stations and their role in wireless communication.', 'DUP: [1] Control Systems: Mentions control loops and independent operation of connections.']\n",
      "--------------------\n"
     ]
    },
    {
     "name": "stderr",
     "output_type": "stream",
     "text": [
      " 91%|█████████▏| 913/1000 [44:58<05:13,  3.60s/it]"
     ]
    },
    {
     "name": "stdout",
     "output_type": "stream",
     "text": [
      "Document: 913\n",
      "Topics: ['NEW: [1] Bioreactors: Systems used for biological processes, including the one described in the document that involves a respirator for measuring respiratory rate of a biofilm.', 'DUP: [1] Filters: Used in the biofilm reactor to separate liquids and gases, specifically MBBR fillers and CO2 absorption solution.', 'DUP: [1] Partitions: Used in the biofilm reactor to divide the interior into oxygen mass-transfer stir zone and biofilm reaction zone.', 'NEW: [1] Stirring Devices: Used in the oxygen mass-transfer stir zone to promote mass transfer.', 'NEW: [1] Gas Exchange: Process of transferring gases between two phases, in this case, between the oxygen mass-transfer stir zone and the biofilm reaction zone.', 'NEW: [1] Liquid Exchange: Process of transferring liquids between two phases, in this case, between the oxygen mass-transfer stir zone and the biofilm reaction zone.', 'NEW: [1] Carbon Dioxide Absorption: Process of removing CO2 from a gas stream, in this case, from the oxygen mass-transfer stir zone.', 'NEW: [1] Biofilms: Complex microbial communities attached to surfaces, in this case, in a reactor for measuring respiratory rate.']\n",
      "--------------------\n"
     ]
    },
    {
     "name": "stderr",
     "output_type": "stream",
     "text": [
      " 91%|█████████▏| 914/1000 [45:01<05:01,  3.51s/it]"
     ]
    },
    {
     "name": "stdout",
     "output_type": "stream",
     "text": [
      "Document: 914\n",
      "Topics: ['NEW: [1] Pen Devices: Mentions the use of pen devices for interacting with computing devices.', 'DUP: [1] Signal Transmission: Mentions the transmission of signals between a pen device and a computing device.', 'NEW: [1] Communication Channels: Mentions different types of communication channels used for signaling between a pen device and a computing device.', 'NEW: [1] Network Interfaces: Mentions the use of network interfaces for signaling between a pen device and a computing device.', 'NEW: [1] User Experience: Mentions enhancing the user experience of using a computing device with a pen device.', 'NEW: [1] Gesture Recognition: Mentions the recognition of gestures using sensors in a pen device.', 'NEW: [1] Mode of Operation: Mentions changing the mode of operation of a computing device using signals from a pen device.']\n",
      "--------------------\n"
     ]
    },
    {
     "name": "stderr",
     "output_type": "stream",
     "text": [
      " 92%|█████████▏| 915/1000 [45:05<05:17,  3.74s/it]"
     ]
    },
    {
     "name": "stdout",
     "output_type": "stream",
     "text": [
      "Document: 915\n",
      "Topics: ['DUP: [1] Fluid Technology: Covers technologies related to the handling, processing, and transformation of fluids.', 'DUP: [1] Thermodynamics: Deals with the properties and relationships of energy, heat, and temperature.', 'DUP: [1] Heat Transfer: Refers to the process of transferring heat energy from one location or substance to another.', 'DUP: [1] Control Systems: Involves the design, implementation, and operation of systems that regulate and maintain desired performance.', 'DUP: [1] Engineering Design: Encompasses the process of creating new products, systems, or processes, including conceptualization, planning, and implementation.', 'DUP: [1] Material Processing: Covers the transformation of raw materials into finished products through various manufacturing processes.', 'NEW: [1] Vapor Technology: Focuses on the generation, manipulation, and application of vapors.', 'DUP: [1] Energy: Deals with the production, distribution, and consumption of various forms of energy.', 'DUP: [1] Engineering: Broadly covers the application of scientific, economic, social, and practical knowledge to design, build, and maintain structures, machines, devices, systems, and processes.', 'DUP: [1] Manufacturing: Refers to the production of goods through the use of machinery, tools, or manual labor.', 'DUP: [1] Mechanical Engineering: Deals with the design, analysis, manufacturing, and maintenance of mechanical systems.']\n",
      "--------------------\n"
     ]
    },
    {
     "name": "stderr",
     "output_type": "stream",
     "text": [
      " 92%|█████████▏| 916/1000 [45:08<04:49,  3.45s/it]"
     ]
    },
    {
     "name": "stdout",
     "output_type": "stream",
     "text": [
      "Document: 916\n",
      "Topics: ['DUP: [1] Wind Energy: Mentions the generation of electrical power from wind using a wind power plant with adjustable blade angles and variable rotational speed. The topic includes controlling the plant in partial load mode and storm mode, and adjusting the output power according to operating characteristic curves.']\n",
      "--------------------\n"
     ]
    },
    {
     "name": "stderr",
     "output_type": "stream",
     "text": [
      " 92%|█████████▏| 917/1000 [45:11<04:29,  3.25s/it]"
     ]
    },
    {
     "name": "stdout",
     "output_type": "stream",
     "text": [
      "Document: 917\n",
      "Topics: ['DUP: [1] Electrical Systems: Mentions the use and analysis of electrical systems.', 'NEW: [1] Discharge Circuits: Mentions circuits used for discharging electricity.', 'NEW: [1] Electricity Storage Elements: Mentions devices used to store electrical energy.', 'DUP: [1] Resistors: Mentions electrical components that resist the flow of current.', 'NEW: [1] Failure Diagnostics: Mentions the process of identifying and diagnosing system failures.']\n",
      "--------------------\n"
     ]
    },
    {
     "name": "stderr",
     "output_type": "stream",
     "text": [
      " 92%|█████████▏| 918/1000 [45:13<04:09,  3.04s/it]"
     ]
    },
    {
     "name": "stdout",
     "output_type": "stream",
     "text": [
      "Document: 918\n",
      "Topics: ['DUP: [1] Energy: Mentions the storage and absorption of energy.', 'DUP: [1] Engineering Controls: Mentions the design and implementation of control systems.', 'DUP: [1] Vehicle Technology: Mentions vehicles and their related technologies.']\n",
      "--------------------\n"
     ]
    },
    {
     "name": "stderr",
     "output_type": "stream",
     "text": [
      " 92%|█████████▏| 919/1000 [45:18<04:44,  3.51s/it]"
     ]
    },
    {
     "name": "stdout",
     "output_type": "stream",
     "text": [
      "Document: 919\n",
      "Topics: ['DUP: [1] Material Processing: This topic covers the methods and techniques used to process and manipulate various materials to create products or components.', 'DUP: [1] Electrical Engineering: This topic covers the study and application of electricity, electronics, and electromagnetism to design, develop, and maintain electrical systems and devices.', 'DUP: [1] Manufacturing: This topic covers the processes, methods, and technologies used to produce goods on a large scale, including the design, development, and production of various products.', 'DUP: [1] Engineering Design: This topic covers the process of designing and developing new products, systems, or structures, including the conceptualization, planning, and implementation stages.', 'DUP: [1] Composite Materials: This topic covers materials made from two or more distinct components, such as metals, polymers, or ceramics, that are combined to create new properties or enhance existing ones.', 'DUP: [1] Coating Technology: This topic covers the application of thin films or layers to surfaces to protect, enhance, or modify their properties, including the development and use of various coating materials and processes.', 'DUP: [1] Material Science: This topic covers the study of the properties, behavior, and applications of various materials, including metals, polymers, ceramics, and composites.', 'DUP: [1] Nanotechnology: This topic covers the study and application of extremely small structures, typically']\n",
      "--------------------\n"
     ]
    },
    {
     "name": "stderr",
     "output_type": "stream",
     "text": [
      " 92%|█████████▏| 920/1000 [45:22<04:51,  3.65s/it]"
     ]
    },
    {
     "name": "stdout",
     "output_type": "stream",
     "text": [
      "Document: 920\n",
      "Topics: ['DUP: [1] Engineering Controls: Control systems used to manage and optimize engineering processes and systems.', 'DUP: [1] Electrical Systems: Systems used to generate, distribute, and utilize electrical power.', 'DUP: [1] Automotive Technology: Technology related to the design, manufacturing, and operation of vehicles.', 'DUP: [1] Sensor Technology: Technology used to measure and detect physical or environmental conditions and convert them into electrical signals.']\n",
      "--------------------\n"
     ]
    },
    {
     "name": "stderr",
     "output_type": "stream",
     "text": [
      " 92%|█████████▏| 921/1000 [45:26<05:02,  3.82s/it]"
     ]
    },
    {
     "name": "stdout",
     "output_type": "stream",
     "text": [
      "Document: 921\n",
      "Topics: ['DUP: [1] Power Electronics: Deals with the design and application of electronic circuits that control and convert electrical power.', 'DUP: [1] Power Inverters: A device that converts direct current (DC) to alternating current (AC).', 'NEW: [1] High Power Switching Modules: Components used in power electronics to control and convert electrical power.', 'NEW: [1] Capacitor Banks: A collection of capacitors used to store electrical energy.', 'NEW: [1] Electrical Energy: Energy in the form of electrical current or potential difference.', 'NEW: [1] Terminals: Connections used to make or receive electrical current.', 'DUP: [1] Inductance: The property of an electrical circuit that opposes a change in current flow.', 'NEW: [1] Gate Driver Modules: A circuit used to control the switching of high power transistors or thyristors.', 'NEW: [1] Planar Transformers: A type of transformer with the primary and secondary windings on the same plane.']\n",
      "--------------------\n"
     ]
    },
    {
     "name": "stderr",
     "output_type": "stream",
     "text": [
      " 92%|█████████▏| 922/1000 [45:29<04:42,  3.62s/it]"
     ]
    },
    {
     "name": "stdout",
     "output_type": "stream",
     "text": [
      "Document: 922\n",
      "Topics: ['DUP: [1] Catalysts: Mentions the use of catalysts in various applications, including fuel cells.', 'DUP: [1] Material Science: Mentions the use and properties of different materials, including inorganic oxides.', 'DUP: [1] Porous Materials: Mentions materials with a porous structure and their characterization methods.', 'DUP: [1] Fuel Cells: Mentions the use and components of fuel cells, including electrode catalyst layers.', 'DUP: [1] Inorganic Materials: Mentions the properties and uses of inorganic materials, including oxides.', 'NEW: [1] Tin Oxide: Mentions the specific inorganic material, tin oxide.', 'NEW: [1] Pore Size Distribution: Mentions the measurement and analysis of the size and distribution of pores in materials.']\n",
      "--------------------\n"
     ]
    },
    {
     "name": "stderr",
     "output_type": "stream",
     "text": [
      " 92%|█████████▏| 923/1000 [45:34<05:06,  3.98s/it]"
     ]
    },
    {
     "name": "stdout",
     "output_type": "stream",
     "text": [
      "Document: 923\n",
      "Topics: ['DUP: [1] Fuel Cells: Mentions the conversion of chemical energy into electrical energy through a reaction between hydrogen fuel and oxygen.', 'NEW: [1] Solid Oxide Fuel Cells: A specific type of fuel cell that uses a solid oxide as an electrolyte.', 'DUP: [1] Electrolytes: A material that allows ions to move through it, enabling the flow of electrical current.', 'NEW: [1] Cathodes: An electrode through which current enters an electrical circuit, typically made of a material that undergoes oxidation during the electrochemical reaction.', 'NEW: [1] Anodes: An electrode through which current leaves an electrical circuit, typically made of a material that undergoes reduction during the electrochemical reaction.', 'DUP: [1] Material Science: The study of the properties and behavior of materials.', 'DUP: [1] Engineering: The application of scientific, economic, social, and practical knowledge to design, build, and maintain structures, machines, devices, systems, and processes.', 'DUP: [1] Manufacturing: The process of producing goods or services on a large scale, often involving the use of machinery, tools, or technology.']\n",
      "--------------------\n"
     ]
    },
    {
     "name": "stderr",
     "output_type": "stream",
     "text": [
      " 92%|█████████▏| 924/1000 [45:37<04:34,  3.62s/it]"
     ]
    },
    {
     "name": "stdout",
     "output_type": "stream",
     "text": [
      "Document: 924\n",
      "Topics: ['DUP: [1] Cogeneration: A system that generates both electricity and heat from a single fuel source.', 'DUP: [1] Thermal Energy Systems: Systems used to convert thermal energy into mechanical or electrical energy.', 'NEW: [1] Heat Transfer Systems: Systems used to transfer heat energy from one place to another.', 'DUP: [1] Fluid Systems: Systems used to transport fluids, including liquids and gases.', 'DUP: [1] Control Systems: Systems used to regulate and manage the operation of other systems.']\n",
      "--------------------\n"
     ]
    },
    {
     "name": "stderr",
     "output_type": "stream",
     "text": [
      " 92%|█████████▎| 925/1000 [45:40<04:25,  3.54s/it]"
     ]
    },
    {
     "name": "stdout",
     "output_type": "stream",
     "text": [
      "Document: 925\n",
      "Topics: ['DUP: [1] Manufacturing: Mentions the process of creating or producing goods, typically through the use of machinery, tools, or technology.']\n",
      "--------------------\n"
     ]
    },
    {
     "name": "stderr",
     "output_type": "stream",
     "text": [
      " 93%|█████████▎| 926/1000 [45:43<04:05,  3.31s/it]"
     ]
    },
    {
     "name": "stdout",
     "output_type": "stream",
     "text": [
      "Document: 926\n",
      "Topics: ['DUP: [1] Nuclear Technology: Mentions the use of nuclear technology, specifically in the context of neutron tubes and gas storage chambers.', 'DUP: [1] Manufacturing: Mentions the manufacturing or processing of generator tubes.', 'DUP: [1] Gas Technology: Mentions the use and handling of gases, specifically deuterium and tritium gases.', 'DUP: [1] Engineering: Implied throughout the document, as it discusses a technique for manufacturing or processing components.']\n",
      "--------------------\n"
     ]
    },
    {
     "name": "stderr",
     "output_type": "stream",
     "text": [
      " 93%|█████████▎| 927/1000 [45:45<03:43,  3.06s/it]"
     ]
    },
    {
     "name": "stdout",
     "output_type": "stream",
     "text": [
      "Document: 927\n",
      "Topics: ['DUP: [1] Battery Technology: Mentions methods for extracting lithium, a key component in batteries.', 'DUP: [1] Material Science: Mentions metal oxide or metalloid oxide cation exchange materials.']\n",
      "--------------------\n"
     ]
    },
    {
     "name": "stderr",
     "output_type": "stream",
     "text": [
      " 93%|█████████▎| 928/1000 [45:50<04:22,  3.65s/it]"
     ]
    },
    {
     "name": "stdout",
     "output_type": "stream",
     "text": [
      "Document: 928\n",
      "Topics: ['DUP: [1] Material Science: Mentions the study of the properties and composition of matter and the design and application of materials.', 'DUP: [1] Nanotechnology: Mentions the manipulation of materials on an atomic, molecular, and supramolecular scale.', 'DUP: [1] Thermal Insulation: Mentions materials used to prevent or reduce the transfer of heat.', 'DUP: [1] Waste Management: Mentions the collection, transportation, processing, or disposal of waste materials.', 'NEW: [1] Calcium Compounds: Mentions compounds containing calcium.', 'DUP: [1] Silica: Mentions silicon dioxide or silicon oxides.', 'DUP: [1] Fiberglass: Mentions a material made from glass fibers.', 'NEW: [1] Marble: Mentions a metamorphic rock composed primarily of calcite or dolomite.', 'NEW: [1] Rice Husk: Mentions the hard outer covering of a rice grain.', 'NEW: [1] Hexametaphosphate: Mentions a compound with the formula (PO4)6nH24-6n, where n is a positive integer.', 'DUP: [1] Engineering Materials: Mentions materials used in engineering applications.', 'NEW: [1] Matrixes: Mentions a three-dimensional array of elements or particles.']\n",
      "--------------------\n"
     ]
    },
    {
     "name": "stderr",
     "output_type": "stream",
     "text": [
      " 93%|█████████▎| 929/1000 [45:53<03:57,  3.35s/it]"
     ]
    },
    {
     "name": "stdout",
     "output_type": "stream",
     "text": [
      "Document: 929\n",
      "Topics: ['DUP: [1] Semiconductor Technology: Mentions the design, manufacturing, and application of semiconductors.', 'DUP: [1] Packaging Technology: Mentions the process of enclosing or protecting electronic components.']\n",
      "--------------------\n"
     ]
    },
    {
     "name": "stderr",
     "output_type": "stream",
     "text": [
      " 93%|█████████▎| 930/1000 [45:57<04:03,  3.48s/it]"
     ]
    },
    {
     "name": "stdout",
     "output_type": "stream",
     "text": [
      "Document: 930\n",
      "Topics: ['DUP: [1] Metrology: The science of measuring and establishing a uniform standard for measurements.', 'NEW: [1] Process Variation: Variations that occur during manufacturing processes.', 'NEW: [1] Design Specifications: Requirements that must be met by a design to ensure proper function and performance.', 'NEW: [1] Overlay Critical Patterns: Patterns in a device design that have an overlay sensitivity to process variation above a specified threshold.', 'NEW: [1] Yield Critical Patterns: Patterns in a manufacturing process that have a corresponding process window narrowing due to specified process variation.', 'NEW: [1] Process Parameters: Variables that affect the outcome of a manufacturing process.']\n",
      "--------------------\n"
     ]
    },
    {
     "name": "stderr",
     "output_type": "stream",
     "text": [
      " 93%|█████████▎| 931/1000 [46:00<03:55,  3.42s/it]"
     ]
    },
    {
     "name": "stdout",
     "output_type": "stream",
     "text": [
      "Document: 931\n",
      "Topics: ['DUP: [1] Display Technology: Mentions the technology and components related to creating visual displays.', 'DUP: [1] Electrical Systems: Mentions electrical components and systems.', 'DUP: [1] Manufacturing: Mentions the process of creating products.', 'DUP: [1] Engineering: Mentions the application of scientific, economic, social, and practical knowledge to design, build, and maintain structures, machines, devices, systems, and processes.', 'DUP: [1] Semiconductor Technology: Mentions the technology used to create electronic components using semiconductor materials.', 'NEW: [1] Repair and Maintenance: Mentions the process of restoring or maintaining the functionality of a system or component.']\n",
      "--------------------\n"
     ]
    },
    {
     "name": "stderr",
     "output_type": "stream",
     "text": [
      " 93%|█████████▎| 932/1000 [46:03<03:37,  3.19s/it]"
     ]
    },
    {
     "name": "stdout",
     "output_type": "stream",
     "text": [
      "Document: 932\n",
      "Topics: ['DUP: [1] Power Systems: Mentions high-voltage networks and power semiconductor switches used for reactive power compensation.', 'DUP: [1] Electrical Systems: Mentions high-voltage connections, windings, and magnetic circuits.', 'DUP: [1] Manufacturing: Mentions the need to manufacture the device inexpensively and the use of submodules.']\n",
      "--------------------\n"
     ]
    },
    {
     "name": "stderr",
     "output_type": "stream",
     "text": [
      " 93%|█████████▎| 933/1000 [46:07<03:48,  3.40s/it]"
     ]
    },
    {
     "name": "stdout",
     "output_type": "stream",
     "text": [
      "Document: 933\n",
      "Topics: ['DUP: [1] Material Science: Mentions the study of the properties and behavior of materials.', 'DUP: [1] Battery Technology: Mentions the technology used in batteries.', 'DUP: [1] Steel: Mentions a specific type of material.', 'DUP: [1] Coatings: Mentions the application of a substance to the surface of another substance.', 'NEW: [1] Diffusion Layers: Mentions a layer that allows substances to pass through.', 'DUP: [1] Nickel: Mentions a specific metal.', 'DUP: [1] Electrochemistry: Mentions the study of chemical reactions that occur under the influence of an electric current.']\n",
      "--------------------\n"
     ]
    },
    {
     "name": "stderr",
     "output_type": "stream",
     "text": [
      " 93%|█████████▎| 934/1000 [46:10<03:52,  3.52s/it]"
     ]
    },
    {
     "name": "stdout",
     "output_type": "stream",
     "text": [
      "Document: 934\n",
      "Topics: ['DUP: [1] Storage Containers: Contains information about various types of storage containers and their components.', 'DUP: [1] Mechanical Systems: Refers to mechanical components and their functions.', 'NEW: [1] Support Mechanisms: Deals with mechanisms used to support other structures or objects.', 'DUP: [1] Power Systems: Relates to the generation, transmission, and utilization of power.', 'DUP: [1] Mobile Devices: Deals with portable electronic devices.', 'DUP: [1] Electrical Systems: Refers to electrical components and their functions.', 'NEW: [1] Contact Interfaces: Deals with interfaces used for making electrical or mechanical contact.']\n",
      "--------------------\n"
     ]
    },
    {
     "name": "stderr",
     "output_type": "stream",
     "text": [
      " 94%|█████████▎| 935/1000 [46:14<03:40,  3.39s/it]"
     ]
    },
    {
     "name": "stdout",
     "output_type": "stream",
     "text": [
      "Document: 935\n",
      "Topics: ['DUP: [1] Solar Energy: Mentions the production and management of energy from the sun.', 'DUP: [1] Solar Cells: Mentions the electronic devices used to convert sunlight into electricity.', 'DUP: [1] Electrical Systems: Mentions the design, implementation, and operation of electrical systems.', 'DUP: [1] Power Management: Mentions the techniques and systems used to manage and optimize power usage.', 'DUP: [1] Engineering: Mentions the application of scientific, economic, social, and practical knowledge to design, build, and maintain structures, machines, devices, systems, and processes.']\n",
      "--------------------\n"
     ]
    },
    {
     "name": "stderr",
     "output_type": "stream",
     "text": [
      " 94%|█████████▎| 936/1000 [46:18<04:02,  3.78s/it]"
     ]
    },
    {
     "name": "stdout",
     "output_type": "stream",
     "text": [
      "Document: 936\n",
      "Topics: ['DUP: [1] Engineering: Mentions the application of scientific, economic, social, and practical knowledge to design, build, and maintain structures, machines, devices, systems, and processes.', 'DUP: [1] Mechanical Engineering: A subfield of engineering that deals with the design, manufacturing, and maintenance of mechanical systems.', 'DUP: [1] Power Systems: Refers to the generation, transmission, and distribution of electrical power.', 'DUP: [1] Internal Combustion Engines: Refers to engines that use the heat of combustion to do mechanical work.', 'DUP: [1] Engineering Design: The process of creating new products or systems through a series of steps, including conceptualization, research, development, testing, and production.', 'DUP: [1] Mechanical Systems: Refers to systems that convert mechanical energy into other forms or perform work using mechanical means.', 'DUP: [1] Gearboxes: Devices used to transmit power from a rotating shaft to another shaft with a different rotation speed or direction.', 'DUP: [1] Planetary Gear Sets: A type of gearbox that uses multiple gears arranged in a planetary configuration to transmit power and change the direction of rotation.', 'DUP: [1] Electric Motors and Generators: Devices that convert electrical energy into mechanical energy or vice versa.', 'NEW: [1] Boost Systems: Systems used to increase the pressure or flow rate of a fluid or gas, typically in']\n",
      "--------------------\n"
     ]
    },
    {
     "name": "stderr",
     "output_type": "stream",
     "text": [
      " 94%|█████████▎| 937/1000 [46:22<04:02,  3.84s/it]"
     ]
    },
    {
     "name": "stdout",
     "output_type": "stream",
     "text": [
      "Document: 937\n",
      "Topics: ['NEW: [1] Storage Devices: Mentions physical devices used to store digital information.', 'NEW: [1] Computer Storage: Mentions devices used to store digital information in computers.', 'NEW: [1] Firmware: Mentions software that provides a low-level interface between hardware and software.', 'DUP: [1] Interfaces: Mentions points of connection between different systems or components.', 'NEW: [1] Namespace Management: Mentions the organization and allocation of memory addresses.', 'NEW: [1] Block Addressing: Mentions the use of blocks of memory addresses for data storage.', 'NEW: [1] NVMe Protocol: Mentions a specific protocol for communicating with non-volatile memory devices.']\n",
      "--------------------\n"
     ]
    },
    {
     "name": "stderr",
     "output_type": "stream",
     "text": [
      " 94%|█████████▍| 938/1000 [46:26<03:51,  3.74s/it]"
     ]
    },
    {
     "name": "stdout",
     "output_type": "stream",
     "text": [
      "Document: 938\n",
      "Topics: ['DUP: [1] Electric Vehicles: Mentions the use of electric vehicles and their components.', 'DUP: [1] Batteries: Mentions the use of batteries as energy storage devices.', 'DUP: [1] Power Systems: Mentions the use of power systems to supply power to electric vehicles.', 'DUP: [1] Circuits: Mentions the use of electrical circuits to control the flow of power.', 'DUP: [1] Electric Machines: Mentions the use of electric machines in electric vehicles.', 'NEW: [1] Power Nets: Mentions the use of power nets to distribute power in electric vehicles.', 'DUP: [1] Switches: Mentions the use of switches to control the flow of power in electrical circuits.']\n",
      "--------------------\n"
     ]
    },
    {
     "name": "stderr",
     "output_type": "stream",
     "text": [
      " 94%|█████████▍| 939/1000 [46:30<04:03,  4.00s/it]"
     ]
    },
    {
     "name": "stdout",
     "output_type": "stream",
     "text": [
      "Document: 939\n",
      "Topics: ['DUP: [1] Manufacturing: Mentions the process of creating or producing goods, including the design and fabrication of components such as a fuel/oil manifold.', 'DUP: [1] Engineering Design: Mentions the process of creating designs for various applications, including the design of a fuel/oil manifold with non-parallel flanges and a tube with a non-zero tube bend radius.', 'DUP: [1] Mechanical Engineering: Mentions the application of principles of physics and mathematics to design, build, and maintain mechanical systems, including the design and fabrication of a fuel/oil manifold.', 'DUP: [1] Material Processing: Mentions the transformation of raw materials into finished products, including the manufacturing of a fuel/oil manifold with non-parallel flanges and a tube with a non-zero tube bend radius.', 'DUP: [1] Vacuum Technology: Mentions the use of vacuum principles to create a partial or total absence of matter in a space, potentially relevant for the manufacturing process of a fuel/oil manifold.', 'DUP: [1] Quartz Technology: Mentions the use of quartz in various applications, potentially relevant for the manufacturing process of a fuel/oil manifold, as quartz is a common material used in the production of manifold components.', 'DUP: [1] Material Science: Mentions the study of the properties and behavior of various materials, including the materials used in the']\n",
      "--------------------\n"
     ]
    },
    {
     "name": "stderr",
     "output_type": "stream",
     "text": [
      " 94%|█████████▍| 940/1000 [46:33<03:37,  3.63s/it]"
     ]
    },
    {
     "name": "stdout",
     "output_type": "stream",
     "text": [
      "Document: 940\n",
      "Topics: ['DUP: [1] Lighting Technology: Includes devices and systems used to provide illumination, with a focus on intelligent and sensor-controlled lighting systems.']\n",
      "--------------------\n"
     ]
    },
    {
     "name": "stderr",
     "output_type": "stream",
     "text": [
      " 94%|█████████▍| 941/1000 [46:36<03:27,  3.52s/it]"
     ]
    },
    {
     "name": "stdout",
     "output_type": "stream",
     "text": [
      "Document: 941\n",
      "Topics: ['NEW: [1] Electrical Energy Storage: Mentions devices used to store electrical energy.', 'DUP: [1] Material Science: Mentions the study of matter and its properties.', 'DUP: [1] Polymers: Mentions organic compounds made up of repeating structural units.', 'NEW: [1] Ionic Compounds: Mentions compounds containing ions.', 'DUP: [1] Porous Materials: Mentions materials with a structure that allows fluids or gases to pass through.']\n",
      "--------------------\n"
     ]
    },
    {
     "name": "stderr",
     "output_type": "stream",
     "text": [
      " 94%|█████████▍| 942/1000 [46:40<03:34,  3.70s/it]"
     ]
    },
    {
     "name": "stdout",
     "output_type": "stream",
     "text": [
      "Document: 942\n",
      "Topics: ['DUP: [1] Wastewater Treatment: Treatment processes for removing pollutants from wastewater.', 'DUP: [1] Reactor Technology: Design and operation of reactors for various applications.', 'NEW: [1] Energy Consumption: Strategies for minimizing energy usage in industrial processes.', 'NEW: [1] Biogas Production: Generation of biogas from organic waste.', 'DUP: [1] Separation Technology: Techniques for separating mixtures into individual components.', 'DUP: [1] Gas Technology: Study of gases and their applications in various industries.', 'NEW: [1] Circulating Systems: Systems used for circulating fluids in industrial processes.', 'NEW: [1] Stability and Durability: Design and operation of systems for long-term stability and resistance to impact.']\n",
      "--------------------\n"
     ]
    },
    {
     "name": "stderr",
     "output_type": "stream",
     "text": [
      " 94%|█████████▍| 943/1000 [46:44<03:21,  3.54s/it]"
     ]
    },
    {
     "name": "stdout",
     "output_type": "stream",
     "text": [
      "Document: 943\n",
      "Topics: ['DUP: [1] Solar Energy: Mentions the collection and utilization of energy from the sun.', 'NEW: [1] Solar Collectors: Mentions devices used to absorb and transfer solar energy.', 'NEW: [1] Solar Concentrators: Mentions devices used to concentrate solar energy.', 'NEW: [1] Trough Shaped Solar Collectors: Mentions a specific type of solar collector design.', 'NEW: [1] Reflector Geometries: Mentions the shape and design of reflectors used in solar energy systems.']\n",
      "--------------------\n"
     ]
    },
    {
     "name": "stderr",
     "output_type": "stream",
     "text": [
      " 94%|█████████▍| 944/1000 [46:47<03:15,  3.49s/it]"
     ]
    },
    {
     "name": "stdout",
     "output_type": "stream",
     "text": [
      "Document: 944\n",
      "Topics: ['DUP: [1] Wind Energy: Mentions the production of energy from wind using a glider system.', \"DUP: [1] Aerodynamics: Mentions the study of the behavior of air and other gases in motion, specifically in relation to the glider's airfoil.\", 'DUP: [1] Control Systems: Mentions the use of a control device for autonomous flight of the glider based on sensor signals.', 'DUP: [1] Electrical Systems: Mentions the conversion of lift force into electric power using a ground-based electrical machine.']\n",
      "--------------------\n"
     ]
    },
    {
     "name": "stderr",
     "output_type": "stream",
     "text": [
      " 94%|█████████▍| 945/1000 [46:51<03:25,  3.74s/it]"
     ]
    },
    {
     "name": "stdout",
     "output_type": "stream",
     "text": [
      "Document: 945\n",
      "Topics: ['DUP: [1] Power Transmission: Refers to the movement of electrical energy from the power generation site to the end user.', 'DUP: [1] Mechanical Systems: Refers to mechanical components and their interactions.', 'DUP: [1] Engineering: Application of scientific, economic, social, and practical knowledge to design, build, and maintain structures, machines, devices, systems, and processes.', 'DUP: [1] Machines: A mechanical or electrical system designed to transmit force or power.', 'DUP: [1] Motors: An electrical machine used to convert electrical energy into mechanical energy.', 'DUP: [1] Generators: An electrical machine used to convert mechanical energy into electrical energy.', 'NEW: [1] Differential Motion: Motion of two or more parts moving in relation to each other while remaining connected.', 'NEW: [1] Power Distribution: The process of delivering electrical power from a power station to an end user.', 'DUP: [1] Engines: A machine designed to convert energy into mechanical work.', 'NEW: [1] Brake Mechanisms: A device used to slow down or stop the rotation of a machine or vehicle.']\n",
      "--------------------\n"
     ]
    },
    {
     "name": "stderr",
     "output_type": "stream",
     "text": [
      " 95%|█████████▍| 946/1000 [46:55<03:18,  3.67s/it]"
     ]
    },
    {
     "name": "stdout",
     "output_type": "stream",
     "text": [
      "Document: 946\n",
      "Topics: ['DUP: [1] Engineering Design: Mentions the process of creating new products or systems using a systematic approach.', 'DUP: [1] Mechanical Engineering: Mentions the application of principles of physics and mathematics to design, build, and maintain mechanical systems.', 'DUP: [1] Wind Energy: Mentions the production of electrical power from wind.', 'DUP: [1] Structural Design: Mentions the process of designing structures to support loads and withstand environmental conditions.', 'DUP: [1] Maintenance and Efficiency: Mentions the practices and technologies used to maintain equipment and improve its performance.']\n",
      "--------------------\n"
     ]
    },
    {
     "name": "stderr",
     "output_type": "stream",
     "text": [
      " 95%|█████████▍| 947/1000 [46:58<03:06,  3.51s/it]"
     ]
    },
    {
     "name": "stdout",
     "output_type": "stream",
     "text": [
      "Document: 947\n",
      "Topics: ['DUP: [1] Additive Manufacturing: Refers to the process of creating three-dimensional objects by adding material layer by layer.', 'NEW: [1] Energy Beams: Refers to focused beams of energy used in various applications, including additive manufacturing.', 'DUP: [1] Devices: Refers to machines or equipment used for specific functions or applications.', 'NEW: [1] Analysis: Refers to the examination and interpretation of data to gain insights or make informed decisions.', 'DUP: [1] Positioning Systems: Refers to systems used to determine and control the position of a part or tool during manufacturing processes.', 'DUP: [1] Radiation Technology: Refers to the study and application of radiation and its properties.', 'DUP: [1] Sensing Systems: Refers to systems used to detect and measure various physical or environmental conditions.']\n",
      "--------------------\n"
     ]
    },
    {
     "name": "stderr",
     "output_type": "stream",
     "text": [
      " 95%|█████████▍| 948/1000 [47:01<02:50,  3.28s/it]"
     ]
    },
    {
     "name": "stdout",
     "output_type": "stream",
     "text": [
      "Document: 948\n",
      "Topics: ['NEW: [1] Biodegradable Materials: Mentions materials that can degrade over time, specifically a pulp material, a biopolymer, and a nanomaterial.', 'DUP: [1] Nanotechnology: Mentions the use of nanomaterials.']\n",
      "--------------------\n"
     ]
    },
    {
     "name": "stderr",
     "output_type": "stream",
     "text": [
      " 95%|█████████▍| 949/1000 [47:04<02:45,  3.25s/it]"
     ]
    },
    {
     "name": "stdout",
     "output_type": "stream",
     "text": [
      "Document: 949\n",
      "Topics: ['NEW: [1] Information Processing Technologies: Refers to the technologies used to process, store, and communicate digital information.', 'NEW: [1] Configuration Methods: Relates to techniques used to set up and modify system settings.', 'DUP: [1] Terminals: Refers to devices used to access a computer system or network.', 'DUP: [1] Servers: Refers to computers or systems that provide services or resources to other computers or devices.']\n",
      "--------------------\n"
     ]
    },
    {
     "name": "stderr",
     "output_type": "stream",
     "text": [
      " 95%|█████████▌| 950/1000 [47:07<02:35,  3.11s/it]"
     ]
    },
    {
     "name": "stdout",
     "output_type": "stream",
     "text": [
      "Document: 950\n",
      "Topics: ['DUP: [1] Signal Transmission: Mentions the process of sending information from one location to another.', 'DUP: [1] Power Management: Mentions the process of managing power consumption and distribution.', 'DUP: [1] Networking: Mentions the interconnection of multiple devices or systems.', 'DUP: [1] Telecommunications: Mentions the transmission of information over long distances using electronic means.', 'NEW: [1] Terminal Apparatus: Mentions devices used to access or communicate with a network.', 'NEW: [1] Network Apparatus: Mentions devices used to provide network services or functions.']\n",
      "--------------------\n"
     ]
    },
    {
     "name": "stderr",
     "output_type": "stream",
     "text": [
      " 95%|█████████▌| 951/1000 [47:09<02:19,  2.85s/it]"
     ]
    },
    {
     "name": "stdout",
     "output_type": "stream",
     "text": [
      "Document: 951\n",
      "Topics: ['DUP: [1] Radio Frequency Technology: Mentions the use of radio frequency energy for various applications, including object processing and feedback detection.']\n",
      "--------------------\n"
     ]
    },
    {
     "name": "stderr",
     "output_type": "stream",
     "text": [
      " 95%|█████████▌| 952/1000 [47:14<02:42,  3.38s/it]"
     ]
    },
    {
     "name": "stdout",
     "output_type": "stream",
     "text": [
      "Document: 952\n",
      "Topics: ['DUP: [1] Engineering Design: Designing and developing components or systems, in this case, a vane assembly for an unducted propulsion system.', 'DUP: [1] Mechanical Engineering: Deals with the design, manufacturing, and maintenance of mechanical systems, including the vane assembly mentioned in the document.', \"DUP: [1] Aerodynamics: Study of the behavior of air or other gases in motion, which is relevant to the vane assembly's performance in an unducted propulsion system.\", 'DUP: [1] Propulsion Systems: Systems that provide thrust or motion, such as the unducted propulsion system mentioned in the document.', 'DUP: [1] Manufacturing: The process of producing goods or components, which includes the fabrication of the vane assembly.']\n",
      "--------------------\n"
     ]
    },
    {
     "name": "stderr",
     "output_type": "stream",
     "text": [
      " 95%|█████████▌| 953/1000 [47:17<02:40,  3.41s/it]"
     ]
    },
    {
     "name": "stdout",
     "output_type": "stream",
     "text": [
      "Document: 953\n",
      "Topics: ['DUP: [1] Power Systems: Mentions the generation, transmission, and distribution of electrical power.', 'DUP: [1] Radio Technology: Mentions wireless communication and related equipment.', 'DUP: [1] Tower Technology: Mentions structures used to support tall structures, such as cellular base stations.', 'DUP: [1] Electrical Systems: Mentions the design, installation, and maintenance of electrical systems.', 'DUP: [1] Power Supply: Mentions devices used to convert electrical energy from one form to another, such as DC power supplies.', 'NEW: [1] Voltage Control: Mentions the regulation of electrical potential difference to maintain a consistent level.']\n",
      "--------------------\n"
     ]
    },
    {
     "name": "stderr",
     "output_type": "stream",
     "text": [
      " 95%|█████████▌| 954/1000 [47:20<02:37,  3.43s/it]"
     ]
    },
    {
     "name": "stdout",
     "output_type": "stream",
     "text": [
      "Document: 954\n",
      "Topics: ['DUP: [1] Material Processing: Mentions the manipulation and transformation of materials.', 'DUP: [1] Plastics: Mentions the processing and manufacturing of plastics.', 'DUP: [1] Particle Technology: Mentions the study and application of particles.', 'DUP: [1] Polymer Technology: Mentions the study and application of polymers.', 'DUP: [1] Manufacturing: Mentions the production of goods through various processes.', 'DUP: [1] Engineering: Mentions the application of scientific, economic, social, and practical knowledge to design, build, and maintain structures, machines, devices, systems, and processes.']\n",
      "--------------------\n"
     ]
    },
    {
     "name": "stderr",
     "output_type": "stream",
     "text": [
      " 96%|█████████▌| 955/1000 [47:23<02:26,  3.26s/it]"
     ]
    },
    {
     "name": "stdout",
     "output_type": "stream",
     "text": [
      "Document: 955\n",
      "Topics: ['DUP: [1] Engineering: Mentions the design and development of systems and structures.', 'DUP: [1] Thermal Technology: Mentions technologies related to heat and temperature.', 'DUP: [1] Gas Technology: Mentions technologies related to gases.', 'DUP: [1] Energy: Mentions the production, distribution, and consumption of energy.', 'DUP: [1] Mechanical Engineering: Mentions the application of engineering principles to mechanical systems.', 'DUP: [1] Heat Exchangers: Mentions devices used to transfer heat between two or more fluids.', 'DUP: [1] Gas Turbine Engines: Mentions engines that use gas turbines to generate power.']\n",
      "--------------------\n"
     ]
    },
    {
     "name": "stderr",
     "output_type": "stream",
     "text": [
      " 96%|█████████▌| 956/1000 [47:26<02:12,  3.02s/it]"
     ]
    },
    {
     "name": "stdout",
     "output_type": "stream",
     "text": [
      "Document: 956\n",
      "Topics: ['NEW: [1] Service Mapping and Deployment: A process involving the identification of services and their dependencies, mapping indicators to those services, determining policies for deployment, and identifying deployment locations based on those policies.']\n",
      "--------------------\n"
     ]
    },
    {
     "name": "stderr",
     "output_type": "stream",
     "text": [
      " 96%|█████████▌| 957/1000 [47:30<02:21,  3.28s/it]"
     ]
    },
    {
     "name": "stdout",
     "output_type": "stream",
     "text": [
      "Document: 957\n",
      "Topics: ['DUP: [1] Materials Science: This document discusses a mortar composition made from treated palm oil fuel ash, fine aggregate, alkali activator, and aluminum hydroxide. The focus is on the properties and composition of the materials used.', 'DUP: [1] Construction Materials: This document discusses a mortar composition and its cured properties. The topic is related to materials used in construction and infrastructure projects.', 'DUP: [1] Engineering Materials: This document discusses a mortar composition made from specific materials, including treated palm oil fuel ash, fine aggregate, alkali activator, and aluminum hydroxide. The topic is related to materials used in engineering applications.', 'DUP: [1] Ceramics: This document discusses a mortar composition made from treated palm oil fuel ash, which is used as a binder. The topic is related to ceramic materials and their applications.', 'NEW: [1] Building Materials: This document discusses a mortar composition and its cured properties. The topic is related to materials used in the construction of buildings and structures.', 'NEW: [1] Concrete Technology: This document discusses a mortar composition made from treated palm oil fuel ash, which is used as a binder, and its compressive strength properties. The topic is related to concrete technology and its applications.', 'DUP: [1] Cement Technology: This document discusses a mortar composition made from treated palm oil']\n",
      "--------------------\n"
     ]
    },
    {
     "name": "stderr",
     "output_type": "stream",
     "text": [
      " 96%|█████████▌| 958/1000 [47:33<02:17,  3.27s/it]"
     ]
    },
    {
     "name": "stdout",
     "output_type": "stream",
     "text": [
      "Document: 958\n",
      "Topics: ['DUP: [1] Chemicals: Mentions the study or production of chemical substances.', 'NEW: [1] Fuel Additives: Mentions substances added to fuel to improve performance or reduce emissions.', 'DUP: [1] Internal Combustion Engines: Mentions engines that burn fuel in a confined space to produce power.', 'DUP: [1] Boilers: Mentions devices that heat water or other fluids to produce steam or hot water.', 'DUP: [1] Efficiency: Mentions the ability to maximize output while minimizing input.', 'NEW: [1] Hydrocarbons: Mentions organic compounds consisting of hydrogen and carbon atoms.']\n",
      "--------------------\n"
     ]
    },
    {
     "name": "stderr",
     "output_type": "stream",
     "text": [
      " 96%|█████████▌| 959/1000 [47:37<02:27,  3.59s/it]"
     ]
    },
    {
     "name": "stdout",
     "output_type": "stream",
     "text": [
      "Document: 959\n",
      "Topics: ['DUP: [1] Electrolytes: Materials used to conduct electricity in various electrochemical devices, including electrolytes for use in electric double-layer capacitors (EDLCs) or supercapacitors.', 'DUP: [1] Batteries: Energy storage devices that convert chemical energy into electrical energy.', 'DUP: [1] Capacitors: Electronic components used to store and release electrical energy.', 'NEW: [1] Supercapacitors: A type of capacitor that can store and release large amounts of electrical charge due to the presence of an electric double-layer at the interface between the electrode and the electrolyte.', 'NEW: [1] Ultracapacitors: Another term for supercapacitors, which can store and release large amounts of electrical charge quickly.', 'NEW: [1] Viologen: A class of organic compounds used as redox mediators in electrochemical systems, including electrolytes for EDLCs.', 'NEW: [1] Organic Electrolytes: Electrolytes that are organic in nature, such as those used in EDLCs.', 'NEW: [1] Corrosion Resistance: The ability of a material or system to resist corrosion, or the destruction of a material or its properties due to a reaction with its environment.', 'NEW: [1] Bipolar Pouch Cells: A type of electrochemical cell that uses a porous electrode and an electrolyte in a flexible']\n",
      "--------------------\n"
     ]
    },
    {
     "name": "stderr",
     "output_type": "stream",
     "text": [
      " 96%|█████████▌| 960/1000 [47:40<02:17,  3.43s/it]"
     ]
    },
    {
     "name": "stdout",
     "output_type": "stream",
     "text": [
      "Document: 960\n",
      "Topics: ['DUP: [1] Power Management: Mentions the regulation and management of electrical power.', 'DUP: [1] Electrical Systems: Mentions electrical power sources and components.', 'DUP: [1] Voltage Control: Mentions the regulation and control of electrical voltage levels.', 'DUP: [1] Power Converters: Mentions devices used to convert electrical power from one form to another.', 'DUP: [1] Transformers: Mentions electrical devices used to change the voltage or current of an alternating current.']\n",
      "--------------------\n"
     ]
    },
    {
     "name": "stderr",
     "output_type": "stream",
     "text": [
      " 96%|█████████▌| 961/1000 [47:44<02:10,  3.36s/it]"
     ]
    },
    {
     "name": "stdout",
     "output_type": "stream",
     "text": [
      "Document: 961\n",
      "Topics: ['DUP: [1] Electric Vehicles: Mentions vehicles that use electric power as a source of energy.', 'DUP: [1] Power Systems: Mentions the generation, storage, and control of electrical power.', 'DUP: [1] Control Systems: Mentions systems used to regulate and manage various processes.', 'DUP: [1] Vehicle Technology: Mentions technology related to vehicles and transportation.', 'DUP: [1] Engineering Controls: Mentions systems used to monitor and control various engineering processes.', 'DUP: [1] Computer Systems: Mentions electronic systems used for computation and data processing.']\n",
      "--------------------\n"
     ]
    },
    {
     "name": "stderr",
     "output_type": "stream",
     "text": [
      " 96%|█████████▌| 962/1000 [47:46<01:58,  3.12s/it]"
     ]
    },
    {
     "name": "stdout",
     "output_type": "stream",
     "text": [
      "Document: 962\n",
      "Topics: ['DUP: [1] Energy Storage: Systems and methods for storing energy by liquefying gases, such as air, and recovering energy by regasifying and combusting or reacting the gas with a fuel to drive a heat engine. These apparatus and methods can be used to store electric power from the grid and deliver it back to the grid.']\n",
      "--------------------\n"
     ]
    },
    {
     "name": "stderr",
     "output_type": "stream",
     "text": [
      " 96%|█████████▋| 963/1000 [47:50<01:59,  3.23s/it]"
     ]
    },
    {
     "name": "stdout",
     "output_type": "stream",
     "text": [
      "Document: 963\n",
      "Topics: ['DUP: [1] Display Devices: Mentions various types of display devices, including those with photosensing, biometric authentication, and touch panel functions.', 'NEW: [1] Biometric Authentication: Mentions the use of biometric data, such as fingerprints, for authentication purposes.', 'DUP: [1] Lighting Technology: Mentions the use of light-emitting elements and the concept of light being emitted and received.', 'DUP: [1] Optoelectronics: Mentions the conversion of light into electric signals and vice versa.', 'DUP: [1] Infrared Technology: Mentions the use of infrared light.']\n",
      "--------------------\n"
     ]
    },
    {
     "name": "stderr",
     "output_type": "stream",
     "text": [
      " 96%|█████████▋| 964/1000 [47:52<01:52,  3.13s/it]"
     ]
    },
    {
     "name": "stdout",
     "output_type": "stream",
     "text": [
      "Document: 964\n",
      "Topics: ['DUP: [1] Energy Storage: Refers to the storing and releasing of energy for various applications.', 'DUP: [1] Power Systems: Encompasses the generation, transmission, and distribution of electrical power.', 'DUP: [1] Control Systems: Deals with the regulation and automation of various systems and processes.']\n",
      "--------------------\n"
     ]
    },
    {
     "name": "stderr",
     "output_type": "stream",
     "text": [
      " 96%|█████████▋| 965/1000 [47:55<01:45,  3.01s/it]"
     ]
    },
    {
     "name": "stdout",
     "output_type": "stream",
     "text": [
      "Document: 965\n",
      "Topics: ['DUP: [1] Engineering Controls: This document discusses a method and apparatus for detecting an offset of a motor position sensor, which falls under the broader topic of engineering controls. The document does not mention any specific technology or industry, making this a generalizable top-level topic.']\n",
      "--------------------\n"
     ]
    },
    {
     "name": "stderr",
     "output_type": "stream",
     "text": [
      " 97%|█████████▋| 966/1000 [47:59<01:52,  3.32s/it]"
     ]
    },
    {
     "name": "stdout",
     "output_type": "stream",
     "text": [
      "Document: 966\n",
      "Topics: ['DUP: [1] Thermal Management: Mentions methods and devices used to regulate or maintain temperature.', 'DUP: [1] Internal Combustion Engines: Mentions engines that use fuel to generate power through the combustion of air and fuel.', 'DUP: [1] Turbochargers: Mentions devices used to increase the power output of an internal combustion engine by compressing the intake air.', 'DUP: [1] Heat Exchangers: Mentions devices used to transfer heat from one medium to another.', 'NEW: [1] Exhaust Gas Recuperation Systems: Mentions systems used to recover heat from exhaust gases and use it to preheat intake air or other fluids.', 'NEW: [1] Control Valves: Mentions devices used to regulate the flow of fluids or gases.', 'NEW: [1] Air Intake Circuits: Mentions systems used to deliver air to an internal combustion engine.', 'NEW: [1] Main Exhaust Lines: Mentions the primary line used to transport exhaust gases from an engine to an exhaust system.', 'NEW: [1] Exhaust Gas Circulation: Mentions the process of circulating exhaust gases through an engine or exhaust system.']\n",
      "--------------------\n"
     ]
    },
    {
     "name": "stderr",
     "output_type": "stream",
     "text": [
      " 97%|█████████▋| 967/1000 [48:02<01:44,  3.16s/it]"
     ]
    },
    {
     "name": "stdout",
     "output_type": "stream",
     "text": [
      "Document: 967\n",
      "Topics: ['DUP: [1] Fuel Cell Technology: Mentions the use of fuel cells and related components.', 'DUP: [1] Sensors and Measurement: Mentions the use of devices to detect and measure various quantities.', 'DUP: [1] Automotive Technology: Mentions vehicles and related technologies.']\n",
      "--------------------\n"
     ]
    },
    {
     "name": "stderr",
     "output_type": "stream",
     "text": [
      " 97%|█████████▋| 968/1000 [48:05<01:35,  2.99s/it]"
     ]
    },
    {
     "name": "stdout",
     "output_type": "stream",
     "text": [
      "Document: 968\n",
      "Topics: ['NEW: [1] Photocatalysis: A method of using light to initiate a chemical reaction, in this case, to reduce the number of live microbial organisms in a fluid using a photo-catalyst composed of tungsten trioxide nanoparticles doped with palladium nanoparticles.']\n",
      "--------------------\n"
     ]
    },
    {
     "name": "stderr",
     "output_type": "stream",
     "text": [
      " 97%|█████████▋| 969/1000 [48:07<01:30,  2.91s/it]"
     ]
    },
    {
     "name": "stdout",
     "output_type": "stream",
     "text": [
      "Document: 969\n",
      "Topics: ['DUP: [1] Power Management: Mentions the control and distribution of electrical power.', 'DUP: [1] Industrial Automation: Mentions the use of automated systems in industries.', 'DUP: [1] Communication Technology: Mentions the use of communication signals for control and coordination.', 'DUP: [1] Electric Vehicles: Mentions the charging and control of electric vehicles.', 'NEW: [1] Power Supply Systems: Mentions power supply systems and their operators.']\n",
      "--------------------\n"
     ]
    },
    {
     "name": "stderr",
     "output_type": "stream",
     "text": [
      " 97%|█████████▋| 970/1000 [48:11<01:30,  3.03s/it]"
     ]
    },
    {
     "name": "stdout",
     "output_type": "stream",
     "text": [
      "Document: 970\n",
      "Topics: ['DUP: [1] Mechanical Engineering: Mentions the design and construction of mechanical systems.', 'DUP: [1] Engineering Design: Mentions the process of creating new products or systems using the principles of engineering.', 'DUP: [1] Actuators: Mentions devices that convert energy into mechanical motion.', 'NEW: [1] Link Members: Mentions the components that connect different parts of a mechanical system.', 'NEW: [1] Springs: Mentions devices that store and release mechanical energy.']\n",
      "--------------------\n"
     ]
    },
    {
     "name": "stderr",
     "output_type": "stream",
     "text": [
      " 97%|█████████▋| 971/1000 [48:15<01:39,  3.45s/it]"
     ]
    },
    {
     "name": "stdout",
     "output_type": "stream",
     "text": [
      "Document: 971\n",
      "Topics: ['DUP: [1] Engineering Controls: Control systems for engineering applications, including the use of sensors, actuators, and controllers to monitor and adjust processes.', 'DUP: [1] Automotive Technology: Technology related to the design, manufacturing, and operation of vehicles, including engine systems, transmission systems, and control systems.', 'DUP: [1] HVAC Systems: Heating, ventilation, and air conditioning systems, including design, installation, operation, and maintenance.', 'DUP: [1] Control Systems: Systems used to monitor and control processes, including sensors, actuators, and controllers.', 'DUP: [1] Mechanical Systems: Systems that use mechanical components to perform work, including pumps, motors, and valves.', 'DUP: [1] Engineering Design: The process of creating designs for various applications, including mechanical, electrical, and civil engineering.', 'DUP: [1] Power Management: The process of managing and controlling the distribution and use of electrical power.', 'DUP: [1] Industrial Automation: The use of automated systems and control technology in industrial processes.', 'DUP: [1] Performance Control: Control systems used to optimize the performance of various systems, including engines, HVAC systems, and industrial processes.', 'DUP: [1] Limit Control: Control systems used to limit the operation of a system within specified parameters.', 'DUP: [1] Industrial Processes: The manufacturing and production of goods, including the use of machinery, equipment']\n",
      "--------------------\n"
     ]
    },
    {
     "name": "stderr",
     "output_type": "stream",
     "text": [
      " 97%|█████████▋| 972/1000 [48:20<01:47,  3.83s/it]"
     ]
    },
    {
     "name": "stdout",
     "output_type": "stream",
     "text": [
      "Document: 972\n",
      "Topics: ['NEW: [1] Hydroelectric Power Generation: Mentions the production of electricity using the energy of falling or flowing water.', 'DUP: [1] Control Systems: Mentions systems used to regulate and direct the operation of other systems or processes.', 'DUP: [1] Valves: Mentions devices used to control the flow of fluids by opening, closing, or regulating the opening of an outlet.', 'DUP: [1] Electric Power Systems: Mentions systems used to generate, transmit, and distribute electricity.', 'DUP: [1] Mechanical Systems: Mentions systems that use mechanical components to perform work.', 'DUP: [1] Engineering Controls: Mentions devices or systems used to control or regulate processes or systems, often in industrial applications.', 'DUP: [1] Water Delivery Systems: Mentions systems used to transport water from one place to another.', 'DUP: [1] Fog Generation Systems: Mentions systems used to generate fog for various applications, such as cooling or humidification.', 'DUP: [1] Industrial Automation: Mentions the use of automated systems and control technology in industrial processes.']\n",
      "--------------------\n"
     ]
    },
    {
     "name": "stderr",
     "output_type": "stream",
     "text": [
      " 97%|█████████▋| 973/1000 [48:22<01:30,  3.35s/it]"
     ]
    },
    {
     "name": "stdout",
     "output_type": "stream",
     "text": [
      "Document: 973\n",
      "Topics: []\n",
      "--------------------\n"
     ]
    },
    {
     "name": "stderr",
     "output_type": "stream",
     "text": [
      " 97%|█████████▋| 974/1000 [48:25<01:25,  3.30s/it]"
     ]
    },
    {
     "name": "stdout",
     "output_type": "stream",
     "text": [
      "Document: 974\n",
      "Topics: ['DUP: [1] Electrical Systems: Mentions electrical components and systems.', 'DUP: [1] Battery Technology: Mentions batteries and related technology.', 'DUP: [1] Engineering Design: Mentions design processes and methods.', 'DUP: [1] Control Systems: Mentions systems used to control and regulate various processes.', 'DUP: [1] Capacitors: Mentions capacitors and their applications.']\n",
      "--------------------\n"
     ]
    },
    {
     "name": "stderr",
     "output_type": "stream",
     "text": [
      " 98%|█████████▊| 975/1000 [48:29<01:24,  3.37s/it]"
     ]
    },
    {
     "name": "stdout",
     "output_type": "stream",
     "text": [
      "Document: 975\n",
      "Topics: ['DUP: [1] Data Processing: The document discusses a system that processes and analyzes energy consumption data.', 'DUP: [1] Energy Management: The document mentions managing energy consumption and predicting energy usage.', 'DUP: [1] Demand Response: The document discusses a demand response program and predicting dispatch order reception times.', 'DUP: [1] Predictive Analytics: The document mentions generating estimates and identifying anomalies using prediction techniques.', 'NEW: [1] Rules Processing: The document mentions a rules processor that creates anomalies and selects estimation techniques.', 'DUP: [1] Weather Technology: The document mentions receiving forecasted outside temperatures from weather stores.']\n",
      "--------------------\n"
     ]
    },
    {
     "name": "stderr",
     "output_type": "stream",
     "text": [
      " 98%|█████████▊| 976/1000 [48:31<01:15,  3.14s/it]"
     ]
    },
    {
     "name": "stdout",
     "output_type": "stream",
     "text": [
      "Document: 976\n",
      "Topics: ['DUP: [1] Electrical Systems: Mentions the use of electrical power in the operation of a gas turbine engine.', 'DUP: [1] Gas Technology: Mentions the use of a gas turbine engine.', 'DUP: [1] Engineering Controls: Mentions the use of an electronic control unit in the operation of a gas turbine engine.', 'DUP: [1] Power Management: Mentions the rectification of AC power into DC power and the management of DC power supply.', 'DUP: [1] Ignition Systems: Mentions the use of an ignition igniter in a gas turbine engine.']\n",
      "--------------------\n"
     ]
    },
    {
     "name": "stderr",
     "output_type": "stream",
     "text": [
      " 98%|█████████▊| 977/1000 [48:34<01:10,  3.06s/it]"
     ]
    },
    {
     "name": "stdout",
     "output_type": "stream",
     "text": [
      "Document: 977\n",
      "Topics: ['DUP: [1] Manufacturing: Mentions various manufacturing processes and techniques.', 'DUP: [1] Powder Technology: Deals with the production, characterization, and application of powders.', 'DUP: [1] Binder Technology: Relates to materials and processes used to bind particles together.', 'NEW: [1] Thermoplastic Materials: Refers to materials that can be melted and solidified repeatedly without undergoing significant chemical change.', 'NEW: [1] Fluorescent Materials: Deals with substances that emit light when exposed to certain wavelengths of light.']\n",
      "--------------------\n"
     ]
    },
    {
     "name": "stderr",
     "output_type": "stream",
     "text": [
      " 98%|█████████▊| 978/1000 [48:40<01:22,  3.74s/it]"
     ]
    },
    {
     "name": "stdout",
     "output_type": "stream",
     "text": [
      "Document: 978\n",
      "Topics: ['DUP: [1] Fuel Cells: Systems that convert chemical energy into electrical energy through a reaction between hydrogen fuel and oxygen from the air.', 'DUP: [1] Engineering Design: Process of creating new products or systems through a systematic approach, including conceptualization, planning, development, testing, and production.', 'DUP: [1] Electrical Systems: Systems that deal with the generation, transmission, distribution, and utilization of electrical energy.', 'DUP: [1] Gas Technology: Study and application of gases, particularly hydrocarbon gases and their derivatives, for various industrial and energy purposes.', 'DUP: [1] Industrial Automation: Use of control systems, sensors, and machines to automate industrial processes and improve efficiency and productivity.', 'DUP: [1] Power Management: Management of electrical power in a system, including generation, distribution, storage, and consumption.', 'DUP: [1] Induction Technology: Use of electromagnetic fields to transfer energy or to heat materials.', 'DUP: [1] Horticulture: Science and art of growing plants, including their cultivation, harvesting, and marketing.', 'DUP: [1] Manufacturing: Process of producing goods on a large scale using machinery, tools, or labor.', 'DUP: [1] Technology: Application of scientific knowledge for practical purposes, especially in industry.', 'DUP: [1] Engineering: Application of mathematical, scientific, economic, social, and practical knowledge to design, build, and maintain structures']\n",
      "--------------------\n"
     ]
    },
    {
     "name": "stderr",
     "output_type": "stream",
     "text": [
      " 98%|█████████▊| 979/1000 [48:42<01:12,  3.45s/it]"
     ]
    },
    {
     "name": "stdout",
     "output_type": "stream",
     "text": [
      "Document: 979\n",
      "Topics: ['DUP: [1] Plasma Technology: Mentions the use of plasma in various processes, including chemical vapor deposition.', 'DUP: [1] Vacuum Technology: Mentions the use of a vacuum in the plasma chemical vapor deposition process.', 'DUP: [1] Material Processing: Mentions the processing of materials using plasma technology.']\n",
      "--------------------\n"
     ]
    },
    {
     "name": "stderr",
     "output_type": "stream",
     "text": [
      " 98%|█████████▊| 980/1000 [48:45<01:02,  3.12s/it]"
     ]
    },
    {
     "name": "stdout",
     "output_type": "stream",
     "text": [
      "Document: 980\n",
      "Topics: []\n",
      "--------------------\n"
     ]
    },
    {
     "name": "stderr",
     "output_type": "stream",
     "text": [
      " 98%|█████████▊| 981/1000 [48:48<00:57,  3.04s/it]"
     ]
    },
    {
     "name": "stdout",
     "output_type": "stream",
     "text": [
      "Document: 981\n",
      "Topics: ['DUP: [1] Sensing Technology: Includes systems and devices used to detect physical or environmental conditions, such as volatile organic compounds (VOC).', 'DUP: [1] Electrical Systems: Includes power modules and electrical components used to supply power and operate various systems and devices.', 'DUP: [1] Manufacturing: Includes design and production of detecting apparatus, including the use of charging frames and stock rooms for storage and movement of detecting carriers.']\n",
      "--------------------\n"
     ]
    },
    {
     "name": "stderr",
     "output_type": "stream",
     "text": [
      " 98%|█████████▊| 982/1000 [48:51<00:56,  3.12s/it]"
     ]
    },
    {
     "name": "stdout",
     "output_type": "stream",
     "text": [
      "Document: 982\n",
      "Topics: ['DUP: [1] Biotechnology: Mentions the use of living organisms or biological processes to modify or produce products.', 'NEW: [1] DNA Polymerases: Mentions enzymes responsible for synthesizing DNA.', 'NEW: [1] Gene Engineering: Mentions the modification of genes to produce desired traits.', 'NEW: [1] Protein Engineering: Mentions the modification of proteins to produce desired traits.', 'NEW: [1] Enzyme Technology: Mentions the use of enzymes for industrial or technological applications.', 'DUP: [1] Nucleic Acids: Mentions the structure and function of DNA and RNA.', 'DUP: [1] Biochemistry: Mentions the study of biological molecules and their interactions.', 'DUP: [1] Molecular Biology: Mentions the study of the structure and function of molecules involved in biological processes.']\n",
      "--------------------\n"
     ]
    },
    {
     "name": "stderr",
     "output_type": "stream",
     "text": [
      " 98%|█████████▊| 983/1000 [48:54<00:51,  3.04s/it]"
     ]
    },
    {
     "name": "stdout",
     "output_type": "stream",
     "text": [
      "Document: 983\n",
      "Topics: ['DUP: [1] Inorganic Materials: Mentions the use and preparation of inorganic materials, specifically inorganic spherical and hollow inorganic particles.', 'DUP: [1] Thermal Insulation: Refers to materials used to prevent or reduce the transfer of heat.', 'NEW: [1] Particles: Refers to small, discrete entities that can be used to make up larger structures or materials.']\n",
      "--------------------\n"
     ]
    },
    {
     "name": "stderr",
     "output_type": "stream",
     "text": [
      " 98%|█████████▊| 984/1000 [48:56<00:47,  2.96s/it]"
     ]
    },
    {
     "name": "stdout",
     "output_type": "stream",
     "text": [
      "Document: 984\n",
      "Topics: ['DUP: [1] Manufacturing: Mentions a manufacturing process for reducing iron oxide.', 'DUP: [1] Metallurgy: Mentions the process of extracting metals from their ores.', 'DUP: [1] Iron and Steel: Mentions the specific metal being processed.', 'DUP: [1] Gas Technology: Mentions the use of reducing gas in the process.']\n",
      "--------------------\n"
     ]
    },
    {
     "name": "stderr",
     "output_type": "stream",
     "text": [
      " 98%|█████████▊| 985/1000 [49:01<00:52,  3.49s/it]"
     ]
    },
    {
     "name": "stdout",
     "output_type": "stream",
     "text": [
      "Document: 985\n",
      "Topics: ['DUP: [1] Engineering: Mentions the design and construction of structures and systems.', 'DUP: [1] Manufacturing: Mentions the production of goods or services.', 'DUP: [1] Automotive Technology: Mentions the technology related to automobiles.', 'DUP: [1] Exhaust Systems: Mentions the systems used to expel exhaust gases from engines.', 'DUP: [1] Engineering Design: Mentions the process of creating designs for structures, machines, systems, and processes.', 'DUP: [1] Mechanical Engineering: Mentions the branch of engineering that deals with the design, construction, and operation of mechanical systems.', 'DUP: [1] Material Processing: Mentions the manipulation of raw materials into finished products.', 'DUP: [1] Structural Design: Mentions the design of structures to support loads and withstand various environmental conditions.', 'DUP: [1] Materials Science: Mentions the study of the properties and behavior of various materials.', 'DUP: [1] Composite Materials: Mentions materials made from two or more different materials combined to create new properties.', 'DUP: [1] Thermal Management: Mentions the techniques used to manage and control the temperature of systems and structures.', 'DUP: [1] Heat Exchangers: Mentions devices used to transfer heat from one medium to another.', 'DUP: [1] Cooling Systems: Mentions the systems used to remove heat from a system or structure.']\n",
      "--------------------\n"
     ]
    },
    {
     "name": "stderr",
     "output_type": "stream",
     "text": [
      " 99%|█████████▊| 986/1000 [49:04<00:45,  3.24s/it]"
     ]
    },
    {
     "name": "stdout",
     "output_type": "stream",
     "text": [
      "Document: 986\n",
      "Topics: ['DUP: [1] Internal Combustion Engines: Mentions the operation and control of engines.', 'DUP: [1] Turbochargers: Mentions the use of turbochargers in engines.', 'NEW: [1] Variable Inlet Guide Vanes: Mentions the use of variable inlet guide vanes in engines.', 'NEW: [1] Engine Derating: Mentions the process of reducing engine power output.', 'DUP: [1] Compressors: Mentions the use of compressors in engines and other systems.']\n",
      "--------------------\n"
     ]
    },
    {
     "name": "stderr",
     "output_type": "stream",
     "text": [
      " 99%|█████████▊| 987/1000 [49:06<00:39,  3.06s/it]"
     ]
    },
    {
     "name": "stdout",
     "output_type": "stream",
     "text": [
      "Document: 987\n",
      "Topics: ['NEW: [1] Pump Technology: Mentions the design and operation of pumps, including the use of diaphragms, eccentrics, and pressure sensors.']\n",
      "--------------------\n"
     ]
    },
    {
     "name": "stderr",
     "output_type": "stream",
     "text": [
      " 99%|█████████▉| 988/1000 [49:10<00:39,  3.29s/it]"
     ]
    },
    {
     "name": "stdout",
     "output_type": "stream",
     "text": [
      "Document: 988\n",
      "Topics: ['DUP: [1] Electrical Systems: Mentions the use and control of electrical power.', 'DUP: [1] Generators: Refers to devices that convert mechanical energy into electrical energy.', 'NEW: [1] Error Detection: Refers to identifying and signaling the presence of an error or fault.', 'DUP: [1] Control Systems: Refers to systems used to regulate and direct the operation of other systems or processes.', 'NEW: [1] Motor Vehicles: Refers to vehicles that use a motor for propulsion.', 'NEW: [1] Onboard Electrical Systems: Refers to the electrical power system within a motor vehicle.', 'NEW: [1] Excitation Current: Refers to the electrical current used to excite the rotor of an electric machine.', 'DUP: [1] Voltage Control: Refers to the regulation of voltage in an electrical system.', 'DUP: [1] Threshold Values: Refers to a minimum or maximum value that triggers a response or action.']\n",
      "--------------------\n"
     ]
    },
    {
     "name": "stderr",
     "output_type": "stream",
     "text": [
      " 99%|█████████▉| 989/1000 [49:13<00:33,  3.06s/it]"
     ]
    },
    {
     "name": "stdout",
     "output_type": "stream",
     "text": [
      "Document: 989\n",
      "Topics: ['DUP: [1] Laser Technology: Mentions the use of lasers and their related components.', 'NEW: [1] Bird Deterrence Systems: Mentions systems designed to deter birds from certain areas.']\n",
      "--------------------\n"
     ]
    },
    {
     "name": "stderr",
     "output_type": "stream",
     "text": [
      " 99%|█████████▉| 990/1000 [49:17<00:34,  3.44s/it]"
     ]
    },
    {
     "name": "stdout",
     "output_type": "stream",
     "text": [
      "Document: 990\n",
      "Topics: ['DUP: [1] Gas Technology: Mentions the use and application of gases, including the design and operation of gas turbines.', 'DUP: [1] Engineering Design: Mentions the process of creating a design for a system or product, in this case, a gas turbine control system.', 'DUP: [1] Mechanical Engineering: Mentions the application of physical principles to design, build, and maintain mechanical systems, including gas turbines.', 'DUP: [1] Power Management: Mentions the process of generating, distributing, and using power, including controlling the output of gas turbines.', 'DUP: [1] Industrial Automation: Mentions the use of automated systems and control technology in industrial processes, including gas turbine control systems.', 'DUP: [1] Engineering Controls: Mentions the use of control systems and devices to manage and optimize industrial processes, including gas turbine output control.', 'DUP: [1] Combustion Technology: Mentions the science and technology of burning fuels, including the combustion process in gas turbines.', 'DUP: [1] Thermodynamics: Mentions the branch of physics that deals with heat and temperature, including the thermodynamic principles that govern gas turbine operation.', 'DUP: [1] Material Processing: Mentions the use of physical or chemical processes to transform raw materials into finished products, including the manufacturing of gas turbine components.', 'DUP: [1] Manufacturing: Mentions the process']\n",
      "--------------------\n"
     ]
    },
    {
     "name": "stderr",
     "output_type": "stream",
     "text": [
      " 99%|█████████▉| 991/1000 [49:21<00:32,  3.62s/it]"
     ]
    },
    {
     "name": "stdout",
     "output_type": "stream",
     "text": [
      "Document: 991\n",
      "Topics: ['DUP: [1] Chemical Processing: Mentions the conversion of raw materials into chemicals using industrial processes.', 'DUP: [1] Catalysis: Mentions the use of catalysts to increase the rate of a chemical reaction.', 'DUP: [1] Reactor Technology: Mentions the design and operation of reactors for chemical reactions.', 'NEW: [1] Fluidized Bed Reactors: Mentions reactors where the reactants are kept in a fluidized state.', 'NEW: [1] Methanol and Dimethyl Ether: Mentions specific chemical compounds used as feedstocks.', 'NEW: [1] Toluene: Mentions specific chemical compound used as feedstock or reactant.', 'NEW: [1] Light Olefins: Mentions specific chemical compounds as co-products.', 'NEW: [1] Alkylation Reactions: Mentions a type of chemical reaction.', 'NEW: [1] MTO Reactions: Mentions a type of chemical reaction.', 'NEW: [1] Mass Transfer: Mentions the transfer of mass between phases.', 'NEW: [1] Reaction Control: Mentions the manipulation of chemical reactions.', 'NEW: [1] Coordination and Optimization: Mentions the coordination and optimization of processes.', 'NEW: [1] Conversion Rates: Mentions the efficiency of a chemical reaction.']\n",
      "--------------------\n"
     ]
    },
    {
     "name": "stderr",
     "output_type": "stream",
     "text": [
      " 99%|█████████▉| 992/1000 [49:25<00:30,  3.79s/it]"
     ]
    },
    {
     "name": "stdout",
     "output_type": "stream",
     "text": [
      "Document: 992\n",
      "Topics: ['DUP: [1] Semiconductor Technology: Mentions the production and properties of semiconductor materials, including the use of wafers for photovoltaics.', 'DUP: [1] Material Processing: Mentions the manipulation and modification of materials to create desired properties or structures.', 'DUP: [1] Photovoltaics: Mentions the conversion of light energy into electrical energy using semiconductors.', 'DUP: [1] Temperature Control: Mentions the regulation of temperature during material processing.', 'DUP: [1] Thin Films: Mentions the production and properties of thin films, including their use in semiconductor technology.', 'NEW: [1] Heat Extraction: Mentions the removal of heat from materials during processing.', 'DUP: [1] Templates: Mentions the use of templates in material processing, including their role in semiconductor wafer production.', 'NEW: [1] Extraction Propensity: Mentions the ability of materials to extract heat or other substances.']\n",
      "--------------------\n"
     ]
    },
    {
     "name": "stderr",
     "output_type": "stream",
     "text": [
      " 99%|█████████▉| 993/1000 [49:28<00:23,  3.41s/it]"
     ]
    },
    {
     "name": "stdout",
     "output_type": "stream",
     "text": [
      "Document: 993\n",
      "Topics: ['DUP: [1] Gas Technology: Mentions the treatment and processing of gases.', 'DUP: [1] Plasma Technology: Mentions the use of plasma in various applications.', 'DUP: [1] Engineering: Mentions the design and construction of apparatus and systems.']\n",
      "--------------------\n"
     ]
    },
    {
     "name": "stderr",
     "output_type": "stream",
     "text": [
      " 99%|█████████▉| 994/1000 [49:33<00:22,  3.77s/it]"
     ]
    },
    {
     "name": "stdout",
     "output_type": "stream",
     "text": [
      "Document: 994\n",
      "Topics: ['DUP: [1] Display Technology: Mentions various display-related technologies and devices.', 'DUP: [1] Material Processing: Mentions the processing of materials, including the use of layers and coatings.', 'DUP: [1] Vacuum Technology: Mentions the use of vacuum technology in the processing of materials.', 'DUP: [1] Quartz Technology: Mentions the use of quartz in the production of display devices.', 'DUP: [1] Coating Technology: Mentions the application of coatings to various surfaces.', 'DUP: [1] Control Systems: Mentions the use of control systems to manage various processes.', 'DUP: [1] Thin Films: Mentions the use of thin films in various applications, including display technology.', 'DUP: [1] Optical Technology: Mentions various optical technologies and applications.', 'DUP: [1] Substrates: Mentions the use of substrates in various applications, including display technology.', 'NEW: [1] Protective Layers: Mentions the use of protective layers to shield various surfaces from damage.', 'NEW: [1] Bending Portions: Mentions the use of bending portions in various applications, including display technology.', 'DUP: [1] Material Science: Mentions the study of materials and their properties.', 'DUP: [1] Nanotechnology: Mentions the use of nanotechnology in various applications, including']\n",
      "--------------------\n"
     ]
    },
    {
     "name": "stderr",
     "output_type": "stream",
     "text": [
      "100%|█████████▉| 995/1000 [49:35<00:17,  3.40s/it]"
     ]
    },
    {
     "name": "stdout",
     "output_type": "stream",
     "text": [
      "Document: 995\n",
      "Topics: ['DUP: [1] Electrical Systems: Mentions the use of electrical components and systems, including transformers and circuits.', 'DUP: [1] Control Systems: Mentions the use of control systems, including valley detection circuits and switching signals.']\n",
      "--------------------\n"
     ]
    },
    {
     "name": "stderr",
     "output_type": "stream",
     "text": [
      "100%|█████████▉| 996/1000 [49:39<00:14,  3.62s/it]"
     ]
    },
    {
     "name": "stdout",
     "output_type": "stream",
     "text": [
      "Document: 996\n",
      "Topics: ['DUP: [1] Fluid Systems: Mentions systems related to the handling and movement of fluids.', 'DUP: [1] Mechanical Engineering: Mentions the application of mathematical and scientific principles to design, build, and maintain mechanical systems.', 'DUP: [1] Hydraulic Systems: Mentions systems that use a fluid, typically oil, to transmit power and control motion.', 'NEW: [1] Pneumatic Systems: Mentions systems that use compressed air to transmit power and control motion.', 'DUP: [1] Machining: Mentions the process of removing material from a workpiece to create a desired shape or size.', 'DUP: [1] Manufacturing: Mentions the process of producing goods on a large scale using machinery, tools, or labor.', 'DUP: [1] Engineering Design: Mentions the process of creating new products or systems using the principles of engineering.', 'NEW: [1] Mechanical Components: Mentions individual parts or systems used in mechanical engineering.', 'DUP: [1] Actuators: Mentions devices that convert energy into mechanical motion.', 'NEW: [1] Fluid Power: Mentions the use of fluids to transmit power and control motion in industrial applications.', 'NEW: [1] Hydrodynamics: Mentions the study of the behavior of fluids in motion.', 'NEW: [1] Pneumatics: Mentions the use of compressed air']\n",
      "--------------------\n"
     ]
    },
    {
     "name": "stderr",
     "output_type": "stream",
     "text": [
      "100%|█████████▉| 997/1000 [49:42<00:10,  3.42s/it]"
     ]
    },
    {
     "name": "stdout",
     "output_type": "stream",
     "text": [
      "Document: 997\n",
      "Topics: ['DUP: [1] Memory Technology: Mentions methods, systems, and devices related to memory and its configuration.']\n",
      "--------------------\n"
     ]
    },
    {
     "name": "stderr",
     "output_type": "stream",
     "text": [
      "100%|█████████▉| 998/1000 [49:46<00:06,  3.41s/it]"
     ]
    },
    {
     "name": "stdout",
     "output_type": "stream",
     "text": [
      "Document: 998\n",
      "Topics: ['DUP: [1] Internal Combustion Engines: Mentions engines that use fuel and air to create combustion.', 'DUP: [1] Exhaust Systems: Mentions systems used to expel exhaust gases from an engine.', 'DUP: [1] Turbines: Mentions devices that convert kinetic energy into mechanical energy.', 'DUP: [1] Catalysts: Mentions substances that increase the rate of a chemical reaction without being consumed.', 'DUP: [1] Diesel Engines: Mentions engines that use diesel fuel and air to create combustion.', 'DUP: [1] Emission Control Systems: Mentions systems used to reduce the amount of pollutants released into the environment by an engine.', 'DUP: [1] Engine Design: Mentions the process of creating the design for an engine.', 'DUP: [1] Automotive Technology: Mentions technology related to automobiles.']\n",
      "--------------------\n"
     ]
    },
    {
     "name": "stderr",
     "output_type": "stream",
     "text": [
      "100%|█████████▉| 999/1000 [49:49<00:03,  3.52s/it]"
     ]
    },
    {
     "name": "stdout",
     "output_type": "stream",
     "text": [
      "Document: 999\n",
      "Topics: ['DUP: [1] Power Management: Refers to the regulation and distribution of electrical power.', 'DUP: [1] Communication Systems: Refers to the systems used for transmitting information between different components of a power management system.', 'NEW: [1] Power Companies: Refers to organizations that generate, transmit, and sell electrical power to consumers.']\n",
      "--------------------\n"
     ]
    },
    {
     "name": "stderr",
     "output_type": "stream",
     "text": [
      "100%|██████████| 1000/1000 [49:52<00:00,  2.99s/it]"
     ]
    },
    {
     "name": "stdout",
     "output_type": "stream",
     "text": [
      "Document: 1000\n",
      "Topics: ['DUP: [1] Wind Energy: Mentions the use of wind as a source of energy and technologies related to wind energy generation, such as wind turbines and their components.', 'NEW: [1] Magnetic Transmissions: Mentions the use of magnetic fields for transmitting power, specifically in the context of wind energy generation.']\n",
      "--------------------\n"
     ]
    },
    {
     "name": "stderr",
     "output_type": "stream",
     "text": [
      "\n"
     ]
    }
   ],
   "source": [
    "# Description: Example of how to run the generation script\n",
    "%run generation_1.py --deployment_name mistral-7b-instruct-v0_2 \\\n",
    "                    --max_tokens 300 --temperature 0.0 --top_p 0.0 \\\n",
    "                    --data $data_sample \\\n",
    "                    --prompt_file $generation_prompt \\\n",
    "                    --seed_file $seed_1 \\\n",
    "                    --out_file $generation_out \\\n",
    "                    --topic_file $generation_topic \\\n",
    "                    --verbose True \\\n",
    "                    --provider together.ai"
   ]
  },
  {
   "cell_type": "code",
   "execution_count": 3,
   "metadata": {
    "vscode": {
     "languageId": "shellscript"
    }
   },
   "outputs": [
    {
     "name": "stdout",
     "output_type": "stream",
     "text": [
      "No updated/merged topics!\n"
     ]
    }
   ],
   "source": [
    "# Refinement \n",
    "# Run the script multiple times to get a better result\n",
    "# Default: 1 runs\n",
    "%run refinement.py --deployment_name mistral-7b-instruct \\\n",
    "                    --max_tokens 500 --temperature 0.0 --top_p 0.0 \\\n",
    "                    --prompt_file $refinement_prompt \\\n",
    "                    --generation_file $generation_out \\\n",
    "                    --topic_file $generation_topic \\\n",
    "                    --out_file $refinement_out \\\n",
    "                    --verbose True \\\n",
    "                    --updated_file $refinement_updated \\\n",
    "                    --mapping_file $refinement_mapping \\\n",
    "                    --refined_again False \\\n",
    "                    --remove False \\\n",
    "                    --provider together.ai"
   ]
  },
  {
   "cell_type": "code",
   "execution_count": 4,
   "metadata": {
    "vscode": {
     "languageId": "shellscript"
    }
   },
   "outputs": [
    {
     "name": "stdout",
     "output_type": "stream",
     "text": [
      "Number of remaining documents for prompting: 0\n"
     ]
    },
    {
     "name": "stderr",
     "output_type": "stream",
     "text": [
      "  0%|          | 0/6 [00:00<?, ?it/s]"
     ]
    },
    {
     "name": "stderr",
     "output_type": "stream",
     "text": [
      "  0%|          | 0/6 [00:00<?, ?it/s]"
     ]
    },
    {
     "name": "stdout",
     "output_type": "stream",
     "text": [
      "Current topic: [1] Energy Sector\n"
     ]
    },
    {
     "name": "stderr",
     "output_type": "stream",
     "text": [
      "\n"
     ]
    },
    {
     "ename": "KeyError",
     "evalue": "'text'",
     "output_type": "error",
     "traceback": [
      "\u001b[0;31m---------------------------------------------------------------------------\u001b[0m",
      "\u001b[0;31mKeyError\u001b[0m                                  Traceback (most recent call last)",
      "File \u001b[0;32m~/Desktop/CS 685/Project/cs685/lib/python3.11/site-packages/pandas/core/indexes/base.py:3790\u001b[0m, in \u001b[0;36mIndex.get_loc\u001b[0;34m(self, key)\u001b[0m\n\u001b[1;32m   3789\u001b[0m \u001b[38;5;28;01mtry\u001b[39;00m:\n\u001b[0;32m-> 3790\u001b[0m     \u001b[38;5;28;01mreturn\u001b[39;00m \u001b[38;5;28;43mself\u001b[39;49m\u001b[38;5;241;43m.\u001b[39;49m\u001b[43m_engine\u001b[49m\u001b[38;5;241;43m.\u001b[39;49m\u001b[43mget_loc\u001b[49m\u001b[43m(\u001b[49m\u001b[43mcasted_key\u001b[49m\u001b[43m)\u001b[49m\n\u001b[1;32m   3791\u001b[0m \u001b[38;5;28;01mexcept\u001b[39;00m \u001b[38;5;167;01mKeyError\u001b[39;00m \u001b[38;5;28;01mas\u001b[39;00m err:\n",
      "File \u001b[0;32mindex.pyx:152\u001b[0m, in \u001b[0;36mpandas._libs.index.IndexEngine.get_loc\u001b[0;34m()\u001b[0m\n",
      "File \u001b[0;32mindex.pyx:181\u001b[0m, in \u001b[0;36mpandas._libs.index.IndexEngine.get_loc\u001b[0;34m()\u001b[0m\n",
      "File \u001b[0;32mpandas/_libs/hashtable_class_helper.pxi:7080\u001b[0m, in \u001b[0;36mpandas._libs.hashtable.PyObjectHashTable.get_item\u001b[0;34m()\u001b[0m\n",
      "File \u001b[0;32mpandas/_libs/hashtable_class_helper.pxi:7088\u001b[0m, in \u001b[0;36mpandas._libs.hashtable.PyObjectHashTable.get_item\u001b[0;34m()\u001b[0m\n",
      "\u001b[0;31mKeyError\u001b[0m: 'text'",
      "\nThe above exception was the direct cause of the following exception:\n",
      "\u001b[0;31mKeyError\u001b[0m                                  Traceback (most recent call last)",
      "File \u001b[0;32m~/Desktop/CS 685/Project/topic-gpt-fork/script/generation_2.py:295\u001b[0m\n\u001b[1;32m    291\u001b[0m     result_df\u001b[38;5;241m.\u001b[39mto_json(args\u001b[38;5;241m.\u001b[39mout_file, orient\u001b[38;5;241m=\u001b[39m\u001b[38;5;124m\"\u001b[39m\u001b[38;5;124mrecords\u001b[39m\u001b[38;5;124m\"\u001b[39m, lines\u001b[38;5;241m=\u001b[39m\u001b[38;5;28;01mTrue\u001b[39;00m)\n\u001b[1;32m    294\u001b[0m \u001b[38;5;28;01mif\u001b[39;00m \u001b[38;5;18m__name__\u001b[39m \u001b[38;5;241m==\u001b[39m \u001b[38;5;124m\"\u001b[39m\u001b[38;5;124m__main__\u001b[39m\u001b[38;5;124m\"\u001b[39m:\n\u001b[0;32m--> 295\u001b[0m     \u001b[43mmain\u001b[49m\u001b[43m(\u001b[49m\u001b[43m)\u001b[49m\n",
      "File \u001b[0;32m~/Desktop/CS 685/Project/topic-gpt-fork/script/generation_2.py:272\u001b[0m, in \u001b[0;36mmain\u001b[0;34m()\u001b[0m\n\u001b[1;32m    269\u001b[0m     \u001b[38;5;28mprint\u001b[39m(\u001b[38;5;124m\"\u001b[39m\u001b[38;5;124mNumber of remaining documents for prompting:\u001b[39m\u001b[38;5;124m\"\u001b[39m, \u001b[38;5;28mlen\u001b[39m(df))\n\u001b[1;32m    271\u001b[0m \u001b[38;5;66;03m# Prompting ----\u001b[39;00m\n\u001b[0;32m--> 272\u001b[0m res, docs \u001b[38;5;241m=\u001b[39m \u001b[43mgenerate_topics\u001b[49m\u001b[43m(\u001b[49m\n\u001b[1;32m    273\u001b[0m \u001b[43m    \u001b[49m\u001b[43mdf\u001b[49m\u001b[43m,\u001b[49m\n\u001b[1;32m    274\u001b[0m \u001b[43m    \u001b[49m\u001b[43mtopics_root\u001b[49m\u001b[43m,\u001b[49m\n\u001b[1;32m    275\u001b[0m \u001b[43m    \u001b[49m\u001b[43mtopics_node\u001b[49m\u001b[43m,\u001b[49m\n\u001b[1;32m    276\u001b[0m \u001b[43m    \u001b[49m\u001b[43mgeneration_prompt\u001b[49m\u001b[43m,\u001b[49m\n\u001b[1;32m    277\u001b[0m \u001b[43m    \u001b[49m\u001b[43mcontext_len\u001b[49m\u001b[43m,\u001b[49m\n\u001b[1;32m    278\u001b[0m \u001b[43m    \u001b[49m\u001b[43mdeployment_name\u001b[49m\u001b[43m,\u001b[49m\n\u001b[1;32m    279\u001b[0m \u001b[43m    \u001b[49m\u001b[43mprovider\u001b[49m\u001b[43m,\u001b[49m\n\u001b[1;32m    280\u001b[0m \u001b[43m    \u001b[49m\u001b[43mmax_tokens\u001b[49m\u001b[43m,\u001b[49m\n\u001b[1;32m    281\u001b[0m \u001b[43m    \u001b[49m\u001b[43mtemperature\u001b[49m\u001b[43m,\u001b[49m\n\u001b[1;32m    282\u001b[0m \u001b[43m    \u001b[49m\u001b[43mtop_p\u001b[49m\u001b[43m,\u001b[49m\n\u001b[1;32m    283\u001b[0m \u001b[43m    \u001b[49m\u001b[43margs\u001b[49m\u001b[38;5;241;43m.\u001b[39;49m\u001b[43mverbose\u001b[49m\u001b[43m,\u001b[49m\n\u001b[1;32m    284\u001b[0m \u001b[43m\u001b[49m\u001b[43m)\u001b[49m\n\u001b[1;32m    286\u001b[0m \u001b[38;5;66;03m# Writing results ----\u001b[39;00m\n\u001b[1;32m    287\u001b[0m \u001b[38;5;28;01mwith\u001b[39;00m \u001b[38;5;28mopen\u001b[39m(args\u001b[38;5;241m.\u001b[39mtopic_file, \u001b[38;5;124m\"\u001b[39m\u001b[38;5;124mw\u001b[39m\u001b[38;5;124m\"\u001b[39m) \u001b[38;5;28;01mas\u001b[39;00m f:\n",
      "File \u001b[0;32m~/Desktop/CS 685/Project/topic-gpt-fork/script/generation_2.py:83\u001b[0m, in \u001b[0;36mgenerate_topics\u001b[0;34m(df, topics_root, topics_node, gen_prompt, context_len, deployment_name, provider, max_tokens, temperature, top_p, verbose, max_topic_num)\u001b[0m\n\u001b[1;32m     80\u001b[0m     \u001b[38;5;28mprint\u001b[39m(\u001b[38;5;124m\"\u001b[39m\u001b[38;5;124mCurrent topic:\u001b[39m\u001b[38;5;124m\"\u001b[39m, current_topic)\n\u001b[1;32m     82\u001b[0m \u001b[38;5;66;03m# Retrieving documents for the current topic ----\u001b[39;00m\n\u001b[0;32m---> 83\u001b[0m relevant_docs \u001b[38;5;241m=\u001b[39m \u001b[43mdf\u001b[49m\u001b[43m[\u001b[49m\u001b[43mdf\u001b[49m\u001b[43m[\u001b[49m\u001b[38;5;124;43m\"\u001b[39;49m\u001b[38;5;124;43mtopics\u001b[39;49m\u001b[38;5;124;43m\"\u001b[39;49m\u001b[43m]\u001b[49m\u001b[38;5;241;43m.\u001b[39;49m\u001b[43mapply\u001b[49m\u001b[43m(\u001b[49m\u001b[38;5;28;43;01mlambda\u001b[39;49;00m\u001b[43m \u001b[49m\u001b[43mx\u001b[49m\u001b[43m:\u001b[49m\u001b[43m \u001b[49m\u001b[43mcurrent_topic\u001b[49m\u001b[43m \u001b[49m\u001b[38;5;129;43;01min\u001b[39;49;00m\u001b[43m \u001b[49m\u001b[43mx\u001b[49m\u001b[43m)\u001b[49m\u001b[43m]\u001b[49m\u001b[43m[\u001b[49m\n\u001b[1;32m     84\u001b[0m \u001b[43m    \u001b[49m\u001b[38;5;124;43m\"\u001b[39;49m\u001b[38;5;124;43mtext\u001b[39;49m\u001b[38;5;124;43m\"\u001b[39;49m\n\u001b[1;32m     85\u001b[0m \u001b[43m\u001b[49m\u001b[43m]\u001b[49m\u001b[38;5;241m.\u001b[39mtolist()\n\u001b[1;32m     86\u001b[0m doc_len \u001b[38;5;241m=\u001b[39m (\n\u001b[1;32m     87\u001b[0m     context_len\n\u001b[1;32m     88\u001b[0m     \u001b[38;5;241m-\u001b[39m num_tokens_from_messages(gen_prompt, deployment_name)\n\u001b[1;32m     89\u001b[0m     \u001b[38;5;241m-\u001b[39m max_tokens\n\u001b[1;32m     90\u001b[0m )\n\u001b[1;32m     91\u001b[0m doc_prompt \u001b[38;5;241m=\u001b[39m construct_document(relevant_docs, doc_len)\n",
      "File \u001b[0;32m~/Desktop/CS 685/Project/cs685/lib/python3.11/site-packages/pandas/core/frame.py:3893\u001b[0m, in \u001b[0;36mDataFrame.__getitem__\u001b[0;34m(self, key)\u001b[0m\n\u001b[1;32m   3891\u001b[0m \u001b[38;5;28;01mif\u001b[39;00m \u001b[38;5;28mself\u001b[39m\u001b[38;5;241m.\u001b[39mcolumns\u001b[38;5;241m.\u001b[39mnlevels \u001b[38;5;241m>\u001b[39m \u001b[38;5;241m1\u001b[39m:\n\u001b[1;32m   3892\u001b[0m     \u001b[38;5;28;01mreturn\u001b[39;00m \u001b[38;5;28mself\u001b[39m\u001b[38;5;241m.\u001b[39m_getitem_multilevel(key)\n\u001b[0;32m-> 3893\u001b[0m indexer \u001b[38;5;241m=\u001b[39m \u001b[38;5;28;43mself\u001b[39;49m\u001b[38;5;241;43m.\u001b[39;49m\u001b[43mcolumns\u001b[49m\u001b[38;5;241;43m.\u001b[39;49m\u001b[43mget_loc\u001b[49m\u001b[43m(\u001b[49m\u001b[43mkey\u001b[49m\u001b[43m)\u001b[49m\n\u001b[1;32m   3894\u001b[0m \u001b[38;5;28;01mif\u001b[39;00m is_integer(indexer):\n\u001b[1;32m   3895\u001b[0m     indexer \u001b[38;5;241m=\u001b[39m [indexer]\n",
      "File \u001b[0;32m~/Desktop/CS 685/Project/cs685/lib/python3.11/site-packages/pandas/core/indexes/base.py:3797\u001b[0m, in \u001b[0;36mIndex.get_loc\u001b[0;34m(self, key)\u001b[0m\n\u001b[1;32m   3792\u001b[0m     \u001b[38;5;28;01mif\u001b[39;00m \u001b[38;5;28misinstance\u001b[39m(casted_key, \u001b[38;5;28mslice\u001b[39m) \u001b[38;5;129;01mor\u001b[39;00m (\n\u001b[1;32m   3793\u001b[0m         \u001b[38;5;28misinstance\u001b[39m(casted_key, abc\u001b[38;5;241m.\u001b[39mIterable)\n\u001b[1;32m   3794\u001b[0m         \u001b[38;5;129;01mand\u001b[39;00m \u001b[38;5;28many\u001b[39m(\u001b[38;5;28misinstance\u001b[39m(x, \u001b[38;5;28mslice\u001b[39m) \u001b[38;5;28;01mfor\u001b[39;00m x \u001b[38;5;129;01min\u001b[39;00m casted_key)\n\u001b[1;32m   3795\u001b[0m     ):\n\u001b[1;32m   3796\u001b[0m         \u001b[38;5;28;01mraise\u001b[39;00m InvalidIndexError(key)\n\u001b[0;32m-> 3797\u001b[0m     \u001b[38;5;28;01mraise\u001b[39;00m \u001b[38;5;167;01mKeyError\u001b[39;00m(key) \u001b[38;5;28;01mfrom\u001b[39;00m \u001b[38;5;21;01merr\u001b[39;00m\n\u001b[1;32m   3798\u001b[0m \u001b[38;5;28;01mexcept\u001b[39;00m \u001b[38;5;167;01mTypeError\u001b[39;00m:\n\u001b[1;32m   3799\u001b[0m     \u001b[38;5;66;03m# If we have a listlike key, _check_indexing_error will raise\u001b[39;00m\n\u001b[1;32m   3800\u001b[0m     \u001b[38;5;66;03m#  InvalidIndexError. Otherwise we fall through and re-raise\u001b[39;00m\n\u001b[1;32m   3801\u001b[0m     \u001b[38;5;66;03m#  the TypeError.\u001b[39;00m\n\u001b[1;32m   3802\u001b[0m     \u001b[38;5;28mself\u001b[39m\u001b[38;5;241m.\u001b[39m_check_indexing_error(key)\n",
      "\u001b[0;31mKeyError\u001b[0m: 'text'"
     ]
    }
   ],
   "source": [
    "%run generation_2.py --deployment_name mistral-7b-instruct \\\n",
    "                    --max_tokens 500 --temperature 0.0 --top_p 0.0 \\\n",
    "                    --data $generation_out \\\n",
    "                    --seed_file $generation_topic \\\n",
    "                    --prompt_file $generation_2_prompt \\\n",
    "                    --out_file $generation_2_out \\\n",
    "                    --topic_file $generation_2_topic \\\n",
    "                    --verbose True \\\n",
    "                    --provider together.ai"
   ]
  },
  {
   "cell_type": "code",
   "execution_count": 9,
   "metadata": {
    "vscode": {
     "languageId": "shellscript"
    }
   },
   "outputs": [
    {
     "name": "stderr",
     "output_type": "stream",
     "text": [
      " 10%|█         | 1/10 [00:05<00:45,  5.02s/it]"
     ]
    },
    {
     "name": "stdout",
     "output_type": "stream",
     "text": [
      "Document: 1\n",
      "Response: None\n",
      "--------------------\n"
     ]
    },
    {
     "name": "stderr",
     "output_type": "stream",
     "text": [
      " 20%|██        | 2/10 [00:10<00:40,  5.03s/it]"
     ]
    },
    {
     "name": "stdout",
     "output_type": "stream",
     "text": [
      "Document: 2\n",
      "Response: None\n",
      "--------------------\n"
     ]
    },
    {
     "name": "stderr",
     "output_type": "stream",
     "text": [
      " 20%|██        | 2/10 [00:11<00:44,  5.56s/it]\n"
     ]
    },
    {
     "ename": "KeyboardInterrupt",
     "evalue": "",
     "output_type": "error",
     "traceback": [
      "\u001b[0;31m---------------------------------------------------------------------------\u001b[0m",
      "\u001b[0;31mKeyboardInterrupt\u001b[0m                         Traceback (most recent call last)",
      "File \u001b[0;32m~/Desktop/CS 685/Project/topic-gpt-fork/script/assignment.py:214\u001b[0m\n\u001b[1;32m    210\u001b[0m                 \u001b[38;5;28mprint\u001b[39m(line, file\u001b[38;5;241m=\u001b[39mf)\n\u001b[1;32m    213\u001b[0m \u001b[38;5;28;01mif\u001b[39;00m \u001b[38;5;18m__name__\u001b[39m \u001b[38;5;241m==\u001b[39m \u001b[38;5;124m\"\u001b[39m\u001b[38;5;124m__main__\u001b[39m\u001b[38;5;124m\"\u001b[39m:\n\u001b[0;32m--> 214\u001b[0m     \u001b[43mmain\u001b[49m\u001b[43m(\u001b[49m\u001b[43m)\u001b[49m\n",
      "File \u001b[0;32m~/Desktop/CS 685/Project/topic-gpt-fork/script/assignment.py:188\u001b[0m, in \u001b[0;36mmain\u001b[0;34m()\u001b[0m\n\u001b[1;32m    185\u001b[0m topics_root, _ \u001b[38;5;241m=\u001b[39m generate_tree(read_seed(args\u001b[38;5;241m.\u001b[39mtopic_file))\n\u001b[1;32m    187\u001b[0m \u001b[38;5;66;03m# Prompting ----\u001b[39;00m\n\u001b[0;32m--> 188\u001b[0m responses, prompted_docs \u001b[38;5;241m=\u001b[39m \u001b[43massign_topics\u001b[49m\u001b[43m(\u001b[49m\n\u001b[1;32m    189\u001b[0m \u001b[43m    \u001b[49m\u001b[43mtopics_root\u001b[49m\u001b[43m,\u001b[49m\n\u001b[1;32m    190\u001b[0m \u001b[43m    \u001b[49m\u001b[43mdocs\u001b[49m\u001b[43m,\u001b[49m\n\u001b[1;32m    191\u001b[0m \u001b[43m    \u001b[49m\u001b[43massignment_prompt\u001b[49m\u001b[43m,\u001b[49m\n\u001b[1;32m    192\u001b[0m \u001b[43m    \u001b[49m\u001b[43mdeployment_name\u001b[49m\u001b[43m,\u001b[49m\n\u001b[1;32m    193\u001b[0m \u001b[43m    \u001b[49m\u001b[43mprovider\u001b[49m\u001b[43m,\u001b[49m\n\u001b[1;32m    194\u001b[0m \u001b[43m    \u001b[49m\u001b[43mcontext_len\u001b[49m\u001b[43m,\u001b[49m\n\u001b[1;32m    195\u001b[0m \u001b[43m    \u001b[49m\u001b[43mtemperature\u001b[49m\u001b[43m,\u001b[49m\n\u001b[1;32m    196\u001b[0m \u001b[43m    \u001b[49m\u001b[43mtop_p\u001b[49m\u001b[43m,\u001b[49m\n\u001b[1;32m    197\u001b[0m \u001b[43m    \u001b[49m\u001b[43mmax_tokens\u001b[49m\u001b[43m,\u001b[49m\n\u001b[1;32m    198\u001b[0m \u001b[43m    \u001b[49m\u001b[43margs\u001b[49m\u001b[38;5;241;43m.\u001b[39;49m\u001b[43mverbose\u001b[49m\u001b[43m,\u001b[49m\n\u001b[1;32m    199\u001b[0m \u001b[43m\u001b[49m\u001b[43m)\u001b[49m\n\u001b[1;32m    201\u001b[0m \u001b[38;5;66;03m# Writing results ----\u001b[39;00m\n\u001b[1;32m    202\u001b[0m \u001b[38;5;28;01mtry\u001b[39;00m:\n",
      "File \u001b[0;32m~/Desktop/CS 685/Project/topic-gpt-fork/script/assignment.py:102\u001b[0m, in \u001b[0;36massign_topics\u001b[0;34m(topics_root, docs, assignment_prompt, deployment_name, provider, context_len, temperature, top_p, max_tokens, verbose, max_top_len)\u001b[0m\n\u001b[1;32m    100\u001b[0m \u001b[38;5;28;01mtry\u001b[39;00m:\n\u001b[1;32m    101\u001b[0m     prompt \u001b[38;5;241m=\u001b[39m assignment_prompt\u001b[38;5;241m.\u001b[39mformat(Document\u001b[38;5;241m=\u001b[39mdoc, tree\u001b[38;5;241m=\u001b[39mseed_str)\n\u001b[0;32m--> 102\u001b[0m     result \u001b[38;5;241m=\u001b[39m \u001b[43mapi_call\u001b[49m\u001b[43m(\u001b[49m\u001b[43mprompt\u001b[49m\u001b[43m,\u001b[49m\u001b[43m \u001b[49m\u001b[43mdeployment_name\u001b[49m\u001b[43m,\u001b[49m\u001b[43m \u001b[49m\u001b[43mprovider\u001b[49m\u001b[43m,\u001b[49m\u001b[43m \u001b[49m\u001b[43mtemperature\u001b[49m\u001b[43m,\u001b[49m\u001b[43m \u001b[49m\u001b[43mmax_tokens\u001b[49m\u001b[43m,\u001b[49m\u001b[43m \u001b[49m\u001b[43mtop_p\u001b[49m\u001b[43m)\u001b[49m\n\u001b[1;32m    103\u001b[0m     \u001b[38;5;28;01mif\u001b[39;00m verbose:\n\u001b[1;32m    104\u001b[0m         \u001b[38;5;28mprint\u001b[39m(\u001b[38;5;124mf\u001b[39m\u001b[38;5;124m\"\u001b[39m\u001b[38;5;124mDocument: \u001b[39m\u001b[38;5;132;01m{\u001b[39;00mi\u001b[38;5;241m+\u001b[39m\u001b[38;5;241m1\u001b[39m\u001b[38;5;132;01m}\u001b[39;00m\u001b[38;5;124m\"\u001b[39m)\n",
      "File \u001b[0;32m~/Desktop/CS 685/Project/cs685/lib/python3.11/site-packages/tenacity/__init__.py:289\u001b[0m, in \u001b[0;36mBaseRetrying.wraps.<locals>.wrapped_f\u001b[0;34m(*args, **kw)\u001b[0m\n\u001b[1;32m    287\u001b[0m \u001b[38;5;129m@functools\u001b[39m\u001b[38;5;241m.\u001b[39mwraps(f)\n\u001b[1;32m    288\u001b[0m \u001b[38;5;28;01mdef\u001b[39;00m \u001b[38;5;21mwrapped_f\u001b[39m(\u001b[38;5;241m*\u001b[39margs: t\u001b[38;5;241m.\u001b[39mAny, \u001b[38;5;241m*\u001b[39m\u001b[38;5;241m*\u001b[39mkw: t\u001b[38;5;241m.\u001b[39mAny) \u001b[38;5;241m-\u001b[39m\u001b[38;5;241m>\u001b[39m t\u001b[38;5;241m.\u001b[39mAny:\n\u001b[0;32m--> 289\u001b[0m     \u001b[38;5;28;01mreturn\u001b[39;00m \u001b[38;5;28;43mself\u001b[39;49m\u001b[43m(\u001b[49m\u001b[43mf\u001b[49m\u001b[43m,\u001b[49m\u001b[43m \u001b[49m\u001b[38;5;241;43m*\u001b[39;49m\u001b[43margs\u001b[49m\u001b[43m,\u001b[49m\u001b[43m \u001b[49m\u001b[38;5;241;43m*\u001b[39;49m\u001b[38;5;241;43m*\u001b[39;49m\u001b[43mkw\u001b[49m\u001b[43m)\u001b[49m\n",
      "File \u001b[0;32m~/Desktop/CS 685/Project/cs685/lib/python3.11/site-packages/tenacity/__init__.py:379\u001b[0m, in \u001b[0;36mRetrying.__call__\u001b[0;34m(self, fn, *args, **kwargs)\u001b[0m\n\u001b[1;32m    377\u001b[0m retry_state \u001b[38;5;241m=\u001b[39m RetryCallState(retry_object\u001b[38;5;241m=\u001b[39m\u001b[38;5;28mself\u001b[39m, fn\u001b[38;5;241m=\u001b[39mfn, args\u001b[38;5;241m=\u001b[39margs, kwargs\u001b[38;5;241m=\u001b[39mkwargs)\n\u001b[1;32m    378\u001b[0m \u001b[38;5;28;01mwhile\u001b[39;00m \u001b[38;5;28;01mTrue\u001b[39;00m:\n\u001b[0;32m--> 379\u001b[0m     do \u001b[38;5;241m=\u001b[39m \u001b[38;5;28;43mself\u001b[39;49m\u001b[38;5;241;43m.\u001b[39;49m\u001b[43miter\u001b[49m\u001b[43m(\u001b[49m\u001b[43mretry_state\u001b[49m\u001b[38;5;241;43m=\u001b[39;49m\u001b[43mretry_state\u001b[49m\u001b[43m)\u001b[49m\n\u001b[1;32m    380\u001b[0m     \u001b[38;5;28;01mif\u001b[39;00m \u001b[38;5;28misinstance\u001b[39m(do, DoAttempt):\n\u001b[1;32m    381\u001b[0m         \u001b[38;5;28;01mtry\u001b[39;00m:\n",
      "File \u001b[0;32m~/Desktop/CS 685/Project/cs685/lib/python3.11/site-packages/tenacity/__init__.py:314\u001b[0m, in \u001b[0;36mBaseRetrying.iter\u001b[0;34m(self, retry_state)\u001b[0m\n\u001b[1;32m    312\u001b[0m is_explicit_retry \u001b[38;5;241m=\u001b[39m fut\u001b[38;5;241m.\u001b[39mfailed \u001b[38;5;129;01mand\u001b[39;00m \u001b[38;5;28misinstance\u001b[39m(fut\u001b[38;5;241m.\u001b[39mexception(), TryAgain)\n\u001b[1;32m    313\u001b[0m \u001b[38;5;28;01mif\u001b[39;00m \u001b[38;5;129;01mnot\u001b[39;00m (is_explicit_retry \u001b[38;5;129;01mor\u001b[39;00m \u001b[38;5;28mself\u001b[39m\u001b[38;5;241m.\u001b[39mretry(retry_state)):\n\u001b[0;32m--> 314\u001b[0m     \u001b[38;5;28;01mreturn\u001b[39;00m \u001b[43mfut\u001b[49m\u001b[38;5;241;43m.\u001b[39;49m\u001b[43mresult\u001b[49m\u001b[43m(\u001b[49m\u001b[43m)\u001b[49m\n\u001b[1;32m    316\u001b[0m \u001b[38;5;28;01mif\u001b[39;00m \u001b[38;5;28mself\u001b[39m\u001b[38;5;241m.\u001b[39mafter \u001b[38;5;129;01mis\u001b[39;00m \u001b[38;5;129;01mnot\u001b[39;00m \u001b[38;5;28;01mNone\u001b[39;00m:\n\u001b[1;32m    317\u001b[0m     \u001b[38;5;28mself\u001b[39m\u001b[38;5;241m.\u001b[39mafter(retry_state)\n",
      "File \u001b[0;32m/Library/Frameworks/Python.framework/Versions/3.11/lib/python3.11/concurrent/futures/_base.py:449\u001b[0m, in \u001b[0;36mFuture.result\u001b[0;34m(self, timeout)\u001b[0m\n\u001b[1;32m    447\u001b[0m     \u001b[38;5;28;01mraise\u001b[39;00m CancelledError()\n\u001b[1;32m    448\u001b[0m \u001b[38;5;28;01melif\u001b[39;00m \u001b[38;5;28mself\u001b[39m\u001b[38;5;241m.\u001b[39m_state \u001b[38;5;241m==\u001b[39m FINISHED:\n\u001b[0;32m--> 449\u001b[0m     \u001b[38;5;28;01mreturn\u001b[39;00m \u001b[38;5;28;43mself\u001b[39;49m\u001b[38;5;241;43m.\u001b[39;49m\u001b[43m__get_result\u001b[49m\u001b[43m(\u001b[49m\u001b[43m)\u001b[49m\n\u001b[1;32m    451\u001b[0m \u001b[38;5;28mself\u001b[39m\u001b[38;5;241m.\u001b[39m_condition\u001b[38;5;241m.\u001b[39mwait(timeout)\n\u001b[1;32m    453\u001b[0m \u001b[38;5;28;01mif\u001b[39;00m \u001b[38;5;28mself\u001b[39m\u001b[38;5;241m.\u001b[39m_state \u001b[38;5;129;01min\u001b[39;00m [CANCELLED, CANCELLED_AND_NOTIFIED]:\n",
      "File \u001b[0;32m/Library/Frameworks/Python.framework/Versions/3.11/lib/python3.11/concurrent/futures/_base.py:401\u001b[0m, in \u001b[0;36mFuture.__get_result\u001b[0;34m(self)\u001b[0m\n\u001b[1;32m    399\u001b[0m \u001b[38;5;28;01mif\u001b[39;00m \u001b[38;5;28mself\u001b[39m\u001b[38;5;241m.\u001b[39m_exception:\n\u001b[1;32m    400\u001b[0m     \u001b[38;5;28;01mtry\u001b[39;00m:\n\u001b[0;32m--> 401\u001b[0m         \u001b[38;5;28;01mraise\u001b[39;00m \u001b[38;5;28mself\u001b[39m\u001b[38;5;241m.\u001b[39m_exception\n\u001b[1;32m    402\u001b[0m     \u001b[38;5;28;01mfinally\u001b[39;00m:\n\u001b[1;32m    403\u001b[0m         \u001b[38;5;66;03m# Break a reference cycle with the exception in self._exception\u001b[39;00m\n\u001b[1;32m    404\u001b[0m         \u001b[38;5;28mself\u001b[39m \u001b[38;5;241m=\u001b[39m \u001b[38;5;28;01mNone\u001b[39;00m\n",
      "File \u001b[0;32m~/Desktop/CS 685/Project/cs685/lib/python3.11/site-packages/tenacity/__init__.py:382\u001b[0m, in \u001b[0;36mRetrying.__call__\u001b[0;34m(self, fn, *args, **kwargs)\u001b[0m\n\u001b[1;32m    380\u001b[0m \u001b[38;5;28;01mif\u001b[39;00m \u001b[38;5;28misinstance\u001b[39m(do, DoAttempt):\n\u001b[1;32m    381\u001b[0m     \u001b[38;5;28;01mtry\u001b[39;00m:\n\u001b[0;32m--> 382\u001b[0m         result \u001b[38;5;241m=\u001b[39m \u001b[43mfn\u001b[49m\u001b[43m(\u001b[49m\u001b[38;5;241;43m*\u001b[39;49m\u001b[43margs\u001b[49m\u001b[43m,\u001b[49m\u001b[43m \u001b[49m\u001b[38;5;241;43m*\u001b[39;49m\u001b[38;5;241;43m*\u001b[39;49m\u001b[43mkwargs\u001b[49m\u001b[43m)\u001b[49m\n\u001b[1;32m    383\u001b[0m     \u001b[38;5;28;01mexcept\u001b[39;00m \u001b[38;5;167;01mBaseException\u001b[39;00m:  \u001b[38;5;66;03m# noqa: B902\u001b[39;00m\n\u001b[1;32m    384\u001b[0m         retry_state\u001b[38;5;241m.\u001b[39mset_exception(sys\u001b[38;5;241m.\u001b[39mexc_info())  \u001b[38;5;66;03m# type: ignore[arg-type]\u001b[39;00m\n",
      "File \u001b[0;32m~/Desktop/CS 685/Project/topic-gpt-fork/script/utils.py:53\u001b[0m, in \u001b[0;36mapi_call\u001b[0;34m(prompt, deployment_name, provider, temperature, max_tokens, top_p)\u001b[0m\n\u001b[1;32m     42\u001b[0m \u001b[38;5;129m@retry\u001b[39m(wait\u001b[38;5;241m=\u001b[39mwait_random_exponential(\u001b[38;5;28mmin\u001b[39m\u001b[38;5;241m=\u001b[39m\u001b[38;5;241m1\u001b[39m, \u001b[38;5;28mmax\u001b[39m\u001b[38;5;241m=\u001b[39m\u001b[38;5;241m20\u001b[39m), stop\u001b[38;5;241m=\u001b[39mstop_after_attempt(\u001b[38;5;241m6\u001b[39m))\n\u001b[1;32m     43\u001b[0m \u001b[38;5;28;01mdef\u001b[39;00m \u001b[38;5;21mapi_call\u001b[39m(prompt, deployment_name, provider, temperature, max_tokens, top_p):\n\u001b[1;32m     44\u001b[0m \u001b[38;5;250m    \u001b[39m\u001b[38;5;124;03m\"\"\"\u001b[39;00m\n\u001b[1;32m     45\u001b[0m \u001b[38;5;124;03m    Call API (OpenAI, Azure, Perplexity) and return response\u001b[39;00m\n\u001b[1;32m     46\u001b[0m \u001b[38;5;124;03m    - prompt: prompt template\u001b[39;00m\n\u001b[0;32m   (...)\u001b[0m\n\u001b[1;32m     51\u001b[0m \u001b[38;5;124;03m    - top_p: top p parameter\u001b[39;00m\n\u001b[1;32m     52\u001b[0m \u001b[38;5;124;03m    \"\"\"\u001b[39;00m\n\u001b[0;32m---> 53\u001b[0m     time\u001b[38;5;241m.\u001b[39msleep(\u001b[38;5;241m5\u001b[39m)  \u001b[38;5;66;03m# Change to avoid rate limit\u001b[39;00m\n\u001b[1;32m     54\u001b[0m     \u001b[38;5;28;01mif\u001b[39;00m provider \u001b[38;5;241m==\u001b[39m \u001b[38;5;124m\"\u001b[39m\u001b[38;5;124mopenai\u001b[39m\u001b[38;5;124m\"\u001b[39m:\n\u001b[1;32m     55\u001b[0m         \u001b[38;5;28;01mif\u001b[39;00m deployment_name \u001b[38;5;129;01min\u001b[39;00m [\u001b[38;5;124m\"\u001b[39m\u001b[38;5;124mgpt-35-turbo\u001b[39m\u001b[38;5;124m\"\u001b[39m, \u001b[38;5;124m\"\u001b[39m\u001b[38;5;124mgpt-4\u001b[39m\u001b[38;5;124m\"\u001b[39m, \u001b[38;5;124m\"\u001b[39m\u001b[38;5;124mgpt-3.5-turbo\u001b[39m\u001b[38;5;124m\"\u001b[39m]:\n",
      "\u001b[0;31mKeyboardInterrupt\u001b[0m: "
     ]
    }
   ],
   "source": [
    "# Assignment\n",
    "%run assignment.py --deployment_name mistral-7b-instruct \\\n",
    "                        --max_tokens 300 --temperature 0.0 --top_p 0.0 \\\n",
    "                        --data $data_sample \\\n",
    "                        --prompt_file $assignment_prompt \\\n",
    "                        --topic_file $generation_topic \\\n",
    "                        --out_file $assignment_out \\\n",
    "                        --verbose True \\\n",
    "                        --provider together.ai"
   ]
  },
  {
   "cell_type": "code",
   "execution_count": 7,
   "metadata": {},
   "outputs": [
    {
     "name": "stdout",
     "output_type": "stream",
     "text": [
      "[1] Conservation (Count: 2): Mentions policies and actions related to the preservation of natural resources and areas.\n",
      "\n",
      "[1] Indigenous Rights (Count: 1): Discusses issues related to the rights and compensation of indigenous tribes.\n",
      "\n",
      "[1] Energy Production (Count: 2): Mentions the generation of hydropower and related compensation.\n",
      "\n",
      "[1] Transportation (Count: 2): Mentions policies and programs related to the development of transportation systems.\n",
      "\n",
      "\n",
      "\n"
     ]
    }
   ],
   "source": [
    "# Printing out topic list\n",
    "with open(\"../data/output/generation_1.md\", \"r\") as f:\n",
    "    generated_topics = f.readlines()\n",
    "    for line in generated_topics:\n",
    "        print(line)"
   ]
  }
 ],
 "metadata": {
  "kernelspec": {
   "display_name": "e4_NLP_project",
   "language": "python",
   "name": "e4_nlp_project"
  },
  "language_info": {
   "codemirror_mode": {
    "name": "ipython",
    "version": 3
   },
   "file_extension": ".py",
   "mimetype": "text/x-python",
   "name": "python",
   "nbconvert_exporter": "python",
   "pygments_lexer": "ipython3",
   "version": "3.11.7"
  }
 },
 "nbformat": 4,
 "nbformat_minor": 2
}
