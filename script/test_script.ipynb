{
 "cells": [
  {
   "cell_type": "code",
   "execution_count": 6,
   "metadata": {},
   "outputs": [],
   "source": [
    "import os\n",
    "import json"
   ]
  },
  {
   "cell_type": "code",
   "execution_count": 7,
   "metadata": {},
   "outputs": [],
   "source": [
    "#Replace model_lookup_name with mistral-7b-instruct-v0_2 in run generation_1.py\n",
    "model_lookup_name = \"test-mistral-7b-instruct-v0_2\""
   ]
  },
  {
   "cell_type": "code",
   "execution_count": 8,
   "metadata": {},
   "outputs": [],
   "source": [
    "import os\n",
    "folder_path = f'../data/output/{model_lookup_name}'\n",
    "if not os.path.exists(folder_path):\n",
    "    os.mkdir(folder_path)\n",
    "    files = ['assignment.jsonl', 'generation_1.jsonl', 'generation_1.md', 'generation_2.jsonl', 'generation_2.md', 'refinement_mapping.txt', 'refinement_mapping.jsonl', 'refinement.jsonl']\n",
    "\n",
    "    for file in files:\n",
    "        file_path = os.path.join(folder_path, file)\n",
    "        with open(file_path, \"w\") as file:\n",
    "            pass"
   ]
  },
  {
   "cell_type": "code",
   "execution_count": 9,
   "metadata": {},
   "outputs": [],
   "source": [
    "data_file = \"../data/input/small_uniform_sample.jsonl\"\n",
    "# The data_sample file seems to only be a placeholder\n",
    "data_sample = data_file\n",
    "\n",
    "# Generation I/O\n",
    "generation_prompt = \"../prompt/generation_1.txt\"\n",
    "# self_ref_prompt = \"../prompt/generation_1_self-ref.txt\"\n",
    "seed_1 = \"../prompt/seed_1.md\"\n",
    "generation_out = f\"../data/output/{model_lookup_name}/generation_1.jsonl\"\n",
    "res_generation_out = f\"../data/output/{model_lookup_name}/res_generation_1.jsonl\"\n",
    "generation_topic = f\"../data/output/{model_lookup_name}/generation_1.md\"\n",
    "\n",
    "# Refinement I/O\n",
    "refinement_prompt = \"../prompt/refinement.txt\"\n",
    "refinement_out = f\"../data/output/{model_lookup_name}/refinement.jsonl\"\n",
    "refinement_topic = f\"../data/output/{model_lookup_name}/refinement.md\"\n",
    "refinement_mapping = f\"../data/output/{model_lookup_name}/refinement_mapping.txt\"\n",
    "refinement_updated = f\"../data/output/{model_lookup_name}/refinement_updated.jsonl\"\n",
    "\n",
    "# Generation 2 I/O\n",
    "generation_2_prompt = \"../prompt/generation_2.txt\"\n",
    "generation_2_out = f\"../data/output/{model_lookup_name}/generation_2.jsonl\"\n",
    "generation_2_topic = f\"../data/output/{model_lookup_name}/generation_2.md\"\n",
    "\n",
    "# Assignment I/O\n",
    "assignment_prompt = \"../prompt/assignment.txt\"\n",
    "assignment_out = f\"../data/output/{model_lookup_name}/assignment.jsonl\"\n",
    "\n",
    "# Correction I/O\n",
    "correction_prompt = \"../prompt/correction.txt\"\n",
    "correction_out = f\"../data/output/{model_lookup_name}/assignment_corrected.jsonl\""
   ]
  },
  {
   "cell_type": "code",
   "execution_count": 10,
   "metadata": {},
   "outputs": [
    {
     "name": "stderr",
     "output_type": "stream",
     "text": [
      "  2%|▏         | 1/50 [00:02<02:06,  2.59s/it]"
     ]
    },
    {
     "name": "stdout",
     "output_type": "stream",
     "text": [
      "response output: {'id': 'US-10849063-B2', 'response_topics': [{'DUP': False, 'lvl': 1, 'name': 'Wireless Communication', 'desc': 'Mentions the transmission and reception of wireless signals.'}]}\n",
      "Document: 1\n",
      "Topics: ['NEW: [1] Wireless Communication: Mentions the transmission and reception of wireless signals.']\n",
      "--------------------\n"
     ]
    },
    {
     "name": "stderr",
     "output_type": "stream",
     "text": [
      "  4%|▍         | 2/50 [00:05<02:10,  2.73s/it]"
     ]
    },
    {
     "name": "stdout",
     "output_type": "stream",
     "text": [
      "response output: {'id': 'US-11322791-B2', 'response_topics': [{'DUP': False, 'lvl': 1, 'name': 'Energy Storage', 'desc': 'Mentions the use and storage of various types of batteries.'}]}\n",
      "Document: 2\n",
      "Topics: ['NEW: [1] Energy Storage: Mentions the use and storage of various types of batteries.']\n",
      "--------------------\n"
     ]
    },
    {
     "name": "stderr",
     "output_type": "stream",
     "text": [
      "  6%|▌         | 3/50 [00:09<02:45,  3.51s/it]"
     ]
    },
    {
     "name": "stdout",
     "output_type": "stream",
     "text": [
      "response output: {'id': 'US-11769638-B2', 'response_topics': [{'DUP': False, 'lvl': 1, 'name': 'Chemistry', 'desc': 'Mentions the study of substances and their properties and the processes by which they interact.'}]}\n",
      "Document: 3\n",
      "Topics: ['NEW: [1] Chemistry: Mentions the study of substances and their properties and the processes by which they interact.']\n",
      "--------------------\n"
     ]
    },
    {
     "name": "stderr",
     "output_type": "stream",
     "text": [
      "  8%|▊         | 4/50 [00:12<02:24,  3.14s/it]"
     ]
    },
    {
     "name": "stdout",
     "output_type": "stream",
     "text": [
      "response output: {'id': 'US-11346365-B2', 'response_topics': [{'DUP': False, 'lvl': 1, 'name': 'Engineering', 'desc': 'Mentions the design and construction of an improved plenum fan for air handling systems.'}, {'DUP': False, 'lvl': 1, 'name': 'Mechanical Engineering', 'desc': 'A specific branch of engineering dealing with the design, construction, and operation of mechanical systems.'}, {'DUP': False, 'lvl': 1, 'name': 'Manufacturing', 'desc': 'Mentions the production of an improved plenum fan for use in air handling systems.'}]}\n",
      "Document: 4\n",
      "Topics: ['NEW: [1] Engineering: Mentions the design and construction of an improved plenum fan for air handling systems.', 'NEW: [1] Mechanical Engineering: A specific branch of engineering dealing with the design, construction, and operation of mechanical systems.', 'NEW: [1] Manufacturing: Mentions the production of an improved plenum fan for use in air handling systems.']\n",
      "--------------------\n"
     ]
    },
    {
     "name": "stderr",
     "output_type": "stream",
     "text": [
      " 10%|█         | 5/50 [00:15<02:12,  2.94s/it]"
     ]
    },
    {
     "name": "stdout",
     "output_type": "stream",
     "text": [
      "response output: {'id': 'US-11563133-B1', 'response_topics': [{'DUP': False, 'lvl': 1, 'name': 'Semiconductor Materials', 'desc': 'Mentions different types of semiconductor materials and their properties.'}, {'DUP': False, 'lvl': 1, 'name': 'Solar Cells', 'desc': 'Mentions the fabrication and composition of solar cells.'}]}\n",
      "Document: 5\n",
      "Topics: ['NEW: [1] Semiconductor Materials: Mentions different types of semiconductor materials and their properties.', 'NEW: [1] Solar Cells: Mentions the fabrication and composition of solar cells.']\n",
      "--------------------\n"
     ]
    },
    {
     "name": "stderr",
     "output_type": "stream",
     "text": [
      " 12%|█▏        | 6/50 [00:17<02:01,  2.77s/it]"
     ]
    },
    {
     "name": "stdout",
     "output_type": "stream",
     "text": [
      "response output: {'id': 'US-10884535-B2', 'response_topics': [{'DUP': False, 'lvl': 1, 'name': 'Display Technology', 'desc': 'Mentions the development and characteristics of display devices.'}, {'DUP': True, 'lvl': 1, 'name': 'Manufacturing', 'desc': 'Mentions processes used to produce goods, in this case, the simplified manufacturing process for display devices.'}]}\n",
      "Document: 6\n",
      "Topics: ['NEW: [1] Display Technology: Mentions the development and characteristics of display devices.', 'DUP: [1] Manufacturing: Mentions processes used to produce goods, in this case, the simplified manufacturing process for display devices.']\n",
      "--------------------\n"
     ]
    },
    {
     "name": "stderr",
     "output_type": "stream",
     "text": [
      " 14%|█▍        | 7/50 [00:20<02:01,  2.83s/it]"
     ]
    },
    {
     "name": "stdout",
     "output_type": "stream",
     "text": [
      "response output: {'id': 'US-10050160-B2', 'response_topics': [{'DUP': False, 'lvl': 1, 'name': 'Material Science', 'desc': 'Mentions the study of matter and its properties and the application of this knowledge to create new materials.'}]}\n",
      "Document: 7\n",
      "Topics: ['NEW: [1] Material Science: Mentions the study of matter and its properties and the application of this knowledge to create new materials.']\n",
      "--------------------\n"
     ]
    },
    {
     "name": "stderr",
     "output_type": "stream",
     "text": [
      " 16%|█▌        | 8/50 [00:22<01:50,  2.63s/it]"
     ]
    },
    {
     "name": "stdout",
     "output_type": "stream",
     "text": [
      "response output: {'id': 'US-10913530-B2', 'response_topics': [{'DUP': False, 'lvl': 1, 'name': 'Aviation Technology', 'desc': 'Mentions the development and use of technology in aviation, including aircraft systems and control methods.'}, {'DUP': False, 'lvl': 1, 'name': 'Electric Vehicles', 'desc': 'Mentions the use of electric vehicles, specifically in the context of aircraft and their ground travel systems.'}, {'DUP': False, 'lvl': 1, 'name': 'Security', 'desc': 'Mentions the design of systems to be uninterruptible by unauthorized persons.'}]}\n",
      "Document: 8\n",
      "Topics: ['NEW: [1] Aviation Technology: Mentions the development and use of technology in aviation, including aircraft systems and control methods.', 'NEW: [1] Electric Vehicles: Mentions the use of electric vehicles, specifically in the context of aircraft and their ground travel systems.', 'NEW: [1] Security: Mentions the design of systems to be uninterruptible by unauthorized persons.']\n",
      "--------------------\n"
     ]
    },
    {
     "name": "stderr",
     "output_type": "stream",
     "text": [
      " 18%|█▊        | 9/50 [00:26<02:04,  3.04s/it]"
     ]
    },
    {
     "name": "stdout",
     "output_type": "stream",
     "text": [
      "response output: {'id': 'US-11950465-B2', 'response_topics': [{'DUP': True, 'lvl': 1, 'name': 'Display Technology', 'desc': 'Mentions the technology and components related to displays.'}]}\n",
      "Document: 9\n",
      "Topics: ['DUP: [1] Display Technology: Mentions the technology and components related to displays.']\n",
      "--------------------\n"
     ]
    },
    {
     "name": "stderr",
     "output_type": "stream",
     "text": [
      " 20%|██        | 10/50 [00:30<02:07,  3.18s/it]"
     ]
    },
    {
     "name": "stdout",
     "output_type": "stream",
     "text": [
      "response output: {'id': 'US-11541718-B2', 'response_topics': [{'DUP': False, 'lvl': 1, 'name': 'Thermal Management', 'desc': 'Mentions systems and methods for managing temperature in a vehicle.'}, {'DUP': False, 'lvl': 1, 'name': 'Heating Systems', 'desc': 'A specific type of thermal management system.'}, {'DUP': True, 'lvl': 1, 'name': 'Electric Vehicles', 'desc': 'Mentioned as the type of vehicle for this thermal management system.'}, {'DUP': False, 'lvl': 1, 'name': 'Battery Technology', 'desc': 'Mentioned as a component being charged and having a chiller.'}, {'DUP': False, 'lvl': 1, 'name': 'Refrigeration', 'desc': 'Mentioned as a component in the thermal management system.'}, {'DUP': False, 'lvl': 1, 'name': 'Heat Exchangers', 'desc': 'Mentioned as a component in the thermal management system.'}, {'DUP': False, 'lvl': 1, 'name': 'Compressors', 'desc': 'Mentioned as a component in the thermal management system.'}, {'DUP': False, 'lvl': 1, 'name': 'PTC Heaters', 'desc': 'Mentioned as a specific type of heater in the thermal management system.'}]}\n",
      "Document: 10\n",
      "Topics: ['NEW: [1] Thermal Management: Mentions systems and methods for managing temperature in a vehicle.', 'NEW: [1] Heating Systems: A specific type of thermal management system.', 'DUP: [1] Electric Vehicles: Mentioned as the type of vehicle for this thermal management system.', 'NEW: [1] Battery Technology: Mentioned as a component being charged and having a chiller.', 'NEW: [1] Refrigeration: Mentioned as a component in the thermal management system.', 'NEW: [1] Heat Exchangers: Mentioned as a component in the thermal management system.', 'NEW: [1] Compressors: Mentioned as a component in the thermal management system.', 'NEW: [1] PTC Heaters: Mentioned as a specific type of heater in the thermal management system.']\n",
      "--------------------\n"
     ]
    },
    {
     "name": "stderr",
     "output_type": "stream",
     "text": [
      " 22%|██▏       | 11/50 [00:34<02:19,  3.58s/it]"
     ]
    },
    {
     "name": "stdout",
     "output_type": "stream",
     "text": [
      "response output: {'id': 'US-11779858-B2', 'response_topics': [{'DUP': False, 'lvl': 1, 'name': 'Chemical Engineering', 'desc': 'Mentions processes for ethanol production and various components such as beer columns, reboilers, evaporators, and separation systems.'}, {'DUP': False, 'lvl': 1, 'name': 'Chemical Processing', 'desc': 'A more general topic that could include various chemical processes, including ethanol production.'}, {'DUP': False, 'lvl': 1, 'name': 'Renewable Energy', 'desc': 'Ethanol is a renewable energy source, and the document discusses processes for its production.'}, {'DUP': False, 'lvl': 1, 'name': 'Fermentation', 'desc': 'Ethanol production involves fermentation of a feed mixture.'}, {'DUP': False, 'lvl': 1, 'name': 'Distillation', 'desc': 'The document mentions beer columns, reboilers, and evaporators, which are used in distillation processes.'}, {'DUP': False, 'lvl': 1, 'name': 'Separation Systems', 'desc': 'The document mentions a separation system used to form a permeate and a retentate.'}, {'DUP': True, 'lvl': 1, 'name': 'Material Science', 'desc': 'The document mentions various components used in the ethanol production process, such as beer column bottom stream and vaporous overhead stream.'}, {'DUP': True, 'lvl': 1, 'name': 'Engineering', 'desc': 'The document discusses processes and systems for ethanol production.'}, {'DUP': True, 'lvl': 1, 'name': 'Manufacturing', 'desc': 'The document mentions the production of ethanol, which falls under the category of manufacturing.'}]}\n",
      "Document: 11\n",
      "Topics: ['NEW: [1] Chemical Engineering: Mentions processes for ethanol production and various components such as beer columns, reboilers, evaporators, and separation systems.', 'NEW: [1] Chemical Processing: A more general topic that could include various chemical processes, including ethanol production.', 'NEW: [1] Renewable Energy: Ethanol is a renewable energy source, and the document discusses processes for its production.', 'NEW: [1] Fermentation: Ethanol production involves fermentation of a feed mixture.', 'NEW: [1] Distillation: The document mentions beer columns, reboilers, and evaporators, which are used in distillation processes.', 'NEW: [1] Separation Systems: The document mentions a separation system used to form a permeate and a retentate.', 'DUP: [1] Material Science: The document mentions various components used in the ethanol production process, such as beer column bottom stream and vaporous overhead stream.', 'DUP: [1] Engineering: The document discusses processes and systems for ethanol production.', 'DUP: [1] Manufacturing: The document mentions the production of ethanol, which falls under the category of manufacturing.']\n",
      "--------------------\n"
     ]
    },
    {
     "name": "stderr",
     "output_type": "stream",
     "text": [
      " 24%|██▍       | 12/50 [00:37<02:03,  3.26s/it]"
     ]
    },
    {
     "name": "stdout",
     "output_type": "stream",
     "text": [
      "response output: {'id': 'US-09958925-B2', 'response_topics': [{'DUP': False, 'lvl': 1, 'name': 'Communication Technology', 'desc': 'Mentions the use of TCP/IP protocol for communication between smart receptacles and local controller, and between local controller and remote controller.'}, {'DUP': False, 'lvl': 1, 'name': 'Smart Grids', 'desc': 'Mentions the concept of remotely monitoring and controlling electrical outlets and devices.'}, {'DUP': False, 'lvl': 1, 'name': 'Energy Management Systems', 'desc': 'Mentions the intelligent execution of blackouts or brownouts.'}]}\n",
      "Document: 12\n",
      "Topics: ['NEW: [1] Communication Technology: Mentions the use of TCP/IP protocol for communication between smart receptacles and local controller, and between local controller and remote controller.', 'NEW: [1] Smart Grids: Mentions the concept of remotely monitoring and controlling electrical outlets and devices.', 'NEW: [1] Energy Management Systems: Mentions the intelligent execution of blackouts or brownouts.']\n",
      "--------------------\n"
     ]
    },
    {
     "name": "stderr",
     "output_type": "stream",
     "text": [
      " 26%|██▌       | 13/50 [00:39<01:50,  3.00s/it]"
     ]
    },
    {
     "name": "stdout",
     "output_type": "stream",
     "text": [
      "response output: {'id': 'US-11271028-B2', 'response_topics': [{'DUP': True, 'lvl': 1, 'name': 'Semiconductor Materials', 'desc': 'Mentions germanium as a semiconductor material.'}, {'DUP': False, 'lvl': 1, 'name': 'Photodiodes', 'desc': 'Mentions the use of germanium photodiodes.'}, {'DUP': False, 'lvl': 1, 'name': 'Focal Plane Arrays', 'desc': 'Mentions the fabrication of focal plane arrays based on germanium photodiodes.'}, {'DUP': False, 'lvl': 1, 'name': 'Wafer Technology', 'desc': 'Implies the use of germanium on-insulator (GeOI) wafers.'}, {'DUP': False, 'lvl': 1, 'name': 'Sensor Technology', 'desc': 'Implies the use of light detecting structures and photodiodes for sensing purposes.'}]}\n",
      "Document: 13\n",
      "Topics: ['DUP: [1] Semiconductor Materials: Mentions germanium as a semiconductor material.', 'NEW: [1] Photodiodes: Mentions the use of germanium photodiodes.', 'NEW: [1] Focal Plane Arrays: Mentions the fabrication of focal plane arrays based on germanium photodiodes.', 'NEW: [1] Wafer Technology: Implies the use of germanium on-insulator (GeOI) wafers.', 'NEW: [1] Sensor Technology: Implies the use of light detecting structures and photodiodes for sensing purposes.']\n",
      "--------------------\n"
     ]
    },
    {
     "name": "stderr",
     "output_type": "stream",
     "text": [
      " 28%|██▊       | 14/50 [00:43<01:56,  3.23s/it]"
     ]
    },
    {
     "name": "stdout",
     "output_type": "stream",
     "text": [
      "response output: {'id': 'US-10488209-B2', 'response_topics': [{'DUP': False, 'lvl': 1, 'name': 'Intelligent Transportation Systems', 'desc': 'Mentions the use of technology to improve transportation efficiency and safety.'}, {'DUP': False, 'lvl': 1, 'name': 'Vehicle Computing Systems', 'desc': 'Mentions the use of computers and software in vehicles for various functions.'}, {'DUP': False, 'lvl': 1, 'name': 'Traffic Management', 'desc': 'Mentions the monitoring and control of traffic flow.'}, {'DUP': True, 'lvl': 1, 'name': 'Electric Vehicles', 'desc': 'Mentions the use of electric vehicles and their charging systems.'}, {'DUP': False, 'lvl': 1, 'name': 'Route Planning', 'desc': 'Mentions the process of selecting a path between two points.'}, {'DUP': False, 'lvl': 1, 'name': 'Departure Time Planning', 'desc': 'Mentions the process of selecting a departure time for a journey.'}, {'DUP': False, 'lvl': 1, 'name': 'Vehicle Charging', 'desc': 'Mentions the process of charging an electric vehicle.'}, {'DUP': False, 'lvl': 1, 'name': 'Energy Management', 'desc': 'Mentions the process of managing energy usage and conservation.'}, {'DUP': False, 'lvl': 1, 'name': 'Transportation Logistics', 'desc': 'Mentions the planning and execution of the movement of people and goods.'}]}\n",
      "Document: 14\n",
      "Topics: ['NEW: [1] Intelligent Transportation Systems: Mentions the use of technology to improve transportation efficiency and safety.', 'NEW: [1] Vehicle Computing Systems: Mentions the use of computers and software in vehicles for various functions.', 'NEW: [1] Traffic Management: Mentions the monitoring and control of traffic flow.', 'DUP: [1] Electric Vehicles: Mentions the use of electric vehicles and their charging systems.', 'NEW: [1] Route Planning: Mentions the process of selecting a path between two points.', 'NEW: [1] Departure Time Planning: Mentions the process of selecting a departure time for a journey.', 'NEW: [1] Vehicle Charging: Mentions the process of charging an electric vehicle.', 'NEW: [1] Energy Management: Mentions the process of managing energy usage and conservation.', 'NEW: [1] Transportation Logistics: Mentions the planning and execution of the movement of people and goods.']\n",
      "--------------------\n"
     ]
    },
    {
     "name": "stderr",
     "output_type": "stream",
     "text": [
      " 30%|███       | 15/50 [00:46<01:53,  3.25s/it]"
     ]
    },
    {
     "name": "stdout",
     "output_type": "stream",
     "text": [
      "response output: {'id': 'US-11194348-B2', 'response_topics': [{'DUP': True, 'lvl': 1, 'name': 'Aviation Technology', 'desc': 'Mentions the use of unmanned aircraft vehicles (UAVs).'}, {'DUP': False, 'lvl': 1, 'name': 'Agriculture', 'desc': 'Mentions policies and practices related to farming and agricultural products.'}, {'DUP': True, 'lvl': 1, 'name': 'Engineering', 'desc': 'Mentions the development of a management system.'}, {'DUP': False, 'lvl': 1, 'name': 'Computer Science', 'desc': 'Mentions the use of computerized methods.'}, {'DUP': False, 'lvl': 1, 'name': 'Optimization', 'desc': 'Mentions the concept of optimal harvesting.'}, {'DUP': False, 'lvl': 1, 'name': 'Fleet Management', 'desc': 'Mentions the management of a fleet of UAVs.'}]}\n",
      "Document: 15\n",
      "Topics: ['DUP: [1] Aviation Technology: Mentions the use of unmanned aircraft vehicles (UAVs).', 'NEW: [1] Agriculture: Mentions policies and practices related to farming and agricultural products.', 'DUP: [1] Engineering: Mentions the development of a management system.', 'NEW: [1] Computer Science: Mentions the use of computerized methods.', 'NEW: [1] Optimization: Mentions the concept of optimal harvesting.', 'NEW: [1] Fleet Management: Mentions the management of a fleet of UAVs.']\n",
      "--------------------\n"
     ]
    },
    {
     "name": "stderr",
     "output_type": "stream",
     "text": [
      " 32%|███▏      | 16/50 [00:50<01:53,  3.34s/it]"
     ]
    },
    {
     "name": "stdout",
     "output_type": "stream",
     "text": [
      "response output: {'id': 'US-10050295-B2', 'response_topics': [{'DUP': False, 'lvl': 1, 'name': 'Solid State Materials', 'desc': 'Mentions the provision of a solid electrolyte laminate made of specific materials.'}, {'DUP': False, 'lvl': 1, 'name': 'Fuel Cells', 'desc': 'Mentions the use of a solid electrolyte laminate in a fuel cell.'}, {'DUP': True, 'lvl': 1, 'name': 'Manufacturing', 'desc': 'Mentions the provision of a method for manufacturing the solid electrolyte laminate.'}, {'DUP': False, 'lvl': 1, 'name': 'Ceramics', 'desc': 'Mentions the use of lanthanum strontium cobalt oxide (LSC) and nickel-yttrium doped barium zirconate (Ni—BZY) as electrode materials, which are ceramic materials.'}, {'DUP': True, 'lvl': 1, 'name': 'Energy Storage', 'desc': \"Mentions the solid electrolyte laminate's application in a fuel cell, which is a form of energy storage.\"}, {'DUP': True, 'lvl': 1, 'name': 'Material Science', 'desc': 'Mentions the development of a solid electrolyte laminate made of specific materials with desired properties.'}]}\n",
      "Document: 16\n",
      "Topics: ['NEW: [1] Solid State Materials: Mentions the provision of a solid electrolyte laminate made of specific materials.', 'NEW: [1] Fuel Cells: Mentions the use of a solid electrolyte laminate in a fuel cell.', 'DUP: [1] Manufacturing: Mentions the provision of a method for manufacturing the solid electrolyte laminate.', 'NEW: [1] Ceramics: Mentions the use of lanthanum strontium cobalt oxide (LSC) and nickel-yttrium doped barium zirconate (Ni—BZY) as electrode materials, which are ceramic materials.', \"DUP: [1] Energy Storage: Mentions the solid electrolyte laminate's application in a fuel cell, which is a form of energy storage.\", 'DUP: [1] Material Science: Mentions the development of a solid electrolyte laminate made of specific materials with desired properties.']\n",
      "--------------------\n"
     ]
    },
    {
     "name": "stderr",
     "output_type": "stream",
     "text": [
      " 34%|███▍      | 17/50 [00:52<01:37,  2.96s/it]"
     ]
    },
    {
     "name": "stdout",
     "output_type": "stream",
     "text": [
      "response output: {'id': 'US-10014690-B2', 'response_topics': [{'DUP': True, 'lvl': 1, 'name': 'Energy Storage', 'desc': 'Mentions energy conversion systems and optimization of electrical efficiency.'}, {'DUP': False, 'lvl': 1, 'name': 'Power Electronics', 'desc': 'Mentions double-stage inverter apparatus and control method.'}, {'DUP': False, 'lvl': 1, 'name': 'Electrical Engineering', 'desc': 'Mentions electrical efficiency and power electronics.'}]}\n",
      "Document: 17\n",
      "Topics: ['DUP: [1] Energy Storage: Mentions energy conversion systems and optimization of electrical efficiency.', 'NEW: [1] Power Electronics: Mentions double-stage inverter apparatus and control method.', 'NEW: [1] Electrical Engineering: Mentions electrical efficiency and power electronics.']\n",
      "--------------------\n"
     ]
    },
    {
     "name": "stderr",
     "output_type": "stream",
     "text": [
      " 36%|███▌      | 18/50 [00:55<01:39,  3.12s/it]"
     ]
    },
    {
     "name": "stdout",
     "output_type": "stream",
     "text": [
      "response output: {'id': 'US-11675547-B2', 'response_topics': [{'DUP': False, 'lvl': 1, 'name': 'Image Processing', 'desc': 'Mentions the capture, recognition, and processing of images.'}, {'DUP': False, 'lvl': 1, 'name': 'Computer Vision', 'desc': 'Mentions the ability of computers to interpret and understand visual information.'}, {'DUP': False, 'lvl': 1, 'name': 'Object Detection', 'desc': 'Mentions the identification and location of objects within an image or environment.'}, {'DUP': False, 'lvl': 1, 'name': 'Positioning Systems', 'desc': 'Mentions systems used to determine the location or position of an object.'}, {'DUP': False, 'lvl': 1, 'name': 'Coordinate Systems', 'desc': 'Mentions systems used to represent spatial positions using numerical coordinates.'}, {'DUP': False, 'lvl': 1, 'name': 'Reference Images', 'desc': 'Mentions the use of known images as a reference for comparison or measurement.'}, {'DUP': False, 'lvl': 1, 'name': 'Code Images', 'desc': 'Mentions images that contain codes or markers used for recognition or tracking.'}]}\n",
      "Document: 18\n",
      "Topics: ['NEW: [1] Image Processing: Mentions the capture, recognition, and processing of images.', 'NEW: [1] Computer Vision: Mentions the ability of computers to interpret and understand visual information.', 'NEW: [1] Object Detection: Mentions the identification and location of objects within an image or environment.', 'NEW: [1] Positioning Systems: Mentions systems used to determine the location or position of an object.', 'NEW: [1] Coordinate Systems: Mentions systems used to represent spatial positions using numerical coordinates.', 'NEW: [1] Reference Images: Mentions the use of known images as a reference for comparison or measurement.', 'NEW: [1] Code Images: Mentions images that contain codes or markers used for recognition or tracking.']\n",
      "--------------------\n"
     ]
    },
    {
     "name": "stderr",
     "output_type": "stream",
     "text": [
      " 38%|███▊      | 19/50 [00:57<01:27,  2.83s/it]"
     ]
    },
    {
     "name": "stdout",
     "output_type": "stream",
     "text": [
      "response output: {'id': 'US-11472305-B2', 'response_topics': [{'DUP': True, 'lvl': 1, 'name': 'Electric Vehicles', 'desc': 'Mentions a charging circuit for an electrical energy store in the context of a vehicle.'}, {'DUP': True, 'lvl': 1, 'name': 'Power Electronics', 'desc': 'Mentions the use of a rectifier and configuration device in the context of electrical energy.'}, {'DUP': True, 'lvl': 1, 'name': 'Engineering', 'desc': 'Mentions the design and implementation of a charging circuit for an electrical energy store in a vehicle.'}]}\n",
      "Document: 19\n",
      "Topics: ['DUP: [1] Electric Vehicles: Mentions a charging circuit for an electrical energy store in the context of a vehicle.', 'DUP: [1] Power Electronics: Mentions the use of a rectifier and configuration device in the context of electrical energy.', 'DUP: [1] Engineering: Mentions the design and implementation of a charging circuit for an electrical energy store in a vehicle.']\n",
      "--------------------\n"
     ]
    },
    {
     "name": "stderr",
     "output_type": "stream",
     "text": [
      " 40%|████      | 20/50 [00:59<01:17,  2.58s/it]"
     ]
    },
    {
     "name": "stdout",
     "output_type": "stream",
     "text": [
      "response output: {'id': 'US-10012414-B2', 'response_topics': [{'DUP': True, 'lvl': 1, 'name': 'Heating Systems', 'desc': 'Mentions the use of a secondary heat exchanger.'}, {'DUP': False, 'lvl': 1, 'name': 'Plumbing', 'desc': 'Mentions the use of drainage water discharge pipes and drainage water tank connection pipes.'}, {'DUP': True, 'lvl': 1, 'name': 'Mechanical Engineering', 'desc': 'Mentions the design and implementation of a three-way pipe joint.'}, {'DUP': True, 'lvl': 1, 'name': 'Manufacturing', 'desc': 'Mentions the production of pipes and pipe joints.'}]}\n",
      "Document: 20\n",
      "Topics: ['DUP: [1] Heating Systems: Mentions the use of a secondary heat exchanger.', 'NEW: [1] Plumbing: Mentions the use of drainage water discharge pipes and drainage water tank connection pipes.', 'DUP: [1] Mechanical Engineering: Mentions the design and implementation of a three-way pipe joint.', 'DUP: [1] Manufacturing: Mentions the production of pipes and pipe joints.']\n",
      "--------------------\n"
     ]
    },
    {
     "name": "stderr",
     "output_type": "stream",
     "text": [
      " 42%|████▏     | 21/50 [01:03<01:25,  2.96s/it]"
     ]
    },
    {
     "name": "stdout",
     "output_type": "stream",
     "text": [
      "response output: {'id': 'US-11553432-B2', 'response_topics': [{'DUP': True, 'lvl': 1, 'name': 'Wireless Communication', 'desc': 'Mentions the use of wireless communication systems and the transmission of signals.'}, {'DUP': False, 'lvl': 1, 'name': 'Signal Processing', 'desc': 'Mentions the sensing and processing of signals.'}, {'DUP': False, 'lvl': 1, 'name': 'Telecommunications', 'desc': 'Mentions the exchange of information over long distances using telecommunication systems.'}, {'DUP': False, 'lvl': 1, 'name': 'Mobile Communications', 'desc': 'Mentions the use of wireless communication systems for mobile devices.'}, {'DUP': False, 'lvl': 1, 'name': 'Base Stations', 'desc': 'Mentions the infrastructure used to provide wireless communication services.'}, {'DUP': False, 'lvl': 1, 'name': 'Wireless Signals', 'desc': 'Mentions the transmission and reception of signals in a wireless medium.'}, {'DUP': False, 'lvl': 1, 'name': 'Communication Systems', 'desc': 'Mentions the infrastructure and technology used for communication.'}, {'DUP': False, 'lvl': 1, 'name': 'Wireless Networks', 'desc': 'Mentions the infrastructure and technology used for wireless communication networks.'}, {'DUP': False, 'lvl': 1, 'name': 'Telemetry', 'desc': 'Mentions the automatic recording and transmission of data from remote or inaccessible sources.'}, {'DUP': False, 'lvl': 1, 'name': 'Sensing Technology', 'desc': 'Mentions the use of technology to detect and measure physical phenomena.'}]}\n",
      "Document: 21\n",
      "Topics: ['DUP: [1] Wireless Communication: Mentions the use of wireless communication systems and the transmission of signals.', 'NEW: [1] Signal Processing: Mentions the sensing and processing of signals.', 'NEW: [1] Telecommunications: Mentions the exchange of information over long distances using telecommunication systems.', 'NEW: [1] Mobile Communications: Mentions the use of wireless communication systems for mobile devices.', 'NEW: [1] Base Stations: Mentions the infrastructure used to provide wireless communication services.', 'NEW: [1] Wireless Signals: Mentions the transmission and reception of signals in a wireless medium.', 'NEW: [1] Communication Systems: Mentions the infrastructure and technology used for communication.', 'NEW: [1] Wireless Networks: Mentions the infrastructure and technology used for wireless communication networks.', 'NEW: [1] Telemetry: Mentions the automatic recording and transmission of data from remote or inaccessible sources.', 'NEW: [1] Sensing Technology: Mentions the use of technology to detect and measure physical phenomena.']\n",
      "--------------------\n"
     ]
    },
    {
     "name": "stderr",
     "output_type": "stream",
     "text": [
      " 44%|████▍     | 22/50 [01:06<01:20,  2.87s/it]"
     ]
    },
    {
     "name": "stdout",
     "output_type": "stream",
     "text": [
      "response output: {'id': 'US-11702020-B2', 'response_topics': [{'DUP': True, 'lvl': 1, 'name': 'Battery Technology', 'desc': 'Mentions the use of batteries as power sources.'}, {'DUP': True, 'lvl': 1, 'name': 'Electric Vehicles', 'desc': 'Mentions the use of electric vehicles.'}, {'DUP': True, 'lvl': 1, 'name': 'Power Electronics', 'desc': 'Mentions the use of power electronics in power distribution.'}, {'DUP': False, 'lvl': 1, 'name': 'Redundancy Systems', 'desc': 'Mentions the use of redundant power bridges for reliable power distribution.'}, {'DUP': True, 'lvl': 1, 'name': 'Sensor Technology', 'desc': 'Mentions the use of sensors to monitor vehicle health and detect single point failures.'}]}\n",
      "Document: 22\n",
      "Topics: ['DUP: [1] Battery Technology: Mentions the use of batteries as power sources.', 'DUP: [1] Electric Vehicles: Mentions the use of electric vehicles.', 'DUP: [1] Power Electronics: Mentions the use of power electronics in power distribution.', 'NEW: [1] Redundancy Systems: Mentions the use of redundant power bridges for reliable power distribution.', 'DUP: [1] Sensor Technology: Mentions the use of sensors to monitor vehicle health and detect single point failures.']\n",
      "--------------------\n"
     ]
    },
    {
     "name": "stderr",
     "output_type": "stream",
     "text": [
      " 46%|████▌     | 23/50 [01:09<01:16,  2.84s/it]"
     ]
    },
    {
     "name": "stdout",
     "output_type": "stream",
     "text": [
      "response output: {'id': 'US-11529877-B2', 'response_topics': [{'DUP': False, 'lvl': 1, 'name': 'Vehicle Handling', 'desc': 'Mentions methods and systems related to the control and maneuvering of vehicles.'}, {'DUP': False, 'lvl': 1, 'name': 'Vehicle Control Systems', 'desc': 'Mentions electronic systems used to control various aspects of a vehicle, such as stability control and accelerator position sensors.'}, {'DUP': False, 'lvl': 1, 'name': 'Engine Control', 'desc': 'Mentions systems used to control the engine, including motor torque control for front and rear wheel sides.'}]}\n",
      "Document: 23\n",
      "Topics: ['NEW: [1] Vehicle Handling: Mentions methods and systems related to the control and maneuvering of vehicles.', 'NEW: [1] Vehicle Control Systems: Mentions electronic systems used to control various aspects of a vehicle, such as stability control and accelerator position sensors.', 'NEW: [1] Engine Control: Mentions systems used to control the engine, including motor torque control for front and rear wheel sides.']\n",
      "--------------------\n"
     ]
    },
    {
     "name": "stderr",
     "output_type": "stream",
     "text": [
      " 48%|████▊     | 24/50 [01:11<01:11,  2.75s/it]"
     ]
    },
    {
     "name": "stdout",
     "output_type": "stream",
     "text": [
      "response output: {'id': 'US-10034345-B1', 'response_topics': [{'DUP': False, 'lvl': 1, 'name': 'Lighting Technology', 'desc': 'Mentions various components and control mechanisms related to lighting systems.'}, {'DUP': False, 'lvl': 1, 'name': 'Control Systems', 'desc': 'Mentions systems used to manage and regulate various functions, in this case, the control of light emitting elements.'}]}\n",
      "Document: 24\n",
      "Topics: ['NEW: [1] Lighting Technology: Mentions various components and control mechanisms related to lighting systems.', 'NEW: [1] Control Systems: Mentions systems used to manage and regulate various functions, in this case, the control of light emitting elements.']\n",
      "--------------------\n"
     ]
    },
    {
     "name": "stderr",
     "output_type": "stream",
     "text": [
      " 50%|█████     | 25/50 [01:15<01:18,  3.13s/it]"
     ]
    },
    {
     "name": "stdout",
     "output_type": "stream",
     "text": [
      "response output: {'id': 'US-09859058-B2', 'response_topics': [{'DUP': True, 'lvl': 1, 'name': 'Ceramics', 'desc': 'Mentions the study of inorganic, non-metallic materials.'}, {'DUP': True, 'lvl': 1, 'name': 'Material Science', 'desc': 'Mentions the scientific study of materials and their properties.'}, {'DUP': True, 'lvl': 1, 'name': 'Electrical Engineering', 'desc': 'Mentions the study of electrical systems and components.'}, {'DUP': True, 'lvl': 1, 'name': 'Semiconductor Materials', 'desc': 'Mentions materials used in the manufacture of semiconductor devices.'}, {'DUP': True, 'lvl': 1, 'name': 'Manufacturing', 'desc': 'Mentions the process of producing goods or services.'}, {'DUP': True, 'lvl': 1, 'name': 'Engineering', 'desc': 'Mentions the application of scientific, economic, social, and practical knowledge to design, build, and maintain structures, machines, devices, systems, and processes.'}, {'DUP': False, 'lvl': 1, 'name': 'Materials Engineering', 'desc': 'Mentions the application of the principles of engineering, physics, and chemistry to the design, development, and processing of materials.'}, {'DUP': False, 'lvl': 1, 'name': 'Electronics', 'desc': 'Mentions the study and application of components that control the flow of electrons.'}, {'DUP': False, 'lvl': 1, 'name': 'Capacitors', 'desc': 'Mentions electronic components that store electrical energy in an electric field.'}, {'DUP': False, 'lvl': 1, 'name': 'Ceramic Capacitors', 'desc': 'Mentions capacitors made of ceramic materials.'}, {'DUP': False, 'lvl': 1, 'name': 'Multilayer Ceramic Capacitors', 'desc': 'Mentions capacitors with multiple layers of ceramic material.'}, {'DUP': False, 'lvl': 1, 'name': 'Porous Materials', 'desc': 'Mentions materials with open'}]}\n",
      "Document: 25\n",
      "Topics: ['DUP: [1] Ceramics: Mentions the study of inorganic, non-metallic materials.', 'DUP: [1] Material Science: Mentions the scientific study of materials and their properties.', 'DUP: [1] Electrical Engineering: Mentions the study of electrical systems and components.', 'DUP: [1] Semiconductor Materials: Mentions materials used in the manufacture of semiconductor devices.', 'DUP: [1] Manufacturing: Mentions the process of producing goods or services.', 'DUP: [1] Engineering: Mentions the application of scientific, economic, social, and practical knowledge to design, build, and maintain structures, machines, devices, systems, and processes.', 'NEW: [1] Materials Engineering: Mentions the application of the principles of engineering, physics, and chemistry to the design, development, and processing of materials.', 'NEW: [1] Electronics: Mentions the study and application of components that control the flow of electrons.', 'NEW: [1] Capacitors: Mentions electronic components that store electrical energy in an electric field.', 'NEW: [1] Ceramic Capacitors: Mentions capacitors made of ceramic materials.', 'NEW: [1] Multilayer Ceramic Capacitors: Mentions capacitors with multiple layers of ceramic material.', 'NEW: [1] Porous Materials: Mentions materials with open']\n",
      "--------------------\n"
     ]
    },
    {
     "name": "stderr",
     "output_type": "stream",
     "text": [
      " 52%|█████▏    | 26/50 [01:17<01:09,  2.90s/it]"
     ]
    },
    {
     "name": "stdout",
     "output_type": "stream",
     "text": [
      "response output: {'id': 'US-10844947-B2', 'response_topics': [{'DUP': True, 'lvl': 1, 'name': 'Manufacturing', 'desc': 'Mentions the production of a gear lubricant line device.'}, {'DUP': True, 'lvl': 1, 'name': 'Mechanical Engineering', 'desc': 'Mentions the design and application of a gear lubricant line device.'}, {'DUP': True, 'lvl': 1, 'name': 'Engineering', 'desc': 'Mentions the field of engineering in the context of designing and manufacturing a gear lubricant line device.'}]}\n",
      "Document: 26\n",
      "Topics: ['DUP: [1] Manufacturing: Mentions the production of a gear lubricant line device.', 'DUP: [1] Mechanical Engineering: Mentions the design and application of a gear lubricant line device.', 'DUP: [1] Engineering: Mentions the field of engineering in the context of designing and manufacturing a gear lubricant line device.']\n",
      "--------------------\n"
     ]
    },
    {
     "name": "stderr",
     "output_type": "stream",
     "text": [
      " 54%|█████▍    | 27/50 [01:21<01:14,  3.22s/it]"
     ]
    },
    {
     "name": "stdout",
     "output_type": "stream",
     "text": [
      "response output: {'id': 'US-10386122-B2', 'response_topics': [{'DUP': True, 'lvl': 1, 'name': 'Material Science', 'desc': 'Mentions the study of the properties and behavior of materials.'}, {'DUP': True, 'lvl': 1, 'name': 'Engineering', 'desc': 'Mentions the application of scientific, economic, social, and practical knowledge to design, build, and maintain structures, machines, devices, systems, and processes.'}, {'DUP': True, 'lvl': 1, 'name': 'Manufacturing', 'desc': 'Mentions the production of goods through the use of machinery, tools, or labor.'}, {'DUP': True, 'lvl': 1, 'name': 'Thermal Management', 'desc': 'Mentions the techniques used to control, remove, or dissipate heat.'}, {'DUP': True, 'lvl': 1, 'name': 'Heating Systems', 'desc': 'Mentions systems used to generate and distribute heat.'}]}\n",
      "Document: 27\n",
      "Topics: ['DUP: [1] Material Science: Mentions the study of the properties and behavior of materials.', 'DUP: [1] Engineering: Mentions the application of scientific, economic, social, and practical knowledge to design, build, and maintain structures, machines, devices, systems, and processes.', 'DUP: [1] Manufacturing: Mentions the production of goods through the use of machinery, tools, or labor.', 'DUP: [1] Thermal Management: Mentions the techniques used to control, remove, or dissipate heat.', 'DUP: [1] Heating Systems: Mentions systems used to generate and distribute heat.']\n",
      "--------------------\n"
     ]
    },
    {
     "name": "stderr",
     "output_type": "stream",
     "text": [
      " 56%|█████▌    | 28/50 [01:26<01:17,  3.51s/it]"
     ]
    },
    {
     "name": "stdout",
     "output_type": "stream",
     "text": [
      "response output: {'id': 'US-10383087-B2', 'response_topics': [{'DUP': True, 'lvl': 1, 'name': 'Wireless Communication', 'desc': 'Mentions wireless communication concepts such as cell radio network, RRC state, and handover process.'}, {'DUP': True, 'lvl': 1, 'name': 'Mobile Communications', 'desc': 'Mentions the movement of a UE (User Equipment) between cells without involving a handover process controlled by a network.'}, {'DUP': True, 'lvl': 1, 'name': 'Telecommunications', 'desc': 'Mentions the exchange of signals between two or more entities, in this case, between a terminal and two different cells.'}, {'DUP': True, 'lvl': 1, 'name': 'Signal Processing', 'desc': 'Mentions the reception and processing of signals, including random access processes and temporary identities.'}]}\n",
      "Document: 28\n",
      "Topics: ['DUP: [1] Wireless Communication: Mentions wireless communication concepts such as cell radio network, RRC state, and handover process.', 'DUP: [1] Mobile Communications: Mentions the movement of a UE (User Equipment) between cells without involving a handover process controlled by a network.', 'DUP: [1] Telecommunications: Mentions the exchange of signals between two or more entities, in this case, between a terminal and two different cells.', 'DUP: [1] Signal Processing: Mentions the reception and processing of signals, including random access processes and temporary identities.']\n",
      "--------------------\n"
     ]
    },
    {
     "name": "stderr",
     "output_type": "stream",
     "text": [
      " 58%|█████▊    | 29/50 [01:28<01:08,  3.26s/it]"
     ]
    },
    {
     "name": "stdout",
     "output_type": "stream",
     "text": [
      "response output: {'id': 'US-10483865-B2', 'response_topics': [{'DUP': True, 'lvl': 1, 'name': 'Renewable Energy', 'desc': 'Mentions wind turbine generator and its connection to the mains grid.'}, {'DUP': True, 'lvl': 1, 'name': 'Electrical Engineering', 'desc': 'Mentions rectifiers, inverters, conductors, and voltage surges.'}, {'DUP': True, 'lvl': 1, 'name': 'Power Electronics', 'desc': 'Mentions rectifiers, inverters, and surge protection device.'}, {'DUP': True, 'lvl': 1, 'name': 'Engineering', 'desc': \"Mentions wind turbine generator and its components' design and connection to the grid.\"}, {'DUP': True, 'lvl': 1, 'name': 'Electronics', 'desc': 'Mentions capacitors and filter circuits.'}, {'DUP': True, 'lvl': 1, 'name': 'Communication Technology', 'desc': 'Mentions connection to the mains grid and isolation detection relays.'}]}\n",
      "Document: 29\n",
      "Topics: ['DUP: [1] Renewable Energy: Mentions wind turbine generator and its connection to the mains grid.', 'DUP: [1] Electrical Engineering: Mentions rectifiers, inverters, conductors, and voltage surges.', 'DUP: [1] Power Electronics: Mentions rectifiers, inverters, and surge protection device.', \"DUP: [1] Engineering: Mentions wind turbine generator and its components' design and connection to the grid.\", 'DUP: [1] Electronics: Mentions capacitors and filter circuits.', 'DUP: [1] Communication Technology: Mentions connection to the mains grid and isolation detection relays.']\n",
      "--------------------\n"
     ]
    },
    {
     "name": "stderr",
     "output_type": "stream",
     "text": [
      " 60%|██████    | 30/50 [01:30<00:58,  2.94s/it]"
     ]
    },
    {
     "name": "stdout",
     "output_type": "stream",
     "text": [
      "response output: {'id': 'US-11192785-B2', 'response_topics': [{'DUP': False, 'lvl': 1, 'name': 'Hydrogen Production', 'desc': 'Mentions methods and processes for producing hydrogen from gas mixtures. This topic is broad enough to accommodate various hydrogen production techniques and technologies, such as steam methane reforming, water electrolysis, and pressure swing adsorption.'}]}\n",
      "Document: 30\n",
      "Topics: ['NEW: [1] Hydrogen Production: Mentions methods and processes for producing hydrogen from gas mixtures. This topic is broad enough to accommodate various hydrogen production techniques and technologies, such as steam methane reforming, water electrolysis, and pressure swing adsorption.']\n",
      "--------------------\n"
     ]
    },
    {
     "name": "stderr",
     "output_type": "stream",
     "text": [
      " 62%|██████▏   | 31/50 [01:33<00:52,  2.77s/it]"
     ]
    },
    {
     "name": "stdout",
     "output_type": "stream",
     "text": [
      "response output: {'id': 'US-11582842-B2', 'response_topics': [{'DUP': False, 'lvl': 1, 'name': 'Microwave Technology', 'desc': 'Mentions the use of microwaves for cooking and heating applications.'}, {'DUP': True, 'lvl': 1, 'name': 'Control Systems', 'desc': 'Mentions the use of controllers for managing and adjusting microwave power.'}, {'DUP': True, 'lvl': 1, 'name': 'Heating Systems', 'desc': 'Mentions the use of microwave heating for defrosting and cooking applications.'}]}\n",
      "Document: 31\n",
      "Topics: ['NEW: [1] Microwave Technology: Mentions the use of microwaves for cooking and heating applications.', 'DUP: [1] Control Systems: Mentions the use of controllers for managing and adjusting microwave power.', 'DUP: [1] Heating Systems: Mentions the use of microwave heating for defrosting and cooking applications.']\n",
      "--------------------\n"
     ]
    },
    {
     "name": "stderr",
     "output_type": "stream",
     "text": [
      " 64%|██████▍   | 32/50 [01:35<00:47,  2.66s/it]"
     ]
    },
    {
     "name": "stdout",
     "output_type": "stream",
     "text": [
      "response output: {'id': 'US-10011357-B2', 'response_topics': [{'DUP': True, 'lvl': 1, 'name': 'Vehicle Computing Systems', 'desc': 'Mentions the use of a computing system within a passenger vehicle.'}, {'DUP': False, 'lvl': 1, 'name': 'User Interface Systems', 'desc': 'Mentions the design and implementation of an intuitive user interface.'}, {'DUP': False, 'lvl': 1, 'name': 'Passenger Entertainment Systems', 'desc': 'Mentions the provision of entertainment systems for passengers in vehicles.'}, {'DUP': True, 'lvl': 1, 'name': 'Manufacturing', 'desc': 'Mentions the process of creating or producing the integrated system module.'}, {'DUP': True, 'lvl': 1, 'name': 'Mechanical Engineering', 'desc': 'Mentions the design and implementation of a system suitable for installation in a passenger vehicle.'}]}\n",
      "Document: 32\n",
      "Topics: ['DUP: [1] Vehicle Computing Systems: Mentions the use of a computing system within a passenger vehicle.', 'NEW: [1] User Interface Systems: Mentions the design and implementation of an intuitive user interface.', 'NEW: [1] Passenger Entertainment Systems: Mentions the provision of entertainment systems for passengers in vehicles.', 'DUP: [1] Manufacturing: Mentions the process of creating or producing the integrated system module.', 'DUP: [1] Mechanical Engineering: Mentions the design and implementation of a system suitable for installation in a passenger vehicle.']\n",
      "--------------------\n"
     ]
    },
    {
     "name": "stderr",
     "output_type": "stream",
     "text": [
      " 66%|██████▌   | 33/50 [01:37<00:41,  2.41s/it]"
     ]
    },
    {
     "name": "stdout",
     "output_type": "stream",
     "text": [
      "response output: {'id': 'US-10491137-B2', 'response_topics': [{'DUP': True, 'lvl': 1, 'name': 'Power Electronics', 'desc': 'Mentions power supply systems and their components, including power factor correction circuits, inverters, buses, and switching circuits.'}]}\n",
      "Document: 33\n",
      "Topics: ['DUP: [1] Power Electronics: Mentions power supply systems and their components, including power factor correction circuits, inverters, buses, and switching circuits.']\n",
      "--------------------\n"
     ]
    },
    {
     "name": "stderr",
     "output_type": "stream",
     "text": [
      " 68%|██████▊   | 34/50 [01:45<01:03,  3.96s/it]"
     ]
    },
    {
     "name": "stdout",
     "output_type": "stream",
     "text": [
      "response output: {'id': 'US-11374359-B2', 'response_topics': [{'DUP': True, 'lvl': 1, 'name': 'Electrical Engineering', 'desc': 'Mentions electrical components and systems.'}, {'DUP': True, 'lvl': 1, 'name': 'Engineering', 'desc': 'Mentions engineering practices and principles.'}, {'DUP': False, 'lvl': 1, 'name': 'Vehicle Technology', 'desc': 'Mentions vehicles and related technology.'}, {'DUP': True, 'lvl': 1, 'name': 'Mechanical Engineering', 'desc': 'Mentions mechanical components and systems.'}, {'DUP': True, 'lvl': 1, 'name': 'Manufacturing', 'desc': 'Mentions manufacturing processes.'}, {'DUP': True, 'lvl': 1, 'name': 'Material Science', 'desc': 'Mentions properties and behavior of materials.'}]}\n",
      "Document: 34\n",
      "Topics: ['DUP: [1] Electrical Engineering: Mentions electrical components and systems.', 'DUP: [1] Engineering: Mentions engineering practices and principles.', 'NEW: [1] Vehicle Technology: Mentions vehicles and related technology.', 'DUP: [1] Mechanical Engineering: Mentions mechanical components and systems.', 'DUP: [1] Manufacturing: Mentions manufacturing processes.', 'DUP: [1] Material Science: Mentions properties and behavior of materials.']\n",
      "--------------------\n"
     ]
    },
    {
     "name": "stderr",
     "output_type": "stream",
     "text": [
      " 70%|███████   | 35/50 [01:48<00:57,  3.82s/it]"
     ]
    },
    {
     "name": "stdout",
     "output_type": "stream",
     "text": [
      "response output: {'id': 'US-11096113-B2', 'response_topics': [{'DUP': True, 'lvl': 1, 'name': 'Communication Technology', 'desc': 'Mentions the field of communication and related technologies.'}, {'DUP': False, 'lvl': 1, 'name': 'Wireless Communications', 'desc': 'Mentions specific communication methods using wireless signals.'}, {'DUP': True, 'lvl': 1, 'name': 'Signal Processing', 'desc': 'Mentions the manipulation and analysis of signals.'}, {'DUP': True, 'lvl': 1, 'name': 'Telecommunications', 'desc': 'Mentions the transmission of information over long distances.'}, {'DUP': True, 'lvl': 1, 'name': 'Mobile Communications', 'desc': 'Mentions communication using mobile devices.'}, {'DUP': False, 'lvl': 1, 'name': 'Broadcasting', 'desc': 'Mentions the transmission of information to a large audience.'}, {'DUP': False, 'lvl': 1, 'name': 'Network Devices', 'desc': 'Mentions devices used in communication networks.'}]}\n",
      "Document: 35\n",
      "Topics: ['DUP: [1] Communication Technology: Mentions the field of communication and related technologies.', 'NEW: [1] Wireless Communications: Mentions specific communication methods using wireless signals.', 'DUP: [1] Signal Processing: Mentions the manipulation and analysis of signals.', 'DUP: [1] Telecommunications: Mentions the transmission of information over long distances.', 'DUP: [1] Mobile Communications: Mentions communication using mobile devices.', 'NEW: [1] Broadcasting: Mentions the transmission of information to a large audience.', 'NEW: [1] Network Devices: Mentions devices used in communication networks.']\n",
      "--------------------\n"
     ]
    },
    {
     "name": "stderr",
     "output_type": "stream",
     "text": [
      " 72%|███████▏  | 36/50 [01:51<00:48,  3.49s/it]"
     ]
    },
    {
     "name": "stdout",
     "output_type": "stream",
     "text": [
      "response output: {'id': 'US-11415968-B2', 'response_topics': [{'DUP': True, 'lvl': 1, 'name': 'Manufacturing', 'desc': 'Mentions the process of producing goods or services, with a focus on methods to reduce or eliminate the need for shims in manufacturing assemblies.'}, {'DUP': False, 'lvl': 1, 'name': 'Metrology', 'desc': 'Mentions the science of measurement, specifically the scanning of parts to determine actual manufacturing dimensions.'}, {'DUP': False, 'lvl': 1, 'name': 'Quality Control', 'desc': 'Mentions the process of ensuring that products or services meet specified requirements.'}, {'DUP': True, 'lvl': 1, 'name': 'Aviation Technology', 'desc': 'Mentions the manufacturing of aircraft wings.'}]}\n",
      "Document: 36\n",
      "Topics: ['DUP: [1] Manufacturing: Mentions the process of producing goods or services, with a focus on methods to reduce or eliminate the need for shims in manufacturing assemblies.', 'NEW: [1] Metrology: Mentions the science of measurement, specifically the scanning of parts to determine actual manufacturing dimensions.', 'NEW: [1] Quality Control: Mentions the process of ensuring that products or services meet specified requirements.', 'DUP: [1] Aviation Technology: Mentions the manufacturing of aircraft wings.']\n",
      "--------------------\n"
     ]
    },
    {
     "name": "stderr",
     "output_type": "stream",
     "text": [
      " 74%|███████▍  | 37/50 [01:53<00:41,  3.18s/it]"
     ]
    },
    {
     "name": "stdout",
     "output_type": "stream",
     "text": [
      "response output: {'id': 'US-10300792-B2', 'response_topics': [{'DUP': True, 'lvl': 1, 'name': 'Vehicle Control Systems', 'desc': 'Mentions the control mechanisms in motor vehicles.'}, {'DUP': True, 'lvl': 1, 'name': 'Sensing Technology', 'desc': 'Mentions the use of sensors and their applications.'}, {'DUP': True, 'lvl': 1, 'name': 'Mechanical Engineering', 'desc': 'Mentions the design and manufacturing of mechanical systems.'}]}\n",
      "Document: 37\n",
      "Topics: ['DUP: [1] Vehicle Control Systems: Mentions the control mechanisms in motor vehicles.', 'DUP: [1] Sensing Technology: Mentions the use of sensors and their applications.', 'DUP: [1] Mechanical Engineering: Mentions the design and manufacturing of mechanical systems.']\n",
      "--------------------\n"
     ]
    },
    {
     "name": "stderr",
     "output_type": "stream",
     "text": [
      " 76%|███████▌  | 38/50 [01:57<00:41,  3.47s/it]"
     ]
    },
    {
     "name": "stdout",
     "output_type": "stream",
     "text": [
      "response output: {'id': 'US-10770747-B2', 'response_topics': [{'DUP': True, 'lvl': 1, 'name': 'Battery Technology', 'desc': 'Mentions the study and development of batteries, including their components and properties.'}]}\n",
      "Document: 38\n",
      "Topics: ['DUP: [1] Battery Technology: Mentions the study and development of batteries, including their components and properties.']\n",
      "--------------------\n"
     ]
    },
    {
     "name": "stderr",
     "output_type": "stream",
     "text": [
      " 78%|███████▊  | 39/50 [02:01<00:37,  3.42s/it]"
     ]
    },
    {
     "name": "stdout",
     "output_type": "stream",
     "text": [
      "response output: {'id': 'US-11669085-B2', 'response_topics': [{'DUP': False, 'lvl': 1, 'name': 'Digital Twin Technology', 'desc': 'Mentions the creation and use of virtual representations of physical systems for analysis and optimization.'}, {'DUP': False, 'lvl': 1, 'name': 'Industrial Systems', 'desc': 'Mentions large-scale mechanical, electrical, or chemical systems used in manufacturing and production.'}, {'DUP': True, 'lvl': 1, 'name': 'Optimization', 'desc': 'Mentions the process of maximizing or minimizing a particular objective or set of objectives.'}, {'DUP': False, 'lvl': 1, 'name': 'Simulation', 'desc': 'Mentions the imitation of the behavior of real-world systems under given conditions.'}, {'DUP': False, 'lvl': 1, 'name': 'System Settings', 'desc': 'Mentions the adjustable parameters or configurations of a system.'}]}\n",
      "Document: 39\n",
      "Topics: ['NEW: [1] Digital Twin Technology: Mentions the creation and use of virtual representations of physical systems for analysis and optimization.', 'NEW: [1] Industrial Systems: Mentions large-scale mechanical, electrical, or chemical systems used in manufacturing and production.', 'DUP: [1] Optimization: Mentions the process of maximizing or minimizing a particular objective or set of objectives.', 'NEW: [1] Simulation: Mentions the imitation of the behavior of real-world systems under given conditions.', 'NEW: [1] System Settings: Mentions the adjustable parameters or configurations of a system.']\n",
      "--------------------\n"
     ]
    },
    {
     "name": "stderr",
     "output_type": "stream",
     "text": [
      " 80%|████████  | 40/50 [02:04<00:32,  3.21s/it]"
     ]
    },
    {
     "name": "stdout",
     "output_type": "stream",
     "text": [
      "response output: {'id': 'US-11473552-B2', 'response_topics': [{'DUP': False, 'lvl': 1, 'name': 'Hydropower', 'desc': 'Mentions the generation of power from moving water.'}, {'DUP': True, 'lvl': 1, 'name': 'Heat Exchangers', 'desc': 'Mentions devices used for heat exchange between two fluids.'}, {'DUP': True, 'lvl': 1, 'name': 'Refrigeration', 'desc': 'Mentions the process of removing heat from a space or substance.'}, {'DUP': True, 'lvl': 1, 'name': 'Engineering', 'desc': 'Mentions the application of scientific, economic, social, and practical knowledge to design, build, and maintain structures, machines, devices, systems, and processes.'}]}\n",
      "Document: 40\n",
      "Topics: ['NEW: [1] Hydropower: Mentions the generation of power from moving water.', 'DUP: [1] Heat Exchangers: Mentions devices used for heat exchange between two fluids.', 'DUP: [1] Refrigeration: Mentions the process of removing heat from a space or substance.', 'DUP: [1] Engineering: Mentions the application of scientific, economic, social, and practical knowledge to design, build, and maintain structures, machines, devices, systems, and processes.']\n",
      "--------------------\n"
     ]
    },
    {
     "name": "stderr",
     "output_type": "stream",
     "text": [
      " 82%|████████▏ | 41/50 [02:06<00:27,  3.05s/it]"
     ]
    },
    {
     "name": "stdout",
     "output_type": "stream",
     "text": [
      "response output: {'id': 'US-11073019-B2', 'response_topics': [{'DUP': True, 'lvl': 1, 'name': 'Material Science', 'desc': 'Mentions the properties and behavior of various materials.'}, {'DUP': True, 'lvl': 1, 'name': 'Engineering', 'desc': 'Mentions the application of scientific, economic, social, and practical knowledge to design, build, and maintain structures, machines, devices, systems, and processes.'}, {'DUP': True, 'lvl': 1, 'name': 'Mechanical Engineering', 'desc': 'A subfield of engineering that deals with the design, manufacturing, and maintenance of mechanical systems.'}, {'DUP': False, 'lvl': 1, 'name': 'Gas Turbine Engines', 'desc': 'Engines that use a gas turbine for power generation, in which combustion of fuel occurs within the turbine, producing a high-speed gas flow.'}]}\n",
      "Document: 41\n",
      "Topics: ['DUP: [1] Material Science: Mentions the properties and behavior of various materials.', 'DUP: [1] Engineering: Mentions the application of scientific, economic, social, and practical knowledge to design, build, and maintain structures, machines, devices, systems, and processes.', 'DUP: [1] Mechanical Engineering: A subfield of engineering that deals with the design, manufacturing, and maintenance of mechanical systems.', 'NEW: [1] Gas Turbine Engines: Engines that use a gas turbine for power generation, in which combustion of fuel occurs within the turbine, producing a high-speed gas flow.']\n",
      "--------------------\n"
     ]
    },
    {
     "name": "stderr",
     "output_type": "stream",
     "text": [
      " 84%|████████▍ | 42/50 [02:08<00:21,  2.75s/it]"
     ]
    },
    {
     "name": "stdout",
     "output_type": "stream",
     "text": [
      "response output: {'id': 'US-11916205-B2', 'response_topics': [{'DUP': True, 'lvl': 1, 'name': 'Energy Storage', 'desc': 'Mentions the use and implementation of energy storage systems.'}, {'DUP': True, 'lvl': 1, 'name': 'Battery Technology', 'desc': 'Mentions specific technology used for energy storage, batteries.'}]}\n",
      "Document: 42\n",
      "Topics: ['DUP: [1] Energy Storage: Mentions the use and implementation of energy storage systems.', 'DUP: [1] Battery Technology: Mentions specific technology used for energy storage, batteries.']\n",
      "--------------------\n"
     ]
    },
    {
     "name": "stderr",
     "output_type": "stream",
     "text": [
      " 86%|████████▌ | 43/50 [02:10<00:17,  2.57s/it]"
     ]
    },
    {
     "name": "stdout",
     "output_type": "stream",
     "text": [
      "response output: {'id': 'US-11742516-B2', 'response_topics': [{'DUP': True, 'lvl': 1, 'name': 'Solid State Materials', 'desc': 'Mentions the properties and characteristics of solid materials.'}, {'DUP': True, 'lvl': 1, 'name': 'Battery Technology', 'desc': 'Mentions the design, development, and application of batteries.'}, {'DUP': True, 'lvl': 1, 'name': 'Material Science', 'desc': 'Mentions the study of the properties and behavior of materials.'}]}\n",
      "Document: 43\n",
      "Topics: ['DUP: [1] Solid State Materials: Mentions the properties and characteristics of solid materials.', 'DUP: [1] Battery Technology: Mentions the design, development, and application of batteries.', 'DUP: [1] Material Science: Mentions the study of the properties and behavior of materials.']\n",
      "--------------------\n"
     ]
    },
    {
     "name": "stderr",
     "output_type": "stream",
     "text": [
      " 88%|████████▊ | 44/50 [02:13<00:16,  2.71s/it]"
     ]
    },
    {
     "name": "stdout",
     "output_type": "stream",
     "text": [
      "response output: {'id': 'US-11803179-B2', 'response_topics': [{'DUP': False, 'lvl': 1, 'name': 'SCADA Systems', 'desc': 'Mentions Supervisory Control and Data Acquisition systems and their components.'}, {'DUP': False, 'lvl': 1, 'name': 'Web Technologies', 'desc': 'Mentions Web HMI systems, Web browsers, and SVG data.'}, {'DUP': True, 'lvl': 1, 'name': 'Signal Processing', 'desc': 'Mentions receiving and processing signal data.'}, {'DUP': False, 'lvl': 1, 'name': 'Data Processing', 'desc': 'Mentions generating and reading data for display purposes.'}, {'DUP': False, 'lvl': 1, 'name': 'Graphics', 'desc': 'Mentions SVG data and drawing generation.'}, {'DUP': False, 'lvl': 1, 'name': 'Runtime Systems', 'desc': 'Mentions HMI Web runtime and its operation on Web browsers.'}]}\n",
      "Document: 44\n",
      "Topics: ['NEW: [1] SCADA Systems: Mentions Supervisory Control and Data Acquisition systems and their components.', 'NEW: [1] Web Technologies: Mentions Web HMI systems, Web browsers, and SVG data.', 'DUP: [1] Signal Processing: Mentions receiving and processing signal data.', 'NEW: [1] Data Processing: Mentions generating and reading data for display purposes.', 'NEW: [1] Graphics: Mentions SVG data and drawing generation.', 'NEW: [1] Runtime Systems: Mentions HMI Web runtime and its operation on Web browsers.']\n",
      "--------------------\n"
     ]
    },
    {
     "name": "stderr",
     "output_type": "stream",
     "text": [
      " 90%|█████████ | 45/50 [02:21<00:20,  4.03s/it]"
     ]
    },
    {
     "name": "stdout",
     "output_type": "stream",
     "text": [
      "response output: {'id': 'US-11072536-B2', 'response_topics': [{'DUP': True, 'lvl': 1, 'name': 'Energy Storage', 'desc': 'Mentions the storage of carbon dioxide and the production of hydrogen as energy carriers.'}, {'DUP': True, 'lvl': 1, 'name': 'Chemical Engineering', 'desc': 'Mentions the production of chemicals, specifically ammonia, through chemical reactions.'}, {'DUP': True, 'lvl': 1, 'name': 'Engineering', 'desc': 'Mentions the design and implementation of a process for extracting and producing ammonia from methane-hydrate.'}, {'DUP': True, 'lvl': 1, 'name': 'Manufacturing', 'desc': 'Mentions the production of ammonia on-site at methane-hydrate extraction sites.'}, {'DUP': True, 'lvl': 1, 'name': 'Renewable Energy', 'desc': 'Mentions the extraction of methane from methane-hydrate as a renewable energy source.'}, {'DUP': True, 'lvl': 1, 'name': 'Hydrogen Production', 'desc': 'Mentions the production of hydrogen through the steam reforming and water-gas shift reactions.'}, {'DUP': False, 'lvl': 1, 'name': 'Carbon Capture and Storage', 'desc': 'Mentions the recycling and use of carbon dioxide in the production process.'}, {'DUP': False, 'lvl': 1, 'name': 'Transportation', 'desc': 'Mentions the transportation of ammonia as a liquid fuel and chemical feedstock.'}, {'DUP': False, 'lvl': 1, 'name': 'Fertilizer Industry', 'desc': 'Mentions the production of ammonia as a fertilizer.'}]}\n",
      "Document: 45\n",
      "Topics: ['DUP: [1] Energy Storage: Mentions the storage of carbon dioxide and the production of hydrogen as energy carriers.', 'DUP: [1] Chemical Engineering: Mentions the production of chemicals, specifically ammonia, through chemical reactions.', 'DUP: [1] Engineering: Mentions the design and implementation of a process for extracting and producing ammonia from methane-hydrate.', 'DUP: [1] Manufacturing: Mentions the production of ammonia on-site at methane-hydrate extraction sites.', 'DUP: [1] Renewable Energy: Mentions the extraction of methane from methane-hydrate as a renewable energy source.', 'DUP: [1] Hydrogen Production: Mentions the production of hydrogen through the steam reforming and water-gas shift reactions.', 'NEW: [1] Carbon Capture and Storage: Mentions the recycling and use of carbon dioxide in the production process.', 'NEW: [1] Transportation: Mentions the transportation of ammonia as a liquid fuel and chemical feedstock.', 'NEW: [1] Fertilizer Industry: Mentions the production of ammonia as a fertilizer.']\n",
      "--------------------\n"
     ]
    },
    {
     "name": "stderr",
     "output_type": "stream",
     "text": [
      " 92%|█████████▏| 46/50 [02:24<00:15,  3.86s/it]"
     ]
    },
    {
     "name": "stdout",
     "output_type": "stream",
     "text": [
      "response output: {'id': 'US-11519629-B2', 'response_topics': [{'DUP': False, 'lvl': 1, 'name': 'HVAC Systems', 'desc': 'Mentions heating, ventilation, and air conditioning systems and their components.'}, {'DUP': True, 'lvl': 1, 'name': 'Control Systems', 'desc': 'Mentions systems used to regulate and direct the operation of other systems or processes.'}, {'DUP': False, 'lvl': 1, 'name': 'Motor Drives', 'desc': 'Mentions electric motors and their control systems.'}, {'DUP': False, 'lvl': 1, 'name': 'Power Management', 'desc': 'Mentions the process of managing and controlling the consumption, distribution, and generation of power.'}, {'DUP': False, 'lvl': 1, 'name': 'Sensors and Measurement', 'desc': 'Mentions devices used to measure and detect physical quantities and convert them into electrical signals.'}, {'DUP': False, 'lvl': 1, 'name': 'Testing and Calibration', 'desc': 'Mentions the process of evaluating the performance of equipment, systems, or processes and making adjustments as necessary.'}]}\n",
      "Document: 46\n",
      "Topics: ['NEW: [1] HVAC Systems: Mentions heating, ventilation, and air conditioning systems and their components.', 'DUP: [1] Control Systems: Mentions systems used to regulate and direct the operation of other systems or processes.', 'NEW: [1] Motor Drives: Mentions electric motors and their control systems.', 'NEW: [1] Power Management: Mentions the process of managing and controlling the consumption, distribution, and generation of power.', 'NEW: [1] Sensors and Measurement: Mentions devices used to measure and detect physical quantities and convert them into electrical signals.', 'NEW: [1] Testing and Calibration: Mentions the process of evaluating the performance of equipment, systems, or processes and making adjustments as necessary.']\n",
      "--------------------\n"
     ]
    },
    {
     "name": "stderr",
     "output_type": "stream",
     "text": [
      " 94%|█████████▍| 47/50 [02:26<00:09,  3.29s/it]"
     ]
    },
    {
     "name": "stdout",
     "output_type": "stream",
     "text": [
      "response output: {'id': 'US-10115520-B2', 'response_topics': [{'DUP': False, 'lvl': 1, 'name': 'Wireless Power Transfer', 'desc': 'Mentions the technology and methods for enabling wireless power transfer and charging of various devices and batteries. This topic is generalizable and can accommodate future subtopics related to specific wireless power transfer technologies, applications, and devices.'}]}\n",
      "Document: 47\n",
      "Topics: ['NEW: [1] Wireless Power Transfer: Mentions the technology and methods for enabling wireless power transfer and charging of various devices and batteries. This topic is generalizable and can accommodate future subtopics related to specific wireless power transfer technologies, applications, and devices.']\n",
      "--------------------\n"
     ]
    },
    {
     "name": "stderr",
     "output_type": "stream",
     "text": [
      " 96%|█████████▌| 48/50 [02:28<00:06,  3.04s/it]"
     ]
    },
    {
     "name": "stdout",
     "output_type": "stream",
     "text": [
      "response output: {'id': 'US-10742162-B2', 'response_topics': [{'DUP': True, 'lvl': 1, 'name': 'Solar Cells', 'desc': 'Mentions solar cell modules and their securing structure.'}, {'DUP': True, 'lvl': 1, 'name': 'Mechanical Engineering', 'desc': 'Mentions the design and functionality of mechanical systems.'}, {'DUP': True, 'lvl': 1, 'name': 'Manufacturing', 'desc': 'Mentions the process of producing goods, including solar cell modules.'}]}\n",
      "Document: 48\n",
      "Topics: ['DUP: [1] Solar Cells: Mentions solar cell modules and their securing structure.', 'DUP: [1] Mechanical Engineering: Mentions the design and functionality of mechanical systems.', 'DUP: [1] Manufacturing: Mentions the process of producing goods, including solar cell modules.']\n",
      "--------------------\n"
     ]
    },
    {
     "name": "stderr",
     "output_type": "stream",
     "text": [
      " 98%|█████████▊| 49/50 [02:30<00:02,  2.74s/it]"
     ]
    },
    {
     "name": "stdout",
     "output_type": "stream",
     "text": [
      "response output: {'id': 'US-10380056-B2', 'response_topics': [{'DUP': False, 'lvl': 1, 'name': 'Memory Technology', 'desc': 'Mentions memory devices and their selectable command ports, as well as memory systems and their efficient interconnect usage.'}]}\n",
      "Document: 49\n",
      "Topics: ['NEW: [1] Memory Technology: Mentions memory devices and their selectable command ports, as well as memory systems and their efficient interconnect usage.']\n",
      "--------------------\n"
     ]
    },
    {
     "name": "stderr",
     "output_type": "stream",
     "text": [
      "100%|██████████| 50/50 [02:35<00:00,  3.11s/it]"
     ]
    },
    {
     "name": "stdout",
     "output_type": "stream",
     "text": [
      "response output: {'id': 'US-09960314-B2', 'response_topics': [{'DUP': True, 'lvl': 1, 'name': 'Chemistry', 'desc': 'Mentions the study of substances and their properties and how they interact with one another.'}, {'DUP': True, 'lvl': 1, 'name': 'Material Science', 'desc': 'Mentions the scientific study of materials to understand their properties and how they can be manipulated for various applications.'}, {'DUP': True, 'lvl': 1, 'name': 'Semiconductor Materials', 'desc': 'Mentions materials used in semiconductor devices, such as silicon, gallium arsenide, and cadmium sulfide.'}, {'DUP': False, 'lvl': 1, 'name': 'Nanotechnology', 'desc': 'Mentions the manipulation of materials at the nanoscale level to create new materials and devices with unique properties.'}, {'DUP': False, 'lvl': 1, 'name': 'Coating Technology', 'desc': 'Mentions the application of thin films to surfaces for protective or decorative purposes.'}, {'DUP': True, 'lvl': 1, 'name': 'Solar Cells', 'desc': 'Mentions devices that convert sunlight into electricity.'}, {'DUP': False, 'lvl': 1, 'name': 'Photovoltaics', 'desc': 'Mentions the conversion of light energy into electrical energy using semiconductors.'}, {'DUP': False, 'lvl': 1, 'name': 'Thin Film Technology', 'desc': 'Mentions the deposition of thin films on substrates for various applications, such as solar cells, displays, and sensors.'}, {'DUP': False, 'lvl': 1, 'name': 'Inorganic Chemistry', 'desc': 'Mentions the study of inorganic compounds and their properties.'}, {'DUP': False, 'lvl': 1, 'name': 'Salts', 'desc': 'Mentions compounds formed by the reaction of an acid and a base, consisting of a positive ion and a negative ion.'}]}\n",
      "Document: 50\n",
      "Topics: ['DUP: [1] Chemistry: Mentions the study of substances and their properties and how they interact with one another.', 'DUP: [1] Material Science: Mentions the scientific study of materials to understand their properties and how they can be manipulated for various applications.', 'DUP: [1] Semiconductor Materials: Mentions materials used in semiconductor devices, such as silicon, gallium arsenide, and cadmium sulfide.', 'NEW: [1] Nanotechnology: Mentions the manipulation of materials at the nanoscale level to create new materials and devices with unique properties.', 'NEW: [1] Coating Technology: Mentions the application of thin films to surfaces for protective or decorative purposes.', 'DUP: [1] Solar Cells: Mentions devices that convert sunlight into electricity.', 'NEW: [1] Photovoltaics: Mentions the conversion of light energy into electrical energy using semiconductors.', 'NEW: [1] Thin Film Technology: Mentions the deposition of thin films on substrates for various applications, such as solar cells, displays, and sensors.', 'NEW: [1] Inorganic Chemistry: Mentions the study of inorganic compounds and their properties.', 'NEW: [1] Salts: Mentions compounds formed by the reaction of an acid and a base, consisting of a positive ion and a negative ion.']\n",
      "--------------------\n"
     ]
    },
    {
     "name": "stderr",
     "output_type": "stream",
     "text": [
      "\n"
     ]
    }
   ],
   "source": [
    "# Description: Example of how to run the generation script\n",
    "%run generation_1.py --deployment_name $model_lookup_name \\\n",
    "                    --max_tokens 300 --temperature 0.0 --top_p 0.0 \\\n",
    "                    --data $data_sample \\\n",
    "                    --prompt_file $generation_prompt \\\n",
    "                    --seed_file $seed_1 \\\n",
    "                    --res_op_file $res_generation_out \\\n",
    "                    --out_file $generation_out \\\n",
    "                    --topic_file $generation_topic \\\n",
    "                    --verbose True \\\n",
    "                    --provider together.ai"
   ]
  },
  {
   "cell_type": "code",
   "execution_count": null,
   "metadata": {},
   "outputs": [],
   "source": []
  }
 ],
 "metadata": {
  "kernelspec": {
   "display_name": "e4_NLP_project",
   "language": "python",
   "name": "e4_nlp_project"
  },
  "language_info": {
   "codemirror_mode": {
    "name": "ipython",
    "version": 3
   },
   "file_extension": ".py",
   "mimetype": "text/x-python",
   "name": "python",
   "nbconvert_exporter": "python",
   "pygments_lexer": "ipython3",
   "version": "3.11.7"
  }
 },
 "nbformat": 4,
 "nbformat_minor": 2
}
